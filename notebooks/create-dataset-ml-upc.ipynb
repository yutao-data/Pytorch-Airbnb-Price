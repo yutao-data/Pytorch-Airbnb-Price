{
 "cells": [
  {
   "cell_type": "code",
   "execution_count": 1,
   "id": "14e33c82",
   "metadata": {
    "execution": {
     "iopub.execute_input": "2024-03-22T12:33:20.623876Z",
     "iopub.status.busy": "2024-03-22T12:33:20.623571Z",
     "iopub.status.idle": "2024-03-22T12:33:20.684508Z",
     "shell.execute_reply": "2024-03-22T12:33:20.683744Z"
    },
    "papermill": {
     "duration": 0.067338,
     "end_time": "2024-03-22T12:33:20.686559",
     "exception": false,
     "start_time": "2024-03-22T12:33:20.619221",
     "status": "completed"
    },
    "tags": []
   },
   "outputs": [],
   "source": [
    "import requests\n",
    "import csv\n",
    "from itertools import islice"
   ]
  },
  {
   "cell_type": "code",
   "execution_count": 2,
   "id": "7cf06768",
   "metadata": {
    "execution": {
     "iopub.execute_input": "2024-03-22T12:33:20.694638Z",
     "iopub.status.busy": "2024-03-22T12:33:20.694333Z",
     "iopub.status.idle": "2024-03-22T12:33:20.704134Z",
     "shell.execute_reply": "2024-03-22T12:33:20.703219Z"
    },
    "papermill": {
     "duration": 0.015917,
     "end_time": "2024-03-22T12:33:20.705726",
     "exception": false,
     "start_time": "2024-03-22T12:33:20.689809",
     "status": "completed"
    },
    "tags": []
   },
   "outputs": [],
   "source": [
    "# API_KEY = \"CEE0XTVWHEEAFGSF\"\n",
    "# BASE_URL = \"https://www.alphavantage.co/query\"\n",
    "# FUNCTION = \"TIME_SERIES_DAILY\"\n",
    "# OUTPUTSIZE = \"full\"\n",
    "# DATATYPE = \"csv\"\n",
    "\n",
    "# symbols = [\"OKTA\", \"OKYO\", \"OLB\", \"OLED\", \"OLK\", \"OLLI\", \"OLMA\", \"OLN\", \"OLO\", \"OLP\"]\n",
    "\n",
    "# file_name = \"all_stocks_daily_data.csv\"\n",
    "\n",
    "# with open(file_name, 'w', newline='') as file:\n",
    "#     writer = csv.writer(file)\n",
    "#     writer.writerow([\"Symbol\", \"Timestamp\", \"Open\", \"High\", \"Low\", \"Close\", \"Volume\"])\n",
    "\n",
    "# for symbol in symbols:\n",
    "#     url = f\"{BASE_URL}?function={FUNCTION}&symbol={symbol}&outputsize={OUTPUTSIZE}&apikey={API_KEY}&datatype={DATATYPE}\"\n",
    "    \n",
    "#     r = requests.get(url)\n",
    "\n",
    "#     if r.status_code == 200:\n",
    "#         data_lines = r.text.strip().split('\\n')[1:]\n",
    "        \n",
    "#         with open(file_name, 'a', newline='') as file:\n",
    "#             writer = csv.writer(file)\n",
    "#             for line in data_lines:\n",
    "#                 writer.writerow([symbol] + line.split(','))\n",
    "#     else:\n",
    "#         print(f\"Error fetching data for {symbol}: {r.status_code}\")\n",
    "\n",
    "# print(\"Data fetching and writing complete.\")"
   ]
  },
  {
   "cell_type": "markdown",
   "id": "6a0ce471",
   "metadata": {
    "papermill": {
     "duration": 0.002014,
     "end_time": "2024-03-22T12:33:20.710136",
     "exception": false,
     "start_time": "2024-03-22T12:33:20.708122",
     "status": "completed"
    },
    "tags": []
   },
   "source": [
    "## Get Stock Symbol Data"
   ]
  },
  {
   "cell_type": "code",
   "execution_count": 3,
   "id": "d9087b0d",
   "metadata": {
    "execution": {
     "iopub.execute_input": "2024-03-22T12:33:20.716476Z",
     "iopub.status.busy": "2024-03-22T12:33:20.716180Z",
     "iopub.status.idle": "2024-03-22T12:33:20.719781Z",
     "shell.execute_reply": "2024-03-22T12:33:20.718977Z"
    },
    "papermill": {
     "duration": 0.008496,
     "end_time": "2024-03-22T12:33:20.721411",
     "exception": false,
     "start_time": "2024-03-22T12:33:20.712915",
     "status": "completed"
    },
    "tags": []
   },
   "outputs": [],
   "source": [
    "# # Our Alpha Vantage API key is: CEE0XTVWHEEAFGSF\n",
    "# url = 'https://www.alphavantage.co/query?function=LISTING_STATUS&apikey=CEE0XTVWHEEAFGSF'\n",
    "# r = requests.get(url)\n",
    "# data = r.text\n",
    "\n",
    "# file_name = 'stock_symbol_data.csv'\n",
    "\n",
    "# with open(file_name, 'w') as file:\n",
    "#     file.write(data)\n",
    "\n",
    "# # print(data)"
   ]
  },
  {
   "cell_type": "markdown",
   "id": "80e96911",
   "metadata": {
    "papermill": {
     "duration": 0.001899,
     "end_time": "2024-03-22T12:33:20.725647",
     "exception": false,
     "start_time": "2024-03-22T12:33:20.723748",
     "status": "completed"
    },
    "tags": []
   },
   "source": [
    "## Get 25 Stock Data"
   ]
  },
  {
   "cell_type": "code",
   "execution_count": 4,
   "id": "b28af139",
   "metadata": {
    "execution": {
     "iopub.execute_input": "2024-03-22T12:33:20.731330Z",
     "iopub.status.busy": "2024-03-22T12:33:20.731049Z",
     "iopub.status.idle": "2024-03-22T12:33:26.536288Z",
     "shell.execute_reply": "2024-03-22T12:33:26.535083Z"
    },
    "papermill": {
     "duration": 5.810571,
     "end_time": "2024-03-22T12:33:26.538467",
     "exception": false,
     "start_time": "2024-03-22T12:33:20.727896",
     "status": "completed"
    },
    "tags": []
   },
   "outputs": [
    {
     "name": "stdout",
     "output_type": "stream",
     "text": [
      "Fetching data for AES\n",
      "Fetching data for AESI\n",
      "Fetching data for AESR\n",
      "Fetching data for AETH\n",
      "Fetching data for AEVA\n",
      "Fetching data for AEVA-WS\n",
      "Fetching data for AEYE\n",
      "Fetching data for AEZS\n",
      "Fetching data for AFAR\n",
      "Fetching data for AFARU\n",
      "Fetching data for AFARW\n",
      "Fetching data for AFB\n",
      "Fetching data for AFBI\n",
      "Fetching data for AFCG\n",
      "Fetching data for AFG\n",
      "Fetching data for AFGB\n",
      "Fetching data for AFGC\n",
      "Fetching data for AFGD\n",
      "Fetching data for AFGE\n",
      "Fetching data for AFIB\n",
      "Fetching data for AFIF\n",
      "Fetching data for AFJK\n",
      "Fetching data for AFJKR\n",
      "Fetching data for AFJKU\n",
      "Fetching data for AFK\n"
     ]
    }
   ],
   "source": [
    "# Availble keys : CEE0XTVWHEEAFGSF, A495XDVLTTZFK3BD\n",
    "API_KEY = \"A495XDVLTTZFK3BD\"\n",
    "BASE_URL = \"https://www.alphavantage.co/query\"\n",
    "FUNCTION = \"TIME_SERIES_DAILY\"\n",
    "OUTPUTSIZE = \"full\"  \n",
    "DATATYPE = \"csv\"\n",
    "limit_daily = 25\n",
    "\n",
    "def read_stock_symbols(file_name, limit=limit_daily):\n",
    "    symbols = []\n",
    "    with open(file_name, 'r') as file:\n",
    "        reader = csv.reader(file)\n",
    "        for row in islice(reader, 200, None):\n",
    "            symbols.append(row[0])\n",
    "            if len(symbols) == limit:\n",
    "                break\n",
    "    return symbols\n",
    "\n",
    "def save_data_to_csv(file_name, symbol, data):\n",
    "    with open(file_name, 'a', newline='') as file:\n",
    "        writer = csv.writer(file)\n",
    "        data_lines = data.strip().split('\\n')[1:] \n",
    "        for line in data_lines:\n",
    "            writer.writerow([symbol] + line.split(','))\n",
    "\n",
    "def fetch_stocks_data(symbols_file, output_file):\n",
    "    symbols = read_stock_symbols(symbols_file)\n",
    "    for symbol in symbols:\n",
    "        url = f\"{BASE_URL}?function={FUNCTION}&symbol={symbol}&outputsize={OUTPUTSIZE}&apikey={API_KEY}&datatype={DATATYPE}\"\n",
    "        response = requests.get(url)\n",
    "        if response.status_code == 200:\n",
    "            print(f\"Fetching data for {symbol}\")\n",
    "            save_data_to_csv(output_file, symbol, response.text)\n",
    "        else:\n",
    "            print(f\"Error fetching data for {symbol}: {response.status_code}\")\n",
    "\n",
    "symbols_file = '/kaggle/input/alpha-vantage-stock-symbols/stock_symbol_data.csv' \n",
    "output_file = 'selected_stocks_daily_data_2.csv' \n",
    "\n",
    "with open(output_file, 'w', newline='') as file:\n",
    "    writer = csv.writer(file)\n",
    "    writer.writerow([\"Symbol\", \"Timestamp\", \"Open\", \"High\", \"Low\", \"Close\", \"Volume\"])\n",
    "\n",
    "fetch_stocks_data(symbols_file, output_file)"
   ]
  },
  {
   "cell_type": "markdown",
   "id": "48b4ee65",
   "metadata": {
    "papermill": {
     "duration": 0.002862,
     "end_time": "2024-03-22T12:33:26.544825",
     "exception": false,
     "start_time": "2024-03-22T12:33:26.541963",
     "status": "completed"
    },
    "tags": []
   },
   "source": [
    "## Feature Engineering"
   ]
  },
  {
   "cell_type": "code",
   "execution_count": null,
   "id": "f0a8072e",
   "metadata": {
    "papermill": {
     "duration": 0.00356,
     "end_time": "2024-03-22T12:33:26.551370",
     "exception": false,
     "start_time": "2024-03-22T12:33:26.547810",
     "status": "completed"
    },
    "tags": []
   },
   "outputs": [],
   "source": []
  }
 ],
 "metadata": {
  "kaggle": {
   "accelerator": "none",
   "dataSources": [
    {
     "datasetId": 4649791,
     "sourceId": 7914021,
     "sourceType": "datasetVersion"
    },
    {
     "sourceId": 168203067,
     "sourceType": "kernelVersion"
    }
   ],
   "dockerImageVersionId": 30664,
   "isGpuEnabled": false,
   "isInternetEnabled": true,
   "language": "python",
   "sourceType": "notebook"
  },
  "kernelspec": {
   "display_name": "Python 3",
   "language": "python",
   "name": "python3"
  },
  "language_info": {
   "codemirror_mode": {
    "name": "ipython",
    "version": 3
   },
   "file_extension": ".py",
   "mimetype": "text/x-python",
   "name": "python",
   "nbconvert_exporter": "python",
   "pygments_lexer": "ipython3",
   "version": "3.10.13"
  },
  "papermill": {
   "default_parameters": {},
   "duration": 8.898004,
   "end_time": "2024-03-22T12:33:26.872323",
   "environment_variables": {},
   "exception": null,
   "input_path": "__notebook__.ipynb",
   "output_path": "__notebook__.ipynb",
   "parameters": {},
   "start_time": "2024-03-22T12:33:17.974319",
   "version": "2.5.0"
  }
 },
 "nbformat": 4,
 "nbformat_minor": 5
}
