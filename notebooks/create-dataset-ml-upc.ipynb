{
 "cells": [
  {
   "cell_type": "code",
   "execution_count": 1,
   "id": "2ba6037b",
   "metadata": {
    "execution": {
     "iopub.execute_input": "2024-03-21T20:47:26.712937Z",
     "iopub.status.busy": "2024-03-21T20:47:26.712125Z",
     "iopub.status.idle": "2024-03-21T20:47:26.803372Z",
     "shell.execute_reply": "2024-03-21T20:47:26.801910Z"
    },
    "papermill": {
     "duration": 0.09995,
     "end_time": "2024-03-21T20:47:26.806821",
     "exception": false,
     "start_time": "2024-03-21T20:47:26.706871",
     "status": "completed"
    },
    "tags": []
   },
   "outputs": [],
   "source": [
    "import requests\n",
    "import csv"
   ]
  },
  {
   "cell_type": "code",
   "execution_count": 2,
   "id": "8b32b5ab",
   "metadata": {
    "execution": {
     "iopub.execute_input": "2024-03-21T20:47:26.815686Z",
     "iopub.status.busy": "2024-03-21T20:47:26.814932Z",
     "iopub.status.idle": "2024-03-21T20:47:28.313629Z",
     "shell.execute_reply": "2024-03-21T20:47:28.312194Z"
    },
    "papermill": {
     "duration": 1.506547,
     "end_time": "2024-03-21T20:47:28.316720",
     "exception": false,
     "start_time": "2024-03-21T20:47:26.810173",
     "status": "completed"
    },
    "tags": []
   },
   "outputs": [
    {
     "name": "stdout",
     "output_type": "stream",
     "text": [
      "Data fetching and writing complete.\n"
     ]
    }
   ],
   "source": [
    "API_KEY = \"CEE0XTVWHEEAFGSF\"\n",
    "BASE_URL = \"https://www.alphavantage.co/query\"\n",
    "FUNCTION = \"TIME_SERIES_DAILY\"\n",
    "OUTPUTSIZE = \"full\"\n",
    "DATATYPE = \"csv\"\n",
    "\n",
    "symbols = [\"OKTA\", \"OKYO\", \"OLB\", \"OLED\", \"OLK\", \"OLLI\", \"OLMA\", \"OLN\", \"OLO\", \"OLP\"]\n",
    "\n",
    "file_name = \"all_stocks_daily_data.csv\"\n",
    "\n",
    "with open(file_name, 'w', newline='') as file:\n",
    "    writer = csv.writer(file)\n",
    "    writer.writerow([\"Symbol\", \"Timestamp\", \"Open\", \"High\", \"Low\", \"Close\", \"Volume\"])\n",
    "\n",
    "for symbol in symbols:\n",
    "    url = f\"{BASE_URL}?function={FUNCTION}&symbol={symbol}&outputsize={OUTPUTSIZE}&apikey={API_KEY}&datatype={DATATYPE}\"\n",
    "    \n",
    "    r = requests.get(url)\n",
    "\n",
    "    if r.status_code == 200:\n",
    "        data_lines = r.text.strip().split('\\n')[1:]\n",
    "        \n",
    "        with open(file_name, 'a', newline='') as file:\n",
    "            writer = csv.writer(file)\n",
    "            for line in data_lines:\n",
    "                writer.writerow([symbol] + line.split(','))\n",
    "    else:\n",
    "        print(f\"Error fetching data for {symbol}: {r.status_code}\")\n",
    "\n",
    "print(\"Data fetching and writing complete.\")"
   ]
  },
  {
   "cell_type": "code",
   "execution_count": 3,
   "id": "c7fcad26",
   "metadata": {
    "execution": {
     "iopub.execute_input": "2024-03-21T20:47:28.324693Z",
     "iopub.status.busy": "2024-03-21T20:47:28.324072Z",
     "iopub.status.idle": "2024-03-21T20:47:28.484287Z",
     "shell.execute_reply": "2024-03-21T20:47:28.483068Z"
    },
    "papermill": {
     "duration": 0.167115,
     "end_time": "2024-03-21T20:47:28.487042",
     "exception": false,
     "start_time": "2024-03-21T20:47:28.319927",
     "status": "completed"
    },
    "tags": []
   },
   "outputs": [
    {
     "name": "stdout",
     "output_type": "stream",
     "text": [
      "{}\n"
     ]
    }
   ],
   "source": [
    "# Our Alpha Vantage API key is: CEE0XTVWHEEAFGSF\n",
    "url = 'https://www.alphavantage.co/query?function=LISTING_STATUS&apikey=CEE0XTVWHEEAFGSF'\n",
    "r = requests.get(url)\n",
    "data = r.text\n",
    "\n",
    "file_name = 'stock_symbol_data.csv'\n",
    "\n",
    "with open(file_name, 'w') as file:\n",
    "    file.write(data)\n",
    "\n",
    "print(data)"
   ]
  },
  {
   "cell_type": "code",
   "execution_count": 4,
   "id": "a818cc8b",
   "metadata": {
    "execution": {
     "iopub.execute_input": "2024-03-21T20:47:28.495471Z",
     "iopub.status.busy": "2024-03-21T20:47:28.494982Z",
     "iopub.status.idle": "2024-03-21T20:47:28.509132Z",
     "shell.execute_reply": "2024-03-21T20:47:28.507839Z"
    },
    "papermill": {
     "duration": 0.021769,
     "end_time": "2024-03-21T20:47:28.511821",
     "exception": false,
     "start_time": "2024-03-21T20:47:28.490052",
     "status": "completed"
    },
    "tags": []
   },
   "outputs": [],
   "source": [
    "API_KEY = \"CEE0XTVWHEEAFGSF\"\n",
    "BASE_URL = \"https://www.alphavantage.co/query\"\n",
    "FUNCTION = \"TIME_SERIES_DAILY\"\n",
    "OUTPUTSIZE = \"full\"  \n",
    "DATATYPE = \"csv\"\n",
    "\n",
    "def read_stock_symbols(file_name, limit=100):\n",
    "    symbols = []\n",
    "    with open(file_name, 'r') as file:\n",
    "        reader = csv.reader(file)\n",
    "        next(reader)  \n",
    "        for row in reader:\n",
    "            symbols.append(row[0]) \n",
    "            if len(symbols) == limit:\n",
    "                break\n",
    "    return symbols\n",
    "\n",
    "def save_data_to_csv(file_name, symbol, data):\n",
    "    with open(file_name, 'a', newline='') as file:\n",
    "        writer = csv.writer(file)\n",
    "        data_lines = data.strip().split('\\n')[1:] \n",
    "        for line in data_lines:\n",
    "            writer.writerow([symbol] + line.split(','))\n",
    "\n",
    "def fetch_stocks_data(symbols_file, output_file):\n",
    "    symbols = read_stock_symbols(symbols_file)\n",
    "    for symbol in symbols:\n",
    "        url = f\"{BASE_URL}?function={FUNCTION}&symbol={symbol}&outputsize={OUTPUTSIZE}&apikey={API_KEY}&datatype={DATATYPE}\"\n",
    "        response = requests.get(url)\n",
    "        if response.status_code == 200:\n",
    "            print(f\"Fetching data for {symbol}\")\n",
    "            save_data_to_csv(output_file, symbol, response.text)\n",
    "        else:\n",
    "            print(f\"Error fetching data for {symbol}: {response.status_code}\")\n",
    "\n",
    "symbols_file = 'stock_symbol_data.csv' \n",
    "output_file = 'selected_stocks_daily_data.csv' \n",
    "\n",
    "with open(output_file, 'w', newline='') as file:\n",
    "    writer = csv.writer(file)\n",
    "    writer.writerow([\"Symbol\", \"Timestamp\", \"Open\", \"High\", \"Low\", \"Close\", \"Volume\"])\n",
    "\n",
    "fetch_stocks_data(symbols_file, output_file)"
   ]
  }
 ],
 "metadata": {
  "kaggle": {
   "accelerator": "none",
   "dataSources": [],
   "dockerImageVersionId": 30664,
   "isGpuEnabled": false,
   "isInternetEnabled": true,
   "language": "python",
   "sourceType": "notebook"
  },
  "kernelspec": {
   "display_name": "Python 3",
   "language": "python",
   "name": "python3"
  },
  "language_info": {
   "codemirror_mode": {
    "name": "ipython",
    "version": 3
   },
   "file_extension": ".py",
   "mimetype": "text/x-python",
   "name": "python",
   "nbconvert_exporter": "python",
   "pygments_lexer": "ipython3",
   "version": "3.10.13"
  },
  "papermill": {
   "default_parameters": {},
   "duration": 5.487825,
   "end_time": "2024-03-21T20:47:29.037599",
   "environment_variables": {},
   "exception": null,
   "input_path": "__notebook__.ipynb",
   "output_path": "__notebook__.ipynb",
   "parameters": {},
   "start_time": "2024-03-21T20:47:23.549774",
   "version": "2.5.0"
  }
 },
 "nbformat": 4,
 "nbformat_minor": 5
}
