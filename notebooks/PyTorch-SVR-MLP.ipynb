{
 "cells": [
  {
   "cell_type": "code",
   "execution_count": 1,
   "id": "48c45845",
   "metadata": {
    "_cell_guid": "b1076dfc-b9ad-4769-8c92-a6c4dae69d19",
    "_uuid": "8f2839f25d086af736a60e9eeb907d3b93b6e0e5",
    "execution": {
     "iopub.execute_input": "2024-04-20T15:16:02.881535Z",
     "iopub.status.busy": "2024-04-20T15:16:02.880372Z",
     "iopub.status.idle": "2024-04-20T15:16:10.562833Z",
     "shell.execute_reply": "2024-04-20T15:16:10.561572Z"
    },
    "papermill": {
     "duration": 7.703223,
     "end_time": "2024-04-20T15:16:10.566010",
     "exception": false,
     "start_time": "2024-04-20T15:16:02.862787",
     "status": "completed"
    },
    "tags": []
   },
   "outputs": [],
   "source": [
    "import numpy as np \n",
    "import pandas as pd\n",
    "from matplotlib import pyplot as plt\n",
    "import math\n",
    "\n",
    "from sklearn.preprocessing import StandardScaler, OneHotEncoder\n",
    "from sklearn.compose import ColumnTransformer\n",
    "from sklearn.pipeline import Pipeline\n",
    "\n",
    "import torch\n",
    "import torch.nn as nn\n",
    "import torch.optim as optim\n",
    "from torch.utils.data import DataLoader, TensorDataset\n",
    "from sklearn.model_selection import train_test_split, KFold\n",
    "\n",
    "from sklearn.metrics import mean_squared_error, mean_absolute_error, r2_score"
   ]
  },
  {
   "cell_type": "code",
   "execution_count": 2,
   "id": "1086d622",
   "metadata": {
    "execution": {
     "iopub.execute_input": "2024-04-20T15:16:10.597356Z",
     "iopub.status.busy": "2024-04-20T15:16:10.596620Z",
     "iopub.status.idle": "2024-04-20T15:16:11.169619Z",
     "shell.execute_reply": "2024-04-20T15:16:11.168238Z"
    },
    "papermill": {
     "duration": 0.592919,
     "end_time": "2024-04-20T15:16:11.173024",
     "exception": false,
     "start_time": "2024-04-20T15:16:10.580105",
     "status": "completed"
    },
    "tags": []
   },
   "outputs": [],
   "source": [
    "#Amsterdam\n",
    "amsterdam_weekdays = pd.read_csv('/kaggle/input/airbnb-price-determinants-in-europe/amsterdam_weekdays.csv')\n",
    "amsterdam_weekend = pd.read_csv('/kaggle/input/airbnb-price-determinants-in-europe/amsterdam_weekends.csv')\n",
    "\n",
    "#Athens\n",
    "athens_weekdays = pd.read_csv('/kaggle/input/airbnb-price-determinants-in-europe/athens_weekdays.csv')\n",
    "athens_weekend = pd.read_csv('/kaggle/input/airbnb-price-determinants-in-europe/athens_weekends.csv')\n",
    "\n",
    "#Barcelona\n",
    "barcelona_weekdays = pd.read_csv('/kaggle/input/airbnb-price-determinants-in-europe/barcelona_weekdays.csv')\n",
    "barcelona_weekend = pd.read_csv('/kaggle/input/airbnb-price-determinants-in-europe/barcelona_weekends.csv')\n",
    "\n",
    "#Berlin\n",
    "berlin_weekdays = pd.read_csv('/kaggle/input/airbnb-price-determinants-in-europe/berlin_weekdays.csv')\n",
    "berlin_weekend = pd.read_csv('/kaggle/input/airbnb-price-determinants-in-europe/berlin_weekends.csv')\n",
    "\n",
    "#Budapest\n",
    "budapest_weekdays = pd.read_csv('/kaggle/input/airbnb-price-determinants-in-europe/budapest_weekdays.csv')\n",
    "budapest_weekend = pd.read_csv('/kaggle/input/airbnb-price-determinants-in-europe/budapest_weekends.csv')\n",
    "\n",
    "#Lisbon\n",
    "lisbon_weekdays = pd.read_csv('/kaggle/input/airbnb-price-determinants-in-europe/lisbon_weekdays.csv')\n",
    "lisbon_weekend = pd.read_csv('/kaggle/input/airbnb-price-determinants-in-europe/lisbon_weekends.csv')\n",
    "\n",
    "#London\n",
    "london_weekdays = pd.read_csv('/kaggle/input/airbnb-price-determinants-in-europe/london_weekdays.csv')\n",
    "london_weekend = pd.read_csv('/kaggle/input/airbnb-price-determinants-in-europe/london_weekends.csv')\n",
    "\n",
    "#Paris\n",
    "paris_weekdays = pd.read_csv('/kaggle/input/airbnb-price-determinants-in-europe/paris_weekdays.csv')\n",
    "paris_weekend = pd.read_csv('/kaggle/input/airbnb-price-determinants-in-europe/paris_weekends.csv')\n",
    "\n",
    "#Rome\n",
    "rome_weekdays = pd.read_csv('/kaggle/input/airbnb-price-determinants-in-europe/rome_weekdays.csv')\n",
    "rome_weekend = pd.read_csv('/kaggle/input/airbnb-price-determinants-in-europe/rome_weekends.csv')\n",
    "\n",
    "#Vienna\n",
    "vienna_weekdays = pd.read_csv('/kaggle/input/airbnb-price-determinants-in-europe/vienna_weekdays.csv')\n",
    "vienna_weekend = pd.read_csv('/kaggle/input/airbnb-price-determinants-in-europe/vienna_weekends.csv')"
   ]
  },
  {
   "cell_type": "code",
   "execution_count": 3,
   "id": "44f7dbb2",
   "metadata": {
    "execution": {
     "iopub.execute_input": "2024-04-20T15:16:11.203502Z",
     "iopub.status.busy": "2024-04-20T15:16:11.203043Z",
     "iopub.status.idle": "2024-04-20T15:16:11.349764Z",
     "shell.execute_reply": "2024-04-20T15:16:11.347723Z"
    },
    "papermill": {
     "duration": 0.166916,
     "end_time": "2024-04-20T15:16:11.354135",
     "exception": false,
     "start_time": "2024-04-20T15:16:11.187219",
     "status": "completed"
    },
    "tags": []
   },
   "outputs": [
    {
     "name": "stdout",
     "output_type": "stream",
     "text": [
      "      realSum     room_type  room_shared  room_private  person_capacity  \\\n",
      "0  194.033698  Private room        False          True              2.0   \n",
      "1  344.245776  Private room        False          True              4.0   \n",
      "2  264.101422  Private room        False          True              2.0   \n",
      "3  433.529398  Private room        False          True              4.0   \n",
      "4  485.552926  Private room        False          True              2.0   \n",
      "\n",
      "   host_is_superhost  multi  biz  cleanliness_rating  \\\n",
      "0              False      1    0                10.0   \n",
      "1              False      0    0                 8.0   \n",
      "2              False      0    1                 9.0   \n",
      "3              False      0    1                 9.0   \n",
      "4               True      0    0                10.0   \n",
      "\n",
      "   guest_satisfaction_overall  ...      dist  metro_dist  attr_index  \\\n",
      "0                        93.0  ...  5.022964    2.539380   78.690379   \n",
      "1                        85.0  ...  0.488389    0.239404  631.176378   \n",
      "2                        87.0  ...  5.748312    3.651621   75.275877   \n",
      "3                        90.0  ...  0.384862    0.439876  493.272534   \n",
      "4                        98.0  ...  0.544738    0.318693  552.830324   \n",
      "\n",
      "   attr_index_norm  rest_index  rest_index_norm      lng       lat       city  \\\n",
      "0         4.166708   98.253896         6.846473  4.90569  52.41772  Amsterdam   \n",
      "1        33.421209  837.280757        58.342928  4.90005  52.37432  Amsterdam   \n",
      "2         3.985908   95.386955         6.646700  4.97512  52.36103  Amsterdam   \n",
      "3        26.119108  875.033098        60.973565  4.89417  52.37663  Amsterdam   \n",
      "4        29.272733  815.305740        56.811677  4.90051  52.37508  Amsterdam   \n",
      "\n",
      "  weekday  \n",
      "0    True  \n",
      "1    True  \n",
      "2    True  \n",
      "3    True  \n",
      "4    True  \n",
      "\n",
      "[5 rows x 21 columns]\n",
      "(51707, 21)\n"
     ]
    }
   ],
   "source": [
    "datasets = [\n",
    "    (amsterdam_weekdays, \"Amsterdam\", True),\n",
    "    (amsterdam_weekend, \"Amsterdam\", False),\n",
    "    (athens_weekdays, \"Athens\", True),\n",
    "    (athens_weekend, \"Athens\", False),\n",
    "    (barcelona_weekdays, \"Barcelona\", True),\n",
    "    (barcelona_weekend, \"Barcelona\", False),\n",
    "    (berlin_weekdays, \"Berlin\", True),\n",
    "    (berlin_weekend, \"Berlin\", False),\n",
    "    (budapest_weekdays, \"Budapest\", True),\n",
    "    (budapest_weekend, \"Budapest\", False),\n",
    "    (lisbon_weekdays, \"Lisbon\", True),\n",
    "    (lisbon_weekend, \"Lisbon\", False),\n",
    "    (london_weekdays, \"London\", True),\n",
    "    (london_weekend, \"London\", False),\n",
    "    (paris_weekdays, \"Paris\", True),\n",
    "    (paris_weekend, \"Paris\", False),\n",
    "    (rome_weekdays, \"Rome\", True),\n",
    "    (rome_weekend, \"Rome\", False),\n",
    "    (vienna_weekdays, \"Vienna\", True),\n",
    "    (vienna_weekend, \"Vienna\", False)\n",
    "]\n",
    "\n",
    "df = pd.DataFrame()\n",
    "\n",
    "for data, city, is_weekday in datasets:\n",
    "    data['city'] = city\n",
    "    data['weekday'] = is_weekday\n",
    "    df = pd.concat([df, data], ignore_index=True)\n",
    "\n",
    "df.drop(columns=['Unnamed: 0'], axis=1, inplace=True)\n",
    "\n",
    "print(df.head())\n",
    "print(df.shape)"
   ]
  },
  {
   "cell_type": "code",
   "execution_count": 4,
   "id": "956210f5",
   "metadata": {
    "execution": {
     "iopub.execute_input": "2024-04-20T15:16:11.397935Z",
     "iopub.status.busy": "2024-04-20T15:16:11.397428Z",
     "iopub.status.idle": "2024-04-20T15:16:11.403390Z",
     "shell.execute_reply": "2024-04-20T15:16:11.402105Z"
    },
    "papermill": {
     "duration": 0.026098,
     "end_time": "2024-04-20T15:16:11.406203",
     "exception": false,
     "start_time": "2024-04-20T15:16:11.380105",
     "status": "completed"
    },
    "tags": []
   },
   "outputs": [],
   "source": [
    "# path = \"/kaggle/input/airbnb-price-determinants-in-europe/barcelona_weekdays.csv\"\n",
    "# df = pd.read_csv(path, index_col=0)\n",
    "# df.head()"
   ]
  },
  {
   "cell_type": "markdown",
   "id": "aeb9fa83",
   "metadata": {
    "papermill": {
     "duration": 0.013866,
     "end_time": "2024-04-20T15:16:11.434445",
     "exception": false,
     "start_time": "2024-04-20T15:16:11.420579",
     "status": "completed"
    },
    "tags": []
   },
   "source": [
    "# Data Preposessing"
   ]
  },
  {
   "cell_type": "markdown",
   "id": "c81dde3c",
   "metadata": {
    "papermill": {
     "duration": 0.013882,
     "end_time": "2024-04-20T15:16:11.462530",
     "exception": false,
     "start_time": "2024-04-20T15:16:11.448648",
     "status": "completed"
    },
    "tags": []
   },
   "source": [
    "## Add data shuffle"
   ]
  },
  {
   "cell_type": "code",
   "execution_count": 5,
   "id": "27b4497f",
   "metadata": {
    "execution": {
     "iopub.execute_input": "2024-04-20T15:16:11.494102Z",
     "iopub.status.busy": "2024-04-20T15:16:11.493116Z",
     "iopub.status.idle": "2024-04-20T15:16:11.541186Z",
     "shell.execute_reply": "2024-04-20T15:16:11.540243Z"
    },
    "papermill": {
     "duration": 0.06818,
     "end_time": "2024-04-20T15:16:11.545000",
     "exception": false,
     "start_time": "2024-04-20T15:16:11.476820",
     "status": "completed"
    },
    "tags": []
   },
   "outputs": [],
   "source": [
    "np.random.seed(144)\n",
    "df = df.sample(frac=1).reset_index(drop=True)"
   ]
  },
  {
   "cell_type": "markdown",
   "id": "dcfa73c3",
   "metadata": {
    "papermill": {
     "duration": 0.015564,
     "end_time": "2024-04-20T15:16:11.581604",
     "exception": false,
     "start_time": "2024-04-20T15:16:11.566040",
     "status": "completed"
    },
    "tags": []
   },
   "source": [
    "## DEALING WITH MISSING VALUES"
   ]
  },
  {
   "cell_type": "code",
   "execution_count": 6,
   "id": "d6347571",
   "metadata": {
    "execution": {
     "iopub.execute_input": "2024-04-20T15:16:11.613073Z",
     "iopub.status.busy": "2024-04-20T15:16:11.612260Z",
     "iopub.status.idle": "2024-04-20T15:16:11.711345Z",
     "shell.execute_reply": "2024-04-20T15:16:11.710118Z"
    },
    "papermill": {
     "duration": 0.118239,
     "end_time": "2024-04-20T15:16:11.714795",
     "exception": false,
     "start_time": "2024-04-20T15:16:11.596556",
     "status": "completed"
    },
    "tags": []
   },
   "outputs": [
    {
     "data": {
      "text/html": [
       "<div>\n",
       "<style scoped>\n",
       "    .dataframe tbody tr th:only-of-type {\n",
       "        vertical-align: middle;\n",
       "    }\n",
       "\n",
       "    .dataframe tbody tr th {\n",
       "        vertical-align: top;\n",
       "    }\n",
       "\n",
       "    .dataframe thead th {\n",
       "        text-align: right;\n",
       "    }\n",
       "</style>\n",
       "<table border=\"1\" class=\"dataframe\">\n",
       "  <thead>\n",
       "    <tr style=\"text-align: right;\">\n",
       "      <th></th>\n",
       "      <th>realSum</th>\n",
       "      <th>person_capacity</th>\n",
       "      <th>multi</th>\n",
       "      <th>biz</th>\n",
       "      <th>cleanliness_rating</th>\n",
       "      <th>guest_satisfaction_overall</th>\n",
       "      <th>bedrooms</th>\n",
       "      <th>dist</th>\n",
       "      <th>metro_dist</th>\n",
       "      <th>attr_index</th>\n",
       "      <th>attr_index_norm</th>\n",
       "      <th>rest_index</th>\n",
       "      <th>rest_index_norm</th>\n",
       "      <th>lng</th>\n",
       "      <th>lat</th>\n",
       "    </tr>\n",
       "  </thead>\n",
       "  <tbody>\n",
       "    <tr>\n",
       "      <th>count</th>\n",
       "      <td>51707.000000</td>\n",
       "      <td>51707.000000</td>\n",
       "      <td>51707.000000</td>\n",
       "      <td>51707.000000</td>\n",
       "      <td>51707.000000</td>\n",
       "      <td>51707.000000</td>\n",
       "      <td>51707.00000</td>\n",
       "      <td>51707.000000</td>\n",
       "      <td>51707.000000</td>\n",
       "      <td>51707.000000</td>\n",
       "      <td>51707.000000</td>\n",
       "      <td>51707.000000</td>\n",
       "      <td>51707.000000</td>\n",
       "      <td>51707.000000</td>\n",
       "      <td>51707.000000</td>\n",
       "    </tr>\n",
       "    <tr>\n",
       "      <th>mean</th>\n",
       "      <td>279.879591</td>\n",
       "      <td>3.161661</td>\n",
       "      <td>0.291353</td>\n",
       "      <td>0.350204</td>\n",
       "      <td>9.390624</td>\n",
       "      <td>92.628232</td>\n",
       "      <td>1.15876</td>\n",
       "      <td>3.191285</td>\n",
       "      <td>0.681540</td>\n",
       "      <td>294.204105</td>\n",
       "      <td>13.423792</td>\n",
       "      <td>626.856696</td>\n",
       "      <td>22.786177</td>\n",
       "      <td>7.426068</td>\n",
       "      <td>45.671128</td>\n",
       "    </tr>\n",
       "    <tr>\n",
       "      <th>std</th>\n",
       "      <td>327.948386</td>\n",
       "      <td>1.298545</td>\n",
       "      <td>0.454390</td>\n",
       "      <td>0.477038</td>\n",
       "      <td>0.954868</td>\n",
       "      <td>8.945531</td>\n",
       "      <td>0.62741</td>\n",
       "      <td>2.393803</td>\n",
       "      <td>0.858023</td>\n",
       "      <td>224.754123</td>\n",
       "      <td>9.807985</td>\n",
       "      <td>497.920226</td>\n",
       "      <td>17.804096</td>\n",
       "      <td>9.799725</td>\n",
       "      <td>5.249263</td>\n",
       "    </tr>\n",
       "    <tr>\n",
       "      <th>min</th>\n",
       "      <td>34.779339</td>\n",
       "      <td>2.000000</td>\n",
       "      <td>0.000000</td>\n",
       "      <td>0.000000</td>\n",
       "      <td>2.000000</td>\n",
       "      <td>20.000000</td>\n",
       "      <td>0.00000</td>\n",
       "      <td>0.015045</td>\n",
       "      <td>0.002301</td>\n",
       "      <td>15.152201</td>\n",
       "      <td>0.926301</td>\n",
       "      <td>19.576924</td>\n",
       "      <td>0.592757</td>\n",
       "      <td>-9.226340</td>\n",
       "      <td>37.953000</td>\n",
       "    </tr>\n",
       "    <tr>\n",
       "      <th>25%</th>\n",
       "      <td>148.752174</td>\n",
       "      <td>2.000000</td>\n",
       "      <td>0.000000</td>\n",
       "      <td>0.000000</td>\n",
       "      <td>9.000000</td>\n",
       "      <td>90.000000</td>\n",
       "      <td>1.00000</td>\n",
       "      <td>1.453142</td>\n",
       "      <td>0.248480</td>\n",
       "      <td>136.797385</td>\n",
       "      <td>6.380926</td>\n",
       "      <td>250.854114</td>\n",
       "      <td>8.751480</td>\n",
       "      <td>-0.072500</td>\n",
       "      <td>41.399510</td>\n",
       "    </tr>\n",
       "    <tr>\n",
       "      <th>50%</th>\n",
       "      <td>211.343089</td>\n",
       "      <td>3.000000</td>\n",
       "      <td>0.000000</td>\n",
       "      <td>0.000000</td>\n",
       "      <td>10.000000</td>\n",
       "      <td>95.000000</td>\n",
       "      <td>1.00000</td>\n",
       "      <td>2.613538</td>\n",
       "      <td>0.413269</td>\n",
       "      <td>234.331748</td>\n",
       "      <td>11.468305</td>\n",
       "      <td>522.052783</td>\n",
       "      <td>17.542238</td>\n",
       "      <td>4.873000</td>\n",
       "      <td>47.506690</td>\n",
       "    </tr>\n",
       "    <tr>\n",
       "      <th>75%</th>\n",
       "      <td>319.694287</td>\n",
       "      <td>4.000000</td>\n",
       "      <td>1.000000</td>\n",
       "      <td>1.000000</td>\n",
       "      <td>10.000000</td>\n",
       "      <td>99.000000</td>\n",
       "      <td>1.00000</td>\n",
       "      <td>4.263077</td>\n",
       "      <td>0.737840</td>\n",
       "      <td>385.756381</td>\n",
       "      <td>17.415082</td>\n",
       "      <td>832.628988</td>\n",
       "      <td>32.964603</td>\n",
       "      <td>13.518825</td>\n",
       "      <td>51.471885</td>\n",
       "    </tr>\n",
       "    <tr>\n",
       "      <th>max</th>\n",
       "      <td>18545.450285</td>\n",
       "      <td>6.000000</td>\n",
       "      <td>1.000000</td>\n",
       "      <td>1.000000</td>\n",
       "      <td>10.000000</td>\n",
       "      <td>100.000000</td>\n",
       "      <td>10.00000</td>\n",
       "      <td>25.284557</td>\n",
       "      <td>14.273577</td>\n",
       "      <td>4513.563486</td>\n",
       "      <td>100.000000</td>\n",
       "      <td>6696.156772</td>\n",
       "      <td>100.000000</td>\n",
       "      <td>23.786020</td>\n",
       "      <td>52.641410</td>\n",
       "    </tr>\n",
       "  </tbody>\n",
       "</table>\n",
       "</div>"
      ],
      "text/plain": [
       "            realSum  person_capacity         multi           biz  \\\n",
       "count  51707.000000     51707.000000  51707.000000  51707.000000   \n",
       "mean     279.879591         3.161661      0.291353      0.350204   \n",
       "std      327.948386         1.298545      0.454390      0.477038   \n",
       "min       34.779339         2.000000      0.000000      0.000000   \n",
       "25%      148.752174         2.000000      0.000000      0.000000   \n",
       "50%      211.343089         3.000000      0.000000      0.000000   \n",
       "75%      319.694287         4.000000      1.000000      1.000000   \n",
       "max    18545.450285         6.000000      1.000000      1.000000   \n",
       "\n",
       "       cleanliness_rating  guest_satisfaction_overall     bedrooms  \\\n",
       "count        51707.000000                51707.000000  51707.00000   \n",
       "mean             9.390624                   92.628232      1.15876   \n",
       "std              0.954868                    8.945531      0.62741   \n",
       "min              2.000000                   20.000000      0.00000   \n",
       "25%              9.000000                   90.000000      1.00000   \n",
       "50%             10.000000                   95.000000      1.00000   \n",
       "75%             10.000000                   99.000000      1.00000   \n",
       "max             10.000000                  100.000000     10.00000   \n",
       "\n",
       "               dist    metro_dist    attr_index  attr_index_norm  \\\n",
       "count  51707.000000  51707.000000  51707.000000     51707.000000   \n",
       "mean       3.191285      0.681540    294.204105        13.423792   \n",
       "std        2.393803      0.858023    224.754123         9.807985   \n",
       "min        0.015045      0.002301     15.152201         0.926301   \n",
       "25%        1.453142      0.248480    136.797385         6.380926   \n",
       "50%        2.613538      0.413269    234.331748        11.468305   \n",
       "75%        4.263077      0.737840    385.756381        17.415082   \n",
       "max       25.284557     14.273577   4513.563486       100.000000   \n",
       "\n",
       "         rest_index  rest_index_norm           lng           lat  \n",
       "count  51707.000000     51707.000000  51707.000000  51707.000000  \n",
       "mean     626.856696        22.786177      7.426068     45.671128  \n",
       "std      497.920226        17.804096      9.799725      5.249263  \n",
       "min       19.576924         0.592757     -9.226340     37.953000  \n",
       "25%      250.854114         8.751480     -0.072500     41.399510  \n",
       "50%      522.052783        17.542238      4.873000     47.506690  \n",
       "75%      832.628988        32.964603     13.518825     51.471885  \n",
       "max     6696.156772       100.000000     23.786020     52.641410  "
      ]
     },
     "execution_count": 6,
     "metadata": {},
     "output_type": "execute_result"
    }
   ],
   "source": [
    "df.describe()"
   ]
  },
  {
   "cell_type": "code",
   "execution_count": 7,
   "id": "8091aa1f",
   "metadata": {
    "execution": {
     "iopub.execute_input": "2024-04-20T15:16:11.753841Z",
     "iopub.status.busy": "2024-04-20T15:16:11.753017Z",
     "iopub.status.idle": "2024-04-20T15:16:11.761389Z",
     "shell.execute_reply": "2024-04-20T15:16:11.760196Z"
    },
    "papermill": {
     "duration": 0.030999,
     "end_time": "2024-04-20T15:16:11.764484",
     "exception": false,
     "start_time": "2024-04-20T15:16:11.733485",
     "status": "completed"
    },
    "tags": []
   },
   "outputs": [
    {
     "data": {
      "text/plain": [
       "(51707, 21)"
      ]
     },
     "execution_count": 7,
     "metadata": {},
     "output_type": "execute_result"
    }
   ],
   "source": [
    "df.shape"
   ]
  },
  {
   "cell_type": "code",
   "execution_count": 8,
   "id": "a88c78f7",
   "metadata": {
    "execution": {
     "iopub.execute_input": "2024-04-20T15:16:11.799180Z",
     "iopub.status.busy": "2024-04-20T15:16:11.797980Z",
     "iopub.status.idle": "2024-04-20T15:16:11.820577Z",
     "shell.execute_reply": "2024-04-20T15:16:11.819371Z"
    },
    "papermill": {
     "duration": 0.04097,
     "end_time": "2024-04-20T15:16:11.823034",
     "exception": false,
     "start_time": "2024-04-20T15:16:11.782064",
     "status": "completed"
    },
    "tags": []
   },
   "outputs": [
    {
     "data": {
      "text/plain": [
       "(51707, 21)"
      ]
     },
     "execution_count": 8,
     "metadata": {},
     "output_type": "execute_result"
    }
   ],
   "source": [
    "df_complete = df.dropna()\n",
    "df_complete.shape"
   ]
  },
  {
   "cell_type": "markdown",
   "id": "d33e24e8",
   "metadata": {
    "papermill": {
     "duration": 0.014557,
     "end_time": "2024-04-20T15:16:11.852107",
     "exception": false,
     "start_time": "2024-04-20T15:16:11.837550",
     "status": "completed"
    },
    "tags": []
   },
   "source": [
    "## FINDING OUTLIERS"
   ]
  },
  {
   "cell_type": "code",
   "execution_count": 9,
   "id": "9e8d7bf3",
   "metadata": {
    "execution": {
     "iopub.execute_input": "2024-04-20T15:16:11.885863Z",
     "iopub.status.busy": "2024-04-20T15:16:11.885161Z",
     "iopub.status.idle": "2024-04-20T15:16:12.703480Z",
     "shell.execute_reply": "2024-04-20T15:16:12.702034Z"
    },
    "papermill": {
     "duration": 0.838595,
     "end_time": "2024-04-20T15:16:12.706534",
     "exception": false,
     "start_time": "2024-04-20T15:16:11.867939",
     "status": "completed"
    },
    "tags": []
   },
   "outputs": [
    {
     "data": {
      "image/png": "[encoded data removed]",
      "text/plain": [
       "<Figure size 900x500 with 2 Axes>"
      ]
     },
     "metadata": {},
     "output_type": "display_data"
    }
   ],
   "source": [
    "fig, axes= plt.subplots(1,2, gridspec_kw={'width_ratios': [1, 4]}, figsize=(9,5))\n",
    "df.boxplot(column='realSum',ax=axes[0]);\n",
    "df.hist(column='realSum', ax=axes[1]);"
   ]
  },
  {
   "cell_type": "code",
   "execution_count": 10,
   "id": "f5d9489f",
   "metadata": {
    "execution": {
     "iopub.execute_input": "2024-04-20T15:16:12.742149Z",
     "iopub.status.busy": "2024-04-20T15:16:12.741182Z",
     "iopub.status.idle": "2024-04-20T15:16:12.754177Z",
     "shell.execute_reply": "2024-04-20T15:16:12.752936Z"
    },
    "papermill": {
     "duration": 0.034086,
     "end_time": "2024-04-20T15:16:12.756704",
     "exception": false,
     "start_time": "2024-04-20T15:16:12.722618",
     "status": "completed"
    },
    "tags": []
   },
   "outputs": [
    {
     "data": {
      "text/plain": [
       "(148.75217370869953, 319.69428651318856, 170.94211280448903)"
      ]
     },
     "execution_count": 10,
     "metadata": {},
     "output_type": "execute_result"
    }
   ],
   "source": [
    "Q1 = df['realSum'].quantile(0.25)\n",
    "Q3 = df['realSum'].quantile(0.75)\n",
    "IQR = Q3 - Q1\n",
    "\n",
    "Q1, Q3, IQR"
   ]
  },
  {
   "cell_type": "code",
   "execution_count": 11,
   "id": "8debf31a",
   "metadata": {
    "execution": {
     "iopub.execute_input": "2024-04-20T15:16:12.789938Z",
     "iopub.status.busy": "2024-04-20T15:16:12.789417Z",
     "iopub.status.idle": "2024-04-20T15:16:12.815965Z",
     "shell.execute_reply": "2024-04-20T15:16:12.814657Z"
    },
    "papermill": {
     "duration": 0.046834,
     "end_time": "2024-04-20T15:16:12.819039",
     "exception": false,
     "start_time": "2024-04-20T15:16:12.772205",
     "status": "completed"
    },
    "tags": []
   },
   "outputs": [
    {
     "data": {
      "text/plain": [
       "(0, 3662)"
      ]
     },
     "execution_count": 11,
     "metadata": {},
     "output_type": "execute_result"
    }
   ],
   "source": [
    "small_outliers = df['realSum'] < (Q1 - 1.5 * IQR)\n",
    "big_outliers = df['realSum'] > (Q3 + 1.5 * IQR)\n",
    "\n",
    "sum(small_outliers), sum(big_outliers)"
   ]
  },
  {
   "cell_type": "code",
   "execution_count": 12,
   "id": "dc88ede3",
   "metadata": {
    "execution": {
     "iopub.execute_input": "2024-04-20T15:16:12.852876Z",
     "iopub.status.busy": "2024-04-20T15:16:12.852438Z",
     "iopub.status.idle": "2024-04-20T15:16:12.864981Z",
     "shell.execute_reply": "2024-04-20T15:16:12.863406Z"
    },
    "papermill": {
     "duration": 0.032202,
     "end_time": "2024-04-20T15:16:12.867538",
     "exception": false,
     "start_time": "2024-04-20T15:16:12.835336",
     "status": "completed"
    },
    "tags": []
   },
   "outputs": [
    {
     "data": {
      "text/plain": [
       "60     698.806972\n",
       "66     956.983937\n",
       "83     593.852160\n",
       "95     636.702364\n",
       "99    2311.738714\n",
       "Name: realSum, dtype: float64"
      ]
     },
     "execution_count": 12,
     "metadata": {},
     "output_type": "execute_result"
    }
   ],
   "source": [
    "df['realSum'][small_outliers | big_outliers].head()"
   ]
  },
  {
   "cell_type": "code",
   "execution_count": 13,
   "id": "bf0c6b75",
   "metadata": {
    "execution": {
     "iopub.execute_input": "2024-04-20T15:16:12.900945Z",
     "iopub.status.busy": "2024-04-20T15:16:12.900412Z",
     "iopub.status.idle": "2024-04-20T15:16:13.502300Z",
     "shell.execute_reply": "2024-04-20T15:16:13.500865Z"
    },
    "papermill": {
     "duration": 0.621629,
     "end_time": "2024-04-20T15:16:13.504816",
     "exception": false,
     "start_time": "2024-04-20T15:16:12.883187",
     "status": "completed"
    },
    "tags": []
   },
   "outputs": [
    {
     "data": {
      "image/png": "[encoded data removed]",
      "text/plain": [
       "<Figure size 900x500 with 2 Axes>"
      ]
     },
     "metadata": {},
     "output_type": "display_data"
    }
   ],
   "source": [
    "fig, axes= plt.subplots(1,2, gridspec_kw={'width_ratios': [1, 4]}, figsize=(9,5))\n",
    "df[~(small_outliers | big_outliers)].boxplot(column='realSum',ax=axes[0]);\n",
    "df[~(small_outliers | big_outliers)].hist(column='realSum', ax=axes[1]);"
   ]
  },
  {
   "cell_type": "code",
   "execution_count": 14,
   "id": "0ac023f0",
   "metadata": {
    "execution": {
     "iopub.execute_input": "2024-04-20T15:16:13.540633Z",
     "iopub.status.busy": "2024-04-20T15:16:13.540110Z",
     "iopub.status.idle": "2024-04-20T15:16:13.555437Z",
     "shell.execute_reply": "2024-04-20T15:16:13.554079Z"
    },
    "papermill": {
     "duration": 0.036393,
     "end_time": "2024-04-20T15:16:13.557925",
     "exception": false,
     "start_time": "2024-04-20T15:16:13.521532",
     "status": "completed"
    },
    "tags": []
   },
   "outputs": [
    {
     "data": {
      "text/plain": [
       "(48045, 21)"
      ]
     },
     "execution_count": 14,
     "metadata": {},
     "output_type": "execute_result"
    }
   ],
   "source": [
    "df_clean = df[~(small_outliers | big_outliers)]\n",
    "df_clean.shape"
   ]
  },
  {
   "cell_type": "code",
   "execution_count": 15,
   "id": "361545ec",
   "metadata": {
    "execution": {
     "iopub.execute_input": "2024-04-20T15:16:13.592358Z",
     "iopub.status.busy": "2024-04-20T15:16:13.591942Z",
     "iopub.status.idle": "2024-04-20T15:16:13.602521Z",
     "shell.execute_reply": "2024-04-20T15:16:13.601548Z"
    },
    "papermill": {
     "duration": 0.030766,
     "end_time": "2024-04-20T15:16:13.604988",
     "exception": false,
     "start_time": "2024-04-20T15:16:13.574222",
     "status": "completed"
    },
    "tags": []
   },
   "outputs": [
    {
     "data": {
      "text/plain": [
       "realSum                       float64\n",
       "room_type                      object\n",
       "room_shared                      bool\n",
       "room_private                     bool\n",
       "person_capacity               float64\n",
       "host_is_superhost                bool\n",
       "multi                           int64\n",
       "biz                             int64\n",
       "cleanliness_rating            float64\n",
       "guest_satisfaction_overall    float64\n",
       "bedrooms                        int64\n",
       "dist                          float64\n",
       "metro_dist                    float64\n",
       "attr_index                    float64\n",
       "attr_index_norm               float64\n",
       "rest_index                    float64\n",
       "rest_index_norm               float64\n",
       "lng                           float64\n",
       "lat                           float64\n",
       "city                           object\n",
       "weekday                          bool\n",
       "dtype: object"
      ]
     },
     "execution_count": 15,
     "metadata": {},
     "output_type": "execute_result"
    }
   ],
   "source": [
    "df_clean.dtypes"
   ]
  },
  {
   "cell_type": "code",
   "execution_count": 16,
   "id": "03fceaba",
   "metadata": {
    "execution": {
     "iopub.execute_input": "2024-04-20T15:16:13.642709Z",
     "iopub.status.busy": "2024-04-20T15:16:13.641943Z",
     "iopub.status.idle": "2024-04-20T15:16:13.646164Z",
     "shell.execute_reply": "2024-04-20T15:16:13.645309Z"
    },
    "papermill": {
     "duration": 0.02646,
     "end_time": "2024-04-20T15:16:13.648642",
     "exception": false,
     "start_time": "2024-04-20T15:16:13.622182",
     "status": "completed"
    },
    "tags": []
   },
   "outputs": [],
   "source": [
    "# df_clean.to_csv('out.csv', index=False) "
   ]
  },
  {
   "cell_type": "code",
   "execution_count": 17,
   "id": "0676bb48",
   "metadata": {
    "execution": {
     "iopub.execute_input": "2024-04-20T15:16:13.686351Z",
     "iopub.status.busy": "2024-04-20T15:16:13.685691Z",
     "iopub.status.idle": "2024-04-20T15:16:13.808281Z",
     "shell.execute_reply": "2024-04-20T15:16:13.806816Z"
    },
    "papermill": {
     "duration": 0.144391,
     "end_time": "2024-04-20T15:16:13.811106",
     "exception": false,
     "start_time": "2024-04-20T15:16:13.666715",
     "status": "completed"
    },
    "tags": []
   },
   "outputs": [
    {
     "name": "stdout",
     "output_type": "stream",
     "text": [
      "['person_capacity', 'multi', 'biz', 'cleanliness_rating', 'guest_satisfaction_overall', 'bedrooms', 'dist', 'metro_dist', 'attr_index', 'attr_index_norm', 'rest_index', 'rest_index_norm', 'lng', 'lat', 'room_type_Entire home/apt', 'room_type_Private room', 'room_type_Shared room', 'room_shared_False', 'room_shared_True', 'room_private_False', 'room_private_True', 'host_is_superhost_False', 'host_is_superhost_True', 'city_Amsterdam', 'city_Athens', 'city_Barcelona', 'city_Berlin', 'city_Budapest', 'city_Lisbon', 'city_London', 'city_Paris', 'city_Rome', 'city_Vienna', 'weekday_False', 'weekday_True']\n",
      "(48045, 35)\n"
     ]
    }
   ],
   "source": [
    "# Identifying categorical and numerical columns\n",
    "categorical_cols = [col for col in df_clean.columns if df_clean[col].dtype in ['object', 'bool']]\n",
    "numerical_cols = [col for col in df_clean.columns if df_clean[col].dtype in ['int64', 'float64'] and col != 'realSum']\n",
    "\n",
    "# Adjust transformers if necessary\n",
    "categorical_transformer = OneHotEncoder(handle_unknown='ignore')\n",
    "numerical_transformer = StandardScaler()\n",
    "\n",
    "# Update preprocessor\n",
    "preprocessor = ColumnTransformer(\n",
    "    transformers=[\n",
    "        ('num', numerical_transformer, numerical_cols),\n",
    "        ('cat', categorical_transformer, categorical_cols)\n",
    "    ])\n",
    "\n",
    "# Fit and transform the data\n",
    "df_transformed = preprocessor.fit_transform(df_clean.drop('realSum', axis=1))\n",
    "\n",
    "# Check transformed feature names and dimensions\n",
    "transformed_features = preprocessor.transformers_[0][1].get_feature_names_out(numerical_cols).tolist() + \\\n",
    "                       preprocessor.transformers_[1][1].get_feature_names_out(categorical_cols).tolist()\n",
    "\n",
    "print(transformed_features)\n",
    "print(df_transformed.shape)"
   ]
  },
  {
   "cell_type": "markdown",
   "id": "b0c7d3f9",
   "metadata": {
    "papermill": {
     "duration": 0.016862,
     "end_time": "2024-04-20T15:16:13.845755",
     "exception": false,
     "start_time": "2024-04-20T15:16:13.828893",
     "status": "completed"
    },
    "tags": []
   },
   "source": [
    "# Prepare Training Data"
   ]
  },
  {
   "cell_type": "code",
   "execution_count": 18,
   "id": "aaf65667",
   "metadata": {
    "execution": {
     "iopub.execute_input": "2024-04-20T15:16:13.884203Z",
     "iopub.status.busy": "2024-04-20T15:16:13.883697Z",
     "iopub.status.idle": "2024-04-20T15:16:13.889051Z",
     "shell.execute_reply": "2024-04-20T15:16:13.888041Z"
    },
    "papermill": {
     "duration": 0.028099,
     "end_time": "2024-04-20T15:16:13.891920",
     "exception": false,
     "start_time": "2024-04-20T15:16:13.863821",
     "status": "completed"
    },
    "tags": []
   },
   "outputs": [],
   "source": [
    "# y = df_clean['realSum'].values\n",
    "\n",
    "# # Create Train Data and Test Data\n",
    "# X_train, X_test, y_train, y_test = train_test_split(df_transformed, y, test_size=0.2, random_state=42)\n",
    "# X_train = torch.tensor(X_train, dtype=torch.float32)\n",
    "# X_test = torch.tensor(X_test, dtype=torch.float32)\n",
    "# y_train = torch.tensor(y_train, dtype=torch.float32)\n",
    "# y_test = torch.tensor(y_test, dtype=torch.float32)\n",
    "\n",
    "# # Create DataLoader\n",
    "# train_dataset = TensorDataset(X_train, y_train)\n",
    "# test_dataset = TensorDataset(X_test, y_test)\n",
    "\n",
    "# train_loader = DataLoader(train_dataset, batch_size=64, shuffle=True)\n",
    "# test_loader = DataLoader(test_dataset, batch_size=64, shuffle=False)"
   ]
  },
  {
   "cell_type": "code",
   "execution_count": 19,
   "id": "d9d05303",
   "metadata": {
    "execution": {
     "iopub.execute_input": "2024-04-20T15:16:13.928625Z",
     "iopub.status.busy": "2024-04-20T15:16:13.928204Z",
     "iopub.status.idle": "2024-04-20T15:16:14.005456Z",
     "shell.execute_reply": "2024-04-20T15:16:14.004076Z"
    },
    "papermill": {
     "duration": 0.099596,
     "end_time": "2024-04-20T15:16:14.008987",
     "exception": false,
     "start_time": "2024-04-20T15:16:13.909391",
     "status": "completed"
    },
    "tags": []
   },
   "outputs": [],
   "source": [
    "y = df_clean['realSum'].values\n",
    "\n",
    "# Split Test Data\n",
    "X_train_val, X_test, y_train_val, y_test = train_test_split(df_transformed, y, test_size=0.2, random_state=42)\n",
    "\n",
    "# Split Validation Data\n",
    "X_train, X_val, y_train, y_val = train_test_split(X_train_val, y_train_val, test_size=0.25, random_state=42) \n",
    "\n",
    "train_dataset = TensorDataset(torch.tensor(X_train, dtype=torch.float32), torch.tensor(y_train, dtype=torch.float32))\n",
    "val_dataset = TensorDataset(torch.tensor(X_val, dtype=torch.float32), torch.tensor(y_val, dtype=torch.float32))\n",
    "test_dataset = TensorDataset(torch.tensor(X_test, dtype=torch.float32), torch.tensor(y_test, dtype=torch.float32))\n",
    "\n",
    "train_loader = DataLoader(train_dataset, batch_size=64, shuffle=True)\n",
    "val_loader = DataLoader(val_dataset, batch_size=64, shuffle=False)\n",
    "test_loader = DataLoader(test_dataset, batch_size=64, shuffle=False)"
   ]
  },
  {
   "cell_type": "markdown",
   "id": "45c1a983",
   "metadata": {
    "papermill": {
     "duration": 0.017099,
     "end_time": "2024-04-20T15:16:14.045144",
     "exception": false,
     "start_time": "2024-04-20T15:16:14.028045",
     "status": "completed"
    },
    "tags": []
   },
   "source": [
    "# Define SVM Model"
   ]
  },
  {
   "cell_type": "code",
   "execution_count": 20,
   "id": "914878b5",
   "metadata": {
    "execution": {
     "iopub.execute_input": "2024-04-20T15:16:14.081729Z",
     "iopub.status.busy": "2024-04-20T15:16:14.081309Z",
     "iopub.status.idle": "2024-04-20T15:16:14.088979Z",
     "shell.execute_reply": "2024-04-20T15:16:14.087253Z"
    },
    "papermill": {
     "duration": 0.02924,
     "end_time": "2024-04-20T15:16:14.091447",
     "exception": false,
     "start_time": "2024-04-20T15:16:14.062207",
     "status": "completed"
    },
    "tags": []
   },
   "outputs": [
    {
     "name": "stdout",
     "output_type": "stream",
     "text": [
      "Using cpu device\n"
     ]
    }
   ],
   "source": [
    "device = (\n",
    "    \"cuda\"\n",
    "    if torch.cuda.is_available()\n",
    "    else \"mps\"\n",
    "    if torch.backends.mps.is_available()\n",
    "    else \"cpu\"\n",
    ")\n",
    "print(f\"Using {device} device\")"
   ]
  },
  {
   "cell_type": "code",
   "execution_count": 21,
   "id": "7e15964d",
   "metadata": {
    "execution": {
     "iopub.execute_input": "2024-04-20T15:16:14.194758Z",
     "iopub.status.busy": "2024-04-20T15:16:14.194296Z",
     "iopub.status.idle": "2024-04-20T15:16:14.201751Z",
     "shell.execute_reply": "2024-04-20T15:16:14.200062Z"
    },
    "papermill": {
     "duration": 0.029096,
     "end_time": "2024-04-20T15:16:14.204643",
     "exception": false,
     "start_time": "2024-04-20T15:16:14.175547",
     "status": "completed"
    },
    "tags": []
   },
   "outputs": [],
   "source": [
    "class SVR(nn.Module):\n",
    "    def __init__(self, n_features):\n",
    "        super(SVR, self).__init__()\n",
    "        self.linear = nn.Linear(n_features, 1)\n",
    "\n",
    "    def forward(self, x):\n",
    "        return self.linear(x)"
   ]
  },
  {
   "cell_type": "code",
   "execution_count": 22,
   "id": "6646535e",
   "metadata": {
    "execution": {
     "iopub.execute_input": "2024-04-20T15:16:14.244577Z",
     "iopub.status.busy": "2024-04-20T15:16:14.244083Z",
     "iopub.status.idle": "2024-04-20T15:16:14.250826Z",
     "shell.execute_reply": "2024-04-20T15:16:14.249494Z"
    },
    "papermill": {
     "duration": 0.031406,
     "end_time": "2024-04-20T15:16:14.253508",
     "exception": false,
     "start_time": "2024-04-20T15:16:14.222102",
     "status": "completed"
    },
    "tags": []
   },
   "outputs": [],
   "source": [
    "def epsilon_insensitive_loss(outputs, targets, epsilon=0.1):\n",
    "    errors = torch.abs(targets - outputs.squeeze())\n",
    "\n",
    "    loss = torch.mean(torch.max(errors - epsilon, torch.zeros_like(errors)))\n",
    "    return loss"
   ]
  },
  {
   "cell_type": "code",
   "execution_count": 23,
   "id": "0708d99c",
   "metadata": {
    "execution": {
     "iopub.execute_input": "2024-04-20T15:16:14.294789Z",
     "iopub.status.busy": "2024-04-20T15:16:14.294299Z",
     "iopub.status.idle": "2024-04-20T15:16:14.327048Z",
     "shell.execute_reply": "2024-04-20T15:16:14.324965Z"
    },
    "papermill": {
     "duration": 0.056881,
     "end_time": "2024-04-20T15:16:14.329806",
     "exception": false,
     "start_time": "2024-04-20T15:16:14.272925",
     "status": "completed"
    },
    "tags": []
   },
   "outputs": [
    {
     "name": "stdout",
     "output_type": "stream",
     "text": [
      "SVR(\n",
      "  (linear): Linear(in_features=35, out_features=1, bias=True)\n",
      ")\n"
     ]
    }
   ],
   "source": [
    "model = SVR(X_train.shape[1]).to(device)\n",
    "print(model)"
   ]
  },
  {
   "cell_type": "code",
   "execution_count": 24,
   "id": "936a824d",
   "metadata": {
    "execution": {
     "iopub.execute_input": "2024-04-20T15:16:14.372869Z",
     "iopub.status.busy": "2024-04-20T15:16:14.372449Z",
     "iopub.status.idle": "2024-04-20T15:16:17.893434Z",
     "shell.execute_reply": "2024-04-20T15:16:17.892130Z"
    },
    "papermill": {
     "duration": 3.54711,
     "end_time": "2024-04-20T15:16:17.896659",
     "exception": false,
     "start_time": "2024-04-20T15:16:14.349549",
     "status": "completed"
    },
    "tags": []
   },
   "outputs": [],
   "source": [
    "optimizer = torch.optim.SGD(model.parameters(), lr=0.01, weight_decay=0.01)"
   ]
  },
  {
   "cell_type": "code",
   "execution_count": 25,
   "id": "7b8c8182",
   "metadata": {
    "execution": {
     "iopub.execute_input": "2024-04-20T15:16:17.935401Z",
     "iopub.status.busy": "2024-04-20T15:16:17.934654Z",
     "iopub.status.idle": "2024-04-20T15:16:17.944830Z",
     "shell.execute_reply": "2024-04-20T15:16:17.943885Z"
    },
    "papermill": {
     "duration": 0.032304,
     "end_time": "2024-04-20T15:16:17.947062",
     "exception": false,
     "start_time": "2024-04-20T15:16:17.914758",
     "status": "completed"
    },
    "tags": []
   },
   "outputs": [],
   "source": [
    "class EarlyStopping:\n",
    "    def __init__(self, patience=10, verbose=False, delta=0.0001):  \n",
    "        self.patience = patience\n",
    "        self.verbose = verbose\n",
    "        self.delta = delta\n",
    "        self.reset()\n",
    "\n",
    "    def reset(self):\n",
    "        self.best_score = None\n",
    "        self.epochs_no_improve = 0\n",
    "        self.early_stop = False\n",
    "\n",
    "    def __call__(self, val_loss):\n",
    "        score = -val_loss\n",
    "        if self.best_score is None:\n",
    "            self.best_score = score\n",
    "        elif score < self.best_score - self.delta:  \n",
    "            self.epochs_no_improve += 1\n",
    "            if self.epochs_no_improve >= self.patience:\n",
    "                self.early_stop = True\n",
    "                if self.verbose:\n",
    "                    print(\"Early stopping triggered\")\n",
    "        else:\n",
    "            self.best_score = score\n",
    "            self.epochs_no_improve = 0"
   ]
  },
  {
   "cell_type": "markdown",
   "id": "2b01388f",
   "metadata": {
    "papermill": {
     "duration": 0.017278,
     "end_time": "2024-04-20T15:16:17.981723",
     "exception": false,
     "start_time": "2024-04-20T15:16:17.964445",
     "status": "completed"
    },
    "tags": []
   },
   "source": [
    "# Model Training"
   ]
  },
  {
   "cell_type": "code",
   "execution_count": 26,
   "id": "f5b95634",
   "metadata": {
    "execution": {
     "iopub.execute_input": "2024-04-20T15:16:18.019531Z",
     "iopub.status.busy": "2024-04-20T15:16:18.019041Z",
     "iopub.status.idle": "2024-04-20T15:16:18.038066Z",
     "shell.execute_reply": "2024-04-20T15:16:18.036485Z"
    },
    "papermill": {
     "duration": 0.041658,
     "end_time": "2024-04-20T15:16:18.040722",
     "exception": false,
     "start_time": "2024-04-20T15:16:17.999064",
     "status": "completed"
    },
    "tags": []
   },
   "outputs": [],
   "source": [
    "def cross_validate_model(X, y, n_splits=5, epochs=50, batch_size=64, epsilon=0.1):\n",
    "    X_train_val, X_test, y_train_val, y_test = train_test_split(X, y, test_size=0.2, random_state=42)\n",
    "    kf = KFold(n_splits=n_splits, shuffle=True, random_state=42)\n",
    "    best_model = None\n",
    "    lowest_val_loss = np.inf\n",
    "\n",
    "    for fold, (train_index, val_index) in enumerate(kf.split(X_train_val), 1):\n",
    "        print(f\"Starting fold {fold}\")\n",
    "        X_train, X_val = X_train_val[train_index], X_train_val[val_index]\n",
    "        y_train, y_val = y_train_val[train_index], y_train_val[val_index]\n",
    "\n",
    "        train_dataset = TensorDataset(torch.tensor(X_train, dtype=torch.float32), torch.tensor(y_train, dtype=torch.float32))\n",
    "        val_dataset = TensorDataset(torch.tensor(X_val, dtype=torch.float32), torch.tensor(y_val, dtype=torch.float32))\n",
    "        train_loader = DataLoader(train_dataset, batch_size=batch_size, shuffle=True)\n",
    "        val_loader = DataLoader(val_dataset, batch_size=batch_size, shuffle=False)\n",
    "\n",
    "        device = torch.device(\"cuda\" if torch.cuda.is_available() else \"cpu\")\n",
    "        model = SVR(n_features=X_train.shape[1]).to(device)\n",
    "        optimizer = torch.optim.SGD(model.parameters(), lr=0.01, weight_decay=0.01)\n",
    "        early_stopping = EarlyStopping(patience=10, verbose=True)\n",
    "\n",
    "        for epoch in range(epochs):\n",
    "            model.train()\n",
    "            for data, target in train_loader:\n",
    "                data, target = data.to(device), target.to(device)\n",
    "                optimizer.zero_grad()\n",
    "                output = model(data)\n",
    "                loss = epsilon_insensitive_loss(output, target, epsilon)\n",
    "                loss.backward()\n",
    "                optimizer.step()\n",
    "\n",
    "            val_loss = 0\n",
    "            model.eval()\n",
    "            with torch.no_grad():\n",
    "                for data, target in val_loader:\n",
    "                    data, target = data.to(device), target.to(device)\n",
    "                    output = model(data)\n",
    "                    val_loss += epsilon_insensitive_loss(output, target, epsilon).item()\n",
    "            val_loss /= len(val_loader)\n",
    "\n",
    "            print(f'Fold {fold}, Epoch {epoch+1}, Validation MAE Loss: {val_loss}')\n",
    "            if val_loss < lowest_val_loss:\n",
    "                lowest_val_loss = val_loss\n",
    "                best_model = model.state_dict()  # Save the best model\n",
    "                torch.save(best_model, 'SVR_best_model.pth')  # Save model to disk\n",
    "\n",
    "            early_stopping(val_loss)\n",
    "            if early_stopping.early_stop:\n",
    "                print(f\"Early stopping triggered at epoch {epoch+1}\")\n",
    "                break"
   ]
  },
  {
   "cell_type": "code",
   "execution_count": 27,
   "id": "46aaa31e",
   "metadata": {
    "execution": {
     "iopub.execute_input": "2024-04-20T15:16:18.078626Z",
     "iopub.status.busy": "2024-04-20T15:16:18.078017Z",
     "iopub.status.idle": "2024-04-20T15:23:27.386775Z",
     "shell.execute_reply": "2024-04-20T15:23:27.385716Z"
    },
    "papermill": {
     "duration": 429.331672,
     "end_time": "2024-04-20T15:23:27.389718",
     "exception": false,
     "start_time": "2024-04-20T15:16:18.058046",
     "status": "completed"
    },
    "tags": []
   },
   "outputs": [
    {
     "name": "stdout",
     "output_type": "stream",
     "text": [
      "Starting fold 1\n",
      "Fold 1, Epoch 1, Validation MAE Loss: 208.48752814679108\n",
      "Fold 1, Epoch 2, Validation MAE Loss: 189.38325651815114\n",
      "Fold 1, Epoch 3, Validation MAE Loss: 171.22849179102369\n",
      "Fold 1, Epoch 4, Validation MAE Loss: 154.3229931287529\n",
      "Fold 1, Epoch 5, Validation MAE Loss: 139.331649969432\n",
      "Fold 1, Epoch 6, Validation MAE Loss: 126.59733026677912\n",
      "Fold 1, Epoch 7, Validation MAE Loss: 116.24317175494738\n",
      "Fold 1, Epoch 8, Validation MAE Loss: 107.97974055266577\n",
      "Fold 1, Epoch 9, Validation MAE Loss: 101.53030590971639\n",
      "Fold 1, Epoch 10, Validation MAE Loss: 96.45286471784607\n",
      "Fold 1, Epoch 11, Validation MAE Loss: 92.47147205447362\n",
      "Fold 1, Epoch 12, Validation MAE Loss: 89.32278095592152\n",
      "Fold 1, Epoch 13, Validation MAE Loss: 86.84474554140705\n",
      "Fold 1, Epoch 14, Validation MAE Loss: 84.85527234038045\n",
      "Fold 1, Epoch 15, Validation MAE Loss: 83.24811367949178\n",
      "Fold 1, Epoch 16, Validation MAE Loss: 81.921374738709\n",
      "Fold 1, Epoch 17, Validation MAE Loss: 80.8194269858116\n",
      "Fold 1, Epoch 18, Validation MAE Loss: 79.89971920675482\n",
      "Fold 1, Epoch 19, Validation MAE Loss: 79.11722820061297\n",
      "Fold 1, Epoch 20, Validation MAE Loss: 78.44750043380358\n",
      "Fold 1, Epoch 21, Validation MAE Loss: 77.85978906804866\n",
      "Fold 1, Epoch 22, Validation MAE Loss: 77.35643550778224\n",
      "Fold 1, Epoch 23, Validation MAE Loss: 76.91418797516626\n",
      "Fold 1, Epoch 24, Validation MAE Loss: 76.52592818205022\n",
      "Fold 1, Epoch 25, Validation MAE Loss: 76.19155218581523\n",
      "Fold 1, Epoch 26, Validation MAE Loss: 75.8848693154075\n",
      "Fold 1, Epoch 27, Validation MAE Loss: 75.60560138166443\n",
      "Fold 1, Epoch 28, Validation MAE Loss: 75.35566859599973\n",
      "Fold 1, Epoch 29, Validation MAE Loss: 75.13608818999992\n",
      "Fold 1, Epoch 30, Validation MAE Loss: 74.93438118548433\n",
      "Fold 1, Epoch 31, Validation MAE Loss: 74.76165188245537\n",
      "Fold 1, Epoch 32, Validation MAE Loss: 74.59985140335462\n",
      "Fold 1, Epoch 33, Validation MAE Loss: 74.45108763639593\n",
      "Fold 1, Epoch 34, Validation MAE Loss: 74.31669995016303\n",
      "Fold 1, Epoch 35, Validation MAE Loss: 74.19341133054623\n",
      "Fold 1, Epoch 36, Validation MAE Loss: 74.08053194786892\n",
      "Fold 1, Epoch 37, Validation MAE Loss: 73.97351811937064\n",
      "Fold 1, Epoch 38, Validation MAE Loss: 73.88441170936774\n",
      "Fold 1, Epoch 39, Validation MAE Loss: 73.80171276124055\n",
      "Fold 1, Epoch 40, Validation MAE Loss: 73.73464685235142\n",
      "Fold 1, Epoch 41, Validation MAE Loss: 73.66242243238717\n",
      "Fold 1, Epoch 42, Validation MAE Loss: 73.60782664275366\n",
      "Fold 1, Epoch 43, Validation MAE Loss: 73.54849284148413\n",
      "Fold 1, Epoch 44, Validation MAE Loss: 73.49488654018434\n",
      "Fold 1, Epoch 45, Validation MAE Loss: 73.44787301307868\n",
      "Fold 1, Epoch 46, Validation MAE Loss: 73.40989473831556\n",
      "Fold 1, Epoch 47, Validation MAE Loss: 73.36793827025359\n",
      "Fold 1, Epoch 48, Validation MAE Loss: 73.33359814478347\n",
      "Fold 1, Epoch 49, Validation MAE Loss: 73.29974154007337\n",
      "Fold 1, Epoch 50, Validation MAE Loss: 73.27135789098818\n",
      "Fold 1, Epoch 51, Validation MAE Loss: 73.24083504795043\n",
      "Fold 1, Epoch 52, Validation MAE Loss: 73.21711500814138\n",
      "Fold 1, Epoch 53, Validation MAE Loss: 73.18770738081498\n",
      "Fold 1, Epoch 54, Validation MAE Loss: 73.15763249673134\n",
      "Fold 1, Epoch 55, Validation MAE Loss: 73.1417678328585\n",
      "Fold 1, Epoch 56, Validation MAE Loss: 73.12485286618067\n",
      "Fold 1, Epoch 57, Validation MAE Loss: 73.11787348345291\n",
      "Fold 1, Epoch 58, Validation MAE Loss: 73.09699072719606\n",
      "Fold 1, Epoch 59, Validation MAE Loss: 73.08536847957895\n",
      "Fold 1, Epoch 60, Validation MAE Loss: 73.0728778366215\n",
      "Fold 1, Epoch 61, Validation MAE Loss: 73.05708993959033\n",
      "Fold 1, Epoch 62, Validation MAE Loss: 73.04734748651174\n",
      "Fold 1, Epoch 63, Validation MAE Loss: 73.03508380227838\n",
      "Fold 1, Epoch 64, Validation MAE Loss: 73.01924177437775\n",
      "Fold 1, Epoch 65, Validation MAE Loss: 73.0100253396783\n",
      "Fold 1, Epoch 66, Validation MAE Loss: 73.01107501195482\n",
      "Fold 1, Epoch 67, Validation MAE Loss: 73.0034987709739\n",
      "Fold 1, Epoch 68, Validation MAE Loss: 72.99030991231115\n",
      "Fold 1, Epoch 69, Validation MAE Loss: 72.9776508867248\n",
      "Fold 1, Epoch 70, Validation MAE Loss: 72.9735433405096\n",
      "Fold 1, Epoch 71, Validation MAE Loss: 72.97273339515876\n",
      "Fold 1, Epoch 72, Validation MAE Loss: 72.96791092423368\n",
      "Fold 1, Epoch 73, Validation MAE Loss: 72.96212062362797\n",
      "Fold 1, Epoch 74, Validation MAE Loss: 72.9556389485509\n",
      "Fold 1, Epoch 75, Validation MAE Loss: 72.95063933065114\n",
      "Fold 1, Epoch 76, Validation MAE Loss: 72.94109710188937\n",
      "Fold 1, Epoch 77, Validation MAE Loss: 72.93264710607608\n",
      "Fold 1, Epoch 78, Validation MAE Loss: 72.93092409244254\n",
      "Fold 1, Epoch 79, Validation MAE Loss: 72.93278724102935\n",
      "Fold 1, Epoch 80, Validation MAE Loss: 72.92858249884992\n",
      "Fold 1, Epoch 81, Validation MAE Loss: 72.9284094187839\n",
      "Fold 1, Epoch 82, Validation MAE Loss: 72.92471849425765\n",
      "Fold 1, Epoch 83, Validation MAE Loss: 72.91775938302033\n",
      "Fold 1, Epoch 84, Validation MAE Loss: 72.92522638494319\n",
      "Fold 1, Epoch 85, Validation MAE Loss: 72.91870281124903\n",
      "Fold 1, Epoch 86, Validation MAE Loss: 72.91837922403636\n",
      "Fold 1, Epoch 87, Validation MAE Loss: 72.91647748710696\n",
      "Fold 1, Epoch 88, Validation MAE Loss: 72.90913756819796\n",
      "Fold 1, Epoch 89, Validation MAE Loss: 72.91570701283857\n",
      "Fold 1, Epoch 90, Validation MAE Loss: 72.91909950823823\n",
      "Fold 1, Epoch 91, Validation MAE Loss: 72.91926114421246\n",
      "Fold 1, Epoch 92, Validation MAE Loss: 72.92293472920568\n",
      "Fold 1, Epoch 93, Validation MAE Loss: 72.92128592877349\n",
      "Fold 1, Epoch 94, Validation MAE Loss: 72.91295185562008\n",
      "Fold 1, Epoch 95, Validation MAE Loss: 72.90836009506351\n",
      "Fold 1, Epoch 96, Validation MAE Loss: 72.90974782518119\n",
      "Fold 1, Epoch 97, Validation MAE Loss: 72.90225412037746\n",
      "Fold 1, Epoch 98, Validation MAE Loss: 72.90397603058618\n",
      "Fold 1, Epoch 99, Validation MAE Loss: 72.9100731778736\n",
      "Fold 1, Epoch 100, Validation MAE Loss: 72.90255147760564\n",
      "Fold 1, Epoch 101, Validation MAE Loss: 72.91364461725408\n",
      "Fold 1, Epoch 102, Validation MAE Loss: 72.91402101122644\n",
      "Fold 1, Epoch 103, Validation MAE Loss: 72.90609829484924\n",
      "Fold 1, Epoch 104, Validation MAE Loss: 72.89863362588173\n",
      "Fold 1, Epoch 105, Validation MAE Loss: 72.89976410038216\n",
      "Fold 1, Epoch 106, Validation MAE Loss: 72.89879787854912\n",
      "Fold 1, Epoch 107, Validation MAE Loss: 72.89610627860077\n",
      "Fold 1, Epoch 108, Validation MAE Loss: 72.8962661806217\n",
      "Fold 1, Epoch 109, Validation MAE Loss: 72.89666640857034\n",
      "Fold 1, Epoch 110, Validation MAE Loss: 72.89695758661948\n",
      "Fold 1, Epoch 111, Validation MAE Loss: 72.89310546748894\n",
      "Fold 1, Epoch 112, Validation MAE Loss: 72.8959889057254\n",
      "Fold 1, Epoch 113, Validation MAE Loss: 72.89314430804292\n",
      "Fold 1, Epoch 114, Validation MAE Loss: 72.88767466269249\n",
      "Fold 1, Epoch 115, Validation MAE Loss: 72.89022713653313\n",
      "Fold 1, Epoch 116, Validation MAE Loss: 72.89434672584218\n",
      "Fold 1, Epoch 117, Validation MAE Loss: 72.89540030739524\n",
      "Fold 1, Epoch 118, Validation MAE Loss: 72.89106041143748\n",
      "Fold 1, Epoch 119, Validation MAE Loss: 72.89334995490461\n",
      "Fold 1, Epoch 120, Validation MAE Loss: 72.89073654048698\n",
      "Fold 1, Epoch 121, Validation MAE Loss: 72.88643529592467\n",
      "Fold 1, Epoch 122, Validation MAE Loss: 72.89395182585913\n",
      "Fold 1, Epoch 123, Validation MAE Loss: 72.89444738971301\n",
      "Fold 1, Epoch 124, Validation MAE Loss: 72.89702467484908\n",
      "Fold 1, Epoch 125, Validation MAE Loss: 72.89380784468217\n",
      "Fold 1, Epoch 126, Validation MAE Loss: 72.88988053503115\n",
      "Fold 1, Epoch 127, Validation MAE Loss: 72.89898524008507\n",
      "Fold 1, Epoch 128, Validation MAE Loss: 72.89624966077568\n",
      "Fold 1, Epoch 129, Validation MAE Loss: 72.89160761557335\n",
      "Fold 1, Epoch 130, Validation MAE Loss: 72.8930954105598\n",
      "Fold 1, Epoch 131, Validation MAE Loss: 72.89458339470477\n",
      "Early stopping triggered\n",
      "Early stopping triggered at epoch 131\n",
      "Starting fold 2\n",
      "Fold 2, Epoch 1, Validation MAE Loss: 210.1525897822104\n",
      "Fold 2, Epoch 2, Validation MAE Loss: 191.02447459323346\n",
      "Fold 2, Epoch 3, Validation MAE Loss: 172.83627685042453\n",
      "Fold 2, Epoch 4, Validation MAE Loss: 155.87533796326187\n",
      "Fold 2, Epoch 5, Validation MAE Loss: 140.75852758234197\n",
      "Fold 2, Epoch 6, Validation MAE Loss: 127.93565854159269\n",
      "Fold 2, Epoch 7, Validation MAE Loss: 117.4502971428485\n",
      "Fold 2, Epoch 8, Validation MAE Loss: 109.11149414314711\n",
      "Fold 2, Epoch 9, Validation MAE Loss: 102.58648177217846\n",
      "Fold 2, Epoch 10, Validation MAE Loss: 97.45334108210793\n",
      "Fold 2, Epoch 11, Validation MAE Loss: 93.43426961347092\n",
      "Fold 2, Epoch 12, Validation MAE Loss: 90.27935951800386\n",
      "Fold 2, Epoch 13, Validation MAE Loss: 87.77478928999467\n",
      "Fold 2, Epoch 14, Validation MAE Loss: 85.77198763130124\n",
      "Fold 2, Epoch 15, Validation MAE Loss: 84.15091490942585\n",
      "Fold 2, Epoch 16, Validation MAE Loss: 82.82387164407525\n",
      "Fold 2, Epoch 17, Validation MAE Loss: 81.70471708439598\n",
      "Fold 2, Epoch 18, Validation MAE Loss: 80.77856725897671\n",
      "Fold 2, Epoch 19, Validation MAE Loss: 79.9987633129782\n",
      "Fold 2, Epoch 20, Validation MAE Loss: 79.31402865323153\n",
      "Fold 2, Epoch 21, Validation MAE Loss: 78.72505377146824\n",
      "Fold 2, Epoch 22, Validation MAE Loss: 78.21804923065437\n",
      "Fold 2, Epoch 23, Validation MAE Loss: 77.78564150471333\n",
      "Fold 2, Epoch 24, Validation MAE Loss: 77.39594959227507\n",
      "Fold 2, Epoch 25, Validation MAE Loss: 77.03881586878752\n",
      "Fold 2, Epoch 26, Validation MAE Loss: 76.73172722178057\n",
      "Fold 2, Epoch 27, Validation MAE Loss: 76.45459466729282\n",
      "Fold 2, Epoch 28, Validation MAE Loss: 76.1993862183626\n",
      "Fold 2, Epoch 29, Validation MAE Loss: 75.97430621690987\n",
      "Fold 2, Epoch 30, Validation MAE Loss: 75.78379279522856\n",
      "Fold 2, Epoch 31, Validation MAE Loss: 75.5975647918449\n",
      "Fold 2, Epoch 32, Validation MAE Loss: 75.43665424063187\n",
      "Fold 2, Epoch 33, Validation MAE Loss: 75.28701980843032\n",
      "Fold 2, Epoch 34, Validation MAE Loss: 75.14758622350772\n",
      "Fold 2, Epoch 35, Validation MAE Loss: 75.02873148011767\n",
      "Fold 2, Epoch 36, Validation MAE Loss: 74.91656166265818\n",
      "Fold 2, Epoch 37, Validation MAE Loss: 74.8171020696971\n",
      "Fold 2, Epoch 38, Validation MAE Loss: 74.73501602677274\n",
      "Fold 2, Epoch 39, Validation MAE Loss: 74.657757183737\n",
      "Fold 2, Epoch 40, Validation MAE Loss: 74.59001339368584\n",
      "Fold 2, Epoch 41, Validation MAE Loss: 74.52378611919309\n",
      "Fold 2, Epoch 42, Validation MAE Loss: 74.46384499289773\n",
      "Fold 2, Epoch 43, Validation MAE Loss: 74.40846009687944\n",
      "Fold 2, Epoch 44, Validation MAE Loss: 74.36040354957265\n",
      "Fold 2, Epoch 45, Validation MAE Loss: 74.31741197444191\n",
      "Fold 2, Epoch 46, Validation MAE Loss: 74.28260626674684\n",
      "Fold 2, Epoch 47, Validation MAE Loss: 74.24568942361627\n",
      "Fold 2, Epoch 48, Validation MAE Loss: 74.21400952930293\n",
      "Fold 2, Epoch 49, Validation MAE Loss: 74.18424439233196\n",
      "Fold 2, Epoch 50, Validation MAE Loss: 74.15651759628422\n",
      "Fold 2, Epoch 51, Validation MAE Loss: 74.12575288252397\n",
      "Fold 2, Epoch 52, Validation MAE Loss: 74.09377824767562\n",
      "Fold 2, Epoch 53, Validation MAE Loss: 74.06193072736755\n",
      "Fold 2, Epoch 54, Validation MAE Loss: 74.03876053991397\n",
      "Fold 2, Epoch 55, Validation MAE Loss: 74.01298321180107\n",
      "Fold 2, Epoch 56, Validation MAE Loss: 73.9906371881154\n",
      "Fold 2, Epoch 57, Validation MAE Loss: 73.96658839076018\n",
      "Fold 2, Epoch 58, Validation MAE Loss: 73.94907760620117\n",
      "Fold 2, Epoch 59, Validation MAE Loss: 73.93204482527804\n",
      "Fold 2, Epoch 60, Validation MAE Loss: 73.92117836061588\n",
      "Fold 2, Epoch 61, Validation MAE Loss: 73.90315561846268\n",
      "Fold 2, Epoch 62, Validation MAE Loss: 73.89112365344339\n",
      "Fold 2, Epoch 63, Validation MAE Loss: 73.87915540332637\n",
      "Fold 2, Epoch 64, Validation MAE Loss: 73.87203408863918\n",
      "Fold 2, Epoch 65, Validation MAE Loss: 73.86618095587107\n",
      "Fold 2, Epoch 66, Validation MAE Loss: 73.85545125283485\n",
      "Fold 2, Epoch 67, Validation MAE Loss: 73.84809156685822\n",
      "Fold 2, Epoch 68, Validation MAE Loss: 73.84450685485335\n",
      "Fold 2, Epoch 69, Validation MAE Loss: 73.83153010596914\n",
      "Fold 2, Epoch 70, Validation MAE Loss: 73.81929618267974\n",
      "Fold 2, Epoch 71, Validation MAE Loss: 73.81568404268627\n",
      "Fold 2, Epoch 72, Validation MAE Loss: 73.8147945876949\n",
      "Fold 2, Epoch 73, Validation MAE Loss: 73.80679942359609\n",
      "Fold 2, Epoch 74, Validation MAE Loss: 73.80345923053332\n",
      "Fold 2, Epoch 75, Validation MAE Loss: 73.79667209593718\n",
      "Fold 2, Epoch 76, Validation MAE Loss: 73.79526702628648\n",
      "Fold 2, Epoch 77, Validation MAE Loss: 73.79656585188937\n",
      "Fold 2, Epoch 78, Validation MAE Loss: 73.79236564951495\n",
      "Fold 2, Epoch 79, Validation MAE Loss: 73.79153158644999\n",
      "Fold 2, Epoch 80, Validation MAE Loss: 73.78623694427742\n",
      "Fold 2, Epoch 81, Validation MAE Loss: 73.78081752051992\n",
      "Fold 2, Epoch 82, Validation MAE Loss: 73.77270419538513\n",
      "Fold 2, Epoch 83, Validation MAE Loss: 73.77096948544842\n",
      "Fold 2, Epoch 84, Validation MAE Loss: 73.76702786280104\n",
      "Fold 2, Epoch 85, Validation MAE Loss: 73.77063918310749\n",
      "Fold 2, Epoch 86, Validation MAE Loss: 73.76462640052985\n",
      "Fold 2, Epoch 87, Validation MAE Loss: 73.75767819743511\n",
      "Fold 2, Epoch 88, Validation MAE Loss: 73.75970288741686\n",
      "Fold 2, Epoch 89, Validation MAE Loss: 73.75339854847302\n",
      "Fold 2, Epoch 90, Validation MAE Loss: 73.7546356138119\n",
      "Fold 2, Epoch 91, Validation MAE Loss: 73.7529420773845\n",
      "Fold 2, Epoch 92, Validation MAE Loss: 73.7583938157263\n",
      "Fold 2, Epoch 93, Validation MAE Loss: 73.76038537143675\n",
      "Fold 2, Epoch 94, Validation MAE Loss: 73.75683763992689\n",
      "Fold 2, Epoch 95, Validation MAE Loss: 73.75027607689219\n",
      "Fold 2, Epoch 96, Validation MAE Loss: 73.7512159111086\n",
      "Fold 2, Epoch 97, Validation MAE Loss: 73.75122767046463\n",
      "Fold 2, Epoch 98, Validation MAE Loss: 73.75131351691633\n",
      "Fold 2, Epoch 99, Validation MAE Loss: 73.75101638037312\n",
      "Fold 2, Epoch 100, Validation MAE Loss: 73.74745818209057\n",
      "Fold 2, Epoch 101, Validation MAE Loss: 73.74430131518152\n",
      "Fold 2, Epoch 102, Validation MAE Loss: 73.7343264177811\n",
      "Fold 2, Epoch 103, Validation MAE Loss: 73.7440016565244\n",
      "Fold 2, Epoch 104, Validation MAE Loss: 73.75130796826575\n",
      "Fold 2, Epoch 105, Validation MAE Loss: 73.7511038346724\n",
      "Fold 2, Epoch 106, Validation MAE Loss: 73.74721709952867\n",
      "Fold 2, Epoch 107, Validation MAE Loss: 73.74883216668752\n",
      "Fold 2, Epoch 108, Validation MAE Loss: 73.75177638786883\n",
      "Fold 2, Epoch 109, Validation MAE Loss: 73.74796720772736\n",
      "Fold 2, Epoch 110, Validation MAE Loss: 73.7420952536843\n",
      "Fold 2, Epoch 111, Validation MAE Loss: 73.73836652897606\n",
      "Fold 2, Epoch 112, Validation MAE Loss: 73.7408447265625\n",
      "Early stopping triggered\n",
      "Early stopping triggered at epoch 112\n",
      "Starting fold 3\n",
      "Fold 3, Epoch 1, Validation MAE Loss: 209.67586435365283\n",
      "Fold 3, Epoch 2, Validation MAE Loss: 190.56864979641497\n",
      "Fold 3, Epoch 3, Validation MAE Loss: 172.40512185845492\n",
      "Fold 3, Epoch 4, Validation MAE Loss: 155.48537318962664\n",
      "Fold 3, Epoch 5, Validation MAE Loss: 140.47472381591797\n",
      "Fold 3, Epoch 6, Validation MAE Loss: 127.77964322429058\n",
      "Fold 3, Epoch 7, Validation MAE Loss: 117.39060923678817\n",
      "Fold 3, Epoch 8, Validation MAE Loss: 109.09356493989299\n",
      "Fold 3, Epoch 9, Validation MAE Loss: 102.57091232173698\n",
      "Fold 3, Epoch 10, Validation MAE Loss: 97.40236253974851\n",
      "Fold 3, Epoch 11, Validation MAE Loss: 93.33916561662659\n",
      "Fold 3, Epoch 12, Validation MAE Loss: 90.13201979960292\n",
      "Fold 3, Epoch 13, Validation MAE Loss: 87.58653962316592\n",
      "Fold 3, Epoch 14, Validation MAE Loss: 85.54407791263802\n",
      "Fold 3, Epoch 15, Validation MAE Loss: 83.90112749210074\n",
      "Fold 3, Epoch 16, Validation MAE Loss: 82.53281490861878\n",
      "Fold 3, Epoch 17, Validation MAE Loss: 81.3869985785366\n",
      "Fold 3, Epoch 18, Validation MAE Loss: 80.42659037566382\n",
      "Fold 3, Epoch 19, Validation MAE Loss: 79.60849925900294\n",
      "Fold 3, Epoch 20, Validation MAE Loss: 78.91097477053808\n",
      "Fold 3, Epoch 21, Validation MAE Loss: 78.30835033448274\n",
      "Fold 3, Epoch 22, Validation MAE Loss: 77.79658215105042\n",
      "Fold 3, Epoch 23, Validation MAE Loss: 77.34477681561935\n",
      "Fold 3, Epoch 24, Validation MAE Loss: 76.94521962315584\n",
      "Fold 3, Epoch 25, Validation MAE Loss: 76.59508148697782\n",
      "Fold 3, Epoch 26, Validation MAE Loss: 76.27984426829441\n",
      "Fold 3, Epoch 27, Validation MAE Loss: 75.9952792017913\n",
      "Fold 3, Epoch 28, Validation MAE Loss: 75.73833487644669\n",
      "Fold 3, Epoch 29, Validation MAE Loss: 75.50605578461955\n",
      "Fold 3, Epoch 30, Validation MAE Loss: 75.30327574674749\n",
      "Fold 3, Epoch 31, Validation MAE Loss: 75.121828031934\n",
      "Fold 3, Epoch 32, Validation MAE Loss: 74.96352525190873\n",
      "Fold 3, Epoch 33, Validation MAE Loss: 74.81479496601199\n",
      "Fold 3, Epoch 34, Validation MAE Loss: 74.67986187264938\n",
      "Fold 3, Epoch 35, Validation MAE Loss: 74.55674403166968\n",
      "Fold 3, Epoch 36, Validation MAE Loss: 74.44673629634636\n",
      "Fold 3, Epoch 37, Validation MAE Loss: 74.34366891403829\n",
      "Fold 3, Epoch 38, Validation MAE Loss: 74.24971973009346\n",
      "Fold 3, Epoch 39, Validation MAE Loss: 74.17027207051427\n",
      "Fold 3, Epoch 40, Validation MAE Loss: 74.09359353435926\n",
      "Fold 3, Epoch 41, Validation MAE Loss: 74.02335707609319\n",
      "Fold 3, Epoch 42, Validation MAE Loss: 73.95953302935135\n",
      "Fold 3, Epoch 43, Validation MAE Loss: 73.90444785504302\n",
      "Fold 3, Epoch 44, Validation MAE Loss: 73.84666761287973\n",
      "Fold 3, Epoch 45, Validation MAE Loss: 73.79577564207976\n",
      "Fold 3, Epoch 46, Validation MAE Loss: 73.74983477001348\n",
      "Fold 3, Epoch 47, Validation MAE Loss: 73.70360943502631\n",
      "Fold 3, Epoch 48, Validation MAE Loss: 73.66947281262107\n",
      "Fold 3, Epoch 49, Validation MAE Loss: 73.6351161357785\n",
      "Fold 3, Epoch 50, Validation MAE Loss: 73.60410986656\n",
      "Fold 3, Epoch 51, Validation MAE Loss: 73.57580736648939\n",
      "Fold 3, Epoch 52, Validation MAE Loss: 73.54471547150415\n",
      "Fold 3, Epoch 53, Validation MAE Loss: 73.5232945276686\n",
      "Fold 3, Epoch 54, Validation MAE Loss: 73.49485870235222\n",
      "Fold 3, Epoch 55, Validation MAE Loss: 73.47942286089432\n",
      "Fold 3, Epoch 56, Validation MAE Loss: 73.46096719789111\n",
      "Fold 3, Epoch 57, Validation MAE Loss: 73.44216594223148\n",
      "Fold 3, Epoch 58, Validation MAE Loss: 73.42292372648382\n",
      "Fold 3, Epoch 59, Validation MAE Loss: 73.41126112504439\n",
      "Fold 3, Epoch 60, Validation MAE Loss: 73.39687605928783\n",
      "Fold 3, Epoch 61, Validation MAE Loss: 73.37877573060595\n",
      "Fold 3, Epoch 62, Validation MAE Loss: 73.35809149623903\n",
      "Fold 3, Epoch 63, Validation MAE Loss: 73.34664658475513\n",
      "Fold 3, Epoch 64, Validation MAE Loss: 73.33831560119124\n",
      "Fold 3, Epoch 65, Validation MAE Loss: 73.32517450506037\n",
      "Fold 3, Epoch 66, Validation MAE Loss: 73.32195174792581\n",
      "Fold 3, Epoch 67, Validation MAE Loss: 73.31093578496255\n",
      "Fold 3, Epoch 68, Validation MAE Loss: 73.30618617160262\n",
      "Fold 3, Epoch 69, Validation MAE Loss: 73.29583037195127\n",
      "Fold 3, Epoch 70, Validation MAE Loss: 73.28371558701697\n",
      "Fold 3, Epoch 71, Validation MAE Loss: 73.26741261127566\n",
      "Fold 3, Epoch 72, Validation MAE Loss: 73.2635165127841\n",
      "Fold 3, Epoch 73, Validation MAE Loss: 73.26239811290394\n",
      "Fold 3, Epoch 74, Validation MAE Loss: 73.26004841702043\n",
      "Fold 3, Epoch 75, Validation MAE Loss: 73.26242812605929\n",
      "Fold 3, Epoch 76, Validation MAE Loss: 73.25222816152021\n",
      "Fold 3, Epoch 77, Validation MAE Loss: 73.2510243565583\n",
      "Fold 3, Epoch 78, Validation MAE Loss: 73.24551924398122\n",
      "Fold 3, Epoch 79, Validation MAE Loss: 73.23896584629027\n",
      "Fold 3, Epoch 80, Validation MAE Loss: 73.2410284310333\n",
      "Fold 3, Epoch 81, Validation MAE Loss: 73.23729286509112\n",
      "Fold 3, Epoch 82, Validation MAE Loss: 73.23066556946306\n",
      "Fold 3, Epoch 83, Validation MAE Loss: 73.23044286680616\n",
      "Fold 3, Epoch 84, Validation MAE Loss: 73.22838094411803\n",
      "Fold 3, Epoch 85, Validation MAE Loss: 73.2249634797908\n",
      "Fold 3, Epoch 86, Validation MAE Loss: 73.22751440883668\n",
      "Fold 3, Epoch 87, Validation MAE Loss: 73.2276989329945\n",
      "Fold 3, Epoch 88, Validation MAE Loss: 73.22374980705828\n",
      "Fold 3, Epoch 89, Validation MAE Loss: 73.22118295716845\n",
      "Fold 3, Epoch 90, Validation MAE Loss: 73.2209170633111\n",
      "Fold 3, Epoch 91, Validation MAE Loss: 73.21806294464868\n",
      "Fold 3, Epoch 92, Validation MAE Loss: 73.21623460123362\n",
      "Fold 3, Epoch 93, Validation MAE Loss: 73.21321739638147\n",
      "Fold 3, Epoch 94, Validation MAE Loss: 73.2196211381392\n",
      "Fold 3, Epoch 95, Validation MAE Loss: 73.21050662836753\n",
      "Fold 3, Epoch 96, Validation MAE Loss: 73.2043264089537\n",
      "Fold 3, Epoch 97, Validation MAE Loss: 73.20876580230461\n",
      "Fold 3, Epoch 98, Validation MAE Loss: 73.20440286053113\n",
      "Fold 3, Epoch 99, Validation MAE Loss: 73.2083315573448\n",
      "Fold 3, Epoch 100, Validation MAE Loss: 73.20782227949663\n",
      "Fold 3, Epoch 101, Validation MAE Loss: 73.20590767978636\n",
      "Fold 3, Epoch 102, Validation MAE Loss: 73.21058828180486\n",
      "Fold 3, Epoch 103, Validation MAE Loss: 73.20784084856018\n",
      "Fold 3, Epoch 104, Validation MAE Loss: 73.19849001671658\n",
      "Fold 3, Epoch 105, Validation MAE Loss: 73.19880294799805\n",
      "Fold 3, Epoch 106, Validation MAE Loss: 73.1988532011174\n",
      "Fold 3, Epoch 107, Validation MAE Loss: 73.20705927699065\n",
      "Fold 3, Epoch 108, Validation MAE Loss: 73.2039590000121\n",
      "Fold 3, Epoch 109, Validation MAE Loss: 73.20456556840377\n",
      "Fold 3, Epoch 110, Validation MAE Loss: 73.2022871537642\n",
      "Fold 3, Epoch 111, Validation MAE Loss: 73.1935028832806\n",
      "Fold 3, Epoch 112, Validation MAE Loss: 73.18858151396444\n",
      "Fold 3, Epoch 113, Validation MAE Loss: 73.20169001177322\n",
      "Fold 3, Epoch 114, Validation MAE Loss: 73.19756853087874\n",
      "Fold 3, Epoch 115, Validation MAE Loss: 73.19785356127527\n",
      "Fold 3, Epoch 116, Validation MAE Loss: 73.19854871891746\n",
      "Fold 3, Epoch 117, Validation MAE Loss: 73.20671024795406\n",
      "Fold 3, Epoch 118, Validation MAE Loss: 73.2004853871243\n",
      "Fold 3, Epoch 119, Validation MAE Loss: 73.19541994205191\n",
      "Fold 3, Epoch 120, Validation MAE Loss: 73.20501806716288\n",
      "Fold 3, Epoch 121, Validation MAE Loss: 73.20520448290613\n",
      "Fold 3, Epoch 122, Validation MAE Loss: 73.20535729148172\n",
      "Early stopping triggered\n",
      "Early stopping triggered at epoch 122\n",
      "Starting fold 4\n",
      "Fold 4, Epoch 1, Validation MAE Loss: 209.98363715558014\n",
      "Fold 4, Epoch 2, Validation MAE Loss: 190.87948154417936\n",
      "Fold 4, Epoch 3, Validation MAE Loss: 172.72240832620415\n",
      "Fold 4, Epoch 4, Validation MAE Loss: 155.79235196704707\n",
      "Fold 4, Epoch 5, Validation MAE Loss: 140.7022906216708\n",
      "Fold 4, Epoch 6, Validation MAE Loss: 127.89501524365637\n",
      "Fold 4, Epoch 7, Validation MAE Loss: 117.35798638714246\n",
      "Fold 4, Epoch 8, Validation MAE Loss: 108.93901522297504\n",
      "Fold 4, Epoch 9, Validation MAE Loss: 102.30921872982309\n",
      "Fold 4, Epoch 10, Validation MAE Loss: 97.07636286207467\n",
      "Fold 4, Epoch 11, Validation MAE Loss: 92.9692645112345\n",
      "Fold 4, Epoch 12, Validation MAE Loss: 89.70581697826543\n",
      "Fold 4, Epoch 13, Validation MAE Loss: 87.1346824267679\n",
      "Fold 4, Epoch 14, Validation MAE Loss: 85.07136847756125\n",
      "Fold 4, Epoch 15, Validation MAE Loss: 83.39105174167098\n",
      "Fold 4, Epoch 16, Validation MAE Loss: 82.02490108269305\n",
      "Fold 4, Epoch 17, Validation MAE Loss: 80.87538563121448\n",
      "Fold 4, Epoch 18, Validation MAE Loss: 79.91823262616623\n",
      "Fold 4, Epoch 19, Validation MAE Loss: 79.1109750921076\n",
      "Fold 4, Epoch 20, Validation MAE Loss: 78.42338864665386\n",
      "Fold 4, Epoch 21, Validation MAE Loss: 77.82972206557092\n",
      "Fold 4, Epoch 22, Validation MAE Loss: 77.31746642057561\n",
      "Fold 4, Epoch 23, Validation MAE Loss: 76.8716351532739\n",
      "Fold 4, Epoch 24, Validation MAE Loss: 76.46870948854557\n",
      "Fold 4, Epoch 25, Validation MAE Loss: 76.12744556773792\n",
      "Fold 4, Epoch 26, Validation MAE Loss: 75.81728706675128\n",
      "Fold 4, Epoch 27, Validation MAE Loss: 75.53772414026182\n",
      "Fold 4, Epoch 28, Validation MAE Loss: 75.28744081229217\n",
      "Fold 4, Epoch 29, Validation MAE Loss: 75.0579349423243\n",
      "Fold 4, Epoch 30, Validation MAE Loss: 74.86240516221228\n",
      "Fold 4, Epoch 31, Validation MAE Loss: 74.68254946874193\n",
      "Fold 4, Epoch 32, Validation MAE Loss: 74.51415593170923\n",
      "Fold 4, Epoch 33, Validation MAE Loss: 74.36177595784841\n",
      "Fold 4, Epoch 34, Validation MAE Loss: 74.22126814156525\n",
      "Fold 4, Epoch 35, Validation MAE Loss: 74.10139957144241\n",
      "Fold 4, Epoch 36, Validation MAE Loss: 73.99203491210938\n",
      "Fold 4, Epoch 37, Validation MAE Loss: 73.90100907885339\n",
      "Fold 4, Epoch 38, Validation MAE Loss: 73.80712099311765\n",
      "Fold 4, Epoch 39, Validation MAE Loss: 73.72926384161326\n",
      "Fold 4, Epoch 40, Validation MAE Loss: 73.65330089222302\n",
      "Fold 4, Epoch 41, Validation MAE Loss: 73.58084147429663\n",
      "Fold 4, Epoch 42, Validation MAE Loss: 73.51373347763187\n",
      "Fold 4, Epoch 43, Validation MAE Loss: 73.45049216530539\n",
      "Fold 4, Epoch 44, Validation MAE Loss: 73.40503727306019\n",
      "Fold 4, Epoch 45, Validation MAE Loss: 73.35862895870997\n",
      "Fold 4, Epoch 46, Validation MAE Loss: 73.30310581932383\n",
      "Fold 4, Epoch 47, Validation MAE Loss: 73.2639127053505\n",
      "Fold 4, Epoch 48, Validation MAE Loss: 73.22687208948057\n",
      "Fold 4, Epoch 49, Validation MAE Loss: 73.19279886671335\n",
      "Fold 4, Epoch 50, Validation MAE Loss: 73.15215802783808\n",
      "Fold 4, Epoch 51, Validation MAE Loss: 73.12168808613927\n",
      "Fold 4, Epoch 52, Validation MAE Loss: 73.09748490388728\n",
      "Fold 4, Epoch 53, Validation MAE Loss: 73.07826891812411\n",
      "Fold 4, Epoch 54, Validation MAE Loss: 73.04645759015044\n",
      "Fold 4, Epoch 55, Validation MAE Loss: 73.02958244134572\n",
      "Fold 4, Epoch 56, Validation MAE Loss: 73.00515119694481\n",
      "Fold 4, Epoch 57, Validation MAE Loss: 72.98831416358632\n",
      "Fold 4, Epoch 58, Validation MAE Loss: 72.96460064974698\n",
      "Fold 4, Epoch 59, Validation MAE Loss: 72.95021498498838\n",
      "Fold 4, Epoch 60, Validation MAE Loss: 72.93524069037319\n",
      "Fold 4, Epoch 61, Validation MAE Loss: 72.91814532949905\n",
      "Fold 4, Epoch 62, Validation MAE Loss: 72.91042318422932\n",
      "Fold 4, Epoch 63, Validation MAE Loss: 72.89974095998717\n",
      "Fold 4, Epoch 64, Validation MAE Loss: 72.88907925944683\n",
      "Fold 4, Epoch 65, Validation MAE Loss: 72.87730915290265\n",
      "Fold 4, Epoch 66, Validation MAE Loss: 72.86422751560684\n",
      "Fold 4, Epoch 67, Validation MAE Loss: 72.85575510450631\n",
      "Fold 4, Epoch 68, Validation MAE Loss: 72.84724791976046\n",
      "Fold 4, Epoch 69, Validation MAE Loss: 72.84484425063961\n",
      "Fold 4, Epoch 70, Validation MAE Loss: 72.82692582942238\n",
      "Fold 4, Epoch 71, Validation MAE Loss: 72.82286683389964\n",
      "Fold 4, Epoch 72, Validation MAE Loss: 72.81560841079586\n",
      "Fold 4, Epoch 73, Validation MAE Loss: 72.80722613374064\n",
      "Fold 4, Epoch 74, Validation MAE Loss: 72.8009616126699\n",
      "Fold 4, Epoch 75, Validation MAE Loss: 72.79325750051451\n",
      "Fold 4, Epoch 76, Validation MAE Loss: 72.78788924414265\n",
      "Fold 4, Epoch 77, Validation MAE Loss: 72.78623867823073\n",
      "Fold 4, Epoch 78, Validation MAE Loss: 72.78457524953795\n",
      "Fold 4, Epoch 79, Validation MAE Loss: 72.77599066742195\n",
      "Fold 4, Epoch 80, Validation MAE Loss: 72.77390938750969\n",
      "Fold 4, Epoch 81, Validation MAE Loss: 72.76563508845558\n",
      "Fold 4, Epoch 82, Validation MAE Loss: 72.76260003964764\n",
      "Fold 4, Epoch 83, Validation MAE Loss: 72.7619919264612\n",
      "Fold 4, Epoch 84, Validation MAE Loss: 72.7542777889031\n",
      "Fold 4, Epoch 85, Validation MAE Loss: 72.7532735462031\n",
      "Fold 4, Epoch 86, Validation MAE Loss: 72.74713881941867\n",
      "Fold 4, Epoch 87, Validation MAE Loss: 72.75096782968063\n",
      "Fold 4, Epoch 88, Validation MAE Loss: 72.75530299667484\n",
      "Fold 4, Epoch 89, Validation MAE Loss: 72.75076851963011\n",
      "Fold 4, Epoch 90, Validation MAE Loss: 72.74790727599593\n",
      "Fold 4, Epoch 91, Validation MAE Loss: 72.74451068216119\n",
      "Fold 4, Epoch 92, Validation MAE Loss: 72.74592829932851\n",
      "Fold 4, Epoch 93, Validation MAE Loss: 72.74161813278829\n",
      "Fold 4, Epoch 94, Validation MAE Loss: 72.74458848937483\n",
      "Fold 4, Epoch 95, Validation MAE Loss: 72.73961620488443\n",
      "Fold 4, Epoch 96, Validation MAE Loss: 72.74099895382716\n",
      "Fold 4, Epoch 97, Validation MAE Loss: 72.74235821558425\n",
      "Fold 4, Epoch 98, Validation MAE Loss: 72.73489720368188\n",
      "Fold 4, Epoch 99, Validation MAE Loss: 72.73374929506916\n",
      "Fold 4, Epoch 100, Validation MAE Loss: 72.73355856020588\n",
      "Fold 4, Epoch 101, Validation MAE Loss: 72.72867086111022\n",
      "Fold 4, Epoch 102, Validation MAE Loss: 72.72647296495674\n",
      "Fold 4, Epoch 103, Validation MAE Loss: 72.73140142771824\n",
      "Fold 4, Epoch 104, Validation MAE Loss: 72.72740532741074\n",
      "Fold 4, Epoch 105, Validation MAE Loss: 72.72812816525294\n",
      "Fold 4, Epoch 106, Validation MAE Loss: 72.7241012636295\n",
      "Fold 4, Epoch 107, Validation MAE Loss: 72.72469572587447\n",
      "Fold 4, Epoch 108, Validation MAE Loss: 72.72110218647097\n",
      "Fold 4, Epoch 109, Validation MAE Loss: 72.7258260742692\n",
      "Fold 4, Epoch 110, Validation MAE Loss: 72.72383098759927\n",
      "Fold 4, Epoch 111, Validation MAE Loss: 72.72130464916387\n",
      "Fold 4, Epoch 112, Validation MAE Loss: 72.72063994604694\n",
      "Fold 4, Epoch 113, Validation MAE Loss: 72.72503822894136\n",
      "Fold 4, Epoch 114, Validation MAE Loss: 72.72190071925644\n",
      "Fold 4, Epoch 115, Validation MAE Loss: 72.72708441994406\n",
      "Fold 4, Epoch 116, Validation MAE Loss: 72.72572752266876\n",
      "Fold 4, Epoch 117, Validation MAE Loss: 72.7241781881033\n",
      "Fold 4, Epoch 118, Validation MAE Loss: 72.73116611449187\n",
      "Fold 4, Epoch 119, Validation MAE Loss: 72.73115205370691\n",
      "Fold 4, Epoch 120, Validation MAE Loss: 72.72488103819288\n",
      "Fold 4, Epoch 121, Validation MAE Loss: 72.72354072381643\n",
      "Fold 4, Epoch 122, Validation MAE Loss: 72.72177685193779\n",
      "Early stopping triggered\n",
      "Early stopping triggered at epoch 122\n",
      "Starting fold 5\n",
      "Fold 5, Epoch 1, Validation MAE Loss: 206.58119176439018\n",
      "Fold 5, Epoch 2, Validation MAE Loss: 187.50728827862702\n",
      "Fold 5, Epoch 3, Validation MAE Loss: 169.376496244068\n",
      "Fold 5, Epoch 4, Validation MAE Loss: 152.46528247171196\n",
      "Fold 5, Epoch 5, Validation MAE Loss: 137.50092195873418\n",
      "Fold 5, Epoch 6, Validation MAE Loss: 124.7871345330861\n",
      "Fold 5, Epoch 7, Validation MAE Loss: 114.4211485681455\n",
      "Fold 5, Epoch 8, Validation MAE Loss: 106.1108554178033\n",
      "Fold 5, Epoch 9, Validation MAE Loss: 99.65620737627518\n",
      "Fold 5, Epoch 10, Validation MAE Loss: 94.5729989926677\n",
      "Fold 5, Epoch 11, Validation MAE Loss: 90.59358445474925\n",
      "Fold 5, Epoch 12, Validation MAE Loss: 87.46440348349327\n",
      "Fold 5, Epoch 13, Validation MAE Loss: 84.99211457938202\n",
      "Fold 5, Epoch 14, Validation MAE Loss: 83.02942770965828\n",
      "Fold 5, Epoch 15, Validation MAE Loss: 81.4358634318202\n",
      "Fold 5, Epoch 16, Validation MAE Loss: 80.12059998315227\n",
      "Fold 5, Epoch 17, Validation MAE Loss: 79.03882006180189\n",
      "Fold 5, Epoch 18, Validation MAE Loss: 78.12555064051604\n",
      "Fold 5, Epoch 19, Validation MAE Loss: 77.34774799189292\n",
      "Fold 5, Epoch 20, Validation MAE Loss: 76.68848173283348\n",
      "Fold 5, Epoch 21, Validation MAE Loss: 76.11891691349754\n",
      "Fold 5, Epoch 22, Validation MAE Loss: 75.6218490600586\n",
      "Fold 5, Epoch 23, Validation MAE Loss: 75.19652283093161\n",
      "Fold 5, Epoch 24, Validation MAE Loss: 74.80896024467532\n",
      "Fold 5, Epoch 25, Validation MAE Loss: 74.47056232799183\n",
      "Fold 5, Epoch 26, Validation MAE Loss: 74.18237708225723\n",
      "Fold 5, Epoch 27, Validation MAE Loss: 73.9113250291052\n",
      "Fold 5, Epoch 28, Validation MAE Loss: 73.67150847379827\n",
      "Fold 5, Epoch 29, Validation MAE Loss: 73.45355120572177\n",
      "Fold 5, Epoch 30, Validation MAE Loss: 73.25204385804736\n",
      "Fold 5, Epoch 31, Validation MAE Loss: 73.07571344927322\n",
      "Fold 5, Epoch 32, Validation MAE Loss: 72.91197191979275\n",
      "Fold 5, Epoch 33, Validation MAE Loss: 72.76479853480315\n",
      "Fold 5, Epoch 34, Validation MAE Loss: 72.62856872810805\n",
      "Fold 5, Epoch 35, Validation MAE Loss: 72.51758815040273\n",
      "Fold 5, Epoch 36, Validation MAE Loss: 72.4151104067968\n",
      "Fold 5, Epoch 37, Validation MAE Loss: 72.32624113855283\n",
      "Fold 5, Epoch 38, Validation MAE Loss: 72.23819802024148\n",
      "Fold 5, Epoch 39, Validation MAE Loss: 72.15187526734407\n",
      "Fold 5, Epoch 40, Validation MAE Loss: 72.08982678878405\n",
      "Fold 5, Epoch 41, Validation MAE Loss: 72.02562442495804\n",
      "Fold 5, Epoch 42, Validation MAE Loss: 71.96658271600393\n",
      "Fold 5, Epoch 43, Validation MAE Loss: 71.90749409573137\n",
      "Fold 5, Epoch 44, Validation MAE Loss: 71.8518918250218\n",
      "Fold 5, Epoch 45, Validation MAE Loss: 71.79890791837835\n",
      "Fold 5, Epoch 46, Validation MAE Loss: 71.7577246358572\n",
      "Fold 5, Epoch 47, Validation MAE Loss: 71.71970433637131\n",
      "Fold 5, Epoch 48, Validation MAE Loss: 71.68226292507707\n",
      "Fold 5, Epoch 49, Validation MAE Loss: 71.64216087278255\n",
      "Fold 5, Epoch 50, Validation MAE Loss: 71.61522529538998\n",
      "Fold 5, Epoch 51, Validation MAE Loss: 71.58463363016932\n",
      "Fold 5, Epoch 52, Validation MAE Loss: 71.55985405031315\n",
      "Fold 5, Epoch 53, Validation MAE Loss: 71.53794476217475\n",
      "Fold 5, Epoch 54, Validation MAE Loss: 71.51493649443319\n",
      "Fold 5, Epoch 55, Validation MAE Loss: 71.4923452582241\n",
      "Fold 5, Epoch 56, Validation MAE Loss: 71.47252831577269\n",
      "Fold 5, Epoch 57, Validation MAE Loss: 71.45499186870481\n",
      "Fold 5, Epoch 58, Validation MAE Loss: 71.43491070329651\n",
      "Fold 5, Epoch 59, Validation MAE Loss: 71.4230890510496\n",
      "Fold 5, Epoch 60, Validation MAE Loss: 71.4110340402146\n",
      "Fold 5, Epoch 61, Validation MAE Loss: 71.40208822833605\n",
      "Fold 5, Epoch 62, Validation MAE Loss: 71.39277311593048\n",
      "Fold 5, Epoch 63, Validation MAE Loss: 71.38615836781904\n",
      "Fold 5, Epoch 64, Validation MAE Loss: 71.37746054278918\n",
      "Fold 5, Epoch 65, Validation MAE Loss: 71.36950075133772\n",
      "Fold 5, Epoch 66, Validation MAE Loss: 71.36311933028796\n",
      "Fold 5, Epoch 67, Validation MAE Loss: 71.35238357417839\n",
      "Fold 5, Epoch 68, Validation MAE Loss: 71.34362711000048\n",
      "Fold 5, Epoch 69, Validation MAE Loss: 71.33568875651714\n",
      "Fold 5, Epoch 70, Validation MAE Loss: 71.3301907373854\n",
      "Fold 5, Epoch 71, Validation MAE Loss: 71.33162326655112\n",
      "Fold 5, Epoch 72, Validation MAE Loss: 71.32393624171738\n",
      "Fold 5, Epoch 73, Validation MAE Loss: 71.31841473539998\n",
      "Fold 5, Epoch 74, Validation MAE Loss: 71.31704320986408\n",
      "Fold 5, Epoch 75, Validation MAE Loss: 71.31058022995626\n",
      "Fold 5, Epoch 76, Validation MAE Loss: 71.3084904379096\n",
      "Fold 5, Epoch 77, Validation MAE Loss: 71.30104329763365\n",
      "Fold 5, Epoch 78, Validation MAE Loss: 71.29666642118092\n",
      "Fold 5, Epoch 79, Validation MAE Loss: 71.28532693405782\n",
      "Fold 5, Epoch 80, Validation MAE Loss: 71.2911459552355\n",
      "Fold 5, Epoch 81, Validation MAE Loss: 71.28847894589764\n",
      "Fold 5, Epoch 82, Validation MAE Loss: 71.28361429261767\n",
      "Fold 5, Epoch 83, Validation MAE Loss: 71.28174628896161\n",
      "Fold 5, Epoch 84, Validation MAE Loss: 71.27709494346429\n",
      "Fold 5, Epoch 85, Validation MAE Loss: 71.27886584573541\n",
      "Fold 5, Epoch 86, Validation MAE Loss: 71.2745875208831\n",
      "Fold 5, Epoch 87, Validation MAE Loss: 71.27561588129721\n",
      "Fold 5, Epoch 88, Validation MAE Loss: 71.26995896899011\n",
      "Fold 5, Epoch 89, Validation MAE Loss: 71.27364793887809\n",
      "Fold 5, Epoch 90, Validation MAE Loss: 71.27441084680478\n",
      "Fold 5, Epoch 91, Validation MAE Loss: 71.27142444326859\n",
      "Fold 5, Epoch 92, Validation MAE Loss: 71.26814355140876\n",
      "Fold 5, Epoch 93, Validation MAE Loss: 71.26429704398163\n",
      "Fold 5, Epoch 94, Validation MAE Loss: 71.26360630003875\n",
      "Fold 5, Epoch 95, Validation MAE Loss: 71.2594543961454\n",
      "Fold 5, Epoch 96, Validation MAE Loss: 71.25497742329748\n",
      "Fold 5, Epoch 97, Validation MAE Loss: 71.25616811326712\n",
      "Fold 5, Epoch 98, Validation MAE Loss: 71.26064111378567\n",
      "Fold 5, Epoch 99, Validation MAE Loss: 71.26305521815276\n",
      "Fold 5, Epoch 100, Validation MAE Loss: 71.26603386618875\n",
      "Fold 5, Epoch 101, Validation MAE Loss: 71.2599846075389\n",
      "Fold 5, Epoch 102, Validation MAE Loss: 71.25676415183328\n",
      "Fold 5, Epoch 103, Validation MAE Loss: 71.26302876748329\n",
      "Fold 5, Epoch 104, Validation MAE Loss: 71.25903087016965\n",
      "Fold 5, Epoch 105, Validation MAE Loss: 71.26233250641626\n",
      "Fold 5, Epoch 106, Validation MAE Loss: 71.26045687336567\n",
      "Early stopping triggered\n",
      "Early stopping triggered at epoch 106\n"
     ]
    }
   ],
   "source": [
    "cross_validate_model(df_transformed, y, n_splits=5, epochs=1000, batch_size=64, epsilon=0.1)"
   ]
  },
  {
   "cell_type": "markdown",
   "id": "4a856283",
   "metadata": {
    "papermill": {
     "duration": 0.073036,
     "end_time": "2024-04-20T15:23:27.537171",
     "exception": false,
     "start_time": "2024-04-20T15:23:27.464135",
     "status": "completed"
    },
    "tags": []
   },
   "source": [
    "# Test Results"
   ]
  },
  {
   "cell_type": "code",
   "execution_count": 28,
   "id": "9e19b854",
   "metadata": {
    "execution": {
     "iopub.execute_input": "2024-04-20T15:23:27.685691Z",
     "iopub.status.busy": "2024-04-20T15:23:27.685284Z",
     "iopub.status.idle": "2024-04-20T15:23:27.696153Z",
     "shell.execute_reply": "2024-04-20T15:23:27.694791Z"
    },
    "papermill": {
     "duration": 0.088208,
     "end_time": "2024-04-20T15:23:27.699031",
     "exception": false,
     "start_time": "2024-04-20T15:23:27.610823",
     "status": "completed"
    },
    "tags": []
   },
   "outputs": [],
   "source": [
    "def load_best_model(input_features):\n",
    "    device = torch.device(\"cuda\" if torch.cuda.is_available() else \"cpu\")\n",
    "    model = SVR(n_features=input_features).to(device)\n",
    "    model.load_state_dict(torch.load('SVR_best_model.pth', map_location=device))\n",
    "    return model, device\n",
    "\n",
    "best_model, device = load_best_model(df_transformed.shape[1])"
   ]
  },
  {
   "cell_type": "code",
   "execution_count": 29,
   "id": "bc2f69ff",
   "metadata": {
    "execution": {
     "iopub.execute_input": "2024-04-20T15:23:27.848065Z",
     "iopub.status.busy": "2024-04-20T15:23:27.847564Z",
     "iopub.status.idle": "2024-04-20T15:23:27.971906Z",
     "shell.execute_reply": "2024-04-20T15:23:27.970364Z"
    },
    "papermill": {
     "duration": 0.201914,
     "end_time": "2024-04-20T15:23:27.974651",
     "exception": false,
     "start_time": "2024-04-20T15:23:27.772737",
     "status": "completed"
    },
    "tags": []
   },
   "outputs": [
    {
     "name": "stdout",
     "output_type": "stream",
     "text": [
      "Test Loss: 72.11795185417529\n"
     ]
    }
   ],
   "source": [
    "def evaluate_model(model, test_loader, device):\n",
    "    model.eval()\n",
    "    test_loss = 0\n",
    "    with torch.no_grad():\n",
    "        for data, target in test_loader:\n",
    "            data, target = data.to(device), target.to(device)\n",
    "            output = model(data)\n",
    "            test_loss += epsilon_insensitive_loss(output, target, 0.1).item()  # 假设 epsilon=0.1\n",
    "    test_loss /= len(test_loader)\n",
    "    print(f'Test Loss: {test_loss}')\n",
    "\n",
    "evaluate_model(best_model, test_loader, device)"
   ]
  },
  {
   "cell_type": "code",
   "execution_count": 30,
   "id": "f30a48e6",
   "metadata": {
    "execution": {
     "iopub.execute_input": "2024-04-20T15:23:28.124394Z",
     "iopub.status.busy": "2024-04-20T15:23:28.123980Z",
     "iopub.status.idle": "2024-04-20T15:23:28.290446Z",
     "shell.execute_reply": "2024-04-20T15:23:28.289329Z"
    },
    "papermill": {
     "duration": 0.243411,
     "end_time": "2024-04-20T15:23:28.293040",
     "exception": false,
     "start_time": "2024-04-20T15:23:28.049629",
     "status": "completed"
    },
    "tags": []
   },
   "outputs": [
    {
     "name": "stdout",
     "output_type": "stream",
     "text": [
      "MSE: 11274.1591796875, RMSE: 106.17984008789062, MAE: 72.28102111816406, R²: 0.11206969591790661\n"
     ]
    }
   ],
   "source": [
    "def calculate_metrics(model, test_loader, device):\n",
    "    model.eval()\n",
    "    actuals = []\n",
    "    predictions = []\n",
    "    with torch.no_grad():\n",
    "        for data, target in test_loader:\n",
    "            data, target = data.to(device), target.to(device)\n",
    "            output = model(data)\n",
    "            actuals.extend(target.view_as(output).detach().cpu().numpy())\n",
    "            predictions.extend(output.detach().cpu().numpy())\n",
    "\n",
    "    mse = mean_squared_error(actuals, predictions)\n",
    "    rmse = np.sqrt(mse)\n",
    "    mae = mean_absolute_error(actuals, predictions)\n",
    "    r2 = r2_score(actuals, predictions)\n",
    "\n",
    "    print(f'MSE: {mse}, RMSE: {rmse}, MAE: {mae}, R²: {r2}')\n",
    "\n",
    "calculate_metrics(best_model, test_loader, device)"
   ]
  },
  {
   "cell_type": "code",
   "execution_count": 31,
   "id": "cca00ba3",
   "metadata": {
    "execution": {
     "iopub.execute_input": "2024-04-20T15:23:28.441370Z",
     "iopub.status.busy": "2024-04-20T15:23:28.440892Z",
     "iopub.status.idle": "2024-04-20T15:23:29.102276Z",
     "shell.execute_reply": "2024-04-20T15:23:29.101108Z"
    },
    "papermill": {
     "duration": 0.738552,
     "end_time": "2024-04-20T15:23:29.105372",
     "exception": false,
     "start_time": "2024-04-20T15:23:28.366820",
     "status": "completed"
    },
    "tags": []
   },
   "outputs": [
    {
     "data": {
      "image/png": "[encoded data removed]",
      "text/plain": [
       "<Figure size 1000x600 with 1 Axes>"
      ]
     },
     "metadata": {},
     "output_type": "display_data"
    }
   ],
   "source": [
    "def plot_predictions(model, test_loader, device):\n",
    "    model.eval()\n",
    "    actuals = []\n",
    "    predictions = []\n",
    "    with torch.no_grad():\n",
    "        for data, target in test_loader:\n",
    "            data, target = data.to(device), target.to(device)\n",
    "            output = model(data)\n",
    "            actuals.extend(target.view_as(output).detach().cpu().numpy())\n",
    "            predictions.extend(output.detach().cpu().numpy())\n",
    "    \n",
    "    plt.figure(figsize=(10, 6))\n",
    "    plt.scatter(actuals, predictions, alpha=0.5)\n",
    "    plt.xlabel('Actual Prices')\n",
    "    plt.ylabel('Predicted Prices')\n",
    "    plt.title('Actual vs. Predicted Prices')\n",
    "    plt.plot([min(actuals), max(actuals)], [min(actuals), max(actuals)], 'k--')\n",
    "    plt.show()\n",
    "\n",
    "plot_predictions(best_model, test_loader, device)"
   ]
  },
  {
   "cell_type": "markdown",
   "id": "7612d313",
   "metadata": {
    "papermill": {
     "duration": 0.074334,
     "end_time": "2024-04-20T15:23:29.253590",
     "exception": false,
     "start_time": "2024-04-20T15:23:29.179256",
     "status": "completed"
    },
    "tags": []
   },
   "source": [
    "# *MLP* Model"
   ]
  },
  {
   "cell_type": "code",
   "execution_count": 32,
   "id": "b152ee58",
   "metadata": {
    "execution": {
     "iopub.execute_input": "2024-04-20T15:23:29.405137Z",
     "iopub.status.busy": "2024-04-20T15:23:29.404258Z",
     "iopub.status.idle": "2024-04-20T15:23:29.412740Z",
     "shell.execute_reply": "2024-04-20T15:23:29.411809Z"
    },
    "papermill": {
     "duration": 0.086543,
     "end_time": "2024-04-20T15:23:29.415090",
     "exception": false,
     "start_time": "2024-04-20T15:23:29.328547",
     "status": "completed"
    },
    "tags": []
   },
   "outputs": [],
   "source": [
    "class MLP(nn.Module):\n",
    "    def __init__(self, input_dim):\n",
    "        super(MLP, self).__init__()\n",
    "        self.fc1 = nn.Linear(input_dim, 128)\n",
    "        self.relu1 = nn.ReLU()\n",
    "        self.fc2 = nn.Linear(128, 64)\n",
    "        self.relu2 = nn.ReLU()\n",
    "        self.fc3 = nn.Linear(64, 32)\n",
    "        self.relu3 = nn.ReLU()\n",
    "        self.output = nn.Linear(32, 1)\n",
    "\n",
    "    def forward(self, x):\n",
    "        x = self.relu1(self.fc1(x))\n",
    "        x = self.relu2(self.fc2(x))\n",
    "        x = self.relu3(self.fc3(x))\n",
    "        x = self.output(x)\n",
    "        return x"
   ]
  },
  {
   "cell_type": "code",
   "execution_count": 33,
   "id": "2730cd1c",
   "metadata": {
    "execution": {
     "iopub.execute_input": "2024-04-20T15:23:29.581719Z",
     "iopub.status.busy": "2024-04-20T15:23:29.580614Z",
     "iopub.status.idle": "2024-04-20T15:23:29.589706Z",
     "shell.execute_reply": "2024-04-20T15:23:29.588635Z"
    },
    "papermill": {
     "duration": 0.098475,
     "end_time": "2024-04-20T15:23:29.592100",
     "exception": false,
     "start_time": "2024-04-20T15:23:29.493625",
     "status": "completed"
    },
    "tags": []
   },
   "outputs": [],
   "source": [
    "model = MLP(input_dim=X_train.shape[1])\n",
    "criterion = nn.MSELoss()\n",
    "optimizer = optim.Adam(model.parameters(), lr=0.001)"
   ]
  },
  {
   "cell_type": "code",
   "execution_count": 34,
   "id": "a7eaddaf",
   "metadata": {
    "execution": {
     "iopub.execute_input": "2024-04-20T15:23:29.755829Z",
     "iopub.status.busy": "2024-04-20T15:23:29.754733Z",
     "iopub.status.idle": "2024-04-20T15:23:29.761960Z",
     "shell.execute_reply": "2024-04-20T15:23:29.760736Z"
    },
    "papermill": {
     "duration": 0.095097,
     "end_time": "2024-04-20T15:23:29.764445",
     "exception": false,
     "start_time": "2024-04-20T15:23:29.669348",
     "status": "completed"
    },
    "tags": []
   },
   "outputs": [],
   "source": [
    "# early_stopping = EarlyStopping(patience=10, verbose=True)\n",
    "# num_epochs = 1000\n",
    "# for epoch in range(num_epochs):\n",
    "#     model.train()\n",
    "#     for inputs, targets in train_loader:\n",
    "#         optimizer.zero_grad()\n",
    "#         outputs = model(inputs)\n",
    "#         loss = criterion(outputs, targets.unsqueeze(1))\n",
    "#         loss.backward()\n",
    "#         optimizer.step()\n",
    "\n",
    "#     model.eval()\n",
    "#     val_loss = 0\n",
    "#     with torch.no_grad():\n",
    "#         for inputs, targets in val_loader:\n",
    "#             outputs = model(inputs)\n",
    "#             val_loss += criterion(outputs, targets.unsqueeze(1)).item()\n",
    "#     val_loss = val_loss / len(val_loader)\n",
    "    \n",
    "#     print(f\"Epoch {epoch+1}, Loss: {loss.item()}, Validation Loss: {val_loss}\")\n",
    "    \n",
    "#     early_stopping(val_loss)\n",
    "#     if early_stopping.early_stop:\n",
    "#         print(\"Early stopping\")\n",
    "#         break"
   ]
  },
  {
   "cell_type": "code",
   "execution_count": 35,
   "id": "6ec5417b",
   "metadata": {
    "execution": {
     "iopub.execute_input": "2024-04-20T15:23:29.931297Z",
     "iopub.status.busy": "2024-04-20T15:23:29.930527Z",
     "iopub.status.idle": "2024-04-20T15:23:29.950151Z",
     "shell.execute_reply": "2024-04-20T15:23:29.948774Z"
    },
    "papermill": {
     "duration": 0.112782,
     "end_time": "2024-04-20T15:23:29.953912",
     "exception": false,
     "start_time": "2024-04-20T15:23:29.841130",
     "status": "completed"
    },
    "tags": []
   },
   "outputs": [],
   "source": [
    "def cross_validate_model(X, y, n_splits=5, epochs=50, batch_size=64, epsilon=0.1):\n",
    "    X_train_val, X_test, y_train_val, y_test = train_test_split(X, y, test_size=0.2, random_state=42)\n",
    "    kf = KFold(n_splits=n_splits, shuffle=True, random_state=42)\n",
    "    best_model = None\n",
    "    lowest_val_loss = np.inf\n",
    "\n",
    "    for fold, (train_index, val_index) in enumerate(kf.split(X_train_val), 1):\n",
    "        print(f\"Starting fold {fold}\")\n",
    "        X_train, X_val = X_train_val[train_index], X_train_val[val_index]\n",
    "        y_train, y_val = y_train_val[train_index], y_train_val[val_index]\n",
    "\n",
    "        train_dataset = TensorDataset(torch.tensor(X_train, dtype=torch.float32), torch.tensor(y_train, dtype=torch.float32))\n",
    "        val_dataset = TensorDataset(torch.tensor(X_val, dtype=torch.float32), torch.tensor(y_val, dtype=torch.float32))\n",
    "        train_loader = DataLoader(train_dataset, batch_size=batch_size, shuffle=True)\n",
    "        val_loader = DataLoader(val_dataset, batch_size=batch_size, shuffle=False)\n",
    "\n",
    "        device = torch.device(\"cuda\" if torch.cuda.is_available() else \"cpu\")\n",
    "        model = MLP(input_dim=X_train.shape[1]).to(device)\n",
    "        optimizer = torch.optim.SGD(model.parameters(), lr=0.01, weight_decay=0.01)\n",
    "        early_stopping = EarlyStopping(patience=10, verbose=True)\n",
    "\n",
    "        for epoch in range(epochs):\n",
    "            model.train()\n",
    "            for data, target in train_loader:\n",
    "                data, target = data.to(device), target.to(device)\n",
    "                optimizer.zero_grad()\n",
    "                output = model(data)\n",
    "                loss = epsilon_insensitive_loss(output, target, epsilon)\n",
    "                loss.backward()\n",
    "                optimizer.step()\n",
    "\n",
    "            val_loss = 0\n",
    "            model.eval()\n",
    "            with torch.no_grad():\n",
    "                for data, target in val_loader:\n",
    "                    data, target = data.to(device), target.to(device)\n",
    "                    output = model(data)\n",
    "                    val_loss += epsilon_insensitive_loss(output, target, epsilon).item()\n",
    "            val_loss /= len(val_loader)\n",
    "\n",
    "            print(f'Fold {fold}, Epoch {epoch+1}, Validation MAE Loss: {val_loss}')\n",
    "            if val_loss < lowest_val_loss:\n",
    "                lowest_val_loss = val_loss\n",
    "                best_model = model.state_dict()  # Save the best model\n",
    "                torch.save(best_model, 'MLP_best_model.pth')  # Save model to disk\n",
    "\n",
    "            early_stopping(val_loss)\n",
    "            if early_stopping.early_stop:\n",
    "                print(f\"Early stopping triggered at epoch {epoch+1}\")\n",
    "                break"
   ]
  },
  {
   "cell_type": "code",
   "execution_count": 36,
   "id": "2f0299e5",
   "metadata": {
    "execution": {
     "iopub.execute_input": "2024-04-20T15:23:30.118341Z",
     "iopub.status.busy": "2024-04-20T15:23:30.117399Z",
     "iopub.status.idle": "2024-04-20T15:25:59.283097Z",
     "shell.execute_reply": "2024-04-20T15:25:59.281879Z"
    },
    "papermill": {
     "duration": 149.248748,
     "end_time": "2024-04-20T15:25:59.285942",
     "exception": false,
     "start_time": "2024-04-20T15:23:30.037194",
     "status": "completed"
    },
    "tags": []
   },
   "outputs": [
    {
     "name": "stdout",
     "output_type": "stream",
     "text": [
      "Starting fold 1\n",
      "Fold 1, Epoch 1, Validation MAE Loss: 60.788529892598305\n",
      "Fold 1, Epoch 2, Validation MAE Loss: 53.339619691706886\n",
      "Fold 1, Epoch 3, Validation MAE Loss: 59.81653733686967\n",
      "Fold 1, Epoch 4, Validation MAE Loss: 48.33435622916734\n",
      "Fold 1, Epoch 5, Validation MAE Loss: 53.871721630254065\n",
      "Fold 1, Epoch 6, Validation MAE Loss: 51.34663142054534\n",
      "Fold 1, Epoch 7, Validation MAE Loss: 47.47900645989032\n",
      "Fold 1, Epoch 8, Validation MAE Loss: 57.034763903657264\n",
      "Fold 1, Epoch 9, Validation MAE Loss: 48.93581886922033\n",
      "Fold 1, Epoch 10, Validation MAE Loss: 49.72750851339545\n",
      "Fold 1, Epoch 11, Validation MAE Loss: 54.426495039758606\n",
      "Fold 1, Epoch 12, Validation MAE Loss: 51.88734300471535\n",
      "Fold 1, Epoch 13, Validation MAE Loss: 50.377253020105286\n",
      "Fold 1, Epoch 14, Validation MAE Loss: 47.26785497428957\n",
      "Fold 1, Epoch 15, Validation MAE Loss: 49.10564848214142\n",
      "Fold 1, Epoch 16, Validation MAE Loss: 47.60531479070995\n",
      "Fold 1, Epoch 17, Validation MAE Loss: 48.04598951733802\n",
      "Fold 1, Epoch 18, Validation MAE Loss: 47.83729885826426\n",
      "Fold 1, Epoch 19, Validation MAE Loss: 52.75279588935789\n",
      "Fold 1, Epoch 20, Validation MAE Loss: 51.55916869738871\n",
      "Fold 1, Epoch 21, Validation MAE Loss: 47.295414617238954\n",
      "Fold 1, Epoch 22, Validation MAE Loss: 53.832809259083646\n",
      "Fold 1, Epoch 23, Validation MAE Loss: 46.95701838721914\n",
      "Fold 1, Epoch 24, Validation MAE Loss: 47.886071780496394\n",
      "Fold 1, Epoch 25, Validation MAE Loss: 48.38629229206684\n",
      "Fold 1, Epoch 26, Validation MAE Loss: 47.33073007567855\n",
      "Fold 1, Epoch 27, Validation MAE Loss: 50.60603461777868\n",
      "Fold 1, Epoch 28, Validation MAE Loss: 48.187892377869154\n",
      "Fold 1, Epoch 29, Validation MAE Loss: 49.86595532125678\n",
      "Fold 1, Epoch 30, Validation MAE Loss: 51.85265077638232\n",
      "Fold 1, Epoch 31, Validation MAE Loss: 57.176757087392254\n",
      "Fold 1, Epoch 32, Validation MAE Loss: 47.531766308240655\n",
      "Fold 1, Epoch 33, Validation MAE Loss: 49.34600276789389\n",
      "Early stopping triggered\n",
      "Early stopping triggered at epoch 33\n",
      "Starting fold 2\n",
      "Fold 2, Epoch 1, Validation MAE Loss: 53.33863773818844\n",
      "Fold 2, Epoch 2, Validation MAE Loss: 64.56628660722212\n",
      "Fold 2, Epoch 3, Validation MAE Loss: 51.38602270961793\n",
      "Fold 2, Epoch 4, Validation MAE Loss: 48.30935990514834\n",
      "Fold 2, Epoch 5, Validation MAE Loss: 52.884677634751505\n",
      "Fold 2, Epoch 6, Validation MAE Loss: 48.17805280764241\n",
      "Fold 2, Epoch 7, Validation MAE Loss: 47.55721128479508\n",
      "Fold 2, Epoch 8, Validation MAE Loss: 53.99534963182182\n",
      "Fold 2, Epoch 9, Validation MAE Loss: 49.728409380952186\n",
      "Fold 2, Epoch 10, Validation MAE Loss: 53.699011085447204\n",
      "Fold 2, Epoch 11, Validation MAE Loss: 53.16835589448282\n",
      "Fold 2, Epoch 12, Validation MAE Loss: 51.367528048428625\n",
      "Fold 2, Epoch 13, Validation MAE Loss: 47.73989956438049\n",
      "Fold 2, Epoch 14, Validation MAE Loss: 56.89206972989169\n",
      "Fold 2, Epoch 15, Validation MAE Loss: 46.695203245178725\n",
      "Fold 2, Epoch 16, Validation MAE Loss: 53.1628664190119\n",
      "Fold 2, Epoch 17, Validation MAE Loss: 49.80677871073573\n",
      "Fold 2, Epoch 18, Validation MAE Loss: 48.36228979126481\n",
      "Fold 2, Epoch 19, Validation MAE Loss: 47.18379389550075\n",
      "Fold 2, Epoch 20, Validation MAE Loss: 48.70109690516448\n",
      "Fold 2, Epoch 21, Validation MAE Loss: 47.986677075220534\n",
      "Fold 2, Epoch 22, Validation MAE Loss: 51.18994046045729\n",
      "Fold 2, Epoch 23, Validation MAE Loss: 50.07089930132401\n",
      "Fold 2, Epoch 24, Validation MAE Loss: 51.41391574449776\n",
      "Fold 2, Epoch 25, Validation MAE Loss: 60.6899323581664\n",
      "Early stopping triggered\n",
      "Early stopping triggered at epoch 25\n",
      "Starting fold 3\n",
      "Fold 3, Epoch 1, Validation MAE Loss: 83.91255175377712\n",
      "Fold 3, Epoch 2, Validation MAE Loss: 49.254233115960744\n",
      "Fold 3, Epoch 3, Validation MAE Loss: 48.719891666380825\n",
      "Fold 3, Epoch 4, Validation MAE Loss: 48.06940416068085\n",
      "Fold 3, Epoch 5, Validation MAE Loss: 47.784052604486135\n",
      "Fold 3, Epoch 6, Validation MAE Loss: 47.233521863448715\n",
      "Fold 3, Epoch 7, Validation MAE Loss: 47.09265507154228\n",
      "Fold 3, Epoch 8, Validation MAE Loss: 46.94937994460429\n",
      "Fold 3, Epoch 9, Validation MAE Loss: 47.18270817275875\n",
      "Fold 3, Epoch 10, Validation MAE Loss: 47.264949294161205\n",
      "Fold 3, Epoch 11, Validation MAE Loss: 52.53776726840941\n",
      "Fold 3, Epoch 12, Validation MAE Loss: 51.66405070911754\n",
      "Fold 3, Epoch 13, Validation MAE Loss: 49.787687506557496\n",
      "Fold 3, Epoch 14, Validation MAE Loss: 49.173727240444215\n",
      "Fold 3, Epoch 15, Validation MAE Loss: 47.65071063396359\n",
      "Fold 3, Epoch 16, Validation MAE Loss: 48.83102271970638\n",
      "Fold 3, Epoch 17, Validation MAE Loss: 46.77692917752857\n",
      "Fold 3, Epoch 18, Validation MAE Loss: 47.01288557446693\n",
      "Fold 3, Epoch 19, Validation MAE Loss: 46.27291603718908\n",
      "Fold 3, Epoch 20, Validation MAE Loss: 50.16974337238911\n",
      "Fold 3, Epoch 21, Validation MAE Loss: 54.0118353662412\n",
      "Fold 3, Epoch 22, Validation MAE Loss: 47.83098681110981\n",
      "Fold 3, Epoch 23, Validation MAE Loss: 53.33057633707346\n",
      "Fold 3, Epoch 24, Validation MAE Loss: 51.666719231723754\n",
      "Fold 3, Epoch 25, Validation MAE Loss: 47.448758905584164\n",
      "Fold 3, Epoch 26, Validation MAE Loss: 46.78261752168009\n",
      "Fold 3, Epoch 27, Validation MAE Loss: 46.485900342957045\n",
      "Fold 3, Epoch 28, Validation MAE Loss: 50.839169746588084\n",
      "Fold 3, Epoch 29, Validation MAE Loss: 47.59833082088754\n",
      "Early stopping triggered\n",
      "Early stopping triggered at epoch 29\n",
      "Starting fold 4\n",
      "Fold 4, Epoch 1, Validation MAE Loss: 60.23421295418227\n",
      "Fold 4, Epoch 2, Validation MAE Loss: 60.54294898293235\n",
      "Fold 4, Epoch 3, Validation MAE Loss: 52.51554826468475\n",
      "Fold 4, Epoch 4, Validation MAE Loss: 51.3539010040031\n",
      "Fold 4, Epoch 5, Validation MAE Loss: 48.02565134852386\n",
      "Fold 4, Epoch 6, Validation MAE Loss: 47.77087222643135\n",
      "Fold 4, Epoch 7, Validation MAE Loss: 48.449336595771726\n",
      "Fold 4, Epoch 8, Validation MAE Loss: 53.715989262604516\n",
      "Fold 4, Epoch 9, Validation MAE Loss: 48.6790843364621\n",
      "Fold 4, Epoch 10, Validation MAE Loss: 48.119667053222656\n",
      "Fold 4, Epoch 11, Validation MAE Loss: 53.5063194401008\n",
      "Fold 4, Epoch 12, Validation MAE Loss: 51.129059027049166\n",
      "Fold 4, Epoch 13, Validation MAE Loss: 51.87097467469775\n",
      "Fold 4, Epoch 14, Validation MAE Loss: 48.67208934815462\n",
      "Fold 4, Epoch 15, Validation MAE Loss: 49.46593223130407\n",
      "Fold 4, Epoch 16, Validation MAE Loss: 46.92861787149729\n",
      "Fold 4, Epoch 17, Validation MAE Loss: 48.42433447089077\n",
      "Fold 4, Epoch 18, Validation MAE Loss: 51.35650811313597\n",
      "Fold 4, Epoch 19, Validation MAE Loss: 53.93278582234028\n",
      "Fold 4, Epoch 20, Validation MAE Loss: 47.99414109789635\n",
      "Fold 4, Epoch 21, Validation MAE Loss: 47.19687233286456\n",
      "Fold 4, Epoch 22, Validation MAE Loss: 49.923640700411205\n",
      "Fold 4, Epoch 23, Validation MAE Loss: 47.82718712042186\n",
      "Fold 4, Epoch 24, Validation MAE Loss: 50.57810085075946\n",
      "Fold 4, Epoch 25, Validation MAE Loss: 60.76003369418058\n",
      "Fold 4, Epoch 26, Validation MAE Loss: 49.238227907291126\n",
      "Early stopping triggered\n",
      "Early stopping triggered at epoch 26\n",
      "Starting fold 5\n",
      "Fold 5, Epoch 1, Validation MAE Loss: 63.63999866454069\n",
      "Fold 5, Epoch 2, Validation MAE Loss: 49.31746282656331\n",
      "Fold 5, Epoch 3, Validation MAE Loss: 54.034127731953774\n",
      "Fold 5, Epoch 4, Validation MAE Loss: 57.3794023813295\n",
      "Fold 5, Epoch 5, Validation MAE Loss: 56.038262170208384\n",
      "Fold 5, Epoch 6, Validation MAE Loss: 50.529684271694215\n",
      "Fold 5, Epoch 7, Validation MAE Loss: 53.203239598550084\n",
      "Fold 5, Epoch 8, Validation MAE Loss: 48.53920862497377\n",
      "Fold 5, Epoch 9, Validation MAE Loss: 49.37791341986538\n",
      "Fold 5, Epoch 10, Validation MAE Loss: 49.55166411596881\n",
      "Fold 5, Epoch 11, Validation MAE Loss: 46.70235622815849\n",
      "Fold 5, Epoch 12, Validation MAE Loss: 49.006291539215844\n",
      "Fold 5, Epoch 13, Validation MAE Loss: 50.56558114043937\n",
      "Fold 5, Epoch 14, Validation MAE Loss: 50.58320341819574\n",
      "Fold 5, Epoch 15, Validation MAE Loss: 48.39067831118245\n",
      "Fold 5, Epoch 16, Validation MAE Loss: 52.41698323399567\n",
      "Fold 5, Epoch 17, Validation MAE Loss: 53.956873680934436\n",
      "Fold 5, Epoch 18, Validation MAE Loss: 47.282409604915905\n",
      "Fold 5, Epoch 19, Validation MAE Loss: 52.88035602411948\n",
      "Fold 5, Epoch 20, Validation MAE Loss: 46.812449431616415\n",
      "Fold 5, Epoch 21, Validation MAE Loss: 47.32160829906621\n",
      "Early stopping triggered\n",
      "Early stopping triggered at epoch 21\n"
     ]
    }
   ],
   "source": [
    "cross_validate_model(df_transformed, y, n_splits=5, epochs=1000, batch_size=64, epsilon=0.1)"
   ]
  },
  {
   "cell_type": "code",
   "execution_count": 37,
   "id": "98048b85",
   "metadata": {
    "execution": {
     "iopub.execute_input": "2024-04-20T15:25:59.464726Z",
     "iopub.status.busy": "2024-04-20T15:25:59.463446Z",
     "iopub.status.idle": "2024-04-20T15:25:59.470813Z",
     "shell.execute_reply": "2024-04-20T15:25:59.469982Z"
    },
    "papermill": {
     "duration": 0.100803,
     "end_time": "2024-04-20T15:25:59.473242",
     "exception": false,
     "start_time": "2024-04-20T15:25:59.372439",
     "status": "completed"
    },
    "tags": []
   },
   "outputs": [],
   "source": [
    "def load_best_model(input_features):\n",
    "    device = torch.device(\"cuda\" if torch.cuda.is_available() else \"cpu\")\n",
    "    model = MLP(input_dim=X_train.shape[1]).to(device)\n",
    "    model.load_state_dict(torch.load('MLP_best_model.pth', map_location=device))\n",
    "    return model, device"
   ]
  },
  {
   "cell_type": "code",
   "execution_count": 38,
   "id": "0167c481",
   "metadata": {
    "execution": {
     "iopub.execute_input": "2024-04-20T15:25:59.654840Z",
     "iopub.status.busy": "2024-04-20T15:25:59.653951Z",
     "iopub.status.idle": "2024-04-20T15:25:59.662480Z",
     "shell.execute_reply": "2024-04-20T15:25:59.661535Z"
    },
    "papermill": {
     "duration": 0.102933,
     "end_time": "2024-04-20T15:25:59.665227",
     "exception": false,
     "start_time": "2024-04-20T15:25:59.562294",
     "status": "completed"
    },
    "tags": []
   },
   "outputs": [],
   "source": [
    "best_model, device = load_best_model(df_transformed.shape[1])"
   ]
  },
  {
   "cell_type": "code",
   "execution_count": 39,
   "id": "ed2ca30f",
   "metadata": {
    "execution": {
     "iopub.execute_input": "2024-04-20T15:25:59.844738Z",
     "iopub.status.busy": "2024-04-20T15:25:59.843476Z",
     "iopub.status.idle": "2024-04-20T15:26:00.000369Z",
     "shell.execute_reply": "2024-04-20T15:25:59.998991Z"
    },
    "papermill": {
     "duration": 0.251207,
     "end_time": "2024-04-20T15:26:00.003378",
     "exception": false,
     "start_time": "2024-04-20T15:25:59.752171",
     "status": "completed"
    },
    "tags": []
   },
   "outputs": [
    {
     "name": "stdout",
     "output_type": "stream",
     "text": [
      "Test Loss: 45.53801765189266\n"
     ]
    }
   ],
   "source": [
    "evaluate_model(best_model, test_loader, device)"
   ]
  },
  {
   "cell_type": "code",
   "execution_count": 40,
   "id": "d13d1ade",
   "metadata": {
    "execution": {
     "iopub.execute_input": "2024-04-20T15:26:00.184009Z",
     "iopub.status.busy": "2024-04-20T15:26:00.183441Z",
     "iopub.status.idle": "2024-04-20T15:26:00.855106Z",
     "shell.execute_reply": "2024-04-20T15:26:00.853821Z"
    },
    "papermill": {
     "duration": 0.76382,
     "end_time": "2024-04-20T15:26:00.858069",
     "exception": false,
     "start_time": "2024-04-20T15:26:00.094249",
     "status": "completed"
    },
    "tags": []
   },
   "outputs": [
    {
     "data": {
      "image/png": "[encoded data removed]",
      "text/plain": [
       "<Figure size 1000x600 with 1 Axes>"
      ]
     },
     "metadata": {},
     "output_type": "display_data"
    }
   ],
   "source": [
    "plot_predictions(model, test_loader, device)"
   ]
  }
 ],
 "metadata": {
  "kaggle": {
   "accelerator": "none",
   "dataSources": [
    {
     "datasetId": 2894281,
     "sourceId": 4990113,
     "sourceType": "datasetVersion"
    }
   ],
   "dockerImageVersionId": 30684,
   "isGpuEnabled": false,
   "isInternetEnabled": true,
   "language": "python",
   "sourceType": "notebook"
  },
  "kernelspec": {
   "display_name": "Python 3",
   "language": "python",
   "name": "python3"
  },
  "language_info": {
   "codemirror_mode": {
    "name": "ipython",
    "version": 3
   },
   "file_extension": ".py",
   "mimetype": "text/x-python",
   "name": "python",
   "nbconvert_exporter": "python",
   "pygments_lexer": "ipython3",
   "version": "3.10.13"
  },
  "papermill": {
   "default_parameters": {},
   "duration": 603.880549,
   "end_time": "2024-04-20T15:26:02.678642",
   "environment_variables": {},
   "exception": null,
   "input_path": "__notebook__.ipynb",
   "output_path": "__notebook__.ipynb",
   "parameters": {},
   "start_time": "2024-04-20T15:15:58.798093",
   "version": "2.5.0"
  }
 },
 "nbformat": 4,
 "nbformat_minor": 5
}
