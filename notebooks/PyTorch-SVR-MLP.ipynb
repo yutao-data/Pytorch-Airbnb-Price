{
 "cells": [
  {
   "cell_type": "code",
   "execution_count": 1,
   "id": "cf75673b",
   "metadata": {
    "_cell_guid": "b1076dfc-b9ad-4769-8c92-a6c4dae69d19",
    "_uuid": "8f2839f25d086af736a60e9eeb907d3b93b6e0e5",
    "execution": {
     "iopub.execute_input": "2024-04-20T15:14:17.901680Z",
     "iopub.status.busy": "2024-04-20T15:14:17.901295Z",
     "iopub.status.idle": "2024-04-20T15:14:24.212703Z",
     "shell.execute_reply": "2024-04-20T15:14:24.211633Z"
    },
    "papermill": {
     "duration": 6.325642,
     "end_time": "2024-04-20T15:14:24.215950",
     "exception": false,
     "start_time": "2024-04-20T15:14:17.890308",
     "status": "completed"
    },
    "tags": []
   },
   "outputs": [],
   "source": [
    "import numpy as np \n",
    "import pandas as pd\n",
    "from matplotlib import pyplot as plt\n",
    "import math\n",
    "\n",
    "from sklearn.preprocessing import StandardScaler, OneHotEncoder\n",
    "from sklearn.compose import ColumnTransformer\n",
    "from sklearn.pipeline import Pipeline\n",
    "\n",
    "import torch\n",
    "import torch.nn as nn\n",
    "import torch.optim as optim\n",
    "from torch.utils.data import DataLoader, TensorDataset\n",
    "from sklearn.model_selection import train_test_split, KFold\n",
    "\n",
    "from sklearn.metrics import mean_squared_error, mean_absolute_error, r2_score"
   ]
  },
  {
   "cell_type": "code",
   "execution_count": 2,
   "id": "74c71a10",
   "metadata": {
    "execution": {
     "iopub.execute_input": "2024-04-20T15:14:24.236642Z",
     "iopub.status.busy": "2024-04-20T15:14:24.236145Z",
     "iopub.status.idle": "2024-04-20T15:14:24.624539Z",
     "shell.execute_reply": "2024-04-20T15:14:24.623319Z"
    },
    "papermill": {
     "duration": 0.401074,
     "end_time": "2024-04-20T15:14:24.626710",
     "exception": false,
     "start_time": "2024-04-20T15:14:24.225636",
     "status": "completed"
    },
    "tags": []
   },
   "outputs": [],
   "source": [
    "#Amsterdam\n",
    "amsterdam_weekdays = pd.read_csv('/kaggle/input/airbnb-price-determinants-in-europe/amsterdam_weekdays.csv')\n",
    "amsterdam_weekend = pd.read_csv('/kaggle/input/airbnb-price-determinants-in-europe/amsterdam_weekends.csv')\n",
    "\n",
    "#Athens\n",
    "athens_weekdays = pd.read_csv('/kaggle/input/airbnb-price-determinants-in-europe/athens_weekdays.csv')\n",
    "athens_weekend = pd.read_csv('/kaggle/input/airbnb-price-determinants-in-europe/athens_weekends.csv')\n",
    "\n",
    "#Barcelona\n",
    "barcelona_weekdays = pd.read_csv('/kaggle/input/airbnb-price-determinants-in-europe/barcelona_weekdays.csv')\n",
    "barcelona_weekend = pd.read_csv('/kaggle/input/airbnb-price-determinants-in-europe/barcelona_weekends.csv')\n",
    "\n",
    "#Berlin\n",
    "berlin_weekdays = pd.read_csv('/kaggle/input/airbnb-price-determinants-in-europe/berlin_weekdays.csv')\n",
    "berlin_weekend = pd.read_csv('/kaggle/input/airbnb-price-determinants-in-europe/berlin_weekends.csv')\n",
    "\n",
    "#Budapest\n",
    "budapest_weekdays = pd.read_csv('/kaggle/input/airbnb-price-determinants-in-europe/budapest_weekdays.csv')\n",
    "budapest_weekend = pd.read_csv('/kaggle/input/airbnb-price-determinants-in-europe/budapest_weekends.csv')\n",
    "\n",
    "#Lisbon\n",
    "lisbon_weekdays = pd.read_csv('/kaggle/input/airbnb-price-determinants-in-europe/lisbon_weekdays.csv')\n",
    "lisbon_weekend = pd.read_csv('/kaggle/input/airbnb-price-determinants-in-europe/lisbon_weekends.csv')\n",
    "\n",
    "#London\n",
    "london_weekdays = pd.read_csv('/kaggle/input/airbnb-price-determinants-in-europe/london_weekdays.csv')\n",
    "london_weekend = pd.read_csv('/kaggle/input/airbnb-price-determinants-in-europe/london_weekends.csv')\n",
    "\n",
    "#Paris\n",
    "paris_weekdays = pd.read_csv('/kaggle/input/airbnb-price-determinants-in-europe/paris_weekdays.csv')\n",
    "paris_weekend = pd.read_csv('/kaggle/input/airbnb-price-determinants-in-europe/paris_weekends.csv')\n",
    "\n",
    "#Rome\n",
    "rome_weekdays = pd.read_csv('/kaggle/input/airbnb-price-determinants-in-europe/rome_weekdays.csv')\n",
    "rome_weekend = pd.read_csv('/kaggle/input/airbnb-price-determinants-in-europe/rome_weekends.csv')\n",
    "\n",
    "#Vienna\n",
    "vienna_weekdays = pd.read_csv('/kaggle/input/airbnb-price-determinants-in-europe/vienna_weekdays.csv')\n",
    "vienna_weekend = pd.read_csv('/kaggle/input/airbnb-price-determinants-in-europe/vienna_weekends.csv')"
   ]
  },
  {
   "cell_type": "code",
   "execution_count": 3,
   "id": "cf1d130e",
   "metadata": {
    "execution": {
     "iopub.execute_input": "2024-04-20T15:14:24.647815Z",
     "iopub.status.busy": "2024-04-20T15:14:24.647156Z",
     "iopub.status.idle": "2024-04-20T15:14:24.728419Z",
     "shell.execute_reply": "2024-04-20T15:14:24.727494Z"
    },
    "papermill": {
     "duration": 0.094357,
     "end_time": "2024-04-20T15:14:24.730658",
     "exception": false,
     "start_time": "2024-04-20T15:14:24.636301",
     "status": "completed"
    },
    "tags": []
   },
   "outputs": [
    {
     "name": "stdout",
     "output_type": "stream",
     "text": [
      "      realSum     room_type  room_shared  room_private  person_capacity  \\\n",
      "0  194.033698  Private room        False          True              2.0   \n",
      "1  344.245776  Private room        False          True              4.0   \n",
      "2  264.101422  Private room        False          True              2.0   \n",
      "3  433.529398  Private room        False          True              4.0   \n",
      "4  485.552926  Private room        False          True              2.0   \n",
      "\n",
      "   host_is_superhost  multi  biz  cleanliness_rating  \\\n",
      "0              False      1    0                10.0   \n",
      "1              False      0    0                 8.0   \n",
      "2              False      0    1                 9.0   \n",
      "3              False      0    1                 9.0   \n",
      "4               True      0    0                10.0   \n",
      "\n",
      "   guest_satisfaction_overall  ...      dist  metro_dist  attr_index  \\\n",
      "0                        93.0  ...  5.022964    2.539380   78.690379   \n",
      "1                        85.0  ...  0.488389    0.239404  631.176378   \n",
      "2                        87.0  ...  5.748312    3.651621   75.275877   \n",
      "3                        90.0  ...  0.384862    0.439876  493.272534   \n",
      "4                        98.0  ...  0.544738    0.318693  552.830324   \n",
      "\n",
      "   attr_index_norm  rest_index  rest_index_norm      lng       lat       city  \\\n",
      "0         4.166708   98.253896         6.846473  4.90569  52.41772  Amsterdam   \n",
      "1        33.421209  837.280757        58.342928  4.90005  52.37432  Amsterdam   \n",
      "2         3.985908   95.386955         6.646700  4.97512  52.36103  Amsterdam   \n",
      "3        26.119108  875.033098        60.973565  4.89417  52.37663  Amsterdam   \n",
      "4        29.272733  815.305740        56.811677  4.90051  52.37508  Amsterdam   \n",
      "\n",
      "  weekday  \n",
      "0    True  \n",
      "1    True  \n",
      "2    True  \n",
      "3    True  \n",
      "4    True  \n",
      "\n",
      "[5 rows x 21 columns]\n",
      "(51707, 21)\n"
     ]
    }
   ],
   "source": [
    "datasets = [\n",
    "    (amsterdam_weekdays, \"Amsterdam\", True),\n",
    "    (amsterdam_weekend, \"Amsterdam\", False),\n",
    "    (athens_weekdays, \"Athens\", True),\n",
    "    (athens_weekend, \"Athens\", False),\n",
    "    (barcelona_weekdays, \"Barcelona\", True),\n",
    "    (barcelona_weekend, \"Barcelona\", False),\n",
    "    (berlin_weekdays, \"Berlin\", True),\n",
    "    (berlin_weekend, \"Berlin\", False),\n",
    "    (budapest_weekdays, \"Budapest\", True),\n",
    "    (budapest_weekend, \"Budapest\", False),\n",
    "    (lisbon_weekdays, \"Lisbon\", True),\n",
    "    (lisbon_weekend, \"Lisbon\", False),\n",
    "    (london_weekdays, \"London\", True),\n",
    "    (london_weekend, \"London\", False),\n",
    "    (paris_weekdays, \"Paris\", True),\n",
    "    (paris_weekend, \"Paris\", False),\n",
    "    (rome_weekdays, \"Rome\", True),\n",
    "    (rome_weekend, \"Rome\", False),\n",
    "    (vienna_weekdays, \"Vienna\", True),\n",
    "    (vienna_weekend, \"Vienna\", False)\n",
    "]\n",
    "\n",
    "df = pd.DataFrame()\n",
    "\n",
    "for data, city, is_weekday in datasets:\n",
    "    data['city'] = city\n",
    "    data['weekday'] = is_weekday\n",
    "    df = pd.concat([df, data], ignore_index=True)\n",
    "\n",
    "df.drop(columns=['Unnamed: 0'], axis=1, inplace=True)\n",
    "\n",
    "print(df.head())\n",
    "print(df.shape)"
   ]
  },
  {
   "cell_type": "code",
   "execution_count": 4,
   "id": "290100e0",
   "metadata": {
    "execution": {
     "iopub.execute_input": "2024-04-20T15:14:24.752353Z",
     "iopub.status.busy": "2024-04-20T15:14:24.751969Z",
     "iopub.status.idle": "2024-04-20T15:14:24.756467Z",
     "shell.execute_reply": "2024-04-20T15:14:24.755141Z"
    },
    "papermill": {
     "duration": 0.018019,
     "end_time": "2024-04-20T15:14:24.759350",
     "exception": false,
     "start_time": "2024-04-20T15:14:24.741331",
     "status": "completed"
    },
    "tags": []
   },
   "outputs": [],
   "source": [
    "# path = \"/kaggle/input/airbnb-price-determinants-in-europe/barcelona_weekdays.csv\"\n",
    "# df = pd.read_csv(path, index_col=0)\n",
    "# df.head()"
   ]
  },
  {
   "cell_type": "markdown",
   "id": "f1850e08",
   "metadata": {
    "papermill": {
     "duration": 0.009055,
     "end_time": "2024-04-20T15:14:24.778045",
     "exception": false,
     "start_time": "2024-04-20T15:14:24.768990",
     "status": "completed"
    },
    "tags": []
   },
   "source": [
    "# Data Preposessing"
   ]
  },
  {
   "cell_type": "markdown",
   "id": "d8d2daa0",
   "metadata": {
    "papermill": {
     "duration": 0.008913,
     "end_time": "2024-04-20T15:14:24.795996",
     "exception": false,
     "start_time": "2024-04-20T15:14:24.787083",
     "status": "completed"
    },
    "tags": []
   },
   "source": [
    "## Add data shuffle"
   ]
  },
  {
   "cell_type": "code",
   "execution_count": 5,
   "id": "05970375",
   "metadata": {
    "execution": {
     "iopub.execute_input": "2024-04-20T15:14:24.816350Z",
     "iopub.status.busy": "2024-04-20T15:14:24.815993Z",
     "iopub.status.idle": "2024-04-20T15:14:24.846527Z",
     "shell.execute_reply": "2024-04-20T15:14:24.845260Z"
    },
    "papermill": {
     "duration": 0.043101,
     "end_time": "2024-04-20T15:14:24.848619",
     "exception": false,
     "start_time": "2024-04-20T15:14:24.805518",
     "status": "completed"
    },
    "tags": []
   },
   "outputs": [],
   "source": [
    "np.random.seed(144)\n",
    "df = df.sample(frac=1).reset_index(drop=True)"
   ]
  },
  {
   "cell_type": "markdown",
   "id": "7ea2ea8b",
   "metadata": {
    "papermill": {
     "duration": 0.009242,
     "end_time": "2024-04-20T15:14:24.867290",
     "exception": false,
     "start_time": "2024-04-20T15:14:24.858048",
     "status": "completed"
    },
    "tags": []
   },
   "source": [
    "## DEALING WITH MISSING VALUES"
   ]
  },
  {
   "cell_type": "code",
   "execution_count": 6,
   "id": "5e466b4b",
   "metadata": {
    "execution": {
     "iopub.execute_input": "2024-04-20T15:14:24.888917Z",
     "iopub.status.busy": "2024-04-20T15:14:24.888529Z",
     "iopub.status.idle": "2024-04-20T15:14:24.963199Z",
     "shell.execute_reply": "2024-04-20T15:14:24.961705Z"
    },
    "papermill": {
     "duration": 0.088924,
     "end_time": "2024-04-20T15:14:24.965617",
     "exception": false,
     "start_time": "2024-04-20T15:14:24.876693",
     "status": "completed"
    },
    "tags": []
   },
   "outputs": [
    {
     "data": {
      "text/html": [
       "<div>\n",
       "<style scoped>\n",
       "    .dataframe tbody tr th:only-of-type {\n",
       "        vertical-align: middle;\n",
       "    }\n",
       "\n",
       "    .dataframe tbody tr th {\n",
       "        vertical-align: top;\n",
       "    }\n",
       "\n",
       "    .dataframe thead th {\n",
       "        text-align: right;\n",
       "    }\n",
       "</style>\n",
       "<table border=\"1\" class=\"dataframe\">\n",
       "  <thead>\n",
       "    <tr style=\"text-align: right;\">\n",
       "      <th></th>\n",
       "      <th>realSum</th>\n",
       "      <th>person_capacity</th>\n",
       "      <th>multi</th>\n",
       "      <th>biz</th>\n",
       "      <th>cleanliness_rating</th>\n",
       "      <th>guest_satisfaction_overall</th>\n",
       "      <th>bedrooms</th>\n",
       "      <th>dist</th>\n",
       "      <th>metro_dist</th>\n",
       "      <th>attr_index</th>\n",
       "      <th>attr_index_norm</th>\n",
       "      <th>rest_index</th>\n",
       "      <th>rest_index_norm</th>\n",
       "      <th>lng</th>\n",
       "      <th>lat</th>\n",
       "    </tr>\n",
       "  </thead>\n",
       "  <tbody>\n",
       "    <tr>\n",
       "      <th>count</th>\n",
       "      <td>51707.000000</td>\n",
       "      <td>51707.000000</td>\n",
       "      <td>51707.000000</td>\n",
       "      <td>51707.000000</td>\n",
       "      <td>51707.000000</td>\n",
       "      <td>51707.000000</td>\n",
       "      <td>51707.00000</td>\n",
       "      <td>51707.000000</td>\n",
       "      <td>51707.000000</td>\n",
       "      <td>51707.000000</td>\n",
       "      <td>51707.000000</td>\n",
       "      <td>51707.000000</td>\n",
       "      <td>51707.000000</td>\n",
       "      <td>51707.000000</td>\n",
       "      <td>51707.000000</td>\n",
       "    </tr>\n",
       "    <tr>\n",
       "      <th>mean</th>\n",
       "      <td>279.879591</td>\n",
       "      <td>3.161661</td>\n",
       "      <td>0.291353</td>\n",
       "      <td>0.350204</td>\n",
       "      <td>9.390624</td>\n",
       "      <td>92.628232</td>\n",
       "      <td>1.15876</td>\n",
       "      <td>3.191285</td>\n",
       "      <td>0.681540</td>\n",
       "      <td>294.204105</td>\n",
       "      <td>13.423792</td>\n",
       "      <td>626.856696</td>\n",
       "      <td>22.786177</td>\n",
       "      <td>7.426068</td>\n",
       "      <td>45.671128</td>\n",
       "    </tr>\n",
       "    <tr>\n",
       "      <th>std</th>\n",
       "      <td>327.948386</td>\n",
       "      <td>1.298545</td>\n",
       "      <td>0.454390</td>\n",
       "      <td>0.477038</td>\n",
       "      <td>0.954868</td>\n",
       "      <td>8.945531</td>\n",
       "      <td>0.62741</td>\n",
       "      <td>2.393803</td>\n",
       "      <td>0.858023</td>\n",
       "      <td>224.754123</td>\n",
       "      <td>9.807985</td>\n",
       "      <td>497.920226</td>\n",
       "      <td>17.804096</td>\n",
       "      <td>9.799725</td>\n",
       "      <td>5.249263</td>\n",
       "    </tr>\n",
       "    <tr>\n",
       "      <th>min</th>\n",
       "      <td>34.779339</td>\n",
       "      <td>2.000000</td>\n",
       "      <td>0.000000</td>\n",
       "      <td>0.000000</td>\n",
       "      <td>2.000000</td>\n",
       "      <td>20.000000</td>\n",
       "      <td>0.00000</td>\n",
       "      <td>0.015045</td>\n",
       "      <td>0.002301</td>\n",
       "      <td>15.152201</td>\n",
       "      <td>0.926301</td>\n",
       "      <td>19.576924</td>\n",
       "      <td>0.592757</td>\n",
       "      <td>-9.226340</td>\n",
       "      <td>37.953000</td>\n",
       "    </tr>\n",
       "    <tr>\n",
       "      <th>25%</th>\n",
       "      <td>148.752174</td>\n",
       "      <td>2.000000</td>\n",
       "      <td>0.000000</td>\n",
       "      <td>0.000000</td>\n",
       "      <td>9.000000</td>\n",
       "      <td>90.000000</td>\n",
       "      <td>1.00000</td>\n",
       "      <td>1.453142</td>\n",
       "      <td>0.248480</td>\n",
       "      <td>136.797385</td>\n",
       "      <td>6.380926</td>\n",
       "      <td>250.854114</td>\n",
       "      <td>8.751480</td>\n",
       "      <td>-0.072500</td>\n",
       "      <td>41.399510</td>\n",
       "    </tr>\n",
       "    <tr>\n",
       "      <th>50%</th>\n",
       "      <td>211.343089</td>\n",
       "      <td>3.000000</td>\n",
       "      <td>0.000000</td>\n",
       "      <td>0.000000</td>\n",
       "      <td>10.000000</td>\n",
       "      <td>95.000000</td>\n",
       "      <td>1.00000</td>\n",
       "      <td>2.613538</td>\n",
       "      <td>0.413269</td>\n",
       "      <td>234.331748</td>\n",
       "      <td>11.468305</td>\n",
       "      <td>522.052783</td>\n",
       "      <td>17.542238</td>\n",
       "      <td>4.873000</td>\n",
       "      <td>47.506690</td>\n",
       "    </tr>\n",
       "    <tr>\n",
       "      <th>75%</th>\n",
       "      <td>319.694287</td>\n",
       "      <td>4.000000</td>\n",
       "      <td>1.000000</td>\n",
       "      <td>1.000000</td>\n",
       "      <td>10.000000</td>\n",
       "      <td>99.000000</td>\n",
       "      <td>1.00000</td>\n",
       "      <td>4.263077</td>\n",
       "      <td>0.737840</td>\n",
       "      <td>385.756381</td>\n",
       "      <td>17.415082</td>\n",
       "      <td>832.628988</td>\n",
       "      <td>32.964603</td>\n",
       "      <td>13.518825</td>\n",
       "      <td>51.471885</td>\n",
       "    </tr>\n",
       "    <tr>\n",
       "      <th>max</th>\n",
       "      <td>18545.450285</td>\n",
       "      <td>6.000000</td>\n",
       "      <td>1.000000</td>\n",
       "      <td>1.000000</td>\n",
       "      <td>10.000000</td>\n",
       "      <td>100.000000</td>\n",
       "      <td>10.00000</td>\n",
       "      <td>25.284557</td>\n",
       "      <td>14.273577</td>\n",
       "      <td>4513.563486</td>\n",
       "      <td>100.000000</td>\n",
       "      <td>6696.156772</td>\n",
       "      <td>100.000000</td>\n",
       "      <td>23.786020</td>\n",
       "      <td>52.641410</td>\n",
       "    </tr>\n",
       "  </tbody>\n",
       "</table>\n",
       "</div>"
      ],
      "text/plain": [
       "            realSum  person_capacity         multi           biz  \\\n",
       "count  51707.000000     51707.000000  51707.000000  51707.000000   \n",
       "mean     279.879591         3.161661      0.291353      0.350204   \n",
       "std      327.948386         1.298545      0.454390      0.477038   \n",
       "min       34.779339         2.000000      0.000000      0.000000   \n",
       "25%      148.752174         2.000000      0.000000      0.000000   \n",
       "50%      211.343089         3.000000      0.000000      0.000000   \n",
       "75%      319.694287         4.000000      1.000000      1.000000   \n",
       "max    18545.450285         6.000000      1.000000      1.000000   \n",
       "\n",
       "       cleanliness_rating  guest_satisfaction_overall     bedrooms  \\\n",
       "count        51707.000000                51707.000000  51707.00000   \n",
       "mean             9.390624                   92.628232      1.15876   \n",
       "std              0.954868                    8.945531      0.62741   \n",
       "min              2.000000                   20.000000      0.00000   \n",
       "25%              9.000000                   90.000000      1.00000   \n",
       "50%             10.000000                   95.000000      1.00000   \n",
       "75%             10.000000                   99.000000      1.00000   \n",
       "max             10.000000                  100.000000     10.00000   \n",
       "\n",
       "               dist    metro_dist    attr_index  attr_index_norm  \\\n",
       "count  51707.000000  51707.000000  51707.000000     51707.000000   \n",
       "mean       3.191285      0.681540    294.204105        13.423792   \n",
       "std        2.393803      0.858023    224.754123         9.807985   \n",
       "min        0.015045      0.002301     15.152201         0.926301   \n",
       "25%        1.453142      0.248480    136.797385         6.380926   \n",
       "50%        2.613538      0.413269    234.331748        11.468305   \n",
       "75%        4.263077      0.737840    385.756381        17.415082   \n",
       "max       25.284557     14.273577   4513.563486       100.000000   \n",
       "\n",
       "         rest_index  rest_index_norm           lng           lat  \n",
       "count  51707.000000     51707.000000  51707.000000  51707.000000  \n",
       "mean     626.856696        22.786177      7.426068     45.671128  \n",
       "std      497.920226        17.804096      9.799725      5.249263  \n",
       "min       19.576924         0.592757     -9.226340     37.953000  \n",
       "25%      250.854114         8.751480     -0.072500     41.399510  \n",
       "50%      522.052783        17.542238      4.873000     47.506690  \n",
       "75%      832.628988        32.964603     13.518825     51.471885  \n",
       "max     6696.156772       100.000000     23.786020     52.641410  "
      ]
     },
     "execution_count": 6,
     "metadata": {},
     "output_type": "execute_result"
    }
   ],
   "source": [
    "df.describe()"
   ]
  },
  {
   "cell_type": "code",
   "execution_count": 7,
   "id": "97c2d3cd",
   "metadata": {
    "execution": {
     "iopub.execute_input": "2024-04-20T15:14:24.987581Z",
     "iopub.status.busy": "2024-04-20T15:14:24.987229Z",
     "iopub.status.idle": "2024-04-20T15:14:24.993127Z",
     "shell.execute_reply": "2024-04-20T15:14:24.991762Z"
    },
    "papermill": {
     "duration": 0.02004,
     "end_time": "2024-04-20T15:14:24.995760",
     "exception": false,
     "start_time": "2024-04-20T15:14:24.975720",
     "status": "completed"
    },
    "tags": []
   },
   "outputs": [
    {
     "data": {
      "text/plain": [
       "(51707, 21)"
      ]
     },
     "execution_count": 7,
     "metadata": {},
     "output_type": "execute_result"
    }
   ],
   "source": [
    "df.shape"
   ]
  },
  {
   "cell_type": "code",
   "execution_count": 8,
   "id": "7b1c2d30",
   "metadata": {
    "execution": {
     "iopub.execute_input": "2024-04-20T15:14:25.017553Z",
     "iopub.status.busy": "2024-04-20T15:14:25.017196Z",
     "iopub.status.idle": "2024-04-20T15:14:25.029904Z",
     "shell.execute_reply": "2024-04-20T15:14:25.028216Z"
    },
    "papermill": {
     "duration": 0.026312,
     "end_time": "2024-04-20T15:14:25.032285",
     "exception": false,
     "start_time": "2024-04-20T15:14:25.005973",
     "status": "completed"
    },
    "tags": []
   },
   "outputs": [
    {
     "data": {
      "text/plain": [
       "(51707, 21)"
      ]
     },
     "execution_count": 8,
     "metadata": {},
     "output_type": "execute_result"
    }
   ],
   "source": [
    "df_complete = df.dropna()\n",
    "df_complete.shape"
   ]
  },
  {
   "cell_type": "markdown",
   "id": "54ece0c1",
   "metadata": {
    "papermill": {
     "duration": 0.009845,
     "end_time": "2024-04-20T15:14:25.053190",
     "exception": false,
     "start_time": "2024-04-20T15:14:25.043345",
     "status": "completed"
    },
    "tags": []
   },
   "source": [
    "## FINDING OUTLIERS"
   ]
  },
  {
   "cell_type": "code",
   "execution_count": 9,
   "id": "f97b260e",
   "metadata": {
    "execution": {
     "iopub.execute_input": "2024-04-20T15:14:25.074869Z",
     "iopub.status.busy": "2024-04-20T15:14:25.074530Z",
     "iopub.status.idle": "2024-04-20T15:14:25.660449Z",
     "shell.execute_reply": "2024-04-20T15:14:25.659556Z"
    },
    "papermill": {
     "duration": 0.599136,
     "end_time": "2024-04-20T15:14:25.662457",
     "exception": false,
     "start_time": "2024-04-20T15:14:25.063321",
     "status": "completed"
    },
    "tags": []
   },
   "outputs": [
    {
     "data": {
      "image/png": "[encoded data removed]",
      "text/plain": [
       "<Figure size 900x500 with 2 Axes>"
      ]
     },
     "metadata": {},
     "output_type": "display_data"
    }
   ],
   "source": [
    "fig, axes= plt.subplots(1,2, gridspec_kw={'width_ratios': [1, 4]}, figsize=(9,5))\n",
    "df.boxplot(column='realSum',ax=axes[0]);\n",
    "df.hist(column='realSum', ax=axes[1]);"
   ]
  },
  {
   "cell_type": "code",
   "execution_count": 10,
   "id": "92849cc0",
   "metadata": {
    "execution": {
     "iopub.execute_input": "2024-04-20T15:14:25.685796Z",
     "iopub.status.busy": "2024-04-20T15:14:25.684589Z",
     "iopub.status.idle": "2024-04-20T15:14:25.695787Z",
     "shell.execute_reply": "2024-04-20T15:14:25.694795Z"
    },
    "papermill": {
     "duration": 0.024837,
     "end_time": "2024-04-20T15:14:25.697818",
     "exception": false,
     "start_time": "2024-04-20T15:14:25.672981",
     "status": "completed"
    },
    "tags": []
   },
   "outputs": [
    {
     "data": {
      "text/plain": [
       "(148.75217370869953, 319.69428651318856, 170.94211280448903)"
      ]
     },
     "execution_count": 10,
     "metadata": {},
     "output_type": "execute_result"
    }
   ],
   "source": [
    "Q1 = df['realSum'].quantile(0.25)\n",
    "Q3 = df['realSum'].quantile(0.75)\n",
    "IQR = Q3 - Q1\n",
    "\n",
    "Q1, Q3, IQR"
   ]
  },
  {
   "cell_type": "code",
   "execution_count": 11,
   "id": "c4f00570",
   "metadata": {
    "execution": {
     "iopub.execute_input": "2024-04-20T15:14:25.721001Z",
     "iopub.status.busy": "2024-04-20T15:14:25.719997Z",
     "iopub.status.idle": "2024-04-20T15:14:25.738303Z",
     "shell.execute_reply": "2024-04-20T15:14:25.736676Z"
    },
    "papermill": {
     "duration": 0.032333,
     "end_time": "2024-04-20T15:14:25.740761",
     "exception": false,
     "start_time": "2024-04-20T15:14:25.708428",
     "status": "completed"
    },
    "tags": []
   },
   "outputs": [
    {
     "data": {
      "text/plain": [
       "(0, 3662)"
      ]
     },
     "execution_count": 11,
     "metadata": {},
     "output_type": "execute_result"
    }
   ],
   "source": [
    "small_outliers = df['realSum'] < (Q1 - 1.5 * IQR)\n",
    "big_outliers = df['realSum'] > (Q3 + 1.5 * IQR)\n",
    "\n",
    "sum(small_outliers), sum(big_outliers)"
   ]
  },
  {
   "cell_type": "code",
   "execution_count": 12,
   "id": "f5469b63",
   "metadata": {
    "execution": {
     "iopub.execute_input": "2024-04-20T15:14:25.763999Z",
     "iopub.status.busy": "2024-04-20T15:14:25.763633Z",
     "iopub.status.idle": "2024-04-20T15:14:25.771838Z",
     "shell.execute_reply": "2024-04-20T15:14:25.771135Z"
    },
    "papermill": {
     "duration": 0.02204,
     "end_time": "2024-04-20T15:14:25.773560",
     "exception": false,
     "start_time": "2024-04-20T15:14:25.751520",
     "status": "completed"
    },
    "tags": []
   },
   "outputs": [
    {
     "data": {
      "text/plain": [
       "60     698.806972\n",
       "66     956.983937\n",
       "83     593.852160\n",
       "95     636.702364\n",
       "99    2311.738714\n",
       "Name: realSum, dtype: float64"
      ]
     },
     "execution_count": 12,
     "metadata": {},
     "output_type": "execute_result"
    }
   ],
   "source": [
    "df['realSum'][small_outliers | big_outliers].head()"
   ]
  },
  {
   "cell_type": "code",
   "execution_count": 13,
   "id": "7bd35e29",
   "metadata": {
    "execution": {
     "iopub.execute_input": "2024-04-20T15:14:25.796874Z",
     "iopub.status.busy": "2024-04-20T15:14:25.796361Z",
     "iopub.status.idle": "2024-04-20T15:14:26.179867Z",
     "shell.execute_reply": "2024-04-20T15:14:26.178636Z"
    },
    "papermill": {
     "duration": 0.39742,
     "end_time": "2024-04-20T15:14:26.181826",
     "exception": false,
     "start_time": "2024-04-20T15:14:25.784406",
     "status": "completed"
    },
    "tags": []
   },
   "outputs": [
    {
     "data": {
      "image/png": "[encoded data removed]",
      "text/plain": [
       "<Figure size 900x500 with 2 Axes>"
      ]
     },
     "metadata": {},
     "output_type": "display_data"
    }
   ],
   "source": [
    "fig, axes= plt.subplots(1,2, gridspec_kw={'width_ratios': [1, 4]}, figsize=(9,5))\n",
    "df[~(small_outliers | big_outliers)].boxplot(column='realSum',ax=axes[0]);\n",
    "df[~(small_outliers | big_outliers)].hist(column='realSum', ax=axes[1]);"
   ]
  },
  {
   "cell_type": "code",
   "execution_count": 14,
   "id": "d1d75178",
   "metadata": {
    "execution": {
     "iopub.execute_input": "2024-04-20T15:14:26.205331Z",
     "iopub.status.busy": "2024-04-20T15:14:26.204941Z",
     "iopub.status.idle": "2024-04-20T15:14:26.217088Z",
     "shell.execute_reply": "2024-04-20T15:14:26.215994Z"
    },
    "papermill": {
     "duration": 0.02698,
     "end_time": "2024-04-20T15:14:26.219673",
     "exception": false,
     "start_time": "2024-04-20T15:14:26.192693",
     "status": "completed"
    },
    "tags": []
   },
   "outputs": [
    {
     "data": {
      "text/plain": [
       "(48045, 21)"
      ]
     },
     "execution_count": 14,
     "metadata": {},
     "output_type": "execute_result"
    }
   ],
   "source": [
    "df_clean = df[~(small_outliers | big_outliers)]\n",
    "df_clean.shape"
   ]
  },
  {
   "cell_type": "code",
   "execution_count": 15,
   "id": "aca48bd5",
   "metadata": {
    "execution": {
     "iopub.execute_input": "2024-04-20T15:14:26.244089Z",
     "iopub.status.busy": "2024-04-20T15:14:26.243522Z",
     "iopub.status.idle": "2024-04-20T15:14:26.250782Z",
     "shell.execute_reply": "2024-04-20T15:14:26.249309Z"
    },
    "papermill": {
     "duration": 0.022481,
     "end_time": "2024-04-20T15:14:26.253473",
     "exception": false,
     "start_time": "2024-04-20T15:14:26.230992",
     "status": "completed"
    },
    "tags": []
   },
   "outputs": [
    {
     "data": {
      "text/plain": [
       "realSum                       float64\n",
       "room_type                      object\n",
       "room_shared                      bool\n",
       "room_private                     bool\n",
       "person_capacity               float64\n",
       "host_is_superhost                bool\n",
       "multi                           int64\n",
       "biz                             int64\n",
       "cleanliness_rating            float64\n",
       "guest_satisfaction_overall    float64\n",
       "bedrooms                        int64\n",
       "dist                          float64\n",
       "metro_dist                    float64\n",
       "attr_index                    float64\n",
       "attr_index_norm               float64\n",
       "rest_index                    float64\n",
       "rest_index_norm               float64\n",
       "lng                           float64\n",
       "lat                           float64\n",
       "city                           object\n",
       "weekday                          bool\n",
       "dtype: object"
      ]
     },
     "execution_count": 15,
     "metadata": {},
     "output_type": "execute_result"
    }
   ],
   "source": [
    "df_clean.dtypes"
   ]
  },
  {
   "cell_type": "code",
   "execution_count": 16,
   "id": "9cbfba94",
   "metadata": {
    "execution": {
     "iopub.execute_input": "2024-04-20T15:14:26.277546Z",
     "iopub.status.busy": "2024-04-20T15:14:26.277212Z",
     "iopub.status.idle": "2024-04-20T15:14:26.282762Z",
     "shell.execute_reply": "2024-04-20T15:14:26.281052Z"
    },
    "papermill": {
     "duration": 0.019969,
     "end_time": "2024-04-20T15:14:26.284856",
     "exception": false,
     "start_time": "2024-04-20T15:14:26.264887",
     "status": "completed"
    },
    "tags": []
   },
   "outputs": [],
   "source": [
    "# df_clean.to_csv('out.csv', index=False) "
   ]
  },
  {
   "cell_type": "code",
   "execution_count": 17,
   "id": "5a758fad",
   "metadata": {
    "execution": {
     "iopub.execute_input": "2024-04-20T15:14:26.310051Z",
     "iopub.status.busy": "2024-04-20T15:14:26.309662Z",
     "iopub.status.idle": "2024-04-20T15:14:26.389774Z",
     "shell.execute_reply": "2024-04-20T15:14:26.388828Z"
    },
    "papermill": {
     "duration": 0.095061,
     "end_time": "2024-04-20T15:14:26.391619",
     "exception": false,
     "start_time": "2024-04-20T15:14:26.296558",
     "status": "completed"
    },
    "tags": []
   },
   "outputs": [
    {
     "name": "stdout",
     "output_type": "stream",
     "text": [
      "['person_capacity', 'multi', 'biz', 'cleanliness_rating', 'guest_satisfaction_overall', 'bedrooms', 'dist', 'metro_dist', 'attr_index', 'attr_index_norm', 'rest_index', 'rest_index_norm', 'lng', 'lat', 'room_type_Entire home/apt', 'room_type_Private room', 'room_type_Shared room', 'room_shared_False', 'room_shared_True', 'room_private_False', 'room_private_True', 'host_is_superhost_False', 'host_is_superhost_True', 'city_Amsterdam', 'city_Athens', 'city_Barcelona', 'city_Berlin', 'city_Budapest', 'city_Lisbon', 'city_London', 'city_Paris', 'city_Rome', 'city_Vienna', 'weekday_False', 'weekday_True']\n",
      "(48045, 35)\n"
     ]
    }
   ],
   "source": [
    "# Identifying categorical and numerical columns\n",
    "categorical_cols = [col for col in df_clean.columns if df_clean[col].dtype in ['object', 'bool']]\n",
    "numerical_cols = [col for col in df_clean.columns if df_clean[col].dtype in ['int64', 'float64'] and col != 'realSum']\n",
    "\n",
    "# Adjust transformers if necessary\n",
    "categorical_transformer = OneHotEncoder(handle_unknown='ignore')\n",
    "numerical_transformer = StandardScaler()\n",
    "\n",
    "# Update preprocessor\n",
    "preprocessor = ColumnTransformer(\n",
    "    transformers=[\n",
    "        ('num', numerical_transformer, numerical_cols),\n",
    "        ('cat', categorical_transformer, categorical_cols)\n",
    "    ])\n",
    "\n",
    "# Fit and transform the data\n",
    "df_transformed = preprocessor.fit_transform(df_clean.drop('realSum', axis=1))\n",
    "\n",
    "# Check transformed feature names and dimensions\n",
    "transformed_features = preprocessor.transformers_[0][1].get_feature_names_out(numerical_cols).tolist() + \\\n",
    "                       preprocessor.transformers_[1][1].get_feature_names_out(categorical_cols).tolist()\n",
    "\n",
    "print(transformed_features)\n",
    "print(df_transformed.shape)"
   ]
  },
  {
   "cell_type": "markdown",
   "id": "d9d73025",
   "metadata": {
    "papermill": {
     "duration": 0.066026,
     "end_time": "2024-04-20T15:14:26.468978",
     "exception": false,
     "start_time": "2024-04-20T15:14:26.402952",
     "status": "completed"
    },
    "tags": []
   },
   "source": [
    "# Prepare Training Data"
   ]
  },
  {
   "cell_type": "code",
   "execution_count": 18,
   "id": "f0ebbd40",
   "metadata": {
    "execution": {
     "iopub.execute_input": "2024-04-20T15:14:26.492913Z",
     "iopub.status.busy": "2024-04-20T15:14:26.492546Z",
     "iopub.status.idle": "2024-04-20T15:14:26.497528Z",
     "shell.execute_reply": "2024-04-20T15:14:26.496540Z"
    },
    "papermill": {
     "duration": 0.019087,
     "end_time": "2024-04-20T15:14:26.499310",
     "exception": false,
     "start_time": "2024-04-20T15:14:26.480223",
     "status": "completed"
    },
    "tags": []
   },
   "outputs": [],
   "source": [
    "# y = df_clean['realSum'].values\n",
    "\n",
    "# # Create Train Data and Test Data\n",
    "# X_train, X_test, y_train, y_test = train_test_split(df_transformed, y, test_size=0.2, random_state=42)\n",
    "# X_train = torch.tensor(X_train, dtype=torch.float32)\n",
    "# X_test = torch.tensor(X_test, dtype=torch.float32)\n",
    "# y_train = torch.tensor(y_train, dtype=torch.float32)\n",
    "# y_test = torch.tensor(y_test, dtype=torch.float32)\n",
    "\n",
    "# # Create DataLoader\n",
    "# train_dataset = TensorDataset(X_train, y_train)\n",
    "# test_dataset = TensorDataset(X_test, y_test)\n",
    "\n",
    "# train_loader = DataLoader(train_dataset, batch_size=64, shuffle=True)\n",
    "# test_loader = DataLoader(test_dataset, batch_size=64, shuffle=False)"
   ]
  },
  {
   "cell_type": "code",
   "execution_count": 19,
   "id": "99b1d705",
   "metadata": {
    "execution": {
     "iopub.execute_input": "2024-04-20T15:14:26.524579Z",
     "iopub.status.busy": "2024-04-20T15:14:26.523977Z",
     "iopub.status.idle": "2024-04-20T15:14:26.586147Z",
     "shell.execute_reply": "2024-04-20T15:14:26.585076Z"
    },
    "papermill": {
     "duration": 0.077496,
     "end_time": "2024-04-20T15:14:26.588593",
     "exception": false,
     "start_time": "2024-04-20T15:14:26.511097",
     "status": "completed"
    },
    "tags": []
   },
   "outputs": [],
   "source": [
    "y = df_clean['realSum'].values\n",
    "\n",
    "# Split Test Data\n",
    "X_train_val, X_test, y_train_val, y_test = train_test_split(df_transformed, y, test_size=0.2, random_state=42)\n",
    "\n",
    "# Split Validation Data\n",
    "X_train, X_val, y_train, y_val = train_test_split(X_train_val, y_train_val, test_size=0.25, random_state=42) \n",
    "\n",
    "train_dataset = TensorDataset(torch.tensor(X_train, dtype=torch.float32), torch.tensor(y_train, dtype=torch.float32))\n",
    "val_dataset = TensorDataset(torch.tensor(X_val, dtype=torch.float32), torch.tensor(y_val, dtype=torch.float32))\n",
    "test_dataset = TensorDataset(torch.tensor(X_test, dtype=torch.float32), torch.tensor(y_test, dtype=torch.float32))\n",
    "\n",
    "train_loader = DataLoader(train_dataset, batch_size=64, shuffle=True)\n",
    "val_loader = DataLoader(val_dataset, batch_size=64, shuffle=False)\n",
    "test_loader = DataLoader(test_dataset, batch_size=64, shuffle=False)"
   ]
  },
  {
   "cell_type": "markdown",
   "id": "2522ce3c",
   "metadata": {
    "papermill": {
     "duration": 0.011282,
     "end_time": "2024-04-20T15:14:26.611595",
     "exception": false,
     "start_time": "2024-04-20T15:14:26.600313",
     "status": "completed"
    },
    "tags": []
   },
   "source": [
    "# Define SVM Model"
   ]
  },
  {
   "cell_type": "code",
   "execution_count": 20,
   "id": "3a179cb0",
   "metadata": {
    "execution": {
     "iopub.execute_input": "2024-04-20T15:14:26.636043Z",
     "iopub.status.busy": "2024-04-20T15:14:26.635691Z",
     "iopub.status.idle": "2024-04-20T15:14:26.641705Z",
     "shell.execute_reply": "2024-04-20T15:14:26.640313Z"
    },
    "papermill": {
     "duration": 0.020784,
     "end_time": "2024-04-20T15:14:26.643842",
     "exception": false,
     "start_time": "2024-04-20T15:14:26.623058",
     "status": "completed"
    },
    "tags": []
   },
   "outputs": [
    {
     "name": "stdout",
     "output_type": "stream",
     "text": [
      "Using cpu device\n"
     ]
    }
   ],
   "source": [
    "device = (\n",
    "    \"cuda\"\n",
    "    if torch.cuda.is_available()\n",
    "    else \"mps\"\n",
    "    if torch.backends.mps.is_available()\n",
    "    else \"cpu\"\n",
    ")\n",
    "print(f\"Using {device} device\")"
   ]
  },
  {
   "cell_type": "code",
   "execution_count": 21,
   "id": "49cab7e1",
   "metadata": {
    "execution": {
     "iopub.execute_input": "2024-04-20T15:14:26.669081Z",
     "iopub.status.busy": "2024-04-20T15:14:26.668695Z",
     "iopub.status.idle": "2024-04-20T15:14:26.674522Z",
     "shell.execute_reply": "2024-04-20T15:14:26.673107Z"
    },
    "papermill": {
     "duration": 0.021011,
     "end_time": "2024-04-20T15:14:26.676751",
     "exception": false,
     "start_time": "2024-04-20T15:14:26.655740",
     "status": "completed"
    },
    "tags": []
   },
   "outputs": [],
   "source": [
    "class SVR(nn.Module):\n",
    "    def __init__(self, n_features):\n",
    "        super(SVR, self).__init__()\n",
    "        self.linear = nn.Linear(n_features, 1)\n",
    "\n",
    "    def forward(self, x):\n",
    "        return self.linear(x)"
   ]
  },
  {
   "cell_type": "code",
   "execution_count": 22,
   "id": "8bdcdf34",
   "metadata": {
    "execution": {
     "iopub.execute_input": "2024-04-20T15:14:26.702383Z",
     "iopub.status.busy": "2024-04-20T15:14:26.701827Z",
     "iopub.status.idle": "2024-04-20T15:14:26.706513Z",
     "shell.execute_reply": "2024-04-20T15:14:26.705463Z"
    },
    "papermill": {
     "duration": 0.01985,
     "end_time": "2024-04-20T15:14:26.708455",
     "exception": false,
     "start_time": "2024-04-20T15:14:26.688605",
     "status": "completed"
    },
    "tags": []
   },
   "outputs": [],
   "source": [
    "def epsilon_insensitive_loss(outputs, targets, epsilon=0.1):\n",
    "    errors = torch.abs(targets - outputs.squeeze())\n",
    "\n",
    "    loss = torch.mean(torch.max(errors - epsilon, torch.zeros_like(errors)))\n",
    "    return loss"
   ]
  },
  {
   "cell_type": "code",
   "execution_count": 23,
   "id": "39ff391f",
   "metadata": {
    "execution": {
     "iopub.execute_input": "2024-04-20T15:14:26.733514Z",
     "iopub.status.busy": "2024-04-20T15:14:26.733100Z",
     "iopub.status.idle": "2024-04-20T15:14:26.760247Z",
     "shell.execute_reply": "2024-04-20T15:14:26.758484Z"
    },
    "papermill": {
     "duration": 0.042524,
     "end_time": "2024-04-20T15:14:26.762562",
     "exception": false,
     "start_time": "2024-04-20T15:14:26.720038",
     "status": "completed"
    },
    "tags": []
   },
   "outputs": [
    {
     "name": "stdout",
     "output_type": "stream",
     "text": [
      "SVR(\n",
      "  (linear): Linear(in_features=35, out_features=1, bias=True)\n",
      ")\n"
     ]
    }
   ],
   "source": [
    "model = SVR(X_train.shape[1]).to(device)\n",
    "print(model)"
   ]
  },
  {
   "cell_type": "code",
   "execution_count": 24,
   "id": "d81b53d8",
   "metadata": {
    "execution": {
     "iopub.execute_input": "2024-04-20T15:14:26.787372Z",
     "iopub.status.busy": "2024-04-20T15:14:26.786868Z",
     "iopub.status.idle": "2024-04-20T15:14:29.696456Z",
     "shell.execute_reply": "2024-04-20T15:14:29.694736Z"
    },
    "papermill": {
     "duration": 2.925089,
     "end_time": "2024-04-20T15:14:29.699327",
     "exception": false,
     "start_time": "2024-04-20T15:14:26.774238",
     "status": "completed"
    },
    "tags": []
   },
   "outputs": [],
   "source": [
    "optimizer = torch.optim.SGD(model.parameters(), lr=0.01, weight_decay=0.01)"
   ]
  },
  {
   "cell_type": "code",
   "execution_count": 25,
   "id": "0a73866b",
   "metadata": {
    "execution": {
     "iopub.execute_input": "2024-04-20T15:14:29.726818Z",
     "iopub.status.busy": "2024-04-20T15:14:29.726297Z",
     "iopub.status.idle": "2024-04-20T15:14:29.734842Z",
     "shell.execute_reply": "2024-04-20T15:14:29.733230Z"
    },
    "papermill": {
     "duration": 0.02605,
     "end_time": "2024-04-20T15:14:29.737997",
     "exception": false,
     "start_time": "2024-04-20T15:14:29.711947",
     "status": "completed"
    },
    "tags": []
   },
   "outputs": [],
   "source": [
    "class EarlyStopping:\n",
    "    def __init__(self, patience=10, verbose=False, delta=0.0001):  \n",
    "        self.patience = patience\n",
    "        self.verbose = verbose\n",
    "        self.delta = delta\n",
    "        self.reset()\n",
    "\n",
    "    def reset(self):\n",
    "        self.best_score = None\n",
    "        self.epochs_no_improve = 0\n",
    "        self.early_stop = False\n",
    "\n",
    "    def __call__(self, val_loss):\n",
    "        score = -val_loss\n",
    "        if self.best_score is None:\n",
    "            self.best_score = score\n",
    "        elif score < self.best_score - self.delta:  \n",
    "            self.epochs_no_improve += 1\n",
    "            if self.epochs_no_improve >= self.patience:\n",
    "                self.early_stop = True\n",
    "                if self.verbose:\n",
    "                    print(\"Early stopping triggered\")\n",
    "        else:\n",
    "            self.best_score = score\n",
    "            self.epochs_no_improve = 0"
   ]
  },
  {
   "cell_type": "markdown",
   "id": "e9363f3e",
   "metadata": {
    "papermill": {
     "duration": 0.012643,
     "end_time": "2024-04-20T15:14:29.762454",
     "exception": false,
     "start_time": "2024-04-20T15:14:29.749811",
     "status": "completed"
    },
    "tags": []
   },
   "source": [
    "# Model Training"
   ]
  },
  {
   "cell_type": "code",
   "execution_count": 26,
   "id": "7b9c3974",
   "metadata": {
    "execution": {
     "iopub.execute_input": "2024-04-20T15:14:29.789019Z",
     "iopub.status.busy": "2024-04-20T15:14:29.788644Z",
     "iopub.status.idle": "2024-04-20T15:14:29.802639Z",
     "shell.execute_reply": "2024-04-20T15:14:29.801055Z"
    },
    "papermill": {
     "duration": 0.030171,
     "end_time": "2024-04-20T15:14:29.805195",
     "exception": false,
     "start_time": "2024-04-20T15:14:29.775024",
     "status": "completed"
    },
    "tags": []
   },
   "outputs": [],
   "source": [
    "def cross_validate_model(X, y, n_splits=5, epochs=50, batch_size=64, epsilon=0.1):\n",
    "    X_train_val, X_test, y_train_val, y_test = train_test_split(X, y, test_size=0.2, random_state=42)\n",
    "    kf = KFold(n_splits=n_splits, shuffle=True, random_state=42)\n",
    "    best_model = None\n",
    "    lowest_val_loss = np.inf\n",
    "\n",
    "    for fold, (train_index, val_index) in enumerate(kf.split(X_train_val), 1):\n",
    "        print(f\"Starting fold {fold}\")\n",
    "        X_train, X_val = X_train_val[train_index], X_train_val[val_index]\n",
    "        y_train, y_val = y_train_val[train_index], y_train_val[val_index]\n",
    "\n",
    "        train_dataset = TensorDataset(torch.tensor(X_train, dtype=torch.float32), torch.tensor(y_train, dtype=torch.float32))\n",
    "        val_dataset = TensorDataset(torch.tensor(X_val, dtype=torch.float32), torch.tensor(y_val, dtype=torch.float32))\n",
    "        train_loader = DataLoader(train_dataset, batch_size=batch_size, shuffle=True)\n",
    "        val_loader = DataLoader(val_dataset, batch_size=batch_size, shuffle=False)\n",
    "\n",
    "        device = torch.device(\"cuda\" if torch.cuda.is_available() else \"cpu\")\n",
    "        model = SVR(n_features=X_train.shape[1]).to(device)\n",
    "        optimizer = torch.optim.SGD(model.parameters(), lr=0.01, weight_decay=0.01)\n",
    "        early_stopping = EarlyStopping(patience=10, verbose=True)\n",
    "\n",
    "        for epoch in range(epochs):\n",
    "            model.train()\n",
    "            for data, target in train_loader:\n",
    "                data, target = data.to(device), target.to(device)\n",
    "                optimizer.zero_grad()\n",
    "                output = model(data)\n",
    "                loss = epsilon_insensitive_loss(output, target, epsilon)\n",
    "                loss.backward()\n",
    "                optimizer.step()\n",
    "\n",
    "            val_loss = 0\n",
    "            model.eval()\n",
    "            with torch.no_grad():\n",
    "                for data, target in val_loader:\n",
    "                    data, target = data.to(device), target.to(device)\n",
    "                    output = model(data)\n",
    "                    val_loss += epsilon_insensitive_loss(output, target, epsilon).item()\n",
    "            val_loss /= len(val_loader)\n",
    "\n",
    "            print(f'Fold {fold}, Epoch {epoch+1}, Validation MAE Loss: {val_loss}')\n",
    "            if val_loss < lowest_val_loss:\n",
    "                lowest_val_loss = val_loss\n",
    "                best_model = model.state_dict()  # Save the best model\n",
    "                torch.save(best_model, 'best_model.pth')  # Save model to disk\n",
    "\n",
    "            early_stopping(val_loss)\n",
    "            if early_stopping.early_stop:\n",
    "                print(f\"Early stopping triggered at epoch {epoch+1}\")\n",
    "                break"
   ]
  },
  {
   "cell_type": "code",
   "execution_count": 27,
   "id": "27242b43",
   "metadata": {
    "execution": {
     "iopub.execute_input": "2024-04-20T15:14:29.830034Z",
     "iopub.status.busy": "2024-04-20T15:14:29.829695Z",
     "iopub.status.idle": "2024-04-20T15:19:03.068352Z",
     "shell.execute_reply": "2024-04-20T15:19:03.067086Z"
    },
    "papermill": {
     "duration": 273.253756,
     "end_time": "2024-04-20T15:19:03.070683",
     "exception": false,
     "start_time": "2024-04-20T15:14:29.816927",
     "status": "completed"
    },
    "tags": []
   },
   "outputs": [
    {
     "name": "stdout",
     "output_type": "stream",
     "text": [
      "Starting fold 1\n",
      "Fold 1, Epoch 1, Validation MAE Loss: 208.93621990109278\n",
      "Fold 1, Epoch 2, Validation MAE Loss: 189.811066556568\n",
      "Fold 1, Epoch 3, Validation MAE Loss: 171.63432488559693\n",
      "Fold 1, Epoch 4, Validation MAE Loss: 154.69787269781443\n",
      "Fold 1, Epoch 5, Validation MAE Loss: 139.62003433605855\n",
      "Fold 1, Epoch 6, Validation MAE Loss: 126.81470993924732\n",
      "Fold 1, Epoch 7, Validation MAE Loss: 116.38952207959387\n",
      "Fold 1, Epoch 8, Validation MAE Loss: 108.06201297980695\n",
      "Fold 1, Epoch 9, Validation MAE Loss: 101.58340107310902\n",
      "Fold 1, Epoch 10, Validation MAE Loss: 96.47964212717103\n",
      "Fold 1, Epoch 11, Validation MAE Loss: 92.49959753367527\n",
      "Fold 1, Epoch 12, Validation MAE Loss: 89.3365273593871\n",
      "Fold 1, Epoch 13, Validation MAE Loss: 86.84740447998047\n",
      "Fold 1, Epoch 14, Validation MAE Loss: 84.84803043712269\n",
      "Fold 1, Epoch 15, Validation MAE Loss: 83.22738228159503\n",
      "Fold 1, Epoch 16, Validation MAE Loss: 81.90943996965393\n",
      "Fold 1, Epoch 17, Validation MAE Loss: 80.80092683902457\n",
      "Fold 1, Epoch 18, Validation MAE Loss: 79.87708613498152\n",
      "Fold 1, Epoch 19, Validation MAE Loss: 79.09949162380754\n",
      "Fold 1, Epoch 20, Validation MAE Loss: 78.43940961853532\n",
      "Fold 1, Epoch 21, Validation MAE Loss: 77.85664197433093\n",
      "Fold 1, Epoch 22, Validation MAE Loss: 77.35212899830715\n",
      "Fold 1, Epoch 23, Validation MAE Loss: 76.90908958498112\n",
      "Fold 1, Epoch 24, Validation MAE Loss: 76.52411326889164\n",
      "Fold 1, Epoch 25, Validation MAE Loss: 76.18394725578875\n",
      "Fold 1, Epoch 26, Validation MAE Loss: 75.8737385647356\n",
      "Fold 1, Epoch 27, Validation MAE Loss: 75.60629745357292\n",
      "Fold 1, Epoch 28, Validation MAE Loss: 75.35909605420325\n",
      "Fold 1, Epoch 29, Validation MAE Loss: 75.13457495318957\n",
      "Fold 1, Epoch 30, Validation MAE Loss: 74.93413058194247\n",
      "Fold 1, Epoch 31, Validation MAE Loss: 74.75814790962156\n",
      "Fold 1, Epoch 32, Validation MAE Loss: 74.60034138703149\n",
      "Fold 1, Epoch 33, Validation MAE Loss: 74.45094302469049\n",
      "Fold 1, Epoch 34, Validation MAE Loss: 74.31713816745223\n",
      "Fold 1, Epoch 35, Validation MAE Loss: 74.19061613476966\n",
      "Fold 1, Epoch 36, Validation MAE Loss: 74.07869238104702\n",
      "Fold 1, Epoch 37, Validation MAE Loss: 73.9740385575728\n",
      "Fold 1, Epoch 38, Validation MAE Loss: 73.88719542952609\n",
      "Fold 1, Epoch 39, Validation MAE Loss: 73.80309664513454\n",
      "Fold 1, Epoch 40, Validation MAE Loss: 73.7231212332229\n",
      "Fold 1, Epoch 41, Validation MAE Loss: 73.6662077154995\n",
      "Fold 1, Epoch 42, Validation MAE Loss: 73.6022776138684\n",
      "Fold 1, Epoch 43, Validation MAE Loss: 73.55197531329699\n",
      "Fold 1, Epoch 44, Validation MAE Loss: 73.49830936400359\n",
      "Fold 1, Epoch 45, Validation MAE Loss: 73.45114608638542\n",
      "Fold 1, Epoch 46, Validation MAE Loss: 73.4120710388688\n",
      "Fold 1, Epoch 47, Validation MAE Loss: 73.37080045968048\n",
      "Fold 1, Epoch 48, Validation MAE Loss: 73.34738326269733\n",
      "Fold 1, Epoch 49, Validation MAE Loss: 73.30583676424894\n",
      "Fold 1, Epoch 50, Validation MAE Loss: 73.27258152607058\n",
      "Fold 1, Epoch 51, Validation MAE Loss: 73.24672670600827\n",
      "Fold 1, Epoch 52, Validation MAE Loss: 73.2180158441717\n",
      "Fold 1, Epoch 53, Validation MAE Loss: 73.19021770382716\n",
      "Fold 1, Epoch 54, Validation MAE Loss: 73.16241855463706\n",
      "Fold 1, Epoch 55, Validation MAE Loss: 73.14890049705821\n",
      "Fold 1, Epoch 56, Validation MAE Loss: 73.12611086506489\n",
      "Fold 1, Epoch 57, Validation MAE Loss: 73.10233332105905\n",
      "Fold 1, Epoch 58, Validation MAE Loss: 73.08529149205232\n",
      "Fold 1, Epoch 59, Validation MAE Loss: 73.07758539373225\n",
      "Fold 1, Epoch 60, Validation MAE Loss: 73.066614450502\n",
      "Fold 1, Epoch 61, Validation MAE Loss: 73.05489434486579\n",
      "Fold 1, Epoch 62, Validation MAE Loss: 73.04430695210607\n",
      "Fold 1, Epoch 63, Validation MAE Loss: 73.03928413075849\n",
      "Fold 1, Epoch 64, Validation MAE Loss: 73.02690055153586\n",
      "Fold 1, Epoch 65, Validation MAE Loss: 73.01503293376324\n",
      "Fold 1, Epoch 66, Validation MAE Loss: 73.00510031329699\n",
      "Fold 1, Epoch 67, Validation MAE Loss: 72.99686838575631\n",
      "Fold 1, Epoch 68, Validation MAE Loss: 72.99210808493875\n",
      "Fold 1, Epoch 69, Validation MAE Loss: 72.9847004787981\n",
      "Fold 1, Epoch 70, Validation MAE Loss: 72.97362231420091\n",
      "Fold 1, Epoch 71, Validation MAE Loss: 72.97152350559708\n",
      "Fold 1, Epoch 72, Validation MAE Loss: 72.96189814165604\n",
      "Fold 1, Epoch 73, Validation MAE Loss: 72.96017809150632\n",
      "Fold 1, Epoch 74, Validation MAE Loss: 72.96433913806253\n",
      "Fold 1, Epoch 75, Validation MAE Loss: 72.95744541262792\n",
      "Fold 1, Epoch 76, Validation MAE Loss: 72.94846391283777\n",
      "Fold 1, Epoch 77, Validation MAE Loss: 72.94385572701447\n",
      "Fold 1, Epoch 78, Validation MAE Loss: 72.94583230767368\n",
      "Fold 1, Epoch 79, Validation MAE Loss: 72.9394888129116\n",
      "Fold 1, Epoch 80, Validation MAE Loss: 72.92998955466531\n",
      "Fold 1, Epoch 81, Validation MAE Loss: 72.92270575279046\n",
      "Fold 1, Epoch 82, Validation MAE Loss: 72.931024283417\n",
      "Fold 1, Epoch 83, Validation MAE Loss: 72.92896699511316\n",
      "Fold 1, Epoch 84, Validation MAE Loss: 72.92538042304929\n",
      "Fold 1, Epoch 85, Validation MAE Loss: 72.92164659106042\n",
      "Fold 1, Epoch 86, Validation MAE Loss: 72.91318117882595\n",
      "Fold 1, Epoch 87, Validation MAE Loss: 72.91415654332185\n",
      "Fold 1, Epoch 88, Validation MAE Loss: 72.91305362291573\n",
      "Fold 1, Epoch 89, Validation MAE Loss: 72.90640656022\n",
      "Fold 1, Epoch 90, Validation MAE Loss: 72.91159521055616\n",
      "Fold 1, Epoch 91, Validation MAE Loss: 72.91195688168865\n",
      "Fold 1, Epoch 92, Validation MAE Loss: 72.91086304089255\n",
      "Fold 1, Epoch 93, Validation MAE Loss: 72.90920074715102\n",
      "Fold 1, Epoch 94, Validation MAE Loss: 72.90880565800943\n",
      "Fold 1, Epoch 95, Validation MAE Loss: 72.90733974236102\n",
      "Fold 1, Epoch 96, Validation MAE Loss: 72.9046419317072\n",
      "Fold 1, Epoch 97, Validation MAE Loss: 72.89805536821854\n",
      "Fold 1, Epoch 98, Validation MAE Loss: 72.89780101303226\n",
      "Fold 1, Epoch 99, Validation MAE Loss: 72.90306280467136\n",
      "Fold 1, Epoch 100, Validation MAE Loss: 72.90579992877551\n",
      "Fold 1, Epoch 101, Validation MAE Loss: 72.90101737030281\n",
      "Fold 1, Epoch 102, Validation MAE Loss: 72.90208167083992\n",
      "Fold 1, Epoch 103, Validation MAE Loss: 72.90260043814163\n",
      "Fold 1, Epoch 104, Validation MAE Loss: 72.9005929615872\n",
      "Fold 1, Epoch 105, Validation MAE Loss: 72.89202464710583\n",
      "Fold 1, Epoch 106, Validation MAE Loss: 72.89132337333743\n",
      "Fold 1, Epoch 107, Validation MAE Loss: 72.89915768962261\n",
      "Fold 1, Epoch 108, Validation MAE Loss: 72.90278738983406\n",
      "Fold 1, Epoch 109, Validation MAE Loss: 72.89642037635993\n",
      "Fold 1, Epoch 110, Validation MAE Loss: 72.89905882275794\n",
      "Fold 1, Epoch 111, Validation MAE Loss: 72.89935113575832\n",
      "Fold 1, Epoch 112, Validation MAE Loss: 72.90033245874831\n",
      "Fold 1, Epoch 113, Validation MAE Loss: 72.90197164362127\n",
      "Fold 1, Epoch 114, Validation MAE Loss: 72.90370279107212\n",
      "Fold 1, Epoch 115, Validation MAE Loss: 72.89815524392877\n",
      "Fold 1, Epoch 116, Validation MAE Loss: 72.8966304053945\n",
      "Early stopping triggered\n",
      "Early stopping triggered at epoch 116\n",
      "Starting fold 2\n",
      "Fold 2, Epoch 1, Validation MAE Loss: 209.66727668194733\n",
      "Fold 2, Epoch 2, Validation MAE Loss: 190.56310291132652\n",
      "Fold 2, Epoch 3, Validation MAE Loss: 172.4022813276811\n",
      "Fold 2, Epoch 4, Validation MAE Loss: 155.4931580724795\n",
      "Fold 2, Epoch 5, Validation MAE Loss: 140.41260799691696\n",
      "Fold 2, Epoch 6, Validation MAE Loss: 127.63089405406605\n",
      "Fold 2, Epoch 7, Validation MAE Loss: 117.22560088102483\n",
      "Fold 2, Epoch 8, Validation MAE Loss: 108.91611354607195\n",
      "Fold 2, Epoch 9, Validation MAE Loss: 102.43141155400552\n",
      "Fold 2, Epoch 10, Validation MAE Loss: 97.33435714343362\n",
      "Fold 2, Epoch 11, Validation MAE Loss: 93.3535048429631\n",
      "Fold 2, Epoch 12, Validation MAE Loss: 90.22760646599383\n",
      "Fold 2, Epoch 13, Validation MAE Loss: 87.7501974184651\n",
      "Fold 2, Epoch 14, Validation MAE Loss: 85.77396250953359\n",
      "Fold 2, Epoch 15, Validation MAE Loss: 84.13815528302153\n",
      "Fold 2, Epoch 16, Validation MAE Loss: 82.8165432323109\n",
      "Fold 2, Epoch 17, Validation MAE Loss: 81.70474653007571\n",
      "Fold 2, Epoch 18, Validation MAE Loss: 80.7708552652154\n",
      "Fold 2, Epoch 19, Validation MAE Loss: 79.97935290376017\n",
      "Fold 2, Epoch 20, Validation MAE Loss: 79.30388480572661\n",
      "Fold 2, Epoch 21, Validation MAE Loss: 78.71531182281242\n",
      "Fold 2, Epoch 22, Validation MAE Loss: 78.21901173236941\n",
      "Fold 2, Epoch 23, Validation MAE Loss: 77.78184430461285\n",
      "Fold 2, Epoch 24, Validation MAE Loss: 77.38869321838884\n",
      "Fold 2, Epoch 25, Validation MAE Loss: 77.03777281705999\n",
      "Fold 2, Epoch 26, Validation MAE Loss: 76.73127062458637\n",
      "Fold 2, Epoch 27, Validation MAE Loss: 76.45304684599569\n",
      "Fold 2, Epoch 28, Validation MAE Loss: 76.20197586185677\n",
      "Fold 2, Epoch 29, Validation MAE Loss: 75.97801867398348\n",
      "Fold 2, Epoch 30, Validation MAE Loss: 75.77737338483826\n",
      "Fold 2, Epoch 31, Validation MAE Loss: 75.59068503261598\n",
      "Fold 2, Epoch 32, Validation MAE Loss: 75.42481193857745\n",
      "Fold 2, Epoch 33, Validation MAE Loss: 75.27216458911738\n",
      "Fold 2, Epoch 34, Validation MAE Loss: 75.13657019749161\n",
      "Fold 2, Epoch 35, Validation MAE Loss: 75.01518312564566\n",
      "Fold 2, Epoch 36, Validation MAE Loss: 74.91211741423804\n",
      "Fold 2, Epoch 37, Validation MAE Loss: 74.81371499684231\n",
      "Fold 2, Epoch 38, Validation MAE Loss: 74.72368278188154\n",
      "Fold 2, Epoch 39, Validation MAE Loss: 74.6482002951882\n",
      "Fold 2, Epoch 40, Validation MAE Loss: 74.58069348926387\n",
      "Fold 2, Epoch 41, Validation MAE Loss: 74.52036080478636\n",
      "Fold 2, Epoch 42, Validation MAE Loss: 74.46531503850764\n",
      "Fold 2, Epoch 43, Validation MAE Loss: 74.4165792544026\n",
      "Fold 2, Epoch 44, Validation MAE Loss: 74.366807039119\n",
      "Fold 2, Epoch 45, Validation MAE Loss: 74.33292691569683\n",
      "Fold 2, Epoch 46, Validation MAE Loss: 74.28940295384935\n",
      "Fold 2, Epoch 47, Validation MAE Loss: 74.25090748810571\n",
      "Fold 2, Epoch 48, Validation MAE Loss: 74.21116250408582\n",
      "Fold 2, Epoch 49, Validation MAE Loss: 74.17799910237966\n",
      "Fold 2, Epoch 50, Validation MAE Loss: 74.14445757274785\n",
      "Fold 2, Epoch 51, Validation MAE Loss: 74.11004424292194\n",
      "Fold 2, Epoch 52, Validation MAE Loss: 74.08107789094782\n",
      "Fold 2, Epoch 53, Validation MAE Loss: 74.05830307637365\n",
      "Fold 2, Epoch 54, Validation MAE Loss: 74.03298395330256\n",
      "Fold 2, Epoch 55, Validation MAE Loss: 74.00911715799127\n",
      "Fold 2, Epoch 56, Validation MAE Loss: 73.99334089421043\n",
      "Fold 2, Epoch 57, Validation MAE Loss: 73.96960556408591\n",
      "Fold 2, Epoch 58, Validation MAE Loss: 73.94562694454982\n",
      "Fold 2, Epoch 59, Validation MAE Loss: 73.9274578882643\n",
      "Fold 2, Epoch 60, Validation MAE Loss: 73.9187033156718\n",
      "Fold 2, Epoch 61, Validation MAE Loss: 73.89901632513882\n",
      "Fold 2, Epoch 62, Validation MAE Loss: 73.88947226784445\n",
      "Fold 2, Epoch 63, Validation MAE Loss: 73.88106281501203\n",
      "Fold 2, Epoch 64, Validation MAE Loss: 73.87304015987175\n",
      "Fold 2, Epoch 65, Validation MAE Loss: 73.86518550904329\n",
      "Fold 2, Epoch 66, Validation MAE Loss: 73.85048722826745\n",
      "Fold 2, Epoch 67, Validation MAE Loss: 73.83972776428728\n",
      "Fold 2, Epoch 68, Validation MAE Loss: 73.83056965347164\n",
      "Fold 2, Epoch 69, Validation MAE Loss: 73.82438681736465\n",
      "Fold 2, Epoch 70, Validation MAE Loss: 73.8155990159216\n",
      "Fold 2, Epoch 71, Validation MAE Loss: 73.80783651682957\n",
      "Fold 2, Epoch 72, Validation MAE Loss: 73.80522344920261\n",
      "Fold 2, Epoch 73, Validation MAE Loss: 73.80259944190664\n",
      "Fold 2, Epoch 74, Validation MAE Loss: 73.80321042399761\n",
      "Fold 2, Epoch 75, Validation MAE Loss: 73.79251930930398\n",
      "Fold 2, Epoch 76, Validation MAE Loss: 73.78971560139301\n",
      "Fold 2, Epoch 77, Validation MAE Loss: 73.79197115937541\n",
      "Fold 2, Epoch 78, Validation MAE Loss: 73.79257514260031\n",
      "Fold 2, Epoch 79, Validation MAE Loss: 73.7857801894511\n",
      "Fold 2, Epoch 80, Validation MAE Loss: 73.78295103971624\n",
      "Fold 2, Epoch 81, Validation MAE Loss: 73.78079999182835\n",
      "Fold 2, Epoch 82, Validation MAE Loss: 73.77678302102838\n",
      "Fold 2, Epoch 83, Validation MAE Loss: 73.77817034130254\n",
      "Fold 2, Epoch 84, Validation MAE Loss: 73.7684151830752\n",
      "Fold 2, Epoch 85, Validation MAE Loss: 73.76513318779055\n",
      "Fold 2, Epoch 86, Validation MAE Loss: 73.7623237735969\n",
      "Fold 2, Epoch 87, Validation MAE Loss: 73.76135953792856\n",
      "Fold 2, Epoch 88, Validation MAE Loss: 73.7563674863705\n",
      "Fold 2, Epoch 89, Validation MAE Loss: 73.75542453103814\n",
      "Fold 2, Epoch 90, Validation MAE Loss: 73.75229887528853\n",
      "Fold 2, Epoch 91, Validation MAE Loss: 73.75064162577479\n",
      "Fold 2, Epoch 92, Validation MAE Loss: 73.74891123495811\n",
      "Fold 2, Epoch 93, Validation MAE Loss: 73.74852620274568\n",
      "Fold 2, Epoch 94, Validation MAE Loss: 73.74185666170987\n",
      "Fold 2, Epoch 95, Validation MAE Loss: 73.74162929314227\n",
      "Fold 2, Epoch 96, Validation MAE Loss: 73.73788846228733\n",
      "Fold 2, Epoch 97, Validation MAE Loss: 73.73562634680881\n",
      "Fold 2, Epoch 98, Validation MAE Loss: 73.74271749070853\n",
      "Fold 2, Epoch 99, Validation MAE Loss: 73.74805576545148\n",
      "Fold 2, Epoch 100, Validation MAE Loss: 73.7518293207342\n",
      "Fold 2, Epoch 101, Validation MAE Loss: 73.74577170758208\n",
      "Fold 2, Epoch 102, Validation MAE Loss: 73.74300951997111\n",
      "Fold 2, Epoch 103, Validation MAE Loss: 73.74739345834274\n",
      "Fold 2, Epoch 104, Validation MAE Loss: 73.74389326867978\n",
      "Fold 2, Epoch 105, Validation MAE Loss: 73.74088530106978\n",
      "Fold 2, Epoch 106, Validation MAE Loss: 73.74432272162319\n",
      "Fold 2, Epoch 107, Validation MAE Loss: 73.743220242587\n",
      "Early stopping triggered\n",
      "Early stopping triggered at epoch 107\n",
      "Starting fold 3\n",
      "Fold 3, Epoch 1, Validation MAE Loss: 209.63644661391078\n",
      "Fold 3, Epoch 2, Validation MAE Loss: 190.53047999862798\n",
      "Fold 3, Epoch 3, Validation MAE Loss: 172.36567524050878\n",
      "Fold 3, Epoch 4, Validation MAE Loss: 155.4261130971357\n",
      "Fold 3, Epoch 5, Validation MAE Loss: 140.40871278116526\n",
      "Fold 3, Epoch 6, Validation MAE Loss: 127.72346610077156\n",
      "Fold 3, Epoch 7, Validation MAE Loss: 117.31872016339263\n",
      "Fold 3, Epoch 8, Validation MAE Loss: 108.99211196268885\n",
      "Fold 3, Epoch 9, Validation MAE Loss: 102.48845521280589\n",
      "Fold 3, Epoch 10, Validation MAE Loss: 97.34627381632151\n",
      "Fold 3, Epoch 11, Validation MAE Loss: 93.29306351842959\n",
      "Fold 3, Epoch 12, Validation MAE Loss: 90.09287419595009\n",
      "Fold 3, Epoch 13, Validation MAE Loss: 87.54471272870529\n",
      "Fold 3, Epoch 14, Validation MAE Loss: 85.51435814219073\n",
      "Fold 3, Epoch 15, Validation MAE Loss: 83.85995549603928\n",
      "Fold 3, Epoch 16, Validation MAE Loss: 82.49697598544034\n",
      "Fold 3, Epoch 17, Validation MAE Loss: 81.35132311986497\n",
      "Fold 3, Epoch 18, Validation MAE Loss: 80.3993620123745\n",
      "Fold 3, Epoch 19, Validation MAE Loss: 79.59320046290878\n",
      "Fold 3, Epoch 20, Validation MAE Loss: 78.89536108852418\n",
      "Fold 3, Epoch 21, Validation MAE Loss: 78.29608125923093\n",
      "Fold 3, Epoch 22, Validation MAE Loss: 77.77277793569013\n",
      "Fold 3, Epoch 23, Validation MAE Loss: 77.32131976923667\n",
      "Fold 3, Epoch 24, Validation MAE Loss: 76.92298592811774\n",
      "Fold 3, Epoch 25, Validation MAE Loss: 76.57732593126534\n",
      "Fold 3, Epoch 26, Validation MAE Loss: 76.26300367245004\n",
      "Fold 3, Epoch 27, Validation MAE Loss: 75.98232518345857\n",
      "Fold 3, Epoch 28, Validation MAE Loss: 75.72245306219936\n",
      "Fold 3, Epoch 29, Validation MAE Loss: 75.49715010587835\n",
      "Fold 3, Epoch 30, Validation MAE Loss: 75.29443504396549\n",
      "Fold 3, Epoch 31, Validation MAE Loss: 75.1148303638805\n",
      "Fold 3, Epoch 32, Validation MAE Loss: 74.95825211075712\n",
      "Fold 3, Epoch 33, Validation MAE Loss: 74.81683904474431\n",
      "Fold 3, Epoch 34, Validation MAE Loss: 74.68249013601256\n",
      "Fold 3, Epoch 35, Validation MAE Loss: 74.55919574706023\n",
      "Fold 3, Epoch 36, Validation MAE Loss: 74.44861211855549\n",
      "Fold 3, Epoch 37, Validation MAE Loss: 74.34968680389656\n",
      "Fold 3, Epoch 38, Validation MAE Loss: 74.25459059407888\n",
      "Fold 3, Epoch 39, Validation MAE Loss: 74.16170066644338\n",
      "Fold 3, Epoch 40, Validation MAE Loss: 74.08744408473495\n",
      "Fold 3, Epoch 41, Validation MAE Loss: 74.01868782358721\n",
      "Fold 3, Epoch 42, Validation MAE Loss: 73.95491377775335\n",
      "Fold 3, Epoch 43, Validation MAE Loss: 73.89485549926758\n",
      "Fold 3, Epoch 44, Validation MAE Loss: 73.83873323172577\n",
      "Fold 3, Epoch 45, Validation MAE Loss: 73.8025333625226\n",
      "Fold 3, Epoch 46, Validation MAE Loss: 73.75315125520564\n",
      "Fold 3, Epoch 47, Validation MAE Loss: 73.7172144740081\n",
      "Fold 3, Epoch 48, Validation MAE Loss: 73.67997773225642\n",
      "Fold 3, Epoch 49, Validation MAE Loss: 73.64517246593128\n",
      "Fold 3, Epoch 50, Validation MAE Loss: 73.61198179386864\n",
      "Fold 3, Epoch 51, Validation MAE Loss: 73.57545811676782\n",
      "Fold 3, Epoch 52, Validation MAE Loss: 73.54755534022307\n",
      "Fold 3, Epoch 53, Validation MAE Loss: 73.52130079663489\n",
      "Fold 3, Epoch 54, Validation MAE Loss: 73.49180026093791\n",
      "Fold 3, Epoch 55, Validation MAE Loss: 73.4700353953464\n",
      "Fold 3, Epoch 56, Validation MAE Loss: 73.45306727511824\n",
      "Fold 3, Epoch 57, Validation MAE Loss: 73.43058786313397\n",
      "Fold 3, Epoch 58, Validation MAE Loss: 73.42318347268854\n",
      "Fold 3, Epoch 59, Validation MAE Loss: 73.40393526692036\n",
      "Fold 3, Epoch 60, Validation MAE Loss: 73.38575148779499\n",
      "Fold 3, Epoch 61, Validation MAE Loss: 73.37142137259491\n",
      "Fold 3, Epoch 62, Validation MAE Loss: 73.35272216796875\n",
      "Fold 3, Epoch 63, Validation MAE Loss: 73.34065243429389\n",
      "Fold 3, Epoch 64, Validation MAE Loss: 73.33265172154451\n",
      "Fold 3, Epoch 65, Validation MAE Loss: 73.32102515480734\n",
      "Fold 3, Epoch 66, Validation MAE Loss: 73.31272900794163\n",
      "Fold 3, Epoch 67, Validation MAE Loss: 73.30297463787488\n",
      "Fold 3, Epoch 68, Validation MAE Loss: 73.2981400292767\n",
      "Fold 3, Epoch 69, Validation MAE Loss: 73.28860905544816\n",
      "Fold 3, Epoch 70, Validation MAE Loss: 73.27830183801572\n",
      "Fold 3, Epoch 71, Validation MAE Loss: 73.27395629882812\n",
      "Fold 3, Epoch 72, Validation MAE Loss: 73.27026499598479\n",
      "Fold 3, Epoch 73, Validation MAE Loss: 73.2596676408752\n",
      "Fold 3, Epoch 74, Validation MAE Loss: 73.26008782505004\n",
      "Fold 3, Epoch 75, Validation MAE Loss: 73.26445864842943\n",
      "Fold 3, Epoch 76, Validation MAE Loss: 73.25933528931672\n",
      "Fold 3, Epoch 77, Validation MAE Loss: 73.25227986485505\n",
      "Fold 3, Epoch 78, Validation MAE Loss: 73.24448293890835\n",
      "Fold 3, Epoch 79, Validation MAE Loss: 73.24572621495271\n",
      "Fold 3, Epoch 80, Validation MAE Loss: 73.2346243424849\n",
      "Fold 3, Epoch 81, Validation MAE Loss: 73.22658330743963\n",
      "Fold 3, Epoch 82, Validation MAE Loss: 73.22061923318658\n",
      "Fold 3, Epoch 83, Validation MAE Loss: 73.22090486258514\n",
      "Fold 3, Epoch 84, Validation MAE Loss: 73.22492955735892\n",
      "Fold 3, Epoch 85, Validation MAE Loss: 73.22136473852741\n",
      "Fold 3, Epoch 86, Validation MAE Loss: 73.21454405981648\n",
      "Fold 3, Epoch 87, Validation MAE Loss: 73.21520986635822\n",
      "Fold 3, Epoch 88, Validation MAE Loss: 73.2181541505924\n",
      "Fold 3, Epoch 89, Validation MAE Loss: 73.2155886878652\n",
      "Fold 3, Epoch 90, Validation MAE Loss: 73.21403099879745\n",
      "Fold 3, Epoch 91, Validation MAE Loss: 73.21345207907937\n",
      "Fold 3, Epoch 92, Validation MAE Loss: 73.2106969533873\n",
      "Fold 3, Epoch 93, Validation MAE Loss: 73.21127357167646\n",
      "Fold 3, Epoch 94, Validation MAE Loss: 73.20688903430276\n",
      "Fold 3, Epoch 95, Validation MAE Loss: 73.20526980565599\n",
      "Fold 3, Epoch 96, Validation MAE Loss: 73.20668165348778\n",
      "Fold 3, Epoch 97, Validation MAE Loss: 73.211669921875\n",
      "Fold 3, Epoch 98, Validation MAE Loss: 73.2145872194905\n",
      "Fold 3, Epoch 99, Validation MAE Loss: 73.20555177798941\n",
      "Fold 3, Epoch 100, Validation MAE Loss: 73.20453120460195\n",
      "Fold 3, Epoch 101, Validation MAE Loss: 73.20689016925402\n",
      "Fold 3, Epoch 102, Validation MAE Loss: 73.20791752082258\n",
      "Fold 3, Epoch 103, Validation MAE Loss: 73.20522204312411\n",
      "Fold 3, Epoch 104, Validation MAE Loss: 73.20172664547755\n",
      "Fold 3, Epoch 105, Validation MAE Loss: 73.20464129487345\n",
      "Fold 3, Epoch 106, Validation MAE Loss: 73.20681901411577\n",
      "Fold 3, Epoch 107, Validation MAE Loss: 73.20798895969864\n",
      "Fold 3, Epoch 108, Validation MAE Loss: 73.20443445000767\n",
      "Fold 3, Epoch 109, Validation MAE Loss: 73.20951726613951\n",
      "Fold 3, Epoch 110, Validation MAE Loss: 73.2004672594307\n",
      "Fold 3, Epoch 111, Validation MAE Loss: 73.20674971903651\n",
      "Fold 3, Epoch 112, Validation MAE Loss: 73.20268962008895\n",
      "Fold 3, Epoch 113, Validation MAE Loss: 73.20367756362789\n",
      "Fold 3, Epoch 114, Validation MAE Loss: 73.2084254115081\n",
      "Fold 3, Epoch 115, Validation MAE Loss: 73.20889937976175\n",
      "Fold 3, Epoch 116, Validation MAE Loss: 73.21017415070337\n",
      "Fold 3, Epoch 117, Validation MAE Loss: 73.2061988578355\n",
      "Fold 3, Epoch 118, Validation MAE Loss: 73.20969371953286\n",
      "Fold 3, Epoch 119, Validation MAE Loss: 73.20233851030838\n",
      "Fold 3, Epoch 120, Validation MAE Loss: 73.19901590899002\n",
      "Fold 3, Epoch 121, Validation MAE Loss: 73.19835643925943\n",
      "Fold 3, Epoch 122, Validation MAE Loss: 73.19635898810773\n",
      "Fold 3, Epoch 123, Validation MAE Loss: 73.1964725147594\n",
      "Fold 3, Epoch 124, Validation MAE Loss: 73.19830133107082\n",
      "Fold 3, Epoch 125, Validation MAE Loss: 73.19521829904603\n",
      "Fold 3, Epoch 126, Validation MAE Loss: 73.19503658073992\n",
      "Fold 3, Epoch 127, Validation MAE Loss: 73.19685300716684\n",
      "Fold 3, Epoch 128, Validation MAE Loss: 73.19557839385735\n",
      "Fold 3, Epoch 129, Validation MAE Loss: 73.20208718165878\n",
      "Fold 3, Epoch 130, Validation MAE Loss: 73.20286711385427\n",
      "Fold 3, Epoch 131, Validation MAE Loss: 73.2071938002405\n",
      "Fold 3, Epoch 132, Validation MAE Loss: 73.20547233140174\n",
      "Fold 3, Epoch 133, Validation MAE Loss: 73.20753327677073\n",
      "Fold 3, Epoch 134, Validation MAE Loss: 73.20734805903159\n",
      "Fold 3, Epoch 135, Validation MAE Loss: 73.20459154617689\n",
      "Fold 3, Epoch 136, Validation MAE Loss: 73.19835183640157\n",
      "Early stopping triggered\n",
      "Early stopping triggered at epoch 136\n",
      "Starting fold 4\n",
      "Fold 4, Epoch 1, Validation MAE Loss: 209.77374507178945\n",
      "Fold 4, Epoch 2, Validation MAE Loss: 190.67978674518176\n",
      "Fold 4, Epoch 3, Validation MAE Loss: 172.53399733866542\n",
      "Fold 4, Epoch 4, Validation MAE Loss: 155.62349385663498\n",
      "Fold 4, Epoch 5, Validation MAE Loss: 140.5629247870327\n",
      "Fold 4, Epoch 6, Validation MAE Loss: 127.76093607500565\n",
      "Fold 4, Epoch 7, Validation MAE Loss: 117.29091846056221\n",
      "Fold 4, Epoch 8, Validation MAE Loss: 108.88291603277537\n",
      "Fold 4, Epoch 9, Validation MAE Loss: 102.26788355299264\n",
      "Fold 4, Epoch 10, Validation MAE Loss: 97.04128656308514\n",
      "Fold 4, Epoch 11, Validation MAE Loss: 92.93529737488298\n",
      "Fold 4, Epoch 12, Validation MAE Loss: 89.66924374162659\n",
      "Fold 4, Epoch 13, Validation MAE Loss: 87.10561468581523\n",
      "Fold 4, Epoch 14, Validation MAE Loss: 85.04854700388002\n",
      "Fold 4, Epoch 15, Validation MAE Loss: 83.37302736014374\n",
      "Fold 4, Epoch 16, Validation MAE Loss: 82.0174448628071\n",
      "Fold 4, Epoch 17, Validation MAE Loss: 80.87253006233657\n",
      "Fold 4, Epoch 18, Validation MAE Loss: 79.92749452196863\n",
      "Fold 4, Epoch 19, Validation MAE Loss: 79.12282823925176\n",
      "Fold 4, Epoch 20, Validation MAE Loss: 78.42151276139188\n",
      "Fold 4, Epoch 21, Validation MAE Loss: 77.82848887798215\n",
      "Fold 4, Epoch 22, Validation MAE Loss: 77.31044173437702\n",
      "Fold 4, Epoch 23, Validation MAE Loss: 76.86788363496134\n",
      "Fold 4, Epoch 24, Validation MAE Loss: 76.47494948205869\n",
      "Fold 4, Epoch 25, Validation MAE Loss: 76.13087050382757\n",
      "Fold 4, Epoch 26, Validation MAE Loss: 75.8211379878777\n",
      "Fold 4, Epoch 27, Validation MAE Loss: 75.53984867442738\n",
      "Fold 4, Epoch 28, Validation MAE Loss: 75.28984028839868\n",
      "Fold 4, Epoch 29, Validation MAE Loss: 75.06992144624064\n",
      "Fold 4, Epoch 30, Validation MAE Loss: 74.86805851203351\n",
      "Fold 4, Epoch 31, Validation MAE Loss: 74.68463137918268\n",
      "Fold 4, Epoch 32, Validation MAE Loss: 74.52308944828255\n",
      "Fold 4, Epoch 33, Validation MAE Loss: 74.37212601969065\n",
      "Fold 4, Epoch 34, Validation MAE Loss: 74.22768726821774\n",
      "Fold 4, Epoch 35, Validation MAE Loss: 74.10713217869278\n",
      "Fold 4, Epoch 36, Validation MAE Loss: 73.99882677566907\n",
      "Fold 4, Epoch 37, Validation MAE Loss: 73.89743732420867\n",
      "Fold 4, Epoch 38, Validation MAE Loss: 73.80469771456127\n",
      "Fold 4, Epoch 39, Validation MAE Loss: 73.71597094575236\n",
      "Fold 4, Epoch 40, Validation MAE Loss: 73.64618742761533\n",
      "Fold 4, Epoch 41, Validation MAE Loss: 73.58052554800491\n",
      "Fold 4, Epoch 42, Validation MAE Loss: 73.5199740070942\n",
      "Fold 4, Epoch 43, Validation MAE Loss: 73.45590651330869\n",
      "Fold 4, Epoch 44, Validation MAE Loss: 73.39212862125113\n",
      "Fold 4, Epoch 45, Validation MAE Loss: 73.33958819680963\n",
      "Fold 4, Epoch 46, Validation MAE Loss: 73.29678439305833\n",
      "Fold 4, Epoch 47, Validation MAE Loss: 73.25300402680705\n",
      "Fold 4, Epoch 48, Validation MAE Loss: 73.21478183210388\n",
      "Fold 4, Epoch 49, Validation MAE Loss: 73.1789429719783\n",
      "Fold 4, Epoch 50, Validation MAE Loss: 73.1481735292545\n",
      "Fold 4, Epoch 51, Validation MAE Loss: 73.12354442501857\n",
      "Fold 4, Epoch 52, Validation MAE Loss: 73.09039410677823\n",
      "Fold 4, Epoch 53, Validation MAE Loss: 73.06403744910374\n",
      "Fold 4, Epoch 54, Validation MAE Loss: 73.04514668992728\n",
      "Fold 4, Epoch 55, Validation MAE Loss: 73.0224915496574\n",
      "Fold 4, Epoch 56, Validation MAE Loss: 73.00384653895354\n",
      "Fold 4, Epoch 57, Validation MAE Loss: 72.98119524490735\n",
      "Fold 4, Epoch 58, Validation MAE Loss: 72.96781262484464\n",
      "Fold 4, Epoch 59, Validation MAE Loss: 72.95277445769507\n",
      "Fold 4, Epoch 60, Validation MAE Loss: 72.93897884148211\n",
      "Fold 4, Epoch 61, Validation MAE Loss: 72.92229376548578\n",
      "Fold 4, Epoch 62, Validation MAE Loss: 72.90720774122506\n",
      "Fold 4, Epoch 63, Validation MAE Loss: 72.89356985170978\n",
      "Fold 4, Epoch 64, Validation MAE Loss: 72.8795341617805\n",
      "Fold 4, Epoch 65, Validation MAE Loss: 72.87095834401028\n",
      "Fold 4, Epoch 66, Validation MAE Loss: 72.8586465819808\n",
      "Fold 4, Epoch 67, Validation MAE Loss: 72.84860081317996\n",
      "Fold 4, Epoch 68, Validation MAE Loss: 72.8319774659212\n",
      "Fold 4, Epoch 69, Validation MAE Loss: 72.82210578603193\n",
      "Fold 4, Epoch 70, Validation MAE Loss: 72.81857233599197\n",
      "Fold 4, Epoch 71, Validation MAE Loss: 72.81027196458548\n",
      "Fold 4, Epoch 72, Validation MAE Loss: 72.8103290904652\n",
      "Fold 4, Epoch 73, Validation MAE Loss: 72.80239001187411\n",
      "Fold 4, Epoch 74, Validation MAE Loss: 72.79177623149778\n",
      "Fold 4, Epoch 75, Validation MAE Loss: 72.78589330625928\n",
      "Fold 4, Epoch 76, Validation MAE Loss: 72.77995079608003\n",
      "Fold 4, Epoch 77, Validation MAE Loss: 72.770695773038\n",
      "Fold 4, Epoch 78, Validation MAE Loss: 72.77461293118058\n",
      "Fold 4, Epoch 79, Validation MAE Loss: 72.77539289490251\n",
      "Fold 4, Epoch 80, Validation MAE Loss: 72.77136552038272\n",
      "Fold 4, Epoch 81, Validation MAE Loss: 72.77264048048288\n",
      "Fold 4, Epoch 82, Validation MAE Loss: 72.76380148012775\n",
      "Fold 4, Epoch 83, Validation MAE Loss: 72.75797927478128\n",
      "Fold 4, Epoch 84, Validation MAE Loss: 72.75505715362297\n",
      "Fold 4, Epoch 85, Validation MAE Loss: 72.7570798259136\n",
      "Fold 4, Epoch 86, Validation MAE Loss: 72.76015475564752\n",
      "Fold 4, Epoch 87, Validation MAE Loss: 72.76251996253147\n",
      "Fold 4, Epoch 88, Validation MAE Loss: 72.76236075409187\n",
      "Fold 4, Epoch 89, Validation MAE Loss: 72.75588566803735\n",
      "Fold 4, Epoch 90, Validation MAE Loss: 72.74870032318367\n",
      "Fold 4, Epoch 91, Validation MAE Loss: 72.74878642184676\n",
      "Fold 4, Epoch 92, Validation MAE Loss: 72.74503603848544\n",
      "Fold 4, Epoch 93, Validation MAE Loss: 72.73970690640536\n",
      "Fold 4, Epoch 94, Validation MAE Loss: 72.73856394744116\n",
      "Fold 4, Epoch 95, Validation MAE Loss: 72.7462118164567\n",
      "Fold 4, Epoch 96, Validation MAE Loss: 72.74610409066696\n",
      "Fold 4, Epoch 97, Validation MAE Loss: 72.74407766673191\n",
      "Fold 4, Epoch 98, Validation MAE Loss: 72.75199344729589\n",
      "Fold 4, Epoch 99, Validation MAE Loss: 72.73959208717031\n",
      "Fold 4, Epoch 100, Validation MAE Loss: 72.73268076999129\n",
      "Fold 4, Epoch 101, Validation MAE Loss: 72.72953159552961\n",
      "Fold 4, Epoch 102, Validation MAE Loss: 72.72566790620158\n",
      "Fold 4, Epoch 103, Validation MAE Loss: 72.7308104649063\n",
      "Fold 4, Epoch 104, Validation MAE Loss: 72.72831417115266\n",
      "Fold 4, Epoch 105, Validation MAE Loss: 72.72748073861618\n",
      "Fold 4, Epoch 106, Validation MAE Loss: 72.72758509107858\n",
      "Fold 4, Epoch 107, Validation MAE Loss: 72.72537105339617\n",
      "Fold 4, Epoch 108, Validation MAE Loss: 72.72386074854323\n",
      "Fold 4, Epoch 109, Validation MAE Loss: 72.72909372503108\n",
      "Fold 4, Epoch 110, Validation MAE Loss: 72.73551045567537\n",
      "Fold 4, Epoch 111, Validation MAE Loss: 72.73876076690422\n",
      "Fold 4, Epoch 112, Validation MAE Loss: 72.73581115470445\n",
      "Fold 4, Epoch 113, Validation MAE Loss: 72.73400677137138\n",
      "Fold 4, Epoch 114, Validation MAE Loss: 72.72897092961082\n",
      "Fold 4, Epoch 115, Validation MAE Loss: 72.7284132587023\n",
      "Fold 4, Epoch 116, Validation MAE Loss: 72.72352464534035\n",
      "Fold 4, Epoch 117, Validation MAE Loss: 72.72326196717822\n",
      "Fold 4, Epoch 118, Validation MAE Loss: 72.72107381268967\n",
      "Fold 4, Epoch 119, Validation MAE Loss: 72.7209560614972\n",
      "Fold 4, Epoch 120, Validation MAE Loss: 72.72161307216676\n",
      "Fold 4, Epoch 121, Validation MAE Loss: 72.72063345160366\n",
      "Fold 4, Epoch 122, Validation MAE Loss: 72.72619471274132\n",
      "Fold 4, Epoch 123, Validation MAE Loss: 72.71890488931956\n",
      "Fold 4, Epoch 124, Validation MAE Loss: 72.71831796188985\n",
      "Fold 4, Epoch 125, Validation MAE Loss: 72.72850380259112\n",
      "Fold 4, Epoch 126, Validation MAE Loss: 72.71831644862151\n",
      "Fold 4, Epoch 127, Validation MAE Loss: 72.7168790013337\n",
      "Fold 4, Epoch 128, Validation MAE Loss: 72.71344334626001\n",
      "Fold 4, Epoch 129, Validation MAE Loss: 72.717126735971\n",
      "Fold 4, Epoch 130, Validation MAE Loss: 72.71754108775745\n",
      "Fold 4, Epoch 131, Validation MAE Loss: 72.71293353246263\n",
      "Fold 4, Epoch 132, Validation MAE Loss: 72.72047049151965\n",
      "Fold 4, Epoch 133, Validation MAE Loss: 72.7218766961216\n",
      "Fold 4, Epoch 134, Validation MAE Loss: 72.720474684534\n",
      "Fold 4, Epoch 135, Validation MAE Loss: 72.71903824609173\n",
      "Fold 4, Epoch 136, Validation MAE Loss: 72.721607807254\n",
      "Fold 4, Epoch 137, Validation MAE Loss: 72.72045491746634\n",
      "Fold 4, Epoch 138, Validation MAE Loss: 72.72055999503648\n",
      "Fold 4, Epoch 139, Validation MAE Loss: 72.71550205325292\n",
      "Fold 4, Epoch 140, Validation MAE Loss: 72.71401507795349\n",
      "Fold 4, Epoch 141, Validation MAE Loss: 72.71729991061629\n",
      "Early stopping triggered\n",
      "Early stopping triggered at epoch 141\n",
      "Starting fold 5\n",
      "Fold 5, Epoch 1, Validation MAE Loss: 207.17136603741608\n",
      "Fold 5, Epoch 2, Validation MAE Loss: 188.07016508244286\n",
      "Fold 5, Epoch 3, Validation MAE Loss: 169.9040286481873\n",
      "Fold 5, Epoch 4, Validation MAE Loss: 152.93596264547554\n",
      "Fold 5, Epoch 5, Validation MAE Loss: 137.88149412801442\n",
      "Fold 5, Epoch 6, Validation MAE Loss: 125.09478015742026\n",
      "Fold 5, Epoch 7, Validation MAE Loss: 114.63803195165208\n",
      "Fold 5, Epoch 8, Validation MAE Loss: 106.30044933981146\n",
      "Fold 5, Epoch 9, Validation MAE Loss: 99.78657897444796\n",
      "Fold 5, Epoch 10, Validation MAE Loss: 94.65241342339634\n",
      "Fold 5, Epoch 11, Validation MAE Loss: 90.63286883771912\n",
      "Fold 5, Epoch 12, Validation MAE Loss: 87.48984852310055\n",
      "Fold 5, Epoch 13, Validation MAE Loss: 85.0196569143248\n",
      "Fold 5, Epoch 14, Validation MAE Loss: 83.04928462761492\n",
      "Fold 5, Epoch 15, Validation MAE Loss: 81.44864701830652\n",
      "Fold 5, Epoch 16, Validation MAE Loss: 80.12986093316196\n",
      "Fold 5, Epoch 17, Validation MAE Loss: 79.03622833756376\n",
      "Fold 5, Epoch 18, Validation MAE Loss: 78.12819205039789\n",
      "Fold 5, Epoch 19, Validation MAE Loss: 77.35009557550603\n",
      "Fold 5, Epoch 20, Validation MAE Loss: 76.6870486046657\n",
      "Fold 5, Epoch 21, Validation MAE Loss: 76.11230210233326\n",
      "Fold 5, Epoch 22, Validation MAE Loss: 75.6190040525326\n",
      "Fold 5, Epoch 23, Validation MAE Loss: 75.18311628231332\n",
      "Fold 5, Epoch 24, Validation MAE Loss: 74.80425851995295\n",
      "Fold 5, Epoch 25, Validation MAE Loss: 74.47370790844121\n",
      "Fold 5, Epoch 26, Validation MAE Loss: 74.16607164745488\n",
      "Fold 5, Epoch 27, Validation MAE Loss: 73.90015622603991\n",
      "Fold 5, Epoch 28, Validation MAE Loss: 73.66425957167444\n",
      "Fold 5, Epoch 29, Validation MAE Loss: 73.44451478690155\n",
      "Fold 5, Epoch 30, Validation MAE Loss: 73.24498789763648\n",
      "Fold 5, Epoch 31, Validation MAE Loss: 73.06782856460445\n",
      "Fold 5, Epoch 32, Validation MAE Loss: 72.90137551047586\n",
      "Fold 5, Epoch 33, Validation MAE Loss: 72.75129888865574\n",
      "Fold 5, Epoch 34, Validation MAE Loss: 72.62104844652917\n",
      "Fold 5, Epoch 35, Validation MAE Loss: 72.50104614131706\n",
      "Fold 5, Epoch 36, Validation MAE Loss: 72.3924989306237\n",
      "Fold 5, Epoch 37, Validation MAE Loss: 72.29575224947338\n",
      "Fold 5, Epoch 38, Validation MAE Loss: 72.21694419797787\n",
      "Fold 5, Epoch 39, Validation MAE Loss: 72.14268692268813\n",
      "Fold 5, Epoch 40, Validation MAE Loss: 72.07060039930107\n",
      "Fold 5, Epoch 41, Validation MAE Loss: 72.0090284111086\n",
      "Fold 5, Epoch 42, Validation MAE Loss: 71.94909248667315\n",
      "Fold 5, Epoch 43, Validation MAE Loss: 71.89980067103362\n",
      "Fold 5, Epoch 44, Validation MAE Loss: 71.84692247248879\n",
      "Fold 5, Epoch 45, Validation MAE Loss: 71.80002184150632\n",
      "Fold 5, Epoch 46, Validation MAE Loss: 71.75397210869907\n",
      "Fold 5, Epoch 47, Validation MAE Loss: 71.71355494979984\n",
      "Fold 5, Epoch 48, Validation MAE Loss: 71.67661326384741\n",
      "Fold 5, Epoch 49, Validation MAE Loss: 71.65123837053284\n",
      "Fold 5, Epoch 50, Validation MAE Loss: 71.61370162333338\n",
      "Fold 5, Epoch 51, Validation MAE Loss: 71.59301313289926\n",
      "Fold 5, Epoch 52, Validation MAE Loss: 71.56938240744851\n",
      "Fold 5, Epoch 53, Validation MAE Loss: 71.54031041042863\n",
      "Fold 5, Epoch 54, Validation MAE Loss: 71.51435577770896\n",
      "Fold 5, Epoch 55, Validation MAE Loss: 71.48959041626985\n",
      "Fold 5, Epoch 56, Validation MAE Loss: 71.47749996973464\n",
      "Fold 5, Epoch 57, Validation MAE Loss: 71.4664131038445\n",
      "Fold 5, Epoch 58, Validation MAE Loss: 71.45017330705628\n",
      "Fold 5, Epoch 59, Validation MAE Loss: 71.42774736388655\n",
      "Fold 5, Epoch 60, Validation MAE Loss: 71.41323061225827\n",
      "Fold 5, Epoch 61, Validation MAE Loss: 71.40827153733939\n",
      "Fold 5, Epoch 62, Validation MAE Loss: 71.39978364676483\n",
      "Fold 5, Epoch 63, Validation MAE Loss: 71.384021223084\n",
      "Fold 5, Epoch 64, Validation MAE Loss: 71.37060162252631\n",
      "Fold 5, Epoch 65, Validation MAE Loss: 71.36703040383078\n",
      "Fold 5, Epoch 66, Validation MAE Loss: 71.3652865512312\n",
      "Fold 5, Epoch 67, Validation MAE Loss: 71.35475609519266\n",
      "Fold 5, Epoch 68, Validation MAE Loss: 71.34691578888696\n",
      "Fold 5, Epoch 69, Validation MAE Loss: 71.34081362889818\n",
      "Fold 5, Epoch 70, Validation MAE Loss: 71.33015069882732\n",
      "Fold 5, Epoch 71, Validation MAE Loss: 71.32965226606889\n",
      "Fold 5, Epoch 72, Validation MAE Loss: 71.32468411153998\n",
      "Fold 5, Epoch 73, Validation MAE Loss: 71.31854673653595\n",
      "Fold 5, Epoch 74, Validation MAE Loss: 71.31791286626138\n",
      "Fold 5, Epoch 75, Validation MAE Loss: 71.30626665856228\n",
      "Fold 5, Epoch 76, Validation MAE Loss: 71.29864577616542\n",
      "Fold 5, Epoch 77, Validation MAE Loss: 71.29560899340417\n",
      "Fold 5, Epoch 78, Validation MAE Loss: 71.29151998472608\n",
      "Fold 5, Epoch 79, Validation MAE Loss: 71.28728154079973\n",
      "Fold 5, Epoch 80, Validation MAE Loss: 71.28616320397244\n",
      "Fold 5, Epoch 81, Validation MAE Loss: 71.28765988941035\n",
      "Fold 5, Epoch 82, Validation MAE Loss: 71.28305239716838\n",
      "Fold 5, Epoch 83, Validation MAE Loss: 71.28064078338875\n",
      "Fold 5, Epoch 84, Validation MAE Loss: 71.27676899176984\n",
      "Fold 5, Epoch 85, Validation MAE Loss: 71.2723772033187\n",
      "Fold 5, Epoch 86, Validation MAE Loss: 71.26880431372273\n",
      "Fold 5, Epoch 87, Validation MAE Loss: 71.27474222104412\n",
      "Fold 5, Epoch 88, Validation MAE Loss: 71.26898533844751\n",
      "Fold 5, Epoch 89, Validation MAE Loss: 71.26776693675144\n",
      "Fold 5, Epoch 90, Validation MAE Loss: 71.26380343476603\n",
      "Fold 5, Epoch 91, Validation MAE Loss: 71.26123708929897\n",
      "Fold 5, Epoch 92, Validation MAE Loss: 71.2614590353217\n",
      "Fold 5, Epoch 93, Validation MAE Loss: 71.26091526756602\n",
      "Fold 5, Epoch 94, Validation MAE Loss: 71.25233506762292\n",
      "Fold 5, Epoch 95, Validation MAE Loss: 71.24906930844647\n",
      "Fold 5, Epoch 96, Validation MAE Loss: 71.24788864387953\n",
      "Fold 5, Epoch 97, Validation MAE Loss: 71.24491440954287\n",
      "Fold 5, Epoch 98, Validation MAE Loss: 71.24726126804825\n",
      "Fold 5, Epoch 99, Validation MAE Loss: 71.24670782168049\n",
      "Fold 5, Epoch 100, Validation MAE Loss: 71.24346164041314\n",
      "Fold 5, Epoch 101, Validation MAE Loss: 71.24876908231373\n",
      "Fold 5, Epoch 102, Validation MAE Loss: 71.24028075036924\n",
      "Fold 5, Epoch 103, Validation MAE Loss: 71.24301617204651\n",
      "Fold 5, Epoch 104, Validation MAE Loss: 71.24243624348286\n",
      "Fold 5, Epoch 105, Validation MAE Loss: 71.24086663742696\n",
      "Fold 5, Epoch 106, Validation MAE Loss: 71.24408699855331\n",
      "Fold 5, Epoch 107, Validation MAE Loss: 71.25069496848367\n",
      "Fold 5, Epoch 108, Validation MAE Loss: 71.25001948332984\n",
      "Fold 5, Epoch 109, Validation MAE Loss: 71.25189092336608\n",
      "Fold 5, Epoch 110, Validation MAE Loss: 71.24753021996868\n",
      "Fold 5, Epoch 111, Validation MAE Loss: 71.24796519003624\n",
      "Fold 5, Epoch 112, Validation MAE Loss: 71.24327840883869\n",
      "Early stopping triggered\n",
      "Early stopping triggered at epoch 112\n"
     ]
    }
   ],
   "source": [
    "cross_validate_model(df_transformed, y, n_splits=5, epochs=1000, batch_size=64, epsilon=0.1)"
   ]
  },
  {
   "cell_type": "markdown",
   "id": "6895442a",
   "metadata": {
    "papermill": {
     "duration": 0.046663,
     "end_time": "2024-04-20T15:19:03.164198",
     "exception": false,
     "start_time": "2024-04-20T15:19:03.117535",
     "status": "completed"
    },
    "tags": []
   },
   "source": [
    "# Test Results"
   ]
  },
  {
   "cell_type": "code",
   "execution_count": 28,
   "id": "332e7034",
   "metadata": {
    "execution": {
     "iopub.execute_input": "2024-04-20T15:19:03.258961Z",
     "iopub.status.busy": "2024-04-20T15:19:03.258610Z",
     "iopub.status.idle": "2024-04-20T15:19:03.268673Z",
     "shell.execute_reply": "2024-04-20T15:19:03.267821Z"
    },
    "papermill": {
     "duration": 0.059036,
     "end_time": "2024-04-20T15:19:03.270817",
     "exception": false,
     "start_time": "2024-04-20T15:19:03.211781",
     "status": "completed"
    },
    "tags": []
   },
   "outputs": [],
   "source": [
    "def load_best_model(input_features):\n",
    "    device = torch.device(\"cuda\" if torch.cuda.is_available() else \"cpu\")\n",
    "    model = SVR(n_features=input_features).to(device)\n",
    "    model.load_state_dict(torch.load('best_model.pth', map_location=device))\n",
    "    return model, device\n",
    "\n",
    "best_model, device = load_best_model(df_transformed.shape[1])"
   ]
  },
  {
   "cell_type": "code",
   "execution_count": 29,
   "id": "5bfcfba9",
   "metadata": {
    "execution": {
     "iopub.execute_input": "2024-04-20T15:19:03.365003Z",
     "iopub.status.busy": "2024-04-20T15:19:03.364653Z",
     "iopub.status.idle": "2024-04-20T15:19:03.440223Z",
     "shell.execute_reply": "2024-04-20T15:19:03.438876Z"
    },
    "papermill": {
     "duration": 0.125546,
     "end_time": "2024-04-20T15:19:03.442653",
     "exception": false,
     "start_time": "2024-04-20T15:19:03.317107",
     "status": "completed"
    },
    "tags": []
   },
   "outputs": [
    {
     "name": "stdout",
     "output_type": "stream",
     "text": [
      "Test Loss: 72.10313539315533\n"
     ]
    }
   ],
   "source": [
    "def evaluate_model(model, test_loader, device):\n",
    "    model.eval()\n",
    "    test_loss = 0\n",
    "    with torch.no_grad():\n",
    "        for data, target in test_loader:\n",
    "            data, target = data.to(device), target.to(device)\n",
    "            output = model(data)\n",
    "            test_loss += epsilon_insensitive_loss(output, target, 0.1).item()  # 假设 epsilon=0.1\n",
    "    test_loss /= len(test_loader)\n",
    "    print(f'Test Loss: {test_loss}')\n",
    "\n",
    "evaluate_model(best_model, test_loader, device)"
   ]
  },
  {
   "cell_type": "code",
   "execution_count": 30,
   "id": "ca6e981d",
   "metadata": {
    "execution": {
     "iopub.execute_input": "2024-04-20T15:19:03.536691Z",
     "iopub.status.busy": "2024-04-20T15:19:03.536314Z",
     "iopub.status.idle": "2024-04-20T15:19:03.631416Z",
     "shell.execute_reply": "2024-04-20T15:19:03.630110Z"
    },
    "papermill": {
     "duration": 0.144868,
     "end_time": "2024-04-20T15:19:03.633906",
     "exception": false,
     "start_time": "2024-04-20T15:19:03.489038",
     "status": "completed"
    },
    "tags": []
   },
   "outputs": [
    {
     "name": "stdout",
     "output_type": "stream",
     "text": [
      "MSE: 11269.8974609375, RMSE: 106.15977478027344, MAE: 72.26625061035156, R²: 0.11240522508220108\n"
     ]
    }
   ],
   "source": [
    "def calculate_metrics(model, test_loader, device):\n",
    "    model.eval()\n",
    "    actuals = []\n",
    "    predictions = []\n",
    "    with torch.no_grad():\n",
    "        for data, target in test_loader:\n",
    "            data, target = data.to(device), target.to(device)\n",
    "            output = model(data)\n",
    "            actuals.extend(target.view_as(output).detach().cpu().numpy())\n",
    "            predictions.extend(output.detach().cpu().numpy())\n",
    "\n",
    "    mse = mean_squared_error(actuals, predictions)\n",
    "    rmse = np.sqrt(mse)\n",
    "    mae = mean_absolute_error(actuals, predictions)\n",
    "    r2 = r2_score(actuals, predictions)\n",
    "\n",
    "    print(f'MSE: {mse}, RMSE: {rmse}, MAE: {mae}, R²: {r2}')\n",
    "\n",
    "calculate_metrics(best_model, test_loader, device)"
   ]
  },
  {
   "cell_type": "code",
   "execution_count": 31,
   "id": "3ff19bc4",
   "metadata": {
    "execution": {
     "iopub.execute_input": "2024-04-20T15:19:03.733680Z",
     "iopub.status.busy": "2024-04-20T15:19:03.733336Z",
     "iopub.status.idle": "2024-04-20T15:19:04.157886Z",
     "shell.execute_reply": "2024-04-20T15:19:04.156841Z"
    },
    "papermill": {
     "duration": 0.474895,
     "end_time": "2024-04-20T15:19:04.160560",
     "exception": false,
     "start_time": "2024-04-20T15:19:03.685665",
     "status": "completed"
    },
    "tags": []
   },
   "outputs": [
    {
     "data": {
      "image/png": "[encoded data removed]",
      "text/plain": [
       "<Figure size 1000x600 with 1 Axes>"
      ]
     },
     "metadata": {},
     "output_type": "display_data"
    }
   ],
   "source": [
    "def plot_predictions(model, test_loader, device):\n",
    "    model.eval()\n",
    "    actuals = []\n",
    "    predictions = []\n",
    "    with torch.no_grad():\n",
    "        for data, target in test_loader:\n",
    "            data, target = data.to(device), target.to(device)\n",
    "            output = model(data)\n",
    "            actuals.extend(target.view_as(output).detach().cpu().numpy())\n",
    "            predictions.extend(output.detach().cpu().numpy())\n",
    "    \n",
    "    plt.figure(figsize=(10, 6))\n",
    "    plt.scatter(actuals, predictions, alpha=0.5)\n",
    "    plt.xlabel('Actual Prices')\n",
    "    plt.ylabel('Predicted Prices')\n",
    "    plt.title('Actual vs. Predicted Prices')\n",
    "    plt.plot([min(actuals), max(actuals)], [min(actuals), max(actuals)], 'k--')\n",
    "    plt.show()\n",
    "\n",
    "plot_predictions(best_model, test_loader, device)"
   ]
  },
  {
   "cell_type": "markdown",
   "id": "c942abef",
   "metadata": {
    "papermill": {
     "duration": 0.04805,
     "end_time": "2024-04-20T15:19:04.257134",
     "exception": false,
     "start_time": "2024-04-20T15:19:04.209084",
     "status": "completed"
    },
    "tags": []
   },
   "source": [
    "# *MLP* Model"
   ]
  },
  {
   "cell_type": "code",
   "execution_count": 32,
   "id": "5f8eb7bb",
   "metadata": {
    "execution": {
     "iopub.execute_input": "2024-04-20T15:19:04.356145Z",
     "iopub.status.busy": "2024-04-20T15:19:04.355697Z",
     "iopub.status.idle": "2024-04-20T15:19:04.363491Z",
     "shell.execute_reply": "2024-04-20T15:19:04.362537Z"
    },
    "papermill": {
     "duration": 0.060477,
     "end_time": "2024-04-20T15:19:04.365522",
     "exception": false,
     "start_time": "2024-04-20T15:19:04.305045",
     "status": "completed"
    },
    "tags": []
   },
   "outputs": [],
   "source": [
    "class MLP(nn.Module):\n",
    "    def __init__(self, input_dim):\n",
    "        super(MLP, self).__init__()\n",
    "        self.fc1 = nn.Linear(input_dim, 128)\n",
    "        self.relu1 = nn.ReLU()\n",
    "        self.fc2 = nn.Linear(128, 64)\n",
    "        self.relu2 = nn.ReLU()\n",
    "        self.fc3 = nn.Linear(64, 32)\n",
    "        self.relu3 = nn.ReLU()\n",
    "        self.output = nn.Linear(32, 1)\n",
    "\n",
    "    def forward(self, x):\n",
    "        x = self.relu1(self.fc1(x))\n",
    "        x = self.relu2(self.fc2(x))\n",
    "        x = self.relu3(self.fc3(x))\n",
    "        x = self.output(x)\n",
    "        return x"
   ]
  },
  {
   "cell_type": "code",
   "execution_count": 33,
   "id": "8bf6afc8",
   "metadata": {
    "execution": {
     "iopub.execute_input": "2024-04-20T15:19:04.468352Z",
     "iopub.status.busy": "2024-04-20T15:19:04.467887Z",
     "iopub.status.idle": "2024-04-20T15:19:04.476919Z",
     "shell.execute_reply": "2024-04-20T15:19:04.475738Z"
    },
    "papermill": {
     "duration": 0.063164,
     "end_time": "2024-04-20T15:19:04.478843",
     "exception": false,
     "start_time": "2024-04-20T15:19:04.415679",
     "status": "completed"
    },
    "tags": []
   },
   "outputs": [],
   "source": [
    "model = MLP(input_dim=X_train.shape[1])\n",
    "criterion = nn.MSELoss()\n",
    "optimizer = optim.Adam(model.parameters(), lr=0.001)"
   ]
  },
  {
   "cell_type": "code",
   "execution_count": 34,
   "id": "c821186f",
   "metadata": {
    "execution": {
     "iopub.execute_input": "2024-04-20T15:19:04.579754Z",
     "iopub.status.busy": "2024-04-20T15:19:04.579340Z",
     "iopub.status.idle": "2024-04-20T15:19:04.583762Z",
     "shell.execute_reply": "2024-04-20T15:19:04.582702Z"
    },
    "papermill": {
     "duration": 0.055019,
     "end_time": "2024-04-20T15:19:04.585396",
     "exception": false,
     "start_time": "2024-04-20T15:19:04.530377",
     "status": "completed"
    },
    "tags": []
   },
   "outputs": [],
   "source": [
    "# early_stopping = EarlyStopping(patience=10, verbose=True)\n",
    "# num_epochs = 1000\n",
    "# for epoch in range(num_epochs):\n",
    "#     model.train()\n",
    "#     for inputs, targets in train_loader:\n",
    "#         optimizer.zero_grad()\n",
    "#         outputs = model(inputs)\n",
    "#         loss = criterion(outputs, targets.unsqueeze(1))\n",
    "#         loss.backward()\n",
    "#         optimizer.step()\n",
    "\n",
    "#     model.eval()\n",
    "#     val_loss = 0\n",
    "#     with torch.no_grad():\n",
    "#         for inputs, targets in val_loader:\n",
    "#             outputs = model(inputs)\n",
    "#             val_loss += criterion(outputs, targets.unsqueeze(1)).item()\n",
    "#     val_loss = val_loss / len(val_loader)\n",
    "    \n",
    "#     print(f\"Epoch {epoch+1}, Loss: {loss.item()}, Validation Loss: {val_loss}\")\n",
    "    \n",
    "#     early_stopping(val_loss)\n",
    "#     if early_stopping.early_stop:\n",
    "#         print(\"Early stopping\")\n",
    "#         break"
   ]
  },
  {
   "cell_type": "code",
   "execution_count": 35,
   "id": "a03b946b",
   "metadata": {
    "execution": {
     "iopub.execute_input": "2024-04-20T15:19:04.683084Z",
     "iopub.status.busy": "2024-04-20T15:19:04.682531Z",
     "iopub.status.idle": "2024-04-20T15:19:04.695332Z",
     "shell.execute_reply": "2024-04-20T15:19:04.693671Z"
    },
    "papermill": {
     "duration": 0.064459,
     "end_time": "2024-04-20T15:19:04.697606",
     "exception": false,
     "start_time": "2024-04-20T15:19:04.633147",
     "status": "completed"
    },
    "tags": []
   },
   "outputs": [],
   "source": [
    "def cross_validate_model(X, y, n_splits=5, epochs=50, batch_size=64, epsilon=0.1):\n",
    "    X_train_val, X_test, y_train_val, y_test = train_test_split(X, y, test_size=0.2, random_state=42)\n",
    "    kf = KFold(n_splits=n_splits, shuffle=True, random_state=42)\n",
    "    best_model = None\n",
    "    lowest_val_loss = np.inf\n",
    "\n",
    "    for fold, (train_index, val_index) in enumerate(kf.split(X_train_val), 1):\n",
    "        print(f\"Starting fold {fold}\")\n",
    "        X_train, X_val = X_train_val[train_index], X_train_val[val_index]\n",
    "        y_train, y_val = y_train_val[train_index], y_train_val[val_index]\n",
    "\n",
    "        train_dataset = TensorDataset(torch.tensor(X_train, dtype=torch.float32), torch.tensor(y_train, dtype=torch.float32))\n",
    "        val_dataset = TensorDataset(torch.tensor(X_val, dtype=torch.float32), torch.tensor(y_val, dtype=torch.float32))\n",
    "        train_loader = DataLoader(train_dataset, batch_size=batch_size, shuffle=True)\n",
    "        val_loader = DataLoader(val_dataset, batch_size=batch_size, shuffle=False)\n",
    "\n",
    "        device = torch.device(\"cuda\" if torch.cuda.is_available() else \"cpu\")\n",
    "        model = MLP(input_dim=X_train.shape[1]).to(device)\n",
    "        optimizer = torch.optim.SGD(model.parameters(), lr=0.01, weight_decay=0.01)\n",
    "        early_stopping = EarlyStopping(patience=10, verbose=True)\n",
    "\n",
    "        for epoch in range(epochs):\n",
    "            model.train()\n",
    "            for data, target in train_loader:\n",
    "                data, target = data.to(device), target.to(device)\n",
    "                optimizer.zero_grad()\n",
    "                output = model(data)\n",
    "                loss = epsilon_insensitive_loss(output, target, epsilon)\n",
    "                loss.backward()\n",
    "                optimizer.step()\n",
    "\n",
    "            val_loss = 0\n",
    "            model.eval()\n",
    "            with torch.no_grad():\n",
    "                for data, target in val_loader:\n",
    "                    data, target = data.to(device), target.to(device)\n",
    "                    output = model(data)\n",
    "                    val_loss += epsilon_insensitive_loss(output, target, epsilon).item()\n",
    "            val_loss /= len(val_loader)\n",
    "\n",
    "            print(f'Fold {fold}, Epoch {epoch+1}, Validation MAE Loss: {val_loss}')\n",
    "            if val_loss < lowest_val_loss:\n",
    "                lowest_val_loss = val_loss\n",
    "                best_model = model.state_dict()  # Save the best model\n",
    "                torch.save(best_model, 'best_model.pth')  # Save model to disk\n",
    "\n",
    "            early_stopping(val_loss)\n",
    "            if early_stopping.early_stop:\n",
    "                print(f\"Early stopping triggered at epoch {epoch+1}\")\n",
    "                break"
   ]
  },
  {
   "cell_type": "code",
   "execution_count": 36,
   "id": "a2014814",
   "metadata": {
    "execution": {
     "iopub.execute_input": "2024-04-20T15:19:04.797340Z",
     "iopub.status.busy": "2024-04-20T15:19:04.796585Z",
     "iopub.status.idle": "2024-04-20T15:21:18.604683Z",
     "shell.execute_reply": "2024-04-20T15:21:18.603280Z"
    },
    "papermill": {
     "duration": 133.86266,
     "end_time": "2024-04-20T15:21:18.608288",
     "exception": false,
     "start_time": "2024-04-20T15:19:04.745628",
     "status": "completed"
    },
    "tags": []
   },
   "outputs": [
    {
     "name": "stdout",
     "output_type": "stream",
     "text": [
      "Starting fold 1\n",
      "Fold 1, Epoch 1, Validation MAE Loss: 86.78728182453754\n",
      "Fold 1, Epoch 2, Validation MAE Loss: 77.80423752335477\n",
      "Fold 1, Epoch 3, Validation MAE Loss: 49.64898782525181\n",
      "Fold 1, Epoch 4, Validation MAE Loss: 50.69883303996945\n",
      "Fold 1, Epoch 5, Validation MAE Loss: 53.68614026534656\n",
      "Fold 1, Epoch 6, Validation MAE Loss: 48.00708903162933\n",
      "Fold 1, Epoch 7, Validation MAE Loss: 54.703511797692165\n",
      "Fold 1, Epoch 8, Validation MAE Loss: 49.53387293539757\n",
      "Fold 1, Epoch 9, Validation MAE Loss: 55.61577106507357\n",
      "Fold 1, Epoch 10, Validation MAE Loss: 49.82535628641932\n",
      "Fold 1, Epoch 11, Validation MAE Loss: 48.50226831830238\n",
      "Fold 1, Epoch 12, Validation MAE Loss: 47.69518783663915\n",
      "Fold 1, Epoch 13, Validation MAE Loss: 47.3622556954376\n",
      "Fold 1, Epoch 14, Validation MAE Loss: 48.24643615848762\n",
      "Fold 1, Epoch 15, Validation MAE Loss: 48.09630698211922\n",
      "Fold 1, Epoch 16, Validation MAE Loss: 57.80800783141586\n",
      "Fold 1, Epoch 17, Validation MAE Loss: 48.68030292731671\n",
      "Fold 1, Epoch 18, Validation MAE Loss: 48.62076874409826\n",
      "Fold 1, Epoch 19, Validation MAE Loss: 53.11494795744084\n",
      "Fold 1, Epoch 20, Validation MAE Loss: 49.17588929105396\n",
      "Fold 1, Epoch 21, Validation MAE Loss: 52.028257354231904\n",
      "Fold 1, Epoch 22, Validation MAE Loss: 48.871596706800226\n",
      "Fold 1, Epoch 23, Validation MAE Loss: 48.554331109543476\n",
      "Early stopping triggered\n",
      "Early stopping triggered at epoch 23\n",
      "Starting fold 2\n",
      "Fold 2, Epoch 1, Validation MAE Loss: 58.46869779224238\n",
      "Fold 2, Epoch 2, Validation MAE Loss: 49.92379171198065\n",
      "Fold 2, Epoch 3, Validation MAE Loss: 50.52077380093661\n",
      "Fold 2, Epoch 4, Validation MAE Loss: 48.006663945095596\n",
      "Fold 2, Epoch 5, Validation MAE Loss: 47.686207668840396\n",
      "Fold 2, Epoch 6, Validation MAE Loss: 50.50703549976191\n",
      "Fold 2, Epoch 7, Validation MAE Loss: 54.17351919757433\n",
      "Fold 2, Epoch 8, Validation MAE Loss: 47.73176153829275\n",
      "Fold 2, Epoch 9, Validation MAE Loss: 48.262097603033396\n",
      "Fold 2, Epoch 10, Validation MAE Loss: 49.46298129499451\n",
      "Fold 2, Epoch 11, Validation MAE Loss: 50.42348514903676\n",
      "Fold 2, Epoch 12, Validation MAE Loss: 59.30458210716563\n",
      "Fold 2, Epoch 13, Validation MAE Loss: 46.90820990318109\n",
      "Fold 2, Epoch 14, Validation MAE Loss: 49.2115795356183\n",
      "Fold 2, Epoch 15, Validation MAE Loss: 48.33149154915297\n",
      "Fold 2, Epoch 16, Validation MAE Loss: 54.280229804929625\n",
      "Fold 2, Epoch 17, Validation MAE Loss: 51.48619511501848\n",
      "Fold 2, Epoch 18, Validation MAE Loss: 48.34902991933271\n",
      "Fold 2, Epoch 19, Validation MAE Loss: 48.694328938633944\n",
      "Fold 2, Epoch 20, Validation MAE Loss: 46.988868335061824\n",
      "Fold 2, Epoch 21, Validation MAE Loss: 48.415936493676554\n",
      "Fold 2, Epoch 22, Validation MAE Loss: 46.48206929924074\n",
      "Fold 2, Epoch 23, Validation MAE Loss: 49.746130226072204\n",
      "Fold 2, Epoch 24, Validation MAE Loss: 58.77594082414611\n",
      "Fold 2, Epoch 25, Validation MAE Loss: 46.91797439322984\n",
      "Fold 2, Epoch 26, Validation MAE Loss: 46.99969989997296\n",
      "Fold 2, Epoch 27, Validation MAE Loss: 46.789881115117346\n",
      "Fold 2, Epoch 28, Validation MAE Loss: 47.98491187923211\n",
      "Fold 2, Epoch 29, Validation MAE Loss: 47.21363427028183\n",
      "Fold 2, Epoch 30, Validation MAE Loss: 50.056870090074774\n",
      "Fold 2, Epoch 31, Validation MAE Loss: 47.46590029503688\n",
      "Fold 2, Epoch 32, Validation MAE Loss: 48.873107563365586\n",
      "Early stopping triggered\n",
      "Early stopping triggered at epoch 32\n",
      "Starting fold 3\n",
      "Fold 3, Epoch 1, Validation MAE Loss: 50.088226885835\n",
      "Fold 3, Epoch 2, Validation MAE Loss: 55.01237676951511\n",
      "Fold 3, Epoch 3, Validation MAE Loss: 52.86163875485255\n",
      "Fold 3, Epoch 4, Validation MAE Loss: 51.02138153580594\n",
      "Fold 3, Epoch 5, Validation MAE Loss: 50.08982833357882\n",
      "Fold 3, Epoch 6, Validation MAE Loss: 48.02130918266359\n",
      "Fold 3, Epoch 7, Validation MAE Loss: 50.86294732212035\n",
      "Fold 3, Epoch 8, Validation MAE Loss: 53.86020449173352\n",
      "Fold 3, Epoch 9, Validation MAE Loss: 47.702662286679605\n",
      "Fold 3, Epoch 10, Validation MAE Loss: 46.824253712803866\n",
      "Fold 3, Epoch 11, Validation MAE Loss: 47.04039261557839\n",
      "Fold 3, Epoch 12, Validation MAE Loss: 48.694406099555906\n",
      "Fold 3, Epoch 13, Validation MAE Loss: 48.3827573918114\n",
      "Fold 3, Epoch 14, Validation MAE Loss: 48.76293105133309\n",
      "Fold 3, Epoch 15, Validation MAE Loss: 46.86754702733568\n",
      "Fold 3, Epoch 16, Validation MAE Loss: 47.96282202350206\n",
      "Fold 3, Epoch 17, Validation MAE Loss: 48.32327664588109\n",
      "Fold 3, Epoch 18, Validation MAE Loss: 47.8489278052464\n",
      "Fold 3, Epoch 19, Validation MAE Loss: 46.400694161407216\n",
      "Fold 3, Epoch 20, Validation MAE Loss: 47.685437762047634\n",
      "Fold 3, Epoch 21, Validation MAE Loss: 54.152645710086034\n",
      "Fold 3, Epoch 22, Validation MAE Loss: 46.10648856675329\n",
      "Fold 3, Epoch 23, Validation MAE Loss: 47.337500138716265\n",
      "Fold 3, Epoch 24, Validation MAE Loss: 52.50822313166847\n",
      "Fold 3, Epoch 25, Validation MAE Loss: 46.37264611110214\n",
      "Fold 3, Epoch 26, Validation MAE Loss: 46.87466323474222\n",
      "Fold 3, Epoch 27, Validation MAE Loss: 48.459036235966956\n",
      "Fold 3, Epoch 28, Validation MAE Loss: 53.20455787595638\n",
      "Fold 3, Epoch 29, Validation MAE Loss: 47.012854552466024\n",
      "Fold 3, Epoch 30, Validation MAE Loss: 47.992606312775415\n",
      "Fold 3, Epoch 31, Validation MAE Loss: 49.904548708072376\n",
      "Fold 3, Epoch 32, Validation MAE Loss: 52.00035511363637\n",
      "Early stopping triggered\n",
      "Early stopping triggered at epoch 32\n",
      "Starting fold 4\n",
      "Fold 4, Epoch 1, Validation MAE Loss: 55.28202094716474\n",
      "Fold 4, Epoch 2, Validation MAE Loss: 49.06081305259515\n",
      "Fold 4, Epoch 3, Validation MAE Loss: 50.27951175910382\n",
      "Fold 4, Epoch 4, Validation MAE Loss: 51.521146600896664\n",
      "Fold 4, Epoch 5, Validation MAE Loss: 49.73412669788707\n",
      "Fold 4, Epoch 6, Validation MAE Loss: 62.69639893208654\n",
      "Fold 4, Epoch 7, Validation MAE Loss: 55.24398002939776\n",
      "Fold 4, Epoch 8, Validation MAE Loss: 49.05196967006715\n",
      "Fold 4, Epoch 9, Validation MAE Loss: 54.47790748028716\n",
      "Fold 4, Epoch 10, Validation MAE Loss: 47.43519753069917\n",
      "Fold 4, Epoch 11, Validation MAE Loss: 53.06968291731906\n",
      "Fold 4, Epoch 12, Validation MAE Loss: 62.35463005255077\n",
      "Fold 4, Epoch 13, Validation MAE Loss: 54.182948309527944\n",
      "Fold 4, Epoch 14, Validation MAE Loss: 51.844605154242394\n",
      "Fold 4, Epoch 15, Validation MAE Loss: 47.75088668066608\n",
      "Fold 4, Epoch 16, Validation MAE Loss: 50.07365773729057\n",
      "Fold 4, Epoch 17, Validation MAE Loss: 47.36372517357188\n",
      "Fold 4, Epoch 18, Validation MAE Loss: 47.28783706791145\n",
      "Fold 4, Epoch 19, Validation MAE Loss: 46.96273847847931\n",
      "Fold 4, Epoch 20, Validation MAE Loss: 52.91947369536093\n",
      "Fold 4, Epoch 21, Validation MAE Loss: 50.96199691394144\n",
      "Fold 4, Epoch 22, Validation MAE Loss: 48.79242778809603\n",
      "Fold 4, Epoch 23, Validation MAE Loss: 49.00305500503414\n",
      "Fold 4, Epoch 24, Validation MAE Loss: 46.84008599903958\n",
      "Fold 4, Epoch 25, Validation MAE Loss: 54.52944612108971\n",
      "Fold 4, Epoch 26, Validation MAE Loss: 46.69943889901658\n",
      "Fold 4, Epoch 27, Validation MAE Loss: 48.30153621326793\n",
      "Fold 4, Epoch 28, Validation MAE Loss: 48.017536384015045\n",
      "Fold 4, Epoch 29, Validation MAE Loss: 51.084098469127305\n",
      "Fold 4, Epoch 30, Validation MAE Loss: 46.578250286007716\n",
      "Fold 4, Epoch 31, Validation MAE Loss: 48.25820024348488\n",
      "Fold 4, Epoch 32, Validation MAE Loss: 56.945627070655505\n",
      "Fold 4, Epoch 33, Validation MAE Loss: 49.434399849127146\n",
      "Fold 4, Epoch 34, Validation MAE Loss: 48.86345294290338\n",
      "Fold 4, Epoch 35, Validation MAE Loss: 52.24096030243172\n",
      "Fold 4, Epoch 36, Validation MAE Loss: 46.35145316636267\n",
      "Fold 4, Epoch 37, Validation MAE Loss: 47.951127738006846\n",
      "Fold 4, Epoch 38, Validation MAE Loss: 46.70713326950704\n",
      "Fold 4, Epoch 39, Validation MAE Loss: 47.707203289694036\n",
      "Fold 4, Epoch 40, Validation MAE Loss: 49.01976356821612\n",
      "Fold 4, Epoch 41, Validation MAE Loss: 48.62781606626905\n",
      "Fold 4, Epoch 42, Validation MAE Loss: 53.55364217836995\n",
      "Fold 4, Epoch 43, Validation MAE Loss: 49.84503151759628\n",
      "Fold 4, Epoch 44, Validation MAE Loss: 46.943875777819926\n",
      "Fold 4, Epoch 45, Validation MAE Loss: 48.13963642593258\n",
      "Fold 4, Epoch 46, Validation MAE Loss: 48.19596752450486\n",
      "Early stopping triggered\n",
      "Early stopping triggered at epoch 46\n",
      "Starting fold 5\n",
      "Fold 5, Epoch 1, Validation MAE Loss: 62.457354427369175\n",
      "Fold 5, Epoch 2, Validation MAE Loss: 63.60512545877252\n",
      "Fold 5, Epoch 3, Validation MAE Loss: 51.502909447536\n",
      "Fold 5, Epoch 4, Validation MAE Loss: 72.99031252900431\n",
      "Fold 5, Epoch 5, Validation MAE Loss: 59.283625358392385\n",
      "Fold 5, Epoch 6, Validation MAE Loss: 52.578949069188646\n",
      "Fold 5, Epoch 7, Validation MAE Loss: 49.334707402000745\n",
      "Fold 5, Epoch 8, Validation MAE Loss: 55.395718251378085\n",
      "Fold 5, Epoch 9, Validation MAE Loss: 48.38086068334658\n",
      "Fold 5, Epoch 10, Validation MAE Loss: 47.90266286046052\n",
      "Fold 5, Epoch 11, Validation MAE Loss: 53.69617739590731\n",
      "Fold 5, Epoch 12, Validation MAE Loss: 55.09213092898534\n",
      "Fold 5, Epoch 13, Validation MAE Loss: 47.58820314643797\n",
      "Fold 5, Epoch 14, Validation MAE Loss: 47.904702336334985\n",
      "Fold 5, Epoch 15, Validation MAE Loss: 47.98634193357357\n",
      "Fold 5, Epoch 16, Validation MAE Loss: 47.05122009781766\n",
      "Fold 5, Epoch 17, Validation MAE Loss: 61.377424003664125\n",
      "Fold 5, Epoch 18, Validation MAE Loss: 47.58339339642485\n",
      "Fold 5, Epoch 19, Validation MAE Loss: 48.728352412704595\n",
      "Fold 5, Epoch 20, Validation MAE Loss: 48.39795101575615\n",
      "Fold 5, Epoch 21, Validation MAE Loss: 50.4330997467041\n",
      "Fold 5, Epoch 22, Validation MAE Loss: 47.60386972979081\n",
      "Fold 5, Epoch 23, Validation MAE Loss: 59.886727451292934\n",
      "Fold 5, Epoch 24, Validation MAE Loss: 46.965066704868285\n",
      "Fold 5, Epoch 25, Validation MAE Loss: 48.277663601331476\n",
      "Fold 5, Epoch 26, Validation MAE Loss: 47.9148714680317\n",
      "Fold 5, Epoch 27, Validation MAE Loss: 46.94698056307706\n",
      "Fold 5, Epoch 28, Validation MAE Loss: 50.495851847751084\n",
      "Fold 5, Epoch 29, Validation MAE Loss: 46.76190961096898\n",
      "Fold 5, Epoch 30, Validation MAE Loss: 57.31104565454908\n",
      "Fold 5, Epoch 31, Validation MAE Loss: 48.389671609421406\n",
      "Fold 5, Epoch 32, Validation MAE Loss: 48.25762509117442\n",
      "Fold 5, Epoch 33, Validation MAE Loss: 48.421404941022885\n",
      "Fold 5, Epoch 34, Validation MAE Loss: 47.22100595206268\n",
      "Fold 5, Epoch 35, Validation MAE Loss: 46.58322395766077\n",
      "Fold 5, Epoch 36, Validation MAE Loss: 47.154202595229975\n",
      "Fold 5, Epoch 37, Validation MAE Loss: 48.10181628771065\n",
      "Fold 5, Epoch 38, Validation MAE Loss: 50.39102097188146\n",
      "Fold 5, Epoch 39, Validation MAE Loss: 48.38117429244617\n",
      "Fold 5, Epoch 40, Validation MAE Loss: 53.97427629833379\n",
      "Fold 5, Epoch 41, Validation MAE Loss: 47.01937360211837\n",
      "Fold 5, Epoch 42, Validation MAE Loss: 51.66805361913256\n",
      "Fold 5, Epoch 43, Validation MAE Loss: 46.50616299022328\n",
      "Fold 5, Epoch 44, Validation MAE Loss: 46.228334206194916\n",
      "Fold 5, Epoch 45, Validation MAE Loss: 47.435858166907444\n",
      "Fold 5, Epoch 46, Validation MAE Loss: 46.62103987134193\n",
      "Fold 5, Epoch 47, Validation MAE Loss: 48.50997057828036\n",
      "Fold 5, Epoch 48, Validation MAE Loss: 48.1672274061471\n",
      "Fold 5, Epoch 49, Validation MAE Loss: 48.38489595523551\n",
      "Fold 5, Epoch 50, Validation MAE Loss: 47.91523695386146\n",
      "Fold 5, Epoch 51, Validation MAE Loss: 47.229813788547986\n",
      "Fold 5, Epoch 52, Validation MAE Loss: 50.406322384668776\n",
      "Fold 5, Epoch 53, Validation MAE Loss: 47.81131482715449\n",
      "Fold 5, Epoch 54, Validation MAE Loss: 48.04347504860114\n",
      "Early stopping triggered\n",
      "Early stopping triggered at epoch 54\n"
     ]
    }
   ],
   "source": [
    "cross_validate_model(df_transformed, y, n_splits=5, epochs=1000, batch_size=64, epsilon=0.1)"
   ]
  },
  {
   "cell_type": "code",
   "execution_count": 37,
   "id": "d15c0e1a",
   "metadata": {
    "execution": {
     "iopub.execute_input": "2024-04-20T15:21:18.734789Z",
     "iopub.status.busy": "2024-04-20T15:21:18.734075Z",
     "iopub.status.idle": "2024-04-20T15:21:18.739490Z",
     "shell.execute_reply": "2024-04-20T15:21:18.738680Z"
    },
    "papermill": {
     "duration": 0.068573,
     "end_time": "2024-04-20T15:21:18.742005",
     "exception": false,
     "start_time": "2024-04-20T15:21:18.673432",
     "status": "completed"
    },
    "tags": []
   },
   "outputs": [],
   "source": [
    "def load_best_model(input_features):\n",
    "    device = torch.device(\"cuda\" if torch.cuda.is_available() else \"cpu\")\n",
    "    model = MLP(input_dim=X_train.shape[1]).to(device)\n",
    "    model.load_state_dict(torch.load('best_model.pth', map_location=device))\n",
    "    return model, device"
   ]
  },
  {
   "cell_type": "code",
   "execution_count": 38,
   "id": "f8d85053",
   "metadata": {
    "execution": {
     "iopub.execute_input": "2024-04-20T15:21:18.873548Z",
     "iopub.status.busy": "2024-04-20T15:21:18.872841Z",
     "iopub.status.idle": "2024-04-20T15:21:18.879792Z",
     "shell.execute_reply": "2024-04-20T15:21:18.878622Z"
    },
    "papermill": {
     "duration": 0.074339,
     "end_time": "2024-04-20T15:21:18.882211",
     "exception": false,
     "start_time": "2024-04-20T15:21:18.807872",
     "status": "completed"
    },
    "tags": []
   },
   "outputs": [],
   "source": [
    "best_model, device = load_best_model(df_transformed.shape[1])"
   ]
  },
  {
   "cell_type": "code",
   "execution_count": 39,
   "id": "eeeb39d0",
   "metadata": {
    "execution": {
     "iopub.execute_input": "2024-04-20T15:21:19.012433Z",
     "iopub.status.busy": "2024-04-20T15:21:19.012022Z",
     "iopub.status.idle": "2024-04-20T15:21:19.113707Z",
     "shell.execute_reply": "2024-04-20T15:21:19.112605Z"
    },
    "papermill": {
     "duration": 0.16604,
     "end_time": "2024-04-20T15:21:19.115509",
     "exception": false,
     "start_time": "2024-04-20T15:21:18.949469",
     "status": "completed"
    },
    "tags": []
   },
   "outputs": [
    {
     "name": "stdout",
     "output_type": "stream",
     "text": [
      "Test Loss: 45.78469404005846\n"
     ]
    }
   ],
   "source": [
    "evaluate_model(best_model, test_loader, device)"
   ]
  },
  {
   "cell_type": "code",
   "execution_count": 40,
   "id": "05330c1b",
   "metadata": {
    "execution": {
     "iopub.execute_input": "2024-04-20T15:21:19.238659Z",
     "iopub.status.busy": "2024-04-20T15:21:19.237559Z",
     "iopub.status.idle": "2024-04-20T15:21:19.649609Z",
     "shell.execute_reply": "2024-04-20T15:21:19.648599Z"
    },
    "papermill": {
     "duration": 0.475494,
     "end_time": "2024-04-20T15:21:19.651631",
     "exception": false,
     "start_time": "2024-04-20T15:21:19.176137",
     "status": "completed"
    },
    "tags": []
   },
   "outputs": [
    {
     "data": {
      "image/png": "[encoded data removed]",
      "text/plain": [
       "<Figure size 1000x600 with 1 Axes>"
      ]
     },
     "metadata": {},
     "output_type": "display_data"
    }
   ],
   "source": [
    "plot_predictions(model, test_loader, device)"
   ]
  }
 ],
 "metadata": {
  "kaggle": {
   "accelerator": "none",
   "dataSources": [
    {
     "datasetId": 2894281,
     "sourceId": 4990113,
     "sourceType": "datasetVersion"
    }
   ],
   "dockerImageVersionId": 30684,
   "isGpuEnabled": false,
   "isInternetEnabled": true,
   "language": "python",
   "sourceType": "notebook"
  },
  "kernelspec": {
   "display_name": "Python 3",
   "language": "python",
   "name": "python3"
  },
  "language_info": {
   "codemirror_mode": {
    "name": "ipython",
    "version": 3
   },
   "file_extension": ".py",
   "mimetype": "text/x-python",
   "name": "python",
   "nbconvert_exporter": "python",
   "pygments_lexer": "ipython3",
   "version": "3.10.13"
  },
  "papermill": {
   "default_parameters": {},
   "duration": 425.899892,
   "end_time": "2024-04-20T15:21:21.139212",
   "environment_variables": {},
   "exception": null,
   "input_path": "__notebook__.ipynb",
   "output_path": "__notebook__.ipynb",
   "parameters": {},
   "start_time": "2024-04-20T15:14:15.239320",
   "version": "2.5.0"
  }
 },
 "nbformat": 4,
 "nbformat_minor": 5
}
