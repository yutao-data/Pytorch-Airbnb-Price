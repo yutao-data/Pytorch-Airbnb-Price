{
 "cells": [
  {
   "cell_type": "code",
   "execution_count": 1,
   "id": "b8e13b79",
   "metadata": {
    "_cell_guid": "b1076dfc-b9ad-4769-8c92-a6c4dae69d19",
    "_uuid": "8f2839f25d086af736a60e9eeb907d3b93b6e0e5",
    "execution": {
     "iopub.execute_input": "2024-04-20T18:18:17.050993Z",
     "iopub.status.busy": "2024-04-20T18:18:17.050477Z",
     "iopub.status.idle": "2024-04-20T18:18:23.753316Z",
     "shell.execute_reply": "2024-04-20T18:18:23.752006Z"
    },
    "papermill": {
     "duration": 6.723124,
     "end_time": "2024-04-20T18:18:23.756359",
     "exception": false,
     "start_time": "2024-04-20T18:18:17.033235",
     "status": "completed"
    },
    "tags": []
   },
   "outputs": [],
   "source": [
    "import numpy as np \n",
    "import pandas as pd\n",
    "from matplotlib import pyplot as plt\n",
    "import math\n",
    "import copy\n",
    "\n",
    "from sklearn.preprocessing import StandardScaler, OneHotEncoder\n",
    "from sklearn.compose import ColumnTransformer\n",
    "from sklearn.pipeline import Pipeline\n",
    "\n",
    "import torch\n",
    "import torch.nn as nn\n",
    "import torch.optim as optim\n",
    "from torch.utils.data import DataLoader, TensorDataset\n",
    "from sklearn.model_selection import train_test_split, KFold, ParameterGrid\n",
    "from sklearn.metrics import mean_squared_error, mean_absolute_error, r2_score"
   ]
  },
  {
   "cell_type": "code",
   "execution_count": 2,
   "id": "4ec4551d",
   "metadata": {
    "execution": {
     "iopub.execute_input": "2024-04-20T18:18:23.788767Z",
     "iopub.status.busy": "2024-04-20T18:18:23.788112Z",
     "iopub.status.idle": "2024-04-20T18:18:24.427524Z",
     "shell.execute_reply": "2024-04-20T18:18:24.426303Z"
    },
    "papermill": {
     "duration": 0.658785,
     "end_time": "2024-04-20T18:18:24.430443",
     "exception": false,
     "start_time": "2024-04-20T18:18:23.771658",
     "status": "completed"
    },
    "tags": []
   },
   "outputs": [],
   "source": [
    "#Amsterdam\n",
    "amsterdam_weekdays = pd.read_csv('/kaggle/input/airbnb-price-determinants-in-europe/amsterdam_weekdays.csv')\n",
    "amsterdam_weekend = pd.read_csv('/kaggle/input/airbnb-price-determinants-in-europe/amsterdam_weekends.csv')\n",
    "\n",
    "#Athens\n",
    "athens_weekdays = pd.read_csv('/kaggle/input/airbnb-price-determinants-in-europe/athens_weekdays.csv')\n",
    "athens_weekend = pd.read_csv('/kaggle/input/airbnb-price-determinants-in-europe/athens_weekends.csv')\n",
    "\n",
    "#Barcelona\n",
    "barcelona_weekdays = pd.read_csv('/kaggle/input/airbnb-price-determinants-in-europe/barcelona_weekdays.csv')\n",
    "barcelona_weekend = pd.read_csv('/kaggle/input/airbnb-price-determinants-in-europe/barcelona_weekends.csv')\n",
    "\n",
    "#Berlin\n",
    "berlin_weekdays = pd.read_csv('/kaggle/input/airbnb-price-determinants-in-europe/berlin_weekdays.csv')\n",
    "berlin_weekend = pd.read_csv('/kaggle/input/airbnb-price-determinants-in-europe/berlin_weekends.csv')\n",
    "\n",
    "#Budapest\n",
    "budapest_weekdays = pd.read_csv('/kaggle/input/airbnb-price-determinants-in-europe/budapest_weekdays.csv')\n",
    "budapest_weekend = pd.read_csv('/kaggle/input/airbnb-price-determinants-in-europe/budapest_weekends.csv')\n",
    "\n",
    "#Lisbon\n",
    "lisbon_weekdays = pd.read_csv('/kaggle/input/airbnb-price-determinants-in-europe/lisbon_weekdays.csv')\n",
    "lisbon_weekend = pd.read_csv('/kaggle/input/airbnb-price-determinants-in-europe/lisbon_weekends.csv')\n",
    "\n",
    "#London\n",
    "london_weekdays = pd.read_csv('/kaggle/input/airbnb-price-determinants-in-europe/london_weekdays.csv')\n",
    "london_weekend = pd.read_csv('/kaggle/input/airbnb-price-determinants-in-europe/london_weekends.csv')\n",
    "\n",
    "#Paris\n",
    "paris_weekdays = pd.read_csv('/kaggle/input/airbnb-price-determinants-in-europe/paris_weekdays.csv')\n",
    "paris_weekend = pd.read_csv('/kaggle/input/airbnb-price-determinants-in-europe/paris_weekends.csv')\n",
    "\n",
    "#Rome\n",
    "rome_weekdays = pd.read_csv('/kaggle/input/airbnb-price-determinants-in-europe/rome_weekdays.csv')\n",
    "rome_weekend = pd.read_csv('/kaggle/input/airbnb-price-determinants-in-europe/rome_weekends.csv')\n",
    "\n",
    "#Vienna\n",
    "vienna_weekdays = pd.read_csv('/kaggle/input/airbnb-price-determinants-in-europe/vienna_weekdays.csv')\n",
    "vienna_weekend = pd.read_csv('/kaggle/input/airbnb-price-determinants-in-europe/vienna_weekends.csv')"
   ]
  },
  {
   "cell_type": "code",
   "execution_count": 3,
   "id": "436ff73b",
   "metadata": {
    "execution": {
     "iopub.execute_input": "2024-04-20T18:18:24.461670Z",
     "iopub.status.busy": "2024-04-20T18:18:24.461213Z",
     "iopub.status.idle": "2024-04-20T18:18:24.572781Z",
     "shell.execute_reply": "2024-04-20T18:18:24.571616Z"
    },
    "papermill": {
     "duration": 0.131057,
     "end_time": "2024-04-20T18:18:24.576016",
     "exception": false,
     "start_time": "2024-04-20T18:18:24.444959",
     "status": "completed"
    },
    "tags": []
   },
   "outputs": [
    {
     "name": "stdout",
     "output_type": "stream",
     "text": [
      "      realSum     room_type  room_shared  room_private  person_capacity  \\\n",
      "0  194.033698  Private room        False          True              2.0   \n",
      "1  344.245776  Private room        False          True              4.0   \n",
      "2  264.101422  Private room        False          True              2.0   \n",
      "3  433.529398  Private room        False          True              4.0   \n",
      "4  485.552926  Private room        False          True              2.0   \n",
      "\n",
      "   host_is_superhost  multi  biz  cleanliness_rating  \\\n",
      "0              False      1    0                10.0   \n",
      "1              False      0    0                 8.0   \n",
      "2              False      0    1                 9.0   \n",
      "3              False      0    1                 9.0   \n",
      "4               True      0    0                10.0   \n",
      "\n",
      "   guest_satisfaction_overall  ...      dist  metro_dist  attr_index  \\\n",
      "0                        93.0  ...  5.022964    2.539380   78.690379   \n",
      "1                        85.0  ...  0.488389    0.239404  631.176378   \n",
      "2                        87.0  ...  5.748312    3.651621   75.275877   \n",
      "3                        90.0  ...  0.384862    0.439876  493.272534   \n",
      "4                        98.0  ...  0.544738    0.318693  552.830324   \n",
      "\n",
      "   attr_index_norm  rest_index  rest_index_norm      lng       lat       city  \\\n",
      "0         4.166708   98.253896         6.846473  4.90569  52.41772  Amsterdam   \n",
      "1        33.421209  837.280757        58.342928  4.90005  52.37432  Amsterdam   \n",
      "2         3.985908   95.386955         6.646700  4.97512  52.36103  Amsterdam   \n",
      "3        26.119108  875.033098        60.973565  4.89417  52.37663  Amsterdam   \n",
      "4        29.272733  815.305740        56.811677  4.90051  52.37508  Amsterdam   \n",
      "\n",
      "  weekday  \n",
      "0    True  \n",
      "1    True  \n",
      "2    True  \n",
      "3    True  \n",
      "4    True  \n",
      "\n",
      "[5 rows x 21 columns]\n",
      "(51707, 21)\n"
     ]
    }
   ],
   "source": [
    "datasets = [\n",
    "    (amsterdam_weekdays, \"Amsterdam\", True),\n",
    "    (amsterdam_weekend, \"Amsterdam\", False),\n",
    "    (athens_weekdays, \"Athens\", True),\n",
    "    (athens_weekend, \"Athens\", False),\n",
    "    (barcelona_weekdays, \"Barcelona\", True),\n",
    "    (barcelona_weekend, \"Barcelona\", False),\n",
    "    (berlin_weekdays, \"Berlin\", True),\n",
    "    (berlin_weekend, \"Berlin\", False),\n",
    "    (budapest_weekdays, \"Budapest\", True),\n",
    "    (budapest_weekend, \"Budapest\", False),\n",
    "    (lisbon_weekdays, \"Lisbon\", True),\n",
    "    (lisbon_weekend, \"Lisbon\", False),\n",
    "    (london_weekdays, \"London\", True),\n",
    "    (london_weekend, \"London\", False),\n",
    "    (paris_weekdays, \"Paris\", True),\n",
    "    (paris_weekend, \"Paris\", False),\n",
    "    (rome_weekdays, \"Rome\", True),\n",
    "    (rome_weekend, \"Rome\", False),\n",
    "    (vienna_weekdays, \"Vienna\", True),\n",
    "    (vienna_weekend, \"Vienna\", False)\n",
    "]\n",
    "\n",
    "df = pd.DataFrame()\n",
    "\n",
    "for data, city, is_weekday in datasets:\n",
    "    data['city'] = city\n",
    "    data['weekday'] = is_weekday\n",
    "    df = pd.concat([df, data], ignore_index=True)\n",
    "\n",
    "df.drop(columns=['Unnamed: 0'], axis=1, inplace=True)\n",
    "\n",
    "print(df.head())\n",
    "print(df.shape)"
   ]
  },
  {
   "cell_type": "code",
   "execution_count": 4,
   "id": "a19afba6",
   "metadata": {
    "execution": {
     "iopub.execute_input": "2024-04-20T18:18:24.608877Z",
     "iopub.status.busy": "2024-04-20T18:18:24.608359Z",
     "iopub.status.idle": "2024-04-20T18:18:24.614025Z",
     "shell.execute_reply": "2024-04-20T18:18:24.612748Z"
    },
    "papermill": {
     "duration": 0.025831,
     "end_time": "2024-04-20T18:18:24.616515",
     "exception": false,
     "start_time": "2024-04-20T18:18:24.590684",
     "status": "completed"
    },
    "tags": []
   },
   "outputs": [],
   "source": [
    "# path = \"/kaggle/input/airbnb-price-determinants-in-europe/barcelona_weekdays.csv\"\n",
    "# df = pd.read_csv(path, index_col=0)\n",
    "# df.head()"
   ]
  },
  {
   "cell_type": "markdown",
   "id": "f2727476",
   "metadata": {
    "papermill": {
     "duration": 0.014468,
     "end_time": "2024-04-20T18:18:24.645975",
     "exception": false,
     "start_time": "2024-04-20T18:18:24.631507",
     "status": "completed"
    },
    "tags": []
   },
   "source": [
    "# Data Preposessing"
   ]
  },
  {
   "cell_type": "markdown",
   "id": "dff8100b",
   "metadata": {
    "papermill": {
     "duration": 0.014831,
     "end_time": "2024-04-20T18:18:24.675481",
     "exception": false,
     "start_time": "2024-04-20T18:18:24.660650",
     "status": "completed"
    },
    "tags": []
   },
   "source": [
    "## Add data shuffle"
   ]
  },
  {
   "cell_type": "code",
   "execution_count": 5,
   "id": "1dd82af5",
   "metadata": {
    "execution": {
     "iopub.execute_input": "2024-04-20T18:18:24.707771Z",
     "iopub.status.busy": "2024-04-20T18:18:24.707318Z",
     "iopub.status.idle": "2024-04-20T18:18:24.753633Z",
     "shell.execute_reply": "2024-04-20T18:18:24.752198Z"
    },
    "papermill": {
     "duration": 0.066446,
     "end_time": "2024-04-20T18:18:24.756923",
     "exception": false,
     "start_time": "2024-04-20T18:18:24.690477",
     "status": "completed"
    },
    "tags": []
   },
   "outputs": [],
   "source": [
    "np.random.seed(144)\n",
    "df = df.sample(frac=1).reset_index(drop=True)"
   ]
  },
  {
   "cell_type": "markdown",
   "id": "2a56c9f1",
   "metadata": {
    "papermill": {
     "duration": 0.014551,
     "end_time": "2024-04-20T18:18:24.786534",
     "exception": false,
     "start_time": "2024-04-20T18:18:24.771983",
     "status": "completed"
    },
    "tags": []
   },
   "source": [
    "## DEALING WITH MISSING VALUES"
   ]
  },
  {
   "cell_type": "code",
   "execution_count": 6,
   "id": "387107c0",
   "metadata": {
    "execution": {
     "iopub.execute_input": "2024-04-20T18:18:24.818558Z",
     "iopub.status.busy": "2024-04-20T18:18:24.818089Z",
     "iopub.status.idle": "2024-04-20T18:18:24.910943Z",
     "shell.execute_reply": "2024-04-20T18:18:24.909706Z"
    },
    "papermill": {
     "duration": 0.112136,
     "end_time": "2024-04-20T18:18:24.913300",
     "exception": false,
     "start_time": "2024-04-20T18:18:24.801164",
     "status": "completed"
    },
    "tags": []
   },
   "outputs": [
    {
     "data": {
      "text/html": [
       "<div>\n",
       "<style scoped>\n",
       "    .dataframe tbody tr th:only-of-type {\n",
       "        vertical-align: middle;\n",
       "    }\n",
       "\n",
       "    .dataframe tbody tr th {\n",
       "        vertical-align: top;\n",
       "    }\n",
       "\n",
       "    .dataframe thead th {\n",
       "        text-align: right;\n",
       "    }\n",
       "</style>\n",
       "<table border=\"1\" class=\"dataframe\">\n",
       "  <thead>\n",
       "    <tr style=\"text-align: right;\">\n",
       "      <th></th>\n",
       "      <th>realSum</th>\n",
       "      <th>person_capacity</th>\n",
       "      <th>multi</th>\n",
       "      <th>biz</th>\n",
       "      <th>cleanliness_rating</th>\n",
       "      <th>guest_satisfaction_overall</th>\n",
       "      <th>bedrooms</th>\n",
       "      <th>dist</th>\n",
       "      <th>metro_dist</th>\n",
       "      <th>attr_index</th>\n",
       "      <th>attr_index_norm</th>\n",
       "      <th>rest_index</th>\n",
       "      <th>rest_index_norm</th>\n",
       "      <th>lng</th>\n",
       "      <th>lat</th>\n",
       "    </tr>\n",
       "  </thead>\n",
       "  <tbody>\n",
       "    <tr>\n",
       "      <th>count</th>\n",
       "      <td>51707.000000</td>\n",
       "      <td>51707.000000</td>\n",
       "      <td>51707.000000</td>\n",
       "      <td>51707.000000</td>\n",
       "      <td>51707.000000</td>\n",
       "      <td>51707.000000</td>\n",
       "      <td>51707.00000</td>\n",
       "      <td>51707.000000</td>\n",
       "      <td>51707.000000</td>\n",
       "      <td>51707.000000</td>\n",
       "      <td>51707.000000</td>\n",
       "      <td>51707.000000</td>\n",
       "      <td>51707.000000</td>\n",
       "      <td>51707.000000</td>\n",
       "      <td>51707.000000</td>\n",
       "    </tr>\n",
       "    <tr>\n",
       "      <th>mean</th>\n",
       "      <td>279.879591</td>\n",
       "      <td>3.161661</td>\n",
       "      <td>0.291353</td>\n",
       "      <td>0.350204</td>\n",
       "      <td>9.390624</td>\n",
       "      <td>92.628232</td>\n",
       "      <td>1.15876</td>\n",
       "      <td>3.191285</td>\n",
       "      <td>0.681540</td>\n",
       "      <td>294.204105</td>\n",
       "      <td>13.423792</td>\n",
       "      <td>626.856696</td>\n",
       "      <td>22.786177</td>\n",
       "      <td>7.426068</td>\n",
       "      <td>45.671128</td>\n",
       "    </tr>\n",
       "    <tr>\n",
       "      <th>std</th>\n",
       "      <td>327.948386</td>\n",
       "      <td>1.298545</td>\n",
       "      <td>0.454390</td>\n",
       "      <td>0.477038</td>\n",
       "      <td>0.954868</td>\n",
       "      <td>8.945531</td>\n",
       "      <td>0.62741</td>\n",
       "      <td>2.393803</td>\n",
       "      <td>0.858023</td>\n",
       "      <td>224.754123</td>\n",
       "      <td>9.807985</td>\n",
       "      <td>497.920226</td>\n",
       "      <td>17.804096</td>\n",
       "      <td>9.799725</td>\n",
       "      <td>5.249263</td>\n",
       "    </tr>\n",
       "    <tr>\n",
       "      <th>min</th>\n",
       "      <td>34.779339</td>\n",
       "      <td>2.000000</td>\n",
       "      <td>0.000000</td>\n",
       "      <td>0.000000</td>\n",
       "      <td>2.000000</td>\n",
       "      <td>20.000000</td>\n",
       "      <td>0.00000</td>\n",
       "      <td>0.015045</td>\n",
       "      <td>0.002301</td>\n",
       "      <td>15.152201</td>\n",
       "      <td>0.926301</td>\n",
       "      <td>19.576924</td>\n",
       "      <td>0.592757</td>\n",
       "      <td>-9.226340</td>\n",
       "      <td>37.953000</td>\n",
       "    </tr>\n",
       "    <tr>\n",
       "      <th>25%</th>\n",
       "      <td>148.752174</td>\n",
       "      <td>2.000000</td>\n",
       "      <td>0.000000</td>\n",
       "      <td>0.000000</td>\n",
       "      <td>9.000000</td>\n",
       "      <td>90.000000</td>\n",
       "      <td>1.00000</td>\n",
       "      <td>1.453142</td>\n",
       "      <td>0.248480</td>\n",
       "      <td>136.797385</td>\n",
       "      <td>6.380926</td>\n",
       "      <td>250.854114</td>\n",
       "      <td>8.751480</td>\n",
       "      <td>-0.072500</td>\n",
       "      <td>41.399510</td>\n",
       "    </tr>\n",
       "    <tr>\n",
       "      <th>50%</th>\n",
       "      <td>211.343089</td>\n",
       "      <td>3.000000</td>\n",
       "      <td>0.000000</td>\n",
       "      <td>0.000000</td>\n",
       "      <td>10.000000</td>\n",
       "      <td>95.000000</td>\n",
       "      <td>1.00000</td>\n",
       "      <td>2.613538</td>\n",
       "      <td>0.413269</td>\n",
       "      <td>234.331748</td>\n",
       "      <td>11.468305</td>\n",
       "      <td>522.052783</td>\n",
       "      <td>17.542238</td>\n",
       "      <td>4.873000</td>\n",
       "      <td>47.506690</td>\n",
       "    </tr>\n",
       "    <tr>\n",
       "      <th>75%</th>\n",
       "      <td>319.694287</td>\n",
       "      <td>4.000000</td>\n",
       "      <td>1.000000</td>\n",
       "      <td>1.000000</td>\n",
       "      <td>10.000000</td>\n",
       "      <td>99.000000</td>\n",
       "      <td>1.00000</td>\n",
       "      <td>4.263077</td>\n",
       "      <td>0.737840</td>\n",
       "      <td>385.756381</td>\n",
       "      <td>17.415082</td>\n",
       "      <td>832.628988</td>\n",
       "      <td>32.964603</td>\n",
       "      <td>13.518825</td>\n",
       "      <td>51.471885</td>\n",
       "    </tr>\n",
       "    <tr>\n",
       "      <th>max</th>\n",
       "      <td>18545.450285</td>\n",
       "      <td>6.000000</td>\n",
       "      <td>1.000000</td>\n",
       "      <td>1.000000</td>\n",
       "      <td>10.000000</td>\n",
       "      <td>100.000000</td>\n",
       "      <td>10.00000</td>\n",
       "      <td>25.284557</td>\n",
       "      <td>14.273577</td>\n",
       "      <td>4513.563486</td>\n",
       "      <td>100.000000</td>\n",
       "      <td>6696.156772</td>\n",
       "      <td>100.000000</td>\n",
       "      <td>23.786020</td>\n",
       "      <td>52.641410</td>\n",
       "    </tr>\n",
       "  </tbody>\n",
       "</table>\n",
       "</div>"
      ],
      "text/plain": [
       "            realSum  person_capacity         multi           biz  \\\n",
       "count  51707.000000     51707.000000  51707.000000  51707.000000   \n",
       "mean     279.879591         3.161661      0.291353      0.350204   \n",
       "std      327.948386         1.298545      0.454390      0.477038   \n",
       "min       34.779339         2.000000      0.000000      0.000000   \n",
       "25%      148.752174         2.000000      0.000000      0.000000   \n",
       "50%      211.343089         3.000000      0.000000      0.000000   \n",
       "75%      319.694287         4.000000      1.000000      1.000000   \n",
       "max    18545.450285         6.000000      1.000000      1.000000   \n",
       "\n",
       "       cleanliness_rating  guest_satisfaction_overall     bedrooms  \\\n",
       "count        51707.000000                51707.000000  51707.00000   \n",
       "mean             9.390624                   92.628232      1.15876   \n",
       "std              0.954868                    8.945531      0.62741   \n",
       "min              2.000000                   20.000000      0.00000   \n",
       "25%              9.000000                   90.000000      1.00000   \n",
       "50%             10.000000                   95.000000      1.00000   \n",
       "75%             10.000000                   99.000000      1.00000   \n",
       "max             10.000000                  100.000000     10.00000   \n",
       "\n",
       "               dist    metro_dist    attr_index  attr_index_norm  \\\n",
       "count  51707.000000  51707.000000  51707.000000     51707.000000   \n",
       "mean       3.191285      0.681540    294.204105        13.423792   \n",
       "std        2.393803      0.858023    224.754123         9.807985   \n",
       "min        0.015045      0.002301     15.152201         0.926301   \n",
       "25%        1.453142      0.248480    136.797385         6.380926   \n",
       "50%        2.613538      0.413269    234.331748        11.468305   \n",
       "75%        4.263077      0.737840    385.756381        17.415082   \n",
       "max       25.284557     14.273577   4513.563486       100.000000   \n",
       "\n",
       "         rest_index  rest_index_norm           lng           lat  \n",
       "count  51707.000000     51707.000000  51707.000000  51707.000000  \n",
       "mean     626.856696        22.786177      7.426068     45.671128  \n",
       "std      497.920226        17.804096      9.799725      5.249263  \n",
       "min       19.576924         0.592757     -9.226340     37.953000  \n",
       "25%      250.854114         8.751480     -0.072500     41.399510  \n",
       "50%      522.052783        17.542238      4.873000     47.506690  \n",
       "75%      832.628988        32.964603     13.518825     51.471885  \n",
       "max     6696.156772       100.000000     23.786020     52.641410  "
      ]
     },
     "execution_count": 6,
     "metadata": {},
     "output_type": "execute_result"
    }
   ],
   "source": [
    "df.describe()"
   ]
  },
  {
   "cell_type": "code",
   "execution_count": 7,
   "id": "5ff531fc",
   "metadata": {
    "execution": {
     "iopub.execute_input": "2024-04-20T18:18:24.946187Z",
     "iopub.status.busy": "2024-04-20T18:18:24.945721Z",
     "iopub.status.idle": "2024-04-20T18:18:24.952778Z",
     "shell.execute_reply": "2024-04-20T18:18:24.951721Z"
    },
    "papermill": {
     "duration": 0.026958,
     "end_time": "2024-04-20T18:18:24.955361",
     "exception": false,
     "start_time": "2024-04-20T18:18:24.928403",
     "status": "completed"
    },
    "tags": []
   },
   "outputs": [
    {
     "data": {
      "text/plain": [
       "(51707, 21)"
      ]
     },
     "execution_count": 7,
     "metadata": {},
     "output_type": "execute_result"
    }
   ],
   "source": [
    "df.shape"
   ]
  },
  {
   "cell_type": "code",
   "execution_count": 8,
   "id": "341f8c1e",
   "metadata": {
    "execution": {
     "iopub.execute_input": "2024-04-20T18:18:24.989392Z",
     "iopub.status.busy": "2024-04-20T18:18:24.988910Z",
     "iopub.status.idle": "2024-04-20T18:18:25.012969Z",
     "shell.execute_reply": "2024-04-20T18:18:25.011817Z"
    },
    "papermill": {
     "duration": 0.044093,
     "end_time": "2024-04-20T18:18:25.015600",
     "exception": false,
     "start_time": "2024-04-20T18:18:24.971507",
     "status": "completed"
    },
    "tags": []
   },
   "outputs": [
    {
     "data": {
      "text/plain": [
       "(51707, 21)"
      ]
     },
     "execution_count": 8,
     "metadata": {},
     "output_type": "execute_result"
    }
   ],
   "source": [
    "df_complete = df.dropna()\n",
    "df_complete.shape"
   ]
  },
  {
   "cell_type": "markdown",
   "id": "ecde0160",
   "metadata": {
    "papermill": {
     "duration": 0.015171,
     "end_time": "2024-04-20T18:18:25.046588",
     "exception": false,
     "start_time": "2024-04-20T18:18:25.031417",
     "status": "completed"
    },
    "tags": []
   },
   "source": [
    "## FINDING OUTLIERS"
   ]
  },
  {
   "cell_type": "code",
   "execution_count": 9,
   "id": "f4fc9015",
   "metadata": {
    "execution": {
     "iopub.execute_input": "2024-04-20T18:18:25.080293Z",
     "iopub.status.busy": "2024-04-20T18:18:25.079261Z",
     "iopub.status.idle": "2024-04-20T18:18:25.923791Z",
     "shell.execute_reply": "2024-04-20T18:18:25.922871Z"
    },
    "papermill": {
     "duration": 0.864598,
     "end_time": "2024-04-20T18:18:25.926813",
     "exception": false,
     "start_time": "2024-04-20T18:18:25.062215",
     "status": "completed"
    },
    "tags": []
   },
   "outputs": [
    {
     "data": {
      "image/png": "[encoded data removed]",
      "text/plain": [
       "<Figure size 900x500 with 2 Axes>"
      ]
     },
     "metadata": {},
     "output_type": "display_data"
    }
   ],
   "source": [
    "fig, axes= plt.subplots(1,2, gridspec_kw={'width_ratios': [1, 4]}, figsize=(9,5))\n",
    "df.boxplot(column='realSum',ax=axes[0]);\n",
    "df.hist(column='realSum', ax=axes[1]);"
   ]
  },
  {
   "cell_type": "code",
   "execution_count": 10,
   "id": "b5a8bee9",
   "metadata": {
    "execution": {
     "iopub.execute_input": "2024-04-20T18:18:25.963460Z",
     "iopub.status.busy": "2024-04-20T18:18:25.962118Z",
     "iopub.status.idle": "2024-04-20T18:18:25.975540Z",
     "shell.execute_reply": "2024-04-20T18:18:25.974466Z"
    },
    "papermill": {
     "duration": 0.034588,
     "end_time": "2024-04-20T18:18:25.978208",
     "exception": false,
     "start_time": "2024-04-20T18:18:25.943620",
     "status": "completed"
    },
    "tags": []
   },
   "outputs": [
    {
     "data": {
      "text/plain": [
       "(148.75217370869953, 319.69428651318856, 170.94211280448903)"
      ]
     },
     "execution_count": 10,
     "metadata": {},
     "output_type": "execute_result"
    }
   ],
   "source": [
    "Q1 = df['realSum'].quantile(0.25)\n",
    "Q3 = df['realSum'].quantile(0.75)\n",
    "IQR = Q3 - Q1\n",
    "\n",
    "Q1, Q3, IQR"
   ]
  },
  {
   "cell_type": "code",
   "execution_count": 11,
   "id": "ba33ba99",
   "metadata": {
    "execution": {
     "iopub.execute_input": "2024-04-20T18:18:26.013662Z",
     "iopub.status.busy": "2024-04-20T18:18:26.013158Z",
     "iopub.status.idle": "2024-04-20T18:18:26.038068Z",
     "shell.execute_reply": "2024-04-20T18:18:26.037117Z"
    },
    "papermill": {
     "duration": 0.045819,
     "end_time": "2024-04-20T18:18:26.040454",
     "exception": false,
     "start_time": "2024-04-20T18:18:25.994635",
     "status": "completed"
    },
    "tags": []
   },
   "outputs": [
    {
     "data": {
      "text/plain": [
       "(0, 3662)"
      ]
     },
     "execution_count": 11,
     "metadata": {},
     "output_type": "execute_result"
    }
   ],
   "source": [
    "small_outliers = df['realSum'] < (Q1 - 1.5 * IQR)\n",
    "big_outliers = df['realSum'] > (Q3 + 1.5 * IQR)\n",
    "\n",
    "sum(small_outliers), sum(big_outliers)"
   ]
  },
  {
   "cell_type": "code",
   "execution_count": 12,
   "id": "e7adb0a7",
   "metadata": {
    "execution": {
     "iopub.execute_input": "2024-04-20T18:18:26.075240Z",
     "iopub.status.busy": "2024-04-20T18:18:26.074742Z",
     "iopub.status.idle": "2024-04-20T18:18:26.085168Z",
     "shell.execute_reply": "2024-04-20T18:18:26.083988Z"
    },
    "papermill": {
     "duration": 0.03068,
     "end_time": "2024-04-20T18:18:26.087563",
     "exception": false,
     "start_time": "2024-04-20T18:18:26.056883",
     "status": "completed"
    },
    "tags": []
   },
   "outputs": [
    {
     "data": {
      "text/plain": [
       "60     698.806972\n",
       "66     956.983937\n",
       "83     593.852160\n",
       "95     636.702364\n",
       "99    2311.738714\n",
       "Name: realSum, dtype: float64"
      ]
     },
     "execution_count": 12,
     "metadata": {},
     "output_type": "execute_result"
    }
   ],
   "source": [
    "df['realSum'][small_outliers | big_outliers].head()"
   ]
  },
  {
   "cell_type": "code",
   "execution_count": 13,
   "id": "58e980b8",
   "metadata": {
    "execution": {
     "iopub.execute_input": "2024-04-20T18:18:26.123717Z",
     "iopub.status.busy": "2024-04-20T18:18:26.122986Z",
     "iopub.status.idle": "2024-04-20T18:18:26.682160Z",
     "shell.execute_reply": "2024-04-20T18:18:26.680932Z"
    },
    "papermill": {
     "duration": 0.580628,
     "end_time": "2024-04-20T18:18:26.684629",
     "exception": false,
     "start_time": "2024-04-20T18:18:26.104001",
     "status": "completed"
    },
    "tags": []
   },
   "outputs": [
    {
     "data": {
      "image/png": "[encoded data removed]",
      "text/plain": [
       "<Figure size 900x500 with 2 Axes>"
      ]
     },
     "metadata": {},
     "output_type": "display_data"
    }
   ],
   "source": [
    "fig, axes= plt.subplots(1,2, gridspec_kw={'width_ratios': [1, 4]}, figsize=(9,5))\n",
    "df[~(small_outliers | big_outliers)].boxplot(column='realSum',ax=axes[0]);\n",
    "df[~(small_outliers | big_outliers)].hist(column='realSum', ax=axes[1]);"
   ]
  },
  {
   "cell_type": "code",
   "execution_count": 14,
   "id": "a43f8dd6",
   "metadata": {
    "execution": {
     "iopub.execute_input": "2024-04-20T18:18:26.720769Z",
     "iopub.status.busy": "2024-04-20T18:18:26.720013Z",
     "iopub.status.idle": "2024-04-20T18:18:26.732552Z",
     "shell.execute_reply": "2024-04-20T18:18:26.731329Z"
    },
    "papermill": {
     "duration": 0.033541,
     "end_time": "2024-04-20T18:18:26.734938",
     "exception": false,
     "start_time": "2024-04-20T18:18:26.701397",
     "status": "completed"
    },
    "tags": []
   },
   "outputs": [
    {
     "data": {
      "text/plain": [
       "(48045, 21)"
      ]
     },
     "execution_count": 14,
     "metadata": {},
     "output_type": "execute_result"
    }
   ],
   "source": [
    "df_clean = df[~(small_outliers | big_outliers)]\n",
    "df_clean.shape"
   ]
  },
  {
   "cell_type": "code",
   "execution_count": 15,
   "id": "7b40705c",
   "metadata": {
    "execution": {
     "iopub.execute_input": "2024-04-20T18:18:26.772122Z",
     "iopub.status.busy": "2024-04-20T18:18:26.771300Z",
     "iopub.status.idle": "2024-04-20T18:18:26.781198Z",
     "shell.execute_reply": "2024-04-20T18:18:26.779955Z"
    },
    "papermill": {
     "duration": 0.031711,
     "end_time": "2024-04-20T18:18:26.783885",
     "exception": false,
     "start_time": "2024-04-20T18:18:26.752174",
     "status": "completed"
    },
    "tags": []
   },
   "outputs": [
    {
     "data": {
      "text/plain": [
       "realSum                       float64\n",
       "room_type                      object\n",
       "room_shared                      bool\n",
       "room_private                     bool\n",
       "person_capacity               float64\n",
       "host_is_superhost                bool\n",
       "multi                           int64\n",
       "biz                             int64\n",
       "cleanliness_rating            float64\n",
       "guest_satisfaction_overall    float64\n",
       "bedrooms                        int64\n",
       "dist                          float64\n",
       "metro_dist                    float64\n",
       "attr_index                    float64\n",
       "attr_index_norm               float64\n",
       "rest_index                    float64\n",
       "rest_index_norm               float64\n",
       "lng                           float64\n",
       "lat                           float64\n",
       "city                           object\n",
       "weekday                          bool\n",
       "dtype: object"
      ]
     },
     "execution_count": 15,
     "metadata": {},
     "output_type": "execute_result"
    }
   ],
   "source": [
    "df_clean.dtypes"
   ]
  },
  {
   "cell_type": "code",
   "execution_count": 16,
   "id": "85ef9e6d",
   "metadata": {
    "execution": {
     "iopub.execute_input": "2024-04-20T18:18:26.822402Z",
     "iopub.status.busy": "2024-04-20T18:18:26.821145Z",
     "iopub.status.idle": "2024-04-20T18:18:26.826982Z",
     "shell.execute_reply": "2024-04-20T18:18:26.825585Z"
    },
    "papermill": {
     "duration": 0.028332,
     "end_time": "2024-04-20T18:18:26.830190",
     "exception": false,
     "start_time": "2024-04-20T18:18:26.801858",
     "status": "completed"
    },
    "tags": []
   },
   "outputs": [],
   "source": [
    "# df_clean.to_csv('out.csv', index=False) "
   ]
  },
  {
   "cell_type": "code",
   "execution_count": 17,
   "id": "08c32d81",
   "metadata": {
    "execution": {
     "iopub.execute_input": "2024-04-20T18:18:26.867833Z",
     "iopub.status.busy": "2024-04-20T18:18:26.867037Z",
     "iopub.status.idle": "2024-04-20T18:18:26.997692Z",
     "shell.execute_reply": "2024-04-20T18:18:26.996417Z"
    },
    "papermill": {
     "duration": 0.152242,
     "end_time": "2024-04-20T18:18:27.000288",
     "exception": false,
     "start_time": "2024-04-20T18:18:26.848046",
     "status": "completed"
    },
    "tags": []
   },
   "outputs": [
    {
     "name": "stdout",
     "output_type": "stream",
     "text": [
      "['person_capacity', 'multi', 'biz', 'cleanliness_rating', 'guest_satisfaction_overall', 'bedrooms', 'dist', 'metro_dist', 'attr_index', 'attr_index_norm', 'rest_index', 'rest_index_norm', 'lng', 'lat', 'room_type_Entire home/apt', 'room_type_Private room', 'room_type_Shared room', 'room_shared_False', 'room_shared_True', 'room_private_False', 'room_private_True', 'host_is_superhost_False', 'host_is_superhost_True', 'city_Amsterdam', 'city_Athens', 'city_Barcelona', 'city_Berlin', 'city_Budapest', 'city_Lisbon', 'city_London', 'city_Paris', 'city_Rome', 'city_Vienna', 'weekday_False', 'weekday_True']\n",
      "(48045, 35)\n"
     ]
    }
   ],
   "source": [
    "# Identifying categorical and numerical columns\n",
    "categorical_cols = [col for col in df_clean.columns if df_clean[col].dtype in ['object', 'bool']]\n",
    "numerical_cols = [col for col in df_clean.columns if df_clean[col].dtype in ['int64', 'float64'] and col != 'realSum']\n",
    "\n",
    "# Adjust transformers if necessary\n",
    "categorical_transformer = OneHotEncoder(handle_unknown='ignore')\n",
    "numerical_transformer = StandardScaler()\n",
    "\n",
    "# Update preprocessor\n",
    "preprocessor = ColumnTransformer(\n",
    "    transformers=[\n",
    "        ('num', numerical_transformer, numerical_cols),\n",
    "        ('cat', categorical_transformer, categorical_cols)\n",
    "    ])\n",
    "\n",
    "# Fit and transform the data\n",
    "df_transformed = preprocessor.fit_transform(df_clean.drop('realSum', axis=1))\n",
    "\n",
    "# Check transformed feature names and dimensions\n",
    "transformed_features = preprocessor.transformers_[0][1].get_feature_names_out(numerical_cols).tolist() + \\\n",
    "                       preprocessor.transformers_[1][1].get_feature_names_out(categorical_cols).tolist()\n",
    "\n",
    "print(transformed_features)\n",
    "print(df_transformed.shape)"
   ]
  },
  {
   "cell_type": "markdown",
   "id": "b01171d3",
   "metadata": {
    "papermill": {
     "duration": 0.0172,
     "end_time": "2024-04-20T18:18:27.035276",
     "exception": false,
     "start_time": "2024-04-20T18:18:27.018076",
     "status": "completed"
    },
    "tags": []
   },
   "source": [
    "# Prepare Training Data"
   ]
  },
  {
   "cell_type": "code",
   "execution_count": 18,
   "id": "87462105",
   "metadata": {
    "execution": {
     "iopub.execute_input": "2024-04-20T18:18:27.073271Z",
     "iopub.status.busy": "2024-04-20T18:18:27.072128Z",
     "iopub.status.idle": "2024-04-20T18:18:27.077121Z",
     "shell.execute_reply": "2024-04-20T18:18:27.076306Z"
    },
    "papermill": {
     "duration": 0.026596,
     "end_time": "2024-04-20T18:18:27.079260",
     "exception": false,
     "start_time": "2024-04-20T18:18:27.052664",
     "status": "completed"
    },
    "tags": []
   },
   "outputs": [],
   "source": [
    "# y = df_clean['realSum'].values\n",
    "\n",
    "# # Create Train Data and Test Data\n",
    "# X_train, X_test, y_train, y_test = train_test_split(df_transformed, y, test_size=0.2, random_state=42)\n",
    "# X_train = torch.tensor(X_train, dtype=torch.float32)\n",
    "# X_test = torch.tensor(X_test, dtype=torch.float32)\n",
    "# y_train = torch.tensor(y_train, dtype=torch.float32)\n",
    "# y_test = torch.tensor(y_test, dtype=torch.float32)\n",
    "\n",
    "# # Create DataLoader\n",
    "# train_dataset = TensorDataset(X_train, y_train)\n",
    "# test_dataset = TensorDataset(X_test, y_test)\n",
    "\n",
    "# train_loader = DataLoader(train_dataset, batch_size=64, shuffle=True)\n",
    "# test_loader = DataLoader(test_dataset, batch_size=64, shuffle=False)"
   ]
  },
  {
   "cell_type": "code",
   "execution_count": 19,
   "id": "faee0f21",
   "metadata": {
    "execution": {
     "iopub.execute_input": "2024-04-20T18:18:27.205397Z",
     "iopub.status.busy": "2024-04-20T18:18:27.204875Z",
     "iopub.status.idle": "2024-04-20T18:18:27.282019Z",
     "shell.execute_reply": "2024-04-20T18:18:27.280575Z"
    },
    "papermill": {
     "duration": 0.188781,
     "end_time": "2024-04-20T18:18:27.285444",
     "exception": false,
     "start_time": "2024-04-20T18:18:27.096663",
     "status": "completed"
    },
    "tags": []
   },
   "outputs": [],
   "source": [
    "y = df_clean['realSum'].values\n",
    "\n",
    "# Split Test Data\n",
    "X_train_val, X_test, y_train_val, y_test = train_test_split(df_transformed, y, test_size=0.2, random_state=42)\n",
    "\n",
    "# Split Validation Data\n",
    "X_train, X_val, y_train, y_val = train_test_split(X_train_val, y_train_val, test_size=0.25, random_state=42) \n",
    "\n",
    "train_dataset = TensorDataset(torch.tensor(X_train, dtype=torch.float32), torch.tensor(y_train, dtype=torch.float32))\n",
    "val_dataset = TensorDataset(torch.tensor(X_val, dtype=torch.float32), torch.tensor(y_val, dtype=torch.float32))\n",
    "test_dataset = TensorDataset(torch.tensor(X_test, dtype=torch.float32), torch.tensor(y_test, dtype=torch.float32))\n",
    "\n",
    "train_loader = DataLoader(train_dataset, batch_size=64, shuffle=True)\n",
    "val_loader = DataLoader(val_dataset, batch_size=64, shuffle=False)\n",
    "test_loader = DataLoader(test_dataset, batch_size=64, shuffle=False)"
   ]
  },
  {
   "cell_type": "markdown",
   "id": "a664d3f3",
   "metadata": {
    "papermill": {
     "duration": 0.017093,
     "end_time": "2024-04-20T18:18:27.321449",
     "exception": false,
     "start_time": "2024-04-20T18:18:27.304356",
     "status": "completed"
    },
    "tags": []
   },
   "source": [
    "# Define SVM Model"
   ]
  },
  {
   "cell_type": "code",
   "execution_count": 20,
   "id": "0fa6aeda",
   "metadata": {
    "execution": {
     "iopub.execute_input": "2024-04-20T18:18:27.360090Z",
     "iopub.status.busy": "2024-04-20T18:18:27.359532Z",
     "iopub.status.idle": "2024-04-20T18:18:27.366459Z",
     "shell.execute_reply": "2024-04-20T18:18:27.365289Z"
    },
    "papermill": {
     "duration": 0.029031,
     "end_time": "2024-04-20T18:18:27.368872",
     "exception": false,
     "start_time": "2024-04-20T18:18:27.339841",
     "status": "completed"
    },
    "tags": []
   },
   "outputs": [
    {
     "name": "stdout",
     "output_type": "stream",
     "text": [
      "Using cpu device\n"
     ]
    }
   ],
   "source": [
    "device = (\n",
    "    \"cuda\"\n",
    "    if torch.cuda.is_available()\n",
    "    else \"mps\"\n",
    "    if torch.backends.mps.is_available()\n",
    "    else \"cpu\"\n",
    ")\n",
    "print(f\"Using {device} device\")"
   ]
  },
  {
   "cell_type": "code",
   "execution_count": 21,
   "id": "641bed0a",
   "metadata": {
    "execution": {
     "iopub.execute_input": "2024-04-20T18:18:27.406948Z",
     "iopub.status.busy": "2024-04-20T18:18:27.406402Z",
     "iopub.status.idle": "2024-04-20T18:18:27.413214Z",
     "shell.execute_reply": "2024-04-20T18:18:27.412095Z"
    },
    "papermill": {
     "duration": 0.02862,
     "end_time": "2024-04-20T18:18:27.415485",
     "exception": false,
     "start_time": "2024-04-20T18:18:27.386865",
     "status": "completed"
    },
    "tags": []
   },
   "outputs": [],
   "source": [
    "class SVR(nn.Module):\n",
    "    def __init__(self, n_features):\n",
    "        super(SVR, self).__init__()\n",
    "        self.linear = nn.Linear(n_features, 1)\n",
    "\n",
    "    def forward(self, x):\n",
    "        return self.linear(x)"
   ]
  },
  {
   "cell_type": "code",
   "execution_count": 22,
   "id": "a5ee8626",
   "metadata": {
    "execution": {
     "iopub.execute_input": "2024-04-20T18:18:27.453601Z",
     "iopub.status.busy": "2024-04-20T18:18:27.453120Z",
     "iopub.status.idle": "2024-04-20T18:18:27.459584Z",
     "shell.execute_reply": "2024-04-20T18:18:27.458425Z"
    },
    "papermill": {
     "duration": 0.028442,
     "end_time": "2024-04-20T18:18:27.461913",
     "exception": false,
     "start_time": "2024-04-20T18:18:27.433471",
     "status": "completed"
    },
    "tags": []
   },
   "outputs": [],
   "source": [
    "def epsilon_insensitive_loss(outputs, targets, epsilon=0.1):\n",
    "    errors = torch.abs(targets - outputs.squeeze())\n",
    "\n",
    "    loss = torch.mean(torch.max(errors - epsilon, torch.zeros_like(errors)))\n",
    "    return loss"
   ]
  },
  {
   "cell_type": "code",
   "execution_count": 23,
   "id": "44878068",
   "metadata": {
    "execution": {
     "iopub.execute_input": "2024-04-20T18:18:27.499702Z",
     "iopub.status.busy": "2024-04-20T18:18:27.499218Z",
     "iopub.status.idle": "2024-04-20T18:18:27.526281Z",
     "shell.execute_reply": "2024-04-20T18:18:27.524961Z"
    },
    "papermill": {
     "duration": 0.048983,
     "end_time": "2024-04-20T18:18:27.528773",
     "exception": false,
     "start_time": "2024-04-20T18:18:27.479790",
     "status": "completed"
    },
    "tags": []
   },
   "outputs": [
    {
     "name": "stdout",
     "output_type": "stream",
     "text": [
      "SVR(\n",
      "  (linear): Linear(in_features=35, out_features=1, bias=True)\n",
      ")\n"
     ]
    }
   ],
   "source": [
    "model = SVR(X_train.shape[1]).to(device)\n",
    "print(model)"
   ]
  },
  {
   "cell_type": "code",
   "execution_count": 24,
   "id": "439d309e",
   "metadata": {
    "execution": {
     "iopub.execute_input": "2024-04-20T18:18:27.566434Z",
     "iopub.status.busy": "2024-04-20T18:18:27.565959Z",
     "iopub.status.idle": "2024-04-20T18:18:30.734122Z",
     "shell.execute_reply": "2024-04-20T18:18:30.732787Z"
    },
    "papermill": {
     "duration": 3.190937,
     "end_time": "2024-04-20T18:18:30.737672",
     "exception": false,
     "start_time": "2024-04-20T18:18:27.546735",
     "status": "completed"
    },
    "tags": []
   },
   "outputs": [],
   "source": [
    "optimizer = torch.optim.SGD(model.parameters(), lr=0.01, weight_decay=0.01)"
   ]
  },
  {
   "cell_type": "code",
   "execution_count": 25,
   "id": "a934dc52",
   "metadata": {
    "execution": {
     "iopub.execute_input": "2024-04-20T18:18:30.776312Z",
     "iopub.status.busy": "2024-04-20T18:18:30.775573Z",
     "iopub.status.idle": "2024-04-20T18:18:30.785492Z",
     "shell.execute_reply": "2024-04-20T18:18:30.784327Z"
    },
    "papermill": {
     "duration": 0.03224,
     "end_time": "2024-04-20T18:18:30.787984",
     "exception": false,
     "start_time": "2024-04-20T18:18:30.755744",
     "status": "completed"
    },
    "tags": []
   },
   "outputs": [],
   "source": [
    "class EarlyStopping:\n",
    "    def __init__(self, patience=10, verbose=False, delta=0.0001):  \n",
    "        self.patience = patience\n",
    "        self.verbose = verbose\n",
    "        self.delta = delta\n",
    "        self.reset()\n",
    "\n",
    "    def reset(self):\n",
    "        self.best_score = None\n",
    "        self.epochs_no_improve = 0\n",
    "        self.early_stop = False\n",
    "\n",
    "    def __call__(self, val_loss):\n",
    "        score = -val_loss\n",
    "        if self.best_score is None:\n",
    "            self.best_score = score\n",
    "        elif score < self.best_score - self.delta:  \n",
    "            self.epochs_no_improve += 1\n",
    "            if self.epochs_no_improve >= self.patience:\n",
    "                self.early_stop = True\n",
    "                if self.verbose:\n",
    "                    print(\"Early stopping triggered\")\n",
    "        else:\n",
    "            self.best_score = score\n",
    "            self.epochs_no_improve = 0"
   ]
  },
  {
   "cell_type": "markdown",
   "id": "c753fd7d",
   "metadata": {
    "papermill": {
     "duration": 0.01749,
     "end_time": "2024-04-20T18:18:30.823548",
     "exception": false,
     "start_time": "2024-04-20T18:18:30.806058",
     "status": "completed"
    },
    "tags": []
   },
   "source": [
    "# Model Training"
   ]
  },
  {
   "cell_type": "code",
   "execution_count": 26,
   "id": "e7cd8c7a",
   "metadata": {
    "execution": {
     "iopub.execute_input": "2024-04-20T18:18:30.862078Z",
     "iopub.status.busy": "2024-04-20T18:18:30.861552Z",
     "iopub.status.idle": "2024-04-20T18:18:30.881921Z",
     "shell.execute_reply": "2024-04-20T18:18:30.880619Z"
    },
    "papermill": {
     "duration": 0.043043,
     "end_time": "2024-04-20T18:18:30.884928",
     "exception": false,
     "start_time": "2024-04-20T18:18:30.841885",
     "status": "completed"
    },
    "tags": []
   },
   "outputs": [],
   "source": [
    "def cross_validate_model(X, y, n_splits=5, epochs=50, batch_size=64, epsilon=0.1, lr=0.001, weight_decay=0.001):\n",
    "    all_val_losses = []\n",
    "    \n",
    "    X_train_val, X_test, y_train_val, y_test = train_test_split(X, y, test_size=0.2, random_state=42)\n",
    "    kf = KFold(n_splits=n_splits, shuffle=True, random_state=42)\n",
    "    best_model = None\n",
    "    lowest_val_loss = np.inf\n",
    "\n",
    "    for fold, (train_index, val_index) in enumerate(kf.split(X_train_val), 1):\n",
    "        print(f\"Starting fold {fold}\")\n",
    "        X_train, X_val = X_train_val[train_index], X_train_val[val_index]\n",
    "        y_train, y_val = y_train_val[train_index], y_train_val[val_index]\n",
    "\n",
    "        train_dataset = TensorDataset(torch.tensor(X_train, dtype=torch.float32), torch.tensor(y_train, dtype=torch.float32))\n",
    "        val_dataset = TensorDataset(torch.tensor(X_val, dtype=torch.float32), torch.tensor(y_val, dtype=torch.float32))\n",
    "        train_loader = DataLoader(train_dataset, batch_size=batch_size, shuffle=True)\n",
    "        val_loader = DataLoader(val_dataset, batch_size=batch_size, shuffle=False)\n",
    "\n",
    "        device = torch.device(\"cuda\" if torch.cuda.is_available() else \"cpu\")\n",
    "        model = SVR(n_features=X_train.shape[1]).to(device)\n",
    "        optimizer = torch.optim.SGD(model.parameters(), lr=lr, weight_decay=weight_decay)\n",
    "        early_stopping = EarlyStopping(patience=10, verbose=True)\n",
    "\n",
    "        for epoch in range(epochs):\n",
    "            model.train()\n",
    "            for data, target in train_loader:\n",
    "                data, target = data.to(device), target.to(device)\n",
    "                optimizer.zero_grad()\n",
    "                output = model(data)\n",
    "                loss = epsilon_insensitive_loss(output, target, epsilon)\n",
    "                loss.backward()\n",
    "                optimizer.step()\n",
    "\n",
    "            val_loss = 0\n",
    "            model.eval()\n",
    "            with torch.no_grad():\n",
    "                for data, target in val_loader:\n",
    "                    data, target = data.to(device), target.to(device)\n",
    "                    output = model(data)\n",
    "                    val_loss += epsilon_insensitive_loss(output, target, epsilon).item()\n",
    "            val_loss /= len(val_loader)\n",
    "\n",
    "            print(f'Fold {fold}, Epoch {epoch+1}, Validation MAE Loss: {val_loss}')\n",
    "            \n",
    "            all_val_losses.append(val_loss)\n",
    "            \n",
    "            if val_loss < lowest_val_loss:\n",
    "                lowest_val_loss = val_loss\n",
    "                best_model = model.state_dict()  # Save the best model\n",
    "                torch.save(best_model, 'SVR_best_model.pth')  # Save model to disk\n",
    "\n",
    "            early_stopping(val_loss)\n",
    "            if early_stopping.early_stop:\n",
    "                print(f\"Early stopping triggered at epoch {epoch+1}\")\n",
    "                break\n",
    "                \n",
    "        avg_val_loss = np.mean(all_val_losses)\n",
    "        print(f'Average Validation Loss: {avg_val_loss}')\n",
    "        return avg_val_loss"
   ]
  },
  {
   "cell_type": "code",
   "execution_count": 27,
   "id": "9732f066",
   "metadata": {
    "execution": {
     "iopub.execute_input": "2024-04-20T18:18:30.923131Z",
     "iopub.status.busy": "2024-04-20T18:18:30.922578Z",
     "iopub.status.idle": "2024-04-20T18:26:18.892518Z",
     "shell.execute_reply": "2024-04-20T18:26:18.891255Z"
    },
    "papermill": {
     "duration": 467.991599,
     "end_time": "2024-04-20T18:26:18.894921",
     "exception": false,
     "start_time": "2024-04-20T18:18:30.903322",
     "status": "completed"
    },
    "tags": []
   },
   "outputs": [
    {
     "name": "stdout",
     "output_type": "stream",
     "text": [
      "Starting fold 1\n",
      "Fold 1, Epoch 1, Validation MAE Loss: 187.96806816639247\n",
      "Fold 1, Epoch 2, Validation MAE Loss: 148.34255462266597\n",
      "Fold 1, Epoch 3, Validation MAE Loss: 116.16197312224456\n",
      "Fold 1, Epoch 4, Validation MAE Loss: 95.65503668884024\n",
      "Fold 1, Epoch 5, Validation MAE Loss: 84.0089759668374\n",
      "Fold 1, Epoch 6, Validation MAE Loss: 77.32359456422418\n",
      "Fold 1, Epoch 7, Validation MAE Loss: 73.12393924507363\n",
      "Fold 1, Epoch 8, Validation MAE Loss: 70.31832819261986\n",
      "Fold 1, Epoch 9, Validation MAE Loss: 68.3048195423427\n",
      "Fold 1, Epoch 10, Validation MAE Loss: 66.77008355801532\n",
      "Fold 1, Epoch 11, Validation MAE Loss: 65.56045185579798\n",
      "Fold 1, Epoch 12, Validation MAE Loss: 64.57795792892266\n",
      "Fold 1, Epoch 13, Validation MAE Loss: 63.776140933214876\n",
      "Fold 1, Epoch 14, Validation MAE Loss: 63.12216446112795\n",
      "Fold 1, Epoch 15, Validation MAE Loss: 62.582321673508005\n",
      "Fold 1, Epoch 16, Validation MAE Loss: 62.132657727759906\n",
      "Fold 1, Epoch 17, Validation MAE Loss: 61.76314278756929\n",
      "Fold 1, Epoch 18, Validation MAE Loss: 61.447964569345054\n",
      "Fold 1, Epoch 19, Validation MAE Loss: 61.18322858375138\n",
      "Fold 1, Epoch 20, Validation MAE Loss: 60.9525625616683\n",
      "Fold 1, Epoch 21, Validation MAE Loss: 60.75107784983528\n",
      "Fold 1, Epoch 22, Validation MAE Loss: 60.57492421573623\n",
      "Fold 1, Epoch 23, Validation MAE Loss: 60.415956489278074\n",
      "Fold 1, Epoch 24, Validation MAE Loss: 60.27356932074203\n",
      "Fold 1, Epoch 25, Validation MAE Loss: 60.13900850224792\n",
      "Fold 1, Epoch 26, Validation MAE Loss: 60.02322007808448\n",
      "Fold 1, Epoch 27, Validation MAE Loss: 59.91877738667721\n",
      "Fold 1, Epoch 28, Validation MAE Loss: 59.822210351461194\n",
      "Fold 1, Epoch 29, Validation MAE Loss: 59.72932039949409\n",
      "Fold 1, Epoch 30, Validation MAE Loss: 59.6435407899722\n",
      "Fold 1, Epoch 31, Validation MAE Loss: 59.56383088614436\n",
      "Fold 1, Epoch 32, Validation MAE Loss: 59.490212721448714\n",
      "Fold 1, Epoch 33, Validation MAE Loss: 59.42256261105359\n",
      "Fold 1, Epoch 34, Validation MAE Loss: 59.35505856715792\n",
      "Fold 1, Epoch 35, Validation MAE Loss: 59.29239089459305\n",
      "Fold 1, Epoch 36, Validation MAE Loss: 59.23146042883149\n",
      "Fold 1, Epoch 37, Validation MAE Loss: 59.175632128577014\n",
      "Fold 1, Epoch 38, Validation MAE Loss: 59.123131336512905\n",
      "Fold 1, Epoch 39, Validation MAE Loss: 59.07292969889661\n",
      "Fold 1, Epoch 40, Validation MAE Loss: 59.02492967977563\n",
      "Fold 1, Epoch 41, Validation MAE Loss: 58.97987079224646\n",
      "Fold 1, Epoch 42, Validation MAE Loss: 58.93676290868229\n",
      "Fold 1, Epoch 43, Validation MAE Loss: 58.89432087182009\n",
      "Fold 1, Epoch 44, Validation MAE Loss: 58.85171253948291\n",
      "Fold 1, Epoch 45, Validation MAE Loss: 58.81375099910245\n",
      "Fold 1, Epoch 46, Validation MAE Loss: 58.774613297331875\n",
      "Fold 1, Epoch 47, Validation MAE Loss: 58.73993276065811\n",
      "Fold 1, Epoch 48, Validation MAE Loss: 58.70644730057459\n",
      "Fold 1, Epoch 49, Validation MAE Loss: 58.67479544358629\n",
      "Fold 1, Epoch 50, Validation MAE Loss: 58.642602216158664\n",
      "Fold 1, Epoch 51, Validation MAE Loss: 58.61386640240048\n",
      "Fold 1, Epoch 52, Validation MAE Loss: 58.58398035453068\n",
      "Fold 1, Epoch 53, Validation MAE Loss: 58.55568688736911\n",
      "Fold 1, Epoch 54, Validation MAE Loss: 58.52603234888607\n",
      "Fold 1, Epoch 55, Validation MAE Loss: 58.49789037744039\n",
      "Fold 1, Epoch 56, Validation MAE Loss: 58.46948248518948\n",
      "Fold 1, Epoch 57, Validation MAE Loss: 58.442592256791364\n",
      "Fold 1, Epoch 58, Validation MAE Loss: 58.41789535269203\n",
      "Fold 1, Epoch 59, Validation MAE Loss: 58.39659316510086\n",
      "Fold 1, Epoch 60, Validation MAE Loss: 58.37223149533094\n",
      "Fold 1, Epoch 61, Validation MAE Loss: 58.348187173550556\n",
      "Fold 1, Epoch 62, Validation MAE Loss: 58.325846058699106\n",
      "Fold 1, Epoch 63, Validation MAE Loss: 58.30493341343037\n",
      "Fold 1, Epoch 64, Validation MAE Loss: 58.283174063654855\n",
      "Fold 1, Epoch 65, Validation MAE Loss: 58.264171204626315\n",
      "Fold 1, Epoch 66, Validation MAE Loss: 58.24434778997018\n",
      "Fold 1, Epoch 67, Validation MAE Loss: 58.22369907110064\n",
      "Fold 1, Epoch 68, Validation MAE Loss: 58.205089189204934\n",
      "Fold 1, Epoch 69, Validation MAE Loss: 58.18800680073465\n",
      "Fold 1, Epoch 70, Validation MAE Loss: 58.16960497021181\n",
      "Fold 1, Epoch 71, Validation MAE Loss: 58.150843244370584\n",
      "Fold 1, Epoch 72, Validation MAE Loss: 58.132228487260114\n",
      "Fold 1, Epoch 73, Validation MAE Loss: 58.117497281909486\n",
      "Fold 1, Epoch 74, Validation MAE Loss: 58.10159980805583\n",
      "Fold 1, Epoch 75, Validation MAE Loss: 58.08600507237605\n",
      "Fold 1, Epoch 76, Validation MAE Loss: 58.06836667199352\n",
      "Fold 1, Epoch 77, Validation MAE Loss: 58.05300197363889\n",
      "Fold 1, Epoch 78, Validation MAE Loss: 58.03637413563075\n",
      "Fold 1, Epoch 79, Validation MAE Loss: 58.0215273813588\n",
      "Fold 1, Epoch 80, Validation MAE Loss: 58.00465195208664\n",
      "Fold 1, Epoch 81, Validation MAE Loss: 57.99080295483601\n",
      "Fold 1, Epoch 82, Validation MAE Loss: 57.977726315067024\n",
      "Fold 1, Epoch 83, Validation MAE Loss: 57.96329517285359\n",
      "Fold 1, Epoch 84, Validation MAE Loss: 57.9507566903142\n",
      "Fold 1, Epoch 85, Validation MAE Loss: 57.93671866769118\n",
      "Fold 1, Epoch 86, Validation MAE Loss: 57.923414523176135\n",
      "Fold 1, Epoch 87, Validation MAE Loss: 57.910356846093144\n",
      "Fold 1, Epoch 88, Validation MAE Loss: 57.89814076087287\n",
      "Fold 1, Epoch 89, Validation MAE Loss: 57.88496455908811\n",
      "Fold 1, Epoch 90, Validation MAE Loss: 57.87131193168925\n",
      "Fold 1, Epoch 91, Validation MAE Loss: 57.86004347425279\n",
      "Fold 1, Epoch 92, Validation MAE Loss: 57.84645669391046\n",
      "Fold 1, Epoch 93, Validation MAE Loss: 57.83419685838628\n",
      "Fold 1, Epoch 94, Validation MAE Loss: 57.822479501304784\n",
      "Fold 1, Epoch 95, Validation MAE Loss: 57.81063018102369\n",
      "Fold 1, Epoch 96, Validation MAE Loss: 57.79961224314583\n",
      "Fold 1, Epoch 97, Validation MAE Loss: 57.788804002817244\n",
      "Fold 1, Epoch 98, Validation MAE Loss: 57.77814011949721\n",
      "Fold 1, Epoch 99, Validation MAE Loss: 57.768847912673635\n",
      "Fold 1, Epoch 100, Validation MAE Loss: 57.760185510785746\n",
      "Fold 1, Epoch 101, Validation MAE Loss: 57.74844479066208\n",
      "Fold 1, Epoch 102, Validation MAE Loss: 57.739592223741205\n",
      "Fold 1, Epoch 103, Validation MAE Loss: 57.73311176537478\n",
      "Fold 1, Epoch 104, Validation MAE Loss: 57.72053931461825\n",
      "Fold 1, Epoch 105, Validation MAE Loss: 57.711268777174574\n",
      "Fold 1, Epoch 106, Validation MAE Loss: 57.70281235311041\n",
      "Fold 1, Epoch 107, Validation MAE Loss: 57.693678179222516\n",
      "Fold 1, Epoch 108, Validation MAE Loss: 57.6854446696048\n",
      "Fold 1, Epoch 109, Validation MAE Loss: 57.67635565476793\n",
      "Fold 1, Epoch 110, Validation MAE Loss: 57.66687999424598\n",
      "Fold 1, Epoch 111, Validation MAE Loss: 57.658098941027376\n",
      "Fold 1, Epoch 112, Validation MAE Loss: 57.652838663441514\n",
      "Fold 1, Epoch 113, Validation MAE Loss: 57.64446617854581\n",
      "Fold 1, Epoch 114, Validation MAE Loss: 57.638645124633285\n",
      "Fold 1, Epoch 115, Validation MAE Loss: 57.62951755127966\n",
      "Fold 1, Epoch 116, Validation MAE Loss: 57.620860404493406\n",
      "Fold 1, Epoch 117, Validation MAE Loss: 57.61584602450929\n",
      "Fold 1, Epoch 118, Validation MAE Loss: 57.607144003587145\n",
      "Fold 1, Epoch 119, Validation MAE Loss: 57.600665412997806\n",
      "Fold 1, Epoch 120, Validation MAE Loss: 57.59250895709912\n",
      "Fold 1, Epoch 121, Validation MAE Loss: 57.58772657718896\n",
      "Fold 1, Epoch 122, Validation MAE Loss: 57.582202341546655\n",
      "Fold 1, Epoch 123, Validation MAE Loss: 57.57231966390649\n",
      "Fold 1, Epoch 124, Validation MAE Loss: 57.56727297771027\n",
      "Fold 1, Epoch 125, Validation MAE Loss: 57.56126234442367\n",
      "Fold 1, Epoch 126, Validation MAE Loss: 57.55113033437135\n",
      "Fold 1, Epoch 127, Validation MAE Loss: 57.5472402295631\n",
      "Fold 1, Epoch 128, Validation MAE Loss: 57.540928899994526\n",
      "Fold 1, Epoch 129, Validation MAE Loss: 57.53357802584953\n",
      "Fold 1, Epoch 130, Validation MAE Loss: 57.52766985121605\n",
      "Fold 1, Epoch 131, Validation MAE Loss: 57.52020920559578\n",
      "Fold 1, Epoch 132, Validation MAE Loss: 57.5156349720302\n",
      "Fold 1, Epoch 133, Validation MAE Loss: 57.509225520850215\n",
      "Fold 1, Epoch 134, Validation MAE Loss: 57.50529468900435\n",
      "Fold 1, Epoch 135, Validation MAE Loss: 57.500892718303255\n",
      "Fold 1, Epoch 136, Validation MAE Loss: 57.49835334872804\n",
      "Fold 1, Epoch 137, Validation MAE Loss: 57.49146721867605\n",
      "Fold 1, Epoch 138, Validation MAE Loss: 57.485135929218465\n",
      "Fold 1, Epoch 139, Validation MAE Loss: 57.47975902636516\n",
      "Fold 1, Epoch 140, Validation MAE Loss: 57.477580929198204\n",
      "Fold 1, Epoch 141, Validation MAE Loss: 57.471874015459875\n",
      "Fold 1, Epoch 142, Validation MAE Loss: 57.466958627661235\n",
      "Fold 1, Epoch 143, Validation MAE Loss: 57.46116973750324\n",
      "Fold 1, Epoch 144, Validation MAE Loss: 57.45682981499003\n",
      "Fold 1, Epoch 145, Validation MAE Loss: 57.451883418926066\n",
      "Fold 1, Epoch 146, Validation MAE Loss: 57.450170683168274\n",
      "Fold 1, Epoch 147, Validation MAE Loss: 57.442171690374984\n",
      "Fold 1, Epoch 148, Validation MAE Loss: 57.43537363076111\n",
      "Fold 1, Epoch 149, Validation MAE Loss: 57.4310015761506\n",
      "Fold 1, Epoch 150, Validation MAE Loss: 57.425992451268115\n",
      "Fold 1, Epoch 151, Validation MAE Loss: 57.41879582701877\n",
      "Fold 1, Epoch 152, Validation MAE Loss: 57.41669103218807\n",
      "Fold 1, Epoch 153, Validation MAE Loss: 57.41462227912365\n",
      "Fold 1, Epoch 154, Validation MAE Loss: 57.41366209924468\n",
      "Fold 1, Epoch 155, Validation MAE Loss: 57.40465778335002\n",
      "Fold 1, Epoch 156, Validation MAE Loss: 57.40155007136808\n",
      "Fold 1, Epoch 157, Validation MAE Loss: 57.39939794896549\n",
      "Fold 1, Epoch 158, Validation MAE Loss: 57.39674418595816\n",
      "Fold 1, Epoch 159, Validation MAE Loss: 57.39295698300437\n",
      "Fold 1, Epoch 160, Validation MAE Loss: 57.38798122485149\n",
      "Fold 1, Epoch 161, Validation MAE Loss: 57.38679858955605\n",
      "Fold 1, Epoch 162, Validation MAE Loss: 57.38102373938343\n",
      "Fold 1, Epoch 163, Validation MAE Loss: 57.37770919483232\n",
      "Fold 1, Epoch 164, Validation MAE Loss: 57.37512393808959\n",
      "Fold 1, Epoch 165, Validation MAE Loss: 57.369443442316964\n",
      "Fold 1, Epoch 166, Validation MAE Loss: 57.36899242163694\n",
      "Fold 1, Epoch 167, Validation MAE Loss: 57.365978984911905\n",
      "Fold 1, Epoch 168, Validation MAE Loss: 57.36432736345346\n",
      "Fold 1, Epoch 169, Validation MAE Loss: 57.36057286242726\n",
      "Fold 1, Epoch 170, Validation MAE Loss: 57.35589335271432\n",
      "Fold 1, Epoch 171, Validation MAE Loss: 57.34999503931069\n",
      "Fold 1, Epoch 172, Validation MAE Loss: 57.34752596463405\n",
      "Fold 1, Epoch 173, Validation MAE Loss: 57.34230195041514\n",
      "Fold 1, Epoch 174, Validation MAE Loss: 57.340952639757845\n",
      "Fold 1, Epoch 175, Validation MAE Loss: 57.33928135915416\n",
      "Fold 1, Epoch 176, Validation MAE Loss: 57.335265274364424\n",
      "Fold 1, Epoch 177, Validation MAE Loss: 57.33485953936438\n",
      "Fold 1, Epoch 178, Validation MAE Loss: 57.33172124648985\n",
      "Fold 1, Epoch 179, Validation MAE Loss: 57.32577769489209\n",
      "Fold 1, Epoch 180, Validation MAE Loss: 57.324177690561385\n",
      "Fold 1, Epoch 181, Validation MAE Loss: 57.323736847683605\n",
      "Fold 1, Epoch 182, Validation MAE Loss: 57.32309415825175\n",
      "Fold 1, Epoch 183, Validation MAE Loss: 57.315374556418774\n",
      "Fold 1, Epoch 184, Validation MAE Loss: 57.31400487432836\n",
      "Fold 1, Epoch 185, Validation MAE Loss: 57.31513182454089\n",
      "Fold 1, Epoch 186, Validation MAE Loss: 57.31200538730226\n",
      "Fold 1, Epoch 187, Validation MAE Loss: 57.30791304022445\n",
      "Fold 1, Epoch 188, Validation MAE Loss: 57.303367361488185\n",
      "Fold 1, Epoch 189, Validation MAE Loss: 57.299997638369994\n",
      "Fold 1, Epoch 190, Validation MAE Loss: 57.29999923706055\n",
      "Fold 1, Epoch 191, Validation MAE Loss: 57.29859074319547\n",
      "Fold 1, Epoch 192, Validation MAE Loss: 57.29636629983103\n",
      "Fold 1, Epoch 193, Validation MAE Loss: 57.29497760756877\n",
      "Fold 1, Epoch 194, Validation MAE Loss: 57.29177248626329\n",
      "Fold 1, Epoch 195, Validation MAE Loss: 57.286159626181195\n",
      "Fold 1, Epoch 196, Validation MAE Loss: 57.28519635972145\n",
      "Fold 1, Epoch 197, Validation MAE Loss: 57.28447063335245\n",
      "Fold 1, Epoch 198, Validation MAE Loss: 57.2809084025656\n",
      "Fold 1, Epoch 199, Validation MAE Loss: 57.278238161965525\n",
      "Fold 1, Epoch 200, Validation MAE Loss: 57.27762369496199\n",
      "Fold 1, Epoch 201, Validation MAE Loss: 57.27379631897226\n",
      "Fold 1, Epoch 202, Validation MAE Loss: 57.272900434945136\n",
      "Fold 1, Epoch 203, Validation MAE Loss: 57.27233823404273\n",
      "Fold 1, Epoch 204, Validation MAE Loss: 57.27077357501904\n",
      "Fold 1, Epoch 205, Validation MAE Loss: 57.26789341526902\n",
      "Fold 1, Epoch 206, Validation MAE Loss: 57.266945217654914\n",
      "Fold 1, Epoch 207, Validation MAE Loss: 57.261877700995605\n",
      "Fold 1, Epoch 208, Validation MAE Loss: 57.26111579040274\n",
      "Fold 1, Epoch 209, Validation MAE Loss: 57.25911514788742\n",
      "Fold 1, Epoch 210, Validation MAE Loss: 57.257300618278535\n",
      "Fold 1, Epoch 211, Validation MAE Loss: 57.2598447680968\n",
      "Fold 1, Epoch 212, Validation MAE Loss: 57.25841748566054\n",
      "Fold 1, Epoch 213, Validation MAE Loss: 57.25292318193744\n",
      "Fold 1, Epoch 214, Validation MAE Loss: 57.25143299656785\n",
      "Fold 1, Epoch 215, Validation MAE Loss: 57.247745434772916\n",
      "Fold 1, Epoch 216, Validation MAE Loss: 57.24607454988472\n",
      "Fold 1, Epoch 217, Validation MAE Loss: 57.24442333997038\n",
      "Fold 1, Epoch 218, Validation MAE Loss: 57.24395846924841\n",
      "Fold 1, Epoch 219, Validation MAE Loss: 57.239235668261514\n",
      "Fold 1, Epoch 220, Validation MAE Loss: 57.24048858262691\n",
      "Fold 1, Epoch 221, Validation MAE Loss: 57.23896890853945\n",
      "Fold 1, Epoch 222, Validation MAE Loss: 57.23269711886204\n",
      "Fold 1, Epoch 223, Validation MAE Loss: 57.233033065479326\n",
      "Fold 1, Epoch 224, Validation MAE Loss: 57.23252077221376\n",
      "Fold 1, Epoch 225, Validation MAE Loss: 57.230671688728805\n",
      "Fold 1, Epoch 226, Validation MAE Loss: 57.229459738830315\n",
      "Fold 1, Epoch 227, Validation MAE Loss: 57.22722679549728\n",
      "Fold 1, Epoch 228, Validation MAE Loss: 57.22507081091157\n",
      "Fold 1, Epoch 229, Validation MAE Loss: 57.225362738138415\n",
      "Fold 1, Epoch 230, Validation MAE Loss: 57.22195535873476\n",
      "Fold 1, Epoch 231, Validation MAE Loss: 57.219944601731676\n",
      "Fold 1, Epoch 232, Validation MAE Loss: 57.21898619465808\n",
      "Fold 1, Epoch 233, Validation MAE Loss: 57.21846958017943\n",
      "Fold 1, Epoch 234, Validation MAE Loss: 57.219119946491666\n",
      "Fold 1, Epoch 235, Validation MAE Loss: 57.217211679798936\n",
      "Fold 1, Epoch 236, Validation MAE Loss: 57.21916016701346\n",
      "Fold 1, Epoch 237, Validation MAE Loss: 57.21610923228917\n",
      "Fold 1, Epoch 238, Validation MAE Loss: 57.21198386671138\n",
      "Fold 1, Epoch 239, Validation MAE Loss: 57.21110226009891\n",
      "Fold 1, Epoch 240, Validation MAE Loss: 57.21081557214507\n",
      "Fold 1, Epoch 241, Validation MAE Loss: 57.208659793331414\n",
      "Fold 1, Epoch 242, Validation MAE Loss: 57.20803339154889\n",
      "Fold 1, Epoch 243, Validation MAE Loss: 57.20560029532405\n",
      "Fold 1, Epoch 244, Validation MAE Loss: 57.203508543275696\n",
      "Fold 1, Epoch 245, Validation MAE Loss: 57.204497974443235\n",
      "Fold 1, Epoch 246, Validation MAE Loss: 57.20484932230716\n",
      "Fold 1, Epoch 247, Validation MAE Loss: 57.20262089013064\n",
      "Fold 1, Epoch 248, Validation MAE Loss: 57.20118224274568\n",
      "Fold 1, Epoch 249, Validation MAE Loss: 57.2013192869321\n",
      "Fold 1, Epoch 250, Validation MAE Loss: 57.20000125362665\n",
      "Fold 1, Epoch 251, Validation MAE Loss: 57.199647151582965\n",
      "Fold 1, Epoch 252, Validation MAE Loss: 57.19532872433484\n",
      "Fold 1, Epoch 253, Validation MAE Loss: 57.194485850353956\n",
      "Fold 1, Epoch 254, Validation MAE Loss: 57.195697325393866\n",
      "Fold 1, Epoch 255, Validation MAE Loss: 57.19253421324417\n",
      "Fold 1, Epoch 256, Validation MAE Loss: 57.19456882397664\n",
      "Fold 1, Epoch 257, Validation MAE Loss: 57.193466202352056\n",
      "Fold 1, Epoch 258, Validation MAE Loss: 57.19224741449\n",
      "Fold 1, Epoch 259, Validation MAE Loss: 57.18980573915347\n",
      "Fold 1, Epoch 260, Validation MAE Loss: 57.19092134024592\n",
      "Fold 1, Epoch 261, Validation MAE Loss: 57.18810022124611\n",
      "Fold 1, Epoch 262, Validation MAE Loss: 57.18576135279232\n",
      "Fold 1, Epoch 263, Validation MAE Loss: 57.1870996150733\n",
      "Fold 1, Epoch 264, Validation MAE Loss: 57.18798136414334\n",
      "Fold 1, Epoch 265, Validation MAE Loss: 57.187831514603864\n",
      "Fold 1, Epoch 266, Validation MAE Loss: 57.18864027791003\n",
      "Fold 1, Epoch 267, Validation MAE Loss: 57.18387937743634\n",
      "Fold 1, Epoch 268, Validation MAE Loss: 57.18367119943453\n",
      "Fold 1, Epoch 269, Validation MAE Loss: 57.18213579169942\n",
      "Fold 1, Epoch 270, Validation MAE Loss: 57.17895397012165\n",
      "Fold 1, Epoch 271, Validation MAE Loss: 57.176686599541505\n",
      "Fold 1, Epoch 272, Validation MAE Loss: 57.17780780396521\n",
      "Fold 1, Epoch 273, Validation MAE Loss: 57.176513386959854\n",
      "Fold 1, Epoch 274, Validation MAE Loss: 57.17468804640394\n",
      "Fold 1, Epoch 275, Validation MAE Loss: 57.17282791454268\n",
      "Fold 1, Epoch 276, Validation MAE Loss: 57.172074725519074\n",
      "Fold 1, Epoch 277, Validation MAE Loss: 57.173446512815865\n",
      "Fold 1, Epoch 278, Validation MAE Loss: 57.17282520784877\n",
      "Fold 1, Epoch 279, Validation MAE Loss: 57.174302999409406\n",
      "Fold 1, Epoch 280, Validation MAE Loss: 57.16991578098155\n",
      "Fold 1, Epoch 281, Validation MAE Loss: 57.167503594362884\n",
      "Fold 1, Epoch 282, Validation MAE Loss: 57.168624893758306\n",
      "Fold 1, Epoch 283, Validation MAE Loss: 57.16738033690393\n",
      "Fold 1, Epoch 284, Validation MAE Loss: 57.169392138595896\n",
      "Fold 1, Epoch 285, Validation MAE Loss: 57.16957133439566\n",
      "Fold 1, Epoch 286, Validation MAE Loss: 57.169849269123\n",
      "Fold 1, Epoch 287, Validation MAE Loss: 57.16851765486215\n",
      "Fold 1, Epoch 288, Validation MAE Loss: 57.16624634295578\n",
      "Fold 1, Epoch 289, Validation MAE Loss: 57.16264985903665\n",
      "Fold 1, Epoch 290, Validation MAE Loss: 57.16088153316767\n",
      "Fold 1, Epoch 291, Validation MAE Loss: 57.16389033210723\n",
      "Fold 1, Epoch 292, Validation MAE Loss: 57.16326882136808\n",
      "Fold 1, Epoch 293, Validation MAE Loss: 57.161946245248885\n",
      "Fold 1, Epoch 294, Validation MAE Loss: 57.163520148186265\n",
      "Fold 1, Epoch 295, Validation MAE Loss: 57.16178400190045\n",
      "Fold 1, Epoch 296, Validation MAE Loss: 57.159832776334774\n",
      "Fold 1, Epoch 297, Validation MAE Loss: 57.16025079434343\n",
      "Fold 1, Epoch 298, Validation MAE Loss: 57.15815896315199\n",
      "Fold 1, Epoch 299, Validation MAE Loss: 57.15692980754425\n",
      "Fold 1, Epoch 300, Validation MAE Loss: 57.15786771655577\n",
      "Fold 1, Epoch 301, Validation MAE Loss: 57.15625690127804\n",
      "Fold 1, Epoch 302, Validation MAE Loss: 57.15521360531882\n",
      "Fold 1, Epoch 303, Validation MAE Loss: 57.15574619087441\n",
      "Fold 1, Epoch 304, Validation MAE Loss: 57.15423647298852\n",
      "Fold 1, Epoch 305, Validation MAE Loss: 57.15524290409326\n",
      "Fold 1, Epoch 306, Validation MAE Loss: 57.15552408368756\n",
      "Fold 1, Epoch 307, Validation MAE Loss: 57.15343350295704\n",
      "Fold 1, Epoch 308, Validation MAE Loss: 57.15242287726818\n",
      "Fold 1, Epoch 309, Validation MAE Loss: 57.14857846968402\n",
      "Fold 1, Epoch 310, Validation MAE Loss: 57.14981265879271\n",
      "Fold 1, Epoch 311, Validation MAE Loss: 57.14837719296024\n",
      "Fold 1, Epoch 312, Validation MAE Loss: 57.14816512111806\n",
      "Fold 1, Epoch 313, Validation MAE Loss: 57.14894099255321\n",
      "Fold 1, Epoch 314, Validation MAE Loss: 57.14962822371994\n",
      "Fold 1, Epoch 315, Validation MAE Loss: 57.14989241920566\n",
      "Fold 1, Epoch 316, Validation MAE Loss: 57.14736395554918\n",
      "Fold 1, Epoch 317, Validation MAE Loss: 57.14888043225554\n",
      "Fold 1, Epoch 318, Validation MAE Loss: 57.14752151362629\n",
      "Fold 1, Epoch 319, Validation MAE Loss: 57.14570611344333\n",
      "Fold 1, Epoch 320, Validation MAE Loss: 57.146016544326216\n",
      "Fold 1, Epoch 321, Validation MAE Loss: 57.146172725313434\n",
      "Fold 1, Epoch 322, Validation MAE Loss: 57.147639500154995\n",
      "Fold 1, Epoch 323, Validation MAE Loss: 57.14514133247597\n",
      "Fold 1, Epoch 324, Validation MAE Loss: 57.14482135693562\n",
      "Fold 1, Epoch 325, Validation MAE Loss: 57.142482789225596\n",
      "Fold 1, Epoch 326, Validation MAE Loss: 57.14050884959114\n",
      "Fold 1, Epoch 327, Validation MAE Loss: 57.14144080704178\n",
      "Fold 1, Epoch 328, Validation MAE Loss: 57.141739667203915\n",
      "Fold 1, Epoch 329, Validation MAE Loss: 57.141393875185386\n",
      "Fold 1, Epoch 330, Validation MAE Loss: 57.14120347272311\n",
      "Fold 1, Epoch 331, Validation MAE Loss: 57.14032507932038\n",
      "Fold 1, Epoch 332, Validation MAE Loss: 57.14192571679586\n",
      "Fold 1, Epoch 333, Validation MAE Loss: 57.14006222926729\n",
      "Fold 1, Epoch 334, Validation MAE Loss: 57.141482816197566\n",
      "Fold 1, Epoch 335, Validation MAE Loss: 57.141458376809275\n",
      "Fold 1, Epoch 336, Validation MAE Loss: 57.14039975874652\n",
      "Fold 1, Epoch 337, Validation MAE Loss: 57.13989783322663\n",
      "Fold 1, Epoch 338, Validation MAE Loss: 57.13857495636366\n",
      "Fold 1, Epoch 339, Validation MAE Loss: 57.13729131864809\n",
      "Fold 1, Epoch 340, Validation MAE Loss: 57.13977503479764\n",
      "Fold 1, Epoch 341, Validation MAE Loss: 57.140059490916144\n",
      "Fold 1, Epoch 342, Validation MAE Loss: 57.137891001721144\n",
      "Fold 1, Epoch 343, Validation MAE Loss: 57.13589377818761\n",
      "Fold 1, Epoch 344, Validation MAE Loss: 57.13566209468604\n",
      "Fold 1, Epoch 345, Validation MAE Loss: 57.13493869512408\n",
      "Fold 1, Epoch 346, Validation MAE Loss: 57.13502781025107\n",
      "Fold 1, Epoch 347, Validation MAE Loss: 57.13439571016557\n",
      "Fold 1, Epoch 348, Validation MAE Loss: 57.134228892346144\n",
      "Fold 1, Epoch 349, Validation MAE Loss: 57.13347408880337\n",
      "Fold 1, Epoch 350, Validation MAE Loss: 57.134558839916686\n",
      "Fold 1, Epoch 351, Validation MAE Loss: 57.13191691671664\n",
      "Fold 1, Epoch 352, Validation MAE Loss: 57.13145461023101\n",
      "Fold 1, Epoch 353, Validation MAE Loss: 57.13299429169334\n",
      "Fold 1, Epoch 354, Validation MAE Loss: 57.13406512945025\n",
      "Fold 1, Epoch 355, Validation MAE Loss: 57.13080300928646\n",
      "Fold 1, Epoch 356, Validation MAE Loss: 57.13037327809947\n",
      "Fold 1, Epoch 357, Validation MAE Loss: 57.130927944579064\n",
      "Fold 1, Epoch 358, Validation MAE Loss: 57.13015082268299\n",
      "Fold 1, Epoch 359, Validation MAE Loss: 57.131191301147965\n",
      "Fold 1, Epoch 360, Validation MAE Loss: 57.13168789242313\n",
      "Fold 1, Epoch 361, Validation MAE Loss: 57.130974338262405\n",
      "Fold 1, Epoch 362, Validation MAE Loss: 57.12974239681766\n",
      "Fold 1, Epoch 363, Validation MAE Loss: 57.129339875027355\n",
      "Fold 1, Epoch 364, Validation MAE Loss: 57.130687333736184\n",
      "Fold 1, Epoch 365, Validation MAE Loss: 57.130391227753826\n",
      "Fold 1, Epoch 366, Validation MAE Loss: 57.13097649095464\n",
      "Fold 1, Epoch 367, Validation MAE Loss: 57.13078594603479\n",
      "Fold 1, Epoch 368, Validation MAE Loss: 57.130525454445994\n",
      "Fold 1, Epoch 369, Validation MAE Loss: 57.13093921455605\n",
      "Fold 1, Epoch 370, Validation MAE Loss: 57.12898699178735\n",
      "Fold 1, Epoch 371, Validation MAE Loss: 57.12914811130381\n",
      "Fold 1, Epoch 372, Validation MAE Loss: 57.127445790777564\n",
      "Fold 1, Epoch 373, Validation MAE Loss: 57.125995730958046\n",
      "Fold 1, Epoch 374, Validation MAE Loss: 57.12774017144041\n",
      "Fold 1, Epoch 375, Validation MAE Loss: 57.125529894690295\n",
      "Fold 1, Epoch 376, Validation MAE Loss: 57.124285290350066\n",
      "Fold 1, Epoch 377, Validation MAE Loss: 57.12557131818716\n",
      "Fold 1, Epoch 378, Validation MAE Loss: 57.1264451371189\n",
      "Fold 1, Epoch 379, Validation MAE Loss: 57.12506896529455\n",
      "Fold 1, Epoch 380, Validation MAE Loss: 57.126101893508086\n",
      "Fold 1, Epoch 381, Validation MAE Loss: 57.12459103596161\n",
      "Fold 1, Epoch 382, Validation MAE Loss: 57.12286321552957\n",
      "Fold 1, Epoch 383, Validation MAE Loss: 57.12384935434429\n",
      "Fold 1, Epoch 384, Validation MAE Loss: 57.12490118192934\n",
      "Fold 1, Epoch 385, Validation MAE Loss: 57.124597145808686\n",
      "Fold 1, Epoch 386, Validation MAE Loss: 57.12318670502342\n",
      "Fold 1, Epoch 387, Validation MAE Loss: 57.12290628520285\n",
      "Fold 1, Epoch 388, Validation MAE Loss: 57.124609381331446\n",
      "Fold 1, Epoch 389, Validation MAE Loss: 57.12273027095557\n",
      "Fold 1, Epoch 390, Validation MAE Loss: 57.12201924937395\n",
      "Fold 1, Epoch 391, Validation MAE Loss: 57.12229664592822\n",
      "Fold 1, Epoch 392, Validation MAE Loss: 57.12202648305299\n",
      "Fold 1, Epoch 393, Validation MAE Loss: 57.120806143986236\n",
      "Fold 1, Epoch 394, Validation MAE Loss: 57.12430214782968\n",
      "Fold 1, Epoch 395, Validation MAE Loss: 57.124834385155644\n",
      "Fold 1, Epoch 396, Validation MAE Loss: 57.12357437956877\n",
      "Fold 1, Epoch 397, Validation MAE Loss: 57.121393259135516\n",
      "Fold 1, Epoch 398, Validation MAE Loss: 57.12139651983111\n",
      "Fold 1, Epoch 399, Validation MAE Loss: 57.1218740851058\n",
      "Fold 1, Epoch 400, Validation MAE Loss: 57.121231458988426\n",
      "Fold 1, Epoch 401, Validation MAE Loss: 57.12082301729448\n",
      "Fold 1, Epoch 402, Validation MAE Loss: 57.11767484736146\n",
      "Fold 1, Epoch 403, Validation MAE Loss: 57.117974483125934\n",
      "Fold 1, Epoch 404, Validation MAE Loss: 57.119276244610674\n",
      "Fold 1, Epoch 405, Validation MAE Loss: 57.1196619405786\n",
      "Fold 1, Epoch 406, Validation MAE Loss: 57.11856622023207\n",
      "Fold 1, Epoch 407, Validation MAE Loss: 57.118581542335605\n",
      "Fold 1, Epoch 408, Validation MAE Loss: 57.11887614459912\n",
      "Fold 1, Epoch 409, Validation MAE Loss: 57.119412307422685\n",
      "Fold 1, Epoch 410, Validation MAE Loss: 57.117815342186894\n",
      "Fold 1, Epoch 411, Validation MAE Loss: 57.11821818054959\n",
      "Fold 1, Epoch 412, Validation MAE Loss: 57.11725627535112\n",
      "Fold 1, Epoch 413, Validation MAE Loss: 57.11870041526699\n",
      "Fold 1, Epoch 414, Validation MAE Loss: 57.11622549982981\n",
      "Fold 1, Epoch 415, Validation MAE Loss: 57.11710474797799\n",
      "Fold 1, Epoch 416, Validation MAE Loss: 57.116907697495584\n",
      "Fold 1, Epoch 417, Validation MAE Loss: 57.11467622622415\n",
      "Fold 1, Epoch 418, Validation MAE Loss: 57.11630913825451\n",
      "Fold 1, Epoch 419, Validation MAE Loss: 57.115659990745954\n",
      "Fold 1, Epoch 420, Validation MAE Loss: 57.11603348284836\n",
      "Fold 1, Epoch 421, Validation MAE Loss: 57.118794959610426\n",
      "Fold 1, Epoch 422, Validation MAE Loss: 57.11671523731279\n",
      "Fold 1, Epoch 423, Validation MAE Loss: 57.117917785011386\n",
      "Fold 1, Epoch 424, Validation MAE Loss: 57.117020286465085\n",
      "Fold 1, Epoch 425, Validation MAE Loss: 57.117571613105994\n",
      "Fold 1, Epoch 426, Validation MAE Loss: 57.11649230703773\n",
      "Fold 1, Epoch 427, Validation MAE Loss: 57.1169136807137\n",
      "Early stopping triggered\n",
      "Early stopping triggered at epoch 427\n",
      "Average Validation Loss: 58.60516265323035\n"
     ]
    },
    {
     "data": {
      "text/plain": [
       "58.60516265323035"
      ]
     },
     "execution_count": 27,
     "metadata": {},
     "output_type": "execute_result"
    }
   ],
   "source": [
    "cross_validate_model(df_transformed, y, n_splits=5, epochs=1000, batch_size=32, lr=0.01, epsilon=0.001)"
   ]
  },
  {
   "cell_type": "code",
   "execution_count": 28,
   "id": "f1468cd8",
   "metadata": {
    "execution": {
     "iopub.execute_input": "2024-04-20T18:26:19.013796Z",
     "iopub.status.busy": "2024-04-20T18:26:19.013351Z",
     "iopub.status.idle": "2024-04-20T18:26:19.019442Z",
     "shell.execute_reply": "2024-04-20T18:26:19.018211Z"
    },
    "papermill": {
     "duration": 0.06895,
     "end_time": "2024-04-20T18:26:19.021916",
     "exception": false,
     "start_time": "2024-04-20T18:26:18.952966",
     "status": "completed"
    },
    "tags": []
   },
   "outputs": [],
   "source": [
    "# param_grid = {\n",
    "#     'lr': [0.01, 0.001, 0.0001],\n",
    "#     'weight_decay': [0.01, 0.001, 0.0001],\n",
    "#     'batch_size': [32, 64, 128]\n",
    "# }\n",
    "\n",
    "# best_model_params = None\n",
    "# lowest_val_loss = np.inf\n",
    "# grid = list(ParameterGrid(param_grid))\n",
    "\n",
    "# for params in grid:\n",
    "#     print(\"Testing parameters:\", params)\n",
    "#     current_val_loss = cross_validate_model(\n",
    "#         X=df_transformed,\n",
    "#         y=y,\n",
    "#         n_splits=5,\n",
    "#         epochs=20,\n",
    "#         batch_size=params['batch_size'],\n",
    "#         epsilon=0.1,\n",
    "#         lr=params['lr'],\n",
    "#         weight_decay=params['weight_decay']\n",
    "#     )\n",
    "    \n",
    "#     if current_val_loss < lowest_val_loss:\n",
    "#         lowest_val_loss = current_val_loss\n",
    "#         best_model_params = copy.deepcopy(params)\n",
    "\n",
    "# print(f\"Best Validation Loss: {lowest_val_loss}\")\n",
    "# print(\"Best parameters:\", best_model_params)"
   ]
  },
  {
   "cell_type": "markdown",
   "id": "c620a66f",
   "metadata": {
    "papermill": {
     "duration": 0.059693,
     "end_time": "2024-04-20T18:26:19.138783",
     "exception": false,
     "start_time": "2024-04-20T18:26:19.079090",
     "status": "completed"
    },
    "tags": []
   },
   "source": [
    "# Test Results"
   ]
  },
  {
   "cell_type": "code",
   "execution_count": 29,
   "id": "7801dd87",
   "metadata": {
    "execution": {
     "iopub.execute_input": "2024-04-20T18:26:19.256316Z",
     "iopub.status.busy": "2024-04-20T18:26:19.255847Z",
     "iopub.status.idle": "2024-04-20T18:26:19.266665Z",
     "shell.execute_reply": "2024-04-20T18:26:19.265484Z"
    },
    "papermill": {
     "duration": 0.072439,
     "end_time": "2024-04-20T18:26:19.269448",
     "exception": false,
     "start_time": "2024-04-20T18:26:19.197009",
     "status": "completed"
    },
    "tags": []
   },
   "outputs": [],
   "source": [
    "def load_best_model(input_features):\n",
    "    device = torch.device(\"cuda\" if torch.cuda.is_available() else \"cpu\")\n",
    "    model = SVR(n_features=input_features).to(device)\n",
    "    model.load_state_dict(torch.load('SVR_best_model.pth', map_location=device))\n",
    "    return model, device\n",
    "\n",
    "best_model, device = load_best_model(df_transformed.shape[1])"
   ]
  },
  {
   "cell_type": "code",
   "execution_count": 30,
   "id": "95a22804",
   "metadata": {
    "execution": {
     "iopub.execute_input": "2024-04-20T18:26:19.415249Z",
     "iopub.status.busy": "2024-04-20T18:26:19.414498Z",
     "iopub.status.idle": "2024-04-20T18:26:19.536463Z",
     "shell.execute_reply": "2024-04-20T18:26:19.535072Z"
    },
    "papermill": {
     "duration": 0.190707,
     "end_time": "2024-04-20T18:26:19.539356",
     "exception": false,
     "start_time": "2024-04-20T18:26:19.348649",
     "status": "completed"
    },
    "tags": []
   },
   "outputs": [
    {
     "name": "stdout",
     "output_type": "stream",
     "text": [
      "Test Loss: 56.450170403284744\n"
     ]
    }
   ],
   "source": [
    "def evaluate_model(model, test_loader, device):\n",
    "    model.eval()\n",
    "    test_loss = 0\n",
    "    with torch.no_grad():\n",
    "        for data, target in test_loader:\n",
    "            data, target = data.to(device), target.to(device)\n",
    "            output = model(data)\n",
    "            test_loss += epsilon_insensitive_loss(output, target, 0.1).item()  # 假设 epsilon=0.1\n",
    "    test_loss /= len(test_loader)\n",
    "    print(f'Test Loss: {test_loss}')\n",
    "\n",
    "evaluate_model(best_model, test_loader, device)"
   ]
  },
  {
   "cell_type": "code",
   "execution_count": 31,
   "id": "baaca2be",
   "metadata": {
    "execution": {
     "iopub.execute_input": "2024-04-20T18:26:19.657102Z",
     "iopub.status.busy": "2024-04-20T18:26:19.656579Z",
     "iopub.status.idle": "2024-04-20T18:26:19.824073Z",
     "shell.execute_reply": "2024-04-20T18:26:19.822953Z"
    },
    "papermill": {
     "duration": 0.230992,
     "end_time": "2024-04-20T18:26:19.827769",
     "exception": false,
     "start_time": "2024-04-20T18:26:19.596777",
     "status": "completed"
    },
    "tags": []
   },
   "outputs": [
    {
     "name": "stdout",
     "output_type": "stream",
     "text": [
      "MSE: 6326.89697265625, RMSE: 79.54179382324219, MAE: 56.625, R²: 0.5017061464752908\n"
     ]
    }
   ],
   "source": [
    "def calculate_metrics(model, test_loader, device):\n",
    "    model.eval()\n",
    "    actuals = []\n",
    "    predictions = []\n",
    "    with torch.no_grad():\n",
    "        for data, target in test_loader:\n",
    "            data, target = data.to(device), target.to(device)\n",
    "            output = model(data)\n",
    "            actuals.extend(target.view_as(output).detach().cpu().numpy())\n",
    "            predictions.extend(output.detach().cpu().numpy())\n",
    "\n",
    "    mse = mean_squared_error(actuals, predictions)\n",
    "    rmse = np.sqrt(mse)\n",
    "    mae = mean_absolute_error(actuals, predictions)\n",
    "    r2 = r2_score(actuals, predictions)\n",
    "\n",
    "    print(f'MSE: {mse}, RMSE: {rmse}, MAE: {mae}, R²: {r2}')\n",
    "\n",
    "calculate_metrics(best_model, test_loader, device)"
   ]
  },
  {
   "cell_type": "code",
   "execution_count": 32,
   "id": "c6096733",
   "metadata": {
    "execution": {
     "iopub.execute_input": "2024-04-20T18:26:19.945702Z",
     "iopub.status.busy": "2024-04-20T18:26:19.944825Z",
     "iopub.status.idle": "2024-04-20T18:26:20.602937Z",
     "shell.execute_reply": "2024-04-20T18:26:20.601980Z"
    },
    "papermill": {
     "duration": 0.72198,
     "end_time": "2024-04-20T18:26:20.607281",
     "exception": false,
     "start_time": "2024-04-20T18:26:19.885301",
     "status": "completed"
    },
    "tags": []
   },
   "outputs": [
    {
     "data": {
      "image/png": "[encoded data removed]",
      "text/plain": [
       "<Figure size 1000x600 with 1 Axes>"
      ]
     },
     "metadata": {},
     "output_type": "display_data"
    }
   ],
   "source": [
    "def plot_predictions(model, test_loader, device):\n",
    "    model.eval()\n",
    "    actuals = []\n",
    "    predictions = []\n",
    "    with torch.no_grad():\n",
    "        for data, target in test_loader:\n",
    "            data, target = data.to(device), target.to(device)\n",
    "            output = model(data)\n",
    "            actuals.extend(target.view_as(output).detach().cpu().numpy())\n",
    "            predictions.extend(output.detach().cpu().numpy())\n",
    "    \n",
    "    plt.figure(figsize=(10, 6))\n",
    "    plt.scatter(actuals, predictions, alpha=0.5)\n",
    "    plt.xlabel('Actual Prices')\n",
    "    plt.ylabel('Predicted Prices')\n",
    "    plt.title('Actual vs. Predicted Prices')\n",
    "    plt.plot([min(actuals), max(actuals)], [min(actuals), max(actuals)], 'k--')\n",
    "    plt.show()\n",
    "\n",
    "plot_predictions(best_model, test_loader, device)"
   ]
  },
  {
   "cell_type": "markdown",
   "id": "5aa5ad2e",
   "metadata": {
    "papermill": {
     "duration": 0.060256,
     "end_time": "2024-04-20T18:26:20.729440",
     "exception": false,
     "start_time": "2024-04-20T18:26:20.669184",
     "status": "completed"
    },
    "tags": []
   },
   "source": [
    "# *MLP* Model"
   ]
  },
  {
   "cell_type": "code",
   "execution_count": 33,
   "id": "fa225f18",
   "metadata": {
    "execution": {
     "iopub.execute_input": "2024-04-20T18:26:20.855228Z",
     "iopub.status.busy": "2024-04-20T18:26:20.854727Z",
     "iopub.status.idle": "2024-04-20T18:26:20.863793Z",
     "shell.execute_reply": "2024-04-20T18:26:20.862621Z"
    },
    "papermill": {
     "duration": 0.07534,
     "end_time": "2024-04-20T18:26:20.866264",
     "exception": false,
     "start_time": "2024-04-20T18:26:20.790924",
     "status": "completed"
    },
    "tags": []
   },
   "outputs": [],
   "source": [
    "class MLP(nn.Module):\n",
    "    def __init__(self, input_dim):\n",
    "        super(MLP, self).__init__()\n",
    "        self.fc1 = nn.Linear(input_dim, 128)\n",
    "        self.relu1 = nn.ReLU()\n",
    "        self.fc2 = nn.Linear(128, 64)\n",
    "        self.relu2 = nn.ReLU()\n",
    "        self.fc3 = nn.Linear(64, 32)\n",
    "        self.relu3 = nn.ReLU()\n",
    "        self.output = nn.Linear(32, 1)\n",
    "\n",
    "    def forward(self, x):\n",
    "        x = self.relu1(self.fc1(x))\n",
    "        x = self.relu2(self.fc2(x))\n",
    "        x = self.relu3(self.fc3(x))\n",
    "        x = self.output(x)\n",
    "        return x"
   ]
  },
  {
   "cell_type": "code",
   "execution_count": 34,
   "id": "aee2ed34",
   "metadata": {
    "execution": {
     "iopub.execute_input": "2024-04-20T18:26:20.989659Z",
     "iopub.status.busy": "2024-04-20T18:26:20.989149Z",
     "iopub.status.idle": "2024-04-20T18:26:20.997502Z",
     "shell.execute_reply": "2024-04-20T18:26:20.996346Z"
    },
    "papermill": {
     "duration": 0.072545,
     "end_time": "2024-04-20T18:26:20.999742",
     "exception": false,
     "start_time": "2024-04-20T18:26:20.927197",
     "status": "completed"
    },
    "tags": []
   },
   "outputs": [],
   "source": [
    "model = MLP(input_dim=X_train.shape[1])\n",
    "criterion = nn.MSELoss()\n",
    "optimizer = optim.Adam(model.parameters(), lr=0.001)"
   ]
  },
  {
   "cell_type": "code",
   "execution_count": 35,
   "id": "169c16c8",
   "metadata": {
    "execution": {
     "iopub.execute_input": "2024-04-20T18:26:21.122795Z",
     "iopub.status.busy": "2024-04-20T18:26:21.122346Z",
     "iopub.status.idle": "2024-04-20T18:26:21.141504Z",
     "shell.execute_reply": "2024-04-20T18:26:21.140482Z"
    },
    "papermill": {
     "duration": 0.083538,
     "end_time": "2024-04-20T18:26:21.143939",
     "exception": false,
     "start_time": "2024-04-20T18:26:21.060401",
     "status": "completed"
    },
    "tags": []
   },
   "outputs": [],
   "source": [
    "def cross_validate_model(X, y, n_splits=5, epochs=50, batch_size=64, epsilon=0.1, lr=0.001, weight_decay=0.01):\n",
    "    all_val_losses = []\n",
    "    \n",
    "    X_train_val, X_test, y_train_val, y_test = train_test_split(X, y, test_size=0.2, random_state=42)\n",
    "    kf = KFold(n_splits=n_splits, shuffle=True, random_state=42)\n",
    "    best_model = None\n",
    "    lowest_val_loss = np.inf\n",
    "\n",
    "    for fold, (train_index, val_index) in enumerate(kf.split(X_train_val), 1):\n",
    "        print(f\"Starting fold {fold}\")\n",
    "        X_train, X_val = X_train_val[train_index], X_train_val[val_index]\n",
    "        y_train, y_val = y_train_val[train_index], y_train_val[val_index]\n",
    "\n",
    "        train_dataset = TensorDataset(torch.tensor(X_train, dtype=torch.float32), torch.tensor(y_train, dtype=torch.float32))\n",
    "        val_dataset = TensorDataset(torch.tensor(X_val, dtype=torch.float32), torch.tensor(y_val, dtype=torch.float32))\n",
    "        train_loader = DataLoader(train_dataset, batch_size=batch_size, shuffle=True)\n",
    "        val_loader = DataLoader(val_dataset, batch_size=batch_size, shuffle=False)\n",
    "\n",
    "        device = torch.device(\"cuda\" if torch.cuda.is_available() else \"cpu\")\n",
    "        model = MLP(input_dim=X_train.shape[1]).to(device)\n",
    "        optimizer = torch.optim.SGD(model.parameters(), lr=lr, weight_decay=weight_decay)\n",
    "        early_stopping = EarlyStopping(patience=10, verbose=True)\n",
    "\n",
    "        for epoch in range(epochs):\n",
    "            model.train()\n",
    "            for data, target in train_loader:\n",
    "                data, target = data.to(device), target.to(device)\n",
    "                optimizer.zero_grad()\n",
    "                output = model(data)\n",
    "                loss = epsilon_insensitive_loss(output, target, epsilon)\n",
    "                loss.backward()\n",
    "                optimizer.step()\n",
    "\n",
    "            val_loss = 0\n",
    "            model.eval()\n",
    "            with torch.no_grad():\n",
    "                for data, target in val_loader:\n",
    "                    data, target = data.to(device), target.to(device)\n",
    "                    output = model(data)\n",
    "                    val_loss += epsilon_insensitive_loss(output, target, epsilon).item()\n",
    "            val_loss /= len(val_loader)\n",
    "\n",
    "            print(f'Fold {fold}, Epoch {epoch+1}, Validation MAE Loss: {val_loss}')\n",
    "            \n",
    "            all_val_losses.append(val_loss)\n",
    "            \n",
    "            if val_loss < lowest_val_loss:\n",
    "                lowest_val_loss = val_loss\n",
    "                best_model = model.state_dict()  # Save the best model\n",
    "                torch.save(best_model, 'MLP_best_model.pth')  # Save model to disk\n",
    "\n",
    "            early_stopping(val_loss)\n",
    "            if early_stopping.early_stop:\n",
    "                print(f\"Early stopping triggered at epoch {epoch+1}\")\n",
    "                break\n",
    "                \n",
    "        avg_val_loss = np.mean(all_val_losses)\n",
    "        print(f'Average Validation Loss: {avg_val_loss}')\n",
    "        return avg_val_loss"
   ]
  },
  {
   "cell_type": "code",
   "execution_count": 36,
   "id": "e3b653ad",
   "metadata": {
    "execution": {
     "iopub.execute_input": "2024-04-20T18:26:21.269198Z",
     "iopub.status.busy": "2024-04-20T18:26:21.268232Z",
     "iopub.status.idle": "2024-04-20T18:27:29.450269Z",
     "shell.execute_reply": "2024-04-20T18:27:29.449180Z"
    },
    "papermill": {
     "duration": 68.247779,
     "end_time": "2024-04-20T18:27:29.453020",
     "exception": false,
     "start_time": "2024-04-20T18:26:21.205241",
     "status": "completed"
    },
    "tags": []
   },
   "outputs": [
    {
     "name": "stdout",
     "output_type": "stream",
     "text": [
      "Starting fold 1\n",
      "Fold 1, Epoch 1, Validation MAE Loss: 52.577006549756064\n",
      "Fold 1, Epoch 2, Validation MAE Loss: 49.26837384552382\n",
      "Fold 1, Epoch 3, Validation MAE Loss: 55.24414938614081\n",
      "Fold 1, Epoch 4, Validation MAE Loss: 48.83481642220525\n",
      "Fold 1, Epoch 5, Validation MAE Loss: 51.38219629976265\n",
      "Fold 1, Epoch 6, Validation MAE Loss: 48.24904218649963\n",
      "Fold 1, Epoch 7, Validation MAE Loss: 51.126661427288134\n",
      "Fold 1, Epoch 8, Validation MAE Loss: 49.59520055050672\n",
      "Fold 1, Epoch 9, Validation MAE Loss: 49.002363766872044\n",
      "Fold 1, Epoch 10, Validation MAE Loss: 50.50880031664836\n",
      "Fold 1, Epoch 11, Validation MAE Loss: 48.08879410676442\n",
      "Fold 1, Epoch 12, Validation MAE Loss: 49.0231172395445\n",
      "Fold 1, Epoch 13, Validation MAE Loss: 53.58651907513251\n",
      "Fold 1, Epoch 14, Validation MAE Loss: 48.0354722604712\n",
      "Fold 1, Epoch 15, Validation MAE Loss: 48.497580904188986\n",
      "Fold 1, Epoch 16, Validation MAE Loss: 47.81162799344518\n",
      "Fold 1, Epoch 17, Validation MAE Loss: 48.83557966240214\n",
      "Fold 1, Epoch 18, Validation MAE Loss: 49.89108962537837\n",
      "Fold 1, Epoch 19, Validation MAE Loss: 47.82231218488385\n",
      "Fold 1, Epoch 20, Validation MAE Loss: 47.505644477749264\n",
      "Fold 1, Epoch 21, Validation MAE Loss: 48.36755724863393\n",
      "Fold 1, Epoch 22, Validation MAE Loss: 50.33656638687577\n",
      "Fold 1, Epoch 23, Validation MAE Loss: 47.756676986504395\n",
      "Fold 1, Epoch 24, Validation MAE Loss: 47.68795235028406\n",
      "Fold 1, Epoch 25, Validation MAE Loss: 48.62122923506741\n",
      "Fold 1, Epoch 26, Validation MAE Loss: 48.43119774814463\n",
      "Fold 1, Epoch 27, Validation MAE Loss: 49.4939264083799\n",
      "Fold 1, Epoch 28, Validation MAE Loss: 48.16346098872141\n",
      "Fold 1, Epoch 29, Validation MAE Loss: 50.209318849555686\n",
      "Fold 1, Epoch 30, Validation MAE Loss: 47.202944189681055\n",
      "Fold 1, Epoch 31, Validation MAE Loss: 50.697079986952154\n",
      "Fold 1, Epoch 32, Validation MAE Loss: 47.63214255368561\n",
      "Fold 1, Epoch 33, Validation MAE Loss: 47.38852753382006\n",
      "Fold 1, Epoch 34, Validation MAE Loss: 48.266514750437125\n",
      "Fold 1, Epoch 35, Validation MAE Loss: 47.92243896579347\n",
      "Fold 1, Epoch 36, Validation MAE Loss: 48.812334543441835\n",
      "Fold 1, Epoch 37, Validation MAE Loss: 47.615460391855834\n",
      "Fold 1, Epoch 38, Validation MAE Loss: 49.22914430610372\n",
      "Fold 1, Epoch 39, Validation MAE Loss: 48.40768606732001\n",
      "Fold 1, Epoch 40, Validation MAE Loss: 47.834442779730956\n",
      "Early stopping triggered\n",
      "Early stopping triggered at epoch 40\n",
      "Average Validation Loss: 49.12407376380382\n"
     ]
    },
    {
     "data": {
      "text/plain": [
       "49.12407376380382"
      ]
     },
     "execution_count": 36,
     "metadata": {},
     "output_type": "execute_result"
    }
   ],
   "source": [
    "cross_validate_model(df_transformed, y, n_splits=5, epochs=1000, batch_size=32, lr=0.01, epsilon=0.0001)"
   ]
  },
  {
   "cell_type": "code",
   "execution_count": 37,
   "id": "1bdb18a2",
   "metadata": {
    "execution": {
     "iopub.execute_input": "2024-04-20T18:27:29.586522Z",
     "iopub.status.busy": "2024-04-20T18:27:29.586081Z",
     "iopub.status.idle": "2024-04-20T18:27:29.591209Z",
     "shell.execute_reply": "2024-04-20T18:27:29.590327Z"
    },
    "papermill": {
     "duration": 0.074479,
     "end_time": "2024-04-20T18:27:29.593266",
     "exception": false,
     "start_time": "2024-04-20T18:27:29.518787",
     "status": "completed"
    },
    "tags": []
   },
   "outputs": [],
   "source": [
    "# param_grid = {\n",
    "#     'lr': [0.01, 0.001, 0.0001],\n",
    "#     'weight_decay': [0.01, 0.001, 0.0001],\n",
    "#     'batch_size': [32, 64, 128]\n",
    "# }\n",
    "\n",
    "# best_model_params = None\n",
    "# lowest_val_loss = np.inf\n",
    "# grid = list(ParameterGrid(param_grid))\n",
    "\n",
    "# for params in grid:\n",
    "#     print(\"Testing parameters:\", params)\n",
    "#     current_val_loss = cross_validate_model(\n",
    "#         X=df_transformed,\n",
    "#         y=y,\n",
    "#         n_splits=5,\n",
    "#         epochs=20,\n",
    "#         batch_size=params['batch_size'],\n",
    "#         epsilon=0.1,\n",
    "#         lr=params['lr'],\n",
    "#         weight_decay=params['weight_decay']\n",
    "#     )\n",
    "    \n",
    "#     if current_val_loss < lowest_val_loss:\n",
    "#         lowest_val_loss = current_val_loss\n",
    "#         best_model_params = copy.deepcopy(params)\n",
    "\n",
    "# print(f\"Best Validation Loss: {lowest_val_loss}\")\n",
    "# print(\"Best parameters:\", best_model_params)"
   ]
  },
  {
   "cell_type": "code",
   "execution_count": 38,
   "id": "cb2f5fcf",
   "metadata": {
    "execution": {
     "iopub.execute_input": "2024-04-20T18:27:29.728536Z",
     "iopub.status.busy": "2024-04-20T18:27:29.727240Z",
     "iopub.status.idle": "2024-04-20T18:27:29.734859Z",
     "shell.execute_reply": "2024-04-20T18:27:29.733598Z"
    },
    "papermill": {
     "duration": 0.078265,
     "end_time": "2024-04-20T18:27:29.737389",
     "exception": false,
     "start_time": "2024-04-20T18:27:29.659124",
     "status": "completed"
    },
    "tags": []
   },
   "outputs": [],
   "source": [
    "def load_best_model(input_features):\n",
    "    device = torch.device(\"cuda\" if torch.cuda.is_available() else \"cpu\")\n",
    "    model = MLP(input_dim=X_train.shape[1]).to(device)\n",
    "    model.load_state_dict(torch.load('MLP_best_model.pth', map_location=device))\n",
    "    return model, device"
   ]
  },
  {
   "cell_type": "code",
   "execution_count": 39,
   "id": "1bafad7e",
   "metadata": {
    "execution": {
     "iopub.execute_input": "2024-04-20T18:27:29.873350Z",
     "iopub.status.busy": "2024-04-20T18:27:29.872818Z",
     "iopub.status.idle": "2024-04-20T18:27:29.881837Z",
     "shell.execute_reply": "2024-04-20T18:27:29.880631Z"
    },
    "papermill": {
     "duration": 0.079437,
     "end_time": "2024-04-20T18:27:29.884638",
     "exception": false,
     "start_time": "2024-04-20T18:27:29.805201",
     "status": "completed"
    },
    "tags": []
   },
   "outputs": [],
   "source": [
    "best_model, device = load_best_model(df_transformed.shape[1])"
   ]
  },
  {
   "cell_type": "code",
   "execution_count": 40,
   "id": "e2a655ec",
   "metadata": {
    "execution": {
     "iopub.execute_input": "2024-04-20T18:27:30.018488Z",
     "iopub.status.busy": "2024-04-20T18:27:30.017639Z",
     "iopub.status.idle": "2024-04-20T18:27:30.174921Z",
     "shell.execute_reply": "2024-04-20T18:27:30.173520Z"
    },
    "papermill": {
     "duration": 0.227774,
     "end_time": "2024-04-20T18:27:30.177407",
     "exception": false,
     "start_time": "2024-04-20T18:27:29.949633",
     "status": "completed"
    },
    "tags": []
   },
   "outputs": [
    {
     "name": "stdout",
     "output_type": "stream",
     "text": [
      "Test Loss: 46.399992557550895\n"
     ]
    }
   ],
   "source": [
    "evaluate_model(best_model, test_loader, device)"
   ]
  },
  {
   "cell_type": "code",
   "execution_count": 41,
   "id": "2cd2c126",
   "metadata": {
    "execution": {
     "iopub.execute_input": "2024-04-20T18:27:30.311065Z",
     "iopub.status.busy": "2024-04-20T18:27:30.310159Z",
     "iopub.status.idle": "2024-04-20T18:27:30.969084Z",
     "shell.execute_reply": "2024-04-20T18:27:30.967734Z"
    },
    "papermill": {
     "duration": 0.727402,
     "end_time": "2024-04-20T18:27:30.971437",
     "exception": false,
     "start_time": "2024-04-20T18:27:30.244035",
     "status": "completed"
    },
    "tags": []
   },
   "outputs": [
    {
     "data": {
      "image/png": "[encoded data removed]",
      "text/plain": [
       "<Figure size 1000x600 with 1 Axes>"
      ]
     },
     "metadata": {},
     "output_type": "display_data"
    }
   ],
   "source": [
    "plot_predictions(model, test_loader, device)"
   ]
  }
 ],
 "metadata": {
  "kaggle": {
   "accelerator": "none",
   "dataSources": [
    {
     "datasetId": 2894281,
     "sourceId": 4990113,
     "sourceType": "datasetVersion"
    }
   ],
   "dockerImageVersionId": 30684,
   "isGpuEnabled": false,
   "isInternetEnabled": true,
   "language": "python",
   "sourceType": "notebook"
  },
  "kernelspec": {
   "display_name": "Python 3",
   "language": "python",
   "name": "python3"
  },
  "language_info": {
   "codemirror_mode": {
    "name": "ipython",
    "version": 3
   },
   "file_extension": ".py",
   "mimetype": "text/x-python",
   "name": "python",
   "nbconvert_exporter": "python",
   "pygments_lexer": "ipython3",
   "version": "3.10.13"
  },
  "papermill": {
   "default_parameters": {},
   "duration": 559.685341,
   "end_time": "2024-04-20T18:27:33.067815",
   "environment_variables": {},
   "exception": null,
   "input_path": "__notebook__.ipynb",
   "output_path": "__notebook__.ipynb",
   "parameters": {},
   "start_time": "2024-04-20T18:18:13.382474",
   "version": "2.5.0"
  }
 },
 "nbformat": 4,
 "nbformat_minor": 5
}
