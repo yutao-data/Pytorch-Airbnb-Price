{
 "cells": [
  {
   "cell_type": "code",
   "execution_count": 1,
   "id": "66d22c8f",
   "metadata": {
    "_cell_guid": "b1076dfc-b9ad-4769-8c92-a6c4dae69d19",
    "_uuid": "8f2839f25d086af736a60e9eeb907d3b93b6e0e5",
    "execution": {
     "iopub.execute_input": "2024-04-20T11:23:50.763978Z",
     "iopub.status.busy": "2024-04-20T11:23:50.762758Z",
     "iopub.status.idle": "2024-04-20T11:23:56.398975Z",
     "shell.execute_reply": "2024-04-20T11:23:56.398074Z"
    },
    "papermill": {
     "duration": 5.651307,
     "end_time": "2024-04-20T11:23:56.401399",
     "exception": false,
     "start_time": "2024-04-20T11:23:50.750092",
     "status": "completed"
    },
    "tags": []
   },
   "outputs": [],
   "source": [
    "import numpy as np \n",
    "import pandas as pd\n",
    "from matplotlib import pyplot as plt\n",
    "import math\n",
    "\n",
    "from sklearn.preprocessing import StandardScaler, OneHotEncoder\n",
    "from sklearn.compose import ColumnTransformer\n",
    "from sklearn.pipeline import Pipeline\n",
    "\n",
    "import torch\n",
    "import torch.nn as nn\n",
    "import torch.optim as optim\n",
    "from torch.utils.data import DataLoader, TensorDataset\n",
    "from sklearn.model_selection import train_test_split"
   ]
  },
  {
   "cell_type": "code",
   "execution_count": 2,
   "id": "9f293e4d",
   "metadata": {
    "execution": {
     "iopub.execute_input": "2024-04-20T11:23:56.426880Z",
     "iopub.status.busy": "2024-04-20T11:23:56.425620Z",
     "iopub.status.idle": "2024-04-20T11:23:56.893853Z",
     "shell.execute_reply": "2024-04-20T11:23:56.892353Z"
    },
    "papermill": {
     "duration": 0.48403,
     "end_time": "2024-04-20T11:23:56.896490",
     "exception": false,
     "start_time": "2024-04-20T11:23:56.412460",
     "status": "completed"
    },
    "tags": []
   },
   "outputs": [],
   "source": [
    "#Amsterdam\n",
    "amsterdam_weekdays = pd.read_csv('/kaggle/input/airbnb-price-determinants-in-europe/amsterdam_weekdays.csv')\n",
    "amsterdam_weekend = pd.read_csv('/kaggle/input/airbnb-price-determinants-in-europe/amsterdam_weekends.csv')\n",
    "\n",
    "#Athens\n",
    "athens_weekdays = pd.read_csv('/kaggle/input/airbnb-price-determinants-in-europe/athens_weekdays.csv')\n",
    "athens_weekend = pd.read_csv('/kaggle/input/airbnb-price-determinants-in-europe/athens_weekends.csv')\n",
    "\n",
    "#Barcelona\n",
    "barcelona_weekdays = pd.read_csv('/kaggle/input/airbnb-price-determinants-in-europe/barcelona_weekdays.csv')\n",
    "barcelona_weekend = pd.read_csv('/kaggle/input/airbnb-price-determinants-in-europe/barcelona_weekends.csv')\n",
    "\n",
    "#Berlin\n",
    "berlin_weekdays = pd.read_csv('/kaggle/input/airbnb-price-determinants-in-europe/berlin_weekdays.csv')\n",
    "berlin_weekend = pd.read_csv('/kaggle/input/airbnb-price-determinants-in-europe/berlin_weekends.csv')\n",
    "\n",
    "#Budapest\n",
    "budapest_weekdays = pd.read_csv('/kaggle/input/airbnb-price-determinants-in-europe/budapest_weekdays.csv')\n",
    "budapest_weekend = pd.read_csv('/kaggle/input/airbnb-price-determinants-in-europe/budapest_weekends.csv')\n",
    "\n",
    "#Lisbon\n",
    "lisbon_weekdays = pd.read_csv('/kaggle/input/airbnb-price-determinants-in-europe/lisbon_weekdays.csv')\n",
    "lisbon_weekend = pd.read_csv('/kaggle/input/airbnb-price-determinants-in-europe/lisbon_weekends.csv')\n",
    "\n",
    "#London\n",
    "london_weekdays = pd.read_csv('/kaggle/input/airbnb-price-determinants-in-europe/london_weekdays.csv')\n",
    "london_weekend = pd.read_csv('/kaggle/input/airbnb-price-determinants-in-europe/london_weekends.csv')\n",
    "\n",
    "#Paris\n",
    "paris_weekdays = pd.read_csv('/kaggle/input/airbnb-price-determinants-in-europe/paris_weekdays.csv')\n",
    "paris_weekend = pd.read_csv('/kaggle/input/airbnb-price-determinants-in-europe/paris_weekends.csv')\n",
    "\n",
    "#Rome\n",
    "rome_weekdays = pd.read_csv('/kaggle/input/airbnb-price-determinants-in-europe/rome_weekdays.csv')\n",
    "rome_weekend = pd.read_csv('/kaggle/input/airbnb-price-determinants-in-europe/rome_weekends.csv')\n",
    "\n",
    "#Vienna\n",
    "vienna_weekdays = pd.read_csv('/kaggle/input/airbnb-price-determinants-in-europe/vienna_weekdays.csv')\n",
    "vienna_weekend = pd.read_csv('/kaggle/input/airbnb-price-determinants-in-europe/vienna_weekends.csv')"
   ]
  },
  {
   "cell_type": "code",
   "execution_count": 3,
   "id": "cacfc733",
   "metadata": {
    "execution": {
     "iopub.execute_input": "2024-04-20T11:23:56.919672Z",
     "iopub.status.busy": "2024-04-20T11:23:56.919254Z",
     "iopub.status.idle": "2024-04-20T11:23:57.022772Z",
     "shell.execute_reply": "2024-04-20T11:23:57.021558Z"
    },
    "papermill": {
     "duration": 0.117364,
     "end_time": "2024-04-20T11:23:57.024890",
     "exception": false,
     "start_time": "2024-04-20T11:23:56.907526",
     "status": "completed"
    },
    "tags": []
   },
   "outputs": [
    {
     "name": "stdout",
     "output_type": "stream",
     "text": [
      "      realSum     room_type  room_shared  room_private  person_capacity  \\\n",
      "0  194.033698  Private room        False          True              2.0   \n",
      "1  344.245776  Private room        False          True              4.0   \n",
      "2  264.101422  Private room        False          True              2.0   \n",
      "3  433.529398  Private room        False          True              4.0   \n",
      "4  485.552926  Private room        False          True              2.0   \n",
      "\n",
      "   host_is_superhost  multi  biz  cleanliness_rating  \\\n",
      "0              False      1    0                10.0   \n",
      "1              False      0    0                 8.0   \n",
      "2              False      0    1                 9.0   \n",
      "3              False      0    1                 9.0   \n",
      "4               True      0    0                10.0   \n",
      "\n",
      "   guest_satisfaction_overall  ...      dist  metro_dist  attr_index  \\\n",
      "0                        93.0  ...  5.022964    2.539380   78.690379   \n",
      "1                        85.0  ...  0.488389    0.239404  631.176378   \n",
      "2                        87.0  ...  5.748312    3.651621   75.275877   \n",
      "3                        90.0  ...  0.384862    0.439876  493.272534   \n",
      "4                        98.0  ...  0.544738    0.318693  552.830324   \n",
      "\n",
      "   attr_index_norm  rest_index  rest_index_norm      lng       lat       city  \\\n",
      "0         4.166708   98.253896         6.846473  4.90569  52.41772  Amsterdam   \n",
      "1        33.421209  837.280757        58.342928  4.90005  52.37432  Amsterdam   \n",
      "2         3.985908   95.386955         6.646700  4.97512  52.36103  Amsterdam   \n",
      "3        26.119108  875.033098        60.973565  4.89417  52.37663  Amsterdam   \n",
      "4        29.272733  815.305740        56.811677  4.90051  52.37508  Amsterdam   \n",
      "\n",
      "  weekday  \n",
      "0    True  \n",
      "1    True  \n",
      "2    True  \n",
      "3    True  \n",
      "4    True  \n",
      "\n",
      "[5 rows x 21 columns]\n",
      "(51707, 21)\n"
     ]
    }
   ],
   "source": [
    "datasets = [\n",
    "    (amsterdam_weekdays, \"Amsterdam\", True),\n",
    "    (amsterdam_weekend, \"Amsterdam\", False),\n",
    "    (athens_weekdays, \"Athens\", True),\n",
    "    (athens_weekend, \"Athens\", False),\n",
    "    (barcelona_weekdays, \"Barcelona\", True),\n",
    "    (barcelona_weekend, \"Barcelona\", False),\n",
    "    (berlin_weekdays, \"Berlin\", True),\n",
    "    (berlin_weekend, \"Berlin\", False),\n",
    "    (budapest_weekdays, \"Budapest\", True),\n",
    "    (budapest_weekend, \"Budapest\", False),\n",
    "    (lisbon_weekdays, \"Lisbon\", True),\n",
    "    (lisbon_weekend, \"Lisbon\", False),\n",
    "    (london_weekdays, \"London\", True),\n",
    "    (london_weekend, \"London\", False),\n",
    "    (paris_weekdays, \"Paris\", True),\n",
    "    (paris_weekend, \"Paris\", False),\n",
    "    (rome_weekdays, \"Rome\", True),\n",
    "    (rome_weekend, \"Rome\", False),\n",
    "    (vienna_weekdays, \"Vienna\", True),\n",
    "    (vienna_weekend, \"Vienna\", False)\n",
    "]\n",
    "\n",
    "df = pd.DataFrame()\n",
    "\n",
    "for data, city, is_weekday in datasets:\n",
    "    data['city'] = city\n",
    "    data['weekday'] = is_weekday\n",
    "    df = pd.concat([df, data], ignore_index=True)\n",
    "\n",
    "df.drop(columns=['Unnamed: 0'], axis=1, inplace=True)\n",
    "\n",
    "print(df.head())\n",
    "print(df.shape)"
   ]
  },
  {
   "cell_type": "code",
   "execution_count": 4,
   "id": "c8c7c891",
   "metadata": {
    "execution": {
     "iopub.execute_input": "2024-04-20T11:23:57.049615Z",
     "iopub.status.busy": "2024-04-20T11:23:57.049197Z",
     "iopub.status.idle": "2024-04-20T11:23:57.053289Z",
     "shell.execute_reply": "2024-04-20T11:23:57.052243Z"
    },
    "papermill": {
     "duration": 0.018638,
     "end_time": "2024-04-20T11:23:57.055429",
     "exception": false,
     "start_time": "2024-04-20T11:23:57.036791",
     "status": "completed"
    },
    "tags": []
   },
   "outputs": [],
   "source": [
    "# path = \"/kaggle/input/airbnb-price-determinants-in-europe/barcelona_weekdays.csv\"\n",
    "# df = pd.read_csv(path, index_col=0)\n",
    "# df.head()"
   ]
  },
  {
   "cell_type": "markdown",
   "id": "78953d8d",
   "metadata": {
    "papermill": {
     "duration": 0.010421,
     "end_time": "2024-04-20T11:23:57.076986",
     "exception": false,
     "start_time": "2024-04-20T11:23:57.066565",
     "status": "completed"
    },
    "tags": []
   },
   "source": [
    "# Data Preposessing"
   ]
  },
  {
   "cell_type": "markdown",
   "id": "cbb624ad",
   "metadata": {
    "papermill": {
     "duration": 0.010284,
     "end_time": "2024-04-20T11:23:57.098104",
     "exception": false,
     "start_time": "2024-04-20T11:23:57.087820",
     "status": "completed"
    },
    "tags": []
   },
   "source": [
    "## Add data shuffle"
   ]
  },
  {
   "cell_type": "code",
   "execution_count": 5,
   "id": "367257ec",
   "metadata": {
    "execution": {
     "iopub.execute_input": "2024-04-20T11:23:57.121754Z",
     "iopub.status.busy": "2024-04-20T11:23:57.121319Z",
     "iopub.status.idle": "2024-04-20T11:23:57.164030Z",
     "shell.execute_reply": "2024-04-20T11:23:57.162871Z"
    },
    "papermill": {
     "duration": 0.057943,
     "end_time": "2024-04-20T11:23:57.166981",
     "exception": false,
     "start_time": "2024-04-20T11:23:57.109038",
     "status": "completed"
    },
    "tags": []
   },
   "outputs": [],
   "source": [
    "np.random.seed(144)\n",
    "df = df.sample(frac=1).reset_index(drop=True)"
   ]
  },
  {
   "cell_type": "markdown",
   "id": "15e58ec6",
   "metadata": {
    "papermill": {
     "duration": 0.010618,
     "end_time": "2024-04-20T11:23:57.189451",
     "exception": false,
     "start_time": "2024-04-20T11:23:57.178833",
     "status": "completed"
    },
    "tags": []
   },
   "source": [
    "## DEALING WITH MISSING VALUES"
   ]
  },
  {
   "cell_type": "code",
   "execution_count": 6,
   "id": "a02dab9b",
   "metadata": {
    "execution": {
     "iopub.execute_input": "2024-04-20T11:23:57.214192Z",
     "iopub.status.busy": "2024-04-20T11:23:57.213237Z",
     "iopub.status.idle": "2024-04-20T11:23:57.292684Z",
     "shell.execute_reply": "2024-04-20T11:23:57.291907Z"
    },
    "papermill": {
     "duration": 0.094432,
     "end_time": "2024-04-20T11:23:57.294624",
     "exception": false,
     "start_time": "2024-04-20T11:23:57.200192",
     "status": "completed"
    },
    "tags": []
   },
   "outputs": [
    {
     "data": {
      "text/html": [
       "<div>\n",
       "<style scoped>\n",
       "    .dataframe tbody tr th:only-of-type {\n",
       "        vertical-align: middle;\n",
       "    }\n",
       "\n",
       "    .dataframe tbody tr th {\n",
       "        vertical-align: top;\n",
       "    }\n",
       "\n",
       "    .dataframe thead th {\n",
       "        text-align: right;\n",
       "    }\n",
       "</style>\n",
       "<table border=\"1\" class=\"dataframe\">\n",
       "  <thead>\n",
       "    <tr style=\"text-align: right;\">\n",
       "      <th></th>\n",
       "      <th>realSum</th>\n",
       "      <th>person_capacity</th>\n",
       "      <th>multi</th>\n",
       "      <th>biz</th>\n",
       "      <th>cleanliness_rating</th>\n",
       "      <th>guest_satisfaction_overall</th>\n",
       "      <th>bedrooms</th>\n",
       "      <th>dist</th>\n",
       "      <th>metro_dist</th>\n",
       "      <th>attr_index</th>\n",
       "      <th>attr_index_norm</th>\n",
       "      <th>rest_index</th>\n",
       "      <th>rest_index_norm</th>\n",
       "      <th>lng</th>\n",
       "      <th>lat</th>\n",
       "    </tr>\n",
       "  </thead>\n",
       "  <tbody>\n",
       "    <tr>\n",
       "      <th>count</th>\n",
       "      <td>51707.000000</td>\n",
       "      <td>51707.000000</td>\n",
       "      <td>51707.000000</td>\n",
       "      <td>51707.000000</td>\n",
       "      <td>51707.000000</td>\n",
       "      <td>51707.000000</td>\n",
       "      <td>51707.00000</td>\n",
       "      <td>51707.000000</td>\n",
       "      <td>51707.000000</td>\n",
       "      <td>51707.000000</td>\n",
       "      <td>51707.000000</td>\n",
       "      <td>51707.000000</td>\n",
       "      <td>51707.000000</td>\n",
       "      <td>51707.000000</td>\n",
       "      <td>51707.000000</td>\n",
       "    </tr>\n",
       "    <tr>\n",
       "      <th>mean</th>\n",
       "      <td>279.879591</td>\n",
       "      <td>3.161661</td>\n",
       "      <td>0.291353</td>\n",
       "      <td>0.350204</td>\n",
       "      <td>9.390624</td>\n",
       "      <td>92.628232</td>\n",
       "      <td>1.15876</td>\n",
       "      <td>3.191285</td>\n",
       "      <td>0.681540</td>\n",
       "      <td>294.204105</td>\n",
       "      <td>13.423792</td>\n",
       "      <td>626.856696</td>\n",
       "      <td>22.786177</td>\n",
       "      <td>7.426068</td>\n",
       "      <td>45.671128</td>\n",
       "    </tr>\n",
       "    <tr>\n",
       "      <th>std</th>\n",
       "      <td>327.948386</td>\n",
       "      <td>1.298545</td>\n",
       "      <td>0.454390</td>\n",
       "      <td>0.477038</td>\n",
       "      <td>0.954868</td>\n",
       "      <td>8.945531</td>\n",
       "      <td>0.62741</td>\n",
       "      <td>2.393803</td>\n",
       "      <td>0.858023</td>\n",
       "      <td>224.754123</td>\n",
       "      <td>9.807985</td>\n",
       "      <td>497.920226</td>\n",
       "      <td>17.804096</td>\n",
       "      <td>9.799725</td>\n",
       "      <td>5.249263</td>\n",
       "    </tr>\n",
       "    <tr>\n",
       "      <th>min</th>\n",
       "      <td>34.779339</td>\n",
       "      <td>2.000000</td>\n",
       "      <td>0.000000</td>\n",
       "      <td>0.000000</td>\n",
       "      <td>2.000000</td>\n",
       "      <td>20.000000</td>\n",
       "      <td>0.00000</td>\n",
       "      <td>0.015045</td>\n",
       "      <td>0.002301</td>\n",
       "      <td>15.152201</td>\n",
       "      <td>0.926301</td>\n",
       "      <td>19.576924</td>\n",
       "      <td>0.592757</td>\n",
       "      <td>-9.226340</td>\n",
       "      <td>37.953000</td>\n",
       "    </tr>\n",
       "    <tr>\n",
       "      <th>25%</th>\n",
       "      <td>148.752174</td>\n",
       "      <td>2.000000</td>\n",
       "      <td>0.000000</td>\n",
       "      <td>0.000000</td>\n",
       "      <td>9.000000</td>\n",
       "      <td>90.000000</td>\n",
       "      <td>1.00000</td>\n",
       "      <td>1.453142</td>\n",
       "      <td>0.248480</td>\n",
       "      <td>136.797385</td>\n",
       "      <td>6.380926</td>\n",
       "      <td>250.854114</td>\n",
       "      <td>8.751480</td>\n",
       "      <td>-0.072500</td>\n",
       "      <td>41.399510</td>\n",
       "    </tr>\n",
       "    <tr>\n",
       "      <th>50%</th>\n",
       "      <td>211.343089</td>\n",
       "      <td>3.000000</td>\n",
       "      <td>0.000000</td>\n",
       "      <td>0.000000</td>\n",
       "      <td>10.000000</td>\n",
       "      <td>95.000000</td>\n",
       "      <td>1.00000</td>\n",
       "      <td>2.613538</td>\n",
       "      <td>0.413269</td>\n",
       "      <td>234.331748</td>\n",
       "      <td>11.468305</td>\n",
       "      <td>522.052783</td>\n",
       "      <td>17.542238</td>\n",
       "      <td>4.873000</td>\n",
       "      <td>47.506690</td>\n",
       "    </tr>\n",
       "    <tr>\n",
       "      <th>75%</th>\n",
       "      <td>319.694287</td>\n",
       "      <td>4.000000</td>\n",
       "      <td>1.000000</td>\n",
       "      <td>1.000000</td>\n",
       "      <td>10.000000</td>\n",
       "      <td>99.000000</td>\n",
       "      <td>1.00000</td>\n",
       "      <td>4.263077</td>\n",
       "      <td>0.737840</td>\n",
       "      <td>385.756381</td>\n",
       "      <td>17.415082</td>\n",
       "      <td>832.628988</td>\n",
       "      <td>32.964603</td>\n",
       "      <td>13.518825</td>\n",
       "      <td>51.471885</td>\n",
       "    </tr>\n",
       "    <tr>\n",
       "      <th>max</th>\n",
       "      <td>18545.450285</td>\n",
       "      <td>6.000000</td>\n",
       "      <td>1.000000</td>\n",
       "      <td>1.000000</td>\n",
       "      <td>10.000000</td>\n",
       "      <td>100.000000</td>\n",
       "      <td>10.00000</td>\n",
       "      <td>25.284557</td>\n",
       "      <td>14.273577</td>\n",
       "      <td>4513.563486</td>\n",
       "      <td>100.000000</td>\n",
       "      <td>6696.156772</td>\n",
       "      <td>100.000000</td>\n",
       "      <td>23.786020</td>\n",
       "      <td>52.641410</td>\n",
       "    </tr>\n",
       "  </tbody>\n",
       "</table>\n",
       "</div>"
      ],
      "text/plain": [
       "            realSum  person_capacity         multi           biz  \\\n",
       "count  51707.000000     51707.000000  51707.000000  51707.000000   \n",
       "mean     279.879591         3.161661      0.291353      0.350204   \n",
       "std      327.948386         1.298545      0.454390      0.477038   \n",
       "min       34.779339         2.000000      0.000000      0.000000   \n",
       "25%      148.752174         2.000000      0.000000      0.000000   \n",
       "50%      211.343089         3.000000      0.000000      0.000000   \n",
       "75%      319.694287         4.000000      1.000000      1.000000   \n",
       "max    18545.450285         6.000000      1.000000      1.000000   \n",
       "\n",
       "       cleanliness_rating  guest_satisfaction_overall     bedrooms  \\\n",
       "count        51707.000000                51707.000000  51707.00000   \n",
       "mean             9.390624                   92.628232      1.15876   \n",
       "std              0.954868                    8.945531      0.62741   \n",
       "min              2.000000                   20.000000      0.00000   \n",
       "25%              9.000000                   90.000000      1.00000   \n",
       "50%             10.000000                   95.000000      1.00000   \n",
       "75%             10.000000                   99.000000      1.00000   \n",
       "max             10.000000                  100.000000     10.00000   \n",
       "\n",
       "               dist    metro_dist    attr_index  attr_index_norm  \\\n",
       "count  51707.000000  51707.000000  51707.000000     51707.000000   \n",
       "mean       3.191285      0.681540    294.204105        13.423792   \n",
       "std        2.393803      0.858023    224.754123         9.807985   \n",
       "min        0.015045      0.002301     15.152201         0.926301   \n",
       "25%        1.453142      0.248480    136.797385         6.380926   \n",
       "50%        2.613538      0.413269    234.331748        11.468305   \n",
       "75%        4.263077      0.737840    385.756381        17.415082   \n",
       "max       25.284557     14.273577   4513.563486       100.000000   \n",
       "\n",
       "         rest_index  rest_index_norm           lng           lat  \n",
       "count  51707.000000     51707.000000  51707.000000  51707.000000  \n",
       "mean     626.856696        22.786177      7.426068     45.671128  \n",
       "std      497.920226        17.804096      9.799725      5.249263  \n",
       "min       19.576924         0.592757     -9.226340     37.953000  \n",
       "25%      250.854114         8.751480     -0.072500     41.399510  \n",
       "50%      522.052783        17.542238      4.873000     47.506690  \n",
       "75%      832.628988        32.964603     13.518825     51.471885  \n",
       "max     6696.156772       100.000000     23.786020     52.641410  "
      ]
     },
     "execution_count": 6,
     "metadata": {},
     "output_type": "execute_result"
    }
   ],
   "source": [
    "df.describe()"
   ]
  },
  {
   "cell_type": "code",
   "execution_count": 7,
   "id": "733f2f00",
   "metadata": {
    "execution": {
     "iopub.execute_input": "2024-04-20T11:23:57.320398Z",
     "iopub.status.busy": "2024-04-20T11:23:57.319416Z",
     "iopub.status.idle": "2024-04-20T11:23:57.326188Z",
     "shell.execute_reply": "2024-04-20T11:23:57.325170Z"
    },
    "papermill": {
     "duration": 0.022025,
     "end_time": "2024-04-20T11:23:57.328475",
     "exception": false,
     "start_time": "2024-04-20T11:23:57.306450",
     "status": "completed"
    },
    "tags": []
   },
   "outputs": [
    {
     "data": {
      "text/plain": [
       "(51707, 21)"
      ]
     },
     "execution_count": 7,
     "metadata": {},
     "output_type": "execute_result"
    }
   ],
   "source": [
    "df.shape"
   ]
  },
  {
   "cell_type": "code",
   "execution_count": 8,
   "id": "4e828949",
   "metadata": {
    "execution": {
     "iopub.execute_input": "2024-04-20T11:23:57.352650Z",
     "iopub.status.busy": "2024-04-20T11:23:57.351983Z",
     "iopub.status.idle": "2024-04-20T11:23:57.367353Z",
     "shell.execute_reply": "2024-04-20T11:23:57.366251Z"
    },
    "papermill": {
     "duration": 0.030213,
     "end_time": "2024-04-20T11:23:57.369878",
     "exception": false,
     "start_time": "2024-04-20T11:23:57.339665",
     "status": "completed"
    },
    "tags": []
   },
   "outputs": [
    {
     "data": {
      "text/plain": [
       "(51707, 21)"
      ]
     },
     "execution_count": 8,
     "metadata": {},
     "output_type": "execute_result"
    }
   ],
   "source": [
    "df_complete = df.dropna()\n",
    "df_complete.shape"
   ]
  },
  {
   "cell_type": "markdown",
   "id": "254af665",
   "metadata": {
    "papermill": {
     "duration": 0.01113,
     "end_time": "2024-04-20T11:23:57.392903",
     "exception": false,
     "start_time": "2024-04-20T11:23:57.381773",
     "status": "completed"
    },
    "tags": []
   },
   "source": [
    "## FINDING OUTLIERS"
   ]
  },
  {
   "cell_type": "code",
   "execution_count": 9,
   "id": "8e4a2e2a",
   "metadata": {
    "execution": {
     "iopub.execute_input": "2024-04-20T11:23:57.417381Z",
     "iopub.status.busy": "2024-04-20T11:23:57.416192Z",
     "iopub.status.idle": "2024-04-20T11:23:58.040782Z",
     "shell.execute_reply": "2024-04-20T11:23:58.039663Z"
    },
    "papermill": {
     "duration": 0.639344,
     "end_time": "2024-04-20T11:23:58.043374",
     "exception": false,
     "start_time": "2024-04-20T11:23:57.404030",
     "status": "completed"
    },
    "tags": []
   },
   "outputs": [
    {
     "data": {
      "image/png": "[encoded data removed]",
      "text/plain": [
       "<Figure size 900x500 with 2 Axes>"
      ]
     },
     "metadata": {},
     "output_type": "display_data"
    }
   ],
   "source": [
    "fig, axes= plt.subplots(1,2, gridspec_kw={'width_ratios': [1, 4]}, figsize=(9,5))\n",
    "df.boxplot(column='realSum',ax=axes[0]);\n",
    "df.hist(column='realSum', ax=axes[1]);"
   ]
  },
  {
   "cell_type": "code",
   "execution_count": 10,
   "id": "8be7e9eb",
   "metadata": {
    "execution": {
     "iopub.execute_input": "2024-04-20T11:23:58.069044Z",
     "iopub.status.busy": "2024-04-20T11:23:58.068645Z",
     "iopub.status.idle": "2024-04-20T11:23:58.079863Z",
     "shell.execute_reply": "2024-04-20T11:23:58.078922Z"
    },
    "papermill": {
     "duration": 0.027436,
     "end_time": "2024-04-20T11:23:58.082540",
     "exception": false,
     "start_time": "2024-04-20T11:23:58.055104",
     "status": "completed"
    },
    "tags": []
   },
   "outputs": [
    {
     "data": {
      "text/plain": [
       "(148.75217370869953, 319.69428651318856, 170.94211280448903)"
      ]
     },
     "execution_count": 10,
     "metadata": {},
     "output_type": "execute_result"
    }
   ],
   "source": [
    "Q1 = df['realSum'].quantile(0.25)\n",
    "Q3 = df['realSum'].quantile(0.75)\n",
    "IQR = Q3 - Q1\n",
    "\n",
    "Q1, Q3, IQR"
   ]
  },
  {
   "cell_type": "code",
   "execution_count": 11,
   "id": "59d0a582",
   "metadata": {
    "execution": {
     "iopub.execute_input": "2024-04-20T11:23:58.109221Z",
     "iopub.status.busy": "2024-04-20T11:23:58.108567Z",
     "iopub.status.idle": "2024-04-20T11:23:58.124734Z",
     "shell.execute_reply": "2024-04-20T11:23:58.123577Z"
    },
    "papermill": {
     "duration": 0.032266,
     "end_time": "2024-04-20T11:23:58.127117",
     "exception": false,
     "start_time": "2024-04-20T11:23:58.094851",
     "status": "completed"
    },
    "tags": []
   },
   "outputs": [
    {
     "data": {
      "text/plain": [
       "(0, 3662)"
      ]
     },
     "execution_count": 11,
     "metadata": {},
     "output_type": "execute_result"
    }
   ],
   "source": [
    "small_outliers = df['realSum'] < (Q1 - 1.5 * IQR)\n",
    "big_outliers = df['realSum'] > (Q3 + 1.5 * IQR)\n",
    "\n",
    "sum(small_outliers), sum(big_outliers)"
   ]
  },
  {
   "cell_type": "code",
   "execution_count": 12,
   "id": "11834edc",
   "metadata": {
    "execution": {
     "iopub.execute_input": "2024-04-20T11:23:58.153726Z",
     "iopub.status.busy": "2024-04-20T11:23:58.153258Z",
     "iopub.status.idle": "2024-04-20T11:23:58.163620Z",
     "shell.execute_reply": "2024-04-20T11:23:58.162813Z"
    },
    "papermill": {
     "duration": 0.026266,
     "end_time": "2024-04-20T11:23:58.165739",
     "exception": false,
     "start_time": "2024-04-20T11:23:58.139473",
     "status": "completed"
    },
    "tags": []
   },
   "outputs": [
    {
     "data": {
      "text/plain": [
       "60     698.806972\n",
       "66     956.983937\n",
       "83     593.852160\n",
       "95     636.702364\n",
       "99    2311.738714\n",
       "Name: realSum, dtype: float64"
      ]
     },
     "execution_count": 12,
     "metadata": {},
     "output_type": "execute_result"
    }
   ],
   "source": [
    "df['realSum'][small_outliers | big_outliers].head()"
   ]
  },
  {
   "cell_type": "code",
   "execution_count": 13,
   "id": "303b766c",
   "metadata": {
    "execution": {
     "iopub.execute_input": "2024-04-20T11:23:58.192344Z",
     "iopub.status.busy": "2024-04-20T11:23:58.191428Z",
     "iopub.status.idle": "2024-04-20T11:23:58.614749Z",
     "shell.execute_reply": "2024-04-20T11:23:58.613591Z"
    },
    "papermill": {
     "duration": 0.439813,
     "end_time": "2024-04-20T11:23:58.617963",
     "exception": false,
     "start_time": "2024-04-20T11:23:58.178150",
     "status": "completed"
    },
    "tags": []
   },
   "outputs": [
    {
     "data": {
      "image/png": "[encoded data removed]",
      "text/plain": [
       "<Figure size 900x500 with 2 Axes>"
      ]
     },
     "metadata": {},
     "output_type": "display_data"
    }
   ],
   "source": [
    "fig, axes= plt.subplots(1,2, gridspec_kw={'width_ratios': [1, 4]}, figsize=(9,5))\n",
    "df[~(small_outliers | big_outliers)].boxplot(column='realSum',ax=axes[0]);\n",
    "df[~(small_outliers | big_outliers)].hist(column='realSum', ax=axes[1]);"
   ]
  },
  {
   "cell_type": "code",
   "execution_count": 14,
   "id": "d09dd118",
   "metadata": {
    "execution": {
     "iopub.execute_input": "2024-04-20T11:23:58.645802Z",
     "iopub.status.busy": "2024-04-20T11:23:58.645394Z",
     "iopub.status.idle": "2024-04-20T11:23:58.656255Z",
     "shell.execute_reply": "2024-04-20T11:23:58.655182Z"
    },
    "papermill": {
     "duration": 0.027174,
     "end_time": "2024-04-20T11:23:58.658374",
     "exception": false,
     "start_time": "2024-04-20T11:23:58.631200",
     "status": "completed"
    },
    "tags": []
   },
   "outputs": [
    {
     "data": {
      "text/plain": [
       "(48045, 21)"
      ]
     },
     "execution_count": 14,
     "metadata": {},
     "output_type": "execute_result"
    }
   ],
   "source": [
    "df_clean = df[~(small_outliers | big_outliers)]\n",
    "df_clean.shape"
   ]
  },
  {
   "cell_type": "code",
   "execution_count": 15,
   "id": "a0e028b7",
   "metadata": {
    "execution": {
     "iopub.execute_input": "2024-04-20T11:23:58.686141Z",
     "iopub.status.busy": "2024-04-20T11:23:58.685759Z",
     "iopub.status.idle": "2024-04-20T11:23:58.693432Z",
     "shell.execute_reply": "2024-04-20T11:23:58.692592Z"
    },
    "papermill": {
     "duration": 0.02392,
     "end_time": "2024-04-20T11:23:58.695297",
     "exception": false,
     "start_time": "2024-04-20T11:23:58.671377",
     "status": "completed"
    },
    "tags": []
   },
   "outputs": [
    {
     "data": {
      "text/plain": [
       "realSum                       float64\n",
       "room_type                      object\n",
       "room_shared                      bool\n",
       "room_private                     bool\n",
       "person_capacity               float64\n",
       "host_is_superhost                bool\n",
       "multi                           int64\n",
       "biz                             int64\n",
       "cleanliness_rating            float64\n",
       "guest_satisfaction_overall    float64\n",
       "bedrooms                        int64\n",
       "dist                          float64\n",
       "metro_dist                    float64\n",
       "attr_index                    float64\n",
       "attr_index_norm               float64\n",
       "rest_index                    float64\n",
       "rest_index_norm               float64\n",
       "lng                           float64\n",
       "lat                           float64\n",
       "city                           object\n",
       "weekday                          bool\n",
       "dtype: object"
      ]
     },
     "execution_count": 15,
     "metadata": {},
     "output_type": "execute_result"
    }
   ],
   "source": [
    "df_clean.dtypes"
   ]
  },
  {
   "cell_type": "code",
   "execution_count": 16,
   "id": "3aaa9867",
   "metadata": {
    "execution": {
     "iopub.execute_input": "2024-04-20T11:23:58.722801Z",
     "iopub.status.busy": "2024-04-20T11:23:58.721588Z",
     "iopub.status.idle": "2024-04-20T11:23:58.726466Z",
     "shell.execute_reply": "2024-04-20T11:23:58.725459Z"
    },
    "papermill": {
     "duration": 0.020703,
     "end_time": "2024-04-20T11:23:58.728612",
     "exception": false,
     "start_time": "2024-04-20T11:23:58.707909",
     "status": "completed"
    },
    "tags": []
   },
   "outputs": [],
   "source": [
    "# df_clean.to_csv('out.csv', index=False) "
   ]
  },
  {
   "cell_type": "code",
   "execution_count": 17,
   "id": "e3cb6cb6",
   "metadata": {
    "execution": {
     "iopub.execute_input": "2024-04-20T11:23:58.756074Z",
     "iopub.status.busy": "2024-04-20T11:23:58.755643Z",
     "iopub.status.idle": "2024-04-20T11:23:58.867984Z",
     "shell.execute_reply": "2024-04-20T11:23:58.866598Z"
    },
    "papermill": {
     "duration": 0.128844,
     "end_time": "2024-04-20T11:23:58.870303",
     "exception": false,
     "start_time": "2024-04-20T11:23:58.741459",
     "status": "completed"
    },
    "tags": []
   },
   "outputs": [
    {
     "name": "stdout",
     "output_type": "stream",
     "text": [
      "['person_capacity', 'multi', 'biz', 'cleanliness_rating', 'guest_satisfaction_overall', 'bedrooms', 'dist', 'metro_dist', 'attr_index', 'attr_index_norm', 'rest_index', 'rest_index_norm', 'lng', 'lat', 'room_type_Entire home/apt', 'room_type_Private room', 'room_type_Shared room', 'room_shared_False', 'room_shared_True', 'room_private_False', 'room_private_True', 'host_is_superhost_False', 'host_is_superhost_True', 'city_Amsterdam', 'city_Athens', 'city_Barcelona', 'city_Berlin', 'city_Budapest', 'city_Lisbon', 'city_London', 'city_Paris', 'city_Rome', 'city_Vienna', 'weekday_False', 'weekday_True']\n",
      "(48045, 35)\n"
     ]
    }
   ],
   "source": [
    "# Identifying categorical and numerical columns\n",
    "categorical_cols = [col for col in df_clean.columns if df_clean[col].dtype in ['object', 'bool']]\n",
    "numerical_cols = [col for col in df_clean.columns if df_clean[col].dtype in ['int64', 'float64'] and col != 'realSum']\n",
    "\n",
    "# Adjust transformers if necessary\n",
    "categorical_transformer = OneHotEncoder(handle_unknown='ignore')\n",
    "numerical_transformer = StandardScaler()\n",
    "\n",
    "# Update preprocessor\n",
    "preprocessor = ColumnTransformer(\n",
    "    transformers=[\n",
    "        ('num', numerical_transformer, numerical_cols),\n",
    "        ('cat', categorical_transformer, categorical_cols)\n",
    "    ])\n",
    "\n",
    "# Fit and transform the data\n",
    "df_transformed = preprocessor.fit_transform(df_clean.drop('realSum', axis=1))\n",
    "\n",
    "# Check transformed feature names and dimensions\n",
    "transformed_features = preprocessor.transformers_[0][1].get_feature_names_out(numerical_cols).tolist() + \\\n",
    "                       preprocessor.transformers_[1][1].get_feature_names_out(categorical_cols).tolist()\n",
    "\n",
    "print(transformed_features)\n",
    "print(df_transformed.shape)"
   ]
  },
  {
   "cell_type": "markdown",
   "id": "99ca11ea",
   "metadata": {
    "papermill": {
     "duration": 0.071721,
     "end_time": "2024-04-20T11:23:58.955481",
     "exception": false,
     "start_time": "2024-04-20T11:23:58.883760",
     "status": "completed"
    },
    "tags": []
   },
   "source": [
    "# Prepare Training Data"
   ]
  },
  {
   "cell_type": "code",
   "execution_count": 18,
   "id": "3921ac38",
   "metadata": {
    "execution": {
     "iopub.execute_input": "2024-04-20T11:23:58.982760Z",
     "iopub.status.busy": "2024-04-20T11:23:58.982351Z",
     "iopub.status.idle": "2024-04-20T11:23:58.987075Z",
     "shell.execute_reply": "2024-04-20T11:23:58.985994Z"
    },
    "papermill": {
     "duration": 0.020816,
     "end_time": "2024-04-20T11:23:58.989107",
     "exception": false,
     "start_time": "2024-04-20T11:23:58.968291",
     "status": "completed"
    },
    "tags": []
   },
   "outputs": [],
   "source": [
    "# y = df_clean['realSum'].values\n",
    "\n",
    "# # Create Train Data and Test Data\n",
    "# X_train, X_test, y_train, y_test = train_test_split(df_transformed, y, test_size=0.2, random_state=42)\n",
    "# X_train = torch.tensor(X_train, dtype=torch.float32)\n",
    "# X_test = torch.tensor(X_test, dtype=torch.float32)\n",
    "# y_train = torch.tensor(y_train, dtype=torch.float32)\n",
    "# y_test = torch.tensor(y_test, dtype=torch.float32)\n",
    "\n",
    "# # Create DataLoader\n",
    "# train_dataset = TensorDataset(X_train, y_train)\n",
    "# test_dataset = TensorDataset(X_test, y_test)\n",
    "\n",
    "# train_loader = DataLoader(train_dataset, batch_size=64, shuffle=True)\n",
    "# test_loader = DataLoader(test_dataset, batch_size=64, shuffle=False)"
   ]
  },
  {
   "cell_type": "code",
   "execution_count": 19,
   "id": "263d58a2",
   "metadata": {
    "execution": {
     "iopub.execute_input": "2024-04-20T11:23:59.017764Z",
     "iopub.status.busy": "2024-04-20T11:23:59.017338Z",
     "iopub.status.idle": "2024-04-20T11:23:59.080234Z",
     "shell.execute_reply": "2024-04-20T11:23:59.079397Z"
    },
    "papermill": {
     "duration": 0.080082,
     "end_time": "2024-04-20T11:23:59.082564",
     "exception": false,
     "start_time": "2024-04-20T11:23:59.002482",
     "status": "completed"
    },
    "tags": []
   },
   "outputs": [],
   "source": [
    "y = df_clean['realSum'].values\n",
    "\n",
    "# Split Test Data\n",
    "X_train_val, X_test, y_train_val, y_test = train_test_split(df_transformed, y, test_size=0.2, random_state=42)\n",
    "\n",
    "# Split Validation Data\n",
    "X_train, X_val, y_train, y_val = train_test_split(X_train_val, y_train_val, test_size=0.25, random_state=42) \n",
    "\n",
    "train_dataset = TensorDataset(torch.tensor(X_train, dtype=torch.float32), torch.tensor(y_train, dtype=torch.float32))\n",
    "val_dataset = TensorDataset(torch.tensor(X_val, dtype=torch.float32), torch.tensor(y_val, dtype=torch.float32))\n",
    "test_dataset = TensorDataset(torch.tensor(X_test, dtype=torch.float32), torch.tensor(y_test, dtype=torch.float32))\n",
    "\n",
    "train_loader = DataLoader(train_dataset, batch_size=64, shuffle=True)\n",
    "val_loader = DataLoader(val_dataset, batch_size=64, shuffle=False)\n",
    "test_loader = DataLoader(test_dataset, batch_size=64, shuffle=False)"
   ]
  },
  {
   "cell_type": "markdown",
   "id": "b046a294",
   "metadata": {
    "papermill": {
     "duration": 0.012752,
     "end_time": "2024-04-20T11:23:59.108419",
     "exception": false,
     "start_time": "2024-04-20T11:23:59.095667",
     "status": "completed"
    },
    "tags": []
   },
   "source": [
    "# Define SVM Model"
   ]
  },
  {
   "cell_type": "code",
   "execution_count": 20,
   "id": "aa99276b",
   "metadata": {
    "execution": {
     "iopub.execute_input": "2024-04-20T11:23:59.136236Z",
     "iopub.status.busy": "2024-04-20T11:23:59.135599Z",
     "iopub.status.idle": "2024-04-20T11:23:59.141697Z",
     "shell.execute_reply": "2024-04-20T11:23:59.140569Z"
    },
    "papermill": {
     "duration": 0.022275,
     "end_time": "2024-04-20T11:23:59.143659",
     "exception": false,
     "start_time": "2024-04-20T11:23:59.121384",
     "status": "completed"
    },
    "tags": []
   },
   "outputs": [
    {
     "name": "stdout",
     "output_type": "stream",
     "text": [
      "Using cpu device\n"
     ]
    }
   ],
   "source": [
    "device = (\n",
    "    \"cuda\"\n",
    "    if torch.cuda.is_available()\n",
    "    else \"mps\"\n",
    "    if torch.backends.mps.is_available()\n",
    "    else \"cpu\"\n",
    ")\n",
    "print(f\"Using {device} device\")"
   ]
  },
  {
   "cell_type": "code",
   "execution_count": 21,
   "id": "d6abdaa9",
   "metadata": {
    "execution": {
     "iopub.execute_input": "2024-04-20T11:23:59.171126Z",
     "iopub.status.busy": "2024-04-20T11:23:59.170466Z",
     "iopub.status.idle": "2024-04-20T11:23:59.176114Z",
     "shell.execute_reply": "2024-04-20T11:23:59.175342Z"
    },
    "papermill": {
     "duration": 0.021781,
     "end_time": "2024-04-20T11:23:59.178141",
     "exception": false,
     "start_time": "2024-04-20T11:23:59.156360",
     "status": "completed"
    },
    "tags": []
   },
   "outputs": [],
   "source": [
    "class SVR(nn.Module):\n",
    "    def __init__(self, n_features):\n",
    "        super(SVR, self).__init__()\n",
    "        self.linear = nn.Linear(n_features, 1)\n",
    "\n",
    "    def forward(self, x):\n",
    "        return self.linear(x)"
   ]
  },
  {
   "cell_type": "code",
   "execution_count": 22,
   "id": "642b05f3",
   "metadata": {
    "execution": {
     "iopub.execute_input": "2024-04-20T11:23:59.205714Z",
     "iopub.status.busy": "2024-04-20T11:23:59.205293Z",
     "iopub.status.idle": "2024-04-20T11:23:59.210464Z",
     "shell.execute_reply": "2024-04-20T11:23:59.209401Z"
    },
    "papermill": {
     "duration": 0.021646,
     "end_time": "2024-04-20T11:23:59.212694",
     "exception": false,
     "start_time": "2024-04-20T11:23:59.191048",
     "status": "completed"
    },
    "tags": []
   },
   "outputs": [],
   "source": [
    "def epsilon_insensitive_loss(outputs, targets, epsilon=0.1):\n",
    "    errors = torch.abs(targets - outputs.squeeze())\n",
    "\n",
    "    loss = torch.mean(torch.max(errors - epsilon, torch.zeros_like(errors)))\n",
    "    return loss"
   ]
  },
  {
   "cell_type": "code",
   "execution_count": 23,
   "id": "13d57a56",
   "metadata": {
    "execution": {
     "iopub.execute_input": "2024-04-20T11:23:59.240578Z",
     "iopub.status.busy": "2024-04-20T11:23:59.240151Z",
     "iopub.status.idle": "2024-04-20T11:23:59.264771Z",
     "shell.execute_reply": "2024-04-20T11:23:59.263338Z"
    },
    "papermill": {
     "duration": 0.041422,
     "end_time": "2024-04-20T11:23:59.267205",
     "exception": false,
     "start_time": "2024-04-20T11:23:59.225783",
     "status": "completed"
    },
    "tags": []
   },
   "outputs": [
    {
     "name": "stdout",
     "output_type": "stream",
     "text": [
      "SVR(\n",
      "  (linear): Linear(in_features=35, out_features=1, bias=True)\n",
      ")\n"
     ]
    }
   ],
   "source": [
    "model = SVR(X_train.shape[1]).to(device)\n",
    "print(model)"
   ]
  },
  {
   "cell_type": "code",
   "execution_count": 24,
   "id": "b86c1461",
   "metadata": {
    "execution": {
     "iopub.execute_input": "2024-04-20T11:23:59.295437Z",
     "iopub.status.busy": "2024-04-20T11:23:59.295052Z",
     "iopub.status.idle": "2024-04-20T11:24:01.922585Z",
     "shell.execute_reply": "2024-04-20T11:24:01.921473Z"
    },
    "papermill": {
     "duration": 2.645167,
     "end_time": "2024-04-20T11:24:01.925543",
     "exception": false,
     "start_time": "2024-04-20T11:23:59.280376",
     "status": "completed"
    },
    "tags": []
   },
   "outputs": [],
   "source": [
    "optimizer = torch.optim.SGD(model.parameters(), lr=0.01, weight_decay=0.01)"
   ]
  },
  {
   "cell_type": "code",
   "execution_count": 25,
   "id": "b212f35f",
   "metadata": {
    "execution": {
     "iopub.execute_input": "2024-04-20T11:24:01.955849Z",
     "iopub.status.busy": "2024-04-20T11:24:01.955206Z",
     "iopub.status.idle": "2024-04-20T11:24:01.963666Z",
     "shell.execute_reply": "2024-04-20T11:24:01.962573Z"
    },
    "papermill": {
     "duration": 0.026975,
     "end_time": "2024-04-20T11:24:01.966116",
     "exception": false,
     "start_time": "2024-04-20T11:24:01.939141",
     "status": "completed"
    },
    "tags": []
   },
   "outputs": [],
   "source": [
    "class EarlyStopping:\n",
    "    def __init__(self, patience=10, verbose=False, delta=0.0001):  \n",
    "        self.patience = patience\n",
    "        self.verbose = verbose\n",
    "        self.delta = delta\n",
    "        self.reset()\n",
    "\n",
    "    def reset(self):\n",
    "        self.best_score = None\n",
    "        self.epochs_no_improve = 0\n",
    "        self.early_stop = False\n",
    "\n",
    "    def __call__(self, val_loss):\n",
    "        score = -val_loss\n",
    "        if self.best_score is None:\n",
    "            self.best_score = score\n",
    "        elif score < self.best_score - self.delta:  \n",
    "            self.epochs_no_improve += 1\n",
    "            if self.epochs_no_improve >= self.patience:\n",
    "                self.early_stop = True\n",
    "                if self.verbose:\n",
    "                    print(\"Early stopping triggered\")\n",
    "        else:\n",
    "            self.best_score = score\n",
    "            self.epochs_no_improve = 0"
   ]
  },
  {
   "cell_type": "markdown",
   "id": "c1d2cef0",
   "metadata": {
    "papermill": {
     "duration": 0.01321,
     "end_time": "2024-04-20T11:24:01.992537",
     "exception": false,
     "start_time": "2024-04-20T11:24:01.979327",
     "status": "completed"
    },
    "tags": []
   },
   "source": [
    "# Model Training"
   ]
  },
  {
   "cell_type": "code",
   "execution_count": 26,
   "id": "28d9ff1c",
   "metadata": {
    "execution": {
     "iopub.execute_input": "2024-04-20T11:24:02.020592Z",
     "iopub.status.busy": "2024-04-20T11:24:02.019987Z",
     "iopub.status.idle": "2024-04-20T11:24:02.024880Z",
     "shell.execute_reply": "2024-04-20T11:24:02.023919Z"
    },
    "papermill": {
     "duration": 0.021508,
     "end_time": "2024-04-20T11:24:02.027033",
     "exception": false,
     "start_time": "2024-04-20T11:24:02.005525",
     "status": "completed"
    },
    "tags": []
   },
   "outputs": [],
   "source": [
    "# def train_model(model, train_loader, epochs=1000, epsilon=0.1):\n",
    "#     model.train() \n",
    "#     for epoch in range(epochs):\n",
    "#         total_loss = 0 \n",
    "#         for data, target in train_loader:\n",
    "#             optimizer.zero_grad()\n",
    "#             output = model(data)\n",
    "#             loss = epsilon_insensitive_loss(output, target, epsilon)\n",
    "#             loss.backward()  \n",
    "#             optimizer.step() \n",
    "#             total_loss += loss.item() \n",
    "#         if (epoch + 1) % 10 == 0:\n",
    "#             average_loss = total_loss / len(train_loader)\n",
    "#             print(f'Epoch {epoch+1}, Average Loss: {average_loss}')"
   ]
  },
  {
   "cell_type": "code",
   "execution_count": 27,
   "id": "e4e952db",
   "metadata": {
    "execution": {
     "iopub.execute_input": "2024-04-20T11:24:02.055077Z",
     "iopub.status.busy": "2024-04-20T11:24:02.054719Z",
     "iopub.status.idle": "2024-04-20T11:24:02.062640Z",
     "shell.execute_reply": "2024-04-20T11:24:02.061303Z"
    },
    "papermill": {
     "duration": 0.024732,
     "end_time": "2024-04-20T11:24:02.064863",
     "exception": false,
     "start_time": "2024-04-20T11:24:02.040131",
     "status": "completed"
    },
    "tags": []
   },
   "outputs": [],
   "source": [
    "def train_model(model, train_loader, val_loader, optimizer, epochs=float('inf'), epsilon=0.1):\n",
    "    early_stopping = EarlyStopping(patience=10, verbose=True)\n",
    "    \n",
    "    epoch = 0\n",
    "    while not early_stopping.early_stop and epoch < epochs:\n",
    "        model.train()\n",
    "        for data, target in train_loader:\n",
    "            optimizer.zero_grad()\n",
    "            output = model(data)\n",
    "            loss = epsilon_insensitive_loss(output, target, epsilon)\n",
    "            loss.backward()\n",
    "            optimizer.step()\n",
    "\n",
    "        model.eval()\n",
    "        val_loss = 0\n",
    "        with torch.no_grad():\n",
    "            for data, target in val_loader:\n",
    "                output = model(data)\n",
    "                val_loss += epsilon_insensitive_loss(output, target, epsilon).item()\n",
    "        val_loss /= len(val_loader)\n",
    "\n",
    "        print(f'Epoch {epoch+1}, Validation Loss: {val_loss}')\n",
    "        early_stopping(val_loss)\n",
    "        \n",
    "        epoch += 1\n",
    "\n",
    "    if epoch >= epochs:\n",
    "        print(\"Reached maximum number of epochs\")"
   ]
  },
  {
   "cell_type": "code",
   "execution_count": 28,
   "id": "9cc62bb6",
   "metadata": {
    "execution": {
     "iopub.execute_input": "2024-04-20T11:24:02.094384Z",
     "iopub.status.busy": "2024-04-20T11:24:02.093647Z",
     "iopub.status.idle": "2024-04-20T11:25:11.426202Z",
     "shell.execute_reply": "2024-04-20T11:25:11.424848Z"
    },
    "papermill": {
     "duration": 69.349736,
     "end_time": "2024-04-20T11:25:11.428531",
     "exception": false,
     "start_time": "2024-04-20T11:24:02.078795",
     "status": "completed"
    },
    "tags": []
   },
   "outputs": [
    {
     "name": "stdout",
     "output_type": "stream",
     "text": [
      "Epoch 1, Validation Loss: 209.1272280863579\n",
      "Epoch 2, Validation Loss: 191.12166661142513\n",
      "Epoch 3, Validation Loss: 173.93699150843335\n",
      "Epoch 4, Validation Loss: 157.7535958700622\n",
      "Epoch 5, Validation Loss: 143.08150042603347\n",
      "Epoch 6, Validation Loss: 130.3273138589417\n",
      "Epoch 7, Validation Loss: 119.68621548280021\n",
      "Epoch 8, Validation Loss: 111.0202342153385\n",
      "Epoch 9, Validation Loss: 104.1133569881616\n",
      "Epoch 10, Validation Loss: 98.658717831239\n",
      "Epoch 11, Validation Loss: 94.3116586950441\n",
      "Epoch 12, Validation Loss: 90.8722904028482\n",
      "Epoch 13, Validation Loss: 88.1068482304251\n",
      "Epoch 14, Validation Loss: 85.89952158138452\n",
      "Epoch 15, Validation Loss: 84.09474813701301\n",
      "Epoch 16, Validation Loss: 82.60756387773729\n",
      "Epoch 17, Validation Loss: 81.37797912698707\n",
      "Epoch 18, Validation Loss: 80.34305044515243\n",
      "Epoch 19, Validation Loss: 79.46537202241404\n",
      "Epoch 20, Validation Loss: 78.71115771666268\n",
      "Epoch 21, Validation Loss: 78.05955800946974\n",
      "Epoch 22, Validation Loss: 77.49288235594895\n",
      "Epoch 23, Validation Loss: 77.00435810215426\n",
      "Epoch 24, Validation Loss: 76.57746518368752\n",
      "Epoch 25, Validation Loss: 76.18925400285531\n",
      "Epoch 26, Validation Loss: 75.85146549048014\n",
      "Epoch 27, Validation Loss: 75.54871214304539\n",
      "Epoch 28, Validation Loss: 75.26685646511861\n",
      "Epoch 29, Validation Loss: 75.01765985046791\n",
      "Epoch 30, Validation Loss: 74.78843269600773\n",
      "Epoch 31, Validation Loss: 74.58572562009293\n",
      "Epoch 32, Validation Loss: 74.41002907658255\n",
      "Epoch 33, Validation Loss: 74.24346148257224\n",
      "Epoch 34, Validation Loss: 74.092075928947\n",
      "Epoch 35, Validation Loss: 73.95182769977494\n",
      "Epoch 36, Validation Loss: 73.82730532008291\n",
      "Epoch 37, Validation Loss: 73.71570112215763\n",
      "Epoch 38, Validation Loss: 73.60893406141673\n",
      "Epoch 39, Validation Loss: 73.50707368661236\n",
      "Epoch 40, Validation Loss: 73.42480271699412\n",
      "Epoch 41, Validation Loss: 73.35083687384397\n",
      "Epoch 42, Validation Loss: 73.28427823805652\n",
      "Epoch 43, Validation Loss: 73.22531059719869\n",
      "Epoch 44, Validation Loss: 73.15858055266324\n",
      "Epoch 45, Validation Loss: 73.10769014169048\n",
      "Epoch 46, Validation Loss: 73.07026354050794\n",
      "Epoch 47, Validation Loss: 73.02152340617401\n",
      "Epoch 48, Validation Loss: 72.9840779336083\n",
      "Epoch 49, Validation Loss: 72.94557834145249\n",
      "Epoch 50, Validation Loss: 72.90282687761926\n",
      "Epoch 51, Validation Loss: 72.87305794014836\n",
      "Epoch 52, Validation Loss: 72.84586751066297\n",
      "Epoch 53, Validation Loss: 72.81625777996139\n",
      "Epoch 54, Validation Loss: 72.79006399697815\n",
      "Epoch 55, Validation Loss: 72.76707890491612\n",
      "Epoch 56, Validation Loss: 72.74402972088744\n",
      "Epoch 57, Validation Loss: 72.71765839027253\n",
      "Epoch 58, Validation Loss: 72.69837234193916\n",
      "Epoch 59, Validation Loss: 72.68701480082329\n",
      "Epoch 60, Validation Loss: 72.66744292808684\n",
      "Epoch 61, Validation Loss: 72.64787143429383\n",
      "Epoch 62, Validation Loss: 72.63600125849642\n",
      "Epoch 63, Validation Loss: 72.62099368366974\n",
      "Epoch 64, Validation Loss: 72.60592499789813\n",
      "Epoch 65, Validation Loss: 72.5953759704994\n",
      "Epoch 66, Validation Loss: 72.5856007961248\n",
      "Epoch 67, Validation Loss: 72.5738753767203\n",
      "Epoch 68, Validation Loss: 72.56542713594753\n",
      "Epoch 69, Validation Loss: 72.55495139620952\n",
      "Epoch 70, Validation Loss: 72.54952901878104\n",
      "Epoch 71, Validation Loss: 72.5381689261127\n",
      "Epoch 72, Validation Loss: 72.53295390653294\n",
      "Epoch 73, Validation Loss: 72.52636574751494\n",
      "Epoch 74, Validation Loss: 72.51851338266538\n",
      "Epoch 75, Validation Loss: 72.51365272572498\n",
      "Epoch 76, Validation Loss: 72.5026626839543\n",
      "Epoch 77, Validation Loss: 72.4958333400701\n",
      "Epoch 78, Validation Loss: 72.49071189425639\n",
      "Epoch 79, Validation Loss: 72.48609775265321\n",
      "Epoch 80, Validation Loss: 72.4852488183028\n",
      "Epoch 81, Validation Loss: 72.4797230903676\n",
      "Epoch 82, Validation Loss: 72.47680595852681\n",
      "Epoch 83, Validation Loss: 72.47513148326748\n",
      "Epoch 84, Validation Loss: 72.47141877231219\n",
      "Epoch 85, Validation Loss: 72.47516551238812\n",
      "Epoch 86, Validation Loss: 72.46463187009293\n",
      "Epoch 87, Validation Loss: 72.45541338889015\n",
      "Epoch 88, Validation Loss: 72.45787907278302\n",
      "Epoch 89, Validation Loss: 72.45689076303647\n",
      "Epoch 90, Validation Loss: 72.45096396136758\n",
      "Epoch 91, Validation Loss: 72.44716058187927\n",
      "Epoch 92, Validation Loss: 72.44672628743758\n",
      "Epoch 93, Validation Loss: 72.44466776563631\n",
      "Epoch 94, Validation Loss: 72.447423214944\n",
      "Epoch 95, Validation Loss: 72.43493849394338\n",
      "Epoch 96, Validation Loss: 72.43740112102584\n",
      "Epoch 97, Validation Loss: 72.43237415844241\n",
      "Epoch 98, Validation Loss: 72.42338064332671\n",
      "Epoch 99, Validation Loss: 72.42181856269079\n",
      "Epoch 100, Validation Loss: 72.42551351383032\n",
      "Epoch 101, Validation Loss: 72.43185432383557\n",
      "Epoch 102, Validation Loss: 72.43385989460724\n",
      "Epoch 103, Validation Loss: 72.42792425092482\n",
      "Epoch 104, Validation Loss: 72.42255639082549\n",
      "Epoch 105, Validation Loss: 72.42391144203035\n",
      "Epoch 106, Validation Loss: 72.42511850319161\n",
      "Epoch 107, Validation Loss: 72.4243591005439\n",
      "Epoch 108, Validation Loss: 72.42323859006363\n",
      "Epoch 109, Validation Loss: 72.4211714030891\n",
      "Epoch 110, Validation Loss: 72.41513657727778\n",
      "Epoch 111, Validation Loss: 72.41893540944484\n",
      "Epoch 112, Validation Loss: 72.42243457314194\n",
      "Epoch 113, Validation Loss: 72.42106653680865\n",
      "Epoch 114, Validation Loss: 72.41821746320915\n",
      "Epoch 115, Validation Loss: 72.4159578992831\n",
      "Epoch 116, Validation Loss: 72.41625398042186\n",
      "Epoch 117, Validation Loss: 72.4207775545436\n",
      "Epoch 118, Validation Loss: 72.42067988818845\n",
      "Epoch 119, Validation Loss: 72.41918722999017\n",
      "Epoch 120, Validation Loss: 72.42031602670025\n",
      "Early stopping triggered\n"
     ]
    }
   ],
   "source": [
    "train_model(model, train_loader, val_loader, optimizer)"
   ]
  },
  {
   "cell_type": "markdown",
   "id": "7ab68d94",
   "metadata": {
    "papermill": {
     "duration": 0.020212,
     "end_time": "2024-04-20T11:25:11.469558",
     "exception": false,
     "start_time": "2024-04-20T11:25:11.449346",
     "status": "completed"
    },
    "tags": []
   },
   "source": [
    "# Test Results"
   ]
  },
  {
   "cell_type": "code",
   "execution_count": 29,
   "id": "99a6b3d8",
   "metadata": {
    "execution": {
     "iopub.execute_input": "2024-04-20T11:25:11.513676Z",
     "iopub.status.busy": "2024-04-20T11:25:11.513258Z",
     "iopub.status.idle": "2024-04-20T11:25:11.520054Z",
     "shell.execute_reply": "2024-04-20T11:25:11.518527Z"
    },
    "papermill": {
     "duration": 0.031715,
     "end_time": "2024-04-20T11:25:11.522483",
     "exception": false,
     "start_time": "2024-04-20T11:25:11.490768",
     "status": "completed"
    },
    "tags": []
   },
   "outputs": [],
   "source": [
    "def predict(model, test_loader):\n",
    "    model.eval() \n",
    "    predictions = []\n",
    "    with torch.no_grad():  \n",
    "        for data in test_loader:\n",
    "            inputs = data[0]\n",
    "            outputs = model(inputs)\n",
    "            predictions.append(outputs)\n",
    "\n",
    "    predictions = torch.cat(predictions).view(-1)\n",
    "    return predictions"
   ]
  },
  {
   "cell_type": "code",
   "execution_count": 30,
   "id": "bdd393e0",
   "metadata": {
    "execution": {
     "iopub.execute_input": "2024-04-20T11:25:11.565425Z",
     "iopub.status.busy": "2024-04-20T11:25:11.564460Z",
     "iopub.status.idle": "2024-04-20T11:25:11.651828Z",
     "shell.execute_reply": "2024-04-20T11:25:11.650693Z"
    },
    "papermill": {
     "duration": 0.111498,
     "end_time": "2024-04-20T11:25:11.654368",
     "exception": false,
     "start_time": "2024-04-20T11:25:11.542870",
     "status": "completed"
    },
    "tags": []
   },
   "outputs": [],
   "source": [
    "model_predictions = predict(model, test_loader)"
   ]
  },
  {
   "cell_type": "code",
   "execution_count": 31,
   "id": "7e8e66e7",
   "metadata": {
    "execution": {
     "iopub.execute_input": "2024-04-20T11:25:11.699458Z",
     "iopub.status.busy": "2024-04-20T11:25:11.699085Z",
     "iopub.status.idle": "2024-04-20T11:25:11.704868Z",
     "shell.execute_reply": "2024-04-20T11:25:11.703731Z"
    },
    "papermill": {
     "duration": 0.031183,
     "end_time": "2024-04-20T11:25:11.707166",
     "exception": false,
     "start_time": "2024-04-20T11:25:11.675983",
     "status": "completed"
    },
    "tags": []
   },
   "outputs": [
    {
     "name": "stdout",
     "output_type": "stream",
     "text": [
      "Sample predictions: [119.68128  182.25842  148.37506  138.70702  135.80641  114.41559\n",
      " 209.718    189.7613   196.99117  122.553055]\n"
     ]
    }
   ],
   "source": [
    "predictions_np = model_predictions.numpy()\n",
    "print(\"Sample predictions:\", predictions_np[:10])"
   ]
  },
  {
   "cell_type": "code",
   "execution_count": 32,
   "id": "19cd96da",
   "metadata": {
    "execution": {
     "iopub.execute_input": "2024-04-20T11:25:11.750914Z",
     "iopub.status.busy": "2024-04-20T11:25:11.750546Z",
     "iopub.status.idle": "2024-04-20T11:25:11.756119Z",
     "shell.execute_reply": "2024-04-20T11:25:11.754974Z"
    },
    "papermill": {
     "duration": 0.030143,
     "end_time": "2024-04-20T11:25:11.758403",
     "exception": false,
     "start_time": "2024-04-20T11:25:11.728260",
     "status": "completed"
    },
    "tags": []
   },
   "outputs": [],
   "source": [
    "# Define MSE & MAE\n",
    "def mean_squared_error(predictions, targets):\n",
    "    return ((predictions - targets) ** 2).mean()\n",
    "\n",
    "def mean_absolute_error(predictions, targets):\n",
    "    return torch.abs(predictions - targets).mean()"
   ]
  },
  {
   "cell_type": "code",
   "execution_count": 33,
   "id": "e97e0716",
   "metadata": {
    "execution": {
     "iopub.execute_input": "2024-04-20T11:25:11.802184Z",
     "iopub.status.busy": "2024-04-20T11:25:11.801825Z",
     "iopub.status.idle": "2024-04-20T11:25:11.808604Z",
     "shell.execute_reply": "2024-04-20T11:25:11.807269Z"
    },
    "papermill": {
     "duration": 0.031509,
     "end_time": "2024-04-20T11:25:11.810757",
     "exception": false,
     "start_time": "2024-04-20T11:25:11.779248",
     "status": "completed"
    },
    "tags": []
   },
   "outputs": [],
   "source": [
    "def evaluate_model(model, test_loader):\n",
    "    model.eval() \n",
    "    predictions, actuals = [], []\n",
    "    with torch.no_grad():  \n",
    "        for data, target in test_loader:\n",
    "            output = model(data)\n",
    "            predictions.append(output)\n",
    "            actuals.append(target)\n",
    "    \n",
    "    predictions = torch.cat(predictions).view(-1)\n",
    "    actuals = torch.cat(actuals).view(-1)\n",
    "    \n",
    "    mse = mean_squared_error(predictions, actuals)\n",
    "    mae = mean_absolute_error(predictions, actuals)\n",
    "    print(f'Mean Squared Error: {mse.item()}')\n",
    "    print(f'Mean Absolute Error: {mae.item()}')\n",
    "\n",
    "    return mse, mae"
   ]
  },
  {
   "cell_type": "code",
   "execution_count": 34,
   "id": "63131117",
   "metadata": {
    "execution": {
     "iopub.execute_input": "2024-04-20T11:25:11.855036Z",
     "iopub.status.busy": "2024-04-20T11:25:11.854520Z",
     "iopub.status.idle": "2024-04-20T11:25:11.963680Z",
     "shell.execute_reply": "2024-04-20T11:25:11.962550Z"
    },
    "papermill": {
     "duration": 0.134457,
     "end_time": "2024-04-20T11:25:11.966150",
     "exception": false,
     "start_time": "2024-04-20T11:25:11.831693",
     "status": "completed"
    },
    "tags": []
   },
   "outputs": [
    {
     "name": "stdout",
     "output_type": "stream",
     "text": [
      "Mean Squared Error: 11318.3388671875\n",
      "Mean Absolute Error: 72.42179107666016\n"
     ]
    },
    {
     "data": {
      "text/plain": [
       "(tensor(11318.3389), tensor(72.4218))"
      ]
     },
     "execution_count": 34,
     "metadata": {},
     "output_type": "execute_result"
    }
   ],
   "source": [
    "evaluate_model(model, test_loader)"
   ]
  },
  {
   "cell_type": "markdown",
   "id": "0c36cc62",
   "metadata": {
    "papermill": {
     "duration": 0.02051,
     "end_time": "2024-04-20T11:25:12.007691",
     "exception": false,
     "start_time": "2024-04-20T11:25:11.987181",
     "status": "completed"
    },
    "tags": []
   },
   "source": [
    "# Define *MLP* Model"
   ]
  },
  {
   "cell_type": "code",
   "execution_count": 35,
   "id": "4ef0b852",
   "metadata": {
    "execution": {
     "iopub.execute_input": "2024-04-20T11:25:12.051271Z",
     "iopub.status.busy": "2024-04-20T11:25:12.050891Z",
     "iopub.status.idle": "2024-04-20T11:25:12.058570Z",
     "shell.execute_reply": "2024-04-20T11:25:12.057297Z"
    },
    "papermill": {
     "duration": 0.032141,
     "end_time": "2024-04-20T11:25:12.060544",
     "exception": false,
     "start_time": "2024-04-20T11:25:12.028403",
     "status": "completed"
    },
    "tags": []
   },
   "outputs": [],
   "source": [
    "class MLP(nn.Module):\n",
    "    def __init__(self, input_dim):\n",
    "        super(MLP, self).__init__()\n",
    "        self.fc1 = nn.Linear(input_dim, 128)\n",
    "        self.relu1 = nn.ReLU()\n",
    "        self.fc2 = nn.Linear(128, 64)\n",
    "        self.relu2 = nn.ReLU()\n",
    "        self.fc3 = nn.Linear(64, 32)\n",
    "        self.relu3 = nn.ReLU()\n",
    "        self.output = nn.Linear(32, 1)\n",
    "\n",
    "    def forward(self, x):\n",
    "        x = self.relu1(self.fc1(x))\n",
    "        x = self.relu2(self.fc2(x))\n",
    "        x = self.relu3(self.fc3(x))\n",
    "        x = self.output(x)\n",
    "        return x"
   ]
  },
  {
   "cell_type": "code",
   "execution_count": 36,
   "id": "020da82c",
   "metadata": {
    "execution": {
     "iopub.execute_input": "2024-04-20T11:25:12.103367Z",
     "iopub.status.busy": "2024-04-20T11:25:12.102991Z",
     "iopub.status.idle": "2024-04-20T11:25:12.109821Z",
     "shell.execute_reply": "2024-04-20T11:25:12.108993Z"
    },
    "papermill": {
     "duration": 0.030833,
     "end_time": "2024-04-20T11:25:12.112036",
     "exception": false,
     "start_time": "2024-04-20T11:25:12.081203",
     "status": "completed"
    },
    "tags": []
   },
   "outputs": [],
   "source": [
    "model = MLP(input_dim=X_train.shape[1])\n",
    "criterion = nn.MSELoss()\n",
    "optimizer = optim.Adam(model.parameters(), lr=0.001)"
   ]
  },
  {
   "cell_type": "code",
   "execution_count": 37,
   "id": "0db1dbac",
   "metadata": {
    "execution": {
     "iopub.execute_input": "2024-04-20T11:25:12.155878Z",
     "iopub.status.busy": "2024-04-20T11:25:12.155470Z",
     "iopub.status.idle": "2024-04-20T11:26:05.110092Z",
     "shell.execute_reply": "2024-04-20T11:26:05.108060Z"
    },
    "papermill": {
     "duration": 52.979023,
     "end_time": "2024-04-20T11:26:05.112451",
     "exception": false,
     "start_time": "2024-04-20T11:25:12.133428",
     "status": "completed"
    },
    "tags": []
   },
   "outputs": [
    {
     "name": "stdout",
     "output_type": "stream",
     "text": [
      "Epoch 1, Loss: 6480.85595703125, Validation Loss: 5168.005996805153\n",
      "Epoch 2, Loss: 5902.5068359375, Validation Loss: 4723.544486948986\n",
      "Epoch 3, Loss: 3335.056640625, Validation Loss: 4643.811956746688\n",
      "Epoch 4, Loss: 2263.846435546875, Validation Loss: 4517.194213058775\n",
      "Epoch 5, Loss: 8819.833984375, Validation Loss: 4445.48815675445\n",
      "Epoch 6, Loss: 8806.80078125, Validation Loss: 4510.25633553006\n",
      "Epoch 7, Loss: 4846.251953125, Validation Loss: 4389.894430198417\n",
      "Epoch 8, Loss: 2479.7177734375, Validation Loss: 4405.803833816225\n",
      "Epoch 9, Loss: 9660.3076171875, Validation Loss: 4372.385295943709\n",
      "Epoch 10, Loss: 2911.0966796875, Validation Loss: 4348.269739012055\n",
      "Epoch 11, Loss: 6082.10888671875, Validation Loss: 4327.134414773903\n",
      "Epoch 12, Loss: 1967.8328857421875, Validation Loss: 4355.553078758796\n",
      "Epoch 13, Loss: 7563.935546875, Validation Loss: 4337.146639590232\n",
      "Epoch 14, Loss: 3482.945068359375, Validation Loss: 4282.863642610461\n",
      "Epoch 15, Loss: 6188.62890625, Validation Loss: 4287.06826236548\n",
      "Epoch 16, Loss: 3110.010009765625, Validation Loss: 4271.588217223717\n",
      "Epoch 17, Loss: 9774.7275390625, Validation Loss: 4251.7926219409665\n",
      "Epoch 18, Loss: 3499.520751953125, Validation Loss: 4247.580638354977\n",
      "Epoch 19, Loss: 3304.8701171875, Validation Loss: 4294.427116747724\n",
      "Epoch 20, Loss: 4955.48486328125, Validation Loss: 4286.697664980857\n",
      "Epoch 21, Loss: 5215.49267578125, Validation Loss: 4267.173946153249\n",
      "Epoch 22, Loss: 3032.19677734375, Validation Loss: 4216.149463375673\n",
      "Epoch 23, Loss: 6163.80078125, Validation Loss: 4221.5558475721755\n",
      "Epoch 24, Loss: 2117.177001953125, Validation Loss: 4215.825594668357\n",
      "Epoch 25, Loss: 2753.112060546875, Validation Loss: 4211.503419585575\n",
      "Epoch 26, Loss: 7231.85400390625, Validation Loss: 4229.880255490739\n",
      "Epoch 27, Loss: 5127.1376953125, Validation Loss: 4303.579184829005\n",
      "Epoch 28, Loss: 2618.08642578125, Validation Loss: 4185.73423837826\n",
      "Epoch 29, Loss: 2591.541015625, Validation Loss: 4351.761371132554\n",
      "Epoch 30, Loss: 2261.464599609375, Validation Loss: 4190.984820435378\n",
      "Epoch 31, Loss: 4182.580078125, Validation Loss: 4169.784601678912\n",
      "Epoch 32, Loss: 4829.85400390625, Validation Loss: 4164.363140586196\n",
      "Epoch 33, Loss: 4956.568359375, Validation Loss: 4141.582090264124\n",
      "Epoch 34, Loss: 4022.474853515625, Validation Loss: 4166.959103211661\n",
      "Epoch 35, Loss: 4716.21435546875, Validation Loss: 4178.415628395333\n",
      "Epoch 36, Loss: 3265.390625, Validation Loss: 4164.294310715025\n",
      "Epoch 37, Loss: 3072.731201171875, Validation Loss: 4133.131640301635\n",
      "Epoch 38, Loss: 4382.34423828125, Validation Loss: 4152.6162222552775\n",
      "Epoch 39, Loss: 7876.61767578125, Validation Loss: 4225.655532937965\n",
      "Epoch 40, Loss: 4234.09716796875, Validation Loss: 4124.984600547134\n",
      "Epoch 41, Loss: 2013.417236328125, Validation Loss: 4124.137054241256\n",
      "Epoch 42, Loss: 3538.895263671875, Validation Loss: 4130.592306174979\n",
      "Epoch 43, Loss: 2141.704833984375, Validation Loss: 4141.944504087334\n",
      "Epoch 44, Loss: 3164.3720703125, Validation Loss: 4119.520266097113\n",
      "Epoch 45, Loss: 11485.33984375, Validation Loss: 4102.538386667012\n",
      "Epoch 46, Loss: 4621.35302734375, Validation Loss: 4157.249469681291\n",
      "Epoch 47, Loss: 2936.87060546875, Validation Loss: 4095.4229889926532\n",
      "Epoch 48, Loss: 2973.118896484375, Validation Loss: 4100.960168699555\n",
      "Epoch 49, Loss: 5516.07470703125, Validation Loss: 4076.8259075240585\n",
      "Epoch 50, Loss: 2162.447265625, Validation Loss: 4134.221564084489\n"
     ]
    }
   ],
   "source": [
    "num_epochs = 50\n",
    "for epoch in range(num_epochs):\n",
    "    model.train()\n",
    "    for inputs, targets in train_loader:\n",
    "        optimizer.zero_grad()\n",
    "        outputs = model(inputs)\n",
    "        loss = criterion(outputs, targets.unsqueeze(1))\n",
    "        loss.backward()\n",
    "        optimizer.step()\n",
    "\n",
    "    model.eval()\n",
    "    with torch.no_grad():\n",
    "        val_loss = 0\n",
    "        for inputs, targets in val_loader:\n",
    "            outputs = model(inputs)\n",
    "            val_loss += criterion(outputs, targets.unsqueeze(1)).item()\n",
    "\n",
    "    print(f\"Epoch {epoch+1}, Loss: {loss.item()}, Validation Loss: {val_loss / len(val_loader)}\")"
   ]
  },
  {
   "cell_type": "code",
   "execution_count": null,
   "id": "f64431ed",
   "metadata": {
    "papermill": {
     "duration": 0.023226,
     "end_time": "2024-04-20T11:26:05.160336",
     "exception": false,
     "start_time": "2024-04-20T11:26:05.137110",
     "status": "completed"
    },
    "tags": []
   },
   "outputs": [],
   "source": []
  },
  {
   "cell_type": "code",
   "execution_count": 38,
   "id": "d877b79b",
   "metadata": {
    "execution": {
     "iopub.execute_input": "2024-04-20T11:26:05.210722Z",
     "iopub.status.busy": "2024-04-20T11:26:05.210336Z",
     "iopub.status.idle": "2024-04-20T11:26:05.214473Z",
     "shell.execute_reply": "2024-04-20T11:26:05.213493Z"
    },
    "papermill": {
     "duration": 0.031751,
     "end_time": "2024-04-20T11:26:05.216420",
     "exception": false,
     "start_time": "2024-04-20T11:26:05.184669",
     "status": "completed"
    },
    "tags": []
   },
   "outputs": [],
   "source": [
    "# early_stopping = EarlyStopping(patience=10, verbose=True)\n",
    "\n",
    "# for epoch in range(100):  \n",
    "#     train_loss = train(model, train_loader, optimizer, criterion)\n",
    "#     val_loss = validate(model, val_loader, criterion)\n",
    "#     print(f'Epoch {epoch+1}: Train Loss: {train_loss:.4f}, Val Loss: {val_loss:.4f}')\n",
    "\n",
    "#     early_stopping(val_loss)\n",
    "#     if early_stopping.early_stop:\n",
    "#         print(\"Stopping early due to no improvement\")\n",
    "#         break"
   ]
  },
  {
   "cell_type": "code",
   "execution_count": 39,
   "id": "d4f57470",
   "metadata": {
    "execution": {
     "iopub.execute_input": "2024-04-20T11:26:05.265380Z",
     "iopub.status.busy": "2024-04-20T11:26:05.264983Z",
     "iopub.status.idle": "2024-04-20T11:26:05.376108Z",
     "shell.execute_reply": "2024-04-20T11:26:05.374847Z"
    },
    "papermill": {
     "duration": 0.138593,
     "end_time": "2024-04-20T11:26:05.378758",
     "exception": false,
     "start_time": "2024-04-20T11:26:05.240165",
     "status": "completed"
    },
    "tags": []
   },
   "outputs": [],
   "source": [
    "model_predictions = predict(model, test_loader)"
   ]
  },
  {
   "cell_type": "code",
   "execution_count": 40,
   "id": "8197aa1b",
   "metadata": {
    "execution": {
     "iopub.execute_input": "2024-04-20T11:26:05.428668Z",
     "iopub.status.busy": "2024-04-20T11:26:05.428248Z",
     "iopub.status.idle": "2024-04-20T11:26:05.434479Z",
     "shell.execute_reply": "2024-04-20T11:26:05.433411Z"
    },
    "papermill": {
     "duration": 0.03382,
     "end_time": "2024-04-20T11:26:05.436421",
     "exception": false,
     "start_time": "2024-04-20T11:26:05.402601",
     "status": "completed"
    },
    "tags": []
   },
   "outputs": [
    {
     "name": "stdout",
     "output_type": "stream",
     "text": [
      "Sample predictions: [127.867935 168.243    206.85316  157.62364  146.98071  105.0346\n",
      " 306.96664  226.22968  178.53195  115.4165  ]\n"
     ]
    }
   ],
   "source": [
    "predictions_np = model_predictions.numpy()\n",
    "print(\"Sample predictions:\", predictions_np[:10])"
   ]
  },
  {
   "cell_type": "code",
   "execution_count": 41,
   "id": "f8942932",
   "metadata": {
    "execution": {
     "iopub.execute_input": "2024-04-20T11:26:05.490011Z",
     "iopub.status.busy": "2024-04-20T11:26:05.489647Z",
     "iopub.status.idle": "2024-04-20T11:26:05.616066Z",
     "shell.execute_reply": "2024-04-20T11:26:05.614564Z"
    },
    "papermill": {
     "duration": 0.160998,
     "end_time": "2024-04-20T11:26:05.621348",
     "exception": false,
     "start_time": "2024-04-20T11:26:05.460350",
     "status": "completed"
    },
    "tags": []
   },
   "outputs": [
    {
     "name": "stdout",
     "output_type": "stream",
     "text": [
      "Mean Squared Error: 4105.3759765625\n",
      "Mean Absolute Error: 46.102325439453125\n"
     ]
    },
    {
     "data": {
      "text/plain": [
       "(tensor(4105.3760), tensor(46.1023))"
      ]
     },
     "execution_count": 41,
     "metadata": {},
     "output_type": "execute_result"
    }
   ],
   "source": [
    "evaluate_model(model, test_loader)"
   ]
  }
 ],
 "metadata": {
  "kaggle": {
   "accelerator": "none",
   "dataSources": [
    {
     "datasetId": 2894281,
     "sourceId": 4990113,
     "sourceType": "datasetVersion"
    }
   ],
   "dockerImageVersionId": 30684,
   "isGpuEnabled": false,
   "isInternetEnabled": true,
   "language": "python",
   "sourceType": "notebook"
  },
  "kernelspec": {
   "display_name": "Python 3",
   "language": "python",
   "name": "python3"
  },
  "language_info": {
   "codemirror_mode": {
    "name": "ipython",
    "version": 3
   },
   "file_extension": ".py",
   "mimetype": "text/x-python",
   "name": "python",
   "nbconvert_exporter": "python",
   "pygments_lexer": "ipython3",
   "version": "3.10.13"
  },
  "papermill": {
   "default_parameters": {},
   "duration": 140.121725,
   "end_time": "2024-04-20T11:26:08.078469",
   "environment_variables": {},
   "exception": null,
   "input_path": "__notebook__.ipynb",
   "output_path": "__notebook__.ipynb",
   "parameters": {},
   "start_time": "2024-04-20T11:23:47.956744",
   "version": "2.5.0"
  }
 },
 "nbformat": 4,
 "nbformat_minor": 5
}
