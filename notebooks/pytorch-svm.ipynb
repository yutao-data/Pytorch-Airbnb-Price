{
 "cells": [
  {
   "cell_type": "code",
   "execution_count": 1,
   "id": "730bc588",
   "metadata": {
    "_cell_guid": "b1076dfc-b9ad-4769-8c92-a6c4dae69d19",
    "_uuid": "8f2839f25d086af736a60e9eeb907d3b93b6e0e5",
    "execution": {
     "iopub.execute_input": "2024-04-19T20:03:46.174510Z",
     "iopub.status.busy": "2024-04-19T20:03:46.173390Z",
     "iopub.status.idle": "2024-04-19T20:03:54.967079Z",
     "shell.execute_reply": "2024-04-19T20:03:54.965453Z"
    },
    "papermill": {
     "duration": 8.814163,
     "end_time": "2024-04-19T20:03:54.970757",
     "exception": false,
     "start_time": "2024-04-19T20:03:46.156594",
     "status": "completed"
    },
    "tags": []
   },
   "outputs": [],
   "source": [
    "import numpy as np \n",
    "import pandas as pd\n",
    "from matplotlib import pyplot as plt\n",
    "\n",
    "from sklearn.preprocessing import StandardScaler, OneHotEncoder\n",
    "from sklearn.compose import ColumnTransformer\n",
    "from sklearn.pipeline import Pipeline\n",
    "\n",
    "import torch\n",
    "import torch.nn as nn\n",
    "from torch.utils.data import DataLoader, TensorDataset\n",
    "from sklearn.model_selection import train_test_split"
   ]
  },
  {
   "cell_type": "code",
   "execution_count": 2,
   "id": "0a113130",
   "metadata": {
    "execution": {
     "iopub.execute_input": "2024-04-19T20:03:55.000567Z",
     "iopub.status.busy": "2024-04-19T20:03:54.999901Z",
     "iopub.status.idle": "2024-04-19T20:03:55.615815Z",
     "shell.execute_reply": "2024-04-19T20:03:55.614705Z"
    },
    "papermill": {
     "duration": 0.635124,
     "end_time": "2024-04-19T20:03:55.619088",
     "exception": false,
     "start_time": "2024-04-19T20:03:54.983964",
     "status": "completed"
    },
    "tags": []
   },
   "outputs": [],
   "source": [
    "#Amsterdam\n",
    "amsterdam_weekdays = pd.read_csv('/kaggle/input/airbnb-price-determinants-in-europe/amsterdam_weekdays.csv')\n",
    "amsterdam_weekend = pd.read_csv('/kaggle/input/airbnb-price-determinants-in-europe/amsterdam_weekends.csv')\n",
    "\n",
    "#Athens\n",
    "athens_weekdays = pd.read_csv('/kaggle/input/airbnb-price-determinants-in-europe/athens_weekdays.csv')\n",
    "athens_weekend = pd.read_csv('/kaggle/input/airbnb-price-determinants-in-europe/athens_weekends.csv')\n",
    "\n",
    "#Barcelona\n",
    "barcelona_weekdays = pd.read_csv('/kaggle/input/airbnb-price-determinants-in-europe/barcelona_weekdays.csv')\n",
    "barcelona_weekend = pd.read_csv('/kaggle/input/airbnb-price-determinants-in-europe/barcelona_weekends.csv')\n",
    "\n",
    "#Berlin\n",
    "berlin_weekdays = pd.read_csv('/kaggle/input/airbnb-price-determinants-in-europe/berlin_weekdays.csv')\n",
    "berlin_weekend = pd.read_csv('/kaggle/input/airbnb-price-determinants-in-europe/berlin_weekends.csv')\n",
    "\n",
    "#Budapest\n",
    "budapest_weekdays = pd.read_csv('/kaggle/input/airbnb-price-determinants-in-europe/budapest_weekdays.csv')\n",
    "budapest_weekend = pd.read_csv('/kaggle/input/airbnb-price-determinants-in-europe/budapest_weekends.csv')\n",
    "\n",
    "#Lisbon\n",
    "lisbon_weekdays = pd.read_csv('/kaggle/input/airbnb-price-determinants-in-europe/lisbon_weekdays.csv')\n",
    "lisbon_weekend = pd.read_csv('/kaggle/input/airbnb-price-determinants-in-europe/lisbon_weekends.csv')\n",
    "\n",
    "#London\n",
    "london_weekdays = pd.read_csv('/kaggle/input/airbnb-price-determinants-in-europe/london_weekdays.csv')\n",
    "london_weekend = pd.read_csv('/kaggle/input/airbnb-price-determinants-in-europe/london_weekends.csv')\n",
    "\n",
    "#Paris\n",
    "paris_weekdays = pd.read_csv('/kaggle/input/airbnb-price-determinants-in-europe/paris_weekdays.csv')\n",
    "paris_weekend = pd.read_csv('/kaggle/input/airbnb-price-determinants-in-europe/paris_weekends.csv')\n",
    "\n",
    "#Rome\n",
    "rome_weekdays = pd.read_csv('/kaggle/input/airbnb-price-determinants-in-europe/rome_weekdays.csv')\n",
    "rome_weekend = pd.read_csv('/kaggle/input/airbnb-price-determinants-in-europe/rome_weekends.csv')\n",
    "\n",
    "#Vienna\n",
    "vienna_weekdays = pd.read_csv('/kaggle/input/airbnb-price-determinants-in-europe/vienna_weekdays.csv')\n",
    "vienna_weekend = pd.read_csv('/kaggle/input/airbnb-price-determinants-in-europe/vienna_weekends.csv')"
   ]
  },
  {
   "cell_type": "code",
   "execution_count": 3,
   "id": "966dbd44",
   "metadata": {
    "execution": {
     "iopub.execute_input": "2024-04-19T20:03:55.648953Z",
     "iopub.status.busy": "2024-04-19T20:03:55.648491Z",
     "iopub.status.idle": "2024-04-19T20:03:55.775772Z",
     "shell.execute_reply": "2024-04-19T20:03:55.774106Z"
    },
    "papermill": {
     "duration": 0.145897,
     "end_time": "2024-04-19T20:03:55.779238",
     "exception": false,
     "start_time": "2024-04-19T20:03:55.633341",
     "status": "completed"
    },
    "tags": []
   },
   "outputs": [
    {
     "name": "stdout",
     "output_type": "stream",
     "text": [
      "      realSum     room_type  room_shared  room_private  person_capacity  \\\n",
      "0  194.033698  Private room        False          True              2.0   \n",
      "1  344.245776  Private room        False          True              4.0   \n",
      "2  264.101422  Private room        False          True              2.0   \n",
      "3  433.529398  Private room        False          True              4.0   \n",
      "4  485.552926  Private room        False          True              2.0   \n",
      "\n",
      "   host_is_superhost  multi  biz  cleanliness_rating  \\\n",
      "0              False      1    0                10.0   \n",
      "1              False      0    0                 8.0   \n",
      "2              False      0    1                 9.0   \n",
      "3              False      0    1                 9.0   \n",
      "4               True      0    0                10.0   \n",
      "\n",
      "   guest_satisfaction_overall  ...      dist  metro_dist  attr_index  \\\n",
      "0                        93.0  ...  5.022964    2.539380   78.690379   \n",
      "1                        85.0  ...  0.488389    0.239404  631.176378   \n",
      "2                        87.0  ...  5.748312    3.651621   75.275877   \n",
      "3                        90.0  ...  0.384862    0.439876  493.272534   \n",
      "4                        98.0  ...  0.544738    0.318693  552.830324   \n",
      "\n",
      "   attr_index_norm  rest_index  rest_index_norm      lng       lat       city  \\\n",
      "0         4.166708   98.253896         6.846473  4.90569  52.41772  Amsterdam   \n",
      "1        33.421209  837.280757        58.342928  4.90005  52.37432  Amsterdam   \n",
      "2         3.985908   95.386955         6.646700  4.97512  52.36103  Amsterdam   \n",
      "3        26.119108  875.033098        60.973565  4.89417  52.37663  Amsterdam   \n",
      "4        29.272733  815.305740        56.811677  4.90051  52.37508  Amsterdam   \n",
      "\n",
      "  weekday  \n",
      "0    True  \n",
      "1    True  \n",
      "2    True  \n",
      "3    True  \n",
      "4    True  \n",
      "\n",
      "[5 rows x 21 columns]\n",
      "(51707, 21)\n"
     ]
    }
   ],
   "source": [
    "datasets = [\n",
    "    (amsterdam_weekdays, \"Amsterdam\", True),\n",
    "    (amsterdam_weekend, \"Amsterdam\", False),\n",
    "    (athens_weekdays, \"Athens\", True),\n",
    "    (athens_weekend, \"Athens\", False),\n",
    "    (barcelona_weekdays, \"Barcelona\", True),\n",
    "    (barcelona_weekend, \"Barcelona\", False),\n",
    "    (berlin_weekdays, \"Berlin\", True),\n",
    "    (berlin_weekend, \"Berlin\", False),\n",
    "    (budapest_weekdays, \"Budapest\", True),\n",
    "    (budapest_weekend, \"Budapest\", False),\n",
    "    (lisbon_weekdays, \"Lisbon\", True),\n",
    "    (lisbon_weekend, \"Lisbon\", False),\n",
    "    (london_weekdays, \"London\", True),\n",
    "    (london_weekend, \"London\", False),\n",
    "    (paris_weekdays, \"Paris\", True),\n",
    "    (paris_weekend, \"Paris\", False),\n",
    "    (rome_weekdays, \"Rome\", True),\n",
    "    (rome_weekend, \"Rome\", False),\n",
    "    (vienna_weekdays, \"Vienna\", True),\n",
    "    (vienna_weekend, \"Vienna\", False)\n",
    "]\n",
    "\n",
    "df = pd.DataFrame()\n",
    "\n",
    "for data, city, is_weekday in datasets:\n",
    "    data['city'] = city\n",
    "    data['weekday'] = is_weekday\n",
    "    df = pd.concat([df, data], ignore_index=True)\n",
    "\n",
    "df.drop(columns=['Unnamed: 0'], axis=1, inplace=True)\n",
    "\n",
    "print(df.head())\n",
    "print(df.shape)"
   ]
  },
  {
   "cell_type": "code",
   "execution_count": 4,
   "id": "044e46d6",
   "metadata": {
    "execution": {
     "iopub.execute_input": "2024-04-19T20:03:55.809211Z",
     "iopub.status.busy": "2024-04-19T20:03:55.808702Z",
     "iopub.status.idle": "2024-04-19T20:03:55.815189Z",
     "shell.execute_reply": "2024-04-19T20:03:55.813714Z"
    },
    "papermill": {
     "duration": 0.024661,
     "end_time": "2024-04-19T20:03:55.818217",
     "exception": false,
     "start_time": "2024-04-19T20:03:55.793556",
     "status": "completed"
    },
    "tags": []
   },
   "outputs": [],
   "source": [
    "# path = \"/kaggle/input/airbnb-price-determinants-in-europe/barcelona_weekdays.csv\"\n",
    "# df = pd.read_csv(path, index_col=0)\n",
    "# df.head()"
   ]
  },
  {
   "cell_type": "markdown",
   "id": "8f49002c",
   "metadata": {
    "papermill": {
     "duration": 0.014593,
     "end_time": "2024-04-19T20:03:55.846848",
     "exception": false,
     "start_time": "2024-04-19T20:03:55.832255",
     "status": "completed"
    },
    "tags": []
   },
   "source": [
    "# Data Preposessing"
   ]
  },
  {
   "cell_type": "markdown",
   "id": "3cd2675b",
   "metadata": {
    "papermill": {
     "duration": 0.013534,
     "end_time": "2024-04-19T20:03:55.874613",
     "exception": false,
     "start_time": "2024-04-19T20:03:55.861079",
     "status": "completed"
    },
    "tags": []
   },
   "source": [
    "## Add data shuffle"
   ]
  },
  {
   "cell_type": "code",
   "execution_count": 5,
   "id": "fdba35a5",
   "metadata": {
    "execution": {
     "iopub.execute_input": "2024-04-19T20:03:55.906961Z",
     "iopub.status.busy": "2024-04-19T20:03:55.906540Z",
     "iopub.status.idle": "2024-04-19T20:03:55.952761Z",
     "shell.execute_reply": "2024-04-19T20:03:55.950922Z"
    },
    "papermill": {
     "duration": 0.065795,
     "end_time": "2024-04-19T20:03:55.956622",
     "exception": false,
     "start_time": "2024-04-19T20:03:55.890827",
     "status": "completed"
    },
    "tags": []
   },
   "outputs": [],
   "source": [
    "np.random.seed(144)\n",
    "df = df.sample(frac=1).reset_index(drop=True)"
   ]
  },
  {
   "cell_type": "markdown",
   "id": "cf533f11",
   "metadata": {
    "papermill": {
     "duration": 0.013177,
     "end_time": "2024-04-19T20:03:55.983648",
     "exception": false,
     "start_time": "2024-04-19T20:03:55.970471",
     "status": "completed"
    },
    "tags": []
   },
   "source": [
    "## DEALING WITH MISSING VALUES"
   ]
  },
  {
   "cell_type": "code",
   "execution_count": 6,
   "id": "93489583",
   "metadata": {
    "execution": {
     "iopub.execute_input": "2024-04-19T20:03:56.013624Z",
     "iopub.status.busy": "2024-04-19T20:03:56.013213Z",
     "iopub.status.idle": "2024-04-19T20:03:56.128775Z",
     "shell.execute_reply": "2024-04-19T20:03:56.127157Z"
    },
    "papermill": {
     "duration": 0.134917,
     "end_time": "2024-04-19T20:03:56.132377",
     "exception": false,
     "start_time": "2024-04-19T20:03:55.997460",
     "status": "completed"
    },
    "tags": []
   },
   "outputs": [
    {
     "data": {
      "text/html": [
       "<div>\n",
       "<style scoped>\n",
       "    .dataframe tbody tr th:only-of-type {\n",
       "        vertical-align: middle;\n",
       "    }\n",
       "\n",
       "    .dataframe tbody tr th {\n",
       "        vertical-align: top;\n",
       "    }\n",
       "\n",
       "    .dataframe thead th {\n",
       "        text-align: right;\n",
       "    }\n",
       "</style>\n",
       "<table border=\"1\" class=\"dataframe\">\n",
       "  <thead>\n",
       "    <tr style=\"text-align: right;\">\n",
       "      <th></th>\n",
       "      <th>realSum</th>\n",
       "      <th>person_capacity</th>\n",
       "      <th>multi</th>\n",
       "      <th>biz</th>\n",
       "      <th>cleanliness_rating</th>\n",
       "      <th>guest_satisfaction_overall</th>\n",
       "      <th>bedrooms</th>\n",
       "      <th>dist</th>\n",
       "      <th>metro_dist</th>\n",
       "      <th>attr_index</th>\n",
       "      <th>attr_index_norm</th>\n",
       "      <th>rest_index</th>\n",
       "      <th>rest_index_norm</th>\n",
       "      <th>lng</th>\n",
       "      <th>lat</th>\n",
       "    </tr>\n",
       "  </thead>\n",
       "  <tbody>\n",
       "    <tr>\n",
       "      <th>count</th>\n",
       "      <td>51707.000000</td>\n",
       "      <td>51707.000000</td>\n",
       "      <td>51707.000000</td>\n",
       "      <td>51707.000000</td>\n",
       "      <td>51707.000000</td>\n",
       "      <td>51707.000000</td>\n",
       "      <td>51707.00000</td>\n",
       "      <td>51707.000000</td>\n",
       "      <td>51707.000000</td>\n",
       "      <td>51707.000000</td>\n",
       "      <td>51707.000000</td>\n",
       "      <td>51707.000000</td>\n",
       "      <td>51707.000000</td>\n",
       "      <td>51707.000000</td>\n",
       "      <td>51707.000000</td>\n",
       "    </tr>\n",
       "    <tr>\n",
       "      <th>mean</th>\n",
       "      <td>279.879591</td>\n",
       "      <td>3.161661</td>\n",
       "      <td>0.291353</td>\n",
       "      <td>0.350204</td>\n",
       "      <td>9.390624</td>\n",
       "      <td>92.628232</td>\n",
       "      <td>1.15876</td>\n",
       "      <td>3.191285</td>\n",
       "      <td>0.681540</td>\n",
       "      <td>294.204105</td>\n",
       "      <td>13.423792</td>\n",
       "      <td>626.856696</td>\n",
       "      <td>22.786177</td>\n",
       "      <td>7.426068</td>\n",
       "      <td>45.671128</td>\n",
       "    </tr>\n",
       "    <tr>\n",
       "      <th>std</th>\n",
       "      <td>327.948386</td>\n",
       "      <td>1.298545</td>\n",
       "      <td>0.454390</td>\n",
       "      <td>0.477038</td>\n",
       "      <td>0.954868</td>\n",
       "      <td>8.945531</td>\n",
       "      <td>0.62741</td>\n",
       "      <td>2.393803</td>\n",
       "      <td>0.858023</td>\n",
       "      <td>224.754123</td>\n",
       "      <td>9.807985</td>\n",
       "      <td>497.920226</td>\n",
       "      <td>17.804096</td>\n",
       "      <td>9.799725</td>\n",
       "      <td>5.249263</td>\n",
       "    </tr>\n",
       "    <tr>\n",
       "      <th>min</th>\n",
       "      <td>34.779339</td>\n",
       "      <td>2.000000</td>\n",
       "      <td>0.000000</td>\n",
       "      <td>0.000000</td>\n",
       "      <td>2.000000</td>\n",
       "      <td>20.000000</td>\n",
       "      <td>0.00000</td>\n",
       "      <td>0.015045</td>\n",
       "      <td>0.002301</td>\n",
       "      <td>15.152201</td>\n",
       "      <td>0.926301</td>\n",
       "      <td>19.576924</td>\n",
       "      <td>0.592757</td>\n",
       "      <td>-9.226340</td>\n",
       "      <td>37.953000</td>\n",
       "    </tr>\n",
       "    <tr>\n",
       "      <th>25%</th>\n",
       "      <td>148.752174</td>\n",
       "      <td>2.000000</td>\n",
       "      <td>0.000000</td>\n",
       "      <td>0.000000</td>\n",
       "      <td>9.000000</td>\n",
       "      <td>90.000000</td>\n",
       "      <td>1.00000</td>\n",
       "      <td>1.453142</td>\n",
       "      <td>0.248480</td>\n",
       "      <td>136.797385</td>\n",
       "      <td>6.380926</td>\n",
       "      <td>250.854114</td>\n",
       "      <td>8.751480</td>\n",
       "      <td>-0.072500</td>\n",
       "      <td>41.399510</td>\n",
       "    </tr>\n",
       "    <tr>\n",
       "      <th>50%</th>\n",
       "      <td>211.343089</td>\n",
       "      <td>3.000000</td>\n",
       "      <td>0.000000</td>\n",
       "      <td>0.000000</td>\n",
       "      <td>10.000000</td>\n",
       "      <td>95.000000</td>\n",
       "      <td>1.00000</td>\n",
       "      <td>2.613538</td>\n",
       "      <td>0.413269</td>\n",
       "      <td>234.331748</td>\n",
       "      <td>11.468305</td>\n",
       "      <td>522.052783</td>\n",
       "      <td>17.542238</td>\n",
       "      <td>4.873000</td>\n",
       "      <td>47.506690</td>\n",
       "    </tr>\n",
       "    <tr>\n",
       "      <th>75%</th>\n",
       "      <td>319.694287</td>\n",
       "      <td>4.000000</td>\n",
       "      <td>1.000000</td>\n",
       "      <td>1.000000</td>\n",
       "      <td>10.000000</td>\n",
       "      <td>99.000000</td>\n",
       "      <td>1.00000</td>\n",
       "      <td>4.263077</td>\n",
       "      <td>0.737840</td>\n",
       "      <td>385.756381</td>\n",
       "      <td>17.415082</td>\n",
       "      <td>832.628988</td>\n",
       "      <td>32.964603</td>\n",
       "      <td>13.518825</td>\n",
       "      <td>51.471885</td>\n",
       "    </tr>\n",
       "    <tr>\n",
       "      <th>max</th>\n",
       "      <td>18545.450285</td>\n",
       "      <td>6.000000</td>\n",
       "      <td>1.000000</td>\n",
       "      <td>1.000000</td>\n",
       "      <td>10.000000</td>\n",
       "      <td>100.000000</td>\n",
       "      <td>10.00000</td>\n",
       "      <td>25.284557</td>\n",
       "      <td>14.273577</td>\n",
       "      <td>4513.563486</td>\n",
       "      <td>100.000000</td>\n",
       "      <td>6696.156772</td>\n",
       "      <td>100.000000</td>\n",
       "      <td>23.786020</td>\n",
       "      <td>52.641410</td>\n",
       "    </tr>\n",
       "  </tbody>\n",
       "</table>\n",
       "</div>"
      ],
      "text/plain": [
       "            realSum  person_capacity         multi           biz  \\\n",
       "count  51707.000000     51707.000000  51707.000000  51707.000000   \n",
       "mean     279.879591         3.161661      0.291353      0.350204   \n",
       "std      327.948386         1.298545      0.454390      0.477038   \n",
       "min       34.779339         2.000000      0.000000      0.000000   \n",
       "25%      148.752174         2.000000      0.000000      0.000000   \n",
       "50%      211.343089         3.000000      0.000000      0.000000   \n",
       "75%      319.694287         4.000000      1.000000      1.000000   \n",
       "max    18545.450285         6.000000      1.000000      1.000000   \n",
       "\n",
       "       cleanliness_rating  guest_satisfaction_overall     bedrooms  \\\n",
       "count        51707.000000                51707.000000  51707.00000   \n",
       "mean             9.390624                   92.628232      1.15876   \n",
       "std              0.954868                    8.945531      0.62741   \n",
       "min              2.000000                   20.000000      0.00000   \n",
       "25%              9.000000                   90.000000      1.00000   \n",
       "50%             10.000000                   95.000000      1.00000   \n",
       "75%             10.000000                   99.000000      1.00000   \n",
       "max             10.000000                  100.000000     10.00000   \n",
       "\n",
       "               dist    metro_dist    attr_index  attr_index_norm  \\\n",
       "count  51707.000000  51707.000000  51707.000000     51707.000000   \n",
       "mean       3.191285      0.681540    294.204105        13.423792   \n",
       "std        2.393803      0.858023    224.754123         9.807985   \n",
       "min        0.015045      0.002301     15.152201         0.926301   \n",
       "25%        1.453142      0.248480    136.797385         6.380926   \n",
       "50%        2.613538      0.413269    234.331748        11.468305   \n",
       "75%        4.263077      0.737840    385.756381        17.415082   \n",
       "max       25.284557     14.273577   4513.563486       100.000000   \n",
       "\n",
       "         rest_index  rest_index_norm           lng           lat  \n",
       "count  51707.000000     51707.000000  51707.000000  51707.000000  \n",
       "mean     626.856696        22.786177      7.426068     45.671128  \n",
       "std      497.920226        17.804096      9.799725      5.249263  \n",
       "min       19.576924         0.592757     -9.226340     37.953000  \n",
       "25%      250.854114         8.751480     -0.072500     41.399510  \n",
       "50%      522.052783        17.542238      4.873000     47.506690  \n",
       "75%      832.628988        32.964603     13.518825     51.471885  \n",
       "max     6696.156772       100.000000     23.786020     52.641410  "
      ]
     },
     "execution_count": 6,
     "metadata": {},
     "output_type": "execute_result"
    }
   ],
   "source": [
    "df.describe()"
   ]
  },
  {
   "cell_type": "code",
   "execution_count": 7,
   "id": "3907da5a",
   "metadata": {
    "execution": {
     "iopub.execute_input": "2024-04-19T20:03:56.162952Z",
     "iopub.status.busy": "2024-04-19T20:03:56.162492Z",
     "iopub.status.idle": "2024-04-19T20:03:56.172399Z",
     "shell.execute_reply": "2024-04-19T20:03:56.170673Z"
    },
    "papermill": {
     "duration": 0.0284,
     "end_time": "2024-04-19T20:03:56.175371",
     "exception": false,
     "start_time": "2024-04-19T20:03:56.146971",
     "status": "completed"
    },
    "tags": []
   },
   "outputs": [
    {
     "data": {
      "text/plain": [
       "(51707, 21)"
      ]
     },
     "execution_count": 7,
     "metadata": {},
     "output_type": "execute_result"
    }
   ],
   "source": [
    "df.shape"
   ]
  },
  {
   "cell_type": "code",
   "execution_count": 8,
   "id": "afa56db7",
   "metadata": {
    "execution": {
     "iopub.execute_input": "2024-04-19T20:03:56.207194Z",
     "iopub.status.busy": "2024-04-19T20:03:56.206707Z",
     "iopub.status.idle": "2024-04-19T20:03:56.232678Z",
     "shell.execute_reply": "2024-04-19T20:03:56.231077Z"
    },
    "papermill": {
     "duration": 0.04675,
     "end_time": "2024-04-19T20:03:56.236359",
     "exception": false,
     "start_time": "2024-04-19T20:03:56.189609",
     "status": "completed"
    },
    "tags": []
   },
   "outputs": [
    {
     "data": {
      "text/plain": [
       "(51707, 21)"
      ]
     },
     "execution_count": 8,
     "metadata": {},
     "output_type": "execute_result"
    }
   ],
   "source": [
    "df_complete = df.dropna()\n",
    "df_complete.shape"
   ]
  },
  {
   "cell_type": "markdown",
   "id": "11a5cbd1",
   "metadata": {
    "papermill": {
     "duration": 0.015874,
     "end_time": "2024-04-19T20:03:56.266424",
     "exception": false,
     "start_time": "2024-04-19T20:03:56.250550",
     "status": "completed"
    },
    "tags": []
   },
   "source": [
    "## FINDING OUTLIERS"
   ]
  },
  {
   "cell_type": "code",
   "execution_count": 9,
   "id": "d3a6465d",
   "metadata": {
    "execution": {
     "iopub.execute_input": "2024-04-19T20:03:56.300052Z",
     "iopub.status.busy": "2024-04-19T20:03:56.299575Z",
     "iopub.status.idle": "2024-04-19T20:03:57.224595Z",
     "shell.execute_reply": "2024-04-19T20:03:57.223003Z"
    },
    "papermill": {
     "duration": 0.944276,
     "end_time": "2024-04-19T20:03:57.228208",
     "exception": false,
     "start_time": "2024-04-19T20:03:56.283932",
     "status": "completed"
    },
    "tags": []
   },
   "outputs": [
    {
     "data": {
      "image/png": "[encoded data removed]",
      "text/plain": [
       "<Figure size 900x500 with 2 Axes>"
      ]
     },
     "metadata": {},
     "output_type": "display_data"
    }
   ],
   "source": [
    "fig, axes= plt.subplots(1,2, gridspec_kw={'width_ratios': [1, 4]}, figsize=(9,5))\n",
    "df.boxplot(column='realSum',ax=axes[0]);\n",
    "df.hist(column='realSum', ax=axes[1]);"
   ]
  },
  {
   "cell_type": "code",
   "execution_count": 10,
   "id": "09724683",
   "metadata": {
    "execution": {
     "iopub.execute_input": "2024-04-19T20:03:57.260374Z",
     "iopub.status.busy": "2024-04-19T20:03:57.259913Z",
     "iopub.status.idle": "2024-04-19T20:03:57.273451Z",
     "shell.execute_reply": "2024-04-19T20:03:57.272399Z"
    },
    "papermill": {
     "duration": 0.032761,
     "end_time": "2024-04-19T20:03:57.276212",
     "exception": false,
     "start_time": "2024-04-19T20:03:57.243451",
     "status": "completed"
    },
    "tags": []
   },
   "outputs": [
    {
     "data": {
      "text/plain": [
       "(148.75217370869953, 319.69428651318856, 170.94211280448903)"
      ]
     },
     "execution_count": 10,
     "metadata": {},
     "output_type": "execute_result"
    }
   ],
   "source": [
    "Q1 = df['realSum'].quantile(0.25)\n",
    "Q3 = df['realSum'].quantile(0.75)\n",
    "IQR = Q3 - Q1\n",
    "\n",
    "Q1, Q3, IQR"
   ]
  },
  {
   "cell_type": "code",
   "execution_count": 11,
   "id": "6f4d054f",
   "metadata": {
    "execution": {
     "iopub.execute_input": "2024-04-19T20:03:57.310325Z",
     "iopub.status.busy": "2024-04-19T20:03:57.308726Z",
     "iopub.status.idle": "2024-04-19T20:03:57.333868Z",
     "shell.execute_reply": "2024-04-19T20:03:57.332103Z"
    },
    "papermill": {
     "duration": 0.046018,
     "end_time": "2024-04-19T20:03:57.337345",
     "exception": false,
     "start_time": "2024-04-19T20:03:57.291327",
     "status": "completed"
    },
    "tags": []
   },
   "outputs": [
    {
     "data": {
      "text/plain": [
       "(0, 3662)"
      ]
     },
     "execution_count": 11,
     "metadata": {},
     "output_type": "execute_result"
    }
   ],
   "source": [
    "small_outliers = df['realSum'] < (Q1 - 1.5 * IQR)\n",
    "big_outliers = df['realSum'] > (Q3 + 1.5 * IQR)\n",
    "\n",
    "sum(small_outliers), sum(big_outliers)"
   ]
  },
  {
   "cell_type": "code",
   "execution_count": 12,
   "id": "ddd6d718",
   "metadata": {
    "execution": {
     "iopub.execute_input": "2024-04-19T20:03:57.371155Z",
     "iopub.status.busy": "2024-04-19T20:03:57.369920Z",
     "iopub.status.idle": "2024-04-19T20:03:57.382568Z",
     "shell.execute_reply": "2024-04-19T20:03:57.380483Z"
    },
    "papermill": {
     "duration": 0.034013,
     "end_time": "2024-04-19T20:03:57.386712",
     "exception": false,
     "start_time": "2024-04-19T20:03:57.352699",
     "status": "completed"
    },
    "tags": []
   },
   "outputs": [
    {
     "data": {
      "text/plain": [
       "60     698.806972\n",
       "66     956.983937\n",
       "83     593.852160\n",
       "95     636.702364\n",
       "99    2311.738714\n",
       "Name: realSum, dtype: float64"
      ]
     },
     "execution_count": 12,
     "metadata": {},
     "output_type": "execute_result"
    }
   ],
   "source": [
    "df['realSum'][small_outliers | big_outliers].head()"
   ]
  },
  {
   "cell_type": "code",
   "execution_count": 13,
   "id": "536a5f97",
   "metadata": {
    "execution": {
     "iopub.execute_input": "2024-04-19T20:03:57.419811Z",
     "iopub.status.busy": "2024-04-19T20:03:57.419381Z",
     "iopub.status.idle": "2024-04-19T20:03:58.028502Z",
     "shell.execute_reply": "2024-04-19T20:03:58.027115Z"
    },
    "papermill": {
     "duration": 0.63016,
     "end_time": "2024-04-19T20:03:58.031929",
     "exception": false,
     "start_time": "2024-04-19T20:03:57.401769",
     "status": "completed"
    },
    "tags": []
   },
   "outputs": [
    {
     "data": {
      "image/png": "[encoded data removed]",
      "text/plain": [
       "<Figure size 900x500 with 2 Axes>"
      ]
     },
     "metadata": {},
     "output_type": "display_data"
    }
   ],
   "source": [
    "fig, axes= plt.subplots(1,2, gridspec_kw={'width_ratios': [1, 4]}, figsize=(9,5))\n",
    "df[~(small_outliers | big_outliers)].boxplot(column='realSum',ax=axes[0]);\n",
    "df[~(small_outliers | big_outliers)].hist(column='realSum', ax=axes[1]);"
   ]
  },
  {
   "cell_type": "code",
   "execution_count": 14,
   "id": "cfa09599",
   "metadata": {
    "execution": {
     "iopub.execute_input": "2024-04-19T20:03:58.067870Z",
     "iopub.status.busy": "2024-04-19T20:03:58.067404Z",
     "iopub.status.idle": "2024-04-19T20:03:58.084820Z",
     "shell.execute_reply": "2024-04-19T20:03:58.082859Z"
    },
    "papermill": {
     "duration": 0.039419,
     "end_time": "2024-04-19T20:03:58.088562",
     "exception": false,
     "start_time": "2024-04-19T20:03:58.049143",
     "status": "completed"
    },
    "tags": []
   },
   "outputs": [
    {
     "data": {
      "text/plain": [
       "(48045, 21)"
      ]
     },
     "execution_count": 14,
     "metadata": {},
     "output_type": "execute_result"
    }
   ],
   "source": [
    "df_clean = df[~(small_outliers | big_outliers)]\n",
    "df_clean.shape"
   ]
  },
  {
   "cell_type": "code",
   "execution_count": 15,
   "id": "88c0f909",
   "metadata": {
    "execution": {
     "iopub.execute_input": "2024-04-19T20:03:58.123771Z",
     "iopub.status.busy": "2024-04-19T20:03:58.123229Z",
     "iopub.status.idle": "2024-04-19T20:03:58.134364Z",
     "shell.execute_reply": "2024-04-19T20:03:58.133086Z"
    },
    "papermill": {
     "duration": 0.032902,
     "end_time": "2024-04-19T20:03:58.137296",
     "exception": false,
     "start_time": "2024-04-19T20:03:58.104394",
     "status": "completed"
    },
    "tags": []
   },
   "outputs": [
    {
     "data": {
      "text/plain": [
       "realSum                       float64\n",
       "room_type                      object\n",
       "room_shared                      bool\n",
       "room_private                     bool\n",
       "person_capacity               float64\n",
       "host_is_superhost                bool\n",
       "multi                           int64\n",
       "biz                             int64\n",
       "cleanliness_rating            float64\n",
       "guest_satisfaction_overall    float64\n",
       "bedrooms                        int64\n",
       "dist                          float64\n",
       "metro_dist                    float64\n",
       "attr_index                    float64\n",
       "attr_index_norm               float64\n",
       "rest_index                    float64\n",
       "rest_index_norm               float64\n",
       "lng                           float64\n",
       "lat                           float64\n",
       "city                           object\n",
       "weekday                          bool\n",
       "dtype: object"
      ]
     },
     "execution_count": 15,
     "metadata": {},
     "output_type": "execute_result"
    }
   ],
   "source": [
    "df_clean.dtypes"
   ]
  },
  {
   "cell_type": "code",
   "execution_count": 16,
   "id": "80fdd18f",
   "metadata": {
    "execution": {
     "iopub.execute_input": "2024-04-19T20:03:58.171154Z",
     "iopub.status.busy": "2024-04-19T20:03:58.170631Z",
     "iopub.status.idle": "2024-04-19T20:03:58.317586Z",
     "shell.execute_reply": "2024-04-19T20:03:58.315499Z"
    },
    "papermill": {
     "duration": 0.168449,
     "end_time": "2024-04-19T20:03:58.321238",
     "exception": false,
     "start_time": "2024-04-19T20:03:58.152789",
     "status": "completed"
    },
    "tags": []
   },
   "outputs": [
    {
     "name": "stdout",
     "output_type": "stream",
     "text": [
      "['person_capacity', 'multi', 'biz', 'cleanliness_rating', 'guest_satisfaction_overall', 'bedrooms', 'dist', 'metro_dist', 'attr_index', 'attr_index_norm', 'rest_index', 'rest_index_norm', 'lng', 'lat', 'room_type_Entire home/apt', 'room_type_Private room', 'room_type_Shared room', 'room_shared_False', 'room_shared_True', 'room_private_False', 'room_private_True', 'host_is_superhost_False', 'host_is_superhost_True', 'city_Amsterdam', 'city_Athens', 'city_Barcelona', 'city_Berlin', 'city_Budapest', 'city_Lisbon', 'city_London', 'city_Paris', 'city_Rome', 'city_Vienna', 'weekday_False', 'weekday_True']\n",
      "(48045, 35)\n"
     ]
    }
   ],
   "source": [
    "# Identifying categorical and numerical columns\n",
    "categorical_cols = [col for col in df_clean.columns if df_clean[col].dtype in ['object', 'bool']]\n",
    "numerical_cols = [col for col in df_clean.columns if df_clean[col].dtype in ['int64', 'float64'] and col != 'realSum']\n",
    "\n",
    "# Adjust transformers if necessary\n",
    "categorical_transformer = OneHotEncoder(handle_unknown='ignore')\n",
    "numerical_transformer = StandardScaler()\n",
    "\n",
    "# Update preprocessor\n",
    "preprocessor = ColumnTransformer(\n",
    "    transformers=[\n",
    "        ('num', numerical_transformer, numerical_cols),\n",
    "        ('cat', categorical_transformer, categorical_cols)\n",
    "    ])\n",
    "\n",
    "# Fit and transform the data\n",
    "df_transformed = preprocessor.fit_transform(df_clean.drop('realSum', axis=1))\n",
    "\n",
    "# Check transformed feature names and dimensions\n",
    "transformed_features = preprocessor.transformers_[0][1].get_feature_names_out(numerical_cols).tolist() + \\\n",
    "                       preprocessor.transformers_[1][1].get_feature_names_out(categorical_cols).tolist()\n",
    "\n",
    "print(transformed_features)\n",
    "print(df_transformed.shape)"
   ]
  },
  {
   "cell_type": "markdown",
   "id": "2cf5005d",
   "metadata": {
    "papermill": {
     "duration": 0.015985,
     "end_time": "2024-04-19T20:03:58.354657",
     "exception": false,
     "start_time": "2024-04-19T20:03:58.338672",
     "status": "completed"
    },
    "tags": []
   },
   "source": [
    "# Prepare Training Data"
   ]
  },
  {
   "cell_type": "code",
   "execution_count": 17,
   "id": "3da4feae",
   "metadata": {
    "execution": {
     "iopub.execute_input": "2024-04-19T20:03:58.388570Z",
     "iopub.status.busy": "2024-04-19T20:03:58.388073Z",
     "iopub.status.idle": "2024-04-19T20:03:58.394236Z",
     "shell.execute_reply": "2024-04-19T20:03:58.392998Z"
    },
    "papermill": {
     "duration": 0.026053,
     "end_time": "2024-04-19T20:03:58.396934",
     "exception": false,
     "start_time": "2024-04-19T20:03:58.370881",
     "status": "completed"
    },
    "tags": []
   },
   "outputs": [],
   "source": [
    "# y = df_clean['realSum'].values\n",
    "\n",
    "# # Create Train Data and Test Data\n",
    "# X_train, X_test, y_train, y_test = train_test_split(df_transformed, y, test_size=0.2, random_state=42)\n",
    "# X_train = torch.tensor(X_train, dtype=torch.float32)\n",
    "# X_test = torch.tensor(X_test, dtype=torch.float32)\n",
    "# y_train = torch.tensor(y_train, dtype=torch.float32)\n",
    "# y_test = torch.tensor(y_test, dtype=torch.float32)\n",
    "\n",
    "# # Create DataLoader\n",
    "# train_dataset = TensorDataset(X_train, y_train)\n",
    "# test_dataset = TensorDataset(X_test, y_test)\n",
    "\n",
    "# train_loader = DataLoader(train_dataset, batch_size=64, shuffle=True)\n",
    "# test_loader = DataLoader(test_dataset, batch_size=64, shuffle=False)"
   ]
  },
  {
   "cell_type": "code",
   "execution_count": 18,
   "id": "025fde11",
   "metadata": {
    "execution": {
     "iopub.execute_input": "2024-04-19T20:03:58.432838Z",
     "iopub.status.busy": "2024-04-19T20:03:58.432328Z",
     "iopub.status.idle": "2024-04-19T20:03:58.522482Z",
     "shell.execute_reply": "2024-04-19T20:03:58.520832Z"
    },
    "papermill": {
     "duration": 0.111741,
     "end_time": "2024-04-19T20:03:58.525956",
     "exception": false,
     "start_time": "2024-04-19T20:03:58.414215",
     "status": "completed"
    },
    "tags": []
   },
   "outputs": [],
   "source": [
    "y = df_clean['realSum'].values\n",
    "\n",
    "# Split Test Data\n",
    "X_train_val, X_test, y_train_val, y_test = train_test_split(df_transformed, y, test_size=0.2, random_state=42)\n",
    "\n",
    "# Split Validation Data\n",
    "X_train, X_val, y_train, y_val = train_test_split(X_train_val, y_train_val, test_size=0.25, random_state=42) \n",
    "\n",
    "train_dataset = TensorDataset(torch.tensor(X_train, dtype=torch.float32), torch.tensor(y_train, dtype=torch.float32))\n",
    "val_dataset = TensorDataset(torch.tensor(X_val, dtype=torch.float32), torch.tensor(y_val, dtype=torch.float32))\n",
    "test_dataset = TensorDataset(torch.tensor(X_test, dtype=torch.float32), torch.tensor(y_test, dtype=torch.float32))\n",
    "\n",
    "train_loader = DataLoader(train_dataset, batch_size=64, shuffle=True)\n",
    "val_loader = DataLoader(val_dataset, batch_size=64, shuffle=False)\n",
    "test_loader = DataLoader(test_dataset, batch_size=64, shuffle=False)"
   ]
  },
  {
   "cell_type": "markdown",
   "id": "46916ba7",
   "metadata": {
    "papermill": {
     "duration": 0.01518,
     "end_time": "2024-04-19T20:03:58.557513",
     "exception": false,
     "start_time": "2024-04-19T20:03:58.542333",
     "status": "completed"
    },
    "tags": []
   },
   "source": [
    "# Define SVM Model"
   ]
  },
  {
   "cell_type": "code",
   "execution_count": 19,
   "id": "b33495a9",
   "metadata": {
    "execution": {
     "iopub.execute_input": "2024-04-19T20:03:58.597208Z",
     "iopub.status.busy": "2024-04-19T20:03:58.595708Z",
     "iopub.status.idle": "2024-04-19T20:03:58.603386Z",
     "shell.execute_reply": "2024-04-19T20:03:58.602422Z"
    },
    "papermill": {
     "duration": 0.031704,
     "end_time": "2024-04-19T20:03:58.606092",
     "exception": false,
     "start_time": "2024-04-19T20:03:58.574388",
     "status": "completed"
    },
    "tags": []
   },
   "outputs": [],
   "source": [
    "class SVR(nn.Module):\n",
    "    def __init__(self, n_features):\n",
    "        super(SVR, self).__init__()\n",
    "        self.linear = nn.Linear(n_features, 1)\n",
    "\n",
    "    def forward(self, x):\n",
    "        return self.linear(x)"
   ]
  },
  {
   "cell_type": "code",
   "execution_count": 20,
   "id": "5439245f",
   "metadata": {
    "execution": {
     "iopub.execute_input": "2024-04-19T20:03:58.640405Z",
     "iopub.status.busy": "2024-04-19T20:03:58.639004Z",
     "iopub.status.idle": "2024-04-19T20:03:58.647313Z",
     "shell.execute_reply": "2024-04-19T20:03:58.645547Z"
    },
    "papermill": {
     "duration": 0.029138,
     "end_time": "2024-04-19T20:03:58.650588",
     "exception": false,
     "start_time": "2024-04-19T20:03:58.621450",
     "status": "completed"
    },
    "tags": []
   },
   "outputs": [],
   "source": [
    "def epsilon_insensitive_loss(outputs, targets, epsilon=0.1):\n",
    "    errors = torch.abs(targets - outputs.squeeze())\n",
    "\n",
    "    loss = torch.mean(torch.max(errors - epsilon, torch.zeros_like(errors)))\n",
    "    return loss"
   ]
  },
  {
   "cell_type": "code",
   "execution_count": 21,
   "id": "03749700",
   "metadata": {
    "execution": {
     "iopub.execute_input": "2024-04-19T20:03:58.685402Z",
     "iopub.status.busy": "2024-04-19T20:03:58.684893Z",
     "iopub.status.idle": "2024-04-19T20:03:58.712477Z",
     "shell.execute_reply": "2024-04-19T20:03:58.710960Z"
    },
    "papermill": {
     "duration": 0.04848,
     "end_time": "2024-04-19T20:03:58.715534",
     "exception": false,
     "start_time": "2024-04-19T20:03:58.667054",
     "status": "completed"
    },
    "tags": []
   },
   "outputs": [],
   "source": [
    "model = SVR(X_train.shape[1])"
   ]
  },
  {
   "cell_type": "code",
   "execution_count": 22,
   "id": "76c26afe",
   "metadata": {
    "execution": {
     "iopub.execute_input": "2024-04-19T20:03:58.750618Z",
     "iopub.status.busy": "2024-04-19T20:03:58.750195Z",
     "iopub.status.idle": "2024-04-19T20:04:02.680696Z",
     "shell.execute_reply": "2024-04-19T20:04:02.679249Z"
    },
    "papermill": {
     "duration": 3.952707,
     "end_time": "2024-04-19T20:04:02.684051",
     "exception": false,
     "start_time": "2024-04-19T20:03:58.731344",
     "status": "completed"
    },
    "tags": []
   },
   "outputs": [],
   "source": [
    "optimizer = torch.optim.SGD(model.parameters(), lr=0.01, weight_decay=0.01)"
   ]
  },
  {
   "cell_type": "code",
   "execution_count": 23,
   "id": "b906cba0",
   "metadata": {
    "execution": {
     "iopub.execute_input": "2024-04-19T20:04:02.719086Z",
     "iopub.status.busy": "2024-04-19T20:04:02.718064Z",
     "iopub.status.idle": "2024-04-19T20:04:02.726781Z",
     "shell.execute_reply": "2024-04-19T20:04:02.725732Z"
    },
    "papermill": {
     "duration": 0.029241,
     "end_time": "2024-04-19T20:04:02.729450",
     "exception": false,
     "start_time": "2024-04-19T20:04:02.700209",
     "status": "completed"
    },
    "tags": []
   },
   "outputs": [],
   "source": [
    "class EarlyStopping:\n",
    "    def __init__(self, patience=10, verbose=False, delta=0):\n",
    "        self.patience = patience\n",
    "        self.verbose = verbose\n",
    "        self.delta = delta\n",
    "        self.best_score = None\n",
    "        self.epochs_no_improve = 0\n",
    "        self.early_stop = False\n",
    "\n",
    "    def __call__(self, val_loss):\n",
    "        score = -val_loss\n",
    "\n",
    "        if self.best_score is None:\n",
    "            self.best_score = score\n",
    "        elif score < self.best_score + self.delta:\n",
    "            self.epochs_no_improve += 1\n",
    "            if self.epochs_no_improve >= self.patience:\n",
    "                self.early_stop = True\n",
    "                if self.verbose:\n",
    "                    print(\"Early stopping\")\n",
    "        else:\n",
    "            self.best_score = score\n",
    "            self.epochs_no_improve = 0"
   ]
  },
  {
   "cell_type": "markdown",
   "id": "f4e376fd",
   "metadata": {
    "papermill": {
     "duration": 0.01614,
     "end_time": "2024-04-19T20:04:02.761531",
     "exception": false,
     "start_time": "2024-04-19T20:04:02.745391",
     "status": "completed"
    },
    "tags": []
   },
   "source": [
    "# Model Training"
   ]
  },
  {
   "cell_type": "code",
   "execution_count": 24,
   "id": "c7c2e958",
   "metadata": {
    "execution": {
     "iopub.execute_input": "2024-04-19T20:04:02.797758Z",
     "iopub.status.busy": "2024-04-19T20:04:02.796975Z",
     "iopub.status.idle": "2024-04-19T20:04:02.801807Z",
     "shell.execute_reply": "2024-04-19T20:04:02.800858Z"
    },
    "papermill": {
     "duration": 0.026236,
     "end_time": "2024-04-19T20:04:02.804490",
     "exception": false,
     "start_time": "2024-04-19T20:04:02.778254",
     "status": "completed"
    },
    "tags": []
   },
   "outputs": [],
   "source": [
    "# def train_model(model, train_loader, epochs=1000, epsilon=0.1):\n",
    "#     model.train() \n",
    "#     for epoch in range(epochs):\n",
    "#         total_loss = 0 \n",
    "#         for data, target in train_loader:\n",
    "#             optimizer.zero_grad()\n",
    "#             output = model(data)\n",
    "#             loss = epsilon_insensitive_loss(output, target, epsilon)\n",
    "#             loss.backward()  \n",
    "#             optimizer.step() \n",
    "#             total_loss += loss.item() \n",
    "#         if (epoch + 1) % 10 == 0:\n",
    "#             average_loss = total_loss / len(train_loader)\n",
    "#             print(f'Epoch {epoch+1}, Average Loss: {average_loss}')"
   ]
  },
  {
   "cell_type": "code",
   "execution_count": 25,
   "id": "22a07d50",
   "metadata": {
    "execution": {
     "iopub.execute_input": "2024-04-19T20:04:02.840696Z",
     "iopub.status.busy": "2024-04-19T20:04:02.839489Z",
     "iopub.status.idle": "2024-04-19T20:04:02.851464Z",
     "shell.execute_reply": "2024-04-19T20:04:02.850058Z"
    },
    "papermill": {
     "duration": 0.033662,
     "end_time": "2024-04-19T20:04:02.854868",
     "exception": false,
     "start_time": "2024-04-19T20:04:02.821206",
     "status": "completed"
    },
    "tags": []
   },
   "outputs": [],
   "source": [
    "def train_model(model, train_loader, val_loader, optimizer, epochs=float('inf'), epsilon=0.1):\n",
    "    early_stopping = EarlyStopping(patience=10, verbose=True)\n",
    "    \n",
    "    epoch = 0\n",
    "    while not early_stopping.early_stop and epoch < epochs:\n",
    "        model.train()\n",
    "        for data, target in train_loader:\n",
    "            optimizer.zero_grad()\n",
    "            output = model(data)\n",
    "            loss = epsilon_insensitive_loss(output, target, epsilon)\n",
    "            loss.backward()\n",
    "            optimizer.step()\n",
    "\n",
    "        model.eval()\n",
    "        val_loss = 0\n",
    "        with torch.no_grad():\n",
    "            for data, target in val_loader:\n",
    "                output = model(data)\n",
    "                val_loss += epsilon_insensitive_loss(output, target, epsilon).item()\n",
    "        val_loss /= len(val_loader)\n",
    "\n",
    "        print(f'Epoch {epoch+1}, Validation Loss: {val_loss}')\n",
    "        early_stopping(val_loss)\n",
    "        \n",
    "        epoch += 1\n",
    "\n",
    "    if epoch >= epochs:\n",
    "        print(\"Reached maximum number of epochs\")"
   ]
  },
  {
   "cell_type": "code",
   "execution_count": 26,
   "id": "3d97e0f5",
   "metadata": {
    "execution": {
     "iopub.execute_input": "2024-04-19T20:04:02.889022Z",
     "iopub.status.busy": "2024-04-19T20:04:02.888549Z",
     "iopub.status.idle": "2024-04-19T20:05:32.821149Z",
     "shell.execute_reply": "2024-04-19T20:05:32.819208Z"
    },
    "papermill": {
     "duration": 89.953487,
     "end_time": "2024-04-19T20:05:32.824583",
     "exception": false,
     "start_time": "2024-04-19T20:04:02.871096",
     "status": "completed"
    },
    "tags": []
   },
   "outputs": [
    {
     "name": "stdout",
     "output_type": "stream",
     "text": [
      "Epoch 1, Validation Loss: 208.89934868212566\n",
      "Epoch 2, Validation Loss: 190.90414115451028\n",
      "Epoch 3, Validation Loss: 173.72517425335008\n",
      "Epoch 4, Validation Loss: 157.5716667427922\n",
      "Epoch 5, Validation Loss: 142.95453734745254\n",
      "Epoch 6, Validation Loss: 130.28701837804934\n",
      "Epoch 7, Validation Loss: 119.71040222976382\n",
      "Epoch 8, Validation Loss: 111.07093240093711\n",
      "Epoch 9, Validation Loss: 104.19225260753505\n",
      "Epoch 10, Validation Loss: 98.75861232328099\n",
      "Epoch 11, Validation Loss: 94.39110979497038\n",
      "Epoch 12, Validation Loss: 90.94048711006215\n",
      "Epoch 13, Validation Loss: 88.17747964922167\n",
      "Epoch 14, Validation Loss: 85.95123442593\n",
      "Epoch 15, Validation Loss: 84.13463478846266\n",
      "Epoch 16, Validation Loss: 82.6475175263866\n",
      "Epoch 17, Validation Loss: 81.40674388961287\n",
      "Epoch 18, Validation Loss: 80.36876552152317\n",
      "Epoch 19, Validation Loss: 79.48894705361877\n",
      "Epoch 20, Validation Loss: 78.7348380183542\n",
      "Epoch 21, Validation Loss: 78.08192600477611\n",
      "Epoch 22, Validation Loss: 77.50482965936725\n",
      "Epoch 23, Validation Loss: 77.02195259751073\n",
      "Epoch 24, Validation Loss: 76.58742962767747\n",
      "Epoch 25, Validation Loss: 76.20340652971078\n",
      "Epoch 26, Validation Loss: 75.8681682814036\n",
      "Epoch 27, Validation Loss: 75.5580633555027\n",
      "Epoch 28, Validation Loss: 75.28108932798271\n",
      "Epoch 29, Validation Loss: 75.03297492526225\n",
      "Epoch 30, Validation Loss: 74.79835267730107\n",
      "Epoch 31, Validation Loss: 74.59546216749987\n",
      "Epoch 32, Validation Loss: 74.4135772250346\n",
      "Epoch 33, Validation Loss: 74.24648603224597\n",
      "Epoch 34, Validation Loss: 74.09156923104595\n",
      "Epoch 35, Validation Loss: 73.95215374270812\n",
      "Epoch 36, Validation Loss: 73.82615222046707\n",
      "Epoch 37, Validation Loss: 73.71101995809188\n",
      "Epoch 38, Validation Loss: 73.61193051875033\n",
      "Epoch 39, Validation Loss: 73.51387882864239\n",
      "Epoch 40, Validation Loss: 73.42824865176978\n",
      "Epoch 41, Validation Loss: 73.35445525314634\n",
      "Epoch 42, Validation Loss: 73.28863022658999\n",
      "Epoch 43, Validation Loss: 73.22648325029589\n",
      "Epoch 44, Validation Loss: 73.16911636756745\n",
      "Epoch 45, Validation Loss: 73.11906367421939\n",
      "Epoch 46, Validation Loss: 73.07839708138775\n",
      "Epoch 47, Validation Loss: 73.0319439464847\n",
      "Epoch 48, Validation Loss: 72.99209289045524\n",
      "Epoch 49, Validation Loss: 72.95211114946581\n",
      "Epoch 50, Validation Loss: 72.91247192281762\n",
      "Epoch 51, Validation Loss: 72.87246507050975\n",
      "Epoch 52, Validation Loss: 72.84049954951205\n",
      "Epoch 53, Validation Loss: 72.81598686066684\n",
      "Epoch 54, Validation Loss: 72.78704179675374\n",
      "Epoch 55, Validation Loss: 72.76350152729363\n",
      "Epoch 56, Validation Loss: 72.73608969378945\n",
      "Epoch 57, Validation Loss: 72.71954722120272\n",
      "Epoch 58, Validation Loss: 72.70225648690533\n",
      "Epoch 59, Validation Loss: 72.68607375795479\n",
      "Epoch 60, Validation Loss: 72.66933456319848\n",
      "Epoch 61, Validation Loss: 72.65346772149698\n",
      "Epoch 62, Validation Loss: 72.64404726344229\n",
      "Epoch 63, Validation Loss: 72.63092177435263\n",
      "Epoch 64, Validation Loss: 72.6191958749531\n",
      "Epoch 65, Validation Loss: 72.60436913193456\n",
      "Epoch 66, Validation Loss: 72.59178522880504\n",
      "Epoch 67, Validation Loss: 72.58075234116308\n",
      "Epoch 68, Validation Loss: 72.57163094526885\n",
      "Epoch 69, Validation Loss: 72.56834239833402\n",
      "Epoch 70, Validation Loss: 72.55640383587767\n",
      "Epoch 71, Validation Loss: 72.54531185832245\n",
      "Epoch 72, Validation Loss: 72.53116051882309\n",
      "Epoch 73, Validation Loss: 72.52190833691729\n",
      "Epoch 74, Validation Loss: 72.51578420676933\n",
      "Epoch 75, Validation Loss: 72.5088245316057\n",
      "Epoch 76, Validation Loss: 72.50021865036314\n",
      "Epoch 77, Validation Loss: 72.49543312527486\n",
      "Epoch 78, Validation Loss: 72.49591031611361\n",
      "Epoch 79, Validation Loss: 72.49458467091945\n",
      "Epoch 80, Validation Loss: 72.48696570996417\n",
      "Epoch 81, Validation Loss: 72.4849342447243\n",
      "Epoch 82, Validation Loss: 72.47463269265282\n",
      "Epoch 83, Validation Loss: 72.47747196424876\n",
      "Epoch 84, Validation Loss: 72.47326690471725\n",
      "Epoch 85, Validation Loss: 72.46576089416908\n",
      "Epoch 86, Validation Loss: 72.46462143651696\n",
      "Epoch 87, Validation Loss: 72.45568511659737\n",
      "Epoch 88, Validation Loss: 72.45012409639675\n",
      "Epoch 89, Validation Loss: 72.44254239821277\n",
      "Epoch 90, Validation Loss: 72.44039853834948\n",
      "Epoch 91, Validation Loss: 72.4387356840222\n",
      "Epoch 92, Validation Loss: 72.44095230102539\n",
      "Epoch 93, Validation Loss: 72.44177880192434\n",
      "Epoch 94, Validation Loss: 72.44862870980572\n",
      "Epoch 95, Validation Loss: 72.44236879159283\n",
      "Epoch 96, Validation Loss: 72.43604743401735\n",
      "Epoch 97, Validation Loss: 72.43354287052786\n",
      "Epoch 98, Validation Loss: 72.43688889055062\n",
      "Epoch 99, Validation Loss: 72.43248233416223\n",
      "Epoch 100, Validation Loss: 72.43173849345833\n",
      "Epoch 101, Validation Loss: 72.42869514819013\n",
      "Epoch 102, Validation Loss: 72.4233025809787\n",
      "Epoch 103, Validation Loss: 72.42260812923608\n",
      "Epoch 104, Validation Loss: 72.42541018858651\n",
      "Epoch 105, Validation Loss: 72.42102422145818\n",
      "Epoch 106, Validation Loss: 72.41021650200648\n",
      "Epoch 107, Validation Loss: 72.41339530692196\n",
      "Epoch 108, Validation Loss: 72.41341155096396\n",
      "Epoch 109, Validation Loss: 72.41476359588421\n",
      "Epoch 110, Validation Loss: 72.41011395991244\n",
      "Epoch 111, Validation Loss: 72.40669662273483\n",
      "Epoch 112, Validation Loss: 72.40225103517241\n",
      "Epoch 113, Validation Loss: 72.40615485993442\n",
      "Epoch 114, Validation Loss: 72.407515797394\n",
      "Epoch 115, Validation Loss: 72.40781996265942\n",
      "Epoch 116, Validation Loss: 72.41066506998429\n",
      "Epoch 117, Validation Loss: 72.409398615755\n",
      "Epoch 118, Validation Loss: 72.41028142764868\n",
      "Epoch 119, Validation Loss: 72.41469579027189\n",
      "Epoch 120, Validation Loss: 72.40902960063606\n",
      "Epoch 121, Validation Loss: 72.40675899682455\n",
      "Epoch 122, Validation Loss: 72.40481089914081\n",
      "Early stopping\n"
     ]
    }
   ],
   "source": [
    "train_model(model, train_loader, val_loader, optimizer)"
   ]
  },
  {
   "cell_type": "markdown",
   "id": "5cdb776c",
   "metadata": {
    "papermill": {
     "duration": 0.029141,
     "end_time": "2024-04-19T20:05:32.883439",
     "exception": false,
     "start_time": "2024-04-19T20:05:32.854298",
     "status": "completed"
    },
    "tags": []
   },
   "source": [
    "# Test Results"
   ]
  },
  {
   "cell_type": "code",
   "execution_count": 27,
   "id": "1ae237cc",
   "metadata": {
    "execution": {
     "iopub.execute_input": "2024-04-19T20:05:32.944322Z",
     "iopub.status.busy": "2024-04-19T20:05:32.943827Z",
     "iopub.status.idle": "2024-04-19T20:05:32.950929Z",
     "shell.execute_reply": "2024-04-19T20:05:32.949853Z"
    },
    "papermill": {
     "duration": 0.040876,
     "end_time": "2024-04-19T20:05:32.953248",
     "exception": false,
     "start_time": "2024-04-19T20:05:32.912372",
     "status": "completed"
    },
    "tags": []
   },
   "outputs": [],
   "source": [
    "def predict(model, test_loader):\n",
    "    model.eval() \n",
    "    predictions = []\n",
    "    with torch.no_grad():  \n",
    "        for data in test_loader:\n",
    "            inputs = data[0]\n",
    "            outputs = model(inputs)\n",
    "            predictions.append(outputs)\n",
    "\n",
    "    predictions = torch.cat(predictions).view(-1)\n",
    "    return predictions"
   ]
  },
  {
   "cell_type": "code",
   "execution_count": 28,
   "id": "96c9cdcc",
   "metadata": {
    "execution": {
     "iopub.execute_input": "2024-04-19T20:05:33.013396Z",
     "iopub.status.busy": "2024-04-19T20:05:33.012924Z",
     "iopub.status.idle": "2024-04-19T20:05:33.119773Z",
     "shell.execute_reply": "2024-04-19T20:05:33.118302Z"
    },
    "papermill": {
     "duration": 0.141172,
     "end_time": "2024-04-19T20:05:33.123126",
     "exception": false,
     "start_time": "2024-04-19T20:05:32.981954",
     "status": "completed"
    },
    "tags": []
   },
   "outputs": [],
   "source": [
    "model_predictions = predict(model, test_loader)"
   ]
  },
  {
   "cell_type": "code",
   "execution_count": 29,
   "id": "1ac4b5e8",
   "metadata": {
    "execution": {
     "iopub.execute_input": "2024-04-19T20:05:33.178965Z",
     "iopub.status.busy": "2024-04-19T20:05:33.178473Z",
     "iopub.status.idle": "2024-04-19T20:05:33.186100Z",
     "shell.execute_reply": "2024-04-19T20:05:33.184889Z"
    },
    "papermill": {
     "duration": 0.039307,
     "end_time": "2024-04-19T20:05:33.189197",
     "exception": false,
     "start_time": "2024-04-19T20:05:33.149890",
     "status": "completed"
    },
    "tags": []
   },
   "outputs": [
    {
     "name": "stdout",
     "output_type": "stream",
     "text": [
      "Sample predictions: [119.715416 182.30804  148.41095  138.75845  135.82666  114.4441\n",
      " 209.74246  189.79639  197.04825  122.59105 ]\n"
     ]
    }
   ],
   "source": [
    "predictions_np = model_predictions.numpy()\n",
    "print(\"Sample predictions:\", predictions_np[:10])"
   ]
  },
  {
   "cell_type": "code",
   "execution_count": 30,
   "id": "0339c6b3",
   "metadata": {
    "execution": {
     "iopub.execute_input": "2024-04-19T20:05:33.347154Z",
     "iopub.status.busy": "2024-04-19T20:05:33.346378Z",
     "iopub.status.idle": "2024-04-19T20:05:33.352644Z",
     "shell.execute_reply": "2024-04-19T20:05:33.351725Z"
    },
    "papermill": {
     "duration": 0.03884,
     "end_time": "2024-04-19T20:05:33.355141",
     "exception": false,
     "start_time": "2024-04-19T20:05:33.316301",
     "status": "completed"
    },
    "tags": []
   },
   "outputs": [],
   "source": [
    "# Define MSE & MAE\n",
    "def mean_squared_error(predictions, targets):\n",
    "    return ((predictions - targets) ** 2).mean()\n",
    "\n",
    "def mean_absolute_error(predictions, targets):\n",
    "    return torch.abs(predictions - targets).mean()"
   ]
  },
  {
   "cell_type": "code",
   "execution_count": 31,
   "id": "c725313d",
   "metadata": {
    "execution": {
     "iopub.execute_input": "2024-04-19T20:05:33.413110Z",
     "iopub.status.busy": "2024-04-19T20:05:33.412333Z",
     "iopub.status.idle": "2024-04-19T20:05:33.421508Z",
     "shell.execute_reply": "2024-04-19T20:05:33.420526Z"
    },
    "papermill": {
     "duration": 0.041654,
     "end_time": "2024-04-19T20:05:33.424311",
     "exception": false,
     "start_time": "2024-04-19T20:05:33.382657",
     "status": "completed"
    },
    "tags": []
   },
   "outputs": [],
   "source": [
    "def evaluate_model(model, test_loader):\n",
    "    model.eval() \n",
    "    predictions, actuals = [], []\n",
    "    with torch.no_grad():  \n",
    "        for data, target in test_loader:\n",
    "            output = model(data)\n",
    "            predictions.append(output)\n",
    "            actuals.append(target)\n",
    "    \n",
    "    predictions = torch.cat(predictions).view(-1)\n",
    "    actuals = torch.cat(actuals).view(-1)\n",
    "    \n",
    "    mse = mean_squared_error(predictions, actuals)\n",
    "    mae = mean_absolute_error(predictions, actuals)\n",
    "    print(f'Mean Squared Error: {mse.item()}')\n",
    "    print(f'Mean Absolute Error: {mae.item()}')\n",
    "\n",
    "    return mse, mae"
   ]
  },
  {
   "cell_type": "code",
   "execution_count": 32,
   "id": "728de428",
   "metadata": {
    "execution": {
     "iopub.execute_input": "2024-04-19T20:05:33.482866Z",
     "iopub.status.busy": "2024-04-19T20:05:33.481862Z",
     "iopub.status.idle": "2024-04-19T20:05:33.610409Z",
     "shell.execute_reply": "2024-04-19T20:05:33.609082Z"
    },
    "papermill": {
     "duration": 0.160271,
     "end_time": "2024-04-19T20:05:33.613173",
     "exception": false,
     "start_time": "2024-04-19T20:05:33.452902",
     "status": "completed"
    },
    "tags": []
   },
   "outputs": [
    {
     "name": "stdout",
     "output_type": "stream",
     "text": [
      "Mean Squared Error: 11313.8037109375\n",
      "Mean Absolute Error: 72.40684509277344\n"
     ]
    },
    {
     "data": {
      "text/plain": [
       "(tensor(11313.8037), tensor(72.4068))"
      ]
     },
     "execution_count": 32,
     "metadata": {},
     "output_type": "execute_result"
    }
   ],
   "source": [
    "evaluate_model(model, test_loader)"
   ]
  }
 ],
 "metadata": {
  "kaggle": {
   "accelerator": "none",
   "dataSources": [
    {
     "datasetId": 2894281,
     "sourceId": 4990113,
     "sourceType": "datasetVersion"
    }
   ],
   "dockerImageVersionId": 30684,
   "isGpuEnabled": false,
   "isInternetEnabled": true,
   "language": "python",
   "sourceType": "notebook"
  },
  "kernelspec": {
   "display_name": "Python 3",
   "language": "python",
   "name": "python3"
  },
  "language_info": {
   "codemirror_mode": {
    "name": "ipython",
    "version": 3
   },
   "file_extension": ".py",
   "mimetype": "text/x-python",
   "name": "python",
   "nbconvert_exporter": "python",
   "pygments_lexer": "ipython3",
   "version": "3.10.13"
  },
  "papermill": {
   "default_parameters": {},
   "duration": 114.031242,
   "end_time": "2024-04-19T20:05:35.370152",
   "environment_variables": {},
   "exception": null,
   "input_path": "__notebook__.ipynb",
   "output_path": "__notebook__.ipynb",
   "parameters": {},
   "start_time": "2024-04-19T20:03:41.338910",
   "version": "2.5.0"
  }
 },
 "nbformat": 4,
 "nbformat_minor": 5
}
