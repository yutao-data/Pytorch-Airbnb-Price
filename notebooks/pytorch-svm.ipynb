{
 "cells": [
  {
   "cell_type": "code",
   "execution_count": 1,
   "id": "2d3e461d",
   "metadata": {
    "_cell_guid": "b1076dfc-b9ad-4769-8c92-a6c4dae69d19",
    "_uuid": "8f2839f25d086af736a60e9eeb907d3b93b6e0e5",
    "execution": {
     "iopub.execute_input": "2024-04-19T16:20:51.134008Z",
     "iopub.status.busy": "2024-04-19T16:20:51.133588Z",
     "iopub.status.idle": "2024-04-19T16:20:57.174444Z",
     "shell.execute_reply": "2024-04-19T16:20:57.173443Z"
    },
    "papermill": {
     "duration": 6.051499,
     "end_time": "2024-04-19T16:20:57.176808",
     "exception": false,
     "start_time": "2024-04-19T16:20:51.125309",
     "status": "completed"
    },
    "tags": []
   },
   "outputs": [],
   "source": [
    "import numpy as np \n",
    "import pandas as pd\n",
    "from matplotlib import pyplot as plt\n",
    "\n",
    "from sklearn.preprocessing import StandardScaler, OneHotEncoder\n",
    "from sklearn.compose import ColumnTransformer\n",
    "from sklearn.pipeline import Pipeline\n",
    "\n",
    "import torch\n",
    "import torch.nn as nn\n",
    "from torch.utils.data import DataLoader, TensorDataset\n",
    "from sklearn.model_selection import train_test_split"
   ]
  },
  {
   "cell_type": "code",
   "execution_count": 2,
   "id": "709d746b",
   "metadata": {
    "execution": {
     "iopub.execute_input": "2024-04-19T16:20:57.191159Z",
     "iopub.status.busy": "2024-04-19T16:20:57.189765Z",
     "iopub.status.idle": "2024-04-19T16:20:57.261141Z",
     "shell.execute_reply": "2024-04-19T16:20:57.259927Z"
    },
    "papermill": {
     "duration": 0.08085,
     "end_time": "2024-04-19T16:20:57.263586",
     "exception": false,
     "start_time": "2024-04-19T16:20:57.182736",
     "status": "completed"
    },
    "tags": []
   },
   "outputs": [
    {
     "data": {
      "text/html": [
       "<div>\n",
       "<style scoped>\n",
       "    .dataframe tbody tr th:only-of-type {\n",
       "        vertical-align: middle;\n",
       "    }\n",
       "\n",
       "    .dataframe tbody tr th {\n",
       "        vertical-align: top;\n",
       "    }\n",
       "\n",
       "    .dataframe thead th {\n",
       "        text-align: right;\n",
       "    }\n",
       "</style>\n",
       "<table border=\"1\" class=\"dataframe\">\n",
       "  <thead>\n",
       "    <tr style=\"text-align: right;\">\n",
       "      <th></th>\n",
       "      <th>realSum</th>\n",
       "      <th>room_type</th>\n",
       "      <th>room_shared</th>\n",
       "      <th>room_private</th>\n",
       "      <th>person_capacity</th>\n",
       "      <th>host_is_superhost</th>\n",
       "      <th>multi</th>\n",
       "      <th>biz</th>\n",
       "      <th>cleanliness_rating</th>\n",
       "      <th>guest_satisfaction_overall</th>\n",
       "      <th>bedrooms</th>\n",
       "      <th>dist</th>\n",
       "      <th>metro_dist</th>\n",
       "      <th>attr_index</th>\n",
       "      <th>attr_index_norm</th>\n",
       "      <th>rest_index</th>\n",
       "      <th>rest_index_norm</th>\n",
       "      <th>lng</th>\n",
       "      <th>lat</th>\n",
       "    </tr>\n",
       "  </thead>\n",
       "  <tbody>\n",
       "    <tr>\n",
       "      <th>0</th>\n",
       "      <td>474.317499</td>\n",
       "      <td>Entire home/apt</td>\n",
       "      <td>False</td>\n",
       "      <td>False</td>\n",
       "      <td>4.0</td>\n",
       "      <td>False</td>\n",
       "      <td>0</td>\n",
       "      <td>1</td>\n",
       "      <td>10.0</td>\n",
       "      <td>91.0</td>\n",
       "      <td>1</td>\n",
       "      <td>1.111996</td>\n",
       "      <td>0.630491</td>\n",
       "      <td>526.469420</td>\n",
       "      <td>17.942927</td>\n",
       "      <td>915.587083</td>\n",
       "      <td>20.154890</td>\n",
       "      <td>2.17556</td>\n",
       "      <td>41.39624</td>\n",
       "    </tr>\n",
       "    <tr>\n",
       "      <th>1</th>\n",
       "      <td>169.897829</td>\n",
       "      <td>Private room</td>\n",
       "      <td>False</td>\n",
       "      <td>True</td>\n",
       "      <td>2.0</td>\n",
       "      <td>True</td>\n",
       "      <td>1</td>\n",
       "      <td>0</td>\n",
       "      <td>10.0</td>\n",
       "      <td>88.0</td>\n",
       "      <td>1</td>\n",
       "      <td>1.751839</td>\n",
       "      <td>0.124017</td>\n",
       "      <td>320.127526</td>\n",
       "      <td>10.910462</td>\n",
       "      <td>794.277350</td>\n",
       "      <td>17.484489</td>\n",
       "      <td>2.14906</td>\n",
       "      <td>41.38714</td>\n",
       "    </tr>\n",
       "    <tr>\n",
       "      <th>2</th>\n",
       "      <td>161.984779</td>\n",
       "      <td>Private room</td>\n",
       "      <td>False</td>\n",
       "      <td>True</td>\n",
       "      <td>4.0</td>\n",
       "      <td>False</td>\n",
       "      <td>0</td>\n",
       "      <td>1</td>\n",
       "      <td>9.0</td>\n",
       "      <td>88.0</td>\n",
       "      <td>1</td>\n",
       "      <td>1.670493</td>\n",
       "      <td>0.080322</td>\n",
       "      <td>344.073936</td>\n",
       "      <td>11.726595</td>\n",
       "      <td>840.673617</td>\n",
       "      <td>18.505814</td>\n",
       "      <td>2.15357</td>\n",
       "      <td>41.37859</td>\n",
       "    </tr>\n",
       "    <tr>\n",
       "      <th>3</th>\n",
       "      <td>367.956804</td>\n",
       "      <td>Entire home/apt</td>\n",
       "      <td>False</td>\n",
       "      <td>False</td>\n",
       "      <td>3.0</td>\n",
       "      <td>False</td>\n",
       "      <td>0</td>\n",
       "      <td>1</td>\n",
       "      <td>10.0</td>\n",
       "      <td>91.0</td>\n",
       "      <td>1</td>\n",
       "      <td>1.475847</td>\n",
       "      <td>0.093107</td>\n",
       "      <td>400.057449</td>\n",
       "      <td>13.634603</td>\n",
       "      <td>946.589884</td>\n",
       "      <td>20.837357</td>\n",
       "      <td>2.16839</td>\n",
       "      <td>41.37390</td>\n",
       "    </tr>\n",
       "    <tr>\n",
       "      <th>4</th>\n",
       "      <td>196.895292</td>\n",
       "      <td>Private room</td>\n",
       "      <td>False</td>\n",
       "      <td>True</td>\n",
       "      <td>3.0</td>\n",
       "      <td>False</td>\n",
       "      <td>1</td>\n",
       "      <td>0</td>\n",
       "      <td>9.0</td>\n",
       "      <td>91.0</td>\n",
       "      <td>1</td>\n",
       "      <td>1.855452</td>\n",
       "      <td>0.272486</td>\n",
       "      <td>346.042245</td>\n",
       "      <td>11.793678</td>\n",
       "      <td>792.296039</td>\n",
       "      <td>17.440874</td>\n",
       "      <td>2.15238</td>\n",
       "      <td>41.37699</td>\n",
       "    </tr>\n",
       "  </tbody>\n",
       "</table>\n",
       "</div>"
      ],
      "text/plain": [
       "      realSum        room_type  room_shared  room_private  person_capacity  \\\n",
       "0  474.317499  Entire home/apt        False         False              4.0   \n",
       "1  169.897829     Private room        False          True              2.0   \n",
       "2  161.984779     Private room        False          True              4.0   \n",
       "3  367.956804  Entire home/apt        False         False              3.0   \n",
       "4  196.895292     Private room        False          True              3.0   \n",
       "\n",
       "   host_is_superhost  multi  biz  cleanliness_rating  \\\n",
       "0              False      0    1                10.0   \n",
       "1               True      1    0                10.0   \n",
       "2              False      0    1                 9.0   \n",
       "3              False      0    1                10.0   \n",
       "4              False      1    0                 9.0   \n",
       "\n",
       "   guest_satisfaction_overall  bedrooms      dist  metro_dist  attr_index  \\\n",
       "0                        91.0         1  1.111996    0.630491  526.469420   \n",
       "1                        88.0         1  1.751839    0.124017  320.127526   \n",
       "2                        88.0         1  1.670493    0.080322  344.073936   \n",
       "3                        91.0         1  1.475847    0.093107  400.057449   \n",
       "4                        91.0         1  1.855452    0.272486  346.042245   \n",
       "\n",
       "   attr_index_norm  rest_index  rest_index_norm      lng       lat  \n",
       "0        17.942927  915.587083        20.154890  2.17556  41.39624  \n",
       "1        10.910462  794.277350        17.484489  2.14906  41.38714  \n",
       "2        11.726595  840.673617        18.505814  2.15357  41.37859  \n",
       "3        13.634603  946.589884        20.837357  2.16839  41.37390  \n",
       "4        11.793678  792.296039        17.440874  2.15238  41.37699  "
      ]
     },
     "execution_count": 2,
     "metadata": {},
     "output_type": "execute_result"
    }
   ],
   "source": [
    "path = \"/kaggle/input/airbnb-price-determinants-in-europe/barcelona_weekdays.csv\"\n",
    "df = pd.read_csv(path, index_col=0)\n",
    "df.head()"
   ]
  },
  {
   "cell_type": "markdown",
   "id": "0e1b2d37",
   "metadata": {
    "papermill": {
     "duration": 0.005545,
     "end_time": "2024-04-19T16:20:57.275492",
     "exception": false,
     "start_time": "2024-04-19T16:20:57.269947",
     "status": "completed"
    },
    "tags": []
   },
   "source": [
    "# Data Preposessing"
   ]
  },
  {
   "cell_type": "markdown",
   "id": "594cbde6",
   "metadata": {
    "papermill": {
     "duration": 0.005447,
     "end_time": "2024-04-19T16:20:57.286782",
     "exception": false,
     "start_time": "2024-04-19T16:20:57.281335",
     "status": "completed"
    },
    "tags": []
   },
   "source": [
    "## Add data shuffle"
   ]
  },
  {
   "cell_type": "code",
   "execution_count": 3,
   "id": "2db00024",
   "metadata": {
    "execution": {
     "iopub.execute_input": "2024-04-19T16:20:57.300127Z",
     "iopub.status.busy": "2024-04-19T16:20:57.299514Z",
     "iopub.status.idle": "2024-04-19T16:20:57.308368Z",
     "shell.execute_reply": "2024-04-19T16:20:57.307363Z"
    },
    "papermill": {
     "duration": 0.018046,
     "end_time": "2024-04-19T16:20:57.310582",
     "exception": false,
     "start_time": "2024-04-19T16:20:57.292536",
     "status": "completed"
    },
    "tags": []
   },
   "outputs": [],
   "source": [
    "np.random.seed(144)\n",
    "df = df.sample(frac=1).reset_index(drop=True)"
   ]
  },
  {
   "cell_type": "markdown",
   "id": "2ec2a455",
   "metadata": {
    "papermill": {
     "duration": 0.005556,
     "end_time": "2024-04-19T16:20:57.322418",
     "exception": false,
     "start_time": "2024-04-19T16:20:57.316862",
     "status": "completed"
    },
    "tags": []
   },
   "source": [
    "## DEALING WITH MISSING VALUES"
   ]
  },
  {
   "cell_type": "code",
   "execution_count": 4,
   "id": "d1b4a81f",
   "metadata": {
    "execution": {
     "iopub.execute_input": "2024-04-19T16:20:57.336632Z",
     "iopub.status.busy": "2024-04-19T16:20:57.335994Z",
     "iopub.status.idle": "2024-04-19T16:20:57.393087Z",
     "shell.execute_reply": "2024-04-19T16:20:57.391807Z"
    },
    "papermill": {
     "duration": 0.066862,
     "end_time": "2024-04-19T16:20:57.395574",
     "exception": false,
     "start_time": "2024-04-19T16:20:57.328712",
     "status": "completed"
    },
    "tags": []
   },
   "outputs": [
    {
     "data": {
      "text/html": [
       "<div>\n",
       "<style scoped>\n",
       "    .dataframe tbody tr th:only-of-type {\n",
       "        vertical-align: middle;\n",
       "    }\n",
       "\n",
       "    .dataframe tbody tr th {\n",
       "        vertical-align: top;\n",
       "    }\n",
       "\n",
       "    .dataframe thead th {\n",
       "        text-align: right;\n",
       "    }\n",
       "</style>\n",
       "<table border=\"1\" class=\"dataframe\">\n",
       "  <thead>\n",
       "    <tr style=\"text-align: right;\">\n",
       "      <th></th>\n",
       "      <th>realSum</th>\n",
       "      <th>person_capacity</th>\n",
       "      <th>multi</th>\n",
       "      <th>biz</th>\n",
       "      <th>cleanliness_rating</th>\n",
       "      <th>guest_satisfaction_overall</th>\n",
       "      <th>bedrooms</th>\n",
       "      <th>dist</th>\n",
       "      <th>metro_dist</th>\n",
       "      <th>attr_index</th>\n",
       "      <th>attr_index_norm</th>\n",
       "      <th>rest_index</th>\n",
       "      <th>rest_index_norm</th>\n",
       "      <th>lng</th>\n",
       "      <th>lat</th>\n",
       "    </tr>\n",
       "  </thead>\n",
       "  <tbody>\n",
       "    <tr>\n",
       "      <th>count</th>\n",
       "      <td>1555.000000</td>\n",
       "      <td>1555.000000</td>\n",
       "      <td>1555.000000</td>\n",
       "      <td>1555.000000</td>\n",
       "      <td>1555.000000</td>\n",
       "      <td>1555.000000</td>\n",
       "      <td>1555.000000</td>\n",
       "      <td>1555.000000</td>\n",
       "      <td>1555.000000</td>\n",
       "      <td>1555.000000</td>\n",
       "      <td>1555.000000</td>\n",
       "      <td>1555.000000</td>\n",
       "      <td>1555.000000</td>\n",
       "      <td>1555.000000</td>\n",
       "      <td>1555.000000</td>\n",
       "    </tr>\n",
       "    <tr>\n",
       "      <th>mean</th>\n",
       "      <td>288.391667</td>\n",
       "      <td>2.756270</td>\n",
       "      <td>0.376849</td>\n",
       "      <td>0.350482</td>\n",
       "      <td>9.285531</td>\n",
       "      <td>90.929260</td>\n",
       "      <td>1.216720</td>\n",
       "      <td>2.117302</td>\n",
       "      <td>0.434875</td>\n",
       "      <td>464.371805</td>\n",
       "      <td>15.826540</td>\n",
       "      <td>877.664048</td>\n",
       "      <td>19.320087</td>\n",
       "      <td>2.168975</td>\n",
       "      <td>41.393308</td>\n",
       "    </tr>\n",
       "    <tr>\n",
       "      <th>std</th>\n",
       "      <td>321.180435</td>\n",
       "      <td>1.276615</td>\n",
       "      <td>0.484752</td>\n",
       "      <td>0.477275</td>\n",
       "      <td>1.007445</td>\n",
       "      <td>8.695707</td>\n",
       "      <td>0.569475</td>\n",
       "      <td>1.351517</td>\n",
       "      <td>0.275846</td>\n",
       "      <td>268.318982</td>\n",
       "      <td>9.144744</td>\n",
       "      <td>461.294504</td>\n",
       "      <td>10.154512</td>\n",
       "      <td>0.019657</td>\n",
       "      <td>0.015947</td>\n",
       "    </tr>\n",
       "    <tr>\n",
       "      <th>min</th>\n",
       "      <td>69.588289</td>\n",
       "      <td>2.000000</td>\n",
       "      <td>0.000000</td>\n",
       "      <td>0.000000</td>\n",
       "      <td>2.000000</td>\n",
       "      <td>20.000000</td>\n",
       "      <td>0.000000</td>\n",
       "      <td>0.119903</td>\n",
       "      <td>0.013004</td>\n",
       "      <td>93.820461</td>\n",
       "      <td>3.197553</td>\n",
       "      <td>159.835498</td>\n",
       "      <td>3.518471</td>\n",
       "      <td>2.105190</td>\n",
       "      <td>41.349540</td>\n",
       "    </tr>\n",
       "    <tr>\n",
       "      <th>25%</th>\n",
       "      <td>161.984779</td>\n",
       "      <td>2.000000</td>\n",
       "      <td>0.000000</td>\n",
       "      <td>0.000000</td>\n",
       "      <td>9.000000</td>\n",
       "      <td>88.000000</td>\n",
       "      <td>1.000000</td>\n",
       "      <td>1.090570</td>\n",
       "      <td>0.252128</td>\n",
       "      <td>282.772255</td>\n",
       "      <td>9.637335</td>\n",
       "      <td>494.391320</td>\n",
       "      <td>10.883075</td>\n",
       "      <td>2.156000</td>\n",
       "      <td>41.381215</td>\n",
       "    </tr>\n",
       "    <tr>\n",
       "      <th>50%</th>\n",
       "      <td>208.532129</td>\n",
       "      <td>2.000000</td>\n",
       "      <td>0.000000</td>\n",
       "      <td>0.000000</td>\n",
       "      <td>10.000000</td>\n",
       "      <td>93.000000</td>\n",
       "      <td>1.000000</td>\n",
       "      <td>1.751839</td>\n",
       "      <td>0.370507</td>\n",
       "      <td>389.198464</td>\n",
       "      <td>13.264511</td>\n",
       "      <td>801.812049</td>\n",
       "      <td>17.650351</td>\n",
       "      <td>2.170710</td>\n",
       "      <td>41.390360</td>\n",
       "    </tr>\n",
       "    <tr>\n",
       "      <th>75%</th>\n",
       "      <td>335.373659</td>\n",
       "      <td>3.000000</td>\n",
       "      <td>1.000000</td>\n",
       "      <td>1.000000</td>\n",
       "      <td>10.000000</td>\n",
       "      <td>97.000000</td>\n",
       "      <td>1.000000</td>\n",
       "      <td>2.949202</td>\n",
       "      <td>0.554220</td>\n",
       "      <td>591.594276</td>\n",
       "      <td>20.162487</td>\n",
       "      <td>1211.256634</td>\n",
       "      <td>26.663486</td>\n",
       "      <td>2.179375</td>\n",
       "      <td>41.404000</td>\n",
       "    </tr>\n",
       "    <tr>\n",
       "      <th>max</th>\n",
       "      <td>6943.700980</td>\n",
       "      <td>6.000000</td>\n",
       "      <td>1.000000</td>\n",
       "      <td>1.000000</td>\n",
       "      <td>10.000000</td>\n",
       "      <td>100.000000</td>\n",
       "      <td>6.000000</td>\n",
       "      <td>8.443957</td>\n",
       "      <td>2.402779</td>\n",
       "      <td>2934.133441</td>\n",
       "      <td>100.000000</td>\n",
       "      <td>4542.754150</td>\n",
       "      <td>100.000000</td>\n",
       "      <td>2.225520</td>\n",
       "      <td>41.463080</td>\n",
       "    </tr>\n",
       "  </tbody>\n",
       "</table>\n",
       "</div>"
      ],
      "text/plain": [
       "           realSum  person_capacity        multi          biz  \\\n",
       "count  1555.000000      1555.000000  1555.000000  1555.000000   \n",
       "mean    288.391667         2.756270     0.376849     0.350482   \n",
       "std     321.180435         1.276615     0.484752     0.477275   \n",
       "min      69.588289         2.000000     0.000000     0.000000   \n",
       "25%     161.984779         2.000000     0.000000     0.000000   \n",
       "50%     208.532129         2.000000     0.000000     0.000000   \n",
       "75%     335.373659         3.000000     1.000000     1.000000   \n",
       "max    6943.700980         6.000000     1.000000     1.000000   \n",
       "\n",
       "       cleanliness_rating  guest_satisfaction_overall     bedrooms  \\\n",
       "count         1555.000000                 1555.000000  1555.000000   \n",
       "mean             9.285531                   90.929260     1.216720   \n",
       "std              1.007445                    8.695707     0.569475   \n",
       "min              2.000000                   20.000000     0.000000   \n",
       "25%              9.000000                   88.000000     1.000000   \n",
       "50%             10.000000                   93.000000     1.000000   \n",
       "75%             10.000000                   97.000000     1.000000   \n",
       "max             10.000000                  100.000000     6.000000   \n",
       "\n",
       "              dist   metro_dist   attr_index  attr_index_norm   rest_index  \\\n",
       "count  1555.000000  1555.000000  1555.000000      1555.000000  1555.000000   \n",
       "mean      2.117302     0.434875   464.371805        15.826540   877.664048   \n",
       "std       1.351517     0.275846   268.318982         9.144744   461.294504   \n",
       "min       0.119903     0.013004    93.820461         3.197553   159.835498   \n",
       "25%       1.090570     0.252128   282.772255         9.637335   494.391320   \n",
       "50%       1.751839     0.370507   389.198464        13.264511   801.812049   \n",
       "75%       2.949202     0.554220   591.594276        20.162487  1211.256634   \n",
       "max       8.443957     2.402779  2934.133441       100.000000  4542.754150   \n",
       "\n",
       "       rest_index_norm          lng          lat  \n",
       "count      1555.000000  1555.000000  1555.000000  \n",
       "mean         19.320087     2.168975    41.393308  \n",
       "std          10.154512     0.019657     0.015947  \n",
       "min           3.518471     2.105190    41.349540  \n",
       "25%          10.883075     2.156000    41.381215  \n",
       "50%          17.650351     2.170710    41.390360  \n",
       "75%          26.663486     2.179375    41.404000  \n",
       "max         100.000000     2.225520    41.463080  "
      ]
     },
     "execution_count": 4,
     "metadata": {},
     "output_type": "execute_result"
    }
   ],
   "source": [
    "df.describe()"
   ]
  },
  {
   "cell_type": "code",
   "execution_count": 5,
   "id": "c32210d2",
   "metadata": {
    "execution": {
     "iopub.execute_input": "2024-04-19T16:20:57.410772Z",
     "iopub.status.busy": "2024-04-19T16:20:57.409939Z",
     "iopub.status.idle": "2024-04-19T16:20:57.417668Z",
     "shell.execute_reply": "2024-04-19T16:20:57.416369Z"
    },
    "papermill": {
     "duration": 0.018066,
     "end_time": "2024-04-19T16:20:57.419945",
     "exception": false,
     "start_time": "2024-04-19T16:20:57.401879",
     "status": "completed"
    },
    "tags": []
   },
   "outputs": [
    {
     "data": {
      "text/plain": [
       "(1555, 19)"
      ]
     },
     "execution_count": 5,
     "metadata": {},
     "output_type": "execute_result"
    }
   ],
   "source": [
    "df.shape"
   ]
  },
  {
   "cell_type": "code",
   "execution_count": 6,
   "id": "496044e9",
   "metadata": {
    "execution": {
     "iopub.execute_input": "2024-04-19T16:20:57.434350Z",
     "iopub.status.busy": "2024-04-19T16:20:57.433965Z",
     "iopub.status.idle": "2024-04-19T16:20:57.445239Z",
     "shell.execute_reply": "2024-04-19T16:20:57.443895Z"
    },
    "papermill": {
     "duration": 0.021869,
     "end_time": "2024-04-19T16:20:57.448246",
     "exception": false,
     "start_time": "2024-04-19T16:20:57.426377",
     "status": "completed"
    },
    "tags": []
   },
   "outputs": [
    {
     "data": {
      "text/plain": [
       "(1555, 19)"
      ]
     },
     "execution_count": 6,
     "metadata": {},
     "output_type": "execute_result"
    }
   ],
   "source": [
    "df_complete = df.dropna()\n",
    "df_complete.shape"
   ]
  },
  {
   "cell_type": "markdown",
   "id": "34209a6a",
   "metadata": {
    "papermill": {
     "duration": 0.007996,
     "end_time": "2024-04-19T16:20:57.465190",
     "exception": false,
     "start_time": "2024-04-19T16:20:57.457194",
     "status": "completed"
    },
    "tags": []
   },
   "source": [
    "## FINDING OUTLIERS"
   ]
  },
  {
   "cell_type": "code",
   "execution_count": 7,
   "id": "746fcacd",
   "metadata": {
    "execution": {
     "iopub.execute_input": "2024-04-19T16:20:57.481183Z",
     "iopub.status.busy": "2024-04-19T16:20:57.480381Z",
     "iopub.status.idle": "2024-04-19T16:20:58.116037Z",
     "shell.execute_reply": "2024-04-19T16:20:58.114815Z"
    },
    "papermill": {
     "duration": 0.646037,
     "end_time": "2024-04-19T16:20:58.118472",
     "exception": false,
     "start_time": "2024-04-19T16:20:57.472435",
     "status": "completed"
    },
    "tags": []
   },
   "outputs": [
    {
     "data": {
      "image/png": "[encoded data removed]",
      "text/plain": [
       "<Figure size 900x500 with 2 Axes>"
      ]
     },
     "metadata": {},
     "output_type": "display_data"
    }
   ],
   "source": [
    "fig, axes= plt.subplots(1,2, gridspec_kw={'width_ratios': [1, 4]}, figsize=(9,5))\n",
    "df.boxplot(column='realSum',ax=axes[0]);\n",
    "df.hist(column='realSum', ax=axes[1]);"
   ]
  },
  {
   "cell_type": "code",
   "execution_count": 8,
   "id": "352c8aff",
   "metadata": {
    "execution": {
     "iopub.execute_input": "2024-04-19T16:20:58.134287Z",
     "iopub.status.busy": "2024-04-19T16:20:58.133888Z",
     "iopub.status.idle": "2024-04-19T16:20:58.143013Z",
     "shell.execute_reply": "2024-04-19T16:20:58.142139Z"
    },
    "papermill": {
     "duration": 0.019348,
     "end_time": "2024-04-19T16:20:58.144963",
     "exception": false,
     "start_time": "2024-04-19T16:20:58.125615",
     "status": "completed"
    },
    "tags": []
   },
   "outputs": [
    {
     "data": {
      "text/plain": [
       "(161.98477901645447, 335.3736588544697, 173.3888798380152)"
      ]
     },
     "execution_count": 8,
     "metadata": {},
     "output_type": "execute_result"
    }
   ],
   "source": [
    "Q1 = df['realSum'].quantile(0.25)\n",
    "Q3 = df['realSum'].quantile(0.75)\n",
    "IQR = Q3 - Q1\n",
    "\n",
    "Q1, Q3, IQR"
   ]
  },
  {
   "cell_type": "code",
   "execution_count": 9,
   "id": "5dd0c84f",
   "metadata": {
    "execution": {
     "iopub.execute_input": "2024-04-19T16:20:58.162580Z",
     "iopub.status.busy": "2024-04-19T16:20:58.161272Z",
     "iopub.status.idle": "2024-04-19T16:20:58.171010Z",
     "shell.execute_reply": "2024-04-19T16:20:58.169588Z"
    },
    "papermill": {
     "duration": 0.021336,
     "end_time": "2024-04-19T16:20:58.173473",
     "exception": false,
     "start_time": "2024-04-19T16:20:58.152137",
     "status": "completed"
    },
    "tags": []
   },
   "outputs": [
    {
     "data": {
      "text/plain": [
       "(0, 117)"
      ]
     },
     "execution_count": 9,
     "metadata": {},
     "output_type": "execute_result"
    }
   ],
   "source": [
    "small_outliers = df['realSum'] < (Q1 - 1.5 * IQR)\n",
    "big_outliers = df['realSum'] > (Q3 + 1.5 * IQR)\n",
    "\n",
    "sum(small_outliers), sum(big_outliers)"
   ]
  },
  {
   "cell_type": "code",
   "execution_count": 10,
   "id": "9637c55e",
   "metadata": {
    "execution": {
     "iopub.execute_input": "2024-04-19T16:20:58.190292Z",
     "iopub.status.busy": "2024-04-19T16:20:58.189666Z",
     "iopub.status.idle": "2024-04-19T16:20:58.197601Z",
     "shell.execute_reply": "2024-04-19T16:20:58.196578Z"
    },
    "papermill": {
     "duration": 0.018942,
     "end_time": "2024-04-19T16:20:58.199867",
     "exception": false,
     "start_time": "2024-04-19T16:20:58.180925",
     "status": "completed"
    },
    "tags": []
   },
   "outputs": [
    {
     "data": {
      "text/plain": [
       "0      780.133591\n",
       "37    1041.729700\n",
       "39     729.164242\n",
       "43     601.624503\n",
       "79     790.374008\n",
       "Name: realSum, dtype: float64"
      ]
     },
     "execution_count": 10,
     "metadata": {},
     "output_type": "execute_result"
    }
   ],
   "source": [
    "df['realSum'][small_outliers | big_outliers].head()"
   ]
  },
  {
   "cell_type": "code",
   "execution_count": 11,
   "id": "c5a4fc91",
   "metadata": {
    "execution": {
     "iopub.execute_input": "2024-04-19T16:20:58.216227Z",
     "iopub.status.busy": "2024-04-19T16:20:58.215814Z",
     "iopub.status.idle": "2024-04-19T16:20:58.648921Z",
     "shell.execute_reply": "2024-04-19T16:20:58.647831Z"
    },
    "papermill": {
     "duration": 0.443722,
     "end_time": "2024-04-19T16:20:58.650966",
     "exception": false,
     "start_time": "2024-04-19T16:20:58.207244",
     "status": "completed"
    },
    "tags": []
   },
   "outputs": [
    {
     "data": {
      "image/png": "[encoded data removed]",
      "text/plain": [
       "<Figure size 900x500 with 2 Axes>"
      ]
     },
     "metadata": {},
     "output_type": "display_data"
    }
   ],
   "source": [
    "fig, axes= plt.subplots(1,2, gridspec_kw={'width_ratios': [1, 4]}, figsize=(9,5))\n",
    "df[~(small_outliers | big_outliers)].boxplot(column='realSum',ax=axes[0]);\n",
    "df[~(small_outliers | big_outliers)].hist(column='realSum', ax=axes[1]);"
   ]
  },
  {
   "cell_type": "code",
   "execution_count": 12,
   "id": "70e4eaee",
   "metadata": {
    "execution": {
     "iopub.execute_input": "2024-04-19T16:20:58.668073Z",
     "iopub.status.busy": "2024-04-19T16:20:58.667672Z",
     "iopub.status.idle": "2024-04-19T16:20:58.676464Z",
     "shell.execute_reply": "2024-04-19T16:20:58.675175Z"
    },
    "papermill": {
     "duration": 0.019938,
     "end_time": "2024-04-19T16:20:58.678629",
     "exception": false,
     "start_time": "2024-04-19T16:20:58.658691",
     "status": "completed"
    },
    "tags": []
   },
   "outputs": [
    {
     "data": {
      "text/plain": [
       "(1438, 19)"
      ]
     },
     "execution_count": 12,
     "metadata": {},
     "output_type": "execute_result"
    }
   ],
   "source": [
    "df_clean = df[~(small_outliers | big_outliers)]\n",
    "df_clean.shape"
   ]
  },
  {
   "cell_type": "code",
   "execution_count": 13,
   "id": "8f7f412d",
   "metadata": {
    "execution": {
     "iopub.execute_input": "2024-04-19T16:20:58.696046Z",
     "iopub.status.busy": "2024-04-19T16:20:58.695638Z",
     "iopub.status.idle": "2024-04-19T16:20:58.703567Z",
     "shell.execute_reply": "2024-04-19T16:20:58.702531Z"
    },
    "papermill": {
     "duration": 0.019234,
     "end_time": "2024-04-19T16:20:58.705693",
     "exception": false,
     "start_time": "2024-04-19T16:20:58.686459",
     "status": "completed"
    },
    "tags": []
   },
   "outputs": [
    {
     "data": {
      "text/plain": [
       "realSum                       float64\n",
       "room_type                      object\n",
       "room_shared                      bool\n",
       "room_private                     bool\n",
       "person_capacity               float64\n",
       "host_is_superhost                bool\n",
       "multi                           int64\n",
       "biz                             int64\n",
       "cleanliness_rating            float64\n",
       "guest_satisfaction_overall    float64\n",
       "bedrooms                        int64\n",
       "dist                          float64\n",
       "metro_dist                    float64\n",
       "attr_index                    float64\n",
       "attr_index_norm               float64\n",
       "rest_index                    float64\n",
       "rest_index_norm               float64\n",
       "lng                           float64\n",
       "lat                           float64\n",
       "dtype: object"
      ]
     },
     "execution_count": 13,
     "metadata": {},
     "output_type": "execute_result"
    }
   ],
   "source": [
    "df_clean.dtypes"
   ]
  },
  {
   "cell_type": "code",
   "execution_count": 14,
   "id": "4bf58362",
   "metadata": {
    "execution": {
     "iopub.execute_input": "2024-04-19T16:20:58.724406Z",
     "iopub.status.busy": "2024-04-19T16:20:58.723965Z",
     "iopub.status.idle": "2024-04-19T16:20:58.748890Z",
     "shell.execute_reply": "2024-04-19T16:20:58.747900Z"
    },
    "papermill": {
     "duration": 0.037845,
     "end_time": "2024-04-19T16:20:58.751558",
     "exception": false,
     "start_time": "2024-04-19T16:20:58.713713",
     "status": "completed"
    },
    "tags": []
   },
   "outputs": [
    {
     "name": "stdout",
     "output_type": "stream",
     "text": [
      "['person_capacity', 'multi', 'biz', 'cleanliness_rating', 'guest_satisfaction_overall', 'bedrooms', 'dist', 'metro_dist', 'attr_index', 'attr_index_norm', 'rest_index', 'rest_index_norm', 'lng', 'lat', 'room_type_Entire home/apt', 'room_type_Private room', 'room_type_Shared room', 'room_shared_False', 'room_shared_True', 'room_private_False', 'room_private_True', 'host_is_superhost_False', 'host_is_superhost_True']\n",
      "(1438, 23)\n"
     ]
    }
   ],
   "source": [
    "# Identifying categorical and numerical columns\n",
    "categorical_cols = [col for col in df_clean.columns if df_clean[col].dtype in ['object', 'bool']]\n",
    "numerical_cols = [col for col in df_clean.columns if df_clean[col].dtype in ['int64', 'float64'] and col != 'realSum']\n",
    "\n",
    "# Adjust transformers if necessary\n",
    "categorical_transformer = OneHotEncoder(handle_unknown='ignore')\n",
    "numerical_transformer = StandardScaler()\n",
    "\n",
    "# Update preprocessor\n",
    "preprocessor = ColumnTransformer(\n",
    "    transformers=[\n",
    "        ('num', numerical_transformer, numerical_cols),\n",
    "        ('cat', categorical_transformer, categorical_cols)\n",
    "    ])\n",
    "\n",
    "# Fit and transform the data\n",
    "df_transformed = preprocessor.fit_transform(df_clean.drop('realSum', axis=1))\n",
    "\n",
    "# Check transformed feature names and dimensions\n",
    "transformed_features = preprocessor.transformers_[0][1].get_feature_names_out(numerical_cols).tolist() + \\\n",
    "                       preprocessor.transformers_[1][1].get_feature_names_out(categorical_cols).tolist()\n",
    "\n",
    "print(transformed_features)\n",
    "print(df_transformed.shape)"
   ]
  },
  {
   "cell_type": "markdown",
   "id": "df6db6ae",
   "metadata": {
    "papermill": {
     "duration": 0.008176,
     "end_time": "2024-04-19T16:20:58.767895",
     "exception": false,
     "start_time": "2024-04-19T16:20:58.759719",
     "status": "completed"
    },
    "tags": []
   },
   "source": [
    "# Prepare Training Data"
   ]
  },
  {
   "cell_type": "code",
   "execution_count": 15,
   "id": "afcda4b8",
   "metadata": {
    "execution": {
     "iopub.execute_input": "2024-04-19T16:20:58.786063Z",
     "iopub.status.busy": "2024-04-19T16:20:58.785335Z",
     "iopub.status.idle": "2024-04-19T16:20:58.827013Z",
     "shell.execute_reply": "2024-04-19T16:20:58.825853Z"
    },
    "papermill": {
     "duration": 0.053439,
     "end_time": "2024-04-19T16:20:58.829609",
     "exception": false,
     "start_time": "2024-04-19T16:20:58.776170",
     "status": "completed"
    },
    "tags": []
   },
   "outputs": [],
   "source": [
    "y = df_clean['realSum'].values\n",
    "\n",
    "# Create Train Data and Test Data\n",
    "X_train, X_test, y_train, y_test = train_test_split(df_transformed, y, test_size=0.2, random_state=42)\n",
    "X_train = torch.tensor(X_train, dtype=torch.float32)\n",
    "X_test = torch.tensor(X_test, dtype=torch.float32)\n",
    "y_train = torch.tensor(y_train, dtype=torch.float32)\n",
    "y_test = torch.tensor(y_test, dtype=torch.float32)\n",
    "\n",
    "# Create DataLoader\n",
    "train_dataset = TensorDataset(X_train, y_train)\n",
    "test_dataset = TensorDataset(X_test, y_test)\n",
    "\n",
    "train_loader = DataLoader(train_dataset, batch_size=64, shuffle=True)\n",
    "test_loader = DataLoader(test_dataset, batch_size=64, shuffle=False)"
   ]
  },
  {
   "cell_type": "markdown",
   "id": "a265f4ec",
   "metadata": {
    "papermill": {
     "duration": 0.007697,
     "end_time": "2024-04-19T16:20:58.845407",
     "exception": false,
     "start_time": "2024-04-19T16:20:58.837710",
     "status": "completed"
    },
    "tags": []
   },
   "source": [
    "# Define SVM Model"
   ]
  },
  {
   "cell_type": "code",
   "execution_count": 16,
   "id": "ba00269a",
   "metadata": {
    "execution": {
     "iopub.execute_input": "2024-04-19T16:20:58.863834Z",
     "iopub.status.busy": "2024-04-19T16:20:58.862829Z",
     "iopub.status.idle": "2024-04-19T16:20:58.869508Z",
     "shell.execute_reply": "2024-04-19T16:20:58.868725Z"
    },
    "papermill": {
     "duration": 0.018048,
     "end_time": "2024-04-19T16:20:58.871529",
     "exception": false,
     "start_time": "2024-04-19T16:20:58.853481",
     "status": "completed"
    },
    "tags": []
   },
   "outputs": [],
   "source": [
    "class LinearSVM(nn.Module):\n",
    "    def __init__(self, n_features):\n",
    "        super(LinearSVM, self).__init__()\n",
    "        self.linear = nn.Linear(n_features, 1, bias=False)\n",
    "\n",
    "    def forward(self, x):\n",
    "        return self.linear(x)\n",
    "\n",
    "# Define hinge loss\n",
    "def hinge_loss(outputs, labels):\n",
    "    return torch.mean(torch.clamp(1 - labels * outputs, min=0))"
   ]
  },
  {
   "cell_type": "code",
   "execution_count": 17,
   "id": "7c671281",
   "metadata": {
    "execution": {
     "iopub.execute_input": "2024-04-19T16:20:58.889648Z",
     "iopub.status.busy": "2024-04-19T16:20:58.889010Z",
     "iopub.status.idle": "2024-04-19T16:20:58.909617Z",
     "shell.execute_reply": "2024-04-19T16:20:58.908410Z"
    },
    "papermill": {
     "duration": 0.032787,
     "end_time": "2024-04-19T16:20:58.912221",
     "exception": false,
     "start_time": "2024-04-19T16:20:58.879434",
     "status": "completed"
    },
    "tags": []
   },
   "outputs": [],
   "source": [
    "model = LinearSVM(X_train.shape[1])"
   ]
  },
  {
   "cell_type": "code",
   "execution_count": 18,
   "id": "7bec85c7",
   "metadata": {
    "execution": {
     "iopub.execute_input": "2024-04-19T16:20:58.930273Z",
     "iopub.status.busy": "2024-04-19T16:20:58.929890Z",
     "iopub.status.idle": "2024-04-19T16:21:01.649314Z",
     "shell.execute_reply": "2024-04-19T16:21:01.648309Z"
    },
    "papermill": {
     "duration": 2.731613,
     "end_time": "2024-04-19T16:21:01.652020",
     "exception": false,
     "start_time": "2024-04-19T16:20:58.920407",
     "status": "completed"
    },
    "tags": []
   },
   "outputs": [],
   "source": [
    "optimizer = torch.optim.SGD(model.parameters(), lr=0.01, weight_decay=0.01)"
   ]
  }
 ],
 "metadata": {
  "kaggle": {
   "accelerator": "none",
   "dataSources": [
    {
     "datasetId": 2894281,
     "sourceId": 4990113,
     "sourceType": "datasetVersion"
    }
   ],
   "dockerImageVersionId": 30684,
   "isGpuEnabled": false,
   "isInternetEnabled": true,
   "language": "python",
   "sourceType": "notebook"
  },
  "kernelspec": {
   "display_name": "Python 3",
   "language": "python",
   "name": "python3"
  },
  "language_info": {
   "codemirror_mode": {
    "name": "ipython",
    "version": 3
   },
   "file_extension": ".py",
   "mimetype": "text/x-python",
   "name": "python",
   "nbconvert_exporter": "python",
   "pygments_lexer": "ipython3",
   "version": "3.10.13"
  },
  "papermill": {
   "default_parameters": {},
   "duration": 14.893408,
   "end_time": "2024-04-19T16:21:03.085088",
   "environment_variables": {},
   "exception": null,
   "input_path": "__notebook__.ipynb",
   "output_path": "__notebook__.ipynb",
   "parameters": {},
   "start_time": "2024-04-19T16:20:48.191680",
   "version": "2.5.0"
  }
 },
 "nbformat": 4,
 "nbformat_minor": 5
}
