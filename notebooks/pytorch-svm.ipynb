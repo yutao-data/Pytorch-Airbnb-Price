{
 "cells": [
  {
   "cell_type": "code",
   "execution_count": 1,
   "id": "5ca2d28c",
   "metadata": {
    "_cell_guid": "b1076dfc-b9ad-4769-8c92-a6c4dae69d19",
    "_uuid": "8f2839f25d086af736a60e9eeb907d3b93b6e0e5",
    "execution": {
     "iopub.execute_input": "2024-04-20T10:45:22.303796Z",
     "iopub.status.busy": "2024-04-20T10:45:22.303367Z",
     "iopub.status.idle": "2024-04-20T10:45:28.560995Z",
     "shell.execute_reply": "2024-04-20T10:45:28.559700Z"
    },
    "papermill": {
     "duration": 6.271919,
     "end_time": "2024-04-20T10:45:28.563604",
     "exception": false,
     "start_time": "2024-04-20T10:45:22.291685",
     "status": "completed"
    },
    "tags": []
   },
   "outputs": [],
   "source": [
    "import numpy as np \n",
    "import pandas as pd\n",
    "from matplotlib import pyplot as plt\n",
    "import math\n",
    "\n",
    "from sklearn.preprocessing import StandardScaler, OneHotEncoder\n",
    "from sklearn.compose import ColumnTransformer\n",
    "from sklearn.pipeline import Pipeline\n",
    "\n",
    "import torch\n",
    "import torch.nn as nn\n",
    "import torch.optim as optim\n",
    "from torch.utils.data import DataLoader, TensorDataset\n",
    "from sklearn.model_selection import train_test_split"
   ]
  },
  {
   "cell_type": "code",
   "execution_count": 2,
   "id": "fdf64695",
   "metadata": {
    "execution": {
     "iopub.execute_input": "2024-04-20T10:45:28.585812Z",
     "iopub.status.busy": "2024-04-20T10:45:28.585254Z",
     "iopub.status.idle": "2024-04-20T10:45:29.237505Z",
     "shell.execute_reply": "2024-04-20T10:45:29.236371Z"
    },
    "papermill": {
     "duration": 0.666006,
     "end_time": "2024-04-20T10:45:29.240027",
     "exception": false,
     "start_time": "2024-04-20T10:45:28.574021",
     "status": "completed"
    },
    "tags": []
   },
   "outputs": [],
   "source": [
    "#Amsterdam\n",
    "amsterdam_weekdays = pd.read_csv('/kaggle/input/airbnb-price-determinants-in-europe/amsterdam_weekdays.csv')\n",
    "amsterdam_weekend = pd.read_csv('/kaggle/input/airbnb-price-determinants-in-europe/amsterdam_weekends.csv')\n",
    "\n",
    "#Athens\n",
    "athens_weekdays = pd.read_csv('/kaggle/input/airbnb-price-determinants-in-europe/athens_weekdays.csv')\n",
    "athens_weekend = pd.read_csv('/kaggle/input/airbnb-price-determinants-in-europe/athens_weekends.csv')\n",
    "\n",
    "#Barcelona\n",
    "barcelona_weekdays = pd.read_csv('/kaggle/input/airbnb-price-determinants-in-europe/barcelona_weekdays.csv')\n",
    "barcelona_weekend = pd.read_csv('/kaggle/input/airbnb-price-determinants-in-europe/barcelona_weekends.csv')\n",
    "\n",
    "#Berlin\n",
    "berlin_weekdays = pd.read_csv('/kaggle/input/airbnb-price-determinants-in-europe/berlin_weekdays.csv')\n",
    "berlin_weekend = pd.read_csv('/kaggle/input/airbnb-price-determinants-in-europe/berlin_weekends.csv')\n",
    "\n",
    "#Budapest\n",
    "budapest_weekdays = pd.read_csv('/kaggle/input/airbnb-price-determinants-in-europe/budapest_weekdays.csv')\n",
    "budapest_weekend = pd.read_csv('/kaggle/input/airbnb-price-determinants-in-europe/budapest_weekends.csv')\n",
    "\n",
    "#Lisbon\n",
    "lisbon_weekdays = pd.read_csv('/kaggle/input/airbnb-price-determinants-in-europe/lisbon_weekdays.csv')\n",
    "lisbon_weekend = pd.read_csv('/kaggle/input/airbnb-price-determinants-in-europe/lisbon_weekends.csv')\n",
    "\n",
    "#London\n",
    "london_weekdays = pd.read_csv('/kaggle/input/airbnb-price-determinants-in-europe/london_weekdays.csv')\n",
    "london_weekend = pd.read_csv('/kaggle/input/airbnb-price-determinants-in-europe/london_weekends.csv')\n",
    "\n",
    "#Paris\n",
    "paris_weekdays = pd.read_csv('/kaggle/input/airbnb-price-determinants-in-europe/paris_weekdays.csv')\n",
    "paris_weekend = pd.read_csv('/kaggle/input/airbnb-price-determinants-in-europe/paris_weekends.csv')\n",
    "\n",
    "#Rome\n",
    "rome_weekdays = pd.read_csv('/kaggle/input/airbnb-price-determinants-in-europe/rome_weekdays.csv')\n",
    "rome_weekend = pd.read_csv('/kaggle/input/airbnb-price-determinants-in-europe/rome_weekends.csv')\n",
    "\n",
    "#Vienna\n",
    "vienna_weekdays = pd.read_csv('/kaggle/input/airbnb-price-determinants-in-europe/vienna_weekdays.csv')\n",
    "vienna_weekend = pd.read_csv('/kaggle/input/airbnb-price-determinants-in-europe/vienna_weekends.csv')"
   ]
  },
  {
   "cell_type": "code",
   "execution_count": 3,
   "id": "f17e569e",
   "metadata": {
    "execution": {
     "iopub.execute_input": "2024-04-20T10:45:29.261772Z",
     "iopub.status.busy": "2024-04-20T10:45:29.261329Z",
     "iopub.status.idle": "2024-04-20T10:45:29.372858Z",
     "shell.execute_reply": "2024-04-20T10:45:29.371705Z"
    },
    "papermill": {
     "duration": 0.125345,
     "end_time": "2024-04-20T10:45:29.375533",
     "exception": false,
     "start_time": "2024-04-20T10:45:29.250188",
     "status": "completed"
    },
    "tags": []
   },
   "outputs": [
    {
     "name": "stdout",
     "output_type": "stream",
     "text": [
      "      realSum     room_type  room_shared  room_private  person_capacity  \\\n",
      "0  194.033698  Private room        False          True              2.0   \n",
      "1  344.245776  Private room        False          True              4.0   \n",
      "2  264.101422  Private room        False          True              2.0   \n",
      "3  433.529398  Private room        False          True              4.0   \n",
      "4  485.552926  Private room        False          True              2.0   \n",
      "\n",
      "   host_is_superhost  multi  biz  cleanliness_rating  \\\n",
      "0              False      1    0                10.0   \n",
      "1              False      0    0                 8.0   \n",
      "2              False      0    1                 9.0   \n",
      "3              False      0    1                 9.0   \n",
      "4               True      0    0                10.0   \n",
      "\n",
      "   guest_satisfaction_overall  ...      dist  metro_dist  attr_index  \\\n",
      "0                        93.0  ...  5.022964    2.539380   78.690379   \n",
      "1                        85.0  ...  0.488389    0.239404  631.176378   \n",
      "2                        87.0  ...  5.748312    3.651621   75.275877   \n",
      "3                        90.0  ...  0.384862    0.439876  493.272534   \n",
      "4                        98.0  ...  0.544738    0.318693  552.830324   \n",
      "\n",
      "   attr_index_norm  rest_index  rest_index_norm      lng       lat       city  \\\n",
      "0         4.166708   98.253896         6.846473  4.90569  52.41772  Amsterdam   \n",
      "1        33.421209  837.280757        58.342928  4.90005  52.37432  Amsterdam   \n",
      "2         3.985908   95.386955         6.646700  4.97512  52.36103  Amsterdam   \n",
      "3        26.119108  875.033098        60.973565  4.89417  52.37663  Amsterdam   \n",
      "4        29.272733  815.305740        56.811677  4.90051  52.37508  Amsterdam   \n",
      "\n",
      "  weekday  \n",
      "0    True  \n",
      "1    True  \n",
      "2    True  \n",
      "3    True  \n",
      "4    True  \n",
      "\n",
      "[5 rows x 21 columns]\n",
      "(51707, 21)\n"
     ]
    }
   ],
   "source": [
    "datasets = [\n",
    "    (amsterdam_weekdays, \"Amsterdam\", True),\n",
    "    (amsterdam_weekend, \"Amsterdam\", False),\n",
    "    (athens_weekdays, \"Athens\", True),\n",
    "    (athens_weekend, \"Athens\", False),\n",
    "    (barcelona_weekdays, \"Barcelona\", True),\n",
    "    (barcelona_weekend, \"Barcelona\", False),\n",
    "    (berlin_weekdays, \"Berlin\", True),\n",
    "    (berlin_weekend, \"Berlin\", False),\n",
    "    (budapest_weekdays, \"Budapest\", True),\n",
    "    (budapest_weekend, \"Budapest\", False),\n",
    "    (lisbon_weekdays, \"Lisbon\", True),\n",
    "    (lisbon_weekend, \"Lisbon\", False),\n",
    "    (london_weekdays, \"London\", True),\n",
    "    (london_weekend, \"London\", False),\n",
    "    (paris_weekdays, \"Paris\", True),\n",
    "    (paris_weekend, \"Paris\", False),\n",
    "    (rome_weekdays, \"Rome\", True),\n",
    "    (rome_weekend, \"Rome\", False),\n",
    "    (vienna_weekdays, \"Vienna\", True),\n",
    "    (vienna_weekend, \"Vienna\", False)\n",
    "]\n",
    "\n",
    "df = pd.DataFrame()\n",
    "\n",
    "for data, city, is_weekday in datasets:\n",
    "    data['city'] = city\n",
    "    data['weekday'] = is_weekday\n",
    "    df = pd.concat([df, data], ignore_index=True)\n",
    "\n",
    "df.drop(columns=['Unnamed: 0'], axis=1, inplace=True)\n",
    "\n",
    "print(df.head())\n",
    "print(df.shape)"
   ]
  },
  {
   "cell_type": "code",
   "execution_count": 4,
   "id": "fa21b98e",
   "metadata": {
    "execution": {
     "iopub.execute_input": "2024-04-20T10:45:29.398405Z",
     "iopub.status.busy": "2024-04-20T10:45:29.398026Z",
     "iopub.status.idle": "2024-04-20T10:45:29.402796Z",
     "shell.execute_reply": "2024-04-20T10:45:29.401703Z"
    },
    "papermill": {
     "duration": 0.01949,
     "end_time": "2024-04-20T10:45:29.404946",
     "exception": false,
     "start_time": "2024-04-20T10:45:29.385456",
     "status": "completed"
    },
    "tags": []
   },
   "outputs": [],
   "source": [
    "# path = \"/kaggle/input/airbnb-price-determinants-in-europe/barcelona_weekdays.csv\"\n",
    "# df = pd.read_csv(path, index_col=0)\n",
    "# df.head()"
   ]
  },
  {
   "cell_type": "markdown",
   "id": "8a7b0309",
   "metadata": {
    "papermill": {
     "duration": 0.009385,
     "end_time": "2024-04-20T10:45:29.424043",
     "exception": false,
     "start_time": "2024-04-20T10:45:29.414658",
     "status": "completed"
    },
    "tags": []
   },
   "source": [
    "# Data Preposessing"
   ]
  },
  {
   "cell_type": "markdown",
   "id": "6f0710b7",
   "metadata": {
    "papermill": {
     "duration": 0.009319,
     "end_time": "2024-04-20T10:45:29.443283",
     "exception": false,
     "start_time": "2024-04-20T10:45:29.433964",
     "status": "completed"
    },
    "tags": []
   },
   "source": [
    "## Add data shuffle"
   ]
  },
  {
   "cell_type": "code",
   "execution_count": 5,
   "id": "b265f3f5",
   "metadata": {
    "execution": {
     "iopub.execute_input": "2024-04-20T10:45:29.464665Z",
     "iopub.status.busy": "2024-04-20T10:45:29.464149Z",
     "iopub.status.idle": "2024-04-20T10:45:29.516789Z",
     "shell.execute_reply": "2024-04-20T10:45:29.515822Z"
    },
    "papermill": {
     "duration": 0.066458,
     "end_time": "2024-04-20T10:45:29.519422",
     "exception": false,
     "start_time": "2024-04-20T10:45:29.452964",
     "status": "completed"
    },
    "tags": []
   },
   "outputs": [],
   "source": [
    "np.random.seed(144)\n",
    "df = df.sample(frac=1).reset_index(drop=True)"
   ]
  },
  {
   "cell_type": "markdown",
   "id": "3482347b",
   "metadata": {
    "papermill": {
     "duration": 0.009672,
     "end_time": "2024-04-20T10:45:29.539311",
     "exception": false,
     "start_time": "2024-04-20T10:45:29.529639",
     "status": "completed"
    },
    "tags": []
   },
   "source": [
    "## DEALING WITH MISSING VALUES"
   ]
  },
  {
   "cell_type": "code",
   "execution_count": 6,
   "id": "b623d04b",
   "metadata": {
    "execution": {
     "iopub.execute_input": "2024-04-20T10:45:29.561648Z",
     "iopub.status.busy": "2024-04-20T10:45:29.560488Z",
     "iopub.status.idle": "2024-04-20T10:45:29.651207Z",
     "shell.execute_reply": "2024-04-20T10:45:29.649833Z"
    },
    "papermill": {
     "duration": 0.10474,
     "end_time": "2024-04-20T10:45:29.653929",
     "exception": false,
     "start_time": "2024-04-20T10:45:29.549189",
     "status": "completed"
    },
    "tags": []
   },
   "outputs": [
    {
     "data": {
      "text/html": [
       "<div>\n",
       "<style scoped>\n",
       "    .dataframe tbody tr th:only-of-type {\n",
       "        vertical-align: middle;\n",
       "    }\n",
       "\n",
       "    .dataframe tbody tr th {\n",
       "        vertical-align: top;\n",
       "    }\n",
       "\n",
       "    .dataframe thead th {\n",
       "        text-align: right;\n",
       "    }\n",
       "</style>\n",
       "<table border=\"1\" class=\"dataframe\">\n",
       "  <thead>\n",
       "    <tr style=\"text-align: right;\">\n",
       "      <th></th>\n",
       "      <th>realSum</th>\n",
       "      <th>person_capacity</th>\n",
       "      <th>multi</th>\n",
       "      <th>biz</th>\n",
       "      <th>cleanliness_rating</th>\n",
       "      <th>guest_satisfaction_overall</th>\n",
       "      <th>bedrooms</th>\n",
       "      <th>dist</th>\n",
       "      <th>metro_dist</th>\n",
       "      <th>attr_index</th>\n",
       "      <th>attr_index_norm</th>\n",
       "      <th>rest_index</th>\n",
       "      <th>rest_index_norm</th>\n",
       "      <th>lng</th>\n",
       "      <th>lat</th>\n",
       "    </tr>\n",
       "  </thead>\n",
       "  <tbody>\n",
       "    <tr>\n",
       "      <th>count</th>\n",
       "      <td>51707.000000</td>\n",
       "      <td>51707.000000</td>\n",
       "      <td>51707.000000</td>\n",
       "      <td>51707.000000</td>\n",
       "      <td>51707.000000</td>\n",
       "      <td>51707.000000</td>\n",
       "      <td>51707.00000</td>\n",
       "      <td>51707.000000</td>\n",
       "      <td>51707.000000</td>\n",
       "      <td>51707.000000</td>\n",
       "      <td>51707.000000</td>\n",
       "      <td>51707.000000</td>\n",
       "      <td>51707.000000</td>\n",
       "      <td>51707.000000</td>\n",
       "      <td>51707.000000</td>\n",
       "    </tr>\n",
       "    <tr>\n",
       "      <th>mean</th>\n",
       "      <td>279.879591</td>\n",
       "      <td>3.161661</td>\n",
       "      <td>0.291353</td>\n",
       "      <td>0.350204</td>\n",
       "      <td>9.390624</td>\n",
       "      <td>92.628232</td>\n",
       "      <td>1.15876</td>\n",
       "      <td>3.191285</td>\n",
       "      <td>0.681540</td>\n",
       "      <td>294.204105</td>\n",
       "      <td>13.423792</td>\n",
       "      <td>626.856696</td>\n",
       "      <td>22.786177</td>\n",
       "      <td>7.426068</td>\n",
       "      <td>45.671128</td>\n",
       "    </tr>\n",
       "    <tr>\n",
       "      <th>std</th>\n",
       "      <td>327.948386</td>\n",
       "      <td>1.298545</td>\n",
       "      <td>0.454390</td>\n",
       "      <td>0.477038</td>\n",
       "      <td>0.954868</td>\n",
       "      <td>8.945531</td>\n",
       "      <td>0.62741</td>\n",
       "      <td>2.393803</td>\n",
       "      <td>0.858023</td>\n",
       "      <td>224.754123</td>\n",
       "      <td>9.807985</td>\n",
       "      <td>497.920226</td>\n",
       "      <td>17.804096</td>\n",
       "      <td>9.799725</td>\n",
       "      <td>5.249263</td>\n",
       "    </tr>\n",
       "    <tr>\n",
       "      <th>min</th>\n",
       "      <td>34.779339</td>\n",
       "      <td>2.000000</td>\n",
       "      <td>0.000000</td>\n",
       "      <td>0.000000</td>\n",
       "      <td>2.000000</td>\n",
       "      <td>20.000000</td>\n",
       "      <td>0.00000</td>\n",
       "      <td>0.015045</td>\n",
       "      <td>0.002301</td>\n",
       "      <td>15.152201</td>\n",
       "      <td>0.926301</td>\n",
       "      <td>19.576924</td>\n",
       "      <td>0.592757</td>\n",
       "      <td>-9.226340</td>\n",
       "      <td>37.953000</td>\n",
       "    </tr>\n",
       "    <tr>\n",
       "      <th>25%</th>\n",
       "      <td>148.752174</td>\n",
       "      <td>2.000000</td>\n",
       "      <td>0.000000</td>\n",
       "      <td>0.000000</td>\n",
       "      <td>9.000000</td>\n",
       "      <td>90.000000</td>\n",
       "      <td>1.00000</td>\n",
       "      <td>1.453142</td>\n",
       "      <td>0.248480</td>\n",
       "      <td>136.797385</td>\n",
       "      <td>6.380926</td>\n",
       "      <td>250.854114</td>\n",
       "      <td>8.751480</td>\n",
       "      <td>-0.072500</td>\n",
       "      <td>41.399510</td>\n",
       "    </tr>\n",
       "    <tr>\n",
       "      <th>50%</th>\n",
       "      <td>211.343089</td>\n",
       "      <td>3.000000</td>\n",
       "      <td>0.000000</td>\n",
       "      <td>0.000000</td>\n",
       "      <td>10.000000</td>\n",
       "      <td>95.000000</td>\n",
       "      <td>1.00000</td>\n",
       "      <td>2.613538</td>\n",
       "      <td>0.413269</td>\n",
       "      <td>234.331748</td>\n",
       "      <td>11.468305</td>\n",
       "      <td>522.052783</td>\n",
       "      <td>17.542238</td>\n",
       "      <td>4.873000</td>\n",
       "      <td>47.506690</td>\n",
       "    </tr>\n",
       "    <tr>\n",
       "      <th>75%</th>\n",
       "      <td>319.694287</td>\n",
       "      <td>4.000000</td>\n",
       "      <td>1.000000</td>\n",
       "      <td>1.000000</td>\n",
       "      <td>10.000000</td>\n",
       "      <td>99.000000</td>\n",
       "      <td>1.00000</td>\n",
       "      <td>4.263077</td>\n",
       "      <td>0.737840</td>\n",
       "      <td>385.756381</td>\n",
       "      <td>17.415082</td>\n",
       "      <td>832.628988</td>\n",
       "      <td>32.964603</td>\n",
       "      <td>13.518825</td>\n",
       "      <td>51.471885</td>\n",
       "    </tr>\n",
       "    <tr>\n",
       "      <th>max</th>\n",
       "      <td>18545.450285</td>\n",
       "      <td>6.000000</td>\n",
       "      <td>1.000000</td>\n",
       "      <td>1.000000</td>\n",
       "      <td>10.000000</td>\n",
       "      <td>100.000000</td>\n",
       "      <td>10.00000</td>\n",
       "      <td>25.284557</td>\n",
       "      <td>14.273577</td>\n",
       "      <td>4513.563486</td>\n",
       "      <td>100.000000</td>\n",
       "      <td>6696.156772</td>\n",
       "      <td>100.000000</td>\n",
       "      <td>23.786020</td>\n",
       "      <td>52.641410</td>\n",
       "    </tr>\n",
       "  </tbody>\n",
       "</table>\n",
       "</div>"
      ],
      "text/plain": [
       "            realSum  person_capacity         multi           biz  \\\n",
       "count  51707.000000     51707.000000  51707.000000  51707.000000   \n",
       "mean     279.879591         3.161661      0.291353      0.350204   \n",
       "std      327.948386         1.298545      0.454390      0.477038   \n",
       "min       34.779339         2.000000      0.000000      0.000000   \n",
       "25%      148.752174         2.000000      0.000000      0.000000   \n",
       "50%      211.343089         3.000000      0.000000      0.000000   \n",
       "75%      319.694287         4.000000      1.000000      1.000000   \n",
       "max    18545.450285         6.000000      1.000000      1.000000   \n",
       "\n",
       "       cleanliness_rating  guest_satisfaction_overall     bedrooms  \\\n",
       "count        51707.000000                51707.000000  51707.00000   \n",
       "mean             9.390624                   92.628232      1.15876   \n",
       "std              0.954868                    8.945531      0.62741   \n",
       "min              2.000000                   20.000000      0.00000   \n",
       "25%              9.000000                   90.000000      1.00000   \n",
       "50%             10.000000                   95.000000      1.00000   \n",
       "75%             10.000000                   99.000000      1.00000   \n",
       "max             10.000000                  100.000000     10.00000   \n",
       "\n",
       "               dist    metro_dist    attr_index  attr_index_norm  \\\n",
       "count  51707.000000  51707.000000  51707.000000     51707.000000   \n",
       "mean       3.191285      0.681540    294.204105        13.423792   \n",
       "std        2.393803      0.858023    224.754123         9.807985   \n",
       "min        0.015045      0.002301     15.152201         0.926301   \n",
       "25%        1.453142      0.248480    136.797385         6.380926   \n",
       "50%        2.613538      0.413269    234.331748        11.468305   \n",
       "75%        4.263077      0.737840    385.756381        17.415082   \n",
       "max       25.284557     14.273577   4513.563486       100.000000   \n",
       "\n",
       "         rest_index  rest_index_norm           lng           lat  \n",
       "count  51707.000000     51707.000000  51707.000000  51707.000000  \n",
       "mean     626.856696        22.786177      7.426068     45.671128  \n",
       "std      497.920226        17.804096      9.799725      5.249263  \n",
       "min       19.576924         0.592757     -9.226340     37.953000  \n",
       "25%      250.854114         8.751480     -0.072500     41.399510  \n",
       "50%      522.052783        17.542238      4.873000     47.506690  \n",
       "75%      832.628988        32.964603     13.518825     51.471885  \n",
       "max     6696.156772       100.000000     23.786020     52.641410  "
      ]
     },
     "execution_count": 6,
     "metadata": {},
     "output_type": "execute_result"
    }
   ],
   "source": [
    "df.describe()"
   ]
  },
  {
   "cell_type": "code",
   "execution_count": 7,
   "id": "4dbb3961",
   "metadata": {
    "execution": {
     "iopub.execute_input": "2024-04-20T10:45:29.676854Z",
     "iopub.status.busy": "2024-04-20T10:45:29.676378Z",
     "iopub.status.idle": "2024-04-20T10:45:29.683468Z",
     "shell.execute_reply": "2024-04-20T10:45:29.682312Z"
    },
    "papermill": {
     "duration": 0.021285,
     "end_time": "2024-04-20T10:45:29.685704",
     "exception": false,
     "start_time": "2024-04-20T10:45:29.664419",
     "status": "completed"
    },
    "tags": []
   },
   "outputs": [
    {
     "data": {
      "text/plain": [
       "(51707, 21)"
      ]
     },
     "execution_count": 7,
     "metadata": {},
     "output_type": "execute_result"
    }
   ],
   "source": [
    "df.shape"
   ]
  },
  {
   "cell_type": "code",
   "execution_count": 8,
   "id": "684dd36f",
   "metadata": {
    "execution": {
     "iopub.execute_input": "2024-04-20T10:45:29.708210Z",
     "iopub.status.busy": "2024-04-20T10:45:29.707779Z",
     "iopub.status.idle": "2024-04-20T10:45:29.723965Z",
     "shell.execute_reply": "2024-04-20T10:45:29.722766Z"
    },
    "papermill": {
     "duration": 0.030389,
     "end_time": "2024-04-20T10:45:29.726420",
     "exception": false,
     "start_time": "2024-04-20T10:45:29.696031",
     "status": "completed"
    },
    "tags": []
   },
   "outputs": [
    {
     "data": {
      "text/plain": [
       "(51707, 21)"
      ]
     },
     "execution_count": 8,
     "metadata": {},
     "output_type": "execute_result"
    }
   ],
   "source": [
    "df_complete = df.dropna()\n",
    "df_complete.shape"
   ]
  },
  {
   "cell_type": "markdown",
   "id": "7fe9aeae",
   "metadata": {
    "papermill": {
     "duration": 0.009853,
     "end_time": "2024-04-20T10:45:29.746607",
     "exception": false,
     "start_time": "2024-04-20T10:45:29.736754",
     "status": "completed"
    },
    "tags": []
   },
   "source": [
    "## FINDING OUTLIERS"
   ]
  },
  {
   "cell_type": "code",
   "execution_count": 9,
   "id": "604cc337",
   "metadata": {
    "execution": {
     "iopub.execute_input": "2024-04-20T10:45:29.769736Z",
     "iopub.status.busy": "2024-04-20T10:45:29.768542Z",
     "iopub.status.idle": "2024-04-20T10:45:30.451751Z",
     "shell.execute_reply": "2024-04-20T10:45:30.450583Z"
    },
    "papermill": {
     "duration": 0.697294,
     "end_time": "2024-04-20T10:45:30.454270",
     "exception": false,
     "start_time": "2024-04-20T10:45:29.756976",
     "status": "completed"
    },
    "tags": []
   },
   "outputs": [
    {
     "data": {
      "image/png": "[encoded data removed]",
      "text/plain": [
       "<Figure size 900x500 with 2 Axes>"
      ]
     },
     "metadata": {},
     "output_type": "display_data"
    }
   ],
   "source": [
    "fig, axes= plt.subplots(1,2, gridspec_kw={'width_ratios': [1, 4]}, figsize=(9,5))\n",
    "df.boxplot(column='realSum',ax=axes[0]);\n",
    "df.hist(column='realSum', ax=axes[1]);"
   ]
  },
  {
   "cell_type": "code",
   "execution_count": 10,
   "id": "6d86098f",
   "metadata": {
    "execution": {
     "iopub.execute_input": "2024-04-20T10:45:30.478108Z",
     "iopub.status.busy": "2024-04-20T10:45:30.477708Z",
     "iopub.status.idle": "2024-04-20T10:45:30.489952Z",
     "shell.execute_reply": "2024-04-20T10:45:30.488834Z"
    },
    "papermill": {
     "duration": 0.027071,
     "end_time": "2024-04-20T10:45:30.492411",
     "exception": false,
     "start_time": "2024-04-20T10:45:30.465340",
     "status": "completed"
    },
    "tags": []
   },
   "outputs": [
    {
     "data": {
      "text/plain": [
       "(148.75217370869953, 319.69428651318856, 170.94211280448903)"
      ]
     },
     "execution_count": 10,
     "metadata": {},
     "output_type": "execute_result"
    }
   ],
   "source": [
    "Q1 = df['realSum'].quantile(0.25)\n",
    "Q3 = df['realSum'].quantile(0.75)\n",
    "IQR = Q3 - Q1\n",
    "\n",
    "Q1, Q3, IQR"
   ]
  },
  {
   "cell_type": "code",
   "execution_count": 11,
   "id": "7c762e98",
   "metadata": {
    "execution": {
     "iopub.execute_input": "2024-04-20T10:45:30.516129Z",
     "iopub.status.busy": "2024-04-20T10:45:30.515712Z",
     "iopub.status.idle": "2024-04-20T10:45:30.533903Z",
     "shell.execute_reply": "2024-04-20T10:45:30.532598Z"
    },
    "papermill": {
     "duration": 0.032762,
     "end_time": "2024-04-20T10:45:30.536176",
     "exception": false,
     "start_time": "2024-04-20T10:45:30.503414",
     "status": "completed"
    },
    "tags": []
   },
   "outputs": [
    {
     "data": {
      "text/plain": [
       "(0, 3662)"
      ]
     },
     "execution_count": 11,
     "metadata": {},
     "output_type": "execute_result"
    }
   ],
   "source": [
    "small_outliers = df['realSum'] < (Q1 - 1.5 * IQR)\n",
    "big_outliers = df['realSum'] > (Q3 + 1.5 * IQR)\n",
    "\n",
    "sum(small_outliers), sum(big_outliers)"
   ]
  },
  {
   "cell_type": "code",
   "execution_count": 12,
   "id": "9b170197",
   "metadata": {
    "execution": {
     "iopub.execute_input": "2024-04-20T10:45:30.560804Z",
     "iopub.status.busy": "2024-04-20T10:45:30.560352Z",
     "iopub.status.idle": "2024-04-20T10:45:30.569818Z",
     "shell.execute_reply": "2024-04-20T10:45:30.568766Z"
    },
    "papermill": {
     "duration": 0.024714,
     "end_time": "2024-04-20T10:45:30.572049",
     "exception": false,
     "start_time": "2024-04-20T10:45:30.547335",
     "status": "completed"
    },
    "tags": []
   },
   "outputs": [
    {
     "data": {
      "text/plain": [
       "60     698.806972\n",
       "66     956.983937\n",
       "83     593.852160\n",
       "95     636.702364\n",
       "99    2311.738714\n",
       "Name: realSum, dtype: float64"
      ]
     },
     "execution_count": 12,
     "metadata": {},
     "output_type": "execute_result"
    }
   ],
   "source": [
    "df['realSum'][small_outliers | big_outliers].head()"
   ]
  },
  {
   "cell_type": "code",
   "execution_count": 13,
   "id": "3a359dc7",
   "metadata": {
    "execution": {
     "iopub.execute_input": "2024-04-20T10:45:30.596505Z",
     "iopub.status.busy": "2024-04-20T10:45:30.596107Z",
     "iopub.status.idle": "2024-04-20T10:45:31.082002Z",
     "shell.execute_reply": "2024-04-20T10:45:31.080697Z"
    },
    "papermill": {
     "duration": 0.501397,
     "end_time": "2024-04-20T10:45:31.084578",
     "exception": false,
     "start_time": "2024-04-20T10:45:30.583181",
     "status": "completed"
    },
    "tags": []
   },
   "outputs": [
    {
     "data": {
      "image/png": "[encoded data removed]",
      "text/plain": [
       "<Figure size 900x500 with 2 Axes>"
      ]
     },
     "metadata": {},
     "output_type": "display_data"
    }
   ],
   "source": [
    "fig, axes= plt.subplots(1,2, gridspec_kw={'width_ratios': [1, 4]}, figsize=(9,5))\n",
    "df[~(small_outliers | big_outliers)].boxplot(column='realSum',ax=axes[0]);\n",
    "df[~(small_outliers | big_outliers)].hist(column='realSum', ax=axes[1]);"
   ]
  },
  {
   "cell_type": "code",
   "execution_count": 14,
   "id": "94b1dce5",
   "metadata": {
    "execution": {
     "iopub.execute_input": "2024-04-20T10:45:31.113427Z",
     "iopub.status.busy": "2024-04-20T10:45:31.113004Z",
     "iopub.status.idle": "2024-04-20T10:45:31.126462Z",
     "shell.execute_reply": "2024-04-20T10:45:31.125214Z"
    },
    "papermill": {
     "duration": 0.031052,
     "end_time": "2024-04-20T10:45:31.128977",
     "exception": false,
     "start_time": "2024-04-20T10:45:31.097925",
     "status": "completed"
    },
    "tags": []
   },
   "outputs": [
    {
     "data": {
      "text/plain": [
       "(48045, 21)"
      ]
     },
     "execution_count": 14,
     "metadata": {},
     "output_type": "execute_result"
    }
   ],
   "source": [
    "df_clean = df[~(small_outliers | big_outliers)]\n",
    "df_clean.shape"
   ]
  },
  {
   "cell_type": "code",
   "execution_count": 15,
   "id": "c99cb909",
   "metadata": {
    "execution": {
     "iopub.execute_input": "2024-04-20T10:45:31.155799Z",
     "iopub.status.busy": "2024-04-20T10:45:31.154520Z",
     "iopub.status.idle": "2024-04-20T10:45:31.164274Z",
     "shell.execute_reply": "2024-04-20T10:45:31.163002Z"
    },
    "papermill": {
     "duration": 0.025882,
     "end_time": "2024-04-20T10:45:31.166652",
     "exception": false,
     "start_time": "2024-04-20T10:45:31.140770",
     "status": "completed"
    },
    "tags": []
   },
   "outputs": [
    {
     "data": {
      "text/plain": [
       "realSum                       float64\n",
       "room_type                      object\n",
       "room_shared                      bool\n",
       "room_private                     bool\n",
       "person_capacity               float64\n",
       "host_is_superhost                bool\n",
       "multi                           int64\n",
       "biz                             int64\n",
       "cleanliness_rating            float64\n",
       "guest_satisfaction_overall    float64\n",
       "bedrooms                        int64\n",
       "dist                          float64\n",
       "metro_dist                    float64\n",
       "attr_index                    float64\n",
       "attr_index_norm               float64\n",
       "rest_index                    float64\n",
       "rest_index_norm               float64\n",
       "lng                           float64\n",
       "lat                           float64\n",
       "city                           object\n",
       "weekday                          bool\n",
       "dtype: object"
      ]
     },
     "execution_count": 15,
     "metadata": {},
     "output_type": "execute_result"
    }
   ],
   "source": [
    "df_clean.dtypes"
   ]
  },
  {
   "cell_type": "code",
   "execution_count": 16,
   "id": "bff7193e",
   "metadata": {
    "execution": {
     "iopub.execute_input": "2024-04-20T10:45:31.192337Z",
     "iopub.status.busy": "2024-04-20T10:45:31.191947Z",
     "iopub.status.idle": "2024-04-20T10:45:31.340632Z",
     "shell.execute_reply": "2024-04-20T10:45:31.339305Z"
    },
    "papermill": {
     "duration": 0.164467,
     "end_time": "2024-04-20T10:45:31.342970",
     "exception": false,
     "start_time": "2024-04-20T10:45:31.178503",
     "status": "completed"
    },
    "tags": []
   },
   "outputs": [
    {
     "name": "stdout",
     "output_type": "stream",
     "text": [
      "['person_capacity', 'multi', 'biz', 'cleanliness_rating', 'guest_satisfaction_overall', 'bedrooms', 'dist', 'metro_dist', 'attr_index', 'attr_index_norm', 'rest_index', 'rest_index_norm', 'lng', 'lat', 'room_type_Entire home/apt', 'room_type_Private room', 'room_type_Shared room', 'room_shared_False', 'room_shared_True', 'room_private_False', 'room_private_True', 'host_is_superhost_False', 'host_is_superhost_True', 'city_Amsterdam', 'city_Athens', 'city_Barcelona', 'city_Berlin', 'city_Budapest', 'city_Lisbon', 'city_London', 'city_Paris', 'city_Rome', 'city_Vienna', 'weekday_False', 'weekday_True']\n",
      "(48045, 35)\n"
     ]
    }
   ],
   "source": [
    "# Identifying categorical and numerical columns\n",
    "categorical_cols = [col for col in df_clean.columns if df_clean[col].dtype in ['object', 'bool']]\n",
    "numerical_cols = [col for col in df_clean.columns if df_clean[col].dtype in ['int64', 'float64'] and col != 'realSum']\n",
    "\n",
    "# Adjust transformers if necessary\n",
    "categorical_transformer = OneHotEncoder(handle_unknown='ignore')\n",
    "numerical_transformer = StandardScaler()\n",
    "\n",
    "# Update preprocessor\n",
    "preprocessor = ColumnTransformer(\n",
    "    transformers=[\n",
    "        ('num', numerical_transformer, numerical_cols),\n",
    "        ('cat', categorical_transformer, categorical_cols)\n",
    "    ])\n",
    "\n",
    "# Fit and transform the data\n",
    "df_transformed = preprocessor.fit_transform(df_clean.drop('realSum', axis=1))\n",
    "\n",
    "# Check transformed feature names and dimensions\n",
    "transformed_features = preprocessor.transformers_[0][1].get_feature_names_out(numerical_cols).tolist() + \\\n",
    "                       preprocessor.transformers_[1][1].get_feature_names_out(categorical_cols).tolist()\n",
    "\n",
    "print(transformed_features)\n",
    "print(df_transformed.shape)"
   ]
  },
  {
   "cell_type": "markdown",
   "id": "0e441a02",
   "metadata": {
    "papermill": {
     "duration": 0.012132,
     "end_time": "2024-04-20T10:45:31.367783",
     "exception": false,
     "start_time": "2024-04-20T10:45:31.355651",
     "status": "completed"
    },
    "tags": []
   },
   "source": [
    "# Prepare Training Data"
   ]
  },
  {
   "cell_type": "code",
   "execution_count": 17,
   "id": "a5161090",
   "metadata": {
    "execution": {
     "iopub.execute_input": "2024-04-20T10:45:31.394138Z",
     "iopub.status.busy": "2024-04-20T10:45:31.393754Z",
     "iopub.status.idle": "2024-04-20T10:45:31.399077Z",
     "shell.execute_reply": "2024-04-20T10:45:31.397801Z"
    },
    "papermill": {
     "duration": 0.021382,
     "end_time": "2024-04-20T10:45:31.401521",
     "exception": false,
     "start_time": "2024-04-20T10:45:31.380139",
     "status": "completed"
    },
    "tags": []
   },
   "outputs": [],
   "source": [
    "# y = df_clean['realSum'].values\n",
    "\n",
    "# # Create Train Data and Test Data\n",
    "# X_train, X_test, y_train, y_test = train_test_split(df_transformed, y, test_size=0.2, random_state=42)\n",
    "# X_train = torch.tensor(X_train, dtype=torch.float32)\n",
    "# X_test = torch.tensor(X_test, dtype=torch.float32)\n",
    "# y_train = torch.tensor(y_train, dtype=torch.float32)\n",
    "# y_test = torch.tensor(y_test, dtype=torch.float32)\n",
    "\n",
    "# # Create DataLoader\n",
    "# train_dataset = TensorDataset(X_train, y_train)\n",
    "# test_dataset = TensorDataset(X_test, y_test)\n",
    "\n",
    "# train_loader = DataLoader(train_dataset, batch_size=64, shuffle=True)\n",
    "# test_loader = DataLoader(test_dataset, batch_size=64, shuffle=False)"
   ]
  },
  {
   "cell_type": "code",
   "execution_count": 18,
   "id": "6f39efb1",
   "metadata": {
    "execution": {
     "iopub.execute_input": "2024-04-20T10:45:31.429108Z",
     "iopub.status.busy": "2024-04-20T10:45:31.427818Z",
     "iopub.status.idle": "2024-04-20T10:45:31.508871Z",
     "shell.execute_reply": "2024-04-20T10:45:31.507510Z"
    },
    "papermill": {
     "duration": 0.097866,
     "end_time": "2024-04-20T10:45:31.511544",
     "exception": false,
     "start_time": "2024-04-20T10:45:31.413678",
     "status": "completed"
    },
    "tags": []
   },
   "outputs": [],
   "source": [
    "y = df_clean['realSum'].values\n",
    "\n",
    "# Split Test Data\n",
    "X_train_val, X_test, y_train_val, y_test = train_test_split(df_transformed, y, test_size=0.2, random_state=42)\n",
    "\n",
    "# Split Validation Data\n",
    "X_train, X_val, y_train, y_val = train_test_split(X_train_val, y_train_val, test_size=0.25, random_state=42) \n",
    "\n",
    "train_dataset = TensorDataset(torch.tensor(X_train, dtype=torch.float32), torch.tensor(y_train, dtype=torch.float32))\n",
    "val_dataset = TensorDataset(torch.tensor(X_val, dtype=torch.float32), torch.tensor(y_val, dtype=torch.float32))\n",
    "test_dataset = TensorDataset(torch.tensor(X_test, dtype=torch.float32), torch.tensor(y_test, dtype=torch.float32))\n",
    "\n",
    "train_loader = DataLoader(train_dataset, batch_size=64, shuffle=True)\n",
    "val_loader = DataLoader(val_dataset, batch_size=64, shuffle=False)\n",
    "test_loader = DataLoader(test_dataset, batch_size=64, shuffle=False)"
   ]
  },
  {
   "cell_type": "markdown",
   "id": "ad583ab0",
   "metadata": {
    "papermill": {
     "duration": 0.011783,
     "end_time": "2024-04-20T10:45:31.535825",
     "exception": false,
     "start_time": "2024-04-20T10:45:31.524042",
     "status": "completed"
    },
    "tags": []
   },
   "source": [
    "# Define SVM Model"
   ]
  },
  {
   "cell_type": "code",
   "execution_count": 19,
   "id": "5af9cf47",
   "metadata": {
    "execution": {
     "iopub.execute_input": "2024-04-20T10:45:31.619806Z",
     "iopub.status.busy": "2024-04-20T10:45:31.619376Z",
     "iopub.status.idle": "2024-04-20T10:45:31.626228Z",
     "shell.execute_reply": "2024-04-20T10:45:31.624667Z"
    },
    "papermill": {
     "duration": 0.080755,
     "end_time": "2024-04-20T10:45:31.628582",
     "exception": false,
     "start_time": "2024-04-20T10:45:31.547827",
     "status": "completed"
    },
    "tags": []
   },
   "outputs": [
    {
     "name": "stdout",
     "output_type": "stream",
     "text": [
      "Using cpu device\n"
     ]
    }
   ],
   "source": [
    "device = (\n",
    "    \"cuda\"\n",
    "    if torch.cuda.is_available()\n",
    "    else \"mps\"\n",
    "    if torch.backends.mps.is_available()\n",
    "    else \"cpu\"\n",
    ")\n",
    "print(f\"Using {device} device\")"
   ]
  },
  {
   "cell_type": "code",
   "execution_count": 20,
   "id": "d260489d",
   "metadata": {
    "execution": {
     "iopub.execute_input": "2024-04-20T10:45:31.655270Z",
     "iopub.status.busy": "2024-04-20T10:45:31.654858Z",
     "iopub.status.idle": "2024-04-20T10:45:31.660801Z",
     "shell.execute_reply": "2024-04-20T10:45:31.659703Z"
    },
    "papermill": {
     "duration": 0.022381,
     "end_time": "2024-04-20T10:45:31.663113",
     "exception": false,
     "start_time": "2024-04-20T10:45:31.640732",
     "status": "completed"
    },
    "tags": []
   },
   "outputs": [],
   "source": [
    "class SVR(nn.Module):\n",
    "    def __init__(self, n_features):\n",
    "        super(SVR, self).__init__()\n",
    "        self.linear = nn.Linear(n_features, 1)\n",
    "\n",
    "    def forward(self, x):\n",
    "        return self.linear(x)"
   ]
  },
  {
   "cell_type": "code",
   "execution_count": 21,
   "id": "06ff8fa9",
   "metadata": {
    "execution": {
     "iopub.execute_input": "2024-04-20T10:45:31.689359Z",
     "iopub.status.busy": "2024-04-20T10:45:31.688887Z",
     "iopub.status.idle": "2024-04-20T10:45:31.695202Z",
     "shell.execute_reply": "2024-04-20T10:45:31.693850Z"
    },
    "papermill": {
     "duration": 0.022172,
     "end_time": "2024-04-20T10:45:31.697534",
     "exception": false,
     "start_time": "2024-04-20T10:45:31.675362",
     "status": "completed"
    },
    "tags": []
   },
   "outputs": [],
   "source": [
    "def epsilon_insensitive_loss(outputs, targets, epsilon=0.1):\n",
    "    errors = torch.abs(targets - outputs.squeeze())\n",
    "\n",
    "    loss = torch.mean(torch.max(errors - epsilon, torch.zeros_like(errors)))\n",
    "    return loss"
   ]
  },
  {
   "cell_type": "code",
   "execution_count": 22,
   "id": "348a8e6b",
   "metadata": {
    "execution": {
     "iopub.execute_input": "2024-04-20T10:45:31.724496Z",
     "iopub.status.busy": "2024-04-20T10:45:31.724076Z",
     "iopub.status.idle": "2024-04-20T10:45:31.751681Z",
     "shell.execute_reply": "2024-04-20T10:45:31.750360Z"
    },
    "papermill": {
     "duration": 0.043851,
     "end_time": "2024-04-20T10:45:31.754128",
     "exception": false,
     "start_time": "2024-04-20T10:45:31.710277",
     "status": "completed"
    },
    "tags": []
   },
   "outputs": [
    {
     "name": "stdout",
     "output_type": "stream",
     "text": [
      "SVR(\n",
      "  (linear): Linear(in_features=35, out_features=1, bias=True)\n",
      ")\n"
     ]
    }
   ],
   "source": [
    "model = SVR(X_train.shape[1]).to(device)\n",
    "print(model)"
   ]
  },
  {
   "cell_type": "code",
   "execution_count": 23,
   "id": "81fba958",
   "metadata": {
    "execution": {
     "iopub.execute_input": "2024-04-20T10:45:31.780544Z",
     "iopub.status.busy": "2024-04-20T10:45:31.779893Z",
     "iopub.status.idle": "2024-04-20T10:45:34.685436Z",
     "shell.execute_reply": "2024-04-20T10:45:34.684203Z"
    },
    "papermill": {
     "duration": 2.921517,
     "end_time": "2024-04-20T10:45:34.688061",
     "exception": false,
     "start_time": "2024-04-20T10:45:31.766544",
     "status": "completed"
    },
    "tags": []
   },
   "outputs": [],
   "source": [
    "optimizer = torch.optim.SGD(model.parameters(), lr=0.01, weight_decay=0.01)"
   ]
  },
  {
   "cell_type": "code",
   "execution_count": 24,
   "id": "89bbbdfe",
   "metadata": {
    "execution": {
     "iopub.execute_input": "2024-04-20T10:45:34.716027Z",
     "iopub.status.busy": "2024-04-20T10:45:34.715405Z",
     "iopub.status.idle": "2024-04-20T10:45:34.724224Z",
     "shell.execute_reply": "2024-04-20T10:45:34.722922Z"
    },
    "papermill": {
     "duration": 0.025833,
     "end_time": "2024-04-20T10:45:34.726403",
     "exception": false,
     "start_time": "2024-04-20T10:45:34.700570",
     "status": "completed"
    },
    "tags": []
   },
   "outputs": [],
   "source": [
    "class EarlyStopping:\n",
    "    def __init__(self, patience=10, verbose=False, delta=0.0001):  \n",
    "        self.patience = patience\n",
    "        self.verbose = verbose\n",
    "        self.delta = delta\n",
    "        self.reset()\n",
    "\n",
    "    def reset(self):\n",
    "        self.best_score = None\n",
    "        self.epochs_no_improve = 0\n",
    "        self.early_stop = False\n",
    "\n",
    "    def __call__(self, val_loss):\n",
    "        score = -val_loss\n",
    "        if self.best_score is None:\n",
    "            self.best_score = score\n",
    "        elif score < self.best_score - self.delta:  \n",
    "            self.epochs_no_improve += 1\n",
    "            if self.epochs_no_improve >= self.patience:\n",
    "                self.early_stop = True\n",
    "                if self.verbose:\n",
    "                    print(\"Early stopping triggered\")\n",
    "        else:\n",
    "            self.best_score = score\n",
    "            self.epochs_no_improve = 0"
   ]
  },
  {
   "cell_type": "markdown",
   "id": "d0af7b81",
   "metadata": {
    "papermill": {
     "duration": 0.011863,
     "end_time": "2024-04-20T10:45:34.750453",
     "exception": false,
     "start_time": "2024-04-20T10:45:34.738590",
     "status": "completed"
    },
    "tags": []
   },
   "source": [
    "# Model Training"
   ]
  },
  {
   "cell_type": "code",
   "execution_count": 25,
   "id": "96a24352",
   "metadata": {
    "execution": {
     "iopub.execute_input": "2024-04-20T10:45:34.776936Z",
     "iopub.status.busy": "2024-04-20T10:45:34.776032Z",
     "iopub.status.idle": "2024-04-20T10:45:34.781198Z",
     "shell.execute_reply": "2024-04-20T10:45:34.780065Z"
    },
    "papermill": {
     "duration": 0.020704,
     "end_time": "2024-04-20T10:45:34.783288",
     "exception": false,
     "start_time": "2024-04-20T10:45:34.762584",
     "status": "completed"
    },
    "tags": []
   },
   "outputs": [],
   "source": [
    "# def train_model(model, train_loader, epochs=1000, epsilon=0.1):\n",
    "#     model.train() \n",
    "#     for epoch in range(epochs):\n",
    "#         total_loss = 0 \n",
    "#         for data, target in train_loader:\n",
    "#             optimizer.zero_grad()\n",
    "#             output = model(data)\n",
    "#             loss = epsilon_insensitive_loss(output, target, epsilon)\n",
    "#             loss.backward()  \n",
    "#             optimizer.step() \n",
    "#             total_loss += loss.item() \n",
    "#         if (epoch + 1) % 10 == 0:\n",
    "#             average_loss = total_loss / len(train_loader)\n",
    "#             print(f'Epoch {epoch+1}, Average Loss: {average_loss}')"
   ]
  },
  {
   "cell_type": "code",
   "execution_count": 26,
   "id": "9d807353",
   "metadata": {
    "execution": {
     "iopub.execute_input": "2024-04-20T10:45:34.811606Z",
     "iopub.status.busy": "2024-04-20T10:45:34.811173Z",
     "iopub.status.idle": "2024-04-20T10:45:34.819865Z",
     "shell.execute_reply": "2024-04-20T10:45:34.818646Z"
    },
    "papermill": {
     "duration": 0.025026,
     "end_time": "2024-04-20T10:45:34.822363",
     "exception": false,
     "start_time": "2024-04-20T10:45:34.797337",
     "status": "completed"
    },
    "tags": []
   },
   "outputs": [],
   "source": [
    "def train_model(model, train_loader, val_loader, optimizer, epochs=float('inf'), epsilon=0.1):\n",
    "    early_stopping = EarlyStopping(patience=10, verbose=True)\n",
    "    \n",
    "    epoch = 0\n",
    "    while not early_stopping.early_stop and epoch < epochs:\n",
    "        model.train()\n",
    "        for data, target in train_loader:\n",
    "            optimizer.zero_grad()\n",
    "            output = model(data)\n",
    "            loss = epsilon_insensitive_loss(output, target, epsilon)\n",
    "            loss.backward()\n",
    "            optimizer.step()\n",
    "\n",
    "        model.eval()\n",
    "        val_loss = 0\n",
    "        with torch.no_grad():\n",
    "            for data, target in val_loader:\n",
    "                output = model(data)\n",
    "                val_loss += epsilon_insensitive_loss(output, target, epsilon).item()\n",
    "        val_loss /= len(val_loader)\n",
    "\n",
    "        print(f'Epoch {epoch+1}, Validation Loss: {val_loss}')\n",
    "        early_stopping(val_loss)\n",
    "        \n",
    "        epoch += 1\n",
    "\n",
    "    if epoch >= epochs:\n",
    "        print(\"Reached maximum number of epochs\")"
   ]
  },
  {
   "cell_type": "code",
   "execution_count": 27,
   "id": "733b3c79",
   "metadata": {
    "execution": {
     "iopub.execute_input": "2024-04-20T10:45:34.849028Z",
     "iopub.status.busy": "2024-04-20T10:45:34.848205Z",
     "iopub.status.idle": "2024-04-20T10:46:54.360149Z",
     "shell.execute_reply": "2024-04-20T10:46:54.358961Z"
    },
    "papermill": {
     "duration": 79.528228,
     "end_time": "2024-04-20T10:46:54.362808",
     "exception": false,
     "start_time": "2024-04-20T10:45:34.834580",
     "status": "completed"
    },
    "tags": []
   },
   "outputs": [
    {
     "name": "stdout",
     "output_type": "stream",
     "text": [
      "Epoch 1, Validation Loss: 208.94528632763996\n",
      "Epoch 2, Validation Loss: 190.94760313728787\n",
      "Epoch 3, Validation Loss: 173.77133997228762\n",
      "Epoch 4, Validation Loss: 157.60315598241542\n",
      "Epoch 5, Validation Loss: 142.94449135483495\n",
      "Epoch 6, Validation Loss: 130.23213534323585\n",
      "Epoch 7, Validation Loss: 119.6413345842172\n",
      "Epoch 8, Validation Loss: 110.98688648552294\n",
      "Epoch 9, Validation Loss: 104.11379893726071\n",
      "Epoch 10, Validation Loss: 98.6677462849396\n",
      "Epoch 11, Validation Loss: 94.31829581355417\n",
      "Epoch 12, Validation Loss: 90.88777857900455\n",
      "Epoch 13, Validation Loss: 88.13547667446515\n",
      "Epoch 14, Validation Loss: 85.91710448107183\n",
      "Epoch 15, Validation Loss: 84.12007856053232\n",
      "Epoch 16, Validation Loss: 82.62921006158487\n",
      "Epoch 17, Validation Loss: 81.391487374211\n",
      "Epoch 18, Validation Loss: 80.34628990628072\n",
      "Epoch 19, Validation Loss: 79.47993691551764\n",
      "Epoch 20, Validation Loss: 78.72500304670524\n",
      "Epoch 21, Validation Loss: 78.08214018360668\n",
      "Epoch 22, Validation Loss: 77.51590309395695\n",
      "Epoch 23, Validation Loss: 77.02655274346964\n",
      "Epoch 24, Validation Loss: 76.5946904618219\n",
      "Epoch 25, Validation Loss: 76.20752781747983\n",
      "Epoch 26, Validation Loss: 75.86740890401879\n",
      "Epoch 27, Validation Loss: 75.5599948554639\n",
      "Epoch 28, Validation Loss: 75.28290497230378\n",
      "Epoch 29, Validation Loss: 75.03574267760018\n",
      "Epoch 30, Validation Loss: 74.80432932266336\n",
      "Epoch 31, Validation Loss: 74.59951029392268\n",
      "Epoch 32, Validation Loss: 74.41439268604809\n",
      "Epoch 33, Validation Loss: 74.24192239117149\n",
      "Epoch 34, Validation Loss: 74.08895603710452\n",
      "Epoch 35, Validation Loss: 73.9412113467589\n",
      "Epoch 36, Validation Loss: 73.81763432989057\n",
      "Epoch 37, Validation Loss: 73.70565222430703\n",
      "Epoch 38, Validation Loss: 73.60347982747665\n",
      "Epoch 39, Validation Loss: 73.50576148127878\n",
      "Epoch 40, Validation Loss: 73.4273140004139\n",
      "Epoch 41, Validation Loss: 73.35128743759054\n",
      "Epoch 42, Validation Loss: 73.28261917316361\n",
      "Epoch 43, Validation Loss: 73.2242641827918\n",
      "Epoch 44, Validation Loss: 73.16642907755265\n",
      "Epoch 45, Validation Loss: 73.11558749975748\n",
      "Epoch 46, Validation Loss: 73.07487278110933\n",
      "Epoch 47, Validation Loss: 73.0288879445057\n",
      "Epoch 48, Validation Loss: 72.99048291136887\n",
      "Epoch 49, Validation Loss: 72.94895649587872\n",
      "Epoch 50, Validation Loss: 72.9133463474299\n",
      "Epoch 51, Validation Loss: 72.87128216067687\n",
      "Epoch 52, Validation Loss: 72.84726242671739\n",
      "Epoch 53, Validation Loss: 72.82003251132586\n",
      "Epoch 54, Validation Loss: 72.79235033957374\n",
      "Epoch 55, Validation Loss: 72.76762162770656\n",
      "Epoch 56, Validation Loss: 72.74271799554889\n",
      "Epoch 57, Validation Loss: 72.71458664950946\n",
      "Epoch 58, Validation Loss: 72.69466465830014\n",
      "Epoch 59, Validation Loss: 72.68166472580259\n",
      "Epoch 60, Validation Loss: 72.66249278996953\n",
      "Epoch 61, Validation Loss: 72.64720712118591\n",
      "Epoch 62, Validation Loss: 72.62892448981077\n",
      "Epoch 63, Validation Loss: 72.61563105298983\n",
      "Epoch 64, Validation Loss: 72.60394481633672\n",
      "Epoch 65, Validation Loss: 72.5947728441251\n",
      "Epoch 66, Validation Loss: 72.58584392623396\n",
      "Epoch 67, Validation Loss: 72.5738651957733\n",
      "Epoch 68, Validation Loss: 72.56949155693812\n",
      "Epoch 69, Validation Loss: 72.55654993120409\n",
      "Epoch 70, Validation Loss: 72.55149679626061\n",
      "Epoch 71, Validation Loss: 72.54173468280312\n",
      "Epoch 72, Validation Loss: 72.5311285865228\n",
      "Epoch 73, Validation Loss: 72.52890113173731\n",
      "Epoch 74, Validation Loss: 72.51927612001533\n",
      "Epoch 75, Validation Loss: 72.51526634266834\n",
      "Epoch 76, Validation Loss: 72.51170644696974\n",
      "Epoch 77, Validation Loss: 72.50595097826017\n",
      "Epoch 78, Validation Loss: 72.49805761173072\n",
      "Epoch 79, Validation Loss: 72.4913445024301\n",
      "Epoch 80, Validation Loss: 72.48338499763943\n",
      "Epoch 81, Validation Loss: 72.4809660753667\n",
      "Epoch 82, Validation Loss: 72.47650017643606\n",
      "Epoch 83, Validation Loss: 72.46913134341209\n",
      "Epoch 84, Validation Loss: 72.46277618408203\n",
      "Epoch 85, Validation Loss: 72.45518910490125\n",
      "Epoch 86, Validation Loss: 72.45041138604776\n",
      "Epoch 87, Validation Loss: 72.45917692879178\n",
      "Epoch 88, Validation Loss: 72.4580174376633\n",
      "Epoch 89, Validation Loss: 72.44749331947983\n",
      "Epoch 90, Validation Loss: 72.44563530928252\n",
      "Epoch 91, Validation Loss: 72.44103043916209\n",
      "Epoch 92, Validation Loss: 72.43950923389157\n",
      "Epoch 93, Validation Loss: 72.43566336221252\n",
      "Epoch 94, Validation Loss: 72.43212322209844\n",
      "Epoch 95, Validation Loss: 72.42962545432792\n",
      "Epoch 96, Validation Loss: 72.42459740543997\n",
      "Epoch 97, Validation Loss: 72.42515270915253\n",
      "Epoch 98, Validation Loss: 72.4260758911537\n",
      "Epoch 99, Validation Loss: 72.41812353576256\n",
      "Epoch 100, Validation Loss: 72.4220289268241\n",
      "Epoch 101, Validation Loss: 72.42520737805903\n",
      "Epoch 102, Validation Loss: 72.42627582171106\n",
      "Epoch 103, Validation Loss: 72.42343053754591\n",
      "Epoch 104, Validation Loss: 72.4244029821939\n",
      "Epoch 105, Validation Loss: 72.42151409427062\n",
      "Epoch 106, Validation Loss: 72.41386676308335\n",
      "Epoch 107, Validation Loss: 72.41535808234815\n",
      "Epoch 108, Validation Loss: 72.41155866913448\n",
      "Epoch 109, Validation Loss: 72.40844711404762\n",
      "Epoch 110, Validation Loss: 72.41054196389305\n",
      "Epoch 111, Validation Loss: 72.4099283028912\n",
      "Epoch 112, Validation Loss: 72.40880425560553\n",
      "Epoch 113, Validation Loss: 72.40694253176254\n",
      "Epoch 114, Validation Loss: 72.41707671714934\n",
      "Epoch 115, Validation Loss: 72.4185628322576\n",
      "Epoch 116, Validation Loss: 72.41333409492543\n",
      "Epoch 117, Validation Loss: 72.41221484758996\n",
      "Epoch 118, Validation Loss: 72.41434539390715\n",
      "Epoch 119, Validation Loss: 72.41065286800561\n",
      "Epoch 120, Validation Loss: 72.40799212929429\n",
      "Epoch 121, Validation Loss: 72.40503553681026\n",
      "Epoch 122, Validation Loss: 72.41178484784056\n",
      "Epoch 123, Validation Loss: 72.40691777412465\n",
      "Epoch 124, Validation Loss: 72.40236052456281\n",
      "Epoch 125, Validation Loss: 72.40652763922483\n",
      "Epoch 126, Validation Loss: 72.40923033960608\n",
      "Epoch 127, Validation Loss: 72.41440698484712\n",
      "Epoch 128, Validation Loss: 72.40656876721918\n",
      "Epoch 129, Validation Loss: 72.4065433780089\n",
      "Epoch 130, Validation Loss: 72.4052577997675\n",
      "Epoch 131, Validation Loss: 72.4068291013604\n",
      "Epoch 132, Validation Loss: 72.4113997655199\n",
      "Epoch 133, Validation Loss: 72.41445892536088\n",
      "Epoch 134, Validation Loss: 72.42071907093982\n",
      "Early stopping triggered\n"
     ]
    }
   ],
   "source": [
    "train_model(model, train_loader, val_loader, optimizer)"
   ]
  },
  {
   "cell_type": "markdown",
   "id": "211399c6",
   "metadata": {
    "papermill": {
     "duration": 0.020037,
     "end_time": "2024-04-20T10:46:54.403321",
     "exception": false,
     "start_time": "2024-04-20T10:46:54.383284",
     "status": "completed"
    },
    "tags": []
   },
   "source": [
    "# Test Results"
   ]
  },
  {
   "cell_type": "code",
   "execution_count": 28,
   "id": "d1461ef7",
   "metadata": {
    "execution": {
     "iopub.execute_input": "2024-04-20T10:46:54.446041Z",
     "iopub.status.busy": "2024-04-20T10:46:54.445638Z",
     "iopub.status.idle": "2024-04-20T10:46:54.452134Z",
     "shell.execute_reply": "2024-04-20T10:46:54.450910Z"
    },
    "papermill": {
     "duration": 0.031051,
     "end_time": "2024-04-20T10:46:54.454764",
     "exception": false,
     "start_time": "2024-04-20T10:46:54.423713",
     "status": "completed"
    },
    "tags": []
   },
   "outputs": [],
   "source": [
    "def predict(model, test_loader):\n",
    "    model.eval() \n",
    "    predictions = []\n",
    "    with torch.no_grad():  \n",
    "        for data in test_loader:\n",
    "            inputs = data[0]\n",
    "            outputs = model(inputs)\n",
    "            predictions.append(outputs)\n",
    "\n",
    "    predictions = torch.cat(predictions).view(-1)\n",
    "    return predictions"
   ]
  },
  {
   "cell_type": "code",
   "execution_count": 29,
   "id": "cb562aae",
   "metadata": {
    "execution": {
     "iopub.execute_input": "2024-04-20T10:46:54.498633Z",
     "iopub.status.busy": "2024-04-20T10:46:54.498206Z",
     "iopub.status.idle": "2024-04-20T10:46:54.582145Z",
     "shell.execute_reply": "2024-04-20T10:46:54.581038Z"
    },
    "papermill": {
     "duration": 0.108656,
     "end_time": "2024-04-20T10:46:54.584738",
     "exception": false,
     "start_time": "2024-04-20T10:46:54.476082",
     "status": "completed"
    },
    "tags": []
   },
   "outputs": [],
   "source": [
    "model_predictions = predict(model, test_loader)"
   ]
  },
  {
   "cell_type": "code",
   "execution_count": 30,
   "id": "d78cf5b8",
   "metadata": {
    "execution": {
     "iopub.execute_input": "2024-04-20T10:46:54.627406Z",
     "iopub.status.busy": "2024-04-20T10:46:54.627048Z",
     "iopub.status.idle": "2024-04-20T10:46:54.633472Z",
     "shell.execute_reply": "2024-04-20T10:46:54.632419Z"
    },
    "papermill": {
     "duration": 0.030599,
     "end_time": "2024-04-20T10:46:54.635761",
     "exception": false,
     "start_time": "2024-04-20T10:46:54.605162",
     "status": "completed"
    },
    "tags": []
   },
   "outputs": [
    {
     "name": "stdout",
     "output_type": "stream",
     "text": [
      "Sample predictions: [119.6505   182.26465  148.3581   138.71767  135.77919  114.38396\n",
      " 209.71564  189.74405  196.99881  122.527405]\n"
     ]
    }
   ],
   "source": [
    "predictions_np = model_predictions.numpy()\n",
    "print(\"Sample predictions:\", predictions_np[:10])"
   ]
  },
  {
   "cell_type": "code",
   "execution_count": 31,
   "id": "8647308a",
   "metadata": {
    "execution": {
     "iopub.execute_input": "2024-04-20T10:46:54.678688Z",
     "iopub.status.busy": "2024-04-20T10:46:54.678252Z",
     "iopub.status.idle": "2024-04-20T10:46:54.684112Z",
     "shell.execute_reply": "2024-04-20T10:46:54.682894Z"
    },
    "papermill": {
     "duration": 0.030235,
     "end_time": "2024-04-20T10:46:54.686489",
     "exception": false,
     "start_time": "2024-04-20T10:46:54.656254",
     "status": "completed"
    },
    "tags": []
   },
   "outputs": [],
   "source": [
    "# Define MSE & MAE\n",
    "def mean_squared_error(predictions, targets):\n",
    "    return ((predictions - targets) ** 2).mean()\n",
    "\n",
    "def mean_absolute_error(predictions, targets):\n",
    "    return torch.abs(predictions - targets).mean()"
   ]
  },
  {
   "cell_type": "code",
   "execution_count": 32,
   "id": "87e8010d",
   "metadata": {
    "execution": {
     "iopub.execute_input": "2024-04-20T10:46:54.729694Z",
     "iopub.status.busy": "2024-04-20T10:46:54.729276Z",
     "iopub.status.idle": "2024-04-20T10:46:54.736124Z",
     "shell.execute_reply": "2024-04-20T10:46:54.735147Z"
    },
    "papermill": {
     "duration": 0.030926,
     "end_time": "2024-04-20T10:46:54.738269",
     "exception": false,
     "start_time": "2024-04-20T10:46:54.707343",
     "status": "completed"
    },
    "tags": []
   },
   "outputs": [],
   "source": [
    "def evaluate_model(model, test_loader):\n",
    "    model.eval() \n",
    "    predictions, actuals = [], []\n",
    "    with torch.no_grad():  \n",
    "        for data, target in test_loader:\n",
    "            output = model(data)\n",
    "            predictions.append(output)\n",
    "            actuals.append(target)\n",
    "    \n",
    "    predictions = torch.cat(predictions).view(-1)\n",
    "    actuals = torch.cat(actuals).view(-1)\n",
    "    \n",
    "    mse = mean_squared_error(predictions, actuals)\n",
    "    mae = mean_absolute_error(predictions, actuals)\n",
    "    print(f'Mean Squared Error: {mse.item()}')\n",
    "    print(f'Mean Absolute Error: {mae.item()}')\n",
    "\n",
    "    return mse, mae"
   ]
  },
  {
   "cell_type": "code",
   "execution_count": 33,
   "id": "85f11f93",
   "metadata": {
    "execution": {
     "iopub.execute_input": "2024-04-20T10:46:54.781479Z",
     "iopub.status.busy": "2024-04-20T10:46:54.781056Z",
     "iopub.status.idle": "2024-04-20T10:46:54.886177Z",
     "shell.execute_reply": "2024-04-20T10:46:54.884893Z"
    },
    "papermill": {
     "duration": 0.129804,
     "end_time": "2024-04-20T10:46:54.888737",
     "exception": false,
     "start_time": "2024-04-20T10:46:54.758933",
     "status": "completed"
    },
    "tags": []
   },
   "outputs": [
    {
     "name": "stdout",
     "output_type": "stream",
     "text": [
      "Mean Squared Error: 11318.5615234375\n",
      "Mean Absolute Error: 72.42217254638672\n"
     ]
    },
    {
     "data": {
      "text/plain": [
       "(tensor(11318.5615), tensor(72.4222))"
      ]
     },
     "execution_count": 33,
     "metadata": {},
     "output_type": "execute_result"
    }
   ],
   "source": [
    "evaluate_model(model, test_loader)"
   ]
  },
  {
   "cell_type": "markdown",
   "id": "7863ddfd",
   "metadata": {
    "papermill": {
     "duration": 0.020589,
     "end_time": "2024-04-20T10:46:54.930429",
     "exception": false,
     "start_time": "2024-04-20T10:46:54.909840",
     "status": "completed"
    },
    "tags": []
   },
   "source": [
    "# Define MLP Model"
   ]
  },
  {
   "cell_type": "code",
   "execution_count": 34,
   "id": "682243ca",
   "metadata": {
    "execution": {
     "iopub.execute_input": "2024-04-20T10:46:54.973663Z",
     "iopub.status.busy": "2024-04-20T10:46:54.973238Z",
     "iopub.status.idle": "2024-04-20T10:46:54.980552Z",
     "shell.execute_reply": "2024-04-20T10:46:54.979316Z"
    },
    "papermill": {
     "duration": 0.031639,
     "end_time": "2024-04-20T10:46:54.982880",
     "exception": false,
     "start_time": "2024-04-20T10:46:54.951241",
     "status": "completed"
    },
    "tags": []
   },
   "outputs": [],
   "source": [
    "class MLPRegressor(nn.Module):\n",
    "    def __init__(self, input_size, output_activation=None):\n",
    "        super(MLPRegressor, self).__init__()\n",
    "        self.network = nn.Sequential(\n",
    "            nn.Linear(input_size, 128),\n",
    "            nn.ReLU(),\n",
    "            nn.Linear(128, 64),\n",
    "            nn.ReLU(),\n",
    "            nn.Linear(64, 32),\n",
    "            nn.ReLU(),\n",
    "            nn.Linear(32, 1)\n",
    "        )\n",
    "        self.output_activation = output_activation\n",
    "\n",
    "    def forward(self, x):\n",
    "        x = self.network(x)\n",
    "        if self.output_activation:\n",
    "            x = self.output_activation(x)\n",
    "        return x"
   ]
  },
  {
   "cell_type": "code",
   "execution_count": 35,
   "id": "8170e89f",
   "metadata": {
    "execution": {
     "iopub.execute_input": "2024-04-20T10:46:55.027317Z",
     "iopub.status.busy": "2024-04-20T10:46:55.026909Z",
     "iopub.status.idle": "2024-04-20T10:46:55.036569Z",
     "shell.execute_reply": "2024-04-20T10:46:55.035285Z"
    },
    "papermill": {
     "duration": 0.034397,
     "end_time": "2024-04-20T10:46:55.038925",
     "exception": false,
     "start_time": "2024-04-20T10:46:55.004528",
     "status": "completed"
    },
    "tags": []
   },
   "outputs": [
    {
     "name": "stdout",
     "output_type": "stream",
     "text": [
      "MLPRegressor(\n",
      "  (network): Sequential(\n",
      "    (0): Linear(in_features=35, out_features=128, bias=True)\n",
      "    (1): ReLU()\n",
      "    (2): Linear(in_features=128, out_features=64, bias=True)\n",
      "    (3): ReLU()\n",
      "    (4): Linear(in_features=64, out_features=32, bias=True)\n",
      "    (5): ReLU()\n",
      "    (6): Linear(in_features=32, out_features=1, bias=True)\n",
      "  )\n",
      "  (output_activation): ReLU()\n",
      ")\n"
     ]
    }
   ],
   "source": [
    "# Determine the number of features from the training data\n",
    "input_size = X_train.shape[1]\n",
    "\n",
    "# Initialize the model\n",
    "mlp_model = MLPRegressor(input_size, output_activation=nn.ReLU()).to(device)\n",
    "print(mlp_model)\n",
    "\n",
    "# Choose an optimizer and loss function\n",
    "optimizer = optim.Adam(mlp_model.parameters(), lr=0.001)\n",
    "criterion = nn.MSELoss()"
   ]
  },
  {
   "cell_type": "code",
   "execution_count": 36,
   "id": "23de2466",
   "metadata": {
    "execution": {
     "iopub.execute_input": "2024-04-20T10:46:55.083916Z",
     "iopub.status.busy": "2024-04-20T10:46:55.083457Z",
     "iopub.status.idle": "2024-04-20T10:46:55.092017Z",
     "shell.execute_reply": "2024-04-20T10:46:55.090822Z"
    },
    "papermill": {
     "duration": 0.034887,
     "end_time": "2024-04-20T10:46:55.094697",
     "exception": false,
     "start_time": "2024-04-20T10:46:55.059810",
     "status": "completed"
    },
    "tags": []
   },
   "outputs": [],
   "source": [
    "def train(model, train_loader, optimizer, criterion):\n",
    "    model.train()  # Set the model to training mode\n",
    "    total_loss = 0\n",
    "    for data, targets in train_loader:\n",
    "        optimizer.zero_grad()  # Clear existing gradients\n",
    "        outputs = model(data)  # Forward pass\n",
    "        loss = criterion(outputs, targets)\n",
    "        loss.backward()  # Backward pass\n",
    "        optimizer.step()  # Update parameters\n",
    "        total_loss += loss.item()\n",
    "    return total_loss / len(train_loader)\n",
    "\n",
    "def validate(model, val_loader, criterion):\n",
    "    model.eval()  # Set the model to evaluation mode\n",
    "    total_loss = 0\n",
    "    with torch.no_grad():  # Disable gradient calculation\n",
    "        for data, targets in val_loader:\n",
    "            outputs = model(data)\n",
    "            loss = criterion(outputs, targets)\n",
    "            total_loss += loss.item()\n",
    "    return total_loss / len(val_loader)"
   ]
  },
  {
   "cell_type": "code",
   "execution_count": 37,
   "id": "e7d619b6",
   "metadata": {
    "execution": {
     "iopub.execute_input": "2024-04-20T10:46:55.142205Z",
     "iopub.status.busy": "2024-04-20T10:46:55.140387Z",
     "iopub.status.idle": "2024-04-20T10:56:19.961348Z",
     "shell.execute_reply": "2024-04-20T10:56:19.960003Z"
    },
    "papermill": {
     "duration": 564.84677,
     "end_time": "2024-04-20T10:56:19.963905",
     "exception": false,
     "start_time": "2024-04-20T10:46:55.117135",
     "status": "completed"
    },
    "tags": []
   },
   "outputs": [
    {
     "name": "stderr",
     "output_type": "stream",
     "text": [
      "/opt/conda/lib/python3.10/site-packages/torch/nn/modules/loss.py:535: UserWarning: Using a target size (torch.Size([64])) that is different to the input size (torch.Size([64, 1])). This will likely lead to incorrect results due to broadcasting. Please ensure they have the same size.\n",
      "  return F.mse_loss(input, target, reduction=self.reduction)\n",
      "/opt/conda/lib/python3.10/site-packages/torch/nn/modules/loss.py:535: UserWarning: Using a target size (torch.Size([27])) that is different to the input size (torch.Size([27, 1])). This will likely lead to incorrect results due to broadcasting. Please ensure they have the same size.\n",
      "  return F.mse_loss(input, target, reduction=self.reduction)\n",
      "/opt/conda/lib/python3.10/site-packages/torch/nn/modules/loss.py:535: UserWarning: Using a target size (torch.Size([9])) that is different to the input size (torch.Size([9, 1])). This will likely lead to incorrect results due to broadcasting. Please ensure they have the same size.\n",
      "  return F.mse_loss(input, target, reduction=self.reduction)\n"
     ]
    },
    {
     "name": "stdout",
     "output_type": "stream",
     "text": [
      "Epoch 1: Train Loss: 17397.8944, Val Loss: 16923.0763\n",
      "Epoch 2: Train Loss: 17392.1599, Val Loss: 16923.0763\n",
      "Epoch 3: Train Loss: 17412.9743, Val Loss: 16923.0763\n",
      "Epoch 4: Train Loss: 17396.3111, Val Loss: 16923.0763\n",
      "Epoch 5: Train Loss: 17392.4895, Val Loss: 16923.0763\n",
      "Epoch 6: Train Loss: 17385.8294, Val Loss: 16923.0763\n",
      "Epoch 7: Train Loss: 17401.6540, Val Loss: 16923.0763\n",
      "Epoch 8: Train Loss: 17393.7112, Val Loss: 16923.0763\n",
      "Epoch 9: Train Loss: 17393.3564, Val Loss: 16923.0763\n",
      "Epoch 10: Train Loss: 17404.3383, Val Loss: 16923.0763\n",
      "Epoch 11: Train Loss: 17391.4843, Val Loss: 16923.0763\n",
      "Epoch 12: Train Loss: 17390.2270, Val Loss: 16923.0763\n",
      "Epoch 13: Train Loss: 17401.5456, Val Loss: 16923.0763\n",
      "Epoch 14: Train Loss: 17390.5601, Val Loss: 16923.0763\n",
      "Epoch 15: Train Loss: 17373.7436, Val Loss: 16923.0763\n",
      "Epoch 16: Train Loss: 17400.3592, Val Loss: 16923.0763\n",
      "Epoch 17: Train Loss: 17386.8514, Val Loss: 16923.0763\n",
      "Epoch 18: Train Loss: 17393.1558, Val Loss: 16923.0763\n",
      "Epoch 19: Train Loss: 17400.2511, Val Loss: 16923.0763\n",
      "Epoch 20: Train Loss: 17404.3209, Val Loss: 16923.0763\n",
      "Epoch 21: Train Loss: 17369.9277, Val Loss: 16923.0763\n",
      "Epoch 22: Train Loss: 17385.5649, Val Loss: 16923.0763\n",
      "Epoch 23: Train Loss: 17380.2161, Val Loss: 16923.0763\n",
      "Epoch 24: Train Loss: 17408.9798, Val Loss: 16923.0763\n",
      "Epoch 25: Train Loss: 17392.6151, Val Loss: 16923.0763\n",
      "Epoch 26: Train Loss: 17400.1202, Val Loss: 16923.0763\n",
      "Epoch 27: Train Loss: 17390.2596, Val Loss: 16923.0763\n",
      "Epoch 28: Train Loss: 17381.1985, Val Loss: 16923.0763\n",
      "Epoch 29: Train Loss: 17391.9861, Val Loss: 16923.0763\n",
      "Epoch 30: Train Loss: 17398.8109, Val Loss: 16923.0763\n",
      "Epoch 31: Train Loss: 17390.4905, Val Loss: 16923.0763\n",
      "Epoch 32: Train Loss: 17380.8342, Val Loss: 16923.0763\n",
      "Epoch 33: Train Loss: 17393.2353, Val Loss: 16923.0763\n",
      "Epoch 34: Train Loss: 17391.4088, Val Loss: 16923.0763\n",
      "Epoch 35: Train Loss: 17388.8890, Val Loss: 16923.0763\n",
      "Epoch 36: Train Loss: 17388.3802, Val Loss: 16923.0763\n",
      "Epoch 37: Train Loss: 17388.9982, Val Loss: 16923.0763\n",
      "Epoch 38: Train Loss: 17387.7009, Val Loss: 16923.0763\n",
      "Epoch 39: Train Loss: 17395.4340, Val Loss: 16923.0763\n",
      "Epoch 40: Train Loss: 17416.8779, Val Loss: 16923.0763\n",
      "Epoch 41: Train Loss: 17391.9864, Val Loss: 16923.0763\n",
      "Epoch 42: Train Loss: 17389.2111, Val Loss: 16923.0763\n",
      "Epoch 43: Train Loss: 17395.9746, Val Loss: 16923.0763\n",
      "Epoch 44: Train Loss: 17388.9703, Val Loss: 16923.0763\n",
      "Epoch 45: Train Loss: 17389.4235, Val Loss: 16923.0763\n",
      "Epoch 46: Train Loss: 17379.7141, Val Loss: 16923.0763\n",
      "Epoch 47: Train Loss: 17390.3143, Val Loss: 16923.0763\n",
      "Epoch 48: Train Loss: 17414.2139, Val Loss: 16923.0763\n",
      "Epoch 49: Train Loss: 17412.2120, Val Loss: 16923.0763\n",
      "Epoch 50: Train Loss: 17395.5203, Val Loss: 16923.0763\n",
      "Epoch 51: Train Loss: 17383.1601, Val Loss: 16923.0763\n",
      "Epoch 52: Train Loss: 17379.1891, Val Loss: 16923.0763\n",
      "Epoch 53: Train Loss: 17399.9353, Val Loss: 16923.0763\n",
      "Epoch 54: Train Loss: 17371.8792, Val Loss: 16923.0763\n",
      "Epoch 55: Train Loss: 17397.2653, Val Loss: 16923.0763\n",
      "Epoch 56: Train Loss: 17391.5641, Val Loss: 16923.0763\n",
      "Epoch 57: Train Loss: 17392.2031, Val Loss: 16923.0763\n",
      "Epoch 58: Train Loss: 17384.4763, Val Loss: 16923.0763\n",
      "Epoch 59: Train Loss: 17392.9590, Val Loss: 16923.0763\n",
      "Epoch 60: Train Loss: 17388.7733, Val Loss: 16923.0763\n",
      "Epoch 61: Train Loss: 17409.2925, Val Loss: 16923.0763\n",
      "Epoch 62: Train Loss: 17393.4777, Val Loss: 16923.0763\n",
      "Epoch 63: Train Loss: 17398.9591, Val Loss: 16923.0763\n",
      "Epoch 64: Train Loss: 17374.0389, Val Loss: 16923.0763\n",
      "Epoch 65: Train Loss: 17409.6115, Val Loss: 16923.0763\n",
      "Epoch 66: Train Loss: 17381.9915, Val Loss: 16923.0763\n",
      "Epoch 67: Train Loss: 17386.2385, Val Loss: 16923.0763\n",
      "Epoch 68: Train Loss: 17384.3813, Val Loss: 16923.0763\n",
      "Epoch 69: Train Loss: 17400.6542, Val Loss: 16923.0763\n",
      "Epoch 70: Train Loss: 17387.3325, Val Loss: 16923.0763\n",
      "Epoch 71: Train Loss: 17382.3460, Val Loss: 16923.0763\n",
      "Epoch 72: Train Loss: 17371.4378, Val Loss: 16923.0763\n",
      "Epoch 73: Train Loss: 17401.5124, Val Loss: 16923.0763\n",
      "Epoch 74: Train Loss: 17394.1251, Val Loss: 16923.0763\n",
      "Epoch 75: Train Loss: 17401.0558, Val Loss: 16923.0763\n",
      "Epoch 76: Train Loss: 17403.0268, Val Loss: 16923.0763\n",
      "Epoch 77: Train Loss: 17409.2994, Val Loss: 16923.0763\n",
      "Epoch 78: Train Loss: 17387.0137, Val Loss: 16923.0763\n",
      "Epoch 79: Train Loss: 17392.7820, Val Loss: 16923.0763\n",
      "Epoch 80: Train Loss: 17386.6982, Val Loss: 16923.0763\n",
      "Epoch 81: Train Loss: 17368.2722, Val Loss: 16923.0763\n",
      "Epoch 82: Train Loss: 17404.6573, Val Loss: 16923.0763\n",
      "Epoch 83: Train Loss: 17391.1600, Val Loss: 16923.0763\n",
      "Epoch 84: Train Loss: 17390.6402, Val Loss: 16923.0763\n",
      "Epoch 85: Train Loss: 17375.7131, Val Loss: 16923.0763\n",
      "Epoch 86: Train Loss: 17377.9907, Val Loss: 16923.0763\n",
      "Epoch 87: Train Loss: 17388.1178, Val Loss: 16923.0763\n",
      "Epoch 88: Train Loss: 17383.2108, Val Loss: 16923.0763\n",
      "Epoch 89: Train Loss: 17397.9358, Val Loss: 16923.0763\n",
      "Epoch 90: Train Loss: 17387.1755, Val Loss: 16923.0763\n",
      "Epoch 91: Train Loss: 17400.9309, Val Loss: 16923.0763\n",
      "Epoch 92: Train Loss: 17380.7288, Val Loss: 16923.0763\n",
      "Epoch 93: Train Loss: 17375.6909, Val Loss: 16923.0763\n",
      "Epoch 94: Train Loss: 17384.0297, Val Loss: 16923.0763\n",
      "Epoch 95: Train Loss: 17382.4456, Val Loss: 16923.0763\n",
      "Epoch 96: Train Loss: 17393.2945, Val Loss: 16923.0763\n",
      "Epoch 97: Train Loss: 17404.3855, Val Loss: 16923.0763\n",
      "Epoch 98: Train Loss: 17410.3140, Val Loss: 16923.0763\n",
      "Epoch 99: Train Loss: 17391.2776, Val Loss: 16923.0763\n",
      "Epoch 100: Train Loss: 17398.1409, Val Loss: 16923.0763\n",
      "Epoch 101: Train Loss: 17382.4587, Val Loss: 16923.0763\n",
      "Epoch 102: Train Loss: 17385.5909, Val Loss: 16923.0763\n",
      "Epoch 103: Train Loss: 17384.9517, Val Loss: 16923.0763\n",
      "Epoch 104: Train Loss: 17406.9221, Val Loss: 16923.0763\n",
      "Epoch 105: Train Loss: 17397.2520, Val Loss: 16923.0763\n",
      "Epoch 106: Train Loss: 17402.3117, Val Loss: 16923.0763\n",
      "Epoch 107: Train Loss: 17392.2837, Val Loss: 16923.0763\n",
      "Epoch 108: Train Loss: 17389.0844, Val Loss: 16923.0763\n",
      "Epoch 109: Train Loss: 17415.0715, Val Loss: 16923.0763\n",
      "Epoch 110: Train Loss: 17394.4537, Val Loss: 16923.0763\n",
      "Epoch 111: Train Loss: 17379.6224, Val Loss: 16923.0763\n",
      "Epoch 112: Train Loss: 17379.6471, Val Loss: 16923.0763\n",
      "Epoch 113: Train Loss: 17388.4910, Val Loss: 16923.0763\n",
      "Epoch 114: Train Loss: 17415.3914, Val Loss: 16923.0763\n",
      "Epoch 115: Train Loss: 17389.3497, Val Loss: 16923.0763\n",
      "Epoch 116: Train Loss: 17410.4591, Val Loss: 16923.0763\n",
      "Epoch 117: Train Loss: 17384.5168, Val Loss: 16923.0763\n",
      "Epoch 118: Train Loss: 17382.5781, Val Loss: 16923.0763\n",
      "Epoch 119: Train Loss: 17387.6547, Val Loss: 16923.0763\n",
      "Epoch 120: Train Loss: 17402.7389, Val Loss: 16923.0763\n",
      "Epoch 121: Train Loss: 17410.6382, Val Loss: 16923.0763\n",
      "Epoch 122: Train Loss: 17400.2905, Val Loss: 16923.0763\n",
      "Epoch 123: Train Loss: 17382.6952, Val Loss: 16923.0763\n",
      "Epoch 124: Train Loss: 17393.1215, Val Loss: 16923.0763\n",
      "Epoch 125: Train Loss: 17401.8606, Val Loss: 16923.0763\n",
      "Epoch 126: Train Loss: 17391.4745, Val Loss: 16923.0763\n",
      "Epoch 127: Train Loss: 17378.0426, Val Loss: 16923.0763\n",
      "Epoch 128: Train Loss: 17390.7186, Val Loss: 16923.0763\n",
      "Epoch 129: Train Loss: 17394.7451, Val Loss: 16923.0763\n",
      "Epoch 130: Train Loss: 17392.7493, Val Loss: 16923.0763\n",
      "Epoch 131: Train Loss: 17386.8774, Val Loss: 16923.0763\n",
      "Epoch 132: Train Loss: 17385.1295, Val Loss: 16923.0763\n",
      "Epoch 133: Train Loss: 17394.2362, Val Loss: 16923.0763\n",
      "Epoch 134: Train Loss: 17383.4220, Val Loss: 16923.0763\n",
      "Epoch 135: Train Loss: 17417.7681, Val Loss: 16923.0763\n",
      "Epoch 136: Train Loss: 17393.3382, Val Loss: 16923.0763\n",
      "Epoch 137: Train Loss: 17392.5000, Val Loss: 16923.0763\n",
      "Epoch 138: Train Loss: 17382.1663, Val Loss: 16923.0763\n",
      "Epoch 139: Train Loss: 17381.7620, Val Loss: 16923.0763\n",
      "Epoch 140: Train Loss: 17411.1076, Val Loss: 16923.0763\n",
      "Epoch 141: Train Loss: 17396.7127, Val Loss: 16923.0763\n",
      "Epoch 142: Train Loss: 17403.1159, Val Loss: 16923.0763\n",
      "Epoch 143: Train Loss: 17391.1867, Val Loss: 16923.0763\n",
      "Epoch 144: Train Loss: 17389.1312, Val Loss: 16923.0763\n",
      "Epoch 145: Train Loss: 17391.4594, Val Loss: 16923.0763\n",
      "Epoch 146: Train Loss: 17400.4852, Val Loss: 16923.0763\n",
      "Epoch 147: Train Loss: 17384.0445, Val Loss: 16923.0763\n",
      "Epoch 148: Train Loss: 17386.3671, Val Loss: 16923.0763\n",
      "Epoch 149: Train Loss: 17389.5143, Val Loss: 16923.0763\n",
      "Epoch 150: Train Loss: 17411.7005, Val Loss: 16923.0763\n",
      "Epoch 151: Train Loss: 17376.7132, Val Loss: 16923.0763\n",
      "Epoch 152: Train Loss: 17406.2692, Val Loss: 16923.0763\n",
      "Epoch 153: Train Loss: 17399.9737, Val Loss: 16923.0763\n",
      "Epoch 154: Train Loss: 17385.0855, Val Loss: 16923.0763\n",
      "Epoch 155: Train Loss: 17382.8573, Val Loss: 16923.0763\n",
      "Epoch 156: Train Loss: 17391.1567, Val Loss: 16923.0763\n",
      "Epoch 157: Train Loss: 17398.3521, Val Loss: 16923.0763\n",
      "Epoch 158: Train Loss: 17386.5318, Val Loss: 16923.0763\n",
      "Epoch 159: Train Loss: 17397.3583, Val Loss: 16923.0763\n",
      "Epoch 160: Train Loss: 17391.0583, Val Loss: 16923.0763\n",
      "Epoch 161: Train Loss: 17398.8300, Val Loss: 16923.0763\n",
      "Epoch 162: Train Loss: 17374.7166, Val Loss: 16923.0763\n",
      "Epoch 163: Train Loss: 17395.1101, Val Loss: 16923.0763\n",
      "Epoch 164: Train Loss: 17408.0975, Val Loss: 16923.0763\n",
      "Epoch 165: Train Loss: 17383.5335, Val Loss: 16923.0763\n",
      "Epoch 166: Train Loss: 17401.8322, Val Loss: 16923.0763\n",
      "Epoch 167: Train Loss: 17399.6534, Val Loss: 16923.0763\n",
      "Epoch 168: Train Loss: 17416.5233, Val Loss: 16923.0763\n",
      "Epoch 169: Train Loss: 17403.0173, Val Loss: 16923.0763\n",
      "Epoch 170: Train Loss: 17392.4463, Val Loss: 16923.0763\n",
      "Epoch 171: Train Loss: 17382.1758, Val Loss: 16923.0763\n",
      "Epoch 172: Train Loss: 17389.9696, Val Loss: 16923.0763\n",
      "Epoch 173: Train Loss: 17407.2310, Val Loss: 16923.0763\n",
      "Epoch 174: Train Loss: 17395.2203, Val Loss: 16923.0763\n",
      "Epoch 175: Train Loss: 17378.0252, Val Loss: 16923.0763\n",
      "Epoch 176: Train Loss: 17396.6887, Val Loss: 16923.0763\n",
      "Epoch 177: Train Loss: 17387.4568, Val Loss: 16923.0763\n",
      "Epoch 178: Train Loss: 17409.9950, Val Loss: 16923.0763\n",
      "Epoch 179: Train Loss: 17394.3384, Val Loss: 16923.0763\n",
      "Epoch 180: Train Loss: 17392.1298, Val Loss: 16923.0763\n",
      "Epoch 181: Train Loss: 17396.2234, Val Loss: 16923.0763\n",
      "Epoch 182: Train Loss: 17411.9444, Val Loss: 16923.0763\n",
      "Epoch 183: Train Loss: 17385.4364, Val Loss: 16923.0763\n",
      "Epoch 184: Train Loss: 17401.3039, Val Loss: 16923.0763\n",
      "Epoch 185: Train Loss: 17396.3018, Val Loss: 16923.0763\n",
      "Epoch 186: Train Loss: 17404.0992, Val Loss: 16923.0763\n",
      "Epoch 187: Train Loss: 17399.7239, Val Loss: 16923.0763\n",
      "Epoch 188: Train Loss: 17388.5973, Val Loss: 16923.0763\n",
      "Epoch 189: Train Loss: 17373.6394, Val Loss: 16923.0763\n",
      "Epoch 190: Train Loss: 17407.1808, Val Loss: 16923.0763\n",
      "Epoch 191: Train Loss: 17384.2012, Val Loss: 16923.0763\n",
      "Epoch 192: Train Loss: 17390.2221, Val Loss: 16923.0763\n",
      "Epoch 193: Train Loss: 17406.5663, Val Loss: 16923.0763\n",
      "Epoch 194: Train Loss: 17374.3154, Val Loss: 16923.0763\n",
      "Epoch 195: Train Loss: 17385.9141, Val Loss: 16923.0763\n",
      "Epoch 196: Train Loss: 17393.5603, Val Loss: 16923.0763\n",
      "Epoch 197: Train Loss: 17404.5879, Val Loss: 16923.0763\n",
      "Epoch 198: Train Loss: 17401.6213, Val Loss: 16923.0763\n",
      "Epoch 199: Train Loss: 17388.6850, Val Loss: 16923.0763\n",
      "Epoch 200: Train Loss: 17376.0573, Val Loss: 16923.0763\n",
      "Epoch 201: Train Loss: 17399.1892, Val Loss: 16923.0763\n",
      "Epoch 202: Train Loss: 17382.4267, Val Loss: 16923.0763\n",
      "Epoch 203: Train Loss: 17389.9391, Val Loss: 16923.0763\n",
      "Epoch 204: Train Loss: 17407.2786, Val Loss: 16923.0763\n",
      "Epoch 205: Train Loss: 17405.2308, Val Loss: 16923.0763\n",
      "Epoch 206: Train Loss: 17388.5030, Val Loss: 16923.0763\n",
      "Epoch 207: Train Loss: 17396.9787, Val Loss: 16923.0763\n",
      "Epoch 208: Train Loss: 17394.3144, Val Loss: 16923.0763\n",
      "Epoch 209: Train Loss: 17394.5435, Val Loss: 16923.0763\n",
      "Epoch 210: Train Loss: 17384.6666, Val Loss: 16923.0763\n",
      "Epoch 211: Train Loss: 17377.3940, Val Loss: 16923.0763\n",
      "Epoch 212: Train Loss: 17401.7566, Val Loss: 16923.0763\n",
      "Epoch 213: Train Loss: 17406.3271, Val Loss: 16923.0763\n",
      "Epoch 214: Train Loss: 17384.6195, Val Loss: 16923.0763\n",
      "Epoch 215: Train Loss: 17401.4392, Val Loss: 16923.0763\n",
      "Epoch 216: Train Loss: 17375.1344, Val Loss: 16923.0763\n",
      "Epoch 217: Train Loss: 17384.9607, Val Loss: 16923.0763\n",
      "Epoch 218: Train Loss: 17393.3160, Val Loss: 16923.0763\n",
      "Epoch 219: Train Loss: 17392.5951, Val Loss: 16923.0763\n",
      "Epoch 220: Train Loss: 17392.2457, Val Loss: 16923.0763\n",
      "Epoch 221: Train Loss: 17388.1276, Val Loss: 16923.0763\n",
      "Epoch 222: Train Loss: 17390.1202, Val Loss: 16923.0763\n",
      "Epoch 223: Train Loss: 17406.8524, Val Loss: 16923.0763\n",
      "Epoch 224: Train Loss: 17384.1505, Val Loss: 16923.0763\n",
      "Epoch 225: Train Loss: 17392.6839, Val Loss: 16923.0763\n",
      "Epoch 226: Train Loss: 17387.7358, Val Loss: 16923.0763\n",
      "Epoch 227: Train Loss: 17377.5152, Val Loss: 16923.0763\n",
      "Epoch 228: Train Loss: 17380.1985, Val Loss: 16923.0763\n",
      "Epoch 229: Train Loss: 17376.9404, Val Loss: 16923.0763\n",
      "Epoch 230: Train Loss: 17385.2540, Val Loss: 16923.0763\n",
      "Epoch 231: Train Loss: 17384.1433, Val Loss: 16923.0763\n",
      "Epoch 232: Train Loss: 17384.7548, Val Loss: 16923.0763\n",
      "Epoch 233: Train Loss: 17399.0105, Val Loss: 16923.0763\n",
      "Epoch 234: Train Loss: 17398.8641, Val Loss: 16923.0763\n",
      "Epoch 235: Train Loss: 17390.9725, Val Loss: 16923.0763\n",
      "Epoch 236: Train Loss: 17419.5449, Val Loss: 16923.0763\n",
      "Epoch 237: Train Loss: 17373.0316, Val Loss: 16923.0763\n",
      "Epoch 238: Train Loss: 17394.9715, Val Loss: 16923.0763\n",
      "Epoch 239: Train Loss: 17424.4359, Val Loss: 16923.0763\n",
      "Epoch 240: Train Loss: 17380.4437, Val Loss: 16923.0763\n",
      "Epoch 241: Train Loss: 17404.1389, Val Loss: 16923.0763\n",
      "Epoch 242: Train Loss: 17396.7131, Val Loss: 16923.0763\n",
      "Epoch 243: Train Loss: 17406.6854, Val Loss: 16923.0763\n",
      "Epoch 244: Train Loss: 17395.6833, Val Loss: 16923.0763\n",
      "Epoch 245: Train Loss: 17383.1095, Val Loss: 16923.0763\n",
      "Epoch 246: Train Loss: 17373.3270, Val Loss: 16923.0763\n",
      "Epoch 247: Train Loss: 17371.5969, Val Loss: 16923.0763\n",
      "Epoch 248: Train Loss: 17388.8241, Val Loss: 16923.0763\n",
      "Epoch 249: Train Loss: 17390.6132, Val Loss: 16923.0763\n",
      "Epoch 250: Train Loss: 17390.3613, Val Loss: 16923.0763\n",
      "Epoch 251: Train Loss: 17388.5117, Val Loss: 16923.0763\n",
      "Epoch 252: Train Loss: 17400.6701, Val Loss: 16923.0763\n",
      "Epoch 253: Train Loss: 17385.7245, Val Loss: 16923.0763\n",
      "Epoch 254: Train Loss: 17359.5224, Val Loss: 16923.0763\n",
      "Epoch 255: Train Loss: 17383.4264, Val Loss: 16923.0763\n",
      "Epoch 256: Train Loss: 17390.1378, Val Loss: 16923.0763\n",
      "Epoch 257: Train Loss: 17386.1904, Val Loss: 16923.0763\n",
      "Epoch 258: Train Loss: 17383.0663, Val Loss: 16923.0763\n",
      "Epoch 259: Train Loss: 17395.2242, Val Loss: 16923.0763\n",
      "Epoch 260: Train Loss: 17396.2366, Val Loss: 16923.0763\n",
      "Epoch 261: Train Loss: 17387.3851, Val Loss: 16923.0763\n",
      "Epoch 262: Train Loss: 17382.6015, Val Loss: 16923.0763\n",
      "Epoch 263: Train Loss: 17402.7629, Val Loss: 16923.0763\n",
      "Epoch 264: Train Loss: 17405.8931, Val Loss: 16923.0763\n",
      "Epoch 265: Train Loss: 17408.5689, Val Loss: 16923.0763\n",
      "Epoch 266: Train Loss: 17388.1727, Val Loss: 16923.0763\n",
      "Epoch 267: Train Loss: 17396.2211, Val Loss: 16923.0763\n",
      "Epoch 268: Train Loss: 17399.2454, Val Loss: 16923.0763\n",
      "Epoch 269: Train Loss: 17375.0843, Val Loss: 16923.0763\n",
      "Epoch 270: Train Loss: 17407.3974, Val Loss: 16923.0763\n",
      "Epoch 271: Train Loss: 17411.8441, Val Loss: 16923.0763\n",
      "Epoch 272: Train Loss: 17387.8874, Val Loss: 16923.0763\n",
      "Epoch 273: Train Loss: 17397.4172, Val Loss: 16923.0763\n",
      "Epoch 274: Train Loss: 17398.8020, Val Loss: 16923.0763\n",
      "Epoch 275: Train Loss: 17374.6954, Val Loss: 16923.0763\n",
      "Epoch 276: Train Loss: 17389.7292, Val Loss: 16923.0763\n",
      "Epoch 277: Train Loss: 17379.1025, Val Loss: 16923.0763\n",
      "Epoch 278: Train Loss: 17375.6753, Val Loss: 16923.0763\n",
      "Epoch 279: Train Loss: 17373.2759, Val Loss: 16923.0763\n",
      "Epoch 280: Train Loss: 17394.4775, Val Loss: 16923.0763\n",
      "Epoch 281: Train Loss: 17381.7711, Val Loss: 16923.0763\n",
      "Epoch 282: Train Loss: 17398.4970, Val Loss: 16923.0763\n",
      "Epoch 283: Train Loss: 17387.9897, Val Loss: 16923.0763\n",
      "Epoch 284: Train Loss: 17388.6405, Val Loss: 16923.0763\n",
      "Epoch 285: Train Loss: 17392.6274, Val Loss: 16923.0763\n",
      "Epoch 286: Train Loss: 17392.6192, Val Loss: 16923.0763\n",
      "Epoch 287: Train Loss: 17415.3976, Val Loss: 16923.0763\n",
      "Epoch 288: Train Loss: 17397.4439, Val Loss: 16923.0763\n",
      "Epoch 289: Train Loss: 17400.8485, Val Loss: 16923.0763\n",
      "Epoch 290: Train Loss: 17410.2755, Val Loss: 16923.0763\n",
      "Epoch 291: Train Loss: 17368.1337, Val Loss: 16923.0763\n",
      "Epoch 292: Train Loss: 17393.5326, Val Loss: 16923.0763\n",
      "Epoch 293: Train Loss: 17378.9045, Val Loss: 16923.0763\n",
      "Epoch 294: Train Loss: 17385.2755, Val Loss: 16923.0763\n",
      "Epoch 295: Train Loss: 17388.0002, Val Loss: 16923.0763\n",
      "Epoch 296: Train Loss: 17387.5400, Val Loss: 16923.0763\n",
      "Epoch 297: Train Loss: 17391.2851, Val Loss: 16923.0763\n",
      "Epoch 298: Train Loss: 17399.1704, Val Loss: 16923.0763\n",
      "Epoch 299: Train Loss: 17400.5781, Val Loss: 16923.0763\n",
      "Epoch 300: Train Loss: 17399.3189, Val Loss: 16923.0763\n",
      "Epoch 301: Train Loss: 17402.4198, Val Loss: 16923.0763\n",
      "Epoch 302: Train Loss: 17397.8311, Val Loss: 16923.0763\n",
      "Epoch 303: Train Loss: 17420.8500, Val Loss: 16923.0763\n",
      "Epoch 304: Train Loss: 17377.1519, Val Loss: 16923.0763\n",
      "Epoch 305: Train Loss: 17388.0226, Val Loss: 16923.0763\n",
      "Epoch 306: Train Loss: 17402.9622, Val Loss: 16923.0763\n",
      "Epoch 307: Train Loss: 17402.9225, Val Loss: 16923.0763\n",
      "Epoch 308: Train Loss: 17410.4440, Val Loss: 16923.0763\n",
      "Epoch 309: Train Loss: 17394.7056, Val Loss: 16923.0763\n",
      "Epoch 310: Train Loss: 17400.8485, Val Loss: 16923.0763\n",
      "Epoch 311: Train Loss: 17396.3507, Val Loss: 16923.0763\n",
      "Epoch 312: Train Loss: 17388.6570, Val Loss: 16923.0763\n",
      "Epoch 313: Train Loss: 17388.8524, Val Loss: 16923.0763\n",
      "Epoch 314: Train Loss: 17397.3100, Val Loss: 16923.0763\n",
      "Epoch 315: Train Loss: 17419.7391, Val Loss: 16923.0763\n",
      "Epoch 316: Train Loss: 17403.7210, Val Loss: 16923.0763\n",
      "Epoch 317: Train Loss: 17408.8857, Val Loss: 16923.0763\n",
      "Epoch 318: Train Loss: 17393.5026, Val Loss: 16923.0763\n",
      "Epoch 319: Train Loss: 17413.0779, Val Loss: 16923.0763\n",
      "Epoch 320: Train Loss: 17386.8507, Val Loss: 16923.0763\n",
      "Epoch 321: Train Loss: 17392.3480, Val Loss: 16923.0763\n",
      "Epoch 322: Train Loss: 17386.9952, Val Loss: 16923.0763\n",
      "Epoch 323: Train Loss: 17404.5308, Val Loss: 16923.0763\n",
      "Epoch 324: Train Loss: 17400.3085, Val Loss: 16923.0763\n",
      "Epoch 325: Train Loss: 17369.5359, Val Loss: 16923.0763\n",
      "Epoch 326: Train Loss: 17393.0460, Val Loss: 16923.0763\n",
      "Epoch 327: Train Loss: 17386.7269, Val Loss: 16923.0763\n",
      "Epoch 328: Train Loss: 17387.0643, Val Loss: 16923.0763\n",
      "Epoch 329: Train Loss: 17393.6757, Val Loss: 16923.0763\n",
      "Epoch 330: Train Loss: 17410.7809, Val Loss: 16923.0763\n",
      "Epoch 331: Train Loss: 17408.3688, Val Loss: 16923.0763\n",
      "Epoch 332: Train Loss: 17403.9767, Val Loss: 16923.0763\n",
      "Epoch 333: Train Loss: 17400.6451, Val Loss: 16923.0763\n",
      "Epoch 334: Train Loss: 17393.0768, Val Loss: 16923.0763\n",
      "Epoch 335: Train Loss: 17401.0495, Val Loss: 16923.0763\n",
      "Epoch 336: Train Loss: 17380.3105, Val Loss: 16923.0763\n",
      "Epoch 337: Train Loss: 17401.1863, Val Loss: 16923.0763\n",
      "Epoch 338: Train Loss: 17393.2598, Val Loss: 16923.0763\n",
      "Epoch 339: Train Loss: 17362.1334, Val Loss: 16923.0763\n",
      "Epoch 340: Train Loss: 17376.6350, Val Loss: 16923.0763\n",
      "Epoch 341: Train Loss: 17385.5006, Val Loss: 16923.0763\n",
      "Epoch 342: Train Loss: 17399.7205, Val Loss: 16923.0763\n",
      "Epoch 343: Train Loss: 17392.8061, Val Loss: 16923.0763\n",
      "Epoch 344: Train Loss: 17391.8253, Val Loss: 16923.0763\n",
      "Epoch 345: Train Loss: 17403.2794, Val Loss: 16923.0763\n",
      "Epoch 346: Train Loss: 17395.8525, Val Loss: 16923.0763\n",
      "Epoch 347: Train Loss: 17414.4352, Val Loss: 16923.0763\n",
      "Epoch 348: Train Loss: 17393.6763, Val Loss: 16923.0763\n",
      "Epoch 349: Train Loss: 17397.5324, Val Loss: 16923.0763\n",
      "Epoch 350: Train Loss: 17384.9065, Val Loss: 16923.0763\n",
      "Epoch 351: Train Loss: 17384.8160, Val Loss: 16923.0763\n",
      "Epoch 352: Train Loss: 17396.2052, Val Loss: 16923.0763\n",
      "Epoch 353: Train Loss: 17379.6290, Val Loss: 16923.0763\n",
      "Epoch 354: Train Loss: 17403.0089, Val Loss: 16923.0763\n",
      "Epoch 355: Train Loss: 17380.9345, Val Loss: 16923.0763\n",
      "Epoch 356: Train Loss: 17405.3822, Val Loss: 16923.0763\n",
      "Epoch 357: Train Loss: 17377.7343, Val Loss: 16923.0763\n",
      "Epoch 358: Train Loss: 17396.9101, Val Loss: 16923.0763\n",
      "Epoch 359: Train Loss: 17418.0251, Val Loss: 16923.0763\n",
      "Epoch 360: Train Loss: 17383.7718, Val Loss: 16923.0763\n",
      "Epoch 361: Train Loss: 17398.6294, Val Loss: 16923.0763\n",
      "Epoch 362: Train Loss: 17395.2549, Val Loss: 16923.0763\n",
      "Epoch 363: Train Loss: 17401.3077, Val Loss: 16923.0763\n",
      "Epoch 364: Train Loss: 17395.7288, Val Loss: 16923.0763\n",
      "Epoch 365: Train Loss: 17398.8803, Val Loss: 16923.0763\n",
      "Epoch 366: Train Loss: 17383.3883, Val Loss: 16923.0763\n",
      "Epoch 367: Train Loss: 17385.6270, Val Loss: 16923.0763\n",
      "Epoch 368: Train Loss: 17405.7592, Val Loss: 16923.0763\n",
      "Epoch 369: Train Loss: 17393.0367, Val Loss: 16923.0763\n",
      "Epoch 370: Train Loss: 17375.9773, Val Loss: 16923.0763\n",
      "Epoch 371: Train Loss: 17393.3867, Val Loss: 16923.0763\n",
      "Epoch 372: Train Loss: 17373.2661, Val Loss: 16923.0763\n",
      "Epoch 373: Train Loss: 17389.5684, Val Loss: 16923.0763\n",
      "Epoch 374: Train Loss: 17391.9208, Val Loss: 16923.0763\n",
      "Epoch 375: Train Loss: 17392.2266, Val Loss: 16923.0763\n",
      "Epoch 376: Train Loss: 17395.5804, Val Loss: 16923.0763\n",
      "Epoch 377: Train Loss: 17407.8802, Val Loss: 16923.0763\n",
      "Epoch 378: Train Loss: 17405.4021, Val Loss: 16923.0763\n",
      "Epoch 379: Train Loss: 17396.8614, Val Loss: 16923.0763\n",
      "Epoch 380: Train Loss: 17388.2718, Val Loss: 16923.0763\n",
      "Epoch 381: Train Loss: 17407.2905, Val Loss: 16923.0763\n",
      "Epoch 382: Train Loss: 17390.9429, Val Loss: 16923.0763\n",
      "Epoch 383: Train Loss: 17398.0329, Val Loss: 16923.0763\n",
      "Epoch 384: Train Loss: 17383.0189, Val Loss: 16923.0763\n",
      "Epoch 385: Train Loss: 17390.0327, Val Loss: 16923.0763\n",
      "Epoch 386: Train Loss: 17390.7631, Val Loss: 16923.0763\n",
      "Epoch 387: Train Loss: 17382.2890, Val Loss: 16923.0763\n",
      "Epoch 388: Train Loss: 17395.4394, Val Loss: 16923.0763\n",
      "Epoch 389: Train Loss: 17387.0924, Val Loss: 16923.0763\n",
      "Epoch 390: Train Loss: 17404.8243, Val Loss: 16923.0763\n",
      "Epoch 391: Train Loss: 17404.5090, Val Loss: 16923.0763\n",
      "Epoch 392: Train Loss: 17395.9338, Val Loss: 16923.0763\n",
      "Epoch 393: Train Loss: 17388.8235, Val Loss: 16923.0763\n",
      "Epoch 394: Train Loss: 17368.7466, Val Loss: 16923.0763\n",
      "Epoch 395: Train Loss: 17386.6637, Val Loss: 16923.0763\n",
      "Epoch 396: Train Loss: 17402.6126, Val Loss: 16923.0763\n",
      "Epoch 397: Train Loss: 17421.7541, Val Loss: 16923.0763\n",
      "Epoch 398: Train Loss: 17377.0980, Val Loss: 16923.0763\n",
      "Epoch 399: Train Loss: 17381.1382, Val Loss: 16923.0763\n",
      "Epoch 400: Train Loss: 17389.8673, Val Loss: 16923.0763\n",
      "Epoch 401: Train Loss: 17379.2663, Val Loss: 16923.0763\n",
      "Epoch 402: Train Loss: 17378.0271, Val Loss: 16923.0763\n",
      "Epoch 403: Train Loss: 17391.2774, Val Loss: 16923.0763\n",
      "Epoch 404: Train Loss: 17392.7945, Val Loss: 16923.0763\n",
      "Epoch 405: Train Loss: 17398.5207, Val Loss: 16923.0763\n",
      "Epoch 406: Train Loss: 17392.1452, Val Loss: 16923.0763\n",
      "Epoch 407: Train Loss: 17388.2184, Val Loss: 16923.0763\n",
      "Epoch 408: Train Loss: 17416.5436, Val Loss: 16923.0763\n",
      "Epoch 409: Train Loss: 17400.1286, Val Loss: 16923.0763\n",
      "Epoch 410: Train Loss: 17389.3049, Val Loss: 16923.0763\n",
      "Epoch 411: Train Loss: 17388.9546, Val Loss: 16923.0763\n",
      "Epoch 412: Train Loss: 17397.8835, Val Loss: 16923.0763\n",
      "Epoch 413: Train Loss: 17401.5239, Val Loss: 16923.0763\n",
      "Epoch 414: Train Loss: 17386.3865, Val Loss: 16923.0763\n",
      "Epoch 415: Train Loss: 17396.6485, Val Loss: 16923.0763\n",
      "Epoch 416: Train Loss: 17383.2854, Val Loss: 16923.0763\n",
      "Epoch 417: Train Loss: 17398.4266, Val Loss: 16923.0763\n",
      "Epoch 418: Train Loss: 17388.4461, Val Loss: 16923.0763\n",
      "Epoch 419: Train Loss: 17371.9810, Val Loss: 16923.0763\n",
      "Epoch 420: Train Loss: 17393.4489, Val Loss: 16923.0763\n",
      "Epoch 421: Train Loss: 17387.6974, Val Loss: 16923.0763\n",
      "Epoch 422: Train Loss: 17398.6821, Val Loss: 16923.0763\n",
      "Epoch 423: Train Loss: 17398.9491, Val Loss: 16923.0763\n",
      "Epoch 424: Train Loss: 17389.8158, Val Loss: 16923.0763\n",
      "Epoch 425: Train Loss: 17402.0404, Val Loss: 16923.0763\n",
      "Epoch 426: Train Loss: 17397.9111, Val Loss: 16923.0763\n",
      "Epoch 427: Train Loss: 17392.4977, Val Loss: 16923.0763\n",
      "Epoch 428: Train Loss: 17393.5193, Val Loss: 16923.0763\n",
      "Epoch 429: Train Loss: 17396.2443, Val Loss: 16923.0763\n",
      "Epoch 430: Train Loss: 17378.6350, Val Loss: 16923.0763\n",
      "Epoch 431: Train Loss: 17380.3356, Val Loss: 16923.0763\n",
      "Epoch 432: Train Loss: 17380.8220, Val Loss: 16923.0763\n",
      "Epoch 433: Train Loss: 17388.0193, Val Loss: 16923.0763\n",
      "Epoch 434: Train Loss: 17396.9554, Val Loss: 16923.0763\n",
      "Epoch 435: Train Loss: 17403.6639, Val Loss: 16923.0763\n",
      "Epoch 436: Train Loss: 17381.3795, Val Loss: 16923.0763\n",
      "Epoch 437: Train Loss: 17409.3026, Val Loss: 16923.0763\n",
      "Epoch 438: Train Loss: 17406.8533, Val Loss: 16923.0763\n",
      "Epoch 439: Train Loss: 17389.2187, Val Loss: 16923.0763\n",
      "Epoch 440: Train Loss: 17402.3258, Val Loss: 16923.0763\n",
      "Epoch 441: Train Loss: 17392.8839, Val Loss: 16923.0763\n",
      "Epoch 442: Train Loss: 17385.2736, Val Loss: 16923.0763\n",
      "Epoch 443: Train Loss: 17402.4903, Val Loss: 16923.0763\n",
      "Epoch 444: Train Loss: 17367.1224, Val Loss: 16923.0763\n",
      "Epoch 445: Train Loss: 17410.5258, Val Loss: 16923.0763\n",
      "Epoch 446: Train Loss: 17378.9574, Val Loss: 16923.0763\n",
      "Epoch 447: Train Loss: 17409.3487, Val Loss: 16923.0763\n",
      "Epoch 448: Train Loss: 17371.7192, Val Loss: 16923.0763\n",
      "Epoch 449: Train Loss: 17395.6124, Val Loss: 16923.0763\n",
      "Epoch 450: Train Loss: 17405.0823, Val Loss: 16923.0763\n",
      "Epoch 451: Train Loss: 17385.6966, Val Loss: 16923.0763\n",
      "Epoch 452: Train Loss: 17404.4451, Val Loss: 16923.0763\n",
      "Epoch 453: Train Loss: 17391.4533, Val Loss: 16923.0763\n",
      "Epoch 454: Train Loss: 17395.7556, Val Loss: 16923.0763\n",
      "Epoch 455: Train Loss: 17387.3821, Val Loss: 16923.0763\n",
      "Epoch 456: Train Loss: 17381.9592, Val Loss: 16923.0763\n",
      "Epoch 457: Train Loss: 17390.8876, Val Loss: 16923.0763\n",
      "Epoch 458: Train Loss: 17390.6276, Val Loss: 16923.0763\n",
      "Epoch 459: Train Loss: 17383.2087, Val Loss: 16923.0763\n",
      "Epoch 460: Train Loss: 17381.9829, Val Loss: 16923.0763\n",
      "Epoch 461: Train Loss: 17388.8940, Val Loss: 16923.0763\n",
      "Epoch 462: Train Loss: 17384.7775, Val Loss: 16923.0763\n",
      "Epoch 463: Train Loss: 17381.2936, Val Loss: 16923.0763\n",
      "Epoch 464: Train Loss: 17400.6169, Val Loss: 16923.0763\n",
      "Epoch 465: Train Loss: 17388.8267, Val Loss: 16923.0763\n",
      "Epoch 466: Train Loss: 17400.7576, Val Loss: 16923.0763\n",
      "Epoch 467: Train Loss: 17375.8605, Val Loss: 16923.0763\n",
      "Epoch 468: Train Loss: 17392.1410, Val Loss: 16923.0763\n",
      "Epoch 469: Train Loss: 17400.4497, Val Loss: 16923.0763\n",
      "Epoch 470: Train Loss: 17393.9433, Val Loss: 16923.0763\n",
      "Epoch 471: Train Loss: 17385.0551, Val Loss: 16923.0763\n",
      "Epoch 472: Train Loss: 17377.1089, Val Loss: 16923.0763\n",
      "Epoch 473: Train Loss: 17385.3067, Val Loss: 16923.0763\n",
      "Epoch 474: Train Loss: 17407.9142, Val Loss: 16923.0763\n",
      "Epoch 475: Train Loss: 17403.0327, Val Loss: 16923.0763\n",
      "Epoch 476: Train Loss: 17387.1880, Val Loss: 16923.0763\n",
      "Epoch 477: Train Loss: 17384.4756, Val Loss: 16923.0763\n",
      "Epoch 478: Train Loss: 17380.0433, Val Loss: 16923.0763\n",
      "Epoch 479: Train Loss: 17399.9132, Val Loss: 16923.0763\n",
      "Epoch 480: Train Loss: 17387.7810, Val Loss: 16923.0763\n",
      "Epoch 481: Train Loss: 17390.7018, Val Loss: 16923.0763\n",
      "Epoch 482: Train Loss: 17387.3379, Val Loss: 16923.0763\n",
      "Epoch 483: Train Loss: 17387.1301, Val Loss: 16923.0763\n",
      "Epoch 484: Train Loss: 17380.3669, Val Loss: 16923.0763\n",
      "Epoch 485: Train Loss: 17385.3697, Val Loss: 16923.0763\n",
      "Epoch 486: Train Loss: 17368.1204, Val Loss: 16923.0763\n",
      "Epoch 487: Train Loss: 17388.1622, Val Loss: 16923.0763\n",
      "Epoch 488: Train Loss: 17377.3481, Val Loss: 16923.0763\n",
      "Epoch 489: Train Loss: 17389.3977, Val Loss: 16923.0763\n",
      "Epoch 490: Train Loss: 17393.7593, Val Loss: 16923.0763\n",
      "Epoch 491: Train Loss: 17374.9575, Val Loss: 16923.0763\n",
      "Epoch 492: Train Loss: 17400.9170, Val Loss: 16923.0763\n",
      "Epoch 493: Train Loss: 17378.7740, Val Loss: 16923.0763\n",
      "Epoch 494: Train Loss: 17399.9058, Val Loss: 16923.0763\n",
      "Epoch 495: Train Loss: 17392.4657, Val Loss: 16923.0763\n",
      "Epoch 496: Train Loss: 17398.0848, Val Loss: 16923.0763\n",
      "Epoch 497: Train Loss: 17390.1346, Val Loss: 16923.0763\n",
      "Epoch 498: Train Loss: 17382.6107, Val Loss: 16923.0763\n",
      "Epoch 499: Train Loss: 17415.6713, Val Loss: 16923.0763\n",
      "Epoch 500: Train Loss: 17388.1268, Val Loss: 16923.0763\n",
      "Epoch 501: Train Loss: 17405.2962, Val Loss: 16923.0763\n",
      "Epoch 502: Train Loss: 17385.7617, Val Loss: 16923.0763\n",
      "Epoch 503: Train Loss: 17382.9580, Val Loss: 16923.0763\n",
      "Epoch 504: Train Loss: 17410.2775, Val Loss: 16923.0763\n",
      "Epoch 505: Train Loss: 17392.3373, Val Loss: 16923.0763\n",
      "Epoch 506: Train Loss: 17398.5772, Val Loss: 16923.0763\n",
      "Epoch 507: Train Loss: 17400.3551, Val Loss: 16923.0763\n",
      "Epoch 508: Train Loss: 17407.4639, Val Loss: 16923.0763\n",
      "Epoch 509: Train Loss: 17375.6221, Val Loss: 16923.0763\n",
      "Epoch 510: Train Loss: 17404.5764, Val Loss: 16923.0763\n",
      "Epoch 511: Train Loss: 17389.1261, Val Loss: 16923.0763\n",
      "Epoch 512: Train Loss: 17397.0027, Val Loss: 16923.0763\n",
      "Epoch 513: Train Loss: 17387.5841, Val Loss: 16923.0763\n",
      "Epoch 514: Train Loss: 17386.5449, Val Loss: 16923.0763\n",
      "Epoch 515: Train Loss: 17401.2911, Val Loss: 16923.0763\n",
      "Epoch 516: Train Loss: 17400.8255, Val Loss: 16923.0763\n",
      "Epoch 517: Train Loss: 17396.0255, Val Loss: 16923.0763\n",
      "Epoch 518: Train Loss: 17378.6905, Val Loss: 16923.0763\n",
      "Epoch 519: Train Loss: 17396.2739, Val Loss: 16923.0763\n",
      "Epoch 520: Train Loss: 17405.7106, Val Loss: 16923.0763\n",
      "Epoch 521: Train Loss: 17402.4103, Val Loss: 16923.0763\n",
      "Epoch 522: Train Loss: 17388.5252, Val Loss: 16923.0763\n",
      "Epoch 523: Train Loss: 17373.1847, Val Loss: 16923.0763\n",
      "Epoch 524: Train Loss: 17399.4778, Val Loss: 16923.0763\n",
      "Epoch 525: Train Loss: 17399.7015, Val Loss: 16923.0763\n",
      "Epoch 526: Train Loss: 17402.8437, Val Loss: 16923.0763\n",
      "Epoch 527: Train Loss: 17382.5298, Val Loss: 16923.0763\n",
      "Epoch 528: Train Loss: 17380.7494, Val Loss: 16923.0763\n",
      "Epoch 529: Train Loss: 17384.4327, Val Loss: 16923.0763\n",
      "Epoch 530: Train Loss: 17378.5128, Val Loss: 16923.0763\n",
      "Epoch 531: Train Loss: 17398.1153, Val Loss: 16923.0763\n",
      "Epoch 532: Train Loss: 17390.7896, Val Loss: 16923.0763\n",
      "Epoch 533: Train Loss: 17417.4773, Val Loss: 16923.0763\n",
      "Epoch 534: Train Loss: 17396.0364, Val Loss: 16923.0763\n",
      "Epoch 535: Train Loss: 17385.5391, Val Loss: 16923.0763\n",
      "Epoch 536: Train Loss: 17386.1201, Val Loss: 16923.0763\n",
      "Epoch 537: Train Loss: 17391.9816, Val Loss: 16923.0763\n",
      "Epoch 538: Train Loss: 17404.8135, Val Loss: 16923.0763\n",
      "Epoch 539: Train Loss: 17379.6729, Val Loss: 16923.0763\n",
      "Epoch 540: Train Loss: 17399.9422, Val Loss: 16923.0763\n",
      "Epoch 541: Train Loss: 17399.7548, Val Loss: 16923.0763\n",
      "Epoch 542: Train Loss: 17380.5416, Val Loss: 16923.0763\n",
      "Epoch 543: Train Loss: 17391.3294, Val Loss: 16923.0763\n",
      "Epoch 544: Train Loss: 17403.3024, Val Loss: 16923.0763\n",
      "Epoch 545: Train Loss: 17400.4824, Val Loss: 16923.0763\n",
      "Epoch 546: Train Loss: 17396.2687, Val Loss: 16923.0763\n",
      "Epoch 547: Train Loss: 17404.1162, Val Loss: 16923.0763\n",
      "Epoch 548: Train Loss: 17398.4496, Val Loss: 16923.0763\n",
      "Epoch 549: Train Loss: 17392.8941, Val Loss: 16923.0763\n",
      "Epoch 550: Train Loss: 17394.0511, Val Loss: 16923.0763\n",
      "Epoch 551: Train Loss: 17397.9781, Val Loss: 16923.0763\n",
      "Epoch 552: Train Loss: 17399.0010, Val Loss: 16923.0763\n",
      "Epoch 553: Train Loss: 17400.8042, Val Loss: 16923.0763\n",
      "Epoch 554: Train Loss: 17392.6714, Val Loss: 16923.0763\n",
      "Epoch 555: Train Loss: 17398.9811, Val Loss: 16923.0763\n",
      "Epoch 556: Train Loss: 17387.8345, Val Loss: 16923.0763\n",
      "Epoch 557: Train Loss: 17389.9826, Val Loss: 16923.0763\n",
      "Epoch 558: Train Loss: 17400.0186, Val Loss: 16923.0763\n",
      "Epoch 559: Train Loss: 17375.2342, Val Loss: 16923.0763\n",
      "Epoch 560: Train Loss: 17398.1875, Val Loss: 16923.0763\n",
      "Epoch 561: Train Loss: 17390.0871, Val Loss: 16923.0763\n",
      "Epoch 562: Train Loss: 17394.6750, Val Loss: 16923.0763\n",
      "Epoch 563: Train Loss: 17371.7137, Val Loss: 16923.0763\n",
      "Epoch 564: Train Loss: 17380.5972, Val Loss: 16923.0763\n",
      "Epoch 565: Train Loss: 17382.8756, Val Loss: 16923.0763\n",
      "Epoch 566: Train Loss: 17409.3460, Val Loss: 16923.0763\n",
      "Epoch 567: Train Loss: 17405.7306, Val Loss: 16923.0763\n",
      "Epoch 568: Train Loss: 17383.8991, Val Loss: 16923.0763\n",
      "Epoch 569: Train Loss: 17381.4807, Val Loss: 16923.0763\n",
      "Epoch 570: Train Loss: 17390.1825, Val Loss: 16923.0763\n",
      "Epoch 571: Train Loss: 17411.9515, Val Loss: 16923.0763\n",
      "Epoch 572: Train Loss: 17396.9460, Val Loss: 16923.0763\n",
      "Epoch 573: Train Loss: 17421.7966, Val Loss: 16923.0763\n",
      "Epoch 574: Train Loss: 17394.9545, Val Loss: 16923.0763\n",
      "Epoch 575: Train Loss: 17398.2693, Val Loss: 16923.0763\n",
      "Epoch 576: Train Loss: 17387.5461, Val Loss: 16923.0763\n",
      "Epoch 577: Train Loss: 17400.5822, Val Loss: 16923.0763\n",
      "Epoch 578: Train Loss: 17394.3927, Val Loss: 16923.0763\n",
      "Epoch 579: Train Loss: 17379.6655, Val Loss: 16923.0763\n",
      "Epoch 580: Train Loss: 17394.1574, Val Loss: 16923.0763\n",
      "Epoch 581: Train Loss: 17385.8813, Val Loss: 16923.0763\n",
      "Epoch 582: Train Loss: 17392.7818, Val Loss: 16923.0763\n",
      "Epoch 583: Train Loss: 17374.7655, Val Loss: 16923.0763\n",
      "Epoch 584: Train Loss: 17383.0242, Val Loss: 16923.0763\n",
      "Epoch 585: Train Loss: 17385.1177, Val Loss: 16923.0763\n",
      "Epoch 586: Train Loss: 17385.1816, Val Loss: 16923.0763\n",
      "Epoch 587: Train Loss: 17387.2072, Val Loss: 16923.0763\n",
      "Epoch 588: Train Loss: 17399.7089, Val Loss: 16923.0763\n",
      "Epoch 589: Train Loss: 17386.1786, Val Loss: 16923.0763\n",
      "Epoch 590: Train Loss: 17403.2226, Val Loss: 16923.0763\n",
      "Epoch 591: Train Loss: 17386.6623, Val Loss: 16923.0763\n",
      "Epoch 592: Train Loss: 17392.4320, Val Loss: 16923.0763\n",
      "Epoch 593: Train Loss: 17391.6603, Val Loss: 16923.0763\n",
      "Epoch 594: Train Loss: 17384.5817, Val Loss: 16923.0763\n",
      "Epoch 595: Train Loss: 17403.0007, Val Loss: 16923.0763\n",
      "Epoch 596: Train Loss: 17393.8323, Val Loss: 16923.0763\n",
      "Epoch 597: Train Loss: 17408.0326, Val Loss: 16923.0763\n",
      "Epoch 598: Train Loss: 17382.6939, Val Loss: 16923.0763\n",
      "Epoch 599: Train Loss: 17383.7843, Val Loss: 16923.0763\n",
      "Epoch 600: Train Loss: 17398.3942, Val Loss: 16923.0763\n",
      "Epoch 601: Train Loss: 17377.6305, Val Loss: 16923.0763\n",
      "Epoch 602: Train Loss: 17379.3808, Val Loss: 16923.0763\n",
      "Epoch 603: Train Loss: 17370.4630, Val Loss: 16923.0763\n",
      "Epoch 604: Train Loss: 17378.0471, Val Loss: 16923.0763\n",
      "Epoch 605: Train Loss: 17386.5478, Val Loss: 16923.0763\n",
      "Epoch 606: Train Loss: 17377.6925, Val Loss: 16923.0763\n",
      "Epoch 607: Train Loss: 17385.5733, Val Loss: 16923.0763\n",
      "Epoch 608: Train Loss: 17381.1047, Val Loss: 16923.0763\n",
      "Epoch 609: Train Loss: 17408.5861, Val Loss: 16923.0763\n",
      "Epoch 610: Train Loss: 17409.1503, Val Loss: 16923.0763\n",
      "Epoch 611: Train Loss: 17395.0628, Val Loss: 16923.0763\n",
      "Epoch 612: Train Loss: 17404.9690, Val Loss: 16923.0763\n",
      "Epoch 613: Train Loss: 17381.8307, Val Loss: 16923.0763\n",
      "Epoch 614: Train Loss: 17388.7848, Val Loss: 16923.0763\n",
      "Epoch 615: Train Loss: 17369.4159, Val Loss: 16923.0763\n",
      "Epoch 616: Train Loss: 17378.5907, Val Loss: 16923.0763\n",
      "Epoch 617: Train Loss: 17373.2655, Val Loss: 16923.0763\n",
      "Epoch 618: Train Loss: 17389.5764, Val Loss: 16923.0763\n",
      "Epoch 619: Train Loss: 17403.9552, Val Loss: 16923.0763\n",
      "Epoch 620: Train Loss: 17390.0252, Val Loss: 16923.0763\n",
      "Epoch 621: Train Loss: 17393.8087, Val Loss: 16923.0763\n",
      "Epoch 622: Train Loss: 17385.8577, Val Loss: 16923.0763\n",
      "Epoch 623: Train Loss: 17380.8713, Val Loss: 16923.0763\n",
      "Epoch 624: Train Loss: 17384.6550, Val Loss: 16923.0763\n",
      "Epoch 625: Train Loss: 17405.1397, Val Loss: 16923.0763\n",
      "Epoch 626: Train Loss: 17372.8676, Val Loss: 16923.0763\n",
      "Epoch 627: Train Loss: 17398.2508, Val Loss: 16923.0763\n",
      "Epoch 628: Train Loss: 17387.1050, Val Loss: 16923.0763\n",
      "Epoch 629: Train Loss: 17386.4352, Val Loss: 16923.0763\n",
      "Epoch 630: Train Loss: 17403.5710, Val Loss: 16923.0763\n",
      "Epoch 631: Train Loss: 17388.2044, Val Loss: 16923.0763\n",
      "Epoch 632: Train Loss: 17386.6151, Val Loss: 16923.0763\n",
      "Epoch 633: Train Loss: 17392.5095, Val Loss: 16923.0763\n",
      "Epoch 634: Train Loss: 17389.3359, Val Loss: 16923.0763\n",
      "Epoch 635: Train Loss: 17381.9547, Val Loss: 16923.0763\n",
      "Epoch 636: Train Loss: 17373.6760, Val Loss: 16923.0763\n",
      "Epoch 637: Train Loss: 17397.0191, Val Loss: 16923.0763\n",
      "Epoch 638: Train Loss: 17407.6323, Val Loss: 16923.0763\n",
      "Epoch 639: Train Loss: 17393.1676, Val Loss: 16923.0763\n",
      "Epoch 640: Train Loss: 17395.5648, Val Loss: 16923.0763\n",
      "Epoch 641: Train Loss: 17411.4744, Val Loss: 16923.0763\n",
      "Epoch 642: Train Loss: 17403.3815, Val Loss: 16923.0763\n",
      "Epoch 643: Train Loss: 17373.6584, Val Loss: 16923.0763\n",
      "Epoch 644: Train Loss: 17377.6969, Val Loss: 16923.0763\n",
      "Epoch 645: Train Loss: 17406.8116, Val Loss: 16923.0763\n",
      "Epoch 646: Train Loss: 17406.5648, Val Loss: 16923.0763\n",
      "Epoch 647: Train Loss: 17361.7954, Val Loss: 16923.0763\n",
      "Epoch 648: Train Loss: 17406.1024, Val Loss: 16923.0763\n",
      "Epoch 649: Train Loss: 17374.8824, Val Loss: 16923.0763\n",
      "Epoch 650: Train Loss: 17387.2625, Val Loss: 16923.0763\n",
      "Epoch 651: Train Loss: 17397.5091, Val Loss: 16923.0763\n",
      "Epoch 652: Train Loss: 17392.0159, Val Loss: 16923.0763\n",
      "Epoch 653: Train Loss: 17406.8396, Val Loss: 16923.0763\n",
      "Epoch 654: Train Loss: 17390.7435, Val Loss: 16923.0763\n",
      "Epoch 655: Train Loss: 17388.1069, Val Loss: 16923.0763\n",
      "Epoch 656: Train Loss: 17388.9790, Val Loss: 16923.0763\n",
      "Epoch 657: Train Loss: 17383.3965, Val Loss: 16923.0763\n",
      "Epoch 658: Train Loss: 17401.1753, Val Loss: 16923.0763\n",
      "Epoch 659: Train Loss: 17426.8182, Val Loss: 16923.0763\n",
      "Epoch 660: Train Loss: 17407.6509, Val Loss: 16923.0763\n",
      "Epoch 661: Train Loss: 17403.1811, Val Loss: 16923.0763\n",
      "Epoch 662: Train Loss: 17385.4024, Val Loss: 16923.0763\n",
      "Epoch 663: Train Loss: 17383.4948, Val Loss: 16923.0763\n",
      "Epoch 664: Train Loss: 17399.2650, Val Loss: 16923.0763\n",
      "Epoch 665: Train Loss: 17374.2470, Val Loss: 16923.0763\n",
      "Epoch 666: Train Loss: 17380.4142, Val Loss: 16923.0763\n",
      "Epoch 667: Train Loss: 17388.9698, Val Loss: 16923.0763\n",
      "Epoch 668: Train Loss: 17398.2516, Val Loss: 16923.0763\n",
      "Epoch 669: Train Loss: 17381.7056, Val Loss: 16923.0763\n",
      "Epoch 670: Train Loss: 17386.8224, Val Loss: 16923.0763\n",
      "Epoch 671: Train Loss: 17389.6697, Val Loss: 16923.0763\n",
      "Epoch 672: Train Loss: 17402.0826, Val Loss: 16923.0763\n",
      "Epoch 673: Train Loss: 17396.9339, Val Loss: 16923.0763\n",
      "Epoch 674: Train Loss: 17396.6790, Val Loss: 16923.0763\n",
      "Epoch 675: Train Loss: 17383.6749, Val Loss: 16923.0763\n",
      "Epoch 676: Train Loss: 17395.5235, Val Loss: 16923.0763\n",
      "Epoch 677: Train Loss: 17380.6391, Val Loss: 16923.0763\n",
      "Epoch 678: Train Loss: 17391.1715, Val Loss: 16923.0763\n",
      "Epoch 679: Train Loss: 17365.6268, Val Loss: 16923.0763\n",
      "Epoch 680: Train Loss: 17387.0448, Val Loss: 16923.0763\n",
      "Epoch 681: Train Loss: 17396.9302, Val Loss: 16923.0763\n",
      "Epoch 682: Train Loss: 17373.2475, Val Loss: 16923.0763\n",
      "Epoch 683: Train Loss: 17405.9215, Val Loss: 16923.0763\n",
      "Epoch 684: Train Loss: 17394.4862, Val Loss: 16923.0763\n",
      "Epoch 685: Train Loss: 17392.9995, Val Loss: 16923.0763\n",
      "Epoch 686: Train Loss: 17386.7018, Val Loss: 16923.0763\n",
      "Epoch 687: Train Loss: 17391.2912, Val Loss: 16923.0763\n",
      "Epoch 688: Train Loss: 17408.9644, Val Loss: 16923.0763\n",
      "Epoch 689: Train Loss: 17373.8203, Val Loss: 16923.0763\n",
      "Epoch 690: Train Loss: 17383.8690, Val Loss: 16923.0763\n",
      "Epoch 691: Train Loss: 17404.8864, Val Loss: 16923.0763\n",
      "Epoch 692: Train Loss: 17397.1377, Val Loss: 16923.0763\n",
      "Epoch 693: Train Loss: 17374.0875, Val Loss: 16923.0763\n",
      "Epoch 694: Train Loss: 17382.9971, Val Loss: 16923.0763\n",
      "Epoch 695: Train Loss: 17400.0214, Val Loss: 16923.0763\n",
      "Epoch 696: Train Loss: 17375.0911, Val Loss: 16923.0763\n",
      "Epoch 697: Train Loss: 17401.3453, Val Loss: 16923.0763\n",
      "Epoch 698: Train Loss: 17397.5953, Val Loss: 16923.0763\n",
      "Epoch 699: Train Loss: 17414.4192, Val Loss: 16923.0763\n",
      "Epoch 700: Train Loss: 17386.7360, Val Loss: 16923.0763\n",
      "Epoch 701: Train Loss: 17391.7720, Val Loss: 16923.0763\n",
      "Epoch 702: Train Loss: 17415.5722, Val Loss: 16923.0763\n",
      "Epoch 703: Train Loss: 17393.8996, Val Loss: 16923.0763\n",
      "Epoch 704: Train Loss: 17399.5365, Val Loss: 16923.0763\n",
      "Epoch 705: Train Loss: 17389.2585, Val Loss: 16923.0763\n",
      "Epoch 706: Train Loss: 17407.4690, Val Loss: 16923.0763\n",
      "Epoch 707: Train Loss: 17393.1294, Val Loss: 16923.0763\n",
      "Epoch 708: Train Loss: 17382.4269, Val Loss: 16923.0763\n",
      "Epoch 709: Train Loss: 17401.1754, Val Loss: 16923.0763\n",
      "Epoch 710: Train Loss: 17406.8948, Val Loss: 16923.0763\n",
      "Epoch 711: Train Loss: 17407.8697, Val Loss: 16923.0763\n",
      "Epoch 712: Train Loss: 17383.3715, Val Loss: 16923.0763\n",
      "Epoch 713: Train Loss: 17382.3889, Val Loss: 16923.0763\n",
      "Epoch 714: Train Loss: 17381.1674, Val Loss: 16923.0763\n",
      "Epoch 715: Train Loss: 17384.1514, Val Loss: 16923.0763\n",
      "Epoch 716: Train Loss: 17369.8093, Val Loss: 16923.0763\n",
      "Epoch 717: Train Loss: 17391.0121, Val Loss: 16923.0763\n",
      "Epoch 718: Train Loss: 17398.7556, Val Loss: 16923.0763\n",
      "Epoch 719: Train Loss: 17391.1570, Val Loss: 16923.0763\n",
      "Epoch 720: Train Loss: 17379.9088, Val Loss: 16923.0763\n",
      "Epoch 721: Train Loss: 17385.3225, Val Loss: 16923.0763\n",
      "Epoch 722: Train Loss: 17392.7409, Val Loss: 16923.0763\n",
      "Epoch 723: Train Loss: 17385.7219, Val Loss: 16923.0763\n",
      "Epoch 724: Train Loss: 17384.3199, Val Loss: 16923.0763\n",
      "Epoch 725: Train Loss: 17387.7997, Val Loss: 16923.0763\n",
      "Epoch 726: Train Loss: 17398.9533, Val Loss: 16923.0763\n",
      "Epoch 727: Train Loss: 17393.6399, Val Loss: 16923.0763\n",
      "Epoch 728: Train Loss: 17393.7241, Val Loss: 16923.0763\n",
      "Epoch 729: Train Loss: 17403.4987, Val Loss: 16923.0763\n",
      "Epoch 730: Train Loss: 17389.4401, Val Loss: 16923.0763\n",
      "Epoch 731: Train Loss: 17413.3442, Val Loss: 16923.0763\n",
      "Epoch 732: Train Loss: 17395.6745, Val Loss: 16923.0763\n",
      "Epoch 733: Train Loss: 17392.0879, Val Loss: 16923.0763\n",
      "Epoch 734: Train Loss: 17384.0385, Val Loss: 16923.0763\n",
      "Epoch 735: Train Loss: 17386.7025, Val Loss: 16923.0763\n",
      "Epoch 736: Train Loss: 17411.0702, Val Loss: 16923.0763\n",
      "Epoch 737: Train Loss: 17398.6437, Val Loss: 16923.0763\n",
      "Epoch 738: Train Loss: 17390.9889, Val Loss: 16923.0763\n",
      "Epoch 739: Train Loss: 17398.3272, Val Loss: 16923.0763\n",
      "Epoch 740: Train Loss: 17407.4071, Val Loss: 16923.0763\n",
      "Epoch 741: Train Loss: 17394.4460, Val Loss: 16923.0763\n",
      "Epoch 742: Train Loss: 17386.6116, Val Loss: 16923.0763\n",
      "Epoch 743: Train Loss: 17405.1628, Val Loss: 16923.0763\n",
      "Epoch 744: Train Loss: 17391.9995, Val Loss: 16923.0763\n",
      "Epoch 745: Train Loss: 17384.9180, Val Loss: 16923.0763\n",
      "Epoch 746: Train Loss: 17398.1100, Val Loss: 16923.0763\n",
      "Epoch 747: Train Loss: 17412.1119, Val Loss: 16923.0763\n",
      "Epoch 748: Train Loss: 17404.1283, Val Loss: 16923.0763\n",
      "Epoch 749: Train Loss: 17387.1283, Val Loss: 16923.0763\n",
      "Epoch 750: Train Loss: 17373.7519, Val Loss: 16923.0763\n",
      "Epoch 751: Train Loss: 17401.2983, Val Loss: 16923.0763\n",
      "Epoch 752: Train Loss: 17386.9280, Val Loss: 16923.0763\n",
      "Epoch 753: Train Loss: 17370.8577, Val Loss: 16923.0763\n",
      "Epoch 754: Train Loss: 17414.9404, Val Loss: 16923.0763\n",
      "Epoch 755: Train Loss: 17381.8498, Val Loss: 16923.0763\n",
      "Epoch 756: Train Loss: 17391.7597, Val Loss: 16923.0763\n",
      "Epoch 757: Train Loss: 17399.7369, Val Loss: 16923.0763\n",
      "Epoch 758: Train Loss: 17395.0516, Val Loss: 16923.0763\n",
      "Epoch 759: Train Loss: 17379.9496, Val Loss: 16923.0763\n",
      "Epoch 760: Train Loss: 17405.8153, Val Loss: 16923.0763\n",
      "Epoch 761: Train Loss: 17396.1024, Val Loss: 16923.0763\n",
      "Epoch 762: Train Loss: 17394.8281, Val Loss: 16923.0763\n",
      "Epoch 763: Train Loss: 17400.1407, Val Loss: 16923.0763\n",
      "Epoch 764: Train Loss: 17392.6690, Val Loss: 16923.0763\n",
      "Epoch 765: Train Loss: 17401.3546, Val Loss: 16923.0763\n",
      "Epoch 766: Train Loss: 17388.3307, Val Loss: 16923.0763\n",
      "Epoch 767: Train Loss: 17392.3394, Val Loss: 16923.0763\n",
      "Epoch 768: Train Loss: 17373.9846, Val Loss: 16923.0763\n",
      "Epoch 769: Train Loss: 17400.7717, Val Loss: 16923.0763\n",
      "Epoch 770: Train Loss: 17397.1781, Val Loss: 16923.0763\n",
      "Epoch 771: Train Loss: 17385.2955, Val Loss: 16923.0763\n",
      "Epoch 772: Train Loss: 17392.2874, Val Loss: 16923.0763\n",
      "Epoch 773: Train Loss: 17392.9578, Val Loss: 16923.0763\n",
      "Epoch 774: Train Loss: 17414.1758, Val Loss: 16923.0763\n",
      "Epoch 775: Train Loss: 17400.7331, Val Loss: 16923.0763\n",
      "Epoch 776: Train Loss: 17423.4908, Val Loss: 16923.0763\n",
      "Epoch 777: Train Loss: 17400.8843, Val Loss: 16923.0763\n",
      "Epoch 778: Train Loss: 17395.8984, Val Loss: 16923.0763\n",
      "Epoch 779: Train Loss: 17392.9969, Val Loss: 16923.0763\n",
      "Epoch 780: Train Loss: 17386.7877, Val Loss: 16923.0763\n",
      "Epoch 781: Train Loss: 17387.9692, Val Loss: 16923.0763\n",
      "Epoch 782: Train Loss: 17404.4830, Val Loss: 16923.0763\n",
      "Epoch 783: Train Loss: 17383.6711, Val Loss: 16923.0763\n",
      "Epoch 784: Train Loss: 17390.6277, Val Loss: 16923.0763\n",
      "Epoch 785: Train Loss: 17394.0893, Val Loss: 16923.0763\n",
      "Epoch 786: Train Loss: 17372.1105, Val Loss: 16923.0763\n",
      "Epoch 787: Train Loss: 17395.4087, Val Loss: 16923.0763\n",
      "Epoch 788: Train Loss: 17410.2167, Val Loss: 16923.0763\n",
      "Epoch 789: Train Loss: 17385.6146, Val Loss: 16923.0763\n",
      "Epoch 790: Train Loss: 17395.3347, Val Loss: 16923.0763\n",
      "Epoch 791: Train Loss: 17390.4819, Val Loss: 16923.0763\n",
      "Epoch 792: Train Loss: 17411.6474, Val Loss: 16923.0763\n",
      "Epoch 793: Train Loss: 17392.8328, Val Loss: 16923.0763\n",
      "Epoch 794: Train Loss: 17412.9229, Val Loss: 16923.0763\n",
      "Epoch 795: Train Loss: 17393.4351, Val Loss: 16923.0763\n",
      "Epoch 796: Train Loss: 17397.4269, Val Loss: 16923.0763\n",
      "Epoch 797: Train Loss: 17384.7011, Val Loss: 16923.0763\n",
      "Epoch 798: Train Loss: 17392.6124, Val Loss: 16923.0763\n",
      "Epoch 799: Train Loss: 17394.3713, Val Loss: 16923.0763\n",
      "Epoch 800: Train Loss: 17391.7982, Val Loss: 16923.0763\n",
      "Epoch 801: Train Loss: 17391.1645, Val Loss: 16923.0763\n",
      "Epoch 802: Train Loss: 17402.0388, Val Loss: 16923.0763\n",
      "Epoch 803: Train Loss: 17400.0368, Val Loss: 16923.0763\n",
      "Epoch 804: Train Loss: 17406.0407, Val Loss: 16923.0763\n",
      "Epoch 805: Train Loss: 17420.5915, Val Loss: 16923.0763\n",
      "Epoch 806: Train Loss: 17395.5438, Val Loss: 16923.0763\n",
      "Epoch 807: Train Loss: 17403.1840, Val Loss: 16923.0763\n",
      "Epoch 808: Train Loss: 17395.4401, Val Loss: 16923.0763\n",
      "Epoch 809: Train Loss: 17375.8913, Val Loss: 16923.0763\n",
      "Epoch 810: Train Loss: 17396.7146, Val Loss: 16923.0763\n",
      "Epoch 811: Train Loss: 17384.7322, Val Loss: 16923.0763\n",
      "Epoch 812: Train Loss: 17388.5429, Val Loss: 16923.0763\n",
      "Epoch 813: Train Loss: 17399.9779, Val Loss: 16923.0763\n",
      "Epoch 814: Train Loss: 17396.4790, Val Loss: 16923.0763\n",
      "Epoch 815: Train Loss: 17392.2923, Val Loss: 16923.0763\n",
      "Epoch 816: Train Loss: 17390.6704, Val Loss: 16923.0763\n",
      "Epoch 817: Train Loss: 17419.6425, Val Loss: 16923.0763\n",
      "Epoch 818: Train Loss: 17406.9242, Val Loss: 16923.0763\n",
      "Epoch 819: Train Loss: 17389.6553, Val Loss: 16923.0763\n",
      "Epoch 820: Train Loss: 17401.7144, Val Loss: 16923.0763\n",
      "Epoch 821: Train Loss: 17398.4368, Val Loss: 16923.0763\n",
      "Epoch 822: Train Loss: 17391.7023, Val Loss: 16923.0763\n",
      "Epoch 823: Train Loss: 17399.5815, Val Loss: 16923.0763\n",
      "Epoch 824: Train Loss: 17387.5769, Val Loss: 16923.0763\n",
      "Epoch 825: Train Loss: 17402.6223, Val Loss: 16923.0763\n",
      "Epoch 826: Train Loss: 17398.9446, Val Loss: 16923.0763\n",
      "Epoch 827: Train Loss: 17371.8764, Val Loss: 16923.0763\n",
      "Epoch 828: Train Loss: 17392.6957, Val Loss: 16923.0763\n",
      "Epoch 829: Train Loss: 17375.1882, Val Loss: 16923.0763\n",
      "Epoch 830: Train Loss: 17382.4606, Val Loss: 16923.0763\n",
      "Epoch 831: Train Loss: 17381.6587, Val Loss: 16923.0763\n",
      "Epoch 832: Train Loss: 17385.4259, Val Loss: 16923.0763\n",
      "Epoch 833: Train Loss: 17420.6427, Val Loss: 16923.0763\n",
      "Epoch 834: Train Loss: 17389.1089, Val Loss: 16923.0763\n",
      "Epoch 835: Train Loss: 17409.3292, Val Loss: 16923.0763\n",
      "Epoch 836: Train Loss: 17389.6148, Val Loss: 16923.0763\n",
      "Epoch 837: Train Loss: 17403.5451, Val Loss: 16923.0763\n",
      "Epoch 838: Train Loss: 17380.9306, Val Loss: 16923.0763\n",
      "Epoch 839: Train Loss: 17389.8707, Val Loss: 16923.0763\n",
      "Epoch 840: Train Loss: 17414.1878, Val Loss: 16923.0763\n",
      "Epoch 841: Train Loss: 17399.2054, Val Loss: 16923.0763\n",
      "Epoch 842: Train Loss: 17407.1282, Val Loss: 16923.0763\n",
      "Epoch 843: Train Loss: 17385.0513, Val Loss: 16923.0763\n",
      "Epoch 844: Train Loss: 17390.7412, Val Loss: 16923.0763\n",
      "Epoch 845: Train Loss: 17390.6654, Val Loss: 16923.0763\n",
      "Epoch 846: Train Loss: 17399.1746, Val Loss: 16923.0763\n",
      "Epoch 847: Train Loss: 17404.0013, Val Loss: 16923.0763\n",
      "Epoch 848: Train Loss: 17400.6998, Val Loss: 16923.0763\n",
      "Epoch 849: Train Loss: 17373.9738, Val Loss: 16923.0763\n",
      "Epoch 850: Train Loss: 17384.2159, Val Loss: 16923.0763\n",
      "Epoch 851: Train Loss: 17389.5206, Val Loss: 16923.0763\n",
      "Epoch 852: Train Loss: 17391.9916, Val Loss: 16923.0763\n",
      "Epoch 853: Train Loss: 17389.3397, Val Loss: 16923.0763\n",
      "Epoch 854: Train Loss: 17405.4441, Val Loss: 16923.0763\n",
      "Epoch 855: Train Loss: 17391.2871, Val Loss: 16923.0763\n",
      "Epoch 856: Train Loss: 17377.8537, Val Loss: 16923.0763\n",
      "Epoch 857: Train Loss: 17398.0528, Val Loss: 16923.0763\n",
      "Epoch 858: Train Loss: 17381.6410, Val Loss: 16923.0763\n",
      "Epoch 859: Train Loss: 17399.9315, Val Loss: 16923.0763\n",
      "Epoch 860: Train Loss: 17386.2649, Val Loss: 16923.0763\n",
      "Epoch 861: Train Loss: 17390.4257, Val Loss: 16923.0763\n",
      "Epoch 862: Train Loss: 17400.5498, Val Loss: 16923.0763\n",
      "Epoch 863: Train Loss: 17398.9211, Val Loss: 16923.0763\n",
      "Epoch 864: Train Loss: 17385.9001, Val Loss: 16923.0763\n",
      "Epoch 865: Train Loss: 17395.5568, Val Loss: 16923.0763\n",
      "Epoch 866: Train Loss: 17404.9783, Val Loss: 16923.0763\n",
      "Epoch 867: Train Loss: 17402.4616, Val Loss: 16923.0763\n",
      "Epoch 868: Train Loss: 17370.9447, Val Loss: 16923.0763\n",
      "Epoch 869: Train Loss: 17390.3887, Val Loss: 16923.0763\n",
      "Epoch 870: Train Loss: 17391.2363, Val Loss: 16923.0763\n",
      "Epoch 871: Train Loss: 17376.3487, Val Loss: 16923.0763\n",
      "Epoch 872: Train Loss: 17392.4352, Val Loss: 16923.0763\n",
      "Epoch 873: Train Loss: 17382.5548, Val Loss: 16923.0763\n",
      "Epoch 874: Train Loss: 17391.8555, Val Loss: 16923.0763\n",
      "Epoch 875: Train Loss: 17409.7324, Val Loss: 16923.0763\n",
      "Epoch 876: Train Loss: 17393.7358, Val Loss: 16923.0763\n",
      "Epoch 877: Train Loss: 17392.3696, Val Loss: 16923.0763\n",
      "Epoch 878: Train Loss: 17370.0473, Val Loss: 16923.0763\n",
      "Epoch 879: Train Loss: 17400.3152, Val Loss: 16923.0763\n",
      "Epoch 880: Train Loss: 17402.5605, Val Loss: 16923.0763\n",
      "Epoch 881: Train Loss: 17359.3176, Val Loss: 16923.0763\n",
      "Epoch 882: Train Loss: 17392.1519, Val Loss: 16923.0763\n",
      "Epoch 883: Train Loss: 17400.7851, Val Loss: 16923.0763\n",
      "Epoch 884: Train Loss: 17409.9250, Val Loss: 16923.0763\n",
      "Epoch 885: Train Loss: 17382.3054, Val Loss: 16923.0763\n",
      "Epoch 886: Train Loss: 17372.5569, Val Loss: 16923.0763\n",
      "Epoch 887: Train Loss: 17397.6999, Val Loss: 16923.0763\n",
      "Epoch 888: Train Loss: 17403.1566, Val Loss: 16923.0763\n",
      "Epoch 889: Train Loss: 17378.6024, Val Loss: 16923.0763\n",
      "Epoch 890: Train Loss: 17386.5401, Val Loss: 16923.0763\n",
      "Epoch 891: Train Loss: 17403.7270, Val Loss: 16923.0763\n",
      "Epoch 892: Train Loss: 17403.3409, Val Loss: 16923.0763\n",
      "Epoch 893: Train Loss: 17402.2569, Val Loss: 16923.0763\n",
      "Epoch 894: Train Loss: 17384.3170, Val Loss: 16923.0763\n",
      "Epoch 895: Train Loss: 17384.7196, Val Loss: 16923.0763\n",
      "Epoch 896: Train Loss: 17396.3895, Val Loss: 16923.0763\n",
      "Epoch 897: Train Loss: 17394.4808, Val Loss: 16923.0763\n",
      "Epoch 898: Train Loss: 17393.9499, Val Loss: 16923.0763\n",
      "Epoch 899: Train Loss: 17384.8161, Val Loss: 16923.0763\n",
      "Epoch 900: Train Loss: 17381.5727, Val Loss: 16923.0763\n",
      "Epoch 901: Train Loss: 17386.7662, Val Loss: 16923.0763\n",
      "Epoch 902: Train Loss: 17396.9945, Val Loss: 16923.0763\n",
      "Epoch 903: Train Loss: 17397.1151, Val Loss: 16923.0763\n",
      "Epoch 904: Train Loss: 17393.3753, Val Loss: 16923.0763\n",
      "Epoch 905: Train Loss: 17403.0991, Val Loss: 16923.0763\n",
      "Epoch 906: Train Loss: 17373.5404, Val Loss: 16923.0763\n",
      "Epoch 907: Train Loss: 17392.4476, Val Loss: 16923.0763\n",
      "Epoch 908: Train Loss: 17397.9042, Val Loss: 16923.0763\n",
      "Epoch 909: Train Loss: 17401.8168, Val Loss: 16923.0763\n",
      "Epoch 910: Train Loss: 17381.1024, Val Loss: 16923.0763\n",
      "Epoch 911: Train Loss: 17396.2572, Val Loss: 16923.0763\n",
      "Epoch 912: Train Loss: 17398.6894, Val Loss: 16923.0763\n",
      "Epoch 913: Train Loss: 17388.1130, Val Loss: 16923.0763\n",
      "Epoch 914: Train Loss: 17393.1623, Val Loss: 16923.0763\n",
      "Epoch 915: Train Loss: 17397.4482, Val Loss: 16923.0763\n",
      "Epoch 916: Train Loss: 17389.0591, Val Loss: 16923.0763\n",
      "Epoch 917: Train Loss: 17390.5546, Val Loss: 16923.0763\n",
      "Epoch 918: Train Loss: 17397.6762, Val Loss: 16923.0763\n",
      "Epoch 919: Train Loss: 17382.6494, Val Loss: 16923.0763\n",
      "Epoch 920: Train Loss: 17402.0007, Val Loss: 16923.0763\n",
      "Epoch 921: Train Loss: 17384.0497, Val Loss: 16923.0763\n",
      "Epoch 922: Train Loss: 17388.1587, Val Loss: 16923.0763\n",
      "Epoch 923: Train Loss: 17377.5427, Val Loss: 16923.0763\n",
      "Epoch 924: Train Loss: 17396.1802, Val Loss: 16923.0763\n",
      "Epoch 925: Train Loss: 17403.6208, Val Loss: 16923.0763\n",
      "Epoch 926: Train Loss: 17393.6242, Val Loss: 16923.0763\n",
      "Epoch 927: Train Loss: 17374.0437, Val Loss: 16923.0763\n",
      "Epoch 928: Train Loss: 17396.4531, Val Loss: 16923.0763\n",
      "Epoch 929: Train Loss: 17387.9479, Val Loss: 16923.0763\n",
      "Epoch 930: Train Loss: 17404.9748, Val Loss: 16923.0763\n",
      "Epoch 931: Train Loss: 17388.0987, Val Loss: 16923.0763\n",
      "Epoch 932: Train Loss: 17398.6551, Val Loss: 16923.0763\n",
      "Epoch 933: Train Loss: 17386.4438, Val Loss: 16923.0763\n",
      "Epoch 934: Train Loss: 17399.8176, Val Loss: 16923.0763\n",
      "Epoch 935: Train Loss: 17389.0008, Val Loss: 16923.0763\n",
      "Epoch 936: Train Loss: 17409.7841, Val Loss: 16923.0763\n",
      "Epoch 937: Train Loss: 17387.7164, Val Loss: 16923.0763\n",
      "Epoch 938: Train Loss: 17391.2707, Val Loss: 16923.0763\n",
      "Epoch 939: Train Loss: 17390.5481, Val Loss: 16923.0763\n",
      "Epoch 940: Train Loss: 17387.8038, Val Loss: 16923.0763\n",
      "Epoch 941: Train Loss: 17407.7342, Val Loss: 16923.0763\n",
      "Epoch 942: Train Loss: 17399.4047, Val Loss: 16923.0763\n",
      "Epoch 943: Train Loss: 17393.6414, Val Loss: 16923.0763\n",
      "Epoch 944: Train Loss: 17379.9678, Val Loss: 16923.0763\n",
      "Epoch 945: Train Loss: 17403.4569, Val Loss: 16923.0763\n",
      "Epoch 946: Train Loss: 17390.1637, Val Loss: 16923.0763\n",
      "Epoch 947: Train Loss: 17396.0855, Val Loss: 16923.0763\n",
      "Epoch 948: Train Loss: 17391.7504, Val Loss: 16923.0763\n",
      "Epoch 949: Train Loss: 17397.1895, Val Loss: 16923.0763\n",
      "Epoch 950: Train Loss: 17404.0880, Val Loss: 16923.0763\n",
      "Epoch 951: Train Loss: 17388.7074, Val Loss: 16923.0763\n",
      "Epoch 952: Train Loss: 17390.9677, Val Loss: 16923.0763\n",
      "Epoch 953: Train Loss: 17398.4805, Val Loss: 16923.0763\n",
      "Epoch 954: Train Loss: 17375.9325, Val Loss: 16923.0763\n",
      "Epoch 955: Train Loss: 17431.6621, Val Loss: 16923.0763\n",
      "Epoch 956: Train Loss: 17382.3419, Val Loss: 16923.0763\n",
      "Epoch 957: Train Loss: 17394.3471, Val Loss: 16923.0763\n",
      "Epoch 958: Train Loss: 17391.5273, Val Loss: 16923.0763\n",
      "Epoch 959: Train Loss: 17389.9839, Val Loss: 16923.0763\n",
      "Epoch 960: Train Loss: 17377.5920, Val Loss: 16923.0763\n",
      "Epoch 961: Train Loss: 17395.7088, Val Loss: 16923.0763\n",
      "Epoch 962: Train Loss: 17411.7355, Val Loss: 16923.0763\n",
      "Epoch 963: Train Loss: 17373.7644, Val Loss: 16923.0763\n",
      "Epoch 964: Train Loss: 17397.8802, Val Loss: 16923.0763\n",
      "Epoch 965: Train Loss: 17398.0268, Val Loss: 16923.0763\n",
      "Epoch 966: Train Loss: 17411.3197, Val Loss: 16923.0763\n",
      "Epoch 967: Train Loss: 17381.6729, Val Loss: 16923.0763\n",
      "Epoch 968: Train Loss: 17387.1108, Val Loss: 16923.0763\n",
      "Epoch 969: Train Loss: 17395.2093, Val Loss: 16923.0763\n",
      "Epoch 970: Train Loss: 17399.0511, Val Loss: 16923.0763\n",
      "Epoch 971: Train Loss: 17395.8353, Val Loss: 16923.0763\n",
      "Epoch 972: Train Loss: 17406.8770, Val Loss: 16923.0763\n",
      "Epoch 973: Train Loss: 17401.8765, Val Loss: 16923.0763\n",
      "Epoch 974: Train Loss: 17397.1950, Val Loss: 16923.0763\n",
      "Epoch 975: Train Loss: 17408.0448, Val Loss: 16923.0763\n",
      "Epoch 976: Train Loss: 17386.2516, Val Loss: 16923.0763\n",
      "Epoch 977: Train Loss: 17377.6338, Val Loss: 16923.0763\n",
      "Epoch 978: Train Loss: 17386.6763, Val Loss: 16923.0763\n",
      "Epoch 979: Train Loss: 17366.5990, Val Loss: 16923.0763\n",
      "Epoch 980: Train Loss: 17394.6112, Val Loss: 16923.0763\n",
      "Epoch 981: Train Loss: 17390.6790, Val Loss: 16923.0763\n",
      "Epoch 982: Train Loss: 17372.5731, Val Loss: 16923.0763\n",
      "Epoch 983: Train Loss: 17378.6470, Val Loss: 16923.0763\n",
      "Epoch 984: Train Loss: 17394.5664, Val Loss: 16923.0763\n",
      "Epoch 985: Train Loss: 17386.0035, Val Loss: 16923.0763\n",
      "Epoch 986: Train Loss: 17390.2666, Val Loss: 16923.0763\n",
      "Epoch 987: Train Loss: 17385.1944, Val Loss: 16923.0763\n",
      "Epoch 988: Train Loss: 17380.7827, Val Loss: 16923.0763\n",
      "Epoch 989: Train Loss: 17373.6443, Val Loss: 16923.0763\n",
      "Epoch 990: Train Loss: 17387.6897, Val Loss: 16923.0763\n",
      "Epoch 991: Train Loss: 17401.7342, Val Loss: 16923.0763\n",
      "Epoch 992: Train Loss: 17369.7732, Val Loss: 16923.0763\n",
      "Epoch 993: Train Loss: 17386.0614, Val Loss: 16923.0763\n",
      "Epoch 994: Train Loss: 17406.1751, Val Loss: 16923.0763\n",
      "Epoch 995: Train Loss: 17414.9701, Val Loss: 16923.0763\n",
      "Epoch 996: Train Loss: 17395.6123, Val Loss: 16923.0763\n",
      "Epoch 997: Train Loss: 17390.7386, Val Loss: 16923.0763\n",
      "Epoch 998: Train Loss: 17384.0966, Val Loss: 16923.0763\n",
      "Epoch 999: Train Loss: 17392.4823, Val Loss: 16923.0763\n",
      "Epoch 1000: Train Loss: 17395.1680, Val Loss: 16923.0763\n"
     ]
    }
   ],
   "source": [
    "early_stopping = EarlyStopping(patience=10, verbose=True)\n",
    "\n",
    "for epoch in range(1000):  \n",
    "    train_loss = train(model, train_loader, optimizer, criterion)\n",
    "    val_loss = validate(model, val_loader, criterion)\n",
    "    print(f'Epoch {epoch+1}: Train Loss: {train_loss:.4f}, Val Loss: {val_loss:.4f}')\n",
    "\n",
    "    early_stopping(val_loss)\n",
    "    if early_stopping.early_stop:\n",
    "        print(\"Stopping early due to no improvement\")\n",
    "        break"
   ]
  },
  {
   "cell_type": "code",
   "execution_count": 38,
   "id": "d81f008c",
   "metadata": {
    "execution": {
     "iopub.execute_input": "2024-04-20T10:56:20.131571Z",
     "iopub.status.busy": "2024-04-20T10:56:20.130376Z",
     "iopub.status.idle": "2024-04-20T10:56:20.248186Z",
     "shell.execute_reply": "2024-04-20T10:56:20.247089Z"
    },
    "papermill": {
     "duration": 0.204496,
     "end_time": "2024-04-20T10:56:20.251024",
     "exception": false,
     "start_time": "2024-04-20T10:56:20.046528",
     "status": "completed"
    },
    "tags": []
   },
   "outputs": [],
   "source": [
    "model_predictions = predict(mlp_model, test_loader)"
   ]
  },
  {
   "cell_type": "code",
   "execution_count": 39,
   "id": "5a6ba823",
   "metadata": {
    "execution": {
     "iopub.execute_input": "2024-04-20T10:56:20.432812Z",
     "iopub.status.busy": "2024-04-20T10:56:20.432374Z",
     "iopub.status.idle": "2024-04-20T10:56:20.441184Z",
     "shell.execute_reply": "2024-04-20T10:56:20.439498Z"
    },
    "papermill": {
     "duration": 0.101645,
     "end_time": "2024-04-20T10:56:20.444007",
     "exception": false,
     "start_time": "2024-04-20T10:56:20.342362",
     "status": "completed"
    },
    "tags": []
   },
   "outputs": [
    {
     "name": "stdout",
     "output_type": "stream",
     "text": [
      "Sample predictions: [0.01341024 0.02131699 0.06009202 0.04324853 0.0343709  0.04801399\n",
      " 0.02910771 0.05093344 0.03041739 0.03600008]\n"
     ]
    }
   ],
   "source": [
    "predictions_np = model_predictions.numpy()\n",
    "print(\"Sample predictions:\", predictions_np[:10])"
   ]
  },
  {
   "cell_type": "code",
   "execution_count": 40,
   "id": "018cd3df",
   "metadata": {
    "execution": {
     "iopub.execute_input": "2024-04-20T10:56:20.614450Z",
     "iopub.status.busy": "2024-04-20T10:56:20.614050Z",
     "iopub.status.idle": "2024-04-20T10:56:20.730958Z",
     "shell.execute_reply": "2024-04-20T10:56:20.729806Z"
    },
    "papermill": {
     "duration": 0.20432,
     "end_time": "2024-04-20T10:56:20.733365",
     "exception": false,
     "start_time": "2024-04-20T10:56:20.529045",
     "status": "completed"
    },
    "tags": []
   },
   "outputs": [
    {
     "name": "stdout",
     "output_type": "stream",
     "text": [
      "Mean Squared Error: 64709.640625\n",
      "Mean Absolute Error: 228.06268310546875\n"
     ]
    },
    {
     "data": {
      "text/plain": [
       "(tensor(64709.6406), tensor(228.0627))"
      ]
     },
     "execution_count": 40,
     "metadata": {},
     "output_type": "execute_result"
    }
   ],
   "source": [
    "evaluate_model(mlp_model, test_loader)"
   ]
  }
 ],
 "metadata": {
  "kaggle": {
   "accelerator": "none",
   "dataSources": [
    {
     "datasetId": 2894281,
     "sourceId": 4990113,
     "sourceType": "datasetVersion"
    }
   ],
   "dockerImageVersionId": 30684,
   "isGpuEnabled": false,
   "isInternetEnabled": true,
   "language": "python",
   "sourceType": "notebook"
  },
  "kernelspec": {
   "display_name": "Python 3",
   "language": "python",
   "name": "python3"
  },
  "language_info": {
   "codemirror_mode": {
    "name": "ipython",
    "version": 3
   },
   "file_extension": ".py",
   "mimetype": "text/x-python",
   "name": "python",
   "nbconvert_exporter": "python",
   "pygments_lexer": "ipython3",
   "version": "3.10.13"
  },
  "papermill": {
   "default_parameters": {},
   "duration": 663.080283,
   "end_time": "2024-04-20T10:56:22.345730",
   "environment_variables": {},
   "exception": null,
   "input_path": "__notebook__.ipynb",
   "output_path": "__notebook__.ipynb",
   "parameters": {},
   "start_time": "2024-04-20T10:45:19.265447",
   "version": "2.5.0"
  }
 },
 "nbformat": 4,
 "nbformat_minor": 5
}
