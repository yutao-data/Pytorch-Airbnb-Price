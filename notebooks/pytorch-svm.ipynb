{
 "cells": [
  {
   "cell_type": "code",
   "execution_count": 1,
   "id": "f870066b",
   "metadata": {
    "_cell_guid": "b1076dfc-b9ad-4769-8c92-a6c4dae69d19",
    "_uuid": "8f2839f25d086af736a60e9eeb907d3b93b6e0e5",
    "execution": {
     "iopub.execute_input": "2024-04-20T12:20:01.528565Z",
     "iopub.status.busy": "2024-04-20T12:20:01.528162Z",
     "iopub.status.idle": "2024-04-20T12:20:07.684153Z",
     "shell.execute_reply": "2024-04-20T12:20:07.682991Z"
    },
    "papermill": {
     "duration": 6.175572,
     "end_time": "2024-04-20T12:20:07.687131",
     "exception": false,
     "start_time": "2024-04-20T12:20:01.511559",
     "status": "completed"
    },
    "tags": []
   },
   "outputs": [],
   "source": [
    "import numpy as np \n",
    "import pandas as pd\n",
    "from matplotlib import pyplot as plt\n",
    "import math\n",
    "\n",
    "from sklearn.preprocessing import StandardScaler, OneHotEncoder\n",
    "from sklearn.compose import ColumnTransformer\n",
    "from sklearn.pipeline import Pipeline\n",
    "\n",
    "import torch\n",
    "import torch.nn as nn\n",
    "import torch.optim as optim\n",
    "from torch.utils.data import DataLoader, TensorDataset\n",
    "from sklearn.model_selection import train_test_split, KFold"
   ]
  },
  {
   "cell_type": "code",
   "execution_count": 2,
   "id": "f57cf5af",
   "metadata": {
    "execution": {
     "iopub.execute_input": "2024-04-20T12:20:07.718675Z",
     "iopub.status.busy": "2024-04-20T12:20:07.717249Z",
     "iopub.status.idle": "2024-04-20T12:20:08.288625Z",
     "shell.execute_reply": "2024-04-20T12:20:08.287575Z"
    },
    "papermill": {
     "duration": 0.589804,
     "end_time": "2024-04-20T12:20:08.291443",
     "exception": false,
     "start_time": "2024-04-20T12:20:07.701639",
     "status": "completed"
    },
    "tags": []
   },
   "outputs": [],
   "source": [
    "#Amsterdam\n",
    "amsterdam_weekdays = pd.read_csv('/kaggle/input/airbnb-price-determinants-in-europe/amsterdam_weekdays.csv')\n",
    "amsterdam_weekend = pd.read_csv('/kaggle/input/airbnb-price-determinants-in-europe/amsterdam_weekends.csv')\n",
    "\n",
    "#Athens\n",
    "athens_weekdays = pd.read_csv('/kaggle/input/airbnb-price-determinants-in-europe/athens_weekdays.csv')\n",
    "athens_weekend = pd.read_csv('/kaggle/input/airbnb-price-determinants-in-europe/athens_weekends.csv')\n",
    "\n",
    "#Barcelona\n",
    "barcelona_weekdays = pd.read_csv('/kaggle/input/airbnb-price-determinants-in-europe/barcelona_weekdays.csv')\n",
    "barcelona_weekend = pd.read_csv('/kaggle/input/airbnb-price-determinants-in-europe/barcelona_weekends.csv')\n",
    "\n",
    "#Berlin\n",
    "berlin_weekdays = pd.read_csv('/kaggle/input/airbnb-price-determinants-in-europe/berlin_weekdays.csv')\n",
    "berlin_weekend = pd.read_csv('/kaggle/input/airbnb-price-determinants-in-europe/berlin_weekends.csv')\n",
    "\n",
    "#Budapest\n",
    "budapest_weekdays = pd.read_csv('/kaggle/input/airbnb-price-determinants-in-europe/budapest_weekdays.csv')\n",
    "budapest_weekend = pd.read_csv('/kaggle/input/airbnb-price-determinants-in-europe/budapest_weekends.csv')\n",
    "\n",
    "#Lisbon\n",
    "lisbon_weekdays = pd.read_csv('/kaggle/input/airbnb-price-determinants-in-europe/lisbon_weekdays.csv')\n",
    "lisbon_weekend = pd.read_csv('/kaggle/input/airbnb-price-determinants-in-europe/lisbon_weekends.csv')\n",
    "\n",
    "#London\n",
    "london_weekdays = pd.read_csv('/kaggle/input/airbnb-price-determinants-in-europe/london_weekdays.csv')\n",
    "london_weekend = pd.read_csv('/kaggle/input/airbnb-price-determinants-in-europe/london_weekends.csv')\n",
    "\n",
    "#Paris\n",
    "paris_weekdays = pd.read_csv('/kaggle/input/airbnb-price-determinants-in-europe/paris_weekdays.csv')\n",
    "paris_weekend = pd.read_csv('/kaggle/input/airbnb-price-determinants-in-europe/paris_weekends.csv')\n",
    "\n",
    "#Rome\n",
    "rome_weekdays = pd.read_csv('/kaggle/input/airbnb-price-determinants-in-europe/rome_weekdays.csv')\n",
    "rome_weekend = pd.read_csv('/kaggle/input/airbnb-price-determinants-in-europe/rome_weekends.csv')\n",
    "\n",
    "#Vienna\n",
    "vienna_weekdays = pd.read_csv('/kaggle/input/airbnb-price-determinants-in-europe/vienna_weekdays.csv')\n",
    "vienna_weekend = pd.read_csv('/kaggle/input/airbnb-price-determinants-in-europe/vienna_weekends.csv')"
   ]
  },
  {
   "cell_type": "code",
   "execution_count": 3,
   "id": "47e5bf0d",
   "metadata": {
    "execution": {
     "iopub.execute_input": "2024-04-20T12:20:08.321875Z",
     "iopub.status.busy": "2024-04-20T12:20:08.321471Z",
     "iopub.status.idle": "2024-04-20T12:20:08.423217Z",
     "shell.execute_reply": "2024-04-20T12:20:08.421793Z"
    },
    "papermill": {
     "duration": 0.12018,
     "end_time": "2024-04-20T12:20:08.426032",
     "exception": false,
     "start_time": "2024-04-20T12:20:08.305852",
     "status": "completed"
    },
    "tags": []
   },
   "outputs": [
    {
     "name": "stdout",
     "output_type": "stream",
     "text": [
      "      realSum     room_type  room_shared  room_private  person_capacity  \\\n",
      "0  194.033698  Private room        False          True              2.0   \n",
      "1  344.245776  Private room        False          True              4.0   \n",
      "2  264.101422  Private room        False          True              2.0   \n",
      "3  433.529398  Private room        False          True              4.0   \n",
      "4  485.552926  Private room        False          True              2.0   \n",
      "\n",
      "   host_is_superhost  multi  biz  cleanliness_rating  \\\n",
      "0              False      1    0                10.0   \n",
      "1              False      0    0                 8.0   \n",
      "2              False      0    1                 9.0   \n",
      "3              False      0    1                 9.0   \n",
      "4               True      0    0                10.0   \n",
      "\n",
      "   guest_satisfaction_overall  ...      dist  metro_dist  attr_index  \\\n",
      "0                        93.0  ...  5.022964    2.539380   78.690379   \n",
      "1                        85.0  ...  0.488389    0.239404  631.176378   \n",
      "2                        87.0  ...  5.748312    3.651621   75.275877   \n",
      "3                        90.0  ...  0.384862    0.439876  493.272534   \n",
      "4                        98.0  ...  0.544738    0.318693  552.830324   \n",
      "\n",
      "   attr_index_norm  rest_index  rest_index_norm      lng       lat       city  \\\n",
      "0         4.166708   98.253896         6.846473  4.90569  52.41772  Amsterdam   \n",
      "1        33.421209  837.280757        58.342928  4.90005  52.37432  Amsterdam   \n",
      "2         3.985908   95.386955         6.646700  4.97512  52.36103  Amsterdam   \n",
      "3        26.119108  875.033098        60.973565  4.89417  52.37663  Amsterdam   \n",
      "4        29.272733  815.305740        56.811677  4.90051  52.37508  Amsterdam   \n",
      "\n",
      "  weekday  \n",
      "0    True  \n",
      "1    True  \n",
      "2    True  \n",
      "3    True  \n",
      "4    True  \n",
      "\n",
      "[5 rows x 21 columns]\n",
      "(51707, 21)\n"
     ]
    }
   ],
   "source": [
    "datasets = [\n",
    "    (amsterdam_weekdays, \"Amsterdam\", True),\n",
    "    (amsterdam_weekend, \"Amsterdam\", False),\n",
    "    (athens_weekdays, \"Athens\", True),\n",
    "    (athens_weekend, \"Athens\", False),\n",
    "    (barcelona_weekdays, \"Barcelona\", True),\n",
    "    (barcelona_weekend, \"Barcelona\", False),\n",
    "    (berlin_weekdays, \"Berlin\", True),\n",
    "    (berlin_weekend, \"Berlin\", False),\n",
    "    (budapest_weekdays, \"Budapest\", True),\n",
    "    (budapest_weekend, \"Budapest\", False),\n",
    "    (lisbon_weekdays, \"Lisbon\", True),\n",
    "    (lisbon_weekend, \"Lisbon\", False),\n",
    "    (london_weekdays, \"London\", True),\n",
    "    (london_weekend, \"London\", False),\n",
    "    (paris_weekdays, \"Paris\", True),\n",
    "    (paris_weekend, \"Paris\", False),\n",
    "    (rome_weekdays, \"Rome\", True),\n",
    "    (rome_weekend, \"Rome\", False),\n",
    "    (vienna_weekdays, \"Vienna\", True),\n",
    "    (vienna_weekend, \"Vienna\", False)\n",
    "]\n",
    "\n",
    "df = pd.DataFrame()\n",
    "\n",
    "for data, city, is_weekday in datasets:\n",
    "    data['city'] = city\n",
    "    data['weekday'] = is_weekday\n",
    "    df = pd.concat([df, data], ignore_index=True)\n",
    "\n",
    "df.drop(columns=['Unnamed: 0'], axis=1, inplace=True)\n",
    "\n",
    "print(df.head())\n",
    "print(df.shape)"
   ]
  },
  {
   "cell_type": "code",
   "execution_count": 4,
   "id": "ec510d42",
   "metadata": {
    "execution": {
     "iopub.execute_input": "2024-04-20T12:20:08.457823Z",
     "iopub.status.busy": "2024-04-20T12:20:08.457383Z",
     "iopub.status.idle": "2024-04-20T12:20:08.462498Z",
     "shell.execute_reply": "2024-04-20T12:20:08.461200Z"
    },
    "papermill": {
     "duration": 0.024356,
     "end_time": "2024-04-20T12:20:08.464966",
     "exception": false,
     "start_time": "2024-04-20T12:20:08.440610",
     "status": "completed"
    },
    "tags": []
   },
   "outputs": [],
   "source": [
    "# path = \"/kaggle/input/airbnb-price-determinants-in-europe/barcelona_weekdays.csv\"\n",
    "# df = pd.read_csv(path, index_col=0)\n",
    "# df.head()"
   ]
  },
  {
   "cell_type": "markdown",
   "id": "b41ac315",
   "metadata": {
    "papermill": {
     "duration": 0.014017,
     "end_time": "2024-04-20T12:20:08.493468",
     "exception": false,
     "start_time": "2024-04-20T12:20:08.479451",
     "status": "completed"
    },
    "tags": []
   },
   "source": [
    "# Data Preposessing"
   ]
  },
  {
   "cell_type": "markdown",
   "id": "e6122635",
   "metadata": {
    "papermill": {
     "duration": 0.01406,
     "end_time": "2024-04-20T12:20:08.521895",
     "exception": false,
     "start_time": "2024-04-20T12:20:08.507835",
     "status": "completed"
    },
    "tags": []
   },
   "source": [
    "## Add data shuffle"
   ]
  },
  {
   "cell_type": "code",
   "execution_count": 5,
   "id": "3ee014aa",
   "metadata": {
    "execution": {
     "iopub.execute_input": "2024-04-20T12:20:08.552030Z",
     "iopub.status.busy": "2024-04-20T12:20:08.551665Z",
     "iopub.status.idle": "2024-04-20T12:20:08.594633Z",
     "shell.execute_reply": "2024-04-20T12:20:08.593574Z"
    },
    "papermill": {
     "duration": 0.061524,
     "end_time": "2024-04-20T12:20:08.597535",
     "exception": false,
     "start_time": "2024-04-20T12:20:08.536011",
     "status": "completed"
    },
    "tags": []
   },
   "outputs": [],
   "source": [
    "np.random.seed(144)\n",
    "df = df.sample(frac=1).reset_index(drop=True)"
   ]
  },
  {
   "cell_type": "markdown",
   "id": "931afdbc",
   "metadata": {
    "papermill": {
     "duration": 0.014117,
     "end_time": "2024-04-20T12:20:08.625885",
     "exception": false,
     "start_time": "2024-04-20T12:20:08.611768",
     "status": "completed"
    },
    "tags": []
   },
   "source": [
    "## DEALING WITH MISSING VALUES"
   ]
  },
  {
   "cell_type": "code",
   "execution_count": 6,
   "id": "f173b846",
   "metadata": {
    "execution": {
     "iopub.execute_input": "2024-04-20T12:20:08.656051Z",
     "iopub.status.busy": "2024-04-20T12:20:08.655684Z",
     "iopub.status.idle": "2024-04-20T12:20:08.746727Z",
     "shell.execute_reply": "2024-04-20T12:20:08.745675Z"
    },
    "papermill": {
     "duration": 0.109255,
     "end_time": "2024-04-20T12:20:08.749320",
     "exception": false,
     "start_time": "2024-04-20T12:20:08.640065",
     "status": "completed"
    },
    "tags": []
   },
   "outputs": [
    {
     "data": {
      "text/html": [
       "<div>\n",
       "<style scoped>\n",
       "    .dataframe tbody tr th:only-of-type {\n",
       "        vertical-align: middle;\n",
       "    }\n",
       "\n",
       "    .dataframe tbody tr th {\n",
       "        vertical-align: top;\n",
       "    }\n",
       "\n",
       "    .dataframe thead th {\n",
       "        text-align: right;\n",
       "    }\n",
       "</style>\n",
       "<table border=\"1\" class=\"dataframe\">\n",
       "  <thead>\n",
       "    <tr style=\"text-align: right;\">\n",
       "      <th></th>\n",
       "      <th>realSum</th>\n",
       "      <th>person_capacity</th>\n",
       "      <th>multi</th>\n",
       "      <th>biz</th>\n",
       "      <th>cleanliness_rating</th>\n",
       "      <th>guest_satisfaction_overall</th>\n",
       "      <th>bedrooms</th>\n",
       "      <th>dist</th>\n",
       "      <th>metro_dist</th>\n",
       "      <th>attr_index</th>\n",
       "      <th>attr_index_norm</th>\n",
       "      <th>rest_index</th>\n",
       "      <th>rest_index_norm</th>\n",
       "      <th>lng</th>\n",
       "      <th>lat</th>\n",
       "    </tr>\n",
       "  </thead>\n",
       "  <tbody>\n",
       "    <tr>\n",
       "      <th>count</th>\n",
       "      <td>51707.000000</td>\n",
       "      <td>51707.000000</td>\n",
       "      <td>51707.000000</td>\n",
       "      <td>51707.000000</td>\n",
       "      <td>51707.000000</td>\n",
       "      <td>51707.000000</td>\n",
       "      <td>51707.00000</td>\n",
       "      <td>51707.000000</td>\n",
       "      <td>51707.000000</td>\n",
       "      <td>51707.000000</td>\n",
       "      <td>51707.000000</td>\n",
       "      <td>51707.000000</td>\n",
       "      <td>51707.000000</td>\n",
       "      <td>51707.000000</td>\n",
       "      <td>51707.000000</td>\n",
       "    </tr>\n",
       "    <tr>\n",
       "      <th>mean</th>\n",
       "      <td>279.879591</td>\n",
       "      <td>3.161661</td>\n",
       "      <td>0.291353</td>\n",
       "      <td>0.350204</td>\n",
       "      <td>9.390624</td>\n",
       "      <td>92.628232</td>\n",
       "      <td>1.15876</td>\n",
       "      <td>3.191285</td>\n",
       "      <td>0.681540</td>\n",
       "      <td>294.204105</td>\n",
       "      <td>13.423792</td>\n",
       "      <td>626.856696</td>\n",
       "      <td>22.786177</td>\n",
       "      <td>7.426068</td>\n",
       "      <td>45.671128</td>\n",
       "    </tr>\n",
       "    <tr>\n",
       "      <th>std</th>\n",
       "      <td>327.948386</td>\n",
       "      <td>1.298545</td>\n",
       "      <td>0.454390</td>\n",
       "      <td>0.477038</td>\n",
       "      <td>0.954868</td>\n",
       "      <td>8.945531</td>\n",
       "      <td>0.62741</td>\n",
       "      <td>2.393803</td>\n",
       "      <td>0.858023</td>\n",
       "      <td>224.754123</td>\n",
       "      <td>9.807985</td>\n",
       "      <td>497.920226</td>\n",
       "      <td>17.804096</td>\n",
       "      <td>9.799725</td>\n",
       "      <td>5.249263</td>\n",
       "    </tr>\n",
       "    <tr>\n",
       "      <th>min</th>\n",
       "      <td>34.779339</td>\n",
       "      <td>2.000000</td>\n",
       "      <td>0.000000</td>\n",
       "      <td>0.000000</td>\n",
       "      <td>2.000000</td>\n",
       "      <td>20.000000</td>\n",
       "      <td>0.00000</td>\n",
       "      <td>0.015045</td>\n",
       "      <td>0.002301</td>\n",
       "      <td>15.152201</td>\n",
       "      <td>0.926301</td>\n",
       "      <td>19.576924</td>\n",
       "      <td>0.592757</td>\n",
       "      <td>-9.226340</td>\n",
       "      <td>37.953000</td>\n",
       "    </tr>\n",
       "    <tr>\n",
       "      <th>25%</th>\n",
       "      <td>148.752174</td>\n",
       "      <td>2.000000</td>\n",
       "      <td>0.000000</td>\n",
       "      <td>0.000000</td>\n",
       "      <td>9.000000</td>\n",
       "      <td>90.000000</td>\n",
       "      <td>1.00000</td>\n",
       "      <td>1.453142</td>\n",
       "      <td>0.248480</td>\n",
       "      <td>136.797385</td>\n",
       "      <td>6.380926</td>\n",
       "      <td>250.854114</td>\n",
       "      <td>8.751480</td>\n",
       "      <td>-0.072500</td>\n",
       "      <td>41.399510</td>\n",
       "    </tr>\n",
       "    <tr>\n",
       "      <th>50%</th>\n",
       "      <td>211.343089</td>\n",
       "      <td>3.000000</td>\n",
       "      <td>0.000000</td>\n",
       "      <td>0.000000</td>\n",
       "      <td>10.000000</td>\n",
       "      <td>95.000000</td>\n",
       "      <td>1.00000</td>\n",
       "      <td>2.613538</td>\n",
       "      <td>0.413269</td>\n",
       "      <td>234.331748</td>\n",
       "      <td>11.468305</td>\n",
       "      <td>522.052783</td>\n",
       "      <td>17.542238</td>\n",
       "      <td>4.873000</td>\n",
       "      <td>47.506690</td>\n",
       "    </tr>\n",
       "    <tr>\n",
       "      <th>75%</th>\n",
       "      <td>319.694287</td>\n",
       "      <td>4.000000</td>\n",
       "      <td>1.000000</td>\n",
       "      <td>1.000000</td>\n",
       "      <td>10.000000</td>\n",
       "      <td>99.000000</td>\n",
       "      <td>1.00000</td>\n",
       "      <td>4.263077</td>\n",
       "      <td>0.737840</td>\n",
       "      <td>385.756381</td>\n",
       "      <td>17.415082</td>\n",
       "      <td>832.628988</td>\n",
       "      <td>32.964603</td>\n",
       "      <td>13.518825</td>\n",
       "      <td>51.471885</td>\n",
       "    </tr>\n",
       "    <tr>\n",
       "      <th>max</th>\n",
       "      <td>18545.450285</td>\n",
       "      <td>6.000000</td>\n",
       "      <td>1.000000</td>\n",
       "      <td>1.000000</td>\n",
       "      <td>10.000000</td>\n",
       "      <td>100.000000</td>\n",
       "      <td>10.00000</td>\n",
       "      <td>25.284557</td>\n",
       "      <td>14.273577</td>\n",
       "      <td>4513.563486</td>\n",
       "      <td>100.000000</td>\n",
       "      <td>6696.156772</td>\n",
       "      <td>100.000000</td>\n",
       "      <td>23.786020</td>\n",
       "      <td>52.641410</td>\n",
       "    </tr>\n",
       "  </tbody>\n",
       "</table>\n",
       "</div>"
      ],
      "text/plain": [
       "            realSum  person_capacity         multi           biz  \\\n",
       "count  51707.000000     51707.000000  51707.000000  51707.000000   \n",
       "mean     279.879591         3.161661      0.291353      0.350204   \n",
       "std      327.948386         1.298545      0.454390      0.477038   \n",
       "min       34.779339         2.000000      0.000000      0.000000   \n",
       "25%      148.752174         2.000000      0.000000      0.000000   \n",
       "50%      211.343089         3.000000      0.000000      0.000000   \n",
       "75%      319.694287         4.000000      1.000000      1.000000   \n",
       "max    18545.450285         6.000000      1.000000      1.000000   \n",
       "\n",
       "       cleanliness_rating  guest_satisfaction_overall     bedrooms  \\\n",
       "count        51707.000000                51707.000000  51707.00000   \n",
       "mean             9.390624                   92.628232      1.15876   \n",
       "std              0.954868                    8.945531      0.62741   \n",
       "min              2.000000                   20.000000      0.00000   \n",
       "25%              9.000000                   90.000000      1.00000   \n",
       "50%             10.000000                   95.000000      1.00000   \n",
       "75%             10.000000                   99.000000      1.00000   \n",
       "max             10.000000                  100.000000     10.00000   \n",
       "\n",
       "               dist    metro_dist    attr_index  attr_index_norm  \\\n",
       "count  51707.000000  51707.000000  51707.000000     51707.000000   \n",
       "mean       3.191285      0.681540    294.204105        13.423792   \n",
       "std        2.393803      0.858023    224.754123         9.807985   \n",
       "min        0.015045      0.002301     15.152201         0.926301   \n",
       "25%        1.453142      0.248480    136.797385         6.380926   \n",
       "50%        2.613538      0.413269    234.331748        11.468305   \n",
       "75%        4.263077      0.737840    385.756381        17.415082   \n",
       "max       25.284557     14.273577   4513.563486       100.000000   \n",
       "\n",
       "         rest_index  rest_index_norm           lng           lat  \n",
       "count  51707.000000     51707.000000  51707.000000  51707.000000  \n",
       "mean     626.856696        22.786177      7.426068     45.671128  \n",
       "std      497.920226        17.804096      9.799725      5.249263  \n",
       "min       19.576924         0.592757     -9.226340     37.953000  \n",
       "25%      250.854114         8.751480     -0.072500     41.399510  \n",
       "50%      522.052783        17.542238      4.873000     47.506690  \n",
       "75%      832.628988        32.964603     13.518825     51.471885  \n",
       "max     6696.156772       100.000000     23.786020     52.641410  "
      ]
     },
     "execution_count": 6,
     "metadata": {},
     "output_type": "execute_result"
    }
   ],
   "source": [
    "df.describe()"
   ]
  },
  {
   "cell_type": "code",
   "execution_count": 7,
   "id": "14dc35ee",
   "metadata": {
    "execution": {
     "iopub.execute_input": "2024-04-20T12:20:08.780307Z",
     "iopub.status.busy": "2024-04-20T12:20:08.779899Z",
     "iopub.status.idle": "2024-04-20T12:20:08.786912Z",
     "shell.execute_reply": "2024-04-20T12:20:08.785715Z"
    },
    "papermill": {
     "duration": 0.025268,
     "end_time": "2024-04-20T12:20:08.789417",
     "exception": false,
     "start_time": "2024-04-20T12:20:08.764149",
     "status": "completed"
    },
    "tags": []
   },
   "outputs": [
    {
     "data": {
      "text/plain": [
       "(51707, 21)"
      ]
     },
     "execution_count": 7,
     "metadata": {},
     "output_type": "execute_result"
    }
   ],
   "source": [
    "df.shape"
   ]
  },
  {
   "cell_type": "code",
   "execution_count": 8,
   "id": "131ad387",
   "metadata": {
    "execution": {
     "iopub.execute_input": "2024-04-20T12:20:08.821464Z",
     "iopub.status.busy": "2024-04-20T12:20:08.821050Z",
     "iopub.status.idle": "2024-04-20T12:20:08.843144Z",
     "shell.execute_reply": "2024-04-20T12:20:08.841872Z"
    },
    "papermill": {
     "duration": 0.041043,
     "end_time": "2024-04-20T12:20:08.845833",
     "exception": false,
     "start_time": "2024-04-20T12:20:08.804790",
     "status": "completed"
    },
    "tags": []
   },
   "outputs": [
    {
     "data": {
      "text/plain": [
       "(51707, 21)"
      ]
     },
     "execution_count": 8,
     "metadata": {},
     "output_type": "execute_result"
    }
   ],
   "source": [
    "df_complete = df.dropna()\n",
    "df_complete.shape"
   ]
  },
  {
   "cell_type": "markdown",
   "id": "73d727b3",
   "metadata": {
    "papermill": {
     "duration": 0.014984,
     "end_time": "2024-04-20T12:20:08.876298",
     "exception": false,
     "start_time": "2024-04-20T12:20:08.861314",
     "status": "completed"
    },
    "tags": []
   },
   "source": [
    "## FINDING OUTLIERS"
   ]
  },
  {
   "cell_type": "code",
   "execution_count": 9,
   "id": "eba0318f",
   "metadata": {
    "execution": {
     "iopub.execute_input": "2024-04-20T12:20:08.908528Z",
     "iopub.status.busy": "2024-04-20T12:20:08.908087Z",
     "iopub.status.idle": "2024-04-20T12:20:09.682717Z",
     "shell.execute_reply": "2024-04-20T12:20:09.681498Z"
    },
    "papermill": {
     "duration": 0.793749,
     "end_time": "2024-04-20T12:20:09.685321",
     "exception": false,
     "start_time": "2024-04-20T12:20:08.891572",
     "status": "completed"
    },
    "tags": []
   },
   "outputs": [
    {
     "data": {
      "image/png": "[encoded data removed]",
      "text/plain": [
       "<Figure size 900x500 with 2 Axes>"
      ]
     },
     "metadata": {},
     "output_type": "display_data"
    }
   ],
   "source": [
    "fig, axes= plt.subplots(1,2, gridspec_kw={'width_ratios': [1, 4]}, figsize=(9,5))\n",
    "df.boxplot(column='realSum',ax=axes[0]);\n",
    "df.hist(column='realSum', ax=axes[1]);"
   ]
  },
  {
   "cell_type": "code",
   "execution_count": 10,
   "id": "1719207c",
   "metadata": {
    "execution": {
     "iopub.execute_input": "2024-04-20T12:20:09.718377Z",
     "iopub.status.busy": "2024-04-20T12:20:09.717939Z",
     "iopub.status.idle": "2024-04-20T12:20:09.730638Z",
     "shell.execute_reply": "2024-04-20T12:20:09.729498Z"
    },
    "papermill": {
     "duration": 0.032212,
     "end_time": "2024-04-20T12:20:09.733059",
     "exception": false,
     "start_time": "2024-04-20T12:20:09.700847",
     "status": "completed"
    },
    "tags": []
   },
   "outputs": [
    {
     "data": {
      "text/plain": [
       "(148.75217370869953, 319.69428651318856, 170.94211280448903)"
      ]
     },
     "execution_count": 10,
     "metadata": {},
     "output_type": "execute_result"
    }
   ],
   "source": [
    "Q1 = df['realSum'].quantile(0.25)\n",
    "Q3 = df['realSum'].quantile(0.75)\n",
    "IQR = Q3 - Q1\n",
    "\n",
    "Q1, Q3, IQR"
   ]
  },
  {
   "cell_type": "code",
   "execution_count": 11,
   "id": "da921f4a",
   "metadata": {
    "execution": {
     "iopub.execute_input": "2024-04-20T12:20:09.766141Z",
     "iopub.status.busy": "2024-04-20T12:20:09.765762Z",
     "iopub.status.idle": "2024-04-20T12:20:09.790435Z",
     "shell.execute_reply": "2024-04-20T12:20:09.789290Z"
    },
    "papermill": {
     "duration": 0.044181,
     "end_time": "2024-04-20T12:20:09.792973",
     "exception": false,
     "start_time": "2024-04-20T12:20:09.748792",
     "status": "completed"
    },
    "tags": []
   },
   "outputs": [
    {
     "data": {
      "text/plain": [
       "(0, 3662)"
      ]
     },
     "execution_count": 11,
     "metadata": {},
     "output_type": "execute_result"
    }
   ],
   "source": [
    "small_outliers = df['realSum'] < (Q1 - 1.5 * IQR)\n",
    "big_outliers = df['realSum'] > (Q3 + 1.5 * IQR)\n",
    "\n",
    "sum(small_outliers), sum(big_outliers)"
   ]
  },
  {
   "cell_type": "code",
   "execution_count": 12,
   "id": "210ba092",
   "metadata": {
    "execution": {
     "iopub.execute_input": "2024-04-20T12:20:09.826282Z",
     "iopub.status.busy": "2024-04-20T12:20:09.825876Z",
     "iopub.status.idle": "2024-04-20T12:20:09.835298Z",
     "shell.execute_reply": "2024-04-20T12:20:09.834264Z"
    },
    "papermill": {
     "duration": 0.028887,
     "end_time": "2024-04-20T12:20:09.837714",
     "exception": false,
     "start_time": "2024-04-20T12:20:09.808827",
     "status": "completed"
    },
    "tags": []
   },
   "outputs": [
    {
     "data": {
      "text/plain": [
       "60     698.806972\n",
       "66     956.983937\n",
       "83     593.852160\n",
       "95     636.702364\n",
       "99    2311.738714\n",
       "Name: realSum, dtype: float64"
      ]
     },
     "execution_count": 12,
     "metadata": {},
     "output_type": "execute_result"
    }
   ],
   "source": [
    "df['realSum'][small_outliers | big_outliers].head()"
   ]
  },
  {
   "cell_type": "code",
   "execution_count": 13,
   "id": "1e3935be",
   "metadata": {
    "execution": {
     "iopub.execute_input": "2024-04-20T12:20:09.872162Z",
     "iopub.status.busy": "2024-04-20T12:20:09.871322Z",
     "iopub.status.idle": "2024-04-20T12:20:10.430001Z",
     "shell.execute_reply": "2024-04-20T12:20:10.428946Z"
    },
    "papermill": {
     "duration": 0.578866,
     "end_time": "2024-04-20T12:20:10.432571",
     "exception": false,
     "start_time": "2024-04-20T12:20:09.853705",
     "status": "completed"
    },
    "tags": []
   },
   "outputs": [
    {
     "data": {
      "image/png": "[encoded data removed]",
      "text/plain": [
       "<Figure size 900x500 with 2 Axes>"
      ]
     },
     "metadata": {},
     "output_type": "display_data"
    }
   ],
   "source": [
    "fig, axes= plt.subplots(1,2, gridspec_kw={'width_ratios': [1, 4]}, figsize=(9,5))\n",
    "df[~(small_outliers | big_outliers)].boxplot(column='realSum',ax=axes[0]);\n",
    "df[~(small_outliers | big_outliers)].hist(column='realSum', ax=axes[1]);"
   ]
  },
  {
   "cell_type": "code",
   "execution_count": 14,
   "id": "e4fecd86",
   "metadata": {
    "execution": {
     "iopub.execute_input": "2024-04-20T12:20:10.467733Z",
     "iopub.status.busy": "2024-04-20T12:20:10.467333Z",
     "iopub.status.idle": "2024-04-20T12:20:10.480038Z",
     "shell.execute_reply": "2024-04-20T12:20:10.478884Z"
    },
    "papermill": {
     "duration": 0.03372,
     "end_time": "2024-04-20T12:20:10.483150",
     "exception": false,
     "start_time": "2024-04-20T12:20:10.449430",
     "status": "completed"
    },
    "tags": []
   },
   "outputs": [
    {
     "data": {
      "text/plain": [
       "(48045, 21)"
      ]
     },
     "execution_count": 14,
     "metadata": {},
     "output_type": "execute_result"
    }
   ],
   "source": [
    "df_clean = df[~(small_outliers | big_outliers)]\n",
    "df_clean.shape"
   ]
  },
  {
   "cell_type": "code",
   "execution_count": 15,
   "id": "3bac8823",
   "metadata": {
    "execution": {
     "iopub.execute_input": "2024-04-20T12:20:10.519300Z",
     "iopub.status.busy": "2024-04-20T12:20:10.518888Z",
     "iopub.status.idle": "2024-04-20T12:20:10.528328Z",
     "shell.execute_reply": "2024-04-20T12:20:10.527146Z"
    },
    "papermill": {
     "duration": 0.030876,
     "end_time": "2024-04-20T12:20:10.531008",
     "exception": false,
     "start_time": "2024-04-20T12:20:10.500132",
     "status": "completed"
    },
    "tags": []
   },
   "outputs": [
    {
     "data": {
      "text/plain": [
       "realSum                       float64\n",
       "room_type                      object\n",
       "room_shared                      bool\n",
       "room_private                     bool\n",
       "person_capacity               float64\n",
       "host_is_superhost                bool\n",
       "multi                           int64\n",
       "biz                             int64\n",
       "cleanliness_rating            float64\n",
       "guest_satisfaction_overall    float64\n",
       "bedrooms                        int64\n",
       "dist                          float64\n",
       "metro_dist                    float64\n",
       "attr_index                    float64\n",
       "attr_index_norm               float64\n",
       "rest_index                    float64\n",
       "rest_index_norm               float64\n",
       "lng                           float64\n",
       "lat                           float64\n",
       "city                           object\n",
       "weekday                          bool\n",
       "dtype: object"
      ]
     },
     "execution_count": 15,
     "metadata": {},
     "output_type": "execute_result"
    }
   ],
   "source": [
    "df_clean.dtypes"
   ]
  },
  {
   "cell_type": "code",
   "execution_count": 16,
   "id": "146cab3d",
   "metadata": {
    "execution": {
     "iopub.execute_input": "2024-04-20T12:20:10.568218Z",
     "iopub.status.busy": "2024-04-20T12:20:10.567807Z",
     "iopub.status.idle": "2024-04-20T12:20:10.572794Z",
     "shell.execute_reply": "2024-04-20T12:20:10.571571Z"
    },
    "papermill": {
     "duration": 0.026606,
     "end_time": "2024-04-20T12:20:10.575392",
     "exception": false,
     "start_time": "2024-04-20T12:20:10.548786",
     "status": "completed"
    },
    "tags": []
   },
   "outputs": [],
   "source": [
    "# df_clean.to_csv('out.csv', index=False) "
   ]
  },
  {
   "cell_type": "code",
   "execution_count": 17,
   "id": "42ac7ebc",
   "metadata": {
    "execution": {
     "iopub.execute_input": "2024-04-20T12:20:10.610821Z",
     "iopub.status.busy": "2024-04-20T12:20:10.610426Z",
     "iopub.status.idle": "2024-04-20T12:20:10.735071Z",
     "shell.execute_reply": "2024-04-20T12:20:10.733930Z"
    },
    "papermill": {
     "duration": 0.145432,
     "end_time": "2024-04-20T12:20:10.737665",
     "exception": false,
     "start_time": "2024-04-20T12:20:10.592233",
     "status": "completed"
    },
    "tags": []
   },
   "outputs": [
    {
     "name": "stdout",
     "output_type": "stream",
     "text": [
      "['person_capacity', 'multi', 'biz', 'cleanliness_rating', 'guest_satisfaction_overall', 'bedrooms', 'dist', 'metro_dist', 'attr_index', 'attr_index_norm', 'rest_index', 'rest_index_norm', 'lng', 'lat', 'room_type_Entire home/apt', 'room_type_Private room', 'room_type_Shared room', 'room_shared_False', 'room_shared_True', 'room_private_False', 'room_private_True', 'host_is_superhost_False', 'host_is_superhost_True', 'city_Amsterdam', 'city_Athens', 'city_Barcelona', 'city_Berlin', 'city_Budapest', 'city_Lisbon', 'city_London', 'city_Paris', 'city_Rome', 'city_Vienna', 'weekday_False', 'weekday_True']\n",
      "(48045, 35)\n"
     ]
    }
   ],
   "source": [
    "# Identifying categorical and numerical columns\n",
    "categorical_cols = [col for col in df_clean.columns if df_clean[col].dtype in ['object', 'bool']]\n",
    "numerical_cols = [col for col in df_clean.columns if df_clean[col].dtype in ['int64', 'float64'] and col != 'realSum']\n",
    "\n",
    "# Adjust transformers if necessary\n",
    "categorical_transformer = OneHotEncoder(handle_unknown='ignore')\n",
    "numerical_transformer = StandardScaler()\n",
    "\n",
    "# Update preprocessor\n",
    "preprocessor = ColumnTransformer(\n",
    "    transformers=[\n",
    "        ('num', numerical_transformer, numerical_cols),\n",
    "        ('cat', categorical_transformer, categorical_cols)\n",
    "    ])\n",
    "\n",
    "# Fit and transform the data\n",
    "df_transformed = preprocessor.fit_transform(df_clean.drop('realSum', axis=1))\n",
    "\n",
    "# Check transformed feature names and dimensions\n",
    "transformed_features = preprocessor.transformers_[0][1].get_feature_names_out(numerical_cols).tolist() + \\\n",
    "                       preprocessor.transformers_[1][1].get_feature_names_out(categorical_cols).tolist()\n",
    "\n",
    "print(transformed_features)\n",
    "print(df_transformed.shape)"
   ]
  },
  {
   "cell_type": "markdown",
   "id": "180d0e9f",
   "metadata": {
    "papermill": {
     "duration": 0.016788,
     "end_time": "2024-04-20T12:20:10.771543",
     "exception": false,
     "start_time": "2024-04-20T12:20:10.754755",
     "status": "completed"
    },
    "tags": []
   },
   "source": [
    "# Prepare Training Data"
   ]
  },
  {
   "cell_type": "code",
   "execution_count": 18,
   "id": "976cd2f7",
   "metadata": {
    "execution": {
     "iopub.execute_input": "2024-04-20T12:20:10.807169Z",
     "iopub.status.busy": "2024-04-20T12:20:10.806769Z",
     "iopub.status.idle": "2024-04-20T12:20:10.812349Z",
     "shell.execute_reply": "2024-04-20T12:20:10.811287Z"
    },
    "papermill": {
     "duration": 0.026308,
     "end_time": "2024-04-20T12:20:10.814702",
     "exception": false,
     "start_time": "2024-04-20T12:20:10.788394",
     "status": "completed"
    },
    "tags": []
   },
   "outputs": [],
   "source": [
    "# y = df_clean['realSum'].values\n",
    "\n",
    "# # Create Train Data and Test Data\n",
    "# X_train, X_test, y_train, y_test = train_test_split(df_transformed, y, test_size=0.2, random_state=42)\n",
    "# X_train = torch.tensor(X_train, dtype=torch.float32)\n",
    "# X_test = torch.tensor(X_test, dtype=torch.float32)\n",
    "# y_train = torch.tensor(y_train, dtype=torch.float32)\n",
    "# y_test = torch.tensor(y_test, dtype=torch.float32)\n",
    "\n",
    "# # Create DataLoader\n",
    "# train_dataset = TensorDataset(X_train, y_train)\n",
    "# test_dataset = TensorDataset(X_test, y_test)\n",
    "\n",
    "# train_loader = DataLoader(train_dataset, batch_size=64, shuffle=True)\n",
    "# test_loader = DataLoader(test_dataset, batch_size=64, shuffle=False)"
   ]
  },
  {
   "cell_type": "code",
   "execution_count": 19,
   "id": "756d5a5b",
   "metadata": {
    "execution": {
     "iopub.execute_input": "2024-04-20T12:20:10.850955Z",
     "iopub.status.busy": "2024-04-20T12:20:10.850530Z",
     "iopub.status.idle": "2024-04-20T12:20:10.926173Z",
     "shell.execute_reply": "2024-04-20T12:20:10.924904Z"
    },
    "papermill": {
     "duration": 0.096946,
     "end_time": "2024-04-20T12:20:10.928959",
     "exception": false,
     "start_time": "2024-04-20T12:20:10.832013",
     "status": "completed"
    },
    "tags": []
   },
   "outputs": [],
   "source": [
    "y = df_clean['realSum'].values\n",
    "\n",
    "# Split Test Data\n",
    "X_train_val, X_test, y_train_val, y_test = train_test_split(df_transformed, y, test_size=0.2, random_state=42)\n",
    "\n",
    "# Split Validation Data\n",
    "X_train, X_val, y_train, y_val = train_test_split(X_train_val, y_train_val, test_size=0.25, random_state=42) \n",
    "\n",
    "train_dataset = TensorDataset(torch.tensor(X_train, dtype=torch.float32), torch.tensor(y_train, dtype=torch.float32))\n",
    "val_dataset = TensorDataset(torch.tensor(X_val, dtype=torch.float32), torch.tensor(y_val, dtype=torch.float32))\n",
    "test_dataset = TensorDataset(torch.tensor(X_test, dtype=torch.float32), torch.tensor(y_test, dtype=torch.float32))\n",
    "\n",
    "train_loader = DataLoader(train_dataset, batch_size=64, shuffle=True)\n",
    "val_loader = DataLoader(val_dataset, batch_size=64, shuffle=False)\n",
    "test_loader = DataLoader(test_dataset, batch_size=64, shuffle=False)"
   ]
  },
  {
   "cell_type": "markdown",
   "id": "7f985ad2",
   "metadata": {
    "papermill": {
     "duration": 0.016775,
     "end_time": "2024-04-20T12:20:11.025095",
     "exception": false,
     "start_time": "2024-04-20T12:20:11.008320",
     "status": "completed"
    },
    "tags": []
   },
   "source": [
    "# Define SVM Model"
   ]
  },
  {
   "cell_type": "code",
   "execution_count": 20,
   "id": "a06511fa",
   "metadata": {
    "execution": {
     "iopub.execute_input": "2024-04-20T12:20:11.061132Z",
     "iopub.status.busy": "2024-04-20T12:20:11.060688Z",
     "iopub.status.idle": "2024-04-20T12:20:11.067105Z",
     "shell.execute_reply": "2024-04-20T12:20:11.066028Z"
    },
    "papermill": {
     "duration": 0.027933,
     "end_time": "2024-04-20T12:20:11.069920",
     "exception": false,
     "start_time": "2024-04-20T12:20:11.041987",
     "status": "completed"
    },
    "tags": []
   },
   "outputs": [
    {
     "name": "stdout",
     "output_type": "stream",
     "text": [
      "Using cpu device\n"
     ]
    }
   ],
   "source": [
    "device = (\n",
    "    \"cuda\"\n",
    "    if torch.cuda.is_available()\n",
    "    else \"mps\"\n",
    "    if torch.backends.mps.is_available()\n",
    "    else \"cpu\"\n",
    ")\n",
    "print(f\"Using {device} device\")"
   ]
  },
  {
   "cell_type": "code",
   "execution_count": 21,
   "id": "ff2b3b62",
   "metadata": {
    "execution": {
     "iopub.execute_input": "2024-04-20T12:20:11.105689Z",
     "iopub.status.busy": "2024-04-20T12:20:11.105250Z",
     "iopub.status.idle": "2024-04-20T12:20:11.111583Z",
     "shell.execute_reply": "2024-04-20T12:20:11.110408Z"
    },
    "papermill": {
     "duration": 0.027133,
     "end_time": "2024-04-20T12:20:11.114040",
     "exception": false,
     "start_time": "2024-04-20T12:20:11.086907",
     "status": "completed"
    },
    "tags": []
   },
   "outputs": [],
   "source": [
    "class SVR(nn.Module):\n",
    "    def __init__(self, n_features):\n",
    "        super(SVR, self).__init__()\n",
    "        self.linear = nn.Linear(n_features, 1)\n",
    "\n",
    "    def forward(self, x):\n",
    "        return self.linear(x)"
   ]
  },
  {
   "cell_type": "code",
   "execution_count": 22,
   "id": "dc32c291",
   "metadata": {
    "execution": {
     "iopub.execute_input": "2024-04-20T12:20:11.153145Z",
     "iopub.status.busy": "2024-04-20T12:20:11.152760Z",
     "iopub.status.idle": "2024-04-20T12:20:11.158857Z",
     "shell.execute_reply": "2024-04-20T12:20:11.157732Z"
    },
    "papermill": {
     "duration": 0.027839,
     "end_time": "2024-04-20T12:20:11.161164",
     "exception": false,
     "start_time": "2024-04-20T12:20:11.133325",
     "status": "completed"
    },
    "tags": []
   },
   "outputs": [],
   "source": [
    "def epsilon_insensitive_loss(outputs, targets, epsilon=0.1):\n",
    "    errors = torch.abs(targets - outputs.squeeze())\n",
    "\n",
    "    loss = torch.mean(torch.max(errors - epsilon, torch.zeros_like(errors)))\n",
    "    return loss"
   ]
  },
  {
   "cell_type": "code",
   "execution_count": 23,
   "id": "51dce7ef",
   "metadata": {
    "execution": {
     "iopub.execute_input": "2024-04-20T12:20:11.197619Z",
     "iopub.status.busy": "2024-04-20T12:20:11.197183Z",
     "iopub.status.idle": "2024-04-20T12:20:11.224652Z",
     "shell.execute_reply": "2024-04-20T12:20:11.223243Z"
    },
    "papermill": {
     "duration": 0.048583,
     "end_time": "2024-04-20T12:20:11.227267",
     "exception": false,
     "start_time": "2024-04-20T12:20:11.178684",
     "status": "completed"
    },
    "tags": []
   },
   "outputs": [
    {
     "name": "stdout",
     "output_type": "stream",
     "text": [
      "SVR(\n",
      "  (linear): Linear(in_features=35, out_features=1, bias=True)\n",
      ")\n"
     ]
    }
   ],
   "source": [
    "model = SVR(X_train.shape[1]).to(device)\n",
    "print(model)"
   ]
  },
  {
   "cell_type": "code",
   "execution_count": 24,
   "id": "1015a033",
   "metadata": {
    "execution": {
     "iopub.execute_input": "2024-04-20T12:20:11.264815Z",
     "iopub.status.busy": "2024-04-20T12:20:11.264438Z",
     "iopub.status.idle": "2024-04-20T12:20:14.220886Z",
     "shell.execute_reply": "2024-04-20T12:20:14.219440Z"
    },
    "papermill": {
     "duration": 2.97834,
     "end_time": "2024-04-20T12:20:14.223778",
     "exception": false,
     "start_time": "2024-04-20T12:20:11.245438",
     "status": "completed"
    },
    "tags": []
   },
   "outputs": [],
   "source": [
    "optimizer = torch.optim.SGD(model.parameters(), lr=0.01, weight_decay=0.01)"
   ]
  },
  {
   "cell_type": "code",
   "execution_count": 25,
   "id": "01a76459",
   "metadata": {
    "execution": {
     "iopub.execute_input": "2024-04-20T12:20:14.260778Z",
     "iopub.status.busy": "2024-04-20T12:20:14.260161Z",
     "iopub.status.idle": "2024-04-20T12:20:14.269888Z",
     "shell.execute_reply": "2024-04-20T12:20:14.268719Z"
    },
    "papermill": {
     "duration": 0.03063,
     "end_time": "2024-04-20T12:20:14.272333",
     "exception": false,
     "start_time": "2024-04-20T12:20:14.241703",
     "status": "completed"
    },
    "tags": []
   },
   "outputs": [],
   "source": [
    "class EarlyStopping:\n",
    "    def __init__(self, patience=10, verbose=False, delta=0.0001):  \n",
    "        self.patience = patience\n",
    "        self.verbose = verbose\n",
    "        self.delta = delta\n",
    "        self.reset()\n",
    "\n",
    "    def reset(self):\n",
    "        self.best_score = None\n",
    "        self.epochs_no_improve = 0\n",
    "        self.early_stop = False\n",
    "\n",
    "    def __call__(self, val_loss):\n",
    "        score = -val_loss\n",
    "        if self.best_score is None:\n",
    "            self.best_score = score\n",
    "        elif score < self.best_score - self.delta:  \n",
    "            self.epochs_no_improve += 1\n",
    "            if self.epochs_no_improve >= self.patience:\n",
    "                self.early_stop = True\n",
    "                if self.verbose:\n",
    "                    print(\"Early stopping triggered\")\n",
    "        else:\n",
    "            self.best_score = score\n",
    "            self.epochs_no_improve = 0"
   ]
  },
  {
   "cell_type": "markdown",
   "id": "2c9861a2",
   "metadata": {
    "papermill": {
     "duration": 0.016896,
     "end_time": "2024-04-20T12:20:14.306727",
     "exception": false,
     "start_time": "2024-04-20T12:20:14.289831",
     "status": "completed"
    },
    "tags": []
   },
   "source": [
    "# Model Training"
   ]
  },
  {
   "cell_type": "code",
   "execution_count": 26,
   "id": "a44bd0d8",
   "metadata": {
    "execution": {
     "iopub.execute_input": "2024-04-20T12:20:14.343252Z",
     "iopub.status.busy": "2024-04-20T12:20:14.342819Z",
     "iopub.status.idle": "2024-04-20T12:26:49.158830Z",
     "shell.execute_reply": "2024-04-20T12:26:49.157606Z"
    },
    "papermill": {
     "duration": 394.837984,
     "end_time": "2024-04-20T12:26:49.161862",
     "exception": false,
     "start_time": "2024-04-20T12:20:14.323878",
     "status": "completed"
    },
    "tags": []
   },
   "outputs": [
    {
     "name": "stdout",
     "output_type": "stream",
     "text": [
      "Starting fold 1\n",
      "Fold 1, Epoch 1, Validation MAE Loss: 208.47436548658638\n",
      "Fold 1, Epoch 2, Validation MAE Loss: 189.3707227470461\n",
      "Fold 1, Epoch 3, Validation MAE Loss: 171.21159665446635\n",
      "Fold 1, Epoch 4, Validation MAE Loss: 154.271151834283\n",
      "Fold 1, Epoch 5, Validation MAE Loss: 139.23510710661077\n",
      "Fold 1, Epoch 6, Validation MAE Loss: 126.449362510492\n",
      "Fold 1, Epoch 7, Validation MAE Loss: 116.06812633167614\n",
      "Fold 1, Epoch 8, Validation MAE Loss: 107.80692688492704\n",
      "Fold 1, Epoch 9, Validation MAE Loss: 101.36353056095848\n",
      "Fold 1, Epoch 10, Validation MAE Loss: 96.30182414409543\n",
      "Fold 1, Epoch 11, Validation MAE Loss: 92.34872909419792\n",
      "Fold 1, Epoch 12, Validation MAE Loss: 89.22074795557448\n",
      "Fold 1, Epoch 13, Validation MAE Loss: 86.75075713859117\n",
      "Fold 1, Epoch 14, Validation MAE Loss: 84.77714630000847\n",
      "Fold 1, Epoch 15, Validation MAE Loss: 83.18076116388494\n",
      "Fold 1, Epoch 16, Validation MAE Loss: 81.8563662442294\n",
      "Fold 1, Epoch 17, Validation MAE Loss: 80.7656256620549\n",
      "Fold 1, Epoch 18, Validation MAE Loss: 79.85487857534866\n",
      "Fold 1, Epoch 19, Validation MAE Loss: 79.06933124006287\n",
      "Fold 1, Epoch 20, Validation MAE Loss: 78.39573593770177\n",
      "Fold 1, Epoch 21, Validation MAE Loss: 77.82655580378761\n",
      "Fold 1, Epoch 22, Validation MAE Loss: 77.32685246743446\n",
      "Fold 1, Epoch 23, Validation MAE Loss: 76.87961789596179\n",
      "Fold 1, Epoch 24, Validation MAE Loss: 76.50190170540297\n",
      "Fold 1, Epoch 25, Validation MAE Loss: 76.16112584516037\n",
      "Fold 1, Epoch 26, Validation MAE Loss: 75.85612847194199\n",
      "Fold 1, Epoch 27, Validation MAE Loss: 75.58135068909196\n",
      "Fold 1, Epoch 28, Validation MAE Loss: 75.34451911863216\n",
      "Fold 1, Epoch 29, Validation MAE Loss: 75.12602946383895\n",
      "Fold 1, Epoch 30, Validation MAE Loss: 74.92867483974489\n",
      "Fold 1, Epoch 31, Validation MAE Loss: 74.752989587705\n",
      "Fold 1, Epoch 32, Validation MAE Loss: 74.58888749051685\n",
      "Fold 1, Epoch 33, Validation MAE Loss: 74.43549195596995\n",
      "Fold 1, Epoch 34, Validation MAE Loss: 74.29856037108367\n",
      "Fold 1, Epoch 35, Validation MAE Loss: 74.18268156445716\n",
      "Fold 1, Epoch 36, Validation MAE Loss: 74.0670996736889\n",
      "Fold 1, Epoch 37, Validation MAE Loss: 73.9650346424954\n",
      "Fold 1, Epoch 38, Validation MAE Loss: 73.88241614980146\n",
      "Fold 1, Epoch 39, Validation MAE Loss: 73.79944724090828\n",
      "Fold 1, Epoch 40, Validation MAE Loss: 73.7221903209844\n",
      "Fold 1, Epoch 41, Validation MAE Loss: 73.65658468451382\n",
      "Fold 1, Epoch 42, Validation MAE Loss: 73.59413068156597\n",
      "Fold 1, Epoch 43, Validation MAE Loss: 73.55241271089916\n",
      "Fold 1, Epoch 44, Validation MAE Loss: 73.50021069108948\n",
      "Fold 1, Epoch 45, Validation MAE Loss: 73.45217725265124\n",
      "Fold 1, Epoch 46, Validation MAE Loss: 73.40833629261364\n",
      "Fold 1, Epoch 47, Validation MAE Loss: 73.37277016757933\n",
      "Fold 1, Epoch 48, Validation MAE Loss: 73.33726851408147\n",
      "Fold 1, Epoch 49, Validation MAE Loss: 73.31179115988992\n",
      "Fold 1, Epoch 50, Validation MAE Loss: 73.27754019114597\n",
      "Fold 1, Epoch 51, Validation MAE Loss: 73.24943183079239\n",
      "Fold 1, Epoch 52, Validation MAE Loss: 73.21438122583815\n",
      "Fold 1, Epoch 53, Validation MAE Loss: 73.18913083037069\n",
      "Fold 1, Epoch 54, Validation MAE Loss: 73.17239383035455\n",
      "Fold 1, Epoch 55, Validation MAE Loss: 73.14432434208138\n",
      "Fold 1, Epoch 56, Validation MAE Loss: 73.12983438791322\n",
      "Fold 1, Epoch 57, Validation MAE Loss: 73.11206218624903\n",
      "Fold 1, Epoch 58, Validation MAE Loss: 73.09843826293945\n",
      "Fold 1, Epoch 59, Validation MAE Loss: 73.08527052698057\n",
      "Fold 1, Epoch 60, Validation MAE Loss: 73.06649074081547\n",
      "Fold 1, Epoch 61, Validation MAE Loss: 73.05447066125791\n",
      "Fold 1, Epoch 62, Validation MAE Loss: 73.04889001136969\n",
      "Fold 1, Epoch 63, Validation MAE Loss: 73.03557898781516\n",
      "Fold 1, Epoch 64, Validation MAE Loss: 73.02705777381077\n",
      "Fold 1, Epoch 65, Validation MAE Loss: 73.01800991089875\n",
      "Fold 1, Epoch 66, Validation MAE Loss: 73.01323536013768\n",
      "Fold 1, Epoch 67, Validation MAE Loss: 73.00283368953988\n",
      "Fold 1, Epoch 68, Validation MAE Loss: 72.98600661853128\n",
      "Fold 1, Epoch 69, Validation MAE Loss: 72.98506744636977\n",
      "Fold 1, Epoch 70, Validation MAE Loss: 72.9778383113136\n",
      "Fold 1, Epoch 71, Validation MAE Loss: 72.96875283737813\n",
      "Fold 1, Epoch 72, Validation MAE Loss: 72.96518414079651\n",
      "Fold 1, Epoch 73, Validation MAE Loss: 72.96489583165193\n",
      "Fold 1, Epoch 74, Validation MAE Loss: 72.95711662355534\n",
      "Fold 1, Epoch 75, Validation MAE Loss: 72.94783609563655\n",
      "Fold 1, Epoch 76, Validation MAE Loss: 72.94315842557545\n",
      "Fold 1, Epoch 77, Validation MAE Loss: 72.94233341059409\n",
      "Fold 1, Epoch 78, Validation MAE Loss: 72.94231342284148\n",
      "Fold 1, Epoch 79, Validation MAE Loss: 72.93926213792533\n",
      "Fold 1, Epoch 80, Validation MAE Loss: 72.93119389557641\n",
      "Fold 1, Epoch 81, Validation MAE Loss: 72.92325617262155\n",
      "Fold 1, Epoch 82, Validation MAE Loss: 72.92304573374346\n",
      "Fold 1, Epoch 83, Validation MAE Loss: 72.9163003716587\n",
      "Fold 1, Epoch 84, Validation MAE Loss: 72.91566442064017\n",
      "Fold 1, Epoch 85, Validation MAE Loss: 72.90974561833153\n",
      "Fold 1, Epoch 86, Validation MAE Loss: 72.90593120480372\n",
      "Fold 1, Epoch 87, Validation MAE Loss: 72.91226398058174\n",
      "Fold 1, Epoch 88, Validation MAE Loss: 72.91346078667759\n",
      "Fold 1, Epoch 89, Validation MAE Loss: 72.91233664898833\n",
      "Fold 1, Epoch 90, Validation MAE Loss: 72.9113159810216\n",
      "Fold 1, Epoch 91, Validation MAE Loss: 72.90803609800733\n",
      "Fold 1, Epoch 92, Validation MAE Loss: 72.9074157210421\n",
      "Fold 1, Epoch 93, Validation MAE Loss: 72.91045688597625\n",
      "Fold 1, Epoch 94, Validation MAE Loss: 72.90414463390003\n",
      "Fold 1, Epoch 95, Validation MAE Loss: 72.89938568871868\n",
      "Fold 1, Epoch 96, Validation MAE Loss: 72.89617639336704\n",
      "Fold 1, Epoch 97, Validation MAE Loss: 72.90018617614241\n",
      "Fold 1, Epoch 98, Validation MAE Loss: 72.89814972680462\n",
      "Fold 1, Epoch 99, Validation MAE Loss: 72.89264483491252\n",
      "Fold 1, Epoch 100, Validation MAE Loss: 72.90128020609706\n",
      "Fold 1, Epoch 101, Validation MAE Loss: 72.89971684227305\n",
      "Fold 1, Epoch 102, Validation MAE Loss: 72.90130388244124\n",
      "Fold 1, Epoch 103, Validation MAE Loss: 72.89945246168405\n",
      "Fold 1, Epoch 104, Validation MAE Loss: 72.89426179365678\n",
      "Fold 1, Epoch 105, Validation MAE Loss: 72.89411683516069\n",
      "Fold 1, Epoch 106, Validation MAE Loss: 72.89685424300265\n",
      "Fold 1, Epoch 107, Validation MAE Loss: 72.89543930558133\n",
      "Fold 1, Epoch 108, Validation MAE Loss: 72.88965817916491\n",
      "Fold 1, Epoch 109, Validation MAE Loss: 72.89720658231373\n",
      "Fold 1, Epoch 110, Validation MAE Loss: 72.89528091682875\n",
      "Fold 1, Epoch 111, Validation MAE Loss: 72.89035576434175\n",
      "Fold 1, Epoch 112, Validation MAE Loss: 72.89203984284204\n",
      "Fold 1, Epoch 113, Validation MAE Loss: 72.89233937539345\n",
      "Fold 1, Epoch 114, Validation MAE Loss: 72.89295076732793\n",
      "Fold 1, Epoch 115, Validation MAE Loss: 72.90143673479065\n",
      "Fold 1, Epoch 116, Validation MAE Loss: 72.90234220520524\n",
      "Fold 1, Epoch 117, Validation MAE Loss: 72.89401459496868\n",
      "Fold 1, Epoch 118, Validation MAE Loss: 72.89106580245593\n",
      "Early stopping triggered\n",
      "Early stopping triggered at epoch 118\n",
      "Starting fold 2\n",
      "Fold 2, Epoch 1, Validation MAE Loss: 210.1585138494318\n",
      "Fold 2, Epoch 2, Validation MAE Loss: 191.02952436967328\n",
      "Fold 2, Epoch 3, Validation MAE Loss: 172.84441016331192\n",
      "Fold 2, Epoch 4, Validation MAE Loss: 155.90138894073235\n",
      "Fold 2, Epoch 5, Validation MAE Loss: 140.79024959595736\n",
      "Fold 2, Epoch 6, Validation MAE Loss: 128.00048525471334\n",
      "Fold 2, Epoch 7, Validation MAE Loss: 117.51603503266642\n",
      "Fold 2, Epoch 8, Validation MAE Loss: 109.17492927992639\n",
      "Fold 2, Epoch 9, Validation MAE Loss: 102.66212665148018\n",
      "Fold 2, Epoch 10, Validation MAE Loss: 97.5120096127849\n",
      "Fold 2, Epoch 11, Validation MAE Loss: 93.49614620996901\n",
      "Fold 2, Epoch 12, Validation MAE Loss: 90.33292398373943\n",
      "Fold 2, Epoch 13, Validation MAE Loss: 87.81817645868979\n",
      "Fold 2, Epoch 14, Validation MAE Loss: 85.80931753363491\n",
      "Fold 2, Epoch 15, Validation MAE Loss: 84.17441650264519\n",
      "Fold 2, Epoch 16, Validation MAE Loss: 82.83145838335525\n",
      "Fold 2, Epoch 17, Validation MAE Loss: 81.72119503178872\n",
      "Fold 2, Epoch 18, Validation MAE Loss: 80.78485306038344\n",
      "Fold 2, Epoch 19, Validation MAE Loss: 80.00381488642417\n",
      "Fold 2, Epoch 20, Validation MAE Loss: 79.32920890997264\n",
      "Fold 2, Epoch 21, Validation MAE Loss: 78.74276307791717\n",
      "Fold 2, Epoch 22, Validation MAE Loss: 78.23756705039789\n",
      "Fold 2, Epoch 23, Validation MAE Loss: 77.7815851889366\n",
      "Fold 2, Epoch 24, Validation MAE Loss: 77.38876437352708\n",
      "Fold 2, Epoch 25, Validation MAE Loss: 77.0417242128987\n",
      "Fold 2, Epoch 26, Validation MAE Loss: 76.735581863025\n",
      "Fold 2, Epoch 27, Validation MAE Loss: 76.45140413016327\n",
      "Fold 2, Epoch 28, Validation MAE Loss: 76.2046802300067\n",
      "Fold 2, Epoch 29, Validation MAE Loss: 75.98968039268304\n",
      "Fold 2, Epoch 30, Validation MAE Loss: 75.78790365171827\n",
      "Fold 2, Epoch 31, Validation MAE Loss: 75.59919051493495\n",
      "Fold 2, Epoch 32, Validation MAE Loss: 75.43066510287198\n",
      "Fold 2, Epoch 33, Validation MAE Loss: 75.28293685282557\n",
      "Fold 2, Epoch 34, Validation MAE Loss: 75.14504727450284\n",
      "Fold 2, Epoch 35, Validation MAE Loss: 75.01863716062435\n",
      "Fold 2, Epoch 36, Validation MAE Loss: 74.91471550681375\n",
      "Fold 2, Epoch 37, Validation MAE Loss: 74.81839685991775\n",
      "Fold 2, Epoch 38, Validation MAE Loss: 74.73321848467361\n",
      "Fold 2, Epoch 39, Validation MAE Loss: 74.65862658792291\n",
      "Fold 2, Epoch 40, Validation MAE Loss: 74.59345056202785\n",
      "Fold 2, Epoch 41, Validation MAE Loss: 74.53050994873047\n",
      "Fold 2, Epoch 42, Validation MAE Loss: 74.4717861837592\n",
      "Fold 2, Epoch 43, Validation MAE Loss: 74.41626767875735\n",
      "Fold 2, Epoch 44, Validation MAE Loss: 74.36960570280218\n",
      "Fold 2, Epoch 45, Validation MAE Loss: 74.32416326349431\n",
      "Fold 2, Epoch 46, Validation MAE Loss: 74.29194934309021\n",
      "Fold 2, Epoch 47, Validation MAE Loss: 74.24843553275116\n",
      "Fold 2, Epoch 48, Validation MAE Loss: 74.21281029567245\n",
      "Fold 2, Epoch 49, Validation MAE Loss: 74.1794486873406\n",
      "Fold 2, Epoch 50, Validation MAE Loss: 74.14475080001452\n",
      "Fold 2, Epoch 51, Validation MAE Loss: 74.11487626635339\n",
      "Fold 2, Epoch 52, Validation MAE Loss: 74.09054574887615\n",
      "Fold 2, Epoch 53, Validation MAE Loss: 74.0634651184082\n",
      "Fold 2, Epoch 54, Validation MAE Loss: 74.0412087873979\n",
      "Fold 2, Epoch 55, Validation MAE Loss: 74.01369668629543\n",
      "Fold 2, Epoch 56, Validation MAE Loss: 73.99728040458743\n",
      "Fold 2, Epoch 57, Validation MAE Loss: 73.97081132368608\n",
      "Fold 2, Epoch 58, Validation MAE Loss: 73.95614094379519\n",
      "Fold 2, Epoch 59, Validation MAE Loss: 73.93924063690437\n",
      "Fold 2, Epoch 60, Validation MAE Loss: 73.9179934982426\n",
      "Fold 2, Epoch 61, Validation MAE Loss: 73.89977708926871\n",
      "Fold 2, Epoch 62, Validation MAE Loss: 73.89265312636194\n",
      "Fold 2, Epoch 63, Validation MAE Loss: 73.87918068751816\n",
      "Fold 2, Epoch 64, Validation MAE Loss: 73.86637610443367\n",
      "Fold 2, Epoch 65, Validation MAE Loss: 73.8592970036278\n",
      "Fold 2, Epoch 66, Validation MAE Loss: 73.84939739132716\n",
      "Fold 2, Epoch 67, Validation MAE Loss: 73.846889748061\n",
      "Fold 2, Epoch 68, Validation MAE Loss: 73.84029810881812\n",
      "Fold 2, Epoch 69, Validation MAE Loss: 73.83505346755351\n",
      "Fold 2, Epoch 70, Validation MAE Loss: 73.82881703652626\n",
      "Fold 2, Epoch 71, Validation MAE Loss: 73.81689686420535\n",
      "Fold 2, Epoch 72, Validation MAE Loss: 73.80929842862216\n",
      "Fold 2, Epoch 73, Validation MAE Loss: 73.80271438724739\n",
      "Fold 2, Epoch 74, Validation MAE Loss: 73.79952659291669\n",
      "Fold 2, Epoch 75, Validation MAE Loss: 73.79606886934643\n",
      "Fold 2, Epoch 76, Validation MAE Loss: 73.7937770559768\n",
      "Fold 2, Epoch 77, Validation MAE Loss: 73.79297177653667\n",
      "Fold 2, Epoch 78, Validation MAE Loss: 73.78965708835067\n",
      "Fold 2, Epoch 79, Validation MAE Loss: 73.78127046064897\n",
      "Fold 2, Epoch 80, Validation MAE Loss: 73.78026615489613\n",
      "Fold 2, Epoch 81, Validation MAE Loss: 73.78233693650931\n",
      "Fold 2, Epoch 82, Validation MAE Loss: 73.77471227094162\n",
      "Fold 2, Epoch 83, Validation MAE Loss: 73.77156152015876\n",
      "Fold 2, Epoch 84, Validation MAE Loss: 73.77154436978427\n",
      "Fold 2, Epoch 85, Validation MAE Loss: 73.76033379420761\n",
      "Fold 2, Epoch 86, Validation MAE Loss: 73.75443091274293\n",
      "Fold 2, Epoch 87, Validation MAE Loss: 73.76159582847406\n",
      "Fold 2, Epoch 88, Validation MAE Loss: 73.75813539363136\n",
      "Fold 2, Epoch 89, Validation MAE Loss: 73.76489197912295\n",
      "Fold 2, Epoch 90, Validation MAE Loss: 73.75676881774397\n",
      "Fold 2, Epoch 91, Validation MAE Loss: 73.7547707360638\n",
      "Fold 2, Epoch 92, Validation MAE Loss: 73.75266511775246\n",
      "Fold 2, Epoch 93, Validation MAE Loss: 73.75085647835219\n",
      "Fold 2, Epoch 94, Validation MAE Loss: 73.74751537102313\n",
      "Fold 2, Epoch 95, Validation MAE Loss: 73.7435523734605\n",
      "Fold 2, Epoch 96, Validation MAE Loss: 73.74051187058126\n",
      "Fold 2, Epoch 97, Validation MAE Loss: 73.73744895241477\n",
      "Fold 2, Epoch 98, Validation MAE Loss: 73.73964502003567\n",
      "Fold 2, Epoch 99, Validation MAE Loss: 73.74380190510395\n",
      "Fold 2, Epoch 100, Validation MAE Loss: 73.738960171534\n",
      "Fold 2, Epoch 101, Validation MAE Loss: 73.74157197810402\n",
      "Fold 2, Epoch 102, Validation MAE Loss: 73.73754450900496\n",
      "Fold 2, Epoch 103, Validation MAE Loss: 73.73474379610424\n",
      "Fold 2, Epoch 104, Validation MAE Loss: 73.73889390299144\n",
      "Fold 2, Epoch 105, Validation MAE Loss: 73.73809417220187\n",
      "Fold 2, Epoch 106, Validation MAE Loss: 73.74024187828884\n",
      "Fold 2, Epoch 107, Validation MAE Loss: 73.73954725659583\n",
      "Fold 2, Epoch 108, Validation MAE Loss: 73.7411559554171\n",
      "Fold 2, Epoch 109, Validation MAE Loss: 73.73746162603709\n",
      "Fold 2, Epoch 110, Validation MAE Loss: 73.74527144629108\n",
      "Fold 2, Epoch 111, Validation MAE Loss: 73.74469035124976\n",
      "Fold 2, Epoch 112, Validation MAE Loss: 73.7449352169825\n",
      "Fold 2, Epoch 113, Validation MAE Loss: 73.7418348769511\n",
      "Early stopping triggered\n",
      "Early stopping triggered at epoch 113\n",
      "Starting fold 3\n",
      "Fold 3, Epoch 1, Validation MAE Loss: 209.21559887090004\n",
      "Fold 3, Epoch 2, Validation MAE Loss: 190.13027386625936\n",
      "Fold 3, Epoch 3, Validation MAE Loss: 171.98803610052946\n",
      "Fold 3, Epoch 4, Validation MAE Loss: 155.1164925945692\n",
      "Fold 3, Epoch 5, Validation MAE Loss: 140.15725462101707\n",
      "Fold 3, Epoch 6, Validation MAE Loss: 127.50271732551008\n",
      "Fold 3, Epoch 7, Validation MAE Loss: 117.14034056860554\n",
      "Fold 3, Epoch 8, Validation MAE Loss: 108.88648545446475\n",
      "Fold 3, Epoch 9, Validation MAE Loss: 102.40989804859004\n",
      "Fold 3, Epoch 10, Validation MAE Loss: 97.27263174766351\n",
      "Fold 3, Epoch 11, Validation MAE Loss: 93.24966386527069\n",
      "Fold 3, Epoch 12, Validation MAE Loss: 90.05915813603677\n",
      "Fold 3, Epoch 13, Validation MAE Loss: 87.5407457903397\n",
      "Fold 3, Epoch 14, Validation MAE Loss: 85.50168600161213\n",
      "Fold 3, Epoch 15, Validation MAE Loss: 83.85387408043728\n",
      "Fold 3, Epoch 16, Validation MAE Loss: 82.50182790204514\n",
      "Fold 3, Epoch 17, Validation MAE Loss: 81.36120741032371\n",
      "Fold 3, Epoch 18, Validation MAE Loss: 80.41149558705732\n",
      "Fold 3, Epoch 19, Validation MAE Loss: 79.60439637869842\n",
      "Fold 3, Epoch 20, Validation MAE Loss: 78.91219925683392\n",
      "Fold 3, Epoch 21, Validation MAE Loss: 78.30166398986312\n",
      "Fold 3, Epoch 22, Validation MAE Loss: 77.78627487056511\n",
      "Fold 3, Epoch 23, Validation MAE Loss: 77.32747716351975\n",
      "Fold 3, Epoch 24, Validation MAE Loss: 76.93178230474803\n",
      "Fold 3, Epoch 25, Validation MAE Loss: 76.57815346836058\n",
      "Fold 3, Epoch 26, Validation MAE Loss: 76.26523804467571\n",
      "Fold 3, Epoch 27, Validation MAE Loss: 75.98504509413537\n",
      "Fold 3, Epoch 28, Validation MAE Loss: 75.72805641111263\n",
      "Fold 3, Epoch 29, Validation MAE Loss: 75.4975833419926\n",
      "Fold 3, Epoch 30, Validation MAE Loss: 75.29676822000299\n",
      "Fold 3, Epoch 31, Validation MAE Loss: 75.11787474450986\n",
      "Fold 3, Epoch 32, Validation MAE Loss: 74.95305718666266\n",
      "Fold 3, Epoch 33, Validation MAE Loss: 74.80817148508119\n",
      "Fold 3, Epoch 34, Validation MAE Loss: 74.67605502546326\n",
      "Fold 3, Epoch 35, Validation MAE Loss: 74.551263131386\n",
      "Fold 3, Epoch 36, Validation MAE Loss: 74.43486738599036\n",
      "Fold 3, Epoch 37, Validation MAE Loss: 74.33103848291823\n",
      "Fold 3, Epoch 38, Validation MAE Loss: 74.25101612816172\n",
      "Fold 3, Epoch 39, Validation MAE Loss: 74.17007834064074\n",
      "Fold 3, Epoch 40, Validation MAE Loss: 74.09066179764173\n",
      "Fold 3, Epoch 41, Validation MAE Loss: 74.02363340519676\n",
      "Fold 3, Epoch 42, Validation MAE Loss: 73.95398863485036\n",
      "Fold 3, Epoch 43, Validation MAE Loss: 73.89868491937307\n",
      "Fold 3, Epoch 44, Validation MAE Loss: 73.84625212614202\n",
      "Fold 3, Epoch 45, Validation MAE Loss: 73.79872474985675\n",
      "Fold 3, Epoch 46, Validation MAE Loss: 73.7638870113152\n",
      "Fold 3, Epoch 47, Validation MAE Loss: 73.72126697508757\n",
      "Fold 3, Epoch 48, Validation MAE Loss: 73.68318778424224\n",
      "Fold 3, Epoch 49, Validation MAE Loss: 73.64853069210841\n",
      "Fold 3, Epoch 50, Validation MAE Loss: 73.61925459302161\n",
      "Fold 3, Epoch 51, Validation MAE Loss: 73.5821539823674\n",
      "Fold 3, Epoch 52, Validation MAE Loss: 73.55880800357535\n",
      "Fold 3, Epoch 53, Validation MAE Loss: 73.52895648420349\n",
      "Fold 3, Epoch 54, Validation MAE Loss: 73.50565454782533\n",
      "Fold 3, Epoch 55, Validation MAE Loss: 73.48129978652828\n",
      "Fold 3, Epoch 56, Validation MAE Loss: 73.45935424300265\n",
      "Fold 3, Epoch 57, Validation MAE Loss: 73.43840562804671\n",
      "Fold 3, Epoch 58, Validation MAE Loss: 73.42669806992713\n",
      "Fold 3, Epoch 59, Validation MAE Loss: 73.41499322307996\n",
      "Fold 3, Epoch 60, Validation MAE Loss: 73.39429164918\n",
      "Fold 3, Epoch 61, Validation MAE Loss: 73.37676667773034\n",
      "Fold 3, Epoch 62, Validation MAE Loss: 73.36494742149164\n",
      "Fold 3, Epoch 63, Validation MAE Loss: 73.35494298383225\n",
      "Fold 3, Epoch 64, Validation MAE Loss: 73.34202755384209\n",
      "Fold 3, Epoch 65, Validation MAE Loss: 73.32836166886258\n",
      "Fold 3, Epoch 66, Validation MAE Loss: 73.31639575170091\n",
      "Fold 3, Epoch 67, Validation MAE Loss: 73.30334690188573\n",
      "Fold 3, Epoch 68, Validation MAE Loss: 73.30208322824525\n",
      "Fold 3, Epoch 69, Validation MAE Loss: 73.28945472023703\n",
      "Fold 3, Epoch 70, Validation MAE Loss: 73.2854255487111\n",
      "Fold 3, Epoch 71, Validation MAE Loss: 73.28134107983801\n",
      "Fold 3, Epoch 72, Validation MAE Loss: 73.27213886355565\n",
      "Fold 3, Epoch 73, Validation MAE Loss: 73.26541988908753\n",
      "Fold 3, Epoch 74, Validation MAE Loss: 73.26440934110279\n",
      "Fold 3, Epoch 75, Validation MAE Loss: 73.25482382656129\n",
      "Fold 3, Epoch 76, Validation MAE Loss: 73.25954364745085\n",
      "Fold 3, Epoch 77, Validation MAE Loss: 73.25123678160108\n",
      "Fold 3, Epoch 78, Validation MAE Loss: 73.24326207815123\n",
      "Fold 3, Epoch 79, Validation MAE Loss: 73.24494476948888\n",
      "Fold 3, Epoch 80, Validation MAE Loss: 73.23901326203149\n",
      "Fold 3, Epoch 81, Validation MAE Loss: 73.23101885456684\n",
      "Fold 3, Epoch 82, Validation MAE Loss: 73.22870503575349\n",
      "Fold 3, Epoch 83, Validation MAE Loss: 73.22758348323097\n",
      "Fold 3, Epoch 84, Validation MAE Loss: 73.22611504546867\n",
      "Fold 3, Epoch 85, Validation MAE Loss: 73.223408911839\n",
      "Fold 3, Epoch 86, Validation MAE Loss: 73.21536601673473\n",
      "Fold 3, Epoch 87, Validation MAE Loss: 73.21238771548941\n",
      "Fold 3, Epoch 88, Validation MAE Loss: 73.21671563140617\n",
      "Fold 3, Epoch 89, Validation MAE Loss: 73.22506099101926\n",
      "Fold 3, Epoch 90, Validation MAE Loss: 73.22522600032082\n",
      "Fold 3, Epoch 91, Validation MAE Loss: 73.21906208006804\n",
      "Fold 3, Epoch 92, Validation MAE Loss: 73.21652782850029\n",
      "Fold 3, Epoch 93, Validation MAE Loss: 73.21505365292889\n",
      "Fold 3, Epoch 94, Validation MAE Loss: 73.21298608701092\n",
      "Fold 3, Epoch 95, Validation MAE Loss: 73.2143240369056\n",
      "Fold 3, Epoch 96, Validation MAE Loss: 73.22058404969775\n",
      "Fold 3, Epoch 97, Validation MAE Loss: 73.21535873413086\n",
      "Early stopping triggered\n",
      "Early stopping triggered at epoch 97\n",
      "Starting fold 4\n",
      "Fold 4, Epoch 1, Validation MAE Loss: 209.73535900273598\n",
      "Fold 4, Epoch 2, Validation MAE Loss: 190.64263411592847\n",
      "Fold 4, Epoch 3, Validation MAE Loss: 172.4951625855501\n",
      "Fold 4, Epoch 4, Validation MAE Loss: 155.5747570952108\n",
      "Fold 4, Epoch 5, Validation MAE Loss: 140.5169761594662\n",
      "Fold 4, Epoch 6, Validation MAE Loss: 127.70754557207596\n",
      "Fold 4, Epoch 7, Validation MAE Loss: 117.21531929457483\n",
      "Fold 4, Epoch 8, Validation MAE Loss: 108.84092378222253\n",
      "Fold 4, Epoch 9, Validation MAE Loss: 102.23659975666645\n",
      "Fold 4, Epoch 10, Validation MAE Loss: 97.02921427576995\n",
      "Fold 4, Epoch 11, Validation MAE Loss: 92.91773337372078\n",
      "Fold 4, Epoch 12, Validation MAE Loss: 89.6786811135032\n",
      "Fold 4, Epoch 13, Validation MAE Loss: 87.09661490069934\n",
      "Fold 4, Epoch 14, Validation MAE Loss: 85.03860571364726\n",
      "Fold 4, Epoch 15, Validation MAE Loss: 83.36505606154765\n",
      "Fold 4, Epoch 16, Validation MAE Loss: 82.0007831478907\n",
      "Fold 4, Epoch 17, Validation MAE Loss: 80.86226017218976\n",
      "Fold 4, Epoch 18, Validation MAE Loss: 79.91648609382062\n",
      "Fold 4, Epoch 19, Validation MAE Loss: 79.1146988356409\n",
      "Fold 4, Epoch 20, Validation MAE Loss: 78.41832436805915\n",
      "Fold 4, Epoch 21, Validation MAE Loss: 77.82510164749525\n",
      "Fold 4, Epoch 22, Validation MAE Loss: 77.31288821638122\n",
      "Fold 4, Epoch 23, Validation MAE Loss: 76.87878039651666\n",
      "Fold 4, Epoch 24, Validation MAE Loss: 76.47690935371335\n",
      "Fold 4, Epoch 25, Validation MAE Loss: 76.12929957366187\n",
      "Fold 4, Epoch 26, Validation MAE Loss: 75.82240355310361\n",
      "Fold 4, Epoch 27, Validation MAE Loss: 75.54044389330652\n",
      "Fold 4, Epoch 28, Validation MAE Loss: 75.28600658069958\n",
      "Fold 4, Epoch 29, Validation MAE Loss: 75.065871908645\n",
      "Fold 4, Epoch 30, Validation MAE Loss: 74.86676186175386\n",
      "Fold 4, Epoch 31, Validation MAE Loss: 74.69103077029393\n",
      "Fold 4, Epoch 32, Validation MAE Loss: 74.51875781224778\n",
      "Fold 4, Epoch 33, Validation MAE Loss: 74.3632861681221\n",
      "Fold 4, Epoch 34, Validation MAE Loss: 74.231519052805\n",
      "Fold 4, Epoch 35, Validation MAE Loss: 74.10229630903764\n",
      "Fold 4, Epoch 36, Validation MAE Loss: 73.98592282129714\n",
      "Fold 4, Epoch 37, Validation MAE Loss: 73.8871970373737\n",
      "Fold 4, Epoch 38, Validation MAE Loss: 73.79645910341877\n",
      "Fold 4, Epoch 39, Validation MAE Loss: 73.71973570516286\n",
      "Fold 4, Epoch 40, Validation MAE Loss: 73.64825751564719\n",
      "Fold 4, Epoch 41, Validation MAE Loss: 73.58282700846019\n",
      "Fold 4, Epoch 42, Validation MAE Loss: 73.51756967591845\n",
      "Fold 4, Epoch 43, Validation MAE Loss: 73.46070155624516\n",
      "Fold 4, Epoch 44, Validation MAE Loss: 73.40854685759741\n",
      "Fold 4, Epoch 45, Validation MAE Loss: 73.35586494256643\n",
      "Fold 4, Epoch 46, Validation MAE Loss: 73.30550346689776\n",
      "Fold 4, Epoch 47, Validation MAE Loss: 73.26248159487385\n",
      "Fold 4, Epoch 48, Validation MAE Loss: 73.22739199173353\n",
      "Fold 4, Epoch 49, Validation MAE Loss: 73.19147160427629\n",
      "Fold 4, Epoch 50, Validation MAE Loss: 73.15783174372902\n",
      "Fold 4, Epoch 51, Validation MAE Loss: 73.13033616247256\n",
      "Fold 4, Epoch 52, Validation MAE Loss: 73.09373776774761\n",
      "Fold 4, Epoch 53, Validation MAE Loss: 73.06301391223245\n",
      "Fold 4, Epoch 54, Validation MAE Loss: 73.03879764651464\n",
      "Fold 4, Epoch 55, Validation MAE Loss: 73.0186236357886\n",
      "Fold 4, Epoch 56, Validation MAE Loss: 72.99646087520378\n",
      "Fold 4, Epoch 57, Validation MAE Loss: 72.98646255367058\n",
      "Fold 4, Epoch 58, Validation MAE Loss: 72.965300630932\n",
      "Fold 4, Epoch 59, Validation MAE Loss: 72.94309597173013\n",
      "Fold 4, Epoch 60, Validation MAE Loss: 72.92805600757441\n",
      "Fold 4, Epoch 61, Validation MAE Loss: 72.91971890788433\n",
      "Fold 4, Epoch 62, Validation MAE Loss: 72.90189821858051\n",
      "Fold 4, Epoch 63, Validation MAE Loss: 72.89879948639673\n",
      "Fold 4, Epoch 64, Validation MAE Loss: 72.88895652707943\n",
      "Fold 4, Epoch 65, Validation MAE Loss: 72.877575866447\n",
      "Fold 4, Epoch 66, Validation MAE Loss: 72.86088924565591\n",
      "Fold 4, Epoch 67, Validation MAE Loss: 72.85104149432222\n",
      "Fold 4, Epoch 68, Validation MAE Loss: 72.84118803670583\n",
      "Fold 4, Epoch 69, Validation MAE Loss: 72.83281228562032\n",
      "Fold 4, Epoch 70, Validation MAE Loss: 72.82127052496287\n",
      "Fold 4, Epoch 71, Validation MAE Loss: 72.81757080456443\n",
      "Fold 4, Epoch 72, Validation MAE Loss: 72.814173044252\n",
      "Fold 4, Epoch 73, Validation MAE Loss: 72.8086127919599\n",
      "Fold 4, Epoch 74, Validation MAE Loss: 72.79766325517134\n",
      "Fold 4, Epoch 75, Validation MAE Loss: 72.79460276453948\n",
      "Fold 4, Epoch 76, Validation MAE Loss: 72.78632594337148\n",
      "Fold 4, Epoch 77, Validation MAE Loss: 72.7853444942758\n",
      "Fold 4, Epoch 78, Validation MAE Loss: 72.77433641291847\n",
      "Fold 4, Epoch 79, Validation MAE Loss: 72.77064659181706\n",
      "Fold 4, Epoch 80, Validation MAE Loss: 72.76750621322758\n",
      "Fold 4, Epoch 81, Validation MAE Loss: 72.76620694625475\n",
      "Fold 4, Epoch 82, Validation MAE Loss: 72.76995168638624\n",
      "Fold 4, Epoch 83, Validation MAE Loss: 72.76050532947887\n",
      "Fold 4, Epoch 84, Validation MAE Loss: 72.75489145074009\n",
      "Fold 4, Epoch 85, Validation MAE Loss: 72.75265420960986\n",
      "Fold 4, Epoch 86, Validation MAE Loss: 72.74698437146904\n",
      "Fold 4, Epoch 87, Validation MAE Loss: 72.7442352673239\n",
      "Fold 4, Epoch 88, Validation MAE Loss: 72.74376183501946\n",
      "Fold 4, Epoch 89, Validation MAE Loss: 72.74053422281565\n",
      "Fold 4, Epoch 90, Validation MAE Loss: 72.75039165276141\n",
      "Fold 4, Epoch 91, Validation MAE Loss: 72.74136343081135\n",
      "Fold 4, Epoch 92, Validation MAE Loss: 72.73920134867518\n",
      "Fold 4, Epoch 93, Validation MAE Loss: 72.74143080277877\n",
      "Fold 4, Epoch 94, Validation MAE Loss: 72.73690751761444\n",
      "Fold 4, Epoch 95, Validation MAE Loss: 72.73847100754415\n",
      "Fold 4, Epoch 96, Validation MAE Loss: 72.73255002991228\n",
      "Fold 4, Epoch 97, Validation MAE Loss: 72.72906758962584\n",
      "Fold 4, Epoch 98, Validation MAE Loss: 72.72799297994818\n",
      "Fold 4, Epoch 99, Validation MAE Loss: 72.72653904434078\n",
      "Fold 4, Epoch 100, Validation MAE Loss: 72.72285442509927\n",
      "Fold 4, Epoch 101, Validation MAE Loss: 72.7241391899172\n",
      "Fold 4, Epoch 102, Validation MAE Loss: 72.73086349235093\n",
      "Fold 4, Epoch 103, Validation MAE Loss: 72.72509954783543\n",
      "Fold 4, Epoch 104, Validation MAE Loss: 72.72986886521016\n",
      "Fold 4, Epoch 105, Validation MAE Loss: 72.72626593093241\n",
      "Fold 4, Epoch 106, Validation MAE Loss: 72.71934310660875\n",
      "Fold 4, Epoch 107, Validation MAE Loss: 72.72037606988071\n",
      "Fold 4, Epoch 108, Validation MAE Loss: 72.72159913748749\n",
      "Fold 4, Epoch 109, Validation MAE Loss: 72.72723599898913\n",
      "Fold 4, Epoch 110, Validation MAE Loss: 72.72819582095816\n",
      "Fold 4, Epoch 111, Validation MAE Loss: 72.72983286203431\n",
      "Fold 4, Epoch 112, Validation MAE Loss: 72.72240180023445\n",
      "Fold 4, Epoch 113, Validation MAE Loss: 72.72867120790087\n",
      "Fold 4, Epoch 114, Validation MAE Loss: 72.7305542181346\n",
      "Fold 4, Epoch 115, Validation MAE Loss: 72.72942844107132\n",
      "Fold 4, Epoch 116, Validation MAE Loss: 72.72883426256416\n",
      "Early stopping triggered\n",
      "Early stopping triggered at epoch 116\n",
      "Starting fold 5\n",
      "Fold 5, Epoch 1, Validation MAE Loss: 207.1300072788207\n",
      "Fold 5, Epoch 2, Validation MAE Loss: 188.03064078338875\n",
      "Fold 5, Epoch 3, Validation MAE Loss: 169.86522428654442\n",
      "Fold 5, Epoch 4, Validation MAE Loss: 152.9219337022009\n",
      "Fold 5, Epoch 5, Validation MAE Loss: 137.90024692756086\n",
      "Fold 5, Epoch 6, Validation MAE Loss: 125.14198132979968\n",
      "Fold 5, Epoch 7, Validation MAE Loss: 114.67186800113394\n",
      "Fold 5, Epoch 8, Validation MAE Loss: 106.3289185200841\n",
      "Fold 5, Epoch 9, Validation MAE Loss: 99.80202963332499\n",
      "Fold 5, Epoch 10, Validation MAE Loss: 94.6747901853451\n",
      "Fold 5, Epoch 11, Validation MAE Loss: 90.6674139164696\n",
      "Fold 5, Epoch 12, Validation MAE Loss: 87.53384906989484\n",
      "Fold 5, Epoch 13, Validation MAE Loss: 85.039506581204\n",
      "Fold 5, Epoch 14, Validation MAE Loss: 83.04507468357559\n",
      "Fold 5, Epoch 15, Validation MAE Loss: 81.43946409619544\n",
      "Fold 5, Epoch 16, Validation MAE Loss: 80.12673023318456\n",
      "Fold 5, Epoch 17, Validation MAE Loss: 79.03191590112102\n",
      "Fold 5, Epoch 18, Validation MAE Loss: 78.11997440432714\n",
      "Fold 5, Epoch 19, Validation MAE Loss: 77.3396207636053\n",
      "Fold 5, Epoch 20, Validation MAE Loss: 76.68674913516715\n",
      "Fold 5, Epoch 21, Validation MAE Loss: 76.11110308938775\n",
      "Fold 5, Epoch 22, Validation MAE Loss: 75.61104747677638\n",
      "Fold 5, Epoch 23, Validation MAE Loss: 75.17917150702358\n",
      "Fold 5, Epoch 24, Validation MAE Loss: 74.79864192994172\n",
      "Fold 5, Epoch 25, Validation MAE Loss: 74.46928222908461\n",
      "Fold 5, Epoch 26, Validation MAE Loss: 74.16617227979928\n",
      "Fold 5, Epoch 27, Validation MAE Loss: 73.90332447398792\n",
      "Fold 5, Epoch 28, Validation MAE Loss: 73.66860577291693\n",
      "Fold 5, Epoch 29, Validation MAE Loss: 73.44808789718249\n",
      "Fold 5, Epoch 30, Validation MAE Loss: 73.25210315925031\n",
      "Fold 5, Epoch 31, Validation MAE Loss: 73.07729043251227\n",
      "Fold 5, Epoch 32, Validation MAE Loss: 72.91565480508095\n",
      "Fold 5, Epoch 33, Validation MAE Loss: 72.75734600350876\n",
      "Fold 5, Epoch 34, Validation MAE Loss: 72.62119762956604\n",
      "Fold 5, Epoch 35, Validation MAE Loss: 72.50600392365259\n",
      "Fold 5, Epoch 36, Validation MAE Loss: 72.399275882185\n",
      "Fold 5, Epoch 37, Validation MAE Loss: 72.31043634335857\n",
      "Fold 5, Epoch 38, Validation MAE Loss: 72.23060592146945\n",
      "Fold 5, Epoch 39, Validation MAE Loss: 72.16119050585534\n",
      "Fold 5, Epoch 40, Validation MAE Loss: 72.09212717734093\n",
      "Fold 5, Epoch 41, Validation MAE Loss: 72.0264714138567\n",
      "Fold 5, Epoch 42, Validation MAE Loss: 71.96647476952923\n",
      "Fold 5, Epoch 43, Validation MAE Loss: 71.91142455802476\n",
      "Fold 5, Epoch 44, Validation MAE Loss: 71.85707215238209\n",
      "Fold 5, Epoch 45, Validation MAE Loss: 71.8071201103778\n",
      "Fold 5, Epoch 46, Validation MAE Loss: 71.764720317746\n",
      "Fold 5, Epoch 47, Validation MAE Loss: 71.72710289442834\n",
      "Fold 5, Epoch 48, Validation MAE Loss: 71.69026247134879\n",
      "Fold 5, Epoch 49, Validation MAE Loss: 71.65691114063105\n",
      "Fold 5, Epoch 50, Validation MAE Loss: 71.6216007894721\n",
      "Fold 5, Epoch 51, Validation MAE Loss: 71.60121211532719\n",
      "Fold 5, Epoch 52, Validation MAE Loss: 71.5722230328016\n",
      "Fold 5, Epoch 53, Validation MAE Loss: 71.54648993626114\n",
      "Fold 5, Epoch 54, Validation MAE Loss: 71.52589413351264\n",
      "Fold 5, Epoch 55, Validation MAE Loss: 71.49683124762922\n",
      "Fold 5, Epoch 56, Validation MAE Loss: 71.46890927149245\n",
      "Fold 5, Epoch 57, Validation MAE Loss: 71.45539020506804\n",
      "Fold 5, Epoch 58, Validation MAE Loss: 71.44479341743406\n",
      "Fold 5, Epoch 59, Validation MAE Loss: 71.42542660925999\n",
      "Fold 5, Epoch 60, Validation MAE Loss: 71.41129936659631\n",
      "Fold 5, Epoch 61, Validation MAE Loss: 71.4003135428941\n",
      "Fold 5, Epoch 62, Validation MAE Loss: 71.39136442074106\n",
      "Fold 5, Epoch 63, Validation MAE Loss: 71.38192673360021\n",
      "Fold 5, Epoch 64, Validation MAE Loss: 71.37276881194312\n",
      "Fold 5, Epoch 65, Validation MAE Loss: 71.36493771135315\n",
      "Fold 5, Epoch 66, Validation MAE Loss: 71.35893700339578\n",
      "Fold 5, Epoch 67, Validation MAE Loss: 71.34918241264407\n",
      "Fold 5, Epoch 68, Validation MAE Loss: 71.33647735847914\n",
      "Fold 5, Epoch 69, Validation MAE Loss: 71.33648151996707\n",
      "Fold 5, Epoch 70, Validation MAE Loss: 71.33244147182496\n",
      "Fold 5, Epoch 71, Validation MAE Loss: 71.32809492379181\n",
      "Fold 5, Epoch 72, Validation MAE Loss: 71.31292242255093\n",
      "Fold 5, Epoch 73, Validation MAE Loss: 71.31119694985634\n",
      "Fold 5, Epoch 74, Validation MAE Loss: 71.31014456630739\n",
      "Fold 5, Epoch 75, Validation MAE Loss: 71.31325061262146\n",
      "Fold 5, Epoch 76, Validation MAE Loss: 71.30145676668025\n",
      "Fold 5, Epoch 77, Validation MAE Loss: 71.29147985158873\n",
      "Fold 5, Epoch 78, Validation MAE Loss: 71.2934060530229\n",
      "Fold 5, Epoch 79, Validation MAE Loss: 71.28954888966457\n",
      "Fold 5, Epoch 80, Validation MAE Loss: 71.28260219983818\n",
      "Fold 5, Epoch 81, Validation MAE Loss: 71.2784329248854\n",
      "Fold 5, Epoch 82, Validation MAE Loss: 71.27542877197266\n",
      "Fold 5, Epoch 83, Validation MAE Loss: 71.27662021857648\n",
      "Fold 5, Epoch 84, Validation MAE Loss: 71.27082178415345\n",
      "Fold 5, Epoch 85, Validation MAE Loss: 71.26827876823992\n",
      "Fold 5, Epoch 86, Validation MAE Loss: 71.26906872583815\n",
      "Fold 5, Epoch 87, Validation MAE Loss: 71.26266873572483\n",
      "Fold 5, Epoch 88, Validation MAE Loss: 71.26448985958888\n",
      "Fold 5, Epoch 89, Validation MAE Loss: 71.26397169128923\n",
      "Fold 5, Epoch 90, Validation MAE Loss: 71.26270584232552\n",
      "Fold 5, Epoch 91, Validation MAE Loss: 71.25564389189412\n",
      "Fold 5, Epoch 92, Validation MAE Loss: 71.250362900663\n",
      "Fold 5, Epoch 93, Validation MAE Loss: 71.24901114219476\n",
      "Fold 5, Epoch 94, Validation MAE Loss: 71.24946260058191\n",
      "Fold 5, Epoch 95, Validation MAE Loss: 71.24391934103217\n",
      "Fold 5, Epoch 96, Validation MAE Loss: 71.24332377536238\n",
      "Fold 5, Epoch 97, Validation MAE Loss: 71.2519231748975\n",
      "Fold 5, Epoch 98, Validation MAE Loss: 71.249721779311\n",
      "Fold 5, Epoch 99, Validation MAE Loss: 71.24643868060151\n",
      "Fold 5, Epoch 100, Validation MAE Loss: 71.24802045585696\n",
      "Fold 5, Epoch 101, Validation MAE Loss: 71.24709833949065\n",
      "Fold 5, Epoch 102, Validation MAE Loss: 71.24959334066091\n",
      "Fold 5, Epoch 103, Validation MAE Loss: 71.24552917480469\n",
      "Fold 5, Epoch 104, Validation MAE Loss: 71.24682847330394\n",
      "Fold 5, Epoch 105, Validation MAE Loss: 71.2479668609367\n",
      "Fold 5, Epoch 106, Validation MAE Loss: 71.2444923337826\n",
      "Early stopping triggered\n",
      "Early stopping triggered at epoch 106\n",
      "Average Validation MAE Loss across folds: 72.76431720197694\n"
     ]
    }
   ],
   "source": [
    "def cross_validate_model(X, y, n_splits=5, epochs=50, batch_size=64, epsilon=0.1):\n",
    "    # Divide the test set\n",
    "    X_train_val, X_test, y_train_val, y_test = train_test_split(X, y, test_size=0.2, random_state=42)\n",
    "\n",
    "    # K-Fold\n",
    "    kf = KFold(n_splits=n_splits, shuffle=True, random_state=42)\n",
    "    fold = 0\n",
    "    all_val_losses = []\n",
    "\n",
    "    for train_index, val_index in kf.split(X_train_val):\n",
    "        fold += 1\n",
    "        print(f\"Starting fold {fold}\")\n",
    "        \n",
    "        # Split Data\n",
    "        X_train, X_val = X_train_val[train_index], X_train_val[val_index]\n",
    "        y_train, y_val = y_train_val[train_index], y_train_val[val_index]\n",
    "        \n",
    "        # Create Data Loader\n",
    "        train_dataset = TensorDataset(torch.tensor(X_train, dtype=torch.float32), torch.tensor(y_train, dtype=torch.float32))\n",
    "        val_dataset = TensorDataset(torch.tensor(X_val, dtype=torch.float32), torch.tensor(y_val, dtype=torch.float32))\n",
    "        \n",
    "        train_loader = DataLoader(train_dataset, batch_size=batch_size, shuffle=True)\n",
    "        val_loader = DataLoader(val_dataset, batch_size=batch_size, shuffle=False)\n",
    "        \n",
    "        # Initialize the model and optimizer\n",
    "        device = torch.device(\"cuda\" if torch.cuda.is_available() else \"cpu\")\n",
    "        model = SVR(n_features=X_train.shape[1]).to(device)\n",
    "        optimizer = optim.SGD(model.parameters(), lr=0.01, weight_decay=0.01)\n",
    "        early_stopping = EarlyStopping(patience=10, verbose=True)\n",
    "        \n",
    "        # Training model\n",
    "        for epoch in range(epochs):\n",
    "            model.train()\n",
    "            for data, target in train_loader:\n",
    "                data, target = data.to(device), target.to(device)\n",
    "                optimizer.zero_grad()\n",
    "                output = model(data)\n",
    "                loss = epsilon_insensitive_loss(output, target, epsilon)\n",
    "                loss.backward()\n",
    "                optimizer.step()\n",
    "\n",
    "            model.eval()\n",
    "            val_loss = 0\n",
    "            with torch.no_grad():\n",
    "                for data, target in val_loader:\n",
    "                    data, target = data.to(device), target.to(device)\n",
    "                    output = model(data)\n",
    "                    val_loss += epsilon_insensitive_loss(output, target, epsilon).item()\n",
    "            val_loss /= len(val_loader)\n",
    "\n",
    "            print(f'Fold {fold}, Epoch {epoch+1}, Validation MAE Loss: {val_loss}')\n",
    "            \n",
    "            early_stopping(val_loss)\n",
    "            \n",
    "            if early_stopping.early_stop:\n",
    "                print(f\"Early stopping triggered at epoch {epoch+1}\")\n",
    "                break\n",
    "\n",
    "        all_val_losses.append(val_loss)\n",
    "\n",
    "    print(f'Average Validation MAE Loss across folds: {np.mean(all_val_losses)}')\n",
    "\n",
    "# Call cross_validate_model\n",
    "cross_validate_model(df_transformed, y, n_splits=5, epochs=1000)"
   ]
  },
  {
   "cell_type": "code",
   "execution_count": 27,
   "id": "26178974",
   "metadata": {
    "execution": {
     "iopub.execute_input": "2024-04-20T12:26:49.299227Z",
     "iopub.status.busy": "2024-04-20T12:26:49.298824Z",
     "iopub.status.idle": "2024-04-20T12:26:49.304414Z",
     "shell.execute_reply": "2024-04-20T12:26:49.303388Z"
    },
    "papermill": {
     "duration": 0.077148,
     "end_time": "2024-04-20T12:26:49.306826",
     "exception": false,
     "start_time": "2024-04-20T12:26:49.229678",
     "status": "completed"
    },
    "tags": []
   },
   "outputs": [],
   "source": [
    "# def train_model(model, train_loader, epochs=1000, epsilon=0.1):\n",
    "#     model.train() \n",
    "#     for epoch in range(epochs):\n",
    "#         total_loss = 0 \n",
    "#         for data, target in train_loader:\n",
    "#             optimizer.zero_grad()\n",
    "#             output = model(data)\n",
    "#             loss = epsilon_insensitive_loss(output, target, epsilon)\n",
    "#             loss.backward()  \n",
    "#             optimizer.step() \n",
    "#             total_loss += loss.item() \n",
    "#         if (epoch + 1) % 10 == 0:\n",
    "#             average_loss = total_loss / len(train_loader)\n",
    "#             print(f'Epoch {epoch+1}, Average Loss: {average_loss}')"
   ]
  },
  {
   "cell_type": "code",
   "execution_count": 28,
   "id": "53e992d7",
   "metadata": {
    "execution": {
     "iopub.execute_input": "2024-04-20T12:26:49.446356Z",
     "iopub.status.busy": "2024-04-20T12:26:49.445922Z",
     "iopub.status.idle": "2024-04-20T12:26:49.452060Z",
     "shell.execute_reply": "2024-04-20T12:26:49.450989Z"
    },
    "papermill": {
     "duration": 0.080149,
     "end_time": "2024-04-20T12:26:49.454442",
     "exception": false,
     "start_time": "2024-04-20T12:26:49.374293",
     "status": "completed"
    },
    "tags": []
   },
   "outputs": [],
   "source": [
    "# def train_model(model, train_loader, val_loader, optimizer, epochs=float('inf'), epsilon=0.1):\n",
    "#     early_stopping = EarlyStopping(patience=10, verbose=True)\n",
    "    \n",
    "#     epoch = 0\n",
    "#     while not early_stopping.early_stop and epoch < epochs:\n",
    "#         model.train()\n",
    "#         for data, target in train_loader:\n",
    "#             optimizer.zero_grad()\n",
    "#             output = model(data)\n",
    "#             loss = epsilon_insensitive_loss(output, target, epsilon)\n",
    "#             loss.backward()\n",
    "#             optimizer.step()\n",
    "\n",
    "#         model.eval()\n",
    "#         val_loss = 0\n",
    "#         with torch.no_grad():\n",
    "#             for data, target in val_loader:\n",
    "#                 output = model(data)\n",
    "#                 val_loss += epsilon_insensitive_loss(output, target, epsilon).item()\n",
    "#         val_loss /= len(val_loader)\n",
    "\n",
    "#         print(f'Epoch {epoch+1}, Validation Loss: {val_loss}')\n",
    "#         early_stopping(val_loss)\n",
    "        \n",
    "#         epoch += 1\n",
    "\n",
    "#     if epoch >= epochs:\n",
    "#         print(\"Reached maximum number of epochs\")"
   ]
  },
  {
   "cell_type": "code",
   "execution_count": 29,
   "id": "ac1d5f73",
   "metadata": {
    "execution": {
     "iopub.execute_input": "2024-04-20T12:26:49.593089Z",
     "iopub.status.busy": "2024-04-20T12:26:49.592705Z",
     "iopub.status.idle": "2024-04-20T12:26:49.597583Z",
     "shell.execute_reply": "2024-04-20T12:26:49.596361Z"
    },
    "papermill": {
     "duration": 0.077809,
     "end_time": "2024-04-20T12:26:49.600090",
     "exception": false,
     "start_time": "2024-04-20T12:26:49.522281",
     "status": "completed"
    },
    "tags": []
   },
   "outputs": [],
   "source": [
    "# train_model(model, train_loader, val_loader, optimizer)"
   ]
  },
  {
   "cell_type": "markdown",
   "id": "01d3a414",
   "metadata": {
    "papermill": {
     "duration": 0.067534,
     "end_time": "2024-04-20T12:26:49.737482",
     "exception": false,
     "start_time": "2024-04-20T12:26:49.669948",
     "status": "completed"
    },
    "tags": []
   },
   "source": [
    "# Test Results"
   ]
  },
  {
   "cell_type": "code",
   "execution_count": 30,
   "id": "1ecf19f5",
   "metadata": {
    "execution": {
     "iopub.execute_input": "2024-04-20T12:26:49.879043Z",
     "iopub.status.busy": "2024-04-20T12:26:49.877633Z",
     "iopub.status.idle": "2024-04-20T12:26:49.885592Z",
     "shell.execute_reply": "2024-04-20T12:26:49.884456Z"
    },
    "papermill": {
     "duration": 0.082343,
     "end_time": "2024-04-20T12:26:49.888443",
     "exception": false,
     "start_time": "2024-04-20T12:26:49.806100",
     "status": "completed"
    },
    "tags": []
   },
   "outputs": [],
   "source": [
    "def predict(model, test_loader):\n",
    "    model.eval() \n",
    "    predictions = []\n",
    "    with torch.no_grad():  \n",
    "        for data in test_loader:\n",
    "            inputs = data[0]\n",
    "            outputs = model(inputs)\n",
    "            predictions.append(outputs)\n",
    "\n",
    "    predictions = torch.cat(predictions).view(-1)\n",
    "    return predictions"
   ]
  },
  {
   "cell_type": "code",
   "execution_count": 31,
   "id": "ca4dd6fc",
   "metadata": {
    "execution": {
     "iopub.execute_input": "2024-04-20T12:26:50.026218Z",
     "iopub.status.busy": "2024-04-20T12:26:50.025835Z",
     "iopub.status.idle": "2024-04-20T12:26:50.131725Z",
     "shell.execute_reply": "2024-04-20T12:26:50.130654Z"
    },
    "papermill": {
     "duration": 0.177509,
     "end_time": "2024-04-20T12:26:50.134557",
     "exception": false,
     "start_time": "2024-04-20T12:26:49.957048",
     "status": "completed"
    },
    "tags": []
   },
   "outputs": [],
   "source": [
    "model_predictions = predict(model, test_loader)"
   ]
  },
  {
   "cell_type": "code",
   "execution_count": 32,
   "id": "40b3f691",
   "metadata": {
    "execution": {
     "iopub.execute_input": "2024-04-20T12:26:50.271410Z",
     "iopub.status.busy": "2024-04-20T12:26:50.271009Z",
     "iopub.status.idle": "2024-04-20T12:26:50.278227Z",
     "shell.execute_reply": "2024-04-20T12:26:50.277099Z"
    },
    "papermill": {
     "duration": 0.078483,
     "end_time": "2024-04-20T12:26:50.280871",
     "exception": false,
     "start_time": "2024-04-20T12:26:50.202388",
     "status": "completed"
    },
    "tags": []
   },
   "outputs": [
    {
     "name": "stdout",
     "output_type": "stream",
     "text": [
      "Sample predictions: [-0.34753338 -0.28925037 -0.7854697  -0.4648336   0.13523602 -0.51134485\n",
      "  0.61820215 -0.23744822 -0.21481884 -0.15018833]\n"
     ]
    }
   ],
   "source": [
    "predictions_np = model_predictions.numpy()\n",
    "print(\"Sample predictions:\", predictions_np[:10])"
   ]
  },
  {
   "cell_type": "code",
   "execution_count": 33,
   "id": "773ef467",
   "metadata": {
    "execution": {
     "iopub.execute_input": "2024-04-20T12:26:50.419975Z",
     "iopub.status.busy": "2024-04-20T12:26:50.419507Z",
     "iopub.status.idle": "2024-04-20T12:26:50.425756Z",
     "shell.execute_reply": "2024-04-20T12:26:50.424587Z"
    },
    "papermill": {
     "duration": 0.077906,
     "end_time": "2024-04-20T12:26:50.428077",
     "exception": false,
     "start_time": "2024-04-20T12:26:50.350171",
     "status": "completed"
    },
    "tags": []
   },
   "outputs": [],
   "source": [
    "# Define MSE & MAE\n",
    "def mean_squared_error(predictions, targets):\n",
    "    return ((predictions - targets) ** 2).mean()\n",
    "\n",
    "def mean_absolute_error(predictions, targets):\n",
    "    return torch.abs(predictions - targets).mean()"
   ]
  },
  {
   "cell_type": "code",
   "execution_count": 34,
   "id": "5d1dabdd",
   "metadata": {
    "execution": {
     "iopub.execute_input": "2024-04-20T12:26:50.565775Z",
     "iopub.status.busy": "2024-04-20T12:26:50.565413Z",
     "iopub.status.idle": "2024-04-20T12:26:50.573499Z",
     "shell.execute_reply": "2024-04-20T12:26:50.572284Z"
    },
    "papermill": {
     "duration": 0.079638,
     "end_time": "2024-04-20T12:26:50.575851",
     "exception": false,
     "start_time": "2024-04-20T12:26:50.496213",
     "status": "completed"
    },
    "tags": []
   },
   "outputs": [],
   "source": [
    "def evaluate_model(model, test_loader):\n",
    "    model.eval() \n",
    "    predictions, actuals = [], []\n",
    "    with torch.no_grad():  \n",
    "        for data, target in test_loader:\n",
    "            output = model(data)\n",
    "            predictions.append(output)\n",
    "            actuals.append(target)\n",
    "    \n",
    "    predictions = torch.cat(predictions).view(-1)\n",
    "    actuals = torch.cat(actuals).view(-1)\n",
    "    \n",
    "    mse = mean_squared_error(predictions, actuals)\n",
    "    mae = mean_absolute_error(predictions, actuals)\n",
    "    print(f'Mean Squared Error: {mse.item()}')\n",
    "    print(f'Mean Absolute Error: {mae.item()}')\n",
    "\n",
    "    return mse, mae"
   ]
  },
  {
   "cell_type": "code",
   "execution_count": 35,
   "id": "3527334e",
   "metadata": {
    "execution": {
     "iopub.execute_input": "2024-04-20T12:26:50.714763Z",
     "iopub.status.busy": "2024-04-20T12:26:50.713933Z",
     "iopub.status.idle": "2024-04-20T12:26:50.840257Z",
     "shell.execute_reply": "2024-04-20T12:26:50.838988Z"
    },
    "papermill": {
     "duration": 0.197752,
     "end_time": "2024-04-20T12:26:50.842719",
     "exception": false,
     "start_time": "2024-04-20T12:26:50.644967",
     "status": "completed"
    },
    "tags": []
   },
   "outputs": [
    {
     "name": "stdout",
     "output_type": "stream",
     "text": [
      "Mean Squared Error: 64818.10546875\n",
      "Mean Absolute Error: 228.34461975097656\n"
     ]
    },
    {
     "data": {
      "text/plain": [
       "(tensor(64818.1055), tensor(228.3446))"
      ]
     },
     "execution_count": 35,
     "metadata": {},
     "output_type": "execute_result"
    }
   ],
   "source": [
    "evaluate_model(model, test_loader)"
   ]
  },
  {
   "cell_type": "markdown",
   "id": "9e0dea44",
   "metadata": {
    "papermill": {
     "duration": 0.067449,
     "end_time": "2024-04-20T12:26:50.978148",
     "exception": false,
     "start_time": "2024-04-20T12:26:50.910699",
     "status": "completed"
    },
    "tags": []
   },
   "source": [
    "# *MLP* Model"
   ]
  },
  {
   "cell_type": "code",
   "execution_count": 36,
   "id": "a4cd8053",
   "metadata": {
    "execution": {
     "iopub.execute_input": "2024-04-20T12:26:51.117081Z",
     "iopub.status.busy": "2024-04-20T12:26:51.116408Z",
     "iopub.status.idle": "2024-04-20T12:26:51.126310Z",
     "shell.execute_reply": "2024-04-20T12:26:51.125156Z"
    },
    "papermill": {
     "duration": 0.082041,
     "end_time": "2024-04-20T12:26:51.128671",
     "exception": false,
     "start_time": "2024-04-20T12:26:51.046630",
     "status": "completed"
    },
    "tags": []
   },
   "outputs": [],
   "source": [
    "class MLP(nn.Module):\n",
    "    def __init__(self, input_dim):\n",
    "        super(MLP, self).__init__()\n",
    "        self.fc1 = nn.Linear(input_dim, 128)\n",
    "        self.relu1 = nn.ReLU()\n",
    "        self.fc2 = nn.Linear(128, 64)\n",
    "        self.relu2 = nn.ReLU()\n",
    "        self.fc3 = nn.Linear(64, 32)\n",
    "        self.relu3 = nn.ReLU()\n",
    "        self.output = nn.Linear(32, 1)\n",
    "\n",
    "    def forward(self, x):\n",
    "        x = self.relu1(self.fc1(x))\n",
    "        x = self.relu2(self.fc2(x))\n",
    "        x = self.relu3(self.fc3(x))\n",
    "        x = self.output(x)\n",
    "        return x"
   ]
  },
  {
   "cell_type": "code",
   "execution_count": 37,
   "id": "e6a522be",
   "metadata": {
    "execution": {
     "iopub.execute_input": "2024-04-20T12:26:51.268160Z",
     "iopub.status.busy": "2024-04-20T12:26:51.267190Z",
     "iopub.status.idle": "2024-04-20T12:26:51.274533Z",
     "shell.execute_reply": "2024-04-20T12:26:51.273589Z"
    },
    "papermill": {
     "duration": 0.079876,
     "end_time": "2024-04-20T12:26:51.277121",
     "exception": false,
     "start_time": "2024-04-20T12:26:51.197245",
     "status": "completed"
    },
    "tags": []
   },
   "outputs": [],
   "source": [
    "model = MLP(input_dim=X_train.shape[1])\n",
    "criterion = nn.MSELoss()\n",
    "optimizer = optim.Adam(model.parameters(), lr=0.001)"
   ]
  },
  {
   "cell_type": "code",
   "execution_count": 38,
   "id": "1d37d486",
   "metadata": {
    "execution": {
     "iopub.execute_input": "2024-04-20T12:26:51.416860Z",
     "iopub.status.busy": "2024-04-20T12:26:51.416467Z",
     "iopub.status.idle": "2024-04-20T12:28:25.151770Z",
     "shell.execute_reply": "2024-04-20T12:28:25.150630Z"
    },
    "papermill": {
     "duration": 93.808122,
     "end_time": "2024-04-20T12:28:25.154441",
     "exception": false,
     "start_time": "2024-04-20T12:26:51.346319",
     "status": "completed"
    },
    "tags": []
   },
   "outputs": [
    {
     "name": "stdout",
     "output_type": "stream",
     "text": [
      "Epoch 1, Loss: 4263.29150390625, Validation Loss: 5116.182807972889\n",
      "Epoch 2, Loss: 3039.880859375, Validation Loss: 4792.951577698158\n",
      "Epoch 3, Loss: 7859.39404296875, Validation Loss: 4617.658693831488\n",
      "Epoch 4, Loss: 9376.5361328125, Validation Loss: 4526.36857958661\n",
      "Epoch 5, Loss: 3842.170654296875, Validation Loss: 4440.412131202142\n",
      "Epoch 6, Loss: 7597.98828125, Validation Loss: 4417.735941703746\n",
      "Epoch 7, Loss: 4567.775390625, Validation Loss: 4375.025369606271\n",
      "Epoch 8, Loss: 3286.752197265625, Validation Loss: 4339.327806485409\n",
      "Epoch 9, Loss: 8059.08642578125, Validation Loss: 4329.955806504811\n",
      "Epoch 10, Loss: 7014.14892578125, Validation Loss: 4386.869558574348\n",
      "Epoch 11, Loss: 3866.2578125, Validation Loss: 4364.108936031923\n",
      "Epoch 12, Loss: 4484.16552734375, Validation Loss: 4301.726308658423\n",
      "Epoch 13, Loss: 5343.14404296875, Validation Loss: 4304.50725146161\n",
      "Epoch 14, Loss: 4136.52392578125, Validation Loss: 4453.713024821503\n",
      "Epoch 15, Loss: 3895.381103515625, Validation Loss: 4333.017507793098\n",
      "Epoch 16, Loss: 8051.3125, Validation Loss: 4297.880561070727\n",
      "Epoch 17, Loss: 5185.06982421875, Validation Loss: 4283.31952995654\n",
      "Epoch 18, Loss: 4673.94384765625, Validation Loss: 4268.428867769557\n",
      "Epoch 19, Loss: 4601.2099609375, Validation Loss: 4295.441656049514\n",
      "Epoch 20, Loss: 3343.509765625, Validation Loss: 4262.116892429377\n",
      "Epoch 21, Loss: 3209.955810546875, Validation Loss: 4254.793132049358\n",
      "Epoch 22, Loss: 11344.720703125, Validation Loss: 4285.10200227649\n",
      "Epoch 23, Loss: 3912.141845703125, Validation Loss: 4351.196588175187\n",
      "Epoch 24, Loss: 5925.89306640625, Validation Loss: 4264.9119978140525\n",
      "Epoch 25, Loss: 7285.94580078125, Validation Loss: 4258.981155092353\n",
      "Epoch 26, Loss: 2529.07763671875, Validation Loss: 4236.847476782388\n",
      "Epoch 27, Loss: 1812.818603515625, Validation Loss: 4248.5093800121585\n",
      "Epoch 28, Loss: 3518.507568359375, Validation Loss: 4234.330478289269\n",
      "Epoch 29, Loss: 4995.63427734375, Validation Loss: 4204.092868021782\n",
      "Epoch 30, Loss: 3834.1806640625, Validation Loss: 4241.062920374586\n",
      "Epoch 31, Loss: 3371.609619140625, Validation Loss: 4223.651544229874\n",
      "Epoch 32, Loss: 2529.99169921875, Validation Loss: 4207.426275998551\n",
      "Epoch 33, Loss: 3252.8759765625, Validation Loss: 4249.551049643005\n",
      "Epoch 34, Loss: 6416.9462890625, Validation Loss: 4188.31345231012\n",
      "Epoch 35, Loss: 4144.7685546875, Validation Loss: 4178.88725553601\n",
      "Epoch 36, Loss: 4074.275146484375, Validation Loss: 4177.30100275507\n",
      "Epoch 37, Loss: 5090.09326171875, Validation Loss: 4177.9020599971545\n",
      "Epoch 38, Loss: 2582.2177734375, Validation Loss: 4158.284267804481\n",
      "Epoch 39, Loss: 6456.400390625, Validation Loss: 4177.633521477907\n",
      "Epoch 40, Loss: 2156.537841796875, Validation Loss: 4174.466109724234\n",
      "Epoch 41, Loss: 5707.83544921875, Validation Loss: 4128.883152841732\n",
      "Epoch 42, Loss: 2467.253173828125, Validation Loss: 4152.251406638038\n",
      "Epoch 43, Loss: 2740.29736328125, Validation Loss: 4179.2867746921565\n",
      "Epoch 44, Loss: 6010.638671875, Validation Loss: 4121.024863539942\n",
      "Epoch 45, Loss: 6507.927734375, Validation Loss: 4119.457736994257\n",
      "Epoch 46, Loss: 5718.76904296875, Validation Loss: 4126.593157433516\n",
      "Epoch 47, Loss: 7074.9775390625, Validation Loss: 4329.622370233599\n",
      "Epoch 48, Loss: 5117.833984375, Validation Loss: 4133.229245621637\n",
      "Epoch 49, Loss: 1778.44580078125, Validation Loss: 4154.230606180153\n",
      "Epoch 50, Loss: 4174.22314453125, Validation Loss: 4095.437263943502\n",
      "Epoch 51, Loss: 4866.79052734375, Validation Loss: 4098.931639816587\n",
      "Epoch 52, Loss: 3821.811279296875, Validation Loss: 4147.263983922289\n",
      "Epoch 53, Loss: 3533.610595703125, Validation Loss: 4098.936618021782\n",
      "Epoch 54, Loss: 5177.10009765625, Validation Loss: 4096.776009060689\n",
      "Epoch 55, Loss: 2529.52197265625, Validation Loss: 4101.763072841215\n",
      "Epoch 56, Loss: 3120.653076171875, Validation Loss: 4115.46899575745\n",
      "Epoch 57, Loss: 1881.739013671875, Validation Loss: 4065.2271243468026\n",
      "Epoch 58, Loss: 5698.67138671875, Validation Loss: 4102.159053575124\n",
      "Epoch 59, Loss: 3203.220458984375, Validation Loss: 4116.998082445158\n",
      "Epoch 60, Loss: 9185.5673828125, Validation Loss: 4090.132816542063\n",
      "Epoch 61, Loss: 7418.6689453125, Validation Loss: 4072.113034684137\n",
      "Epoch 62, Loss: 2646.2490234375, Validation Loss: 4090.1256459217198\n",
      "Epoch 63, Loss: 2288.7138671875, Validation Loss: 4087.4408419779593\n",
      "Epoch 64, Loss: 1938.50537109375, Validation Loss: 4104.464556763503\n",
      "Epoch 65, Loss: 3100.97607421875, Validation Loss: 4042.357878628156\n",
      "Epoch 66, Loss: 2458.89794921875, Validation Loss: 4050.1336847772664\n",
      "Epoch 67, Loss: 4533.74267578125, Validation Loss: 4100.663498227959\n",
      "Epoch 68, Loss: 2750.823974609375, Validation Loss: 4124.84354385477\n",
      "Epoch 69, Loss: 4462.076171875, Validation Loss: 4044.369706513866\n",
      "Epoch 70, Loss: 7850.3037109375, Validation Loss: 4155.1335053096545\n",
      "Epoch 71, Loss: 2110.325927734375, Validation Loss: 4146.148095541443\n",
      "Epoch 72, Loss: 2885.81201171875, Validation Loss: 4101.336057145075\n",
      "Epoch 73, Loss: 1575.8072509765625, Validation Loss: 4059.5673617937705\n",
      "Epoch 74, Loss: 4968.33544921875, Validation Loss: 4044.8595342572953\n",
      "Epoch 75, Loss: 3728.07763671875, Validation Loss: 4091.1258617679014\n",
      "Early stopping triggered\n",
      "Early stopping\n"
     ]
    }
   ],
   "source": [
    "early_stopping = EarlyStopping(patience=10, verbose=True)\n",
    "num_epochs = 1000\n",
    "for epoch in range(num_epochs):\n",
    "    model.train()\n",
    "    for inputs, targets in train_loader:\n",
    "        optimizer.zero_grad()\n",
    "        outputs = model(inputs)\n",
    "        loss = criterion(outputs, targets.unsqueeze(1))\n",
    "        loss.backward()\n",
    "        optimizer.step()\n",
    "\n",
    "    model.eval()\n",
    "    val_loss = 0\n",
    "    with torch.no_grad():\n",
    "        for inputs, targets in val_loader:\n",
    "            outputs = model(inputs)\n",
    "            val_loss += criterion(outputs, targets.unsqueeze(1)).item()\n",
    "    val_loss = val_loss / len(val_loader)\n",
    "    \n",
    "    print(f\"Epoch {epoch+1}, Loss: {loss.item()}, Validation Loss: {val_loss}\")\n",
    "    \n",
    "    early_stopping(val_loss)\n",
    "    if early_stopping.early_stop:\n",
    "        print(\"Early stopping\")\n",
    "        break"
   ]
  },
  {
   "cell_type": "code",
   "execution_count": 39,
   "id": "a9849f3d",
   "metadata": {
    "execution": {
     "iopub.execute_input": "2024-04-20T12:28:25.307232Z",
     "iopub.status.busy": "2024-04-20T12:28:25.306832Z",
     "iopub.status.idle": "2024-04-20T12:28:25.448656Z",
     "shell.execute_reply": "2024-04-20T12:28:25.447578Z"
    },
    "papermill": {
     "duration": 0.222182,
     "end_time": "2024-04-20T12:28:25.451727",
     "exception": false,
     "start_time": "2024-04-20T12:28:25.229545",
     "status": "completed"
    },
    "tags": []
   },
   "outputs": [],
   "source": [
    "model_predictions = predict(model, test_loader)"
   ]
  },
  {
   "cell_type": "code",
   "execution_count": 40,
   "id": "95e1187a",
   "metadata": {
    "execution": {
     "iopub.execute_input": "2024-04-20T12:28:25.607022Z",
     "iopub.status.busy": "2024-04-20T12:28:25.606635Z",
     "iopub.status.idle": "2024-04-20T12:28:25.612721Z",
     "shell.execute_reply": "2024-04-20T12:28:25.611748Z"
    },
    "papermill": {
     "duration": 0.086749,
     "end_time": "2024-04-20T12:28:25.615414",
     "exception": false,
     "start_time": "2024-04-20T12:28:25.528665",
     "status": "completed"
    },
    "tags": []
   },
   "outputs": [
    {
     "name": "stdout",
     "output_type": "stream",
     "text": [
      "Sample predictions: [117.98955 172.23955 183.67625 146.82478 155.35838 117.97767 334.01215\n",
      " 234.28828 196.42772 111.69868]\n"
     ]
    }
   ],
   "source": [
    "predictions_np = model_predictions.numpy()\n",
    "print(\"Sample predictions:\", predictions_np[:10])"
   ]
  },
  {
   "cell_type": "code",
   "execution_count": 41,
   "id": "29207752",
   "metadata": {
    "execution": {
     "iopub.execute_input": "2024-04-20T12:28:25.768052Z",
     "iopub.status.busy": "2024-04-20T12:28:25.767652Z",
     "iopub.status.idle": "2024-04-20T12:28:25.912202Z",
     "shell.execute_reply": "2024-04-20T12:28:25.910858Z"
    },
    "papermill": {
     "duration": 0.224311,
     "end_time": "2024-04-20T12:28:25.915130",
     "exception": false,
     "start_time": "2024-04-20T12:28:25.690819",
     "status": "completed"
    },
    "tags": []
   },
   "outputs": [
    {
     "name": "stdout",
     "output_type": "stream",
     "text": [
      "Mean Squared Error: 4101.18115234375\n",
      "Mean Absolute Error: 46.808841705322266\n"
     ]
    },
    {
     "data": {
      "text/plain": [
       "(tensor(4101.1812), tensor(46.8088))"
      ]
     },
     "execution_count": 41,
     "metadata": {},
     "output_type": "execute_result"
    }
   ],
   "source": [
    "evaluate_model(model, test_loader)"
   ]
  }
 ],
 "metadata": {
  "kaggle": {
   "accelerator": "none",
   "dataSources": [
    {
     "datasetId": 2894281,
     "sourceId": 4990113,
     "sourceType": "datasetVersion"
    }
   ],
   "dockerImageVersionId": 30684,
   "isGpuEnabled": false,
   "isInternetEnabled": true,
   "language": "python",
   "sourceType": "notebook"
  },
  "kernelspec": {
   "display_name": "Python 3",
   "language": "python",
   "name": "python3"
  },
  "language_info": {
   "codemirror_mode": {
    "name": "ipython",
    "version": 3
   },
   "file_extension": ".py",
   "mimetype": "text/x-python",
   "name": "python",
   "nbconvert_exporter": "python",
   "pygments_lexer": "ipython3",
   "version": "3.10.13"
  },
  "papermill": {
   "default_parameters": {},
   "duration": 509.02461,
   "end_time": "2024-04-20T12:28:27.419467",
   "environment_variables": {},
   "exception": null,
   "input_path": "__notebook__.ipynb",
   "output_path": "__notebook__.ipynb",
   "parameters": {},
   "start_time": "2024-04-20T12:19:58.394857",
   "version": "2.5.0"
  }
 },
 "nbformat": 4,
 "nbformat_minor": 5
}
